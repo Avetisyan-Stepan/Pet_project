{
 "cells": [
  {
   "cell_type": "markdown",
   "metadata": {
    "toc": true
   },
   "source": [
    "<h1>Table of Contents<span class=\"tocSkip\"></span></h1>\n",
    "<div class=\"toc\"><ul class=\"toc-item\"><li><span><a href=\"#Предобработка-данных\" data-toc-modified-id=\"Предобработка-данных-1\"><span class=\"toc-item-num\">1&nbsp;&nbsp;</span>Предобработка данных</a></span><ul class=\"toc-item\"><li><span><a href=\"#Загрузить-файлы-с-данными-и-изучить-общую-информацию\" data-toc-modified-id=\"Загрузить-файлы-с-данными-и-изучить-общую-информацию-1.1\"><span class=\"toc-item-num\">1.1&nbsp;&nbsp;</span>Загрузить файлы с данными и изучить общую информацию</a></span></li></ul></li><li><span><a href=\"#Подготовить-данные\" data-toc-modified-id=\"Подготовить-данные-2\"><span class=\"toc-item-num\">2&nbsp;&nbsp;</span>Подготовить данные</a></span><ul class=\"toc-item\"><li><ul class=\"toc-item\"><li><span><a href=\"#Приведем-названия-столбцов-датасетов-к--корректому-стилю\" data-toc-modified-id=\"Приведем-названия-столбцов-датасетов-к--корректому-стилю-2.0.1\"><span class=\"toc-item-num\">2.0.1&nbsp;&nbsp;</span>Приведем названия столбцов датасетов к  корректому стилю</a></span></li><li><span><a href=\"#Проверим-датасеты-на-предмет-пропусков-и-дубликататов,-откорректируем-при-необходимости\" data-toc-modified-id=\"Проверим-датасеты-на-предмет-пропусков-и-дубликататов,-откорректируем-при-необходимости-2.0.2\"><span class=\"toc-item-num\">2.0.2&nbsp;&nbsp;</span>Проверим датасеты на предмет пропусков и дубликататов, откорректируем при необходимости</a></span></li><li><span><a href=\"#Исследуем-соответствие-типов-данных-столбцов-датасетов,-приведем-к-нужному-типу\" data-toc-modified-id=\"Исследуем-соответствие-типов-данных-столбцов-датасетов,-приведем-к-нужному-типу-2.0.3\"><span class=\"toc-item-num\">2.0.3&nbsp;&nbsp;</span>Исследуем соответствие типов данных столбцов датасетов, приведем к нужному типу</a></span></li><li><span><a href=\"#Создадим-отдельный-столбец-с-датой-без-времени\" data-toc-modified-id=\"Создадим-отдельный-столбец-с-датой-без-времени-2.0.4\"><span class=\"toc-item-num\">2.0.4&nbsp;&nbsp;</span>Создадим отдельный столбец с датой без времени</a></span></li><li><span><a href=\"#Объединим-в-столбце-с-данными-о-событиях-&quot;event.name&quot;-события-contacts_show-=-show_contacts,-search_1-=-search_7\" data-toc-modified-id=\"Объединим-в-столбце-с-данными-о-событиях-&quot;event.name&quot;-события-contacts_show-=-show_contacts,-search_1-=-search_7-2.0.5\"><span class=\"toc-item-num\">2.0.5&nbsp;&nbsp;</span>Объединим в столбце с данными о событиях \"event.name\" события contacts_show = show_contacts, search_1 = search_7</a></span></li></ul></li></ul></li><li><span><a href=\"#Исследовательский-анализ-данных\" data-toc-modified-id=\"Исследовательский-анализ-данных-3\"><span class=\"toc-item-num\">3&nbsp;&nbsp;</span>Исследовательский анализ данных</a></span><ul class=\"toc-item\"><li><span><a href=\"#Данными-за-какой-период-располагаем?-Найдем-максимальную-и-минимальную-дату.\" data-toc-modified-id=\"Данными-за-какой-период-располагаем?-Найдем-максимальную-и-минимальную-дату.-3.1\"><span class=\"toc-item-num\">3.1&nbsp;&nbsp;</span>Данными за какой период располагаем? Найдем максимальную и минимальную дату.</a></span></li><li><span><a href=\"#Построим-гистограмму-по-дате-и-времени,-проверим-данные-на-полноту\" data-toc-modified-id=\"Построим-гистограмму-по-дате-и-времени,-проверим-данные-на-полноту-3.2\"><span class=\"toc-item-num\">3.2&nbsp;&nbsp;</span>Построим гистограмму по дате и времени, проверим данные на полноту</a></span></li><li><span><a href=\"#Сколько-всего-пользователей-и--событий-в-логе?\" data-toc-modified-id=\"Сколько-всего-пользователей-и--событий-в-логе?-3.3\"><span class=\"toc-item-num\">3.3&nbsp;&nbsp;</span>Сколько всего пользователей и  событий в логе?</a></span></li><li><span><a href=\"#Сколько-пользователей-совершали-каждое-из-этих-событий?\" data-toc-modified-id=\"Сколько-пользователей-совершали-каждое-из-этих-событий?-3.4\"><span class=\"toc-item-num\">3.4&nbsp;&nbsp;</span>Сколько пользователей совершали каждое из этих событий?</a></span></li><li><span><a href=\"#Сколько-в-среднем-событий-приходится-на-пользователя?\" data-toc-modified-id=\"Сколько-в-среднем-событий-приходится-на-пользователя?-3.5\"><span class=\"toc-item-num\">3.5&nbsp;&nbsp;</span>Сколько в среднем событий приходится на пользователя?</a></span></li></ul></li><li><span><a href=\"#Сегментирование-пользователей-на-основе-действий\" data-toc-modified-id=\"Сегментирование-пользователей-на-основе-действий-4\"><span class=\"toc-item-num\">4&nbsp;&nbsp;</span>Сегментирование пользователей на основе действий</a></span><ul class=\"toc-item\"><li><span><a href=\"#сколько-времени-пользователи-проводят-в-приложении?\" data-toc-modified-id=\"сколько-времени-пользователи-проводят-в-приложении?-4.1\"><span class=\"toc-item-num\">4.1&nbsp;&nbsp;</span>сколько времени пользователи проводят в приложении?</a></span></li><li><span><a href=\"#сколько-проходит-времени-с-момента-первого-использования-мобильного-приложения-и-до-использования-функции-поиска,-пользователями-по-группам-на-основе-времени?\" data-toc-modified-id=\"сколько-проходит-времени-с-момента-первого-использования-мобильного-приложения-и-до-использования-функции-поиска,-пользователями-по-группам-на-основе-времени?-4.2\"><span class=\"toc-item-num\">4.2&nbsp;&nbsp;</span>сколько проходит времени с момента первого использования мобильного приложения и до использования функции поиска, пользователями по группам на основе времени?</a></span></li><li><span><a href=\"#Какие-пользователи-склонны-возвращаться-в-мобильное-приложение?\" data-toc-modified-id=\"Какие-пользователи-склонны-возвращаться-в-мобильное-приложение?-4.3\"><span class=\"toc-item-num\">4.3&nbsp;&nbsp;</span>Какие пользователи склонны возвращаться в мобильное приложение?</a></span></li><li><span><a href=\"#Конверсия-в-целевое-действие-—-просмотр-контактов\" data-toc-modified-id=\"Конверсия-в-целевое-действие-—-просмотр-контактов-4.4\"><span class=\"toc-item-num\">4.4&nbsp;&nbsp;</span>Конверсия в целевое действие — просмотр контактов</a></span></li></ul></li><li><span><a href=\"#Провести-статистические-гипотезы:\" data-toc-modified-id=\"Провести-статистические-гипотезы:-5\"><span class=\"toc-item-num\">5&nbsp;&nbsp;</span>Провести статистические гипотезы:</a></span></li></ul></div>"
   ]
  },
  {
   "cell_type": "markdown",
   "metadata": {},
   "source": [
    " "
   ]
  },
  {
   "cell_type": "markdown",
   "metadata": {},
   "source": [
    "# Описание проекта"
   ]
  },
  {
   "cell_type": "markdown",
   "metadata": {},
   "source": [
    "    Цель исследования - выделение групп пользователей мобильного приложения на основе их поведения, в приложении пользователи продают свои ненужные вещи, размещая их на доске объявлений. \n",
    "    Проводимое исследование позволит получить максимально полное представление о том, как используется приложение.\n",
    "    \n",
    "Задачи для исследования:\n",
    "- Провести исследовательский анализ данных\n",
    "- Сегментировать пользователей на основе действий\n",
    "    1. retention rate,\n",
    "    2. время, проведённое в приложении, \n",
    "    3. частота действий, \n",
    "    4. конверсия в целевое действие — просмотр контактов.\n",
    "- Проверить статистические гипотезы:\n",
    "    1. Гипотеза 1: Некоторые пользователи установили приложение по ссылке из `yandex`, другие  пользователи из `google`. Проверить гипотезу: две эти группы демонстрируют разную конверсию в просмотры контактов.\n",
    "    2. Гипотеза 2: Конверсии в просмотры контактов между теми пользователями, которые смотрят и не смотрят фото, различаются.\n",
    "\n",
    "     "
   ]
  },
  {
   "cell_type": "markdown",
   "metadata": {},
   "source": [
    "##   Предобработка данных"
   ]
  },
  {
   "cell_type": "markdown",
   "metadata": {},
   "source": [
    "### Загрузить файлы с данными и изучить общую информацию"
   ]
  },
  {
   "cell_type": "code",
   "execution_count": null,
   "metadata": {},
   "outputs": [],
   "source": [
    "# импорт библиотек\n",
    "import pandas as pd\n",
    "import numpy as np\n",
    "import re\n",
    "from scipy import stats as st\n",
    "from datetime import datetime, timedelta\n",
    "import math as mth\n",
    "import plotly.express as px\n",
    "from plotly import graph_objects as go\n",
    "import seaborn as sns\n",
    "import matplotlib.pyplot as plt"
   ]
  },
  {
   "cell_type": "code",
   "execution_count": null,
   "metadata": {},
   "outputs": [],
   "source": [
    "# чтение файлов с данными\n",
    "mobile_sourсes, mobile_dataset = (\n",
    "    pd.read_csv('https://code.s3.yandex.net/datasets/mobile_soures.csv'),\n",
    "    pd.read_csv('https://code.s3.yandex.net/datasets/mobile_dataset.csv')\n",
    ")"
   ]
  },
  {
   "cell_type": "code",
   "execution_count": null,
   "metadata": {},
   "outputs": [],
   "source": [
    "# выделим название датасетов и сами датасеты \n",
    "data = [('mobile_sourсes', mobile_sourсes), ('mobile_dataset', mobile_dataset)]"
   ]
  },
  {
   "cell_type": "code",
   "execution_count": null,
   "metadata": {},
   "outputs": [],
   "source": [
    "# выведем первые 5 строк таблиц \n",
    "for i, j in data:\n",
    "    display('Таблица {}:'.format(i), j.head())"
   ]
  },
  {
   "cell_type": "code",
   "execution_count": null,
   "metadata": {},
   "outputs": [],
   "source": [
    "# количество строк и столбцов\n",
    "for i, j in data:\n",
    "    display('Количество строк и столбцов в {}:'.format(i), j.shape)"
   ]
  },
  {
   "cell_type": "code",
   "execution_count": null,
   "metadata": {
    "scrolled": false
   },
   "outputs": [],
   "source": [
    "# уникальные значения таблиц\n",
    "for i, j in data:\n",
    "    for row in j: \n",
    "        display('Таблица {}'.format(i), '{}'.format(row), j[row].value_counts())"
   ]
  },
  {
   "cell_type": "code",
   "execution_count": null,
   "metadata": {},
   "outputs": [],
   "source": [
    "# общая информация о файлах данных таблиц\n",
    "for i, j in data:\n",
    "    display('Общая информация {}:'.format(i), j.info())   "
   ]
  },
  {
   "cell_type": "markdown",
   "metadata": {},
   "source": [
    "# Выводы"
   ]
  },
  {
   "cell_type": "markdown",
   "metadata": {},
   "source": [
    "В распоряжении датасеты содержащие данные о событиях, совершенных в мобильном приложении \"Ненужные вещи\". \n",
    "- mobile_sourсes - 2 столбца с типом данных object, в датасете 4293 строк\n",
    "- mobile_dataset - 3 столбца с типомданных object, в датасете 74197 строк\n",
    "В датасете mobile_dataset содержатся данные пользователей, впервые совершивших действия в приложении после 7 октября 2019 года.\n",
    "\n",
    "Датасет mobile_dataset.csv содержит столбцы:\n",
    "`event.time` — время совершения\n",
    "`event.name` — название события\n",
    "`user.id` — идентификатор пользователя\n",
    "\n",
    "Датасет mobile_sources.csv содержит столбцы:\n",
    "`userId` — идентификатор пользователя\n",
    "`source` — источник, с которого пользователь установил приложение\n",
    "\n",
    "Расшифровки событий `event.name`:\n",
    "`advert_open` — открытие карточки объявления\n",
    "`photos_show` — просмотр фотографий в объявлении\n",
    "`tips_show` — пользователь увидел рекомендованные объявления\n",
    "`tips_click` — пользователь кликнул по рекомендованному объявлению\n",
    "`contacts_show` и `show_contacts` — пользователь нажал на кнопку \"посмотреть номер телефона\" на карточке объявления\n",
    "`contacts_call` — пользователь позвонил по номеру телефона на карточке объявления\n",
    "`map` — пользователь открыл карту размещенных объявлений\n",
    "`search_1` — `search_7` — разные события, связанные с поиском по сайту\n",
    "`favorites_add` — добавление объявления в избранное\n",
    "\n",
    "Необходимо:\n",
    "- привести название столбцов датасетов к нужному стилю\n",
    "- проверить данные на дубликаты и пропуски\n",
    "- привести данные к нужному типу данных\n",
    "- объединить в столбце с данными о событиях \"event.name\" события contacts_show = show_contacts, search_1 = search_7"
   ]
  },
  {
   "cell_type": "markdown",
   "metadata": {},
   "source": [
    "## Подготовить данные"
   ]
  },
  {
   "cell_type": "markdown",
   "metadata": {},
   "source": [
    "#### Приведем названия столбцов датасетов к  корректому стилю"
   ]
  },
  {
   "cell_type": "code",
   "execution_count": null,
   "metadata": {
    "scrolled": true
   },
   "outputs": [],
   "source": [
    "# приведем к змеиному регистру столбцы таблиц\n",
    "for df in [mobile_sourсes, mobile_dataset]:\n",
    "    df.columns = [re.sub(r'(?<!^=[A-Z])(?=[A-Z])|\\.', '_', name).lower() \n",
    "              for name in df.columns.tolist()]\n",
    "    display(df.columns)                           "
   ]
  },
  {
   "cell_type": "markdown",
   "metadata": {},
   "source": [
    "#### Проверим датасеты на предмет пропусков и дубликататов, откорректируем при необходимости "
   ]
  },
  {
   "cell_type": "code",
   "execution_count": null,
   "metadata": {
    "scrolled": true
   },
   "outputs": [],
   "source": [
    "# проверка на дубликаты\n",
    "for i, j in data:\n",
    "    display('Наличие дубликатов в {}:'.format(i), j.duplicated().sum())"
   ]
  },
  {
   "cell_type": "markdown",
   "metadata": {},
   "source": [
    "дубликаты не обнаружены"
   ]
  },
  {
   "cell_type": "code",
   "execution_count": null,
   "metadata": {
    "scrolled": true
   },
   "outputs": [],
   "source": [
    "# проверка на пропущенные значения\n",
    "for i, j in data:\n",
    "    display('Пропущенные значения в {}:'.format(i), j.isna().sum())"
   ]
  },
  {
   "cell_type": "markdown",
   "metadata": {},
   "source": [
    "пропущенных значений в таблицах нет"
   ]
  },
  {
   "cell_type": "markdown",
   "metadata": {},
   "source": [
    "#### Исследуем соответствие типов данных столбцов датасетов, приведем к нужному типу"
   ]
  },
  {
   "cell_type": "code",
   "execution_count": null,
   "metadata": {
    "scrolled": true
   },
   "outputs": [],
   "source": [
    "# тип данных таблиц\n",
    "for i, j in data:\n",
    "    display('Тип данных в {}:'.format(i), j.dtypes)"
   ]
  },
  {
   "cell_type": "markdown",
   "metadata": {},
   "source": [
    "в датасетах только один тип данных object, для данных о времени датасета mobile_dataset заменим на временной, для остальных столбцов датасетов тип данных корректен"
   ]
  },
  {
   "cell_type": "code",
   "execution_count": null,
   "metadata": {},
   "outputs": [],
   "source": [
    "# приведем тип данных времени с объект на временной\n",
    "mobile_dataset['event_time']=pd.to_datetime(mobile_dataset['event_time'])\n",
    "mobile_dataset['event_time']"
   ]
  },
  {
   "cell_type": "markdown",
   "metadata": {},
   "source": [
    "#### Создадим отдельный столбец с датой без времени"
   ]
  },
  {
   "cell_type": "code",
   "execution_count": null,
   "metadata": {},
   "outputs": [],
   "source": [
    "# создадим отдельный столбец с датой без времени\n",
    "mobile_dataset['dt']=pd.to_datetime(mobile_dataset['event_time']).dt.date\n",
    "mobile_dataset['dt']"
   ]
  },
  {
   "cell_type": "code",
   "execution_count": null,
   "metadata": {},
   "outputs": [],
   "source": [
    "# создадим отдельный столбец данные о времени по часам\n",
    "mobile_dataset['hour'] = pd.to_datetime(mobile_dataset['event_time']).dt.hour\n",
    "mobile_dataset['hour']"
   ]
  },
  {
   "cell_type": "code",
   "execution_count": null,
   "metadata": {
    "scrolled": true
   },
   "outputs": [],
   "source": [
    "# создадим отдельный столбец данные о времени по неделям\n",
    "mobile_dataset['week_index'] = mobile_dataset['event_time'].dt.dayofweek\n",
    "mobile_dataset['week_index'].value_counts()"
   ]
  },
  {
   "cell_type": "code",
   "execution_count": null,
   "metadata": {
    "scrolled": true
   },
   "outputs": [],
   "source": [
    "# создадим отдельный столбец данные о времени по неделям\n",
    "mobile_dataset['week'] = mobile_dataset['event_time'].dt.day_name()\n",
    "mobile_dataset['week'].value_counts()"
   ]
  },
  {
   "cell_type": "code",
   "execution_count": null,
   "metadata": {},
   "outputs": [],
   "source": [
    "# создадим отдельный столбец данные о времени по дням \n",
    "df['day']=pd.to_datetime(df['event_time']).dt.day\n",
    "df['day']"
   ]
  },
  {
   "cell_type": "code",
   "execution_count": null,
   "metadata": {},
   "outputs": [],
   "source": [
    "# создадим отдельный столбец данные о времени минутам\n",
    "df['minute']=pd.to_datetime(df['event_time']).dt.minute\n",
    "df['minute']"
   ]
  },
  {
   "cell_type": "markdown",
   "metadata": {},
   "source": [
    "#### Объединим в столбце с данными о событиях \"event.name\" события contacts_show = show_contacts, search_1 = search_7"
   ]
  },
  {
   "cell_type": "code",
   "execution_count": null,
   "metadata": {},
   "outputs": [],
   "source": [
    "# объеденим одинаковые события пользователь нажал на кнопку \"посмотреть номер телефона\" \n",
    "# на карточке объявления\n",
    "mobile_dataset.loc[mobile_dataset['event_name']=='show_contacts', 'event_name'] = 'contacts_show'"
   ]
  },
  {
   "cell_type": "code",
   "execution_count": null,
   "metadata": {},
   "outputs": [],
   "source": [
    "# объеденим одинаковые события search - разные события, связанные с поиском по сайту\n",
    "for row in ['search_1','search_2','search_3','search_4','search_5','search_6','search_7']:\n",
    "    mobile_dataset.loc[mobile_dataset['event_name']==row, 'event_name'] = 'search'"
   ]
  },
  {
   "cell_type": "markdown",
   "metadata": {},
   "source": [
    "# Выводы"
   ]
  },
  {
   "cell_type": "markdown",
   "metadata": {},
   "source": [
    "- данные подготовлены для дальнейшего анализа\n",
    "- созданы отдельные столбцы с данными о времени по часам и дням недели"
   ]
  },
  {
   "cell_type": "markdown",
   "metadata": {},
   "source": [
    "##  Исследовательский анализ данных"
   ]
  },
  {
   "cell_type": "markdown",
   "metadata": {},
   "source": [
    "###  Данными за какой период располагаем? Найдем максимальную и минимальную дату."
   ]
  },
  {
   "cell_type": "code",
   "execution_count": null,
   "metadata": {},
   "outputs": [],
   "source": [
    "# период данных в наличии\n",
    "print(np.max(mobile_dataset['event_time']) - np.min(mobile_dataset['event_time']))"
   ]
  },
  {
   "cell_type": "markdown",
   "metadata": {},
   "source": [
    "в наличии данные почти за 28 дней"
   ]
  },
  {
   "cell_type": "code",
   "execution_count": null,
   "metadata": {},
   "outputs": [],
   "source": [
    "# определим доступный интервал привлечения пользователей\n",
    "print('с', np.min(mobile_dataset['event_time']),'по', np.max(mobile_dataset['event_time']))"
   ]
  },
  {
   "cell_type": "markdown",
   "metadata": {},
   "source": [
    "временной отрезок с 2019-10-07  по 2019-11-03"
   ]
  },
  {
   "cell_type": "markdown",
   "metadata": {},
   "source": [
    "### Построим гистограмму по дате и времени, проверим данные на полноту"
   ]
  },
  {
   "cell_type": "code",
   "execution_count": null,
   "metadata": {},
   "outputs": [],
   "source": [
    "# создадим общую функцию для гистограмм\n",
    "def chart(fig, title,yaxis_title,xaxis_title):\n",
    "    fig = fig\n",
    "    fig.update_layout(\n",
    "    width=850,\n",
    "    height=450,\n",
    "    title=title,\n",
    "    yaxis_title=yaxis_title,\n",
    "    xaxis_title=xaxis_title\n",
    "    )\n",
    "    fig.show()"
   ]
  },
  {
   "cell_type": "code",
   "execution_count": null,
   "metadata": {
    "scrolled": false
   },
   "outputs": [],
   "source": [
    "# гистограмма по дате и времени\n",
    "chart(px.histogram(mobile_dataset, x=\"event_time\"),\n",
    "      'Гистограмма по дате и времени',\n",
    "      'Частота',\n",
    "      'Дата')"
   ]
  },
  {
   "cell_type": "markdown",
   "metadata": {},
   "source": [
    "данные у нас полные, но есть регулярные промежутки времени с очень маленькой активностью поьзователей, посморим на это распределение детально с помощью тепловой карты по часам"
   ]
  },
  {
   "cell_type": "code",
   "execution_count": null,
   "metadata": {},
   "outputs": [],
   "source": [
    "# создадим общую функцию для тепловой карты событий\n",
    "def heatmap(data, title,fmt, figsize):\n",
    "    plt.figure(figsize=(figsize)) \n",
    "    plt.title(title)\n",
    "    ax=sns.heatmap(data, annot=True, fmt=fmt, cmap= 'coolwarm')\n",
    "    ax.tick_params(right=True, top=True,  labeltop=True);"
   ]
  },
  {
   "cell_type": "code",
   "execution_count": null,
   "metadata": {
    "scrolled": true
   },
   "outputs": [],
   "source": [
    "# построим таблицу heatmap для визуализации активности пользователей по дате и часам\n",
    "date_time = mobile_dataset.groupby(['dt', 'hour']).agg({'user_id':'nunique'}).reset_index()\n",
    "heatmap(date_time.pivot('dt', 'hour', 'user_id'), 'Активность пользователей по дате и часам\\n', '', (15,8))"
   ]
  },
  {
   "cell_type": "markdown",
   "metadata": {},
   "source": [
    "наблюдаем снижение активности в промежутке с 12 до 7 утра, пик приходится на с 2 ночи до 6 утра, в этот промежуток есть периоды с нулевой активностью, возможно в это время проводятся технические работы на сайте или пользователи просто спят, активность наблюдается в дневное время, но есть дни где активность в течении дня очень низкая,  посмотрим распределение событий по дням недели"
   ]
  },
  {
   "cell_type": "code",
   "execution_count": null,
   "metadata": {},
   "outputs": [],
   "source": [
    "# тепловая карта событий по дням недели\n",
    "week_event_pivot=(mobile_dataset.pivot_table(index='event_name', columns='week',\n",
    "                                     values='user_id', aggfunc='nunique')\n",
    "       .reindex(columns=['Monday', 'Tuesday', 'Wednesday', 'Thursday', 'Friday', 'Saturday','Sunday'])\n",
    "                 )\n",
    "heatmap(week_event_pivot, 'Активность пользователей по событиям в течении недели\\n', '', (15,7))"
   ]
  },
  {
   "cell_type": "markdown",
   "metadata": {},
   "source": [
    "по большей части событий чуть большую активность по поиску наблюдаем в понедельник и среду, возможно пользователи в понедельник начинают активничать после выходных, а среда середина недели, было время продумать свои планы, просмотр фотографий в объявлении приходится на выходные дни, пик целевого события приходится на среду, посмотрим как влияет время на выбор событий по часам"
   ]
  },
  {
   "cell_type": "code",
   "execution_count": null,
   "metadata": {
    "scrolled": false
   },
   "outputs": [],
   "source": [
    "# тепловая карта событий по часам\n",
    "week_event_pivot_hour = mobile_dataset.pivot_table(index='event_name', columns='hour',\n",
    "                                                   values='user_id', aggfunc='nunique')\n",
    "heatmap(week_event_pivot_hour, 'Активность пользователей по событиям  и часам\\n', '', (15,8))"
   ]
  },
  {
   "cell_type": "markdown",
   "metadata": {},
   "source": [
    "по карте сразу видно, что пользователи не используют целевое событие в ночное время, есть только единичные случаи, наибольшая активность по событиям наблюдается в дневное время с высокой активностью между 11 и 23 часами и пиком между 13 и 17 часами "
   ]
  },
  {
   "cell_type": "markdown",
   "metadata": {},
   "source": [
    "### Сколько всего пользователей и  событий в логе?"
   ]
  },
  {
   "cell_type": "code",
   "execution_count": null,
   "metadata": {
    "scrolled": true
   },
   "outputs": [],
   "source": [
    "# количество пользователей в логе\n",
    "mobile_dataset['user_id'].nunique()"
   ]
  },
  {
   "cell_type": "markdown",
   "metadata": {},
   "source": [
    "всего 4293 уникальных пользователя"
   ]
  },
  {
   "cell_type": "code",
   "execution_count": null,
   "metadata": {
    "scrolled": false
   },
   "outputs": [],
   "source": [
    "# посчитаем сколько всего событий и количество типов событий\n",
    "mobile_dataset['event_name'].agg({'count','nunique'})"
   ]
  },
  {
   "cell_type": "markdown",
   "metadata": {},
   "source": [
    "всего 74197 события и 9 типов этих событий"
   ]
  },
  {
   "cell_type": "code",
   "execution_count": null,
   "metadata": {},
   "outputs": [],
   "source": [
    "# посчитаем количество событий и их долю\n",
    "event_name_value=pd.concat([mobile_dataset.groupby('event_name')['user_id'].count(),\\\n",
    "                 mobile_dataset.groupby('event_name')['user_id'].count()/\n",
    "                           mobile_dataset['user_id'].count()], axis=1)\n",
    "event_name_value.columns=['count', 'ratio']\n",
    "event_name_value.sort_values(by='ratio', ascending=False)\\\n",
    "        .style.format({'ratio':'{:.2%}'}).background_gradient(cmap='Blues', axis=0)"
   ]
  },
  {
   "cell_type": "markdown",
   "metadata": {},
   "source": [
    "если рассматривать события, то почти 54 % занимает событие tips_show пользователь увидел рекомендованные объявления, такой большое количество из-за того, что чобытие показывается всем пользователям автоматически и не зависит от его действий, photos_show более 13%, search поиск по сайту search 9%, по целевому событию contacts_call пользователь позвонил по номеру телефона на карточке объявленияи не доходит до 1% "
   ]
  },
  {
   "cell_type": "code",
   "execution_count": null,
   "metadata": {},
   "outputs": [],
   "source": [
    "# создадим общую функцию для графиков по событиям\n",
    "def bar(data, title):\n",
    "    fig = px.bar(\n",
    "        data, x='event_name', y='user_id', \n",
    "        color='user_id', text='user_id',\n",
    "        )\n",
    "    fig.update_layout(\n",
    "        width=750,\n",
    "        height=400,\n",
    "        title=title,\n",
    "        xaxis_title='События',\n",
    "        yaxis_title='Количество пользователей',\n",
    "\n",
    "        )\n",
    "    fig.show()"
   ]
  },
  {
   "cell_type": "code",
   "execution_count": null,
   "metadata": {
    "scrolled": false
   },
   "outputs": [],
   "source": [
    "# визуализируем расчет\n",
    "event_name_value=mobile_dataset.pivot_table(\n",
    "    index= 'event_name', values= 'user_id', aggfunc= 'count')\\\n",
    ".sort_values(by='user_id', ascending=False).reset_index()\n",
    "bar(event_name_value, 'График событий совершивших пользователями')"
   ]
  },
  {
   "cell_type": "markdown",
   "metadata": {},
   "source": [
    "график визуализирует расчет выше, событие tips_show имеет больше всего событий, пользователи использовали его не один раз"
   ]
  },
  {
   "cell_type": "markdown",
   "metadata": {},
   "source": [
    "### Сколько пользователей совершали каждое из этих событий?"
   ]
  },
  {
   "cell_type": "markdown",
   "metadata": {},
   "source": [
    "посчитаем события исключив событие tips_show пользователь увидел рекомендованные объявления, событие показывается всем пользователям автоматически и не зависит от его действий"
   ]
  },
  {
   "cell_type": "code",
   "execution_count": null,
   "metadata": {
    "scrolled": true
   },
   "outputs": [],
   "source": [
    "# сколько пользователей совершали каждое из этих событий\n",
    "event_user_nunique=pd.concat([mobile_dataset.query('event_name !=\"tips_show\"')\\\n",
    "                               .groupby('event_name')['user_id'].nunique(),\\\n",
    "                      mobile_dataset.query('event_name !=\"tips_show\"')\\\n",
    "                               .groupby('event_name')['user_id'].nunique()/\n",
    "                     mobile_dataset['user_id'].nunique()], axis=1)\n",
    "event_user_nunique.columns=['count', 'ratio']\n",
    "event_user_nunique.sort_values(by='ratio', ascending=False).style\\\n",
    "          .format({'ratio':'{:.2%}'}).background_gradient(cmap='Blues', axis=0)"
   ]
  },
  {
   "cell_type": "markdown",
   "metadata": {},
   "source": [
    "лидирует вполне логичное событие поиск search  более 38%, \tmap более 33% и только почти 5% пользователей позвонили по номеру телефона на карточке объявления"
   ]
  },
  {
   "cell_type": "code",
   "execution_count": null,
   "metadata": {
    "scrolled": false
   },
   "outputs": [],
   "source": [
    "# визуализируем расчет\n",
    "event_name=mobile_dataset.query('event_name !=\"tips_show\"').pivot_table(\n",
    "    index= 'event_name', values= 'user_id', aggfunc= 'nunique')\\\n",
    ".sort_values(by='user_id', ascending=False).reset_index()\n",
    "bar(event_name, 'График событий совершивших каждым из пользователей')"
   ]
  },
  {
   "cell_type": "markdown",
   "metadata": {},
   "source": [
    "по графику видно, что событие поиск search используют чаще всего"
   ]
  },
  {
   "cell_type": "markdown",
   "metadata": {},
   "source": [
    "### Сколько в среднем событий приходится на пользователя?"
   ]
  },
  {
   "cell_type": "code",
   "execution_count": null,
   "metadata": {
    "scrolled": false
   },
   "outputs": [],
   "source": [
    "# количество событий для каждого пользователя в статистической сводке\n",
    "mobile_dataset.groupby('user_id')['event_name'].count().describe().round(0)"
   ]
  },
  {
   "cell_type": "markdown",
   "metadata": {},
   "source": [
    "в среднем приодится 17 событий, по медиане 9, различия на лицо, что говорит о выбросах"
   ]
  },
  {
   "cell_type": "code",
   "execution_count": null,
   "metadata": {},
   "outputs": [],
   "source": [
    "# визуализируем расчет выше\n",
    "user=mobile_dataset.groupby('user_id')['event_name'].count()\n",
    "chart(px.box(user, y=\"event_name\", points=\"all\", log_y=True),\n",
    "      'Среднее количество событий на одного пользователя',\n",
    "      'Количество пользователей',\n",
    "     '')"
   ]
  },
  {
   "cell_type": "markdown",
   "metadata": {},
   "source": [
    "По интерквартильному размаху видно, что медиана расположена достаточно низко, это из-за выбросов с большим количеством событий на одного пользователя. В среднем приходится 9 событий на одного пользователя. Посмотрим на распрделение пользователей с помощью гарфика разброса, картина станет отчетливей."
   ]
  },
  {
   "cell_type": "code",
   "execution_count": null,
   "metadata": {
    "scrolled": true
   },
   "outputs": [],
   "source": [
    "# посчитаем количество событий для каждого пользователя\n",
    "user_events=mobile_dataset.pivot_table(index='user_id', values='event_name', aggfunc='count')\n",
    "user_events.columns = ['event_count']\n",
    "user_events.sort_values(by='event_count', ascending=False).reset_index() #.style.background_gradient(cmap='Blues', axis=0)"
   ]
  },
  {
   "cell_type": "markdown",
   "metadata": {},
   "source": [
    "на каждого пользователя приходится от 1 до 478 событий, в выгрузку попали пользователи аномальным количеством событий, возможно это из-за среза или ошибка выгрузки, посмотрим на них"
   ]
  },
  {
   "cell_type": "code",
   "execution_count": null,
   "metadata": {
    "scrolled": false
   },
   "outputs": [],
   "source": [
    "# распределение количества событий на пользователя\n",
    "chart(px.scatter(y=user_events[\"event_count\"], color=user_events[\"event_count\"]),\n",
    "     'Распределение количества событий на пользователя',\n",
    "      'Количество событий',\n",
    "     'Пользователи')"
   ]
  },
  {
   "cell_type": "markdown",
   "metadata": {},
   "source": [
    "по графику отчетливо видны пользователи с аномально высоким количеством событий, возможно причиной этих точечных аномалий является ошибка выгрузки данных, основная масса пользователей сосредоточена в районе примерно 50 событий, хотя и там есть выбросы, но уже в меньшем количестве, посмотрим сколько таких пользователей "
   ]
  },
  {
   "cell_type": "code",
   "execution_count": null,
   "metadata": {
    "scrolled": true
   },
   "outputs": [],
   "source": [
    "# объеденим седения о количестве событий на пользователя с основным датасетом\n",
    "mobile_dataset = mobile_dataset.merge(user_events, on='user_id')\n",
    "mobile_dataset.head(2)"
   ]
  },
  {
   "cell_type": "code",
   "execution_count": null,
   "metadata": {
    "scrolled": true
   },
   "outputs": [],
   "source": [
    "# посмотрим на пользователя с с самым большим количеством событий\n",
    "mobile_dataset.query('user_id == \"cb36854f-570a-41f4-baa8-36680b396370\"')[\"dt\"].nunique()"
   ]
  },
  {
   "cell_type": "markdown",
   "metadata": {},
   "source": [
    "у этого пользователя события в течении 14 дней"
   ]
  },
  {
   "cell_type": "code",
   "execution_count": null,
   "metadata": {},
   "outputs": [],
   "source": [
    "# посмотрим на пользователя с с самым большим количеством событий\n",
    "mobile_dataset.query('user_id == \"cb36854f-570a-41f4-baa8-36680b396370\"')[:20]"
   ]
  },
  {
   "cell_type": "markdown",
   "metadata": {},
   "source": [
    "видим многократно повторяющиеся одинаковые события в один день с разницой в доли секунд и несколько минут, возможно это техническая ошибка записи"
   ]
  },
  {
   "cell_type": "code",
   "execution_count": null,
   "metadata": {},
   "outputs": [],
   "source": [
    "# создадаим функцию для определения границ аномальности по перцентилям не более 10%\n",
    "def percentile(df, column):\n",
    "    ten=np.percentile(df[column], [90])[0]\n",
    "    five = np.percentile(df[column], [95])[0]\n",
    "    one = np.percentile(df[column], [99])[0]\n",
    "    print(\n",
    "        '10% пользователей событий {:.0f}\\n\\n'\n",
    "        '5% пользователей событий {:.0f}\\n\\n'\n",
    "        '1% пользователей событий {:.0f}'.format(ten, five, one))"
   ]
  },
  {
   "cell_type": "code",
   "execution_count": null,
   "metadata": {
    "scrolled": true
   },
   "outputs": [],
   "source": [
    "# количество событий по функции\n",
    "percentile(user_events, 'event_count')"
   ]
  },
  {
   "cell_type": "markdown",
   "metadata": {},
   "source": [
    "для удаления выбросов будет статистически значимо более 10%, выберем 5% пользователей с количеством событий не более 59, так как 10% будет уже критично "
   ]
  },
  {
   "cell_type": "code",
   "execution_count": null,
   "metadata": {
    "scrolled": false
   },
   "outputs": [],
   "source": [
    "# посмотрим какие события у этих пользователей и сколько времени они провели в приложении\n",
    "(mobile_dataset.query('event_count == 1')[['event_name', 'event_time']].value_counts()\n",
    "               .to_frame().style.background_gradient(cmap='Blues', axis=0)\n",
    ")"
   ]
  },
  {
   "cell_type": "markdown",
   "metadata": {},
   "source": [
    "пользователи в основном из поисковых событий, также вырисовывается очень странная картина, пользователи потратили на одно событие в основном часы времени, возможно это связано с ошибкой выгрузки или пользователи открыли страницу в мобильном приложении и она находилась в фоновом режиме. "
   ]
  },
  {
   "cell_type": "code",
   "execution_count": null,
   "metadata": {
    "scrolled": true
   },
   "outputs": [],
   "source": [
    "# посчитаем количество пользователей с одним событием\n",
    "print('Количество пользователей: {:.0f}'.format(\n",
    "    mobile_dataset.reset_index().query('event_count == 1')['user_id'].nunique()))\n",
    "print('Доля событий = 1: {:.2%}'.format(\n",
    "    mobile_dataset.query('event_count == 1')['event_count'].count()/mobile_dataset['user_id'].nunique()))"
   ]
  },
  {
   "cell_type": "markdown",
   "metadata": {},
   "source": [
    "доля таких пользователей составляет более 1.5%, что не много"
   ]
  },
  {
   "cell_type": "code",
   "execution_count": null,
   "metadata": {
    "scrolled": true
   },
   "outputs": [],
   "source": [
    "# удалим аномальных пользователей с 1 событием и с событиями больше 59\n",
    "mobile_dataset_new=mobile_dataset.query('event_count <= 59 & event_count != 1').reset_index(drop=True)\n",
    "mobile_dataset_new['event_count'].sort_values().unique()"
   ]
  },
  {
   "cell_type": "code",
   "execution_count": null,
   "metadata": {},
   "outputs": [],
   "source": [
    "# посчтиаем сколько пользователей и их долю мы потеряли, а также сколько пользователей осталось\n",
    "print('Количество потерянных пользователей: {:.0f}'\\\n",
    "                                  .format(mobile_dataset.reset_index()['user_id'].nunique()-\n",
    "                                          mobile_dataset_new['user_id'].nunique()\n",
    "                                          ))\n",
    "print('Доля потерянных пользователей: {:.1%}'\\\n",
    "                          .format(1-mobile_dataset_new['user_id'].nunique()/\n",
    "                                  mobile_dataset.reset_index()['user_id'].nunique()))\n",
    "print('Количество пользователей: {:.0f}'\\\n",
    "                                  .format(mobile_dataset_new['user_id'].nunique()))"
   ]
  },
  {
   "cell_type": "markdown",
   "metadata": {},
   "source": [
    "всего было удалено данных c 275 пользователей, что вполне допустимо и статистически не значимо"
   ]
  },
  {
   "cell_type": "markdown",
   "metadata": {},
   "source": [
    "# Выводы"
   ]
  },
  {
   "cell_type": "markdown",
   "metadata": {},
   "source": [
    "- в распоряжении временной отрезок с 2019-10-07 по 2019-11-03\n",
    "- в наличии данные почти за 28 дней\n",
    "- всего 4293 уникальных пользователя\n",
    "- всего 74197 события и 9 типов этих событий\n",
    "- если рассматривать события, то почти 54 % занимает событие tips_show пользователь увидел рекомендованные объявления, такой большое количество из-за того, что чобытие показывается всем пользователям автоматически и не зависит от его действий, photos_show более 13%, search поиск по сайту search 9%, по целевому событию contacts_call пользователь позвонил по номеру телефона на карточке объявленияи не доходит до 1% \n",
    "- лидирует вполне логичное событие поиск search  более 38%, map более 33% и только почти 5% пользователей позвонили по номеру телефона на карточке объявления\n",
    "- в среднем приодится 17 событий, по медиане 9, различия на лицо, что говорит о выбросах\n",
    "- на каждого пользователя приходится от 1 до 478 событий, в выгрузку попали пользователи аномальным количеством событий, возможно это из-за среза или ошибка выгрузки\n",
    "- всего было удалено данных c 275 пользователей, тех у кого 1 событие с анаомальным временем и тех у кого событий больше 59"
   ]
  },
  {
   "cell_type": "markdown",
   "metadata": {},
   "source": [
    "## Сегментирование пользователей на основе действий"
   ]
  },
  {
   "cell_type": "code",
   "execution_count": null,
   "metadata": {},
   "outputs": [],
   "source": [
    "# объеденим датасеты по пользователям\n",
    "df = mobile_dataset_new.merge(mobile_sourсes, on='user_id')"
   ]
  },
  {
   "cell_type": "code",
   "execution_count": null,
   "metadata": {
    "scrolled": true
   },
   "outputs": [],
   "source": [
    "# посчитаем количество клиентов по source\n",
    "source=pd.concat([df.groupby('source')['user_id'].nunique(),\\\n",
    "                 df.groupby('source')['user_id'].nunique()/\n",
    "                 df['user_id'].nunique()], axis=1)\n",
    "source.columns=['count', 'ratio']\n",
    "source.sort_values(by='ratio',  ascending=False)\\\n",
    "    .style.format({'ratio':'{:.1%}'}).background_gradient(cmap='Blues', axis=0)"
   ]
  },
  {
   "cell_type": "code",
   "execution_count": null,
   "metadata": {},
   "outputs": [],
   "source": [
    "# распределение количества пользователей по источникам привлечения\n",
    "chart(go.Figure(data=[go.Pie(labels=df.groupby('source')['user_id'].nunique().index,\n",
    "                             values=df.groupby('source')['user_id'].nunique())]),      \n",
    "      'График доли пользователей в группах', '','')"
   ]
  },
  {
   "cell_type": "markdown",
   "metadata": {},
   "source": [
    "судя по источнику, с которого пользователь установил приложение, больше всего пользователей с yandex 45%, из google и других источников значения близки 26% и 28.7% соотвественно"
   ]
  },
  {
   "cell_type": "code",
   "execution_count": null,
   "metadata": {
    "scrolled": false
   },
   "outputs": [],
   "source": [
    "# посмотрим, сколько событий у пользователя и сколько раз он попал в группу\n",
    "event_name_sourse=df.pivot_table(index='user_id', values=['source','event_name'],\n",
    "                                 aggfunc='nunique').value_counts().reset_index() \n",
    "event_name_sourse['ratio']=event_name_sourse[0]/df['user_id'].nunique()\n",
    "event_name_sourse=event_name_sourse.rename(columns={0: 'user'})\n",
    "event_name_sourse.sort_values(by='ratio',  ascending=False)\\\n",
    "                     .style.format({'ratio':'{:.1%}'})\\\n",
    "                    .background_gradient(cmap='Blues', axis=0) \n"
   ]
  },
  {
   "cell_type": "markdown",
   "metadata": {},
   "source": [
    "все уникальные пользователи из одного источника, также видим, что у почти 40%  пользоватлей 2 уникальных события, 1 уникальное событие у 27% и 3 уникальных события у 22%, получается,что в основном у пользовтелей не больше 3 событий "
   ]
  },
  {
   "cell_type": "markdown",
   "metadata": {},
   "source": [
    "сегментирую пользователей на 2 группы по медиане событий, она у нас равна 9 на пользователя, разделим на  2 группы, пользователи у которых количество событий больше медианы и соответственно меньше медианы"
   ]
  },
  {
   "cell_type": "code",
   "execution_count": null,
   "metadata": {},
   "outputs": [],
   "source": [
    "# сегментирую пользователей \n",
    "def segment_group(event):\n",
    "    if event < 9:\n",
    "        return 'min_group'\n",
    "    elif event >= 9:\n",
    "        return 'mean_group'\n",
    "df['segment_group'] = df['event_count'].apply(segment_group)"
   ]
  },
  {
   "cell_type": "code",
   "execution_count": null,
   "metadata": {
    "scrolled": false
   },
   "outputs": [],
   "source": [
    "# посчитаем количество событий в группах\n",
    "event=pd.concat([df['segment_group'].value_counts(),\\\n",
    "                 df['segment_group'].value_counts(normalize=True)], axis=1)\n",
    "event.columns=['count', 'ratio']\n",
    "event.style.format({'ratio':'{:.2%}'}).background_gradient(cmap='Blues', axis=0)"
   ]
  },
  {
   "cell_type": "markdown",
   "metadata": {},
   "source": [
    "в mean_group событий более 78%, в min_group более 21%"
   ]
  },
  {
   "cell_type": "code",
   "execution_count": null,
   "metadata": {
    "scrolled": true
   },
   "outputs": [],
   "source": [
    "# посчитаем количество пользователей в группах\n",
    "group=pd.concat([df.groupby('segment_group')['user_id'].nunique(),\\\n",
    "                 df.groupby('segment_group')['user_id'].nunique()/\n",
    "                df['user_id'].nunique()], axis=1)\n",
    "group.columns=['count', 'ratio']\n",
    "group.style.format({'ratio':'{:.2%}'}).background_gradient(cmap='Blues', axis=0)"
   ]
  },
  {
   "cell_type": "markdown",
   "metadata": {},
   "source": [
    "распределение пользователей в группах равномерное, почти поровну "
   ]
  },
  {
   "cell_type": "code",
   "execution_count": null,
   "metadata": {
    "scrolled": true
   },
   "outputs": [],
   "source": [
    "# пользователи из групп по событиям\n",
    "user_group_event_name=pd.concat(\n",
    "    [df.groupby(['segment_group','event_name']).agg({'event_time':'count',\n",
    "                                                  'user_id':'nunique'}),\\\n",
    "     df.groupby(['segment_group','event_name']).agg({'user_id':'nunique'})/\n",
    "     df['user_id'].nunique()], axis=1)\n",
    "user_group_event_name.columns=['count','user', 'ratio']\n",
    "user_group_event_name.sort_values(by=['segment_group','count'], ascending=False)\\\n",
    "          .style.format({'ratio': '{:.1%}'})\\\n",
    "          .background_gradient(cmap='Blues', axis=0)"
   ]
  },
  {
   "cell_type": "code",
   "execution_count": null,
   "metadata": {
    "scrolled": false
   },
   "outputs": [],
   "source": [
    "# гuser_group_event_nameрафик пользователей в группах по событиям\n",
    "user_group_event_name=df.pivot_table(\n",
    "    index=['segment_group','event_name'], values='user_id', aggfunc= 'nunique')\\\n",
    ".sort_values(by='user_id', ascending=False).reset_index()\n",
    "chart(px.bar(\n",
    "    user_group_event_name, y='user_id', x='segment_group', \n",
    "    color='event_name', text='user_id',barmode='group'),\n",
    "     'График двух групп по событиям',\n",
    "      'Количество пользователей',\n",
    "     'Группы и события'\n",
    "    )"
   ]
  },
  {
   "cell_type": "markdown",
   "metadata": {},
   "source": [
    "- рекомендованные объвления в mean_group смотрят чаще\n",
    "- также и карту сайта в группе mean_group используют чаще, почти в два раза \n",
    "- поиском обе группы пользуются примерно одинаково\n",
    "- просматривают фото в группе min_group чаще\n",
    "- целевое событие использует чаще mean_group\n",
    "- открытие карточки объявления группа min_group совершает в 2 раза реже\n",
    "- также и по событию пользователь кликнул по рекомендованному объявлению\n",
    "- добавление объявления в избранное в группе mean_group чаще\n",
    "- пользователь позвонил по номеру телефона на карточке объявления до этого события доходят маленькое количество пользователей, но в групппе mean_group больше пользователей"
   ]
  },
  {
   "cell_type": "code",
   "execution_count": null,
   "metadata": {},
   "outputs": [],
   "source": [
    "# создадим общую функцию для графиков воронки по событиям\n",
    "def funnel(textinfo):\n",
    "    groups = df['segment_group'].unique()      \n",
    "    fig = go.Figure()\n",
    "    for i, group in enumerate(groups):\n",
    "        fig.add_trace(go.Funnel(\n",
    "            name = str(group),\n",
    "            y = (user_group_event_name[(user_group_event_name['segment_group'] == group)]\n",
    "                 ['event_name']),\n",
    "            x = (user_group_event_name[(user_group_event_name['segment_group'] == group) ]\n",
    "                 ['user_id']),\n",
    "            textposition = \"inside\",\n",
    "            textinfo = textinfo\n",
    "\n",
    "            )\n",
    "        )\n",
    "        fig.update_layout(\n",
    "        width=850,\n",
    "        height=550,\n",
    "        title='График воронки по событиям в группах',\n",
    "        legend=dict(\n",
    "        yanchor=\"bottom\",\n",
    "        xanchor=\"right\"\n",
    "      )   \n",
    "        )\n",
    "    fig.show()"
   ]
  },
  {
   "cell_type": "code",
   "execution_count": null,
   "metadata": {},
   "outputs": [],
   "source": [
    "# создадим общую функцию для графиков воронки по событиям\n",
    "funnel(\"value+percent total\")"
   ]
  },
  {
   "cell_type": "markdown",
   "metadata": {},
   "source": [
    "почти по всем событиям больше пользователей в группе mean_group, хотя по событию просматривают фото в группе min_group чаще"
   ]
  },
  {
   "cell_type": "markdown",
   "metadata": {},
   "source": [
    "### сколько времени пользователи проводят в приложении?"
   ]
  },
  {
   "cell_type": "code",
   "execution_count": null,
   "metadata": {
    "scrolled": false
   },
   "outputs": [],
   "source": [
    "# посчитаем сколько времени пользователи проводят в приложении\n",
    "(df.groupby('segment_group')[['minute', 'day', 'week_index']].agg({'mean', 'median'})\n",
    "                         .style.background_gradient(cmap='Blues', axis=0)\n",
    ")"
   ]
  },
  {
   "cell_type": "markdown",
   "metadata": {},
   "source": [
    "данные в группах по среднему и медиане близки, в среднем пользователи проводят время в приложении 30 минут, 18 дней,  3 недели"
   ]
  },
  {
   "cell_type": "markdown",
   "metadata": {},
   "source": [
    "### сколько проходит времени с момента первого использования мобильного приложения и до использования функции поиска, пользователями по группам на основе времени?  "
   ]
  },
  {
   "cell_type": "code",
   "execution_count": null,
   "metadata": {},
   "outputs": [],
   "source": [
    "# подготовим данные для определения даты события поиск по поиску\n",
    "time=df[['user_id','event_name','event_time','segment_group']]\n",
    "event_search = time.query('event_name == \"search\"').groupby(['user_id'])['event_time'].min()\n",
    "event_search.name = 'event_search'\n",
    "time = time.merge(event_search, on='user_id')"
   ]
  },
  {
   "cell_type": "code",
   "execution_count": null,
   "metadata": {
    "scrolled": true
   },
   "outputs": [],
   "source": [
    "# найдем нужный период с момента первого использования мобильного приложения и до функции поиска\n",
    "time['time_next_search'] = time['event_time'].dt.minute - time['event_search'].dt.minute"
   ]
  },
  {
   "cell_type": "code",
   "execution_count": null,
   "metadata": {
    "scrolled": true
   },
   "outputs": [],
   "source": [
    "# среднее время до события поиск в минутах\n",
    "(time.groupby('segment_group')['time_next_search'].median().to_frame()\n",
    "                         .style.background_gradient(cmap='Blues', axis=0)\n",
    ")"
   ]
  },
  {
   "cell_type": "markdown",
   "metadata": {},
   "source": [
    "пользватели в обеих группах доходят до события  поиск в среднем за одно время одна минута"
   ]
  },
  {
   "cell_type": "markdown",
   "metadata": {},
   "source": [
    "### Какие пользователи склонны возвращаться в мобильное приложение?"
   ]
  },
  {
   "cell_type": "code",
   "execution_count": null,
   "metadata": {},
   "outputs": [],
   "source": [
    "# расчёт удержания пользователей приложения по дате привлечения и лайфтайму\n",
    "       \n",
    "# задаем текущую дату события в формате time_period\n",
    "df['event_date'] = df['event_time'].astype('datetime64[D]')\n",
    "\n",
    "# находим первую активность пользователя\n",
    "df['cohort'] = df.groupby('user_id')['event_time'].transform('min').astype('datetime64[D]')\n",
    "\n",
    "# рассчитываем размеры когорт\n",
    "cohort_df = df.groupby(['segment_group','cohort', 'event_date'], as_index=False).agg(user_count=('user_id', 'nunique'))\n",
    "\n",
    "# рассчитываем lifetime события относительно первой активности пользователя\n",
    "cohort_df['lifetime'] = (cohort_df['event_date'] - cohort_df['cohort']).dt.days\n",
    "\n",
    "# изменяем формат колонки когорт. чтобы на тепловой карте корректно отображались\n",
    "cohort_df['cohort'] = cohort_df['cohort'].astype(str)\n",
    "\n",
    "# retention по количеству пользователей\n",
    "cohort_pivot = cohort_df.pivot_table(index=['segment_group','cohort'], columns='lifetime', values='user_count').fillna(0)\n",
    "\n",
    "\n",
    "# можно задать горизонт событий через query\n",
    "cohort_pivot_lifetime = cohort_df.query('lifetime <= 7').pivot_table(index=['segment_group','cohort'], columns='lifetime', values='user_count').fillna(0)\n",
    "\n",
    "#cohort_pivot\n",
    "cohort_size = cohort_pivot[0]\n",
    "\n",
    "# retention rate \n",
    "retention_matrix = cohort_pivot.divide(cohort_size, axis=0).round(3)\n",
    "retention_matrix_lifetime=cohort_pivot_lifetime.divide(cohort_size, axis=0).round(3) "
   ]
  },
  {
   "cell_type": "code",
   "execution_count": null,
   "metadata": {},
   "outputs": [],
   "source": [
    "def retention_heatmap(data):\n",
    "    plt.figure(figsize=(20, 20)) # задаём размер сетки для графиков\n",
    "\n",
    "    for i, segment_group in enumerate(df['segment_group'].unique()):\n",
    "        sns.heatmap(\n",
    "            data.query('segment_group == @segment_group')\n",
    "            # удаляем segment_group из индексов, чтобы не загромождать графики\n",
    "            .droplevel('segment_group'),\n",
    "            # добавляем подписи значений\n",
    "            annot=True,\n",
    "            cmap= 'coolwarm',\n",
    "            # переводим значения в проценты\n",
    "            fmt='.2%',\n",
    "            # строим каждый график в своей ячейке\n",
    "            ax=plt.subplot(2, 1, i + 1),\n",
    "        )\n",
    "        # задаём названия графиков с учётом значения payer\n",
    "        plt.title('Тепловая карта удержания для payer = {}\\n'.format(segment_group))\n",
    "\n",
    "    plt.tight_layout()  # «подгоняем» размер графиков, чтобы уместились подписи\n",
    "    plt.show()"
   ]
  },
  {
   "cell_type": "code",
   "execution_count": null,
   "metadata": {
    "scrolled": false
   },
   "outputs": [],
   "source": [
    "# строим график по дате привлечения\n",
    "retention_heatmap(retention_matrix)"
   ]
  },
  {
   "cell_type": "markdown",
   "metadata": {},
   "source": [
    "пользователи по дате привлечения удерживаются достаточно слабо, к концу исследуемого периода пользователи не удерживаются"
   ]
  },
  {
   "cell_type": "code",
   "execution_count": null,
   "metadata": {
    "scrolled": false
   },
   "outputs": [],
   "source": [
    "# строим график по дате привлечения\n",
    "retention_heatmap(retention_matrix_lifetime)"
   ]
  },
  {
   "cell_type": "markdown",
   "metadata": {},
   "source": [
    "пользователи в mean_group удерживаются лучше, большее количество событий указывает на их заинтериванность "
   ]
  },
  {
   "cell_type": "markdown",
   "metadata": {},
   "source": [
    "### Конверсия в целевое действие — просмотр контактов"
   ]
  },
  {
   "cell_type": "code",
   "execution_count": null,
   "metadata": {
    "scrolled": true
   },
   "outputs": [],
   "source": [
    "# посчитаем конверсию в целевое событие\n",
    "conversion=(df.query('event_name==\"contacts_show\"').groupby('segment_group')\n",
    "            .agg({'user_id':'nunique'})/ df.groupby('segment_group').agg({'user_id':'nunique'})\n",
    ")\n",
    "conversion.reset_index().style.format({'user_id': '{:.1%}'}).background_gradient(cmap='Blues', axis=0)"
   ]
  },
  {
   "cell_type": "code",
   "execution_count": null,
   "metadata": {
    "scrolled": false
   },
   "outputs": [],
   "source": [
    "# график пользователей в группах по конверсии\n",
    "chart( px.bar(\n",
    "    conversion, y='user_id', \n",
    "    color='user_id', text='user_id'),\n",
    "     'График конверсии в целевое событие',\n",
    "      'Конверсия',\n",
    "     'Группы')"
   ]
  },
  {
   "cell_type": "markdown",
   "metadata": {},
   "source": [
    "в группе mean_group конверсия больше, пользователи там чаще доходят до целевого события"
   ]
  },
  {
   "cell_type": "markdown",
   "metadata": {},
   "source": [
    "# Вывод"
   ]
  },
  {
   "cell_type": "markdown",
   "metadata": {},
   "source": [
    "- судя по источнику, с которого пользователь установил приложение, больше всего пользователей из yandex 45%, из google и других источников значения близки 26% и 28.7% соотвественно\n",
    "- все уникальные пользователи из одного источника, также видим, что у почти 40% пользоватлей 2 уникальных события, 1 уникальное событие у 27% и 3 уникальных события у 22%, получается,что в основном у пользовтелей не больше 3 событий\n",
    "- сегментирую пользователей на 2 группы по медиане событий, она у нас равна 9 на пользователя, разделим на 2 группы, пользователи у которых количество событий больше медианы и соответственно меньше медианы, в результате распределение пользователей в группах равномерное, почти поровну mean_group и min_group\n",
    "- расматривая портрет пользователей групп можно выделить, что в основном почти по всем событиям выделяется группа  mean_group, просматривают фото в группе min_group чаще\n",
    "- данные в группах проведенного времени в приложении по среднему и медиане близки, в среднем пользователи проводят время в приложении 30 минут, 18 дней, 3 недели\n",
    "- пользватели в обеих группах доходят до события поиск в среднем за одно время - одну минуту\n",
    "- пользователи в mean_group удерживаются лучше, большее количество событий указывает на их заинтериванность \n",
    "- в группе mean_group конверсия 26.2% больше, пользователи там чаще доходят до целевого события в min_group\t16.6%"
   ]
  },
  {
   "cell_type": "markdown",
   "metadata": {},
   "source": [
    "## Провести статистические гипотезы:"
   ]
  },
  {
   "cell_type": "markdown",
   "metadata": {},
   "source": [
    "# Гипотеза 1: Конверсии в просмотры контактов между теми пользователями, которые совершили установку приложения, прийдя с источника yandex и пользователя, совершившими установки, из источника google, различиются."
   ]
  },
  {
   "cell_type": "code",
   "execution_count": null,
   "metadata": {
    "scrolled": true
   },
   "outputs": [],
   "source": [
    "# подготовим данные для дальнейшего теста\n",
    "yandex_user=df.query('source == \"yandex\"')['user_id'].nunique()\n",
    "google_user = df.query('source== \"google\"')['user_id'].nunique()\n",
    "yandex_contacts_show = df.query('source == \"yandex\" & event_name == \"contacts_show\"'\n",
    "                               )['user_id'].nunique()\n",
    "google_contacts_show = df.query('source == \"google\" & event_name == \"contacts_show\"'\n",
    "                               )['user_id'].nunique()\n",
    "\n",
    "source = pd.DataFrame({\n",
    "    'source': ['yandex', 'google'],\n",
    "    'all_users':[yandex_user, google_user],\n",
    "    'contacts_show_users':[yandex_contacts_show, google_contacts_show]})\n",
    "source"
   ]
  },
  {
   "cell_type": "code",
   "execution_count": null,
   "metadata": {
    "scrolled": true
   },
   "outputs": [],
   "source": [
    "# посчитаем конверсию \n",
    "source['conversion'] = source['contacts_show_users'] / source['all_users']\n",
    "\n",
    "#source=source.set_index(['source'], inplace=True)\n",
    "source.style.format({'conversion': '{:.2%}'}).background_gradient(cmap='Blues', axis=0)"
   ]
  },
  {
   "cell_type": "markdown",
   "metadata": {},
   "source": [
    "судя по полученному рекзультату можно сказать, что конверсии у яндекс и гугл очень близки, проведем тест и проверим наблюдение."
   ]
  },
  {
   "cell_type": "markdown",
   "metadata": {},
   "source": [
    "# Проверим гипотезы\n",
    "$\\begin{equation*}\n",
    " \\begin{cases}\n",
    "\\text{H_0: Не получилось отвергнуть нулевую гипотезу, нет оснований считать} \\\\\n",
    "\\text{доли разными}\\\\\n",
    "\\text{H_1: Отвергаем нулевую гипотезу, между долями есть значимая разница}\\\\ \n",
    "\\end{cases}\n",
    "\\end{equation*}$\n",
    "\n",
    "Уровень статистической значимости: $\\alpha = 0.05$\n",
    "\n",
    "Посчитаем p-value, с помощью z-тест используя  гипотезу о равенстве долей.\n",
    "\n",
    "Если p-value будет меньше выбранного уровня значимости $\\alpha = 0.05$, то нулевую гипотезу о наличии различий конверсии в просмотры контактов между теми пользователями, которые совершили установку приложения, прийдя с источника yandex и пользователя, совершившими установки, из источника google отвергнем. Иначе сделаем вывод, что данные не позволили нам отвергнуть нулевую гипотезу."
   ]
  },
  {
   "cell_type": "code",
   "execution_count": null,
   "metadata": {},
   "outputs": [],
   "source": [
    "# создадим функцию для проверки гипотезы с помощью z-теста\n",
    "def z_test(df, successes, trials):\n",
    "    alpha = 0.05 \n",
    "    \n",
    "    successes = successes\n",
    "    trials = trials\n",
    "\n",
    "    # пропорция успехов в первой группе:\n",
    "    p1 = successes[0]/trials[0]\n",
    "\n",
    "    # пропорция успехов во второй группе:\n",
    "    p2 = successes[1]/trials[1]\n",
    "\n",
    "    # пропорция успехов в комбинированном датасете:\n",
    "    p_combined = (successes[0] + successes[1]) / (trials[0] + trials[1])\n",
    "\n",
    "    # разница пропорций в датасетах\n",
    "    difference = p1 - p2 \n",
    "    \n",
    "    # считаем статистику в ст.отклонениях стандартного нормального распределения\n",
    "    z_value = difference / mth.sqrt(p_combined * (1 - p_combined) * (1/trials[0] + 1/trials[1]))\n",
    "\n",
    "    # задаем стандартное нормальное распределение (среднее 0, ст.отклонение 1)\n",
    "    distr = st.norm(0, 1)  \n",
    "    \n",
    "    p_value = (1 - distr.cdf(abs(z_value))) * 2\n",
    "\n",
    "    print('p-значение: ', round(p_value,2))\n",
    "    if (p_value < alpha):\n",
    "        print(\"\\nОтвергаем нулевую гипотезу, есть статистически значимая разница\")\n",
    "    else:\n",
    "        print(\"\\nНе получилось отвергнуть нулевую гипотезу, нет статистически значимой разницы\")\n"
   ]
  },
  {
   "cell_type": "code",
   "execution_count": null,
   "metadata": {},
   "outputs": [],
   "source": [
    "z_test(source, np.array([425, 242]), np.array([1804, 1062]))"
   ]
  },
  {
   "cell_type": "markdown",
   "metadata": {},
   "source": [
    "Вывод: p-value получилось больше выбранного уровня 𝛼=0.05 . Не получилось отвергнуть нулевую гипотезу - конверсии в просмотры контактов между теми пользователями, которые совершили установку приложения, прийдя с источника yandex и пользователями, совершившими установку, из источника google одинаковые. С вероятностью 64%, не получилось отвергнуть нулевую гипотезу."
   ]
  },
  {
   "cell_type": "markdown",
   "metadata": {},
   "source": [
    "# Гипотеза 2: Конверсии в просмотры контактов между теми пользователями, которые сомотрят и не смотрят фото, различиются."
   ]
  },
  {
   "cell_type": "code",
   "execution_count": null,
   "metadata": {
    "scrolled": true
   },
   "outputs": [],
   "source": [
    "# выделим пользователей просматривающих фото\n",
    "photos_show=df.query('event_name == \"photos_show\"').pivot_table(index='user_id', values='event_name', aggfunc='nunique')\n",
    "photos_show.columns = ['photos_show']\n",
    "photos_show"
   ]
  },
  {
   "cell_type": "code",
   "execution_count": null,
   "metadata": {
    "scrolled": false
   },
   "outputs": [],
   "source": [
    "# объеденим седения о количестве пользователем просматривающих фото с основным датасетом\n",
    "user_show = df.merge(photos_show, on='user_id')"
   ]
  },
  {
   "cell_type": "code",
   "execution_count": null,
   "metadata": {
    "scrolled": false
   },
   "outputs": [],
   "source": [
    "# подготовим данные для теста \n",
    "all_users=df['user_id'].nunique()\n",
    "no_show = df['user_id'].nunique() - user_show['user_id'].nunique()\n",
    "show = user_show['user_id'].nunique()\n",
    "no_photos_show = user_show['user_id'].nunique()-\\\n",
    "                 df.query('event_name == \"contacts_show\"')['user_id'].nunique()\n",
    "photos_show = user_show.query('event_name == \"contacts_show\"')['user_id'].nunique()\n",
    "photos_show_user = pd.DataFrame({\n",
    "    'event_name': ['no_photos_show', 'photos_show'],\n",
    "    'contacts_show_user':[no_photos_show, photos_show],\n",
    "    'photos_show_user':[no_show, show]})\n",
    "photos_show_user['ratio'] = photos_show_user['photos_show_user'] / all_users\n",
    "photos_show_user.style.format({'ratio': '{:.2%}'})\\\n",
    "                              .background_gradient(cmap='Blues', axis=0)"
   ]
  },
  {
   "cell_type": "markdown",
   "metadata": {},
   "source": [
    "пользователи просматривающие фото в объявлении только 26%, хотя просматривают контакты больше, посчитаем конверсию"
   ]
  },
  {
   "cell_type": "code",
   "execution_count": null,
   "metadata": {},
   "outputs": [],
   "source": [
    "# посчитаем конверсию \n",
    "photos_show_user['conversion'] = photos_show_user['contacts_show_user'] /\\\n",
    "                                 photos_show_user['photos_show_user']\n",
    "photos_show_user.reset_index()\\\n",
    ".reindex(columns=['event_name', 'photos_show_user', 'ratio', 'contacts_show_user', 'conversion'])\\\n",
    ".style.format({'conversion': '{:.2%}','ratio': '{:.2%}'})\\\n",
    ".background_gradient(cmap='Blues', axis=0)\n"
   ]
  },
  {
   "cell_type": "markdown",
   "metadata": {},
   "source": [
    "конверсия в просмотры  в контакты у пользователей не просматривающих фото более 6%, просматривающих более 29% "
   ]
  },
  {
   "cell_type": "markdown",
   "metadata": {},
   "source": [
    "# Проверим гипотезы\n",
    "$\\begin{equation*}\n",
    "\\begin{cases}\n",
    "\\text{H_0: Не получилось отвергнуть нулевую гипотезу, нет оснований считать}\\\\ \n",
    "\\text{доли разными}\\\\\n",
    "\\text{H_1: Отвергаем нулевую гипотезу, между долями есть значимая разница}\\\\\n",
    "\\end{cases}\n",
    "\\end{equation*}$\n",
    "\n",
    "Уровень статистической значимости: $\\alpha = 0.05$\n",
    "\n",
    "Посчитаем p-value, с помощью z-тест используя  гипотезу о равенстве долей.\n",
    "\n",
    "Если p-value будет меньше выбранного уровня значимости $\\alpha = 0.05$, то нулевую гипотезу о наличии различий конверсии в собитии photos_show просмотры контактов  между теми пользователями, которые сомотрят и не смотрят фото, различиются отвергнем. Иначе сделаем вывод, что данные не позволили нам отвергнуть нулевую гипотезу."
   ]
  },
  {
   "cell_type": "code",
   "execution_count": null,
   "metadata": {
    "scrolled": true
   },
   "outputs": [],
   "source": [
    "# проверим гипотезу\n",
    "z_test(source, np.array([191, 314]), np.array([1054, 2964]))"
   ]
  },
  {
   "cell_type": "markdown",
   "metadata": {},
   "source": [
    "Нулевую гипотезу отвергнуть удалось. \n",
    "Вывод: p-value получилось меньше выбранного уровня 𝛼=0.05 . Отвергаем нулевую гипотезу - конверсии в событии photos_show просмотры контактов  между теми пользователями, которые сомотрят и не смотрят фото различаются. С вероятностью - получилось p-значение равной 0, отвергаем нулевую гипотезу. Пользователей в событии просмотр фотографий в объявлении не смотрящих фото больше."
   ]
  },
  {
   "cell_type": "markdown",
   "metadata": {},
   "source": [
    "# Выводы"
   ]
  },
  {
   "cell_type": "markdown",
   "metadata": {},
   "source": [
    "- Вывод: p-value получилось больше выбранного уровня 𝛼=0.05 . Не получилось отвергнуть нулевую гипотезу - конверсии в просмотры контактов между теми пользователями, которые совершили установку приложения, прийдя с источника yandex и пользователями, совершившими установку, из источника google одинаковые. С вероятностью 63%, не получилось отвергнуть нулевую гипотезу.\n",
    "- Нулевую гипотезу отвергнуть удалось. Вывод: p-value получилось меньше выбранного уровня 𝛼=0.05 . Отвергаем нулевую гипотезу - конверсии в событии photos_show просмотры контактов между теми пользователями, которые сомотрят и не смотрят фото различаются. С вероятностью - получилось p-значение равной 0, отвергаем нулевую гипотезу. Пользователей в событии просмотр фотографий в объявлении не смотрящих фото больше."
   ]
  },
  {
   "cell_type": "markdown",
   "metadata": {},
   "source": [
    "# Общие выводы и рекомендации"
   ]
  },
  {
   "cell_type": "markdown",
   "metadata": {},
   "source": [
    "После проведенного исследования, подведем основные выводы:\n",
    "- в распоряжении временной отрезок с 2019-10-07 по 2019-11-03, за 28 дней\n",
    "- всего 4293 уникальных пользователя, 74197 события и 9 типов этих событий\n",
    "- исследовательский анализ показал, что на каждого пользователя приходится от 1 до 478 событий, в выгрузку попали пользователи аномальным количеством событий, возможно это из-за среза или ошибка выгрузки\n",
    "- всего было удалено данных c 275 пользователями и составляет 6.4%, что вполне допустимо, тех у кого 1 событие с анаомальным врекменем и тех у кого событий больльше 59\n",
    "- по источнику больше всего пользователей с yandex 45%, из google и других источников значения близки 26% и 28.7% соотвественно\n",
    "- сегментированы пользователи на 2 группы по медиане событий, 9 событий на пользователя, пользователи у которых количество событий больше медианы и соответственно меньше медианы, распределение по пользователям равномерное, почти поровну\n",
    "- в mean_group событий более 78%, в min_group более 21%, говорит о большой активности пользователей в группе mean_group\n",
    "- в группе mean_group конверсия 26.2% больше, пользователи там чаще доходят до целевого события в min_group\t16.6%\n",
    "- в среднем по медиане пользователи в обеих группах проводят время в приложении 30 минут, 18 дней, 3 недели\n",
    "- пользватели в обеих группах доходят до события поиск в среднем за одно время - одну минуту\n",
    "- пользователи в mean_group удерживаются лучше, большее количество событий указывает на их заинтериванность\n",
    "- по дате привлечения к концу периода в группе mean_group, не удерживается событие photos_show и поиск\n",
    "- в группе mean_group конверсия 26.2% больше, пользователи там чаще доходят до целевого события в min_group\t16.6%\n",
    "- по гипотезе 1, не получилось отвергнуть нулевую гипотезу - конверсии в просмотры контактов между теми пользователями, которые совершили установку приложения, прийдя с источника yandex и пользователями, совершившими установку, из источника google одинаковые. С вероятностью 63%, не получилось отвергнуть нулевую гипотезу.\n",
    "- по гитезе 2, нулевую гипотезу отвергнуть удалось - конверсии в событии photos_show просмотры контактов между теми пользователями, которые сомотрят и не смотрят фото различаются. С вероятностью - получилось p-значение равной 0, отвергаем нулевую гипотезу. Пользователей в событии просмотр фотографий в объявлении не смотрящих фото больше.\n",
    "\n",
    "    Рекомендации:\n",
    "- количество событий оказывает положительное влияние на пользователей, показывает их заинтерисованность\n",
    "- на шагах карта сайта и поиск отваливается много пользователей, сложно для восприятия пользователей, на этот момоент необходимо обратить внимание\n",
    "- чем проще и быстрее пользователи будут находить то, что им необходимо, тем больше пользователей будет оставаться, так еще будет и бесплатная реклама, пользователи сами будут приводить клиентов\n",
    "- пользователи приложения лучше вовлекаются в процесс покупки и готовы оставить больше денег.\n",
    "- для стимуляции дальнейших покупок производить push-уведомления, персональные предоложения, основанные на прошлом поиске.\n",
    "- различные варианты онлайн оплаты, так проще решится на покупку\n",
    "- возможность выбрать форму доставки\n",
    "- устраивать периодические распродажи, скидки любят все\n",
    "- программа лояльности к клиентам(подарки, бонусы)"
   ]
  },
  {
   "cell_type": "code",
   "execution_count": null,
   "metadata": {},
   "outputs": [],
   "source": [
    "#df.to_csv('mobile.csv', sep='\\t', index=False)"
   ]
  },
  {
   "cell_type": "code",
   "execution_count": null,
   "metadata": {},
   "outputs": [],
   "source": []
  }
 ],
 "metadata": {
  "ExecuteTimeLog": [
   {
    "duration": 1698,
    "start_time": "2022-06-01T10:08:11.885Z"
   },
   {
    "duration": 235,
    "start_time": "2022-06-01T10:08:22.234Z"
   },
   {
    "duration": 3,
    "start_time": "2022-06-01T10:08:36.304Z"
   },
   {
    "duration": 42,
    "start_time": "2022-06-01T10:08:53.903Z"
   },
   {
    "duration": 30,
    "start_time": "2022-06-01T10:09:24.185Z"
   },
   {
    "duration": 16,
    "start_time": "2022-06-01T10:09:47.793Z"
   },
   {
    "duration": 14,
    "start_time": "2022-06-01T10:12:28.534Z"
   },
   {
    "duration": 40,
    "start_time": "2022-06-01T10:12:38.536Z"
   },
   {
    "duration": 20,
    "start_time": "2022-06-01T10:12:57.078Z"
   },
   {
    "duration": 8,
    "start_time": "2022-06-01T10:13:22.098Z"
   },
   {
    "duration": 92,
    "start_time": "2022-06-01T10:13:43.096Z"
   },
   {
    "duration": 3,
    "start_time": "2022-06-01T10:15:35.855Z"
   },
   {
    "duration": 10,
    "start_time": "2022-06-01T10:15:49.880Z"
   },
   {
    "duration": 10,
    "start_time": "2022-06-01T10:19:46.518Z"
   },
   {
    "duration": 10,
    "start_time": "2022-06-01T10:20:19.345Z"
   },
   {
    "duration": 11,
    "start_time": "2022-06-01T10:20:38.335Z"
   },
   {
    "duration": 22,
    "start_time": "2022-06-01T10:23:12.887Z"
   },
   {
    "duration": 29,
    "start_time": "2022-06-01T10:25:21.695Z"
   },
   {
    "duration": 10,
    "start_time": "2022-06-01T10:27:24.888Z"
   },
   {
    "duration": 18,
    "start_time": "2022-06-01T10:27:25.494Z"
   },
   {
    "duration": 126,
    "start_time": "2022-06-01T10:28:14.339Z"
   },
   {
    "duration": 19,
    "start_time": "2022-06-01T10:28:27.366Z"
   },
   {
    "duration": 17,
    "start_time": "2022-06-01T10:29:47.640Z"
   },
   {
    "duration": 17,
    "start_time": "2022-06-01T10:29:53.376Z"
   },
   {
    "duration": 19,
    "start_time": "2022-06-01T10:29:59.801Z"
   },
   {
    "duration": 18,
    "start_time": "2022-06-01T10:30:11.242Z"
   },
   {
    "duration": 18,
    "start_time": "2022-06-01T10:30:35.998Z"
   },
   {
    "duration": 10,
    "start_time": "2022-06-01T10:32:12.282Z"
   },
   {
    "duration": 17,
    "start_time": "2022-06-01T10:32:12.815Z"
   },
   {
    "duration": 13,
    "start_time": "2022-06-01T10:33:50.821Z"
   },
   {
    "duration": 38,
    "start_time": "2022-06-01T10:33:52.252Z"
   },
   {
    "duration": 5,
    "start_time": "2022-06-01T10:35:36.653Z"
   },
   {
    "duration": 6,
    "start_time": "2022-06-01T10:36:25.153Z"
   },
   {
    "duration": 5,
    "start_time": "2022-06-01T10:37:24.717Z"
   },
   {
    "duration": 5,
    "start_time": "2022-06-01T10:37:44.249Z"
   },
   {
    "duration": 6,
    "start_time": "2022-06-01T10:38:16.361Z"
   },
   {
    "duration": 2582,
    "start_time": "2022-06-01T10:39:27.391Z"
   },
   {
    "duration": 2109,
    "start_time": "2022-06-01T10:39:51.776Z"
   },
   {
    "duration": 2014,
    "start_time": "2022-06-01T10:40:10.597Z"
   },
   {
    "duration": 3634,
    "start_time": "2022-06-01T10:44:43.513Z"
   },
   {
    "duration": 3528,
    "start_time": "2022-06-01T10:50:03.450Z"
   },
   {
    "duration": 77,
    "start_time": "2022-06-01T10:50:15.358Z"
   },
   {
    "duration": 23,
    "start_time": "2022-06-01T10:52:04.180Z"
   },
   {
    "duration": 15,
    "start_time": "2022-06-01T10:52:11.789Z"
   },
   {
    "duration": 1451,
    "start_time": "2022-06-01T11:00:54.924Z"
   },
   {
    "duration": 79,
    "start_time": "2022-06-01T11:01:17.614Z"
   },
   {
    "duration": 15,
    "start_time": "2022-06-01T11:01:50.855Z"
   },
   {
    "duration": 12,
    "start_time": "2022-06-01T11:02:04.864Z"
   },
   {
    "duration": 12,
    "start_time": "2022-06-01T11:02:11.441Z"
   },
   {
    "duration": 61,
    "start_time": "2022-06-01T11:02:38.299Z"
   },
   {
    "duration": 229,
    "start_time": "2022-06-01T11:02:44.988Z"
   },
   {
    "duration": 12,
    "start_time": "2022-06-01T11:02:51.076Z"
   },
   {
    "duration": 114,
    "start_time": "2022-06-01T11:02:59.056Z"
   },
   {
    "duration": 13,
    "start_time": "2022-06-01T11:03:06.515Z"
   },
   {
    "duration": 582,
    "start_time": "2022-06-01T11:03:13.219Z"
   },
   {
    "duration": 10,
    "start_time": "2022-06-01T11:06:29.967Z"
   },
   {
    "duration": 11,
    "start_time": "2022-06-01T11:33:45.250Z"
   },
   {
    "duration": 12,
    "start_time": "2022-06-01T11:34:10.266Z"
   },
   {
    "duration": 12,
    "start_time": "2022-06-01T11:35:00.814Z"
   },
   {
    "duration": 13,
    "start_time": "2022-06-01T11:35:10.900Z"
   },
   {
    "duration": 17,
    "start_time": "2022-06-01T11:36:50.796Z"
   },
   {
    "duration": 86,
    "start_time": "2022-06-01T11:38:08.510Z"
   },
   {
    "duration": 28,
    "start_time": "2022-06-01T11:39:19.176Z"
   },
   {
    "duration": 20,
    "start_time": "2022-06-01T11:47:40.248Z"
   },
   {
    "duration": 7,
    "start_time": "2022-06-01T11:48:31.817Z"
   },
   {
    "duration": 12,
    "start_time": "2022-06-01T11:48:59.322Z"
   },
   {
    "duration": 21,
    "start_time": "2022-06-01T11:50:32.431Z"
   },
   {
    "duration": 23,
    "start_time": "2022-06-01T11:51:17.303Z"
   },
   {
    "duration": 38,
    "start_time": "2022-06-01T11:52:40.386Z"
   },
   {
    "duration": 110,
    "start_time": "2022-06-01T11:53:07.747Z"
   },
   {
    "duration": 76,
    "start_time": "2022-06-01T11:53:17.025Z"
   },
   {
    "duration": 63,
    "start_time": "2022-06-01T11:56:33.451Z"
   },
   {
    "duration": 782,
    "start_time": "2022-06-01T12:04:24.063Z"
   },
   {
    "duration": 39,
    "start_time": "2022-06-01T12:04:59.060Z"
   },
   {
    "duration": 964,
    "start_time": "2022-06-01T12:10:40.039Z"
   },
   {
    "duration": 13,
    "start_time": "2022-06-01T12:16:33.420Z"
   },
   {
    "duration": 14,
    "start_time": "2022-06-01T12:18:33.650Z"
   },
   {
    "duration": 83,
    "start_time": "2022-06-01T12:21:37.814Z"
   },
   {
    "duration": 77,
    "start_time": "2022-06-01T12:22:20.467Z"
   },
   {
    "duration": 51,
    "start_time": "2022-06-01T12:24:23.743Z"
   },
   {
    "duration": 87,
    "start_time": "2022-06-01T12:27:16.511Z"
   },
   {
    "duration": 85,
    "start_time": "2022-06-01T12:28:29.842Z"
   },
   {
    "duration": 74,
    "start_time": "2022-06-01T12:29:43.143Z"
   },
   {
    "duration": 17,
    "start_time": "2022-06-01T12:29:52.417Z"
   },
   {
    "duration": 15,
    "start_time": "2022-06-01T12:30:26.349Z"
   },
   {
    "duration": 6,
    "start_time": "2022-06-01T12:30:49.365Z"
   },
   {
    "duration": 76,
    "start_time": "2022-06-01T12:31:17.287Z"
   },
   {
    "duration": 51,
    "start_time": "2022-06-01T12:31:33.012Z"
   },
   {
    "duration": 33,
    "start_time": "2022-06-01T12:34:20.293Z"
   },
   {
    "duration": 45,
    "start_time": "2022-06-01T12:35:38.291Z"
   },
   {
    "duration": 45,
    "start_time": "2022-06-01T12:36:18.199Z"
   },
   {
    "duration": 51,
    "start_time": "2022-06-01T12:36:29.065Z"
   },
   {
    "duration": 28,
    "start_time": "2022-06-01T12:37:20.580Z"
   },
   {
    "duration": 33,
    "start_time": "2022-06-01T12:38:05.602Z"
   },
   {
    "duration": 5,
    "start_time": "2022-06-01T12:38:37.406Z"
   },
   {
    "duration": 4,
    "start_time": "2022-06-01T12:38:56.156Z"
   },
   {
    "duration": 5,
    "start_time": "2022-06-01T12:39:10.411Z"
   },
   {
    "duration": 36,
    "start_time": "2022-06-01T12:39:16.872Z"
   },
   {
    "duration": 5,
    "start_time": "2022-06-01T12:39:46.268Z"
   },
   {
    "duration": 6,
    "start_time": "2022-06-01T12:40:56.957Z"
   },
   {
    "duration": 6,
    "start_time": "2022-06-01T12:41:05.118Z"
   },
   {
    "duration": 26,
    "start_time": "2022-06-01T12:43:33.876Z"
   },
   {
    "duration": 30,
    "start_time": "2022-06-01T12:43:45.641Z"
   },
   {
    "duration": 27,
    "start_time": "2022-06-01T12:43:46.554Z"
   },
   {
    "duration": 16,
    "start_time": "2022-06-01T12:44:21.826Z"
   },
   {
    "duration": 30,
    "start_time": "2022-06-01T12:44:49.188Z"
   },
   {
    "duration": 16,
    "start_time": "2022-06-01T12:44:51.620Z"
   },
   {
    "duration": 570,
    "start_time": "2022-06-01T12:46:57.086Z"
   },
   {
    "duration": 16,
    "start_time": "2022-06-01T12:47:33.524Z"
   },
   {
    "duration": 68345,
    "start_time": "2022-06-01T12:50:42.012Z"
   },
   {
    "duration": 273,
    "start_time": "2022-06-01T12:52:18.948Z"
   },
   {
    "duration": 209,
    "start_time": "2022-06-01T12:54:40.570Z"
   },
   {
    "duration": 235,
    "start_time": "2022-06-01T12:54:52.049Z"
   },
   {
    "duration": 32,
    "start_time": "2022-06-01T12:56:23.045Z"
   },
   {
    "duration": 32,
    "start_time": "2022-06-01T12:56:32.268Z"
   },
   {
    "duration": 32,
    "start_time": "2022-06-01T12:57:43.757Z"
   },
   {
    "duration": 44,
    "start_time": "2022-06-01T13:00:09.041Z"
   },
   {
    "duration": 33,
    "start_time": "2022-06-01T13:00:37.284Z"
   },
   {
    "duration": 19,
    "start_time": "2022-06-01T13:01:06.761Z"
   },
   {
    "duration": 20,
    "start_time": "2022-06-01T13:01:15.449Z"
   },
   {
    "duration": 20,
    "start_time": "2022-06-01T13:01:29.249Z"
   },
   {
    "duration": 22,
    "start_time": "2022-06-01T13:02:24.744Z"
   },
   {
    "duration": 14,
    "start_time": "2022-06-01T13:02:32.414Z"
   },
   {
    "duration": 21,
    "start_time": "2022-06-01T13:02:46.000Z"
   },
   {
    "duration": 19,
    "start_time": "2022-06-01T13:03:00.785Z"
   },
   {
    "duration": 13,
    "start_time": "2022-06-01T13:03:09.548Z"
   },
   {
    "duration": 13,
    "start_time": "2022-06-01T13:03:52.148Z"
   },
   {
    "duration": 39,
    "start_time": "2022-06-01T13:04:45.618Z"
   },
   {
    "duration": 118,
    "start_time": "2022-06-01T13:05:01.965Z"
   },
   {
    "duration": 29,
    "start_time": "2022-06-01T13:05:52.412Z"
   },
   {
    "duration": 14,
    "start_time": "2022-06-01T13:06:01.692Z"
   },
   {
    "duration": 26,
    "start_time": "2022-06-01T13:07:35.260Z"
   },
   {
    "duration": 28,
    "start_time": "2022-06-01T13:07:53.119Z"
   },
   {
    "duration": 32,
    "start_time": "2022-06-01T13:07:59.033Z"
   },
   {
    "duration": 22,
    "start_time": "2022-06-01T13:08:48.715Z"
   },
   {
    "duration": 7,
    "start_time": "2022-06-01T13:10:18.340Z"
   },
   {
    "duration": 17,
    "start_time": "2022-06-01T13:10:35.065Z"
   },
   {
    "duration": 22,
    "start_time": "2022-06-01T13:11:26.835Z"
   },
   {
    "duration": 21,
    "start_time": "2022-06-01T13:11:57.950Z"
   },
   {
    "duration": 32,
    "start_time": "2022-06-01T13:12:03.124Z"
   },
   {
    "duration": 26,
    "start_time": "2022-06-01T13:12:04.206Z"
   },
   {
    "duration": 23,
    "start_time": "2022-06-01T13:12:32.054Z"
   },
   {
    "duration": 42,
    "start_time": "2022-06-01T13:13:18.832Z"
   },
   {
    "duration": 15,
    "start_time": "2022-06-01T13:14:05.758Z"
   },
   {
    "duration": 12,
    "start_time": "2022-06-01T13:14:24.731Z"
   },
   {
    "duration": 13,
    "start_time": "2022-06-01T13:14:31.974Z"
   },
   {
    "duration": 6,
    "start_time": "2022-06-01T13:15:04.777Z"
   },
   {
    "duration": 14,
    "start_time": "2022-06-01T13:15:26.107Z"
   },
   {
    "duration": 14,
    "start_time": "2022-06-01T13:15:34.282Z"
   },
   {
    "duration": 3,
    "start_time": "2022-06-01T13:16:03.662Z"
   },
   {
    "duration": 11,
    "start_time": "2022-06-01T13:16:11.314Z"
   },
   {
    "duration": 10,
    "start_time": "2022-06-01T13:16:26.539Z"
   },
   {
    "duration": 15,
    "start_time": "2022-06-01T13:16:30.505Z"
   },
   {
    "duration": 12,
    "start_time": "2022-06-01T13:16:31.001Z"
   },
   {
    "duration": 11,
    "start_time": "2022-06-01T13:16:42.081Z"
   },
   {
    "duration": 11,
    "start_time": "2022-06-01T13:16:44.662Z"
   },
   {
    "duration": 21,
    "start_time": "2022-06-01T13:17:12.520Z"
   },
   {
    "duration": 15,
    "start_time": "2022-06-01T13:18:33.919Z"
   },
   {
    "duration": 4,
    "start_time": "2022-06-01T13:18:58.834Z"
   },
   {
    "duration": 13,
    "start_time": "2022-06-01T13:19:01.472Z"
   },
   {
    "duration": 11,
    "start_time": "2022-06-01T13:21:31.685Z"
   },
   {
    "duration": 24,
    "start_time": "2022-06-01T13:25:32.939Z"
   },
   {
    "duration": 12,
    "start_time": "2022-06-01T13:25:38.790Z"
   },
   {
    "duration": 22,
    "start_time": "2022-06-01T13:25:46.487Z"
   },
   {
    "duration": 4,
    "start_time": "2022-06-01T13:26:12.780Z"
   },
   {
    "duration": 13,
    "start_time": "2022-06-01T13:27:18.635Z"
   },
   {
    "duration": 26,
    "start_time": "2022-06-01T13:28:24.380Z"
   },
   {
    "duration": 11,
    "start_time": "2022-06-01T13:28:52.191Z"
   },
   {
    "duration": 32,
    "start_time": "2022-06-01T13:28:59.815Z"
   },
   {
    "duration": 32,
    "start_time": "2022-06-01T13:29:07.612Z"
   },
   {
    "duration": 31,
    "start_time": "2022-06-01T13:29:22.278Z"
   },
   {
    "duration": 28,
    "start_time": "2022-06-01T13:31:59.485Z"
   },
   {
    "duration": 18,
    "start_time": "2022-06-01T13:32:11.958Z"
   },
   {
    "duration": 1022,
    "start_time": "2022-06-01T13:33:01.669Z"
   },
   {
    "duration": 572,
    "start_time": "2022-06-01T13:33:25.244Z"
   },
   {
    "duration": 471,
    "start_time": "2022-06-01T13:33:45.214Z"
   },
   {
    "duration": 20,
    "start_time": "2022-06-01T13:34:05.097Z"
   },
   {
    "duration": 22,
    "start_time": "2022-06-01T13:36:40.820Z"
   },
   {
    "duration": 25,
    "start_time": "2022-06-01T13:36:59.772Z"
   },
   {
    "duration": 29,
    "start_time": "2022-06-01T13:37:34.453Z"
   },
   {
    "duration": 29,
    "start_time": "2022-06-01T13:37:46.450Z"
   },
   {
    "duration": 29,
    "start_time": "2022-06-01T13:38:11.049Z"
   },
   {
    "duration": 26,
    "start_time": "2022-06-01T13:38:36.849Z"
   },
   {
    "duration": 4,
    "start_time": "2022-06-01T13:40:20.861Z"
   },
   {
    "duration": 6,
    "start_time": "2022-06-01T13:40:46.075Z"
   },
   {
    "duration": 20,
    "start_time": "2022-06-01T13:46:49.747Z"
   },
   {
    "duration": 19,
    "start_time": "2022-06-01T13:47:39.243Z"
   },
   {
    "duration": 19,
    "start_time": "2022-06-01T13:47:56.685Z"
   },
   {
    "duration": 25,
    "start_time": "2022-06-01T13:48:08.324Z"
   },
   {
    "duration": 23,
    "start_time": "2022-06-01T13:49:14.962Z"
   },
   {
    "duration": 738,
    "start_time": "2022-06-01T13:49:19.686Z"
   },
   {
    "duration": 25,
    "start_time": "2022-06-01T13:49:54.781Z"
   },
   {
    "duration": 38,
    "start_time": "2022-06-01T13:49:58.491Z"
   },
   {
    "duration": 16,
    "start_time": "2022-06-01T13:50:47.059Z"
   },
   {
    "duration": 19,
    "start_time": "2022-06-01T13:50:58.449Z"
   },
   {
    "duration": 24,
    "start_time": "2022-06-01T13:51:06.447Z"
   },
   {
    "duration": 23,
    "start_time": "2022-06-01T13:51:11.448Z"
   },
   {
    "duration": 22,
    "start_time": "2022-06-01T13:51:32.669Z"
   },
   {
    "duration": 609,
    "start_time": "2022-06-01T13:53:02.218Z"
   },
   {
    "duration": 22,
    "start_time": "2022-06-01T13:53:52.917Z"
   },
   {
    "duration": 34,
    "start_time": "2022-06-01T13:54:24.193Z"
   },
   {
    "duration": 19,
    "start_time": "2022-06-01T13:55:04.348Z"
   },
   {
    "duration": 16,
    "start_time": "2022-06-01T13:55:42.210Z"
   },
   {
    "duration": 10,
    "start_time": "2022-06-01T13:57:20.703Z"
   },
   {
    "duration": 77,
    "start_time": "2022-06-01T14:25:36.995Z"
   },
   {
    "duration": 11953,
    "start_time": "2022-06-01T14:26:12.614Z"
   },
   {
    "duration": 23,
    "start_time": "2022-06-01T14:27:08.172Z"
   },
   {
    "duration": 11133,
    "start_time": "2022-06-01T14:27:13.223Z"
   },
   {
    "duration": 17,
    "start_time": "2022-06-01T14:27:45.254Z"
   },
   {
    "duration": 84,
    "start_time": "2022-06-01T14:47:38.329Z"
   },
   {
    "duration": 1820,
    "start_time": "2022-06-02T06:09:01.023Z"
   },
   {
    "duration": 536,
    "start_time": "2022-06-02T06:09:15.951Z"
   },
   {
    "duration": 3,
    "start_time": "2022-06-02T06:09:22.333Z"
   },
   {
    "duration": 28,
    "start_time": "2022-06-02T06:09:22.897Z"
   },
   {
    "duration": 18,
    "start_time": "2022-06-02T06:09:23.624Z"
   },
   {
    "duration": 9,
    "start_time": "2022-06-02T06:09:30.495Z"
   },
   {
    "duration": 104,
    "start_time": "2022-06-02T06:09:36.835Z"
   },
   {
    "duration": 7,
    "start_time": "2022-06-02T06:09:39.021Z"
   },
   {
    "duration": 59,
    "start_time": "2022-06-02T06:10:02.705Z"
   },
   {
    "duration": 19,
    "start_time": "2022-06-02T06:10:05.190Z"
   },
   {
    "duration": 10,
    "start_time": "2022-06-02T06:10:25.859Z"
   },
   {
    "duration": 19,
    "start_time": "2022-06-02T06:14:29.796Z"
   },
   {
    "duration": 32,
    "start_time": "2022-06-02T06:14:34.162Z"
   },
   {
    "duration": 13,
    "start_time": "2022-06-02T06:14:37.201Z"
   },
   {
    "duration": 18,
    "start_time": "2022-06-02T06:14:37.791Z"
   },
   {
    "duration": 10,
    "start_time": "2022-06-02T06:14:55.709Z"
   },
   {
    "duration": 38,
    "start_time": "2022-06-02T06:15:11.874Z"
   },
   {
    "duration": 7,
    "start_time": "2022-06-02T06:15:13.295Z"
   },
   {
    "duration": 5,
    "start_time": "2022-06-02T06:15:14.832Z"
   },
   {
    "duration": 2402,
    "start_time": "2022-06-02T06:15:23.738Z"
   },
   {
    "duration": 3932,
    "start_time": "2022-06-02T06:16:02.476Z"
   },
   {
    "duration": 14,
    "start_time": "2022-06-02T06:16:10.137Z"
   },
   {
    "duration": 18,
    "start_time": "2022-06-02T06:16:11.321Z"
   },
   {
    "duration": 71,
    "start_time": "2022-06-02T06:16:47.558Z"
   },
   {
    "duration": 93,
    "start_time": "2022-06-02T06:17:20.953Z"
   },
   {
    "duration": 33,
    "start_time": "2022-06-02T06:21:23.580Z"
   },
   {
    "duration": 197,
    "start_time": "2022-06-02T06:21:30.285Z"
   },
   {
    "duration": 20,
    "start_time": "2022-06-02T06:21:51.776Z"
   },
   {
    "duration": 4,
    "start_time": "2022-06-02T06:22:09.564Z"
   },
   {
    "duration": 42,
    "start_time": "2022-06-02T06:22:13.024Z"
   },
   {
    "duration": 4,
    "start_time": "2022-06-02T06:22:35.221Z"
   },
   {
    "duration": 68,
    "start_time": "2022-06-02T06:22:36.940Z"
   },
   {
    "duration": 5,
    "start_time": "2022-06-02T06:24:21.333Z"
   },
   {
    "duration": 28,
    "start_time": "2022-06-02T06:24:35.526Z"
   },
   {
    "duration": 138,
    "start_time": "2022-06-02T06:25:02.193Z"
   },
   {
    "duration": 30,
    "start_time": "2022-06-02T06:25:13.738Z"
   },
   {
    "duration": 27,
    "start_time": "2022-06-02T06:25:35.231Z"
   },
   {
    "duration": 4,
    "start_time": "2022-06-02T06:25:44.215Z"
   },
   {
    "duration": 73,
    "start_time": "2022-06-02T06:25:48.755Z"
   },
   {
    "duration": 16,
    "start_time": "2022-06-02T06:27:03.839Z"
   },
   {
    "duration": 85,
    "start_time": "2022-06-02T06:27:30.618Z"
   },
   {
    "duration": 71,
    "start_time": "2022-06-02T06:28:08.959Z"
   },
   {
    "duration": 15,
    "start_time": "2022-06-02T06:28:19.182Z"
   },
   {
    "duration": 15,
    "start_time": "2022-06-02T06:28:56.924Z"
   },
   {
    "duration": 22,
    "start_time": "2022-06-02T06:31:20.648Z"
   },
   {
    "duration": 16,
    "start_time": "2022-06-02T06:45:52.420Z"
   },
   {
    "duration": 38,
    "start_time": "2022-06-02T06:46:12.880Z"
   },
   {
    "duration": 27,
    "start_time": "2022-06-02T06:46:24.045Z"
   },
   {
    "duration": 41,
    "start_time": "2022-06-02T06:46:34.790Z"
   },
   {
    "duration": 31,
    "start_time": "2022-06-02T06:46:59.966Z"
   },
   {
    "duration": 42,
    "start_time": "2022-06-02T06:47:15.561Z"
   },
   {
    "duration": 25,
    "start_time": "2022-06-02T06:47:19.484Z"
   },
   {
    "duration": 21,
    "start_time": "2022-06-02T06:47:23.975Z"
   },
   {
    "duration": 20,
    "start_time": "2022-06-02T06:47:39.470Z"
   },
   {
    "duration": 25,
    "start_time": "2022-06-02T06:56:59.417Z"
   },
   {
    "duration": 26,
    "start_time": "2022-06-02T06:57:09.466Z"
   },
   {
    "duration": 20,
    "start_time": "2022-06-02T06:57:49.051Z"
   },
   {
    "duration": 27,
    "start_time": "2022-06-02T06:58:03.770Z"
   },
   {
    "duration": 30,
    "start_time": "2022-06-02T06:58:26.515Z"
   },
   {
    "duration": 104,
    "start_time": "2022-06-02T06:59:04.004Z"
   },
   {
    "duration": 30,
    "start_time": "2022-06-02T06:59:14.460Z"
   },
   {
    "duration": 20,
    "start_time": "2022-06-02T06:59:20.018Z"
   },
   {
    "duration": 31,
    "start_time": "2022-06-02T07:01:24.063Z"
   },
   {
    "duration": 23,
    "start_time": "2022-06-02T07:01:33.735Z"
   },
   {
    "duration": 26,
    "start_time": "2022-06-02T07:04:48.766Z"
   },
   {
    "duration": 26,
    "start_time": "2022-06-02T07:04:57.980Z"
   },
   {
    "duration": 27,
    "start_time": "2022-06-02T07:05:11.619Z"
   },
   {
    "duration": 18,
    "start_time": "2022-06-02T07:05:30.789Z"
   },
   {
    "duration": 222,
    "start_time": "2022-06-02T07:05:40.462Z"
   },
   {
    "duration": 90,
    "start_time": "2022-06-02T07:06:27.002Z"
   },
   {
    "duration": 86,
    "start_time": "2022-06-02T07:06:35.950Z"
   },
   {
    "duration": 518,
    "start_time": "2022-06-02T07:07:09.562Z"
   },
   {
    "duration": 50,
    "start_time": "2022-06-02T07:07:54.518Z"
   },
   {
    "duration": 510,
    "start_time": "2022-06-02T07:08:01.173Z"
   },
   {
    "duration": 66,
    "start_time": "2022-06-02T07:08:10.178Z"
   },
   {
    "duration": 621,
    "start_time": "2022-06-02T07:08:21.701Z"
   },
   {
    "duration": 481,
    "start_time": "2022-06-02T07:08:40.026Z"
   },
   {
    "duration": 20,
    "start_time": "2022-06-02T07:08:53.330Z"
   },
   {
    "duration": 20,
    "start_time": "2022-06-02T07:09:03.964Z"
   },
   {
    "duration": 23,
    "start_time": "2022-06-02T07:10:15.862Z"
   },
   {
    "duration": 674,
    "start_time": "2022-06-02T07:10:54.270Z"
   },
   {
    "duration": 566,
    "start_time": "2022-06-02T07:11:02.878Z"
   },
   {
    "duration": 68,
    "start_time": "2022-06-02T07:11:21.163Z"
   },
   {
    "duration": 840,
    "start_time": "2022-06-02T07:11:41.369Z"
   },
   {
    "duration": 68,
    "start_time": "2022-06-02T07:12:06.100Z"
   },
   {
    "duration": 28,
    "start_time": "2022-06-02T07:14:28.835Z"
   },
   {
    "duration": 75,
    "start_time": "2022-06-02T07:14:45.784Z"
   },
   {
    "duration": 75,
    "start_time": "2022-06-02T07:16:40.403Z"
   },
   {
    "duration": 31,
    "start_time": "2022-06-02T07:22:09.326Z"
   },
   {
    "duration": 10,
    "start_time": "2022-06-02T07:23:17.871Z"
   },
   {
    "duration": 9,
    "start_time": "2022-06-02T07:23:40.717Z"
   },
   {
    "duration": 9,
    "start_time": "2022-06-02T07:34:20.180Z"
   },
   {
    "duration": 12,
    "start_time": "2022-06-02T07:37:07.503Z"
   },
   {
    "duration": 30,
    "start_time": "2022-06-02T07:37:48.589Z"
   },
   {
    "duration": 29,
    "start_time": "2022-06-02T07:38:54.681Z"
   },
   {
    "duration": 28,
    "start_time": "2022-06-02T07:39:20.272Z"
   },
   {
    "duration": 27,
    "start_time": "2022-06-02T07:40:38.479Z"
   },
   {
    "duration": 38,
    "start_time": "2022-06-02T07:41:50.915Z"
   },
   {
    "duration": 28,
    "start_time": "2022-06-02T07:42:09.623Z"
   },
   {
    "duration": 23,
    "start_time": "2022-06-02T07:42:17.074Z"
   },
   {
    "duration": 27,
    "start_time": "2022-06-02T07:42:31.186Z"
   },
   {
    "duration": 32,
    "start_time": "2022-06-02T07:43:13.776Z"
   },
   {
    "duration": 18,
    "start_time": "2022-06-02T07:43:40.826Z"
   },
   {
    "duration": 28,
    "start_time": "2022-06-02T07:43:53.528Z"
   },
   {
    "duration": 27,
    "start_time": "2022-06-02T07:44:09.688Z"
   },
   {
    "duration": 19,
    "start_time": "2022-06-02T07:44:14.923Z"
   },
   {
    "duration": 25,
    "start_time": "2022-06-02T07:44:20.866Z"
   },
   {
    "duration": 26,
    "start_time": "2022-06-02T07:44:48.774Z"
   },
   {
    "duration": 81,
    "start_time": "2022-06-02T07:50:29.238Z"
   },
   {
    "duration": 1396,
    "start_time": "2022-06-02T07:50:51.938Z"
   },
   {
    "duration": 316,
    "start_time": "2022-06-02T07:50:53.976Z"
   },
   {
    "duration": 4,
    "start_time": "2022-06-02T07:50:54.502Z"
   },
   {
    "duration": 40,
    "start_time": "2022-06-02T07:50:55.237Z"
   },
   {
    "duration": 20,
    "start_time": "2022-06-02T07:50:55.697Z"
   },
   {
    "duration": 11,
    "start_time": "2022-06-02T07:50:56.095Z"
   },
   {
    "duration": 118,
    "start_time": "2022-06-02T07:50:56.487Z"
   },
   {
    "duration": 6,
    "start_time": "2022-06-02T07:50:57.710Z"
   },
   {
    "duration": 58,
    "start_time": "2022-06-02T07:50:58.624Z"
   },
   {
    "duration": 32,
    "start_time": "2022-06-02T07:50:59.494Z"
   },
   {
    "duration": 12,
    "start_time": "2022-06-02T07:51:00.775Z"
   },
   {
    "duration": 26,
    "start_time": "2022-06-02T07:51:01.666Z"
   },
   {
    "duration": 51,
    "start_time": "2022-06-02T07:51:02.494Z"
   },
   {
    "duration": 12,
    "start_time": "2022-06-02T07:51:02.906Z"
   },
   {
    "duration": 21,
    "start_time": "2022-06-02T07:51:03.368Z"
   },
   {
    "duration": 12,
    "start_time": "2022-06-02T07:51:04.508Z"
   },
   {
    "duration": 58,
    "start_time": "2022-06-02T07:51:07.829Z"
   },
   {
    "duration": 5,
    "start_time": "2022-06-02T07:51:09.254Z"
   },
   {
    "duration": 5,
    "start_time": "2022-06-02T07:51:10.303Z"
   },
   {
    "duration": 3311,
    "start_time": "2022-06-02T07:51:11.540Z"
   },
   {
    "duration": 3541,
    "start_time": "2022-06-02T07:51:18.754Z"
   },
   {
    "duration": 22,
    "start_time": "2022-06-02T07:51:30.739Z"
   },
   {
    "duration": 16,
    "start_time": "2022-06-02T07:51:31.712Z"
   },
   {
    "duration": 83,
    "start_time": "2022-06-02T07:51:32.861Z"
   },
   {
    "duration": 5,
    "start_time": "2022-06-02T07:53:45.093Z"
   },
   {
    "duration": 82,
    "start_time": "2022-06-02T07:54:22.363Z"
   },
   {
    "duration": 17,
    "start_time": "2022-06-02T07:54:45.808Z"
   },
   {
    "duration": 68,
    "start_time": "2022-06-02T07:54:49.896Z"
   },
   {
    "duration": 78,
    "start_time": "2022-06-02T07:57:05.603Z"
   },
   {
    "duration": 98,
    "start_time": "2022-06-02T07:58:50.423Z"
   },
   {
    "duration": 19,
    "start_time": "2022-06-02T07:58:59.752Z"
   },
   {
    "duration": 176,
    "start_time": "2022-06-02T07:59:40.988Z"
   },
   {
    "duration": 35,
    "start_time": "2022-06-02T08:00:21.206Z"
   },
   {
    "duration": 30,
    "start_time": "2022-06-02T08:00:34.126Z"
   },
   {
    "duration": 78,
    "start_time": "2022-06-02T08:01:15.980Z"
   },
   {
    "duration": 84,
    "start_time": "2022-06-02T08:01:52.072Z"
   },
   {
    "duration": 225,
    "start_time": "2022-06-02T08:02:27.808Z"
   },
   {
    "duration": 88,
    "start_time": "2022-06-02T08:02:41.219Z"
   },
   {
    "duration": 12,
    "start_time": "2022-06-02T08:04:46.454Z"
   },
   {
    "duration": 16,
    "start_time": "2022-06-02T08:05:10.443Z"
   },
   {
    "duration": 12,
    "start_time": "2022-06-02T08:05:24.745Z"
   },
   {
    "duration": 12,
    "start_time": "2022-06-02T08:05:50.625Z"
   },
   {
    "duration": 7,
    "start_time": "2022-06-02T08:06:06.755Z"
   },
   {
    "duration": 37,
    "start_time": "2022-06-02T08:07:04.135Z"
   },
   {
    "duration": 23,
    "start_time": "2022-06-02T08:07:13.702Z"
   },
   {
    "duration": 15,
    "start_time": "2022-06-02T08:07:21.792Z"
   },
   {
    "duration": 23,
    "start_time": "2022-06-02T08:07:53.728Z"
   },
   {
    "duration": 25,
    "start_time": "2022-06-02T08:08:49.375Z"
   },
   {
    "duration": 123,
    "start_time": "2022-06-02T08:09:06.574Z"
   },
   {
    "duration": 23,
    "start_time": "2022-06-02T08:09:48.759Z"
   },
   {
    "duration": 27,
    "start_time": "2022-06-02T08:15:27.050Z"
   },
   {
    "duration": 65,
    "start_time": "2022-06-02T08:16:51.596Z"
   },
   {
    "duration": 61,
    "start_time": "2022-06-02T08:19:13.342Z"
   },
   {
    "duration": 30,
    "start_time": "2022-06-02T08:19:25.457Z"
   },
   {
    "duration": 42,
    "start_time": "2022-06-02T08:20:36.252Z"
   },
   {
    "duration": 760,
    "start_time": "2022-06-02T08:22:32.705Z"
   },
   {
    "duration": 41,
    "start_time": "2022-06-02T08:23:28.256Z"
   },
   {
    "duration": 842,
    "start_time": "2022-06-02T08:23:33.085Z"
   },
   {
    "duration": 1175,
    "start_time": "2022-06-02T08:24:30.942Z"
   },
   {
    "duration": 24,
    "start_time": "2022-06-02T08:24:52.070Z"
   },
   {
    "duration": 24,
    "start_time": "2022-06-02T08:25:12.421Z"
   },
   {
    "duration": 53,
    "start_time": "2022-06-02T08:25:23.490Z"
   },
   {
    "duration": 46,
    "start_time": "2022-06-02T08:26:14.602Z"
   },
   {
    "duration": 13,
    "start_time": "2022-06-02T08:27:13.064Z"
   },
   {
    "duration": 12,
    "start_time": "2022-06-02T08:27:23.296Z"
   },
   {
    "duration": 12,
    "start_time": "2022-06-02T08:30:36.423Z"
   },
   {
    "duration": 12,
    "start_time": "2022-06-02T08:30:47.196Z"
   },
   {
    "duration": 29,
    "start_time": "2022-06-02T08:31:15.986Z"
   },
   {
    "duration": 44,
    "start_time": "2022-06-02T08:32:49.013Z"
   },
   {
    "duration": 56,
    "start_time": "2022-06-02T08:32:58.648Z"
   },
   {
    "duration": 49,
    "start_time": "2022-06-02T08:33:30.009Z"
   },
   {
    "duration": 36,
    "start_time": "2022-06-02T08:34:23.114Z"
   },
   {
    "duration": 17,
    "start_time": "2022-06-02T08:34:52.557Z"
   },
   {
    "duration": 14,
    "start_time": "2022-06-02T08:35:20.485Z"
   },
   {
    "duration": 12,
    "start_time": "2022-06-02T08:35:46.841Z"
   },
   {
    "duration": 37,
    "start_time": "2022-06-02T08:37:21.958Z"
   },
   {
    "duration": 35,
    "start_time": "2022-06-02T08:37:31.790Z"
   },
   {
    "duration": 60,
    "start_time": "2022-06-02T08:37:44.376Z"
   },
   {
    "duration": 64,
    "start_time": "2022-06-02T08:39:50.560Z"
   },
   {
    "duration": 63,
    "start_time": "2022-06-02T08:40:07.865Z"
   },
   {
    "duration": 70,
    "start_time": "2022-06-02T08:41:24.964Z"
   },
   {
    "duration": 11,
    "start_time": "2022-06-02T08:41:49.349Z"
   },
   {
    "duration": 74,
    "start_time": "2022-06-02T08:42:21.162Z"
   },
   {
    "duration": 83,
    "start_time": "2022-06-02T08:43:32.120Z"
   },
   {
    "duration": 50,
    "start_time": "2022-06-02T08:47:00.267Z"
   },
   {
    "duration": 13,
    "start_time": "2022-06-02T08:47:09.571Z"
   },
   {
    "duration": 14,
    "start_time": "2022-06-02T08:47:17.540Z"
   },
   {
    "duration": 73,
    "start_time": "2022-06-02T08:52:43.215Z"
   },
   {
    "duration": 18,
    "start_time": "2022-06-02T08:53:47.034Z"
   },
   {
    "duration": 29,
    "start_time": "2022-06-02T08:54:15.042Z"
   },
   {
    "duration": 6,
    "start_time": "2022-06-02T08:54:15.784Z"
   },
   {
    "duration": 6,
    "start_time": "2022-06-02T08:54:16.320Z"
   },
   {
    "duration": 24,
    "start_time": "2022-06-02T09:09:46.721Z"
   },
   {
    "duration": 27,
    "start_time": "2022-06-02T09:10:07.123Z"
   },
   {
    "duration": 297,
    "start_time": "2022-06-02T09:11:14.816Z"
   },
   {
    "duration": 129,
    "start_time": "2022-06-02T09:11:50.642Z"
   },
   {
    "duration": 314,
    "start_time": "2022-06-02T09:12:01.776Z"
   },
   {
    "duration": 198,
    "start_time": "2022-06-02T09:12:39.169Z"
   },
   {
    "duration": 13,
    "start_time": "2022-06-02T09:13:58.120Z"
   },
   {
    "duration": 4,
    "start_time": "2022-06-02T09:17:17.744Z"
   },
   {
    "duration": 25,
    "start_time": "2022-06-02T09:18:48.920Z"
   },
   {
    "duration": 21,
    "start_time": "2022-06-02T09:19:27.926Z"
   },
   {
    "duration": 23,
    "start_time": "2022-06-02T09:19:44.019Z"
   },
   {
    "duration": 15,
    "start_time": "2022-06-02T09:20:08.691Z"
   },
   {
    "duration": 34,
    "start_time": "2022-06-02T09:20:56.668Z"
   },
   {
    "duration": 12,
    "start_time": "2022-06-02T09:21:15.619Z"
   },
   {
    "duration": 11,
    "start_time": "2022-06-02T09:21:32.879Z"
   },
   {
    "duration": 527,
    "start_time": "2022-06-02T09:22:24.452Z"
   },
   {
    "duration": 38,
    "start_time": "2022-06-02T09:24:47.921Z"
   },
   {
    "duration": 51,
    "start_time": "2022-06-02T09:24:59.840Z"
   },
   {
    "duration": 15,
    "start_time": "2022-06-02T09:25:11.584Z"
   },
   {
    "duration": 14,
    "start_time": "2022-06-02T09:26:17.315Z"
   },
   {
    "duration": 18,
    "start_time": "2022-06-02T09:52:45.427Z"
   },
   {
    "duration": 20,
    "start_time": "2022-06-02T09:53:12.957Z"
   },
   {
    "duration": 32,
    "start_time": "2022-06-02T09:56:05.512Z"
   },
   {
    "duration": 40,
    "start_time": "2022-06-02T09:56:13.729Z"
   },
   {
    "duration": 18,
    "start_time": "2022-06-02T09:56:39.289Z"
   },
   {
    "duration": 15,
    "start_time": "2022-06-02T09:59:50.095Z"
   },
   {
    "duration": 219,
    "start_time": "2022-06-02T10:00:22.787Z"
   },
   {
    "duration": 14,
    "start_time": "2022-06-02T10:05:09.779Z"
   },
   {
    "duration": 15,
    "start_time": "2022-06-02T10:05:22.411Z"
   },
   {
    "duration": 44,
    "start_time": "2022-06-02T10:07:37.383Z"
   },
   {
    "duration": 51,
    "start_time": "2022-06-02T10:08:15.774Z"
   },
   {
    "duration": 51,
    "start_time": "2022-06-02T10:08:30.654Z"
   },
   {
    "duration": 50,
    "start_time": "2022-06-02T10:08:49.046Z"
   },
   {
    "duration": 21,
    "start_time": "2022-06-02T10:09:09.357Z"
   },
   {
    "duration": 19,
    "start_time": "2022-06-02T10:09:21.747Z"
   },
   {
    "duration": 14,
    "start_time": "2022-06-02T10:18:53.276Z"
   },
   {
    "duration": 2670,
    "start_time": "2022-06-02T10:19:05.210Z"
   },
   {
    "duration": 852,
    "start_time": "2022-06-02T10:20:03.159Z"
   },
   {
    "duration": 15,
    "start_time": "2022-06-02T10:20:21.374Z"
   },
   {
    "duration": 36,
    "start_time": "2022-06-02T10:20:59.579Z"
   },
   {
    "duration": 14,
    "start_time": "2022-06-02T10:22:29.076Z"
   },
   {
    "duration": 1396,
    "start_time": "2022-06-02T10:22:44.989Z"
   },
   {
    "duration": 380,
    "start_time": "2022-06-02T10:22:46.388Z"
   },
   {
    "duration": 3,
    "start_time": "2022-06-02T10:22:46.770Z"
   },
   {
    "duration": 33,
    "start_time": "2022-06-02T10:22:46.775Z"
   },
   {
    "duration": 30,
    "start_time": "2022-06-02T10:22:46.810Z"
   },
   {
    "duration": 17,
    "start_time": "2022-06-02T10:22:46.842Z"
   },
   {
    "duration": 165,
    "start_time": "2022-06-02T10:22:46.861Z"
   },
   {
    "duration": 7,
    "start_time": "2022-06-02T10:22:47.028Z"
   },
   {
    "duration": 42,
    "start_time": "2022-06-02T10:22:47.037Z"
   },
   {
    "duration": 21,
    "start_time": "2022-06-02T10:22:47.164Z"
   },
   {
    "duration": 13,
    "start_time": "2022-06-02T10:22:47.670Z"
   },
   {
    "duration": 33,
    "start_time": "2022-06-02T10:22:47.995Z"
   },
   {
    "duration": 38,
    "start_time": "2022-06-02T10:22:48.313Z"
   },
   {
    "duration": 9,
    "start_time": "2022-06-02T10:22:48.465Z"
   },
   {
    "duration": 18,
    "start_time": "2022-06-02T10:22:48.625Z"
   },
   {
    "duration": 9,
    "start_time": "2022-06-02T10:22:48.947Z"
   },
   {
    "duration": 58,
    "start_time": "2022-06-02T10:22:49.100Z"
   },
   {
    "duration": 5,
    "start_time": "2022-06-02T10:22:49.568Z"
   },
   {
    "duration": 6,
    "start_time": "2022-06-02T10:22:49.882Z"
   },
   {
    "duration": 2270,
    "start_time": "2022-06-02T10:22:50.356Z"
   },
   {
    "duration": 3779,
    "start_time": "2022-06-02T10:22:52.629Z"
   },
   {
    "duration": 19,
    "start_time": "2022-06-02T10:22:56.409Z"
   },
   {
    "duration": 19,
    "start_time": "2022-06-02T10:22:56.431Z"
   },
   {
    "duration": 94,
    "start_time": "2022-06-02T10:22:56.451Z"
   },
   {
    "duration": 4,
    "start_time": "2022-06-02T10:22:56.546Z"
   },
   {
    "duration": 103,
    "start_time": "2022-06-02T10:22:56.552Z"
   },
   {
    "duration": 16,
    "start_time": "2022-06-02T10:22:56.657Z"
   },
   {
    "duration": 79,
    "start_time": "2022-06-02T10:22:56.675Z"
   },
   {
    "duration": 92,
    "start_time": "2022-06-02T10:22:56.757Z"
   },
   {
    "duration": 13,
    "start_time": "2022-06-02T10:22:56.851Z"
   },
   {
    "duration": 70,
    "start_time": "2022-06-02T10:22:56.866Z"
   },
   {
    "duration": 98,
    "start_time": "2022-06-02T10:22:56.939Z"
   },
   {
    "duration": 7,
    "start_time": "2022-06-02T10:22:57.039Z"
   },
   {
    "duration": 17,
    "start_time": "2022-06-02T10:23:17.198Z"
   },
   {
    "duration": 32,
    "start_time": "2022-06-02T10:23:18.035Z"
   },
   {
    "duration": 89,
    "start_time": "2022-06-02T10:23:19.319Z"
   },
   {
    "duration": 23,
    "start_time": "2022-06-02T10:23:21.958Z"
   },
   {
    "duration": 27,
    "start_time": "2022-06-02T10:23:22.690Z"
   },
   {
    "duration": 11,
    "start_time": "2022-06-02T10:24:10.270Z"
   },
   {
    "duration": 28,
    "start_time": "2022-06-02T10:24:14.529Z"
   },
   {
    "duration": 232,
    "start_time": "2022-06-02T10:25:02.067Z"
   },
   {
    "duration": 18,
    "start_time": "2022-06-02T10:25:10.962Z"
   },
   {
    "duration": 54,
    "start_time": "2022-06-02T10:25:14.390Z"
   },
   {
    "duration": 48,
    "start_time": "2022-06-02T10:25:48.222Z"
   },
   {
    "duration": 30,
    "start_time": "2022-06-02T10:27:34.994Z"
   },
   {
    "duration": 66,
    "start_time": "2022-06-02T10:27:42.138Z"
   },
   {
    "duration": 38,
    "start_time": "2022-06-02T10:27:52.385Z"
   },
   {
    "duration": 50,
    "start_time": "2022-06-02T10:28:03.215Z"
   },
   {
    "duration": 58,
    "start_time": "2022-06-02T10:28:21.483Z"
   },
   {
    "duration": 52,
    "start_time": "2022-06-02T10:30:01.897Z"
   },
   {
    "duration": 30,
    "start_time": "2022-06-02T10:30:10.359Z"
   },
   {
    "duration": 28,
    "start_time": "2022-06-02T10:30:38.169Z"
   },
   {
    "duration": 59,
    "start_time": "2022-06-02T10:30:50.819Z"
   },
   {
    "duration": 70,
    "start_time": "2022-06-02T10:31:31.936Z"
   },
   {
    "duration": 37,
    "start_time": "2022-06-02T10:32:49.202Z"
   },
   {
    "duration": 18,
    "start_time": "2022-06-02T10:32:55.034Z"
   },
   {
    "duration": 1388,
    "start_time": "2022-06-02T10:33:17.461Z"
   },
   {
    "duration": 486,
    "start_time": "2022-06-02T10:33:18.852Z"
   },
   {
    "duration": 3,
    "start_time": "2022-06-02T10:33:19.340Z"
   },
   {
    "duration": 69,
    "start_time": "2022-06-02T10:33:19.346Z"
   },
   {
    "duration": 27,
    "start_time": "2022-06-02T10:33:19.417Z"
   },
   {
    "duration": 13,
    "start_time": "2022-06-02T10:33:19.446Z"
   },
   {
    "duration": 186,
    "start_time": "2022-06-02T10:33:19.461Z"
   },
   {
    "duration": 9,
    "start_time": "2022-06-02T10:33:19.649Z"
   },
   {
    "duration": 86,
    "start_time": "2022-06-02T10:33:19.660Z"
   },
   {
    "duration": 28,
    "start_time": "2022-06-02T10:33:19.749Z"
   },
   {
    "duration": 12,
    "start_time": "2022-06-02T10:33:19.883Z"
   },
   {
    "duration": 26,
    "start_time": "2022-06-02T10:33:20.200Z"
   },
   {
    "duration": 29,
    "start_time": "2022-06-02T10:33:20.603Z"
   },
   {
    "duration": 10,
    "start_time": "2022-06-02T10:33:20.877Z"
   },
   {
    "duration": 19,
    "start_time": "2022-06-02T10:33:21.264Z"
   },
   {
    "duration": 9,
    "start_time": "2022-06-02T10:33:22.824Z"
   },
   {
    "duration": 39,
    "start_time": "2022-06-02T10:33:23.295Z"
   },
   {
    "duration": 33,
    "start_time": "2022-06-02T10:33:51.762Z"
   },
   {
    "duration": 68,
    "start_time": "2022-06-02T10:33:52.969Z"
   },
   {
    "duration": 88,
    "start_time": "2022-06-02T10:34:01.222Z"
   },
   {
    "duration": 51,
    "start_time": "2022-06-02T10:34:46.169Z"
   },
   {
    "duration": 134,
    "start_time": "2022-06-02T10:34:52.587Z"
   },
   {
    "duration": 77,
    "start_time": "2022-06-02T10:35:07.637Z"
   },
   {
    "duration": 65,
    "start_time": "2022-06-02T10:35:36.040Z"
   },
   {
    "duration": 15,
    "start_time": "2022-06-02T10:36:01.210Z"
   },
   {
    "duration": 43,
    "start_time": "2022-06-02T10:36:11.115Z"
   },
   {
    "duration": 63,
    "start_time": "2022-06-02T10:38:58.687Z"
   },
   {
    "duration": 18,
    "start_time": "2022-06-02T10:39:22.194Z"
   },
   {
    "duration": 1704,
    "start_time": "2022-06-02T10:39:54.173Z"
   },
   {
    "duration": 476,
    "start_time": "2022-06-02T10:39:55.880Z"
   },
   {
    "duration": 3,
    "start_time": "2022-06-02T10:39:56.359Z"
   },
   {
    "duration": 48,
    "start_time": "2022-06-02T10:39:56.710Z"
   },
   {
    "duration": 24,
    "start_time": "2022-06-02T10:39:57.107Z"
   },
   {
    "duration": 16,
    "start_time": "2022-06-02T10:39:57.416Z"
   },
   {
    "duration": 135,
    "start_time": "2022-06-02T10:39:57.845Z"
   },
   {
    "duration": 13,
    "start_time": "2022-06-02T10:39:59.092Z"
   },
   {
    "duration": 67,
    "start_time": "2022-06-02T10:39:59.945Z"
   },
   {
    "duration": 39,
    "start_time": "2022-06-02T10:40:00.719Z"
   },
   {
    "duration": 16,
    "start_time": "2022-06-02T10:40:01.776Z"
   },
   {
    "duration": 25,
    "start_time": "2022-06-02T10:40:02.544Z"
   },
   {
    "duration": 45,
    "start_time": "2022-06-02T10:40:03.424Z"
   },
   {
    "duration": 11,
    "start_time": "2022-06-02T10:40:03.846Z"
   },
   {
    "duration": 28,
    "start_time": "2022-06-02T10:40:04.269Z"
   },
   {
    "duration": 14,
    "start_time": "2022-06-02T10:40:05.279Z"
   },
   {
    "duration": 62,
    "start_time": "2022-06-02T10:40:05.784Z"
   },
   {
    "duration": 7,
    "start_time": "2022-06-02T10:40:07.085Z"
   },
   {
    "duration": 7,
    "start_time": "2022-06-02T10:40:07.910Z"
   },
   {
    "duration": 4109,
    "start_time": "2022-06-02T10:40:09.414Z"
   },
   {
    "duration": 32,
    "start_time": "2022-06-02T10:40:20.595Z"
   },
   {
    "duration": 97,
    "start_time": "2022-06-02T10:40:21.122Z"
   },
   {
    "duration": 29,
    "start_time": "2022-06-02T10:40:40.808Z"
   },
   {
    "duration": 57,
    "start_time": "2022-06-02T10:41:22.423Z"
   },
   {
    "duration": 13,
    "start_time": "2022-06-02T10:41:50.923Z"
   },
   {
    "duration": 8,
    "start_time": "2022-06-02T10:42:59.769Z"
   },
   {
    "duration": 170,
    "start_time": "2022-06-02T10:49:20.038Z"
   },
   {
    "duration": 14,
    "start_time": "2022-06-02T10:49:27.894Z"
   },
   {
    "duration": 15,
    "start_time": "2022-06-02T10:49:36.578Z"
   },
   {
    "duration": 6,
    "start_time": "2022-06-02T10:51:49.966Z"
   },
   {
    "duration": 12,
    "start_time": "2022-06-02T10:53:20.265Z"
   },
   {
    "duration": 38,
    "start_time": "2022-06-02T10:57:58.513Z"
   },
   {
    "duration": 13,
    "start_time": "2022-06-02T10:58:23.292Z"
   },
   {
    "duration": 26,
    "start_time": "2022-06-02T10:58:27.024Z"
   },
   {
    "duration": 21,
    "start_time": "2022-06-02T10:58:51.660Z"
   },
   {
    "duration": 19,
    "start_time": "2022-06-02T11:00:17.589Z"
   },
   {
    "duration": 19,
    "start_time": "2022-06-02T11:00:44.215Z"
   },
   {
    "duration": 615,
    "start_time": "2022-06-02T11:00:59.035Z"
   },
   {
    "duration": 29,
    "start_time": "2022-06-02T11:01:50.161Z"
   },
   {
    "duration": 38,
    "start_time": "2022-06-02T11:02:25.769Z"
   },
   {
    "duration": 424,
    "start_time": "2022-06-02T11:02:47.402Z"
   },
   {
    "duration": 10,
    "start_time": "2022-06-02T11:04:57.150Z"
   },
   {
    "duration": 585,
    "start_time": "2022-06-02T11:05:24.711Z"
   },
   {
    "duration": 5,
    "start_time": "2022-06-02T11:08:16.487Z"
   },
   {
    "duration": 24,
    "start_time": "2022-06-02T11:08:25.343Z"
   },
   {
    "duration": 284,
    "start_time": "2022-06-02T11:08:29.085Z"
   },
   {
    "duration": 799,
    "start_time": "2022-06-02T11:09:14.380Z"
   },
   {
    "duration": 4,
    "start_time": "2022-06-02T11:14:18.530Z"
   },
   {
    "duration": 524,
    "start_time": "2022-06-02T11:14:20.827Z"
   },
   {
    "duration": 33,
    "start_time": "2022-06-02T11:16:27.523Z"
   },
   {
    "duration": 629,
    "start_time": "2022-06-02T11:17:13.875Z"
   },
   {
    "duration": 777,
    "start_time": "2022-06-02T11:17:33.372Z"
   },
   {
    "duration": 438,
    "start_time": "2022-06-02T11:17:42.732Z"
   },
   {
    "duration": 634,
    "start_time": "2022-06-02T11:18:42.074Z"
   },
   {
    "duration": 454,
    "start_time": "2022-06-02T11:19:10.816Z"
   },
   {
    "duration": 460,
    "start_time": "2022-06-02T11:20:28.192Z"
   },
   {
    "duration": 50,
    "start_time": "2022-06-02T11:20:51.020Z"
   },
   {
    "duration": 518,
    "start_time": "2022-06-02T11:20:55.350Z"
   },
   {
    "duration": 373,
    "start_time": "2022-06-02T11:21:41.256Z"
   },
   {
    "duration": 540,
    "start_time": "2022-06-02T11:22:09.920Z"
   },
   {
    "duration": 421,
    "start_time": "2022-06-02T11:22:47.941Z"
   },
   {
    "duration": 59,
    "start_time": "2022-06-02T11:24:37.380Z"
   },
   {
    "duration": 76,
    "start_time": "2022-06-02T11:34:34.393Z"
   },
   {
    "duration": 29,
    "start_time": "2022-06-02T11:39:48.917Z"
   },
   {
    "duration": 9,
    "start_time": "2022-06-02T11:39:57.879Z"
   },
   {
    "duration": 17,
    "start_time": "2022-06-02T11:40:22.570Z"
   },
   {
    "duration": 12,
    "start_time": "2022-06-02T11:40:39.587Z"
   },
   {
    "duration": 6,
    "start_time": "2022-06-02T11:41:01.144Z"
   },
   {
    "duration": 11,
    "start_time": "2022-06-02T11:41:04.769Z"
   },
   {
    "duration": 16,
    "start_time": "2022-06-02T11:41:55.021Z"
   },
   {
    "duration": 8,
    "start_time": "2022-06-02T11:42:50.872Z"
   },
   {
    "duration": 12,
    "start_time": "2022-06-02T11:43:41.873Z"
   },
   {
    "duration": 338,
    "start_time": "2022-06-02T11:43:50.522Z"
   },
   {
    "duration": 32,
    "start_time": "2022-06-02T11:48:55.081Z"
   },
   {
    "duration": 8,
    "start_time": "2022-06-02T11:49:06.567Z"
   },
   {
    "duration": 73,
    "start_time": "2022-06-02T11:49:25.471Z"
   },
   {
    "duration": 40,
    "start_time": "2022-06-02T11:49:30.599Z"
   },
   {
    "duration": 13,
    "start_time": "2022-06-02T11:49:35.922Z"
   },
   {
    "duration": 14,
    "start_time": "2022-06-02T11:49:53.293Z"
   },
   {
    "duration": 18,
    "start_time": "2022-06-02T11:50:29.947Z"
   },
   {
    "duration": 31,
    "start_time": "2022-06-02T11:50:57.033Z"
   },
   {
    "duration": 20,
    "start_time": "2022-06-02T11:51:02.279Z"
   },
   {
    "duration": 26,
    "start_time": "2022-06-02T11:51:23.861Z"
   },
   {
    "duration": 27,
    "start_time": "2022-06-02T11:51:50.170Z"
   },
   {
    "duration": 37,
    "start_time": "2022-06-02T11:52:01.440Z"
   },
   {
    "duration": 38,
    "start_time": "2022-06-02T11:54:03.293Z"
   },
   {
    "duration": 940,
    "start_time": "2022-06-02T11:54:49.513Z"
   },
   {
    "duration": 46,
    "start_time": "2022-06-02T11:55:08.808Z"
   },
   {
    "duration": 5,
    "start_time": "2022-06-02T11:56:16.509Z"
   },
   {
    "duration": 18,
    "start_time": "2022-06-02T11:56:54.273Z"
   },
   {
    "duration": 11,
    "start_time": "2022-06-02T11:58:29.843Z"
   },
   {
    "duration": 20,
    "start_time": "2022-06-02T12:14:43.308Z"
   },
   {
    "duration": 23,
    "start_time": "2022-06-02T12:15:01.685Z"
   },
   {
    "duration": 38,
    "start_time": "2022-06-02T12:17:55.800Z"
   },
   {
    "duration": 41,
    "start_time": "2022-06-02T12:27:12.198Z"
   },
   {
    "duration": 8,
    "start_time": "2022-06-02T12:27:21.698Z"
   },
   {
    "duration": 11,
    "start_time": "2022-06-02T12:40:53.267Z"
   },
   {
    "duration": 21,
    "start_time": "2022-06-02T12:41:44.673Z"
   },
   {
    "duration": 11,
    "start_time": "2022-06-02T12:43:41.677Z"
   },
   {
    "duration": 79,
    "start_time": "2022-06-02T12:43:52.968Z"
   },
   {
    "duration": 449,
    "start_time": "2022-06-02T12:44:01.684Z"
   },
   {
    "duration": 19,
    "start_time": "2022-06-02T12:46:29.987Z"
   },
   {
    "duration": 18,
    "start_time": "2022-06-02T12:46:38.514Z"
   },
   {
    "duration": 18,
    "start_time": "2022-06-02T12:46:43.221Z"
   },
   {
    "duration": 1629,
    "start_time": "2022-06-02T12:49:29.397Z"
   },
   {
    "duration": 597,
    "start_time": "2022-06-02T12:49:31.033Z"
   },
   {
    "duration": 4,
    "start_time": "2022-06-02T12:49:31.632Z"
   },
   {
    "duration": 84,
    "start_time": "2022-06-02T12:49:31.638Z"
   },
   {
    "duration": 24,
    "start_time": "2022-06-02T12:49:31.723Z"
   },
   {
    "duration": 41,
    "start_time": "2022-06-02T12:49:31.749Z"
   },
   {
    "duration": 188,
    "start_time": "2022-06-02T12:49:31.912Z"
   },
   {
    "duration": 8,
    "start_time": "2022-06-02T12:49:32.969Z"
   },
   {
    "duration": 47,
    "start_time": "2022-06-02T12:49:33.871Z"
   },
   {
    "duration": 26,
    "start_time": "2022-06-02T12:49:34.787Z"
   },
   {
    "duration": 11,
    "start_time": "2022-06-02T12:49:35.919Z"
   },
   {
    "duration": 24,
    "start_time": "2022-06-02T12:49:36.969Z"
   },
   {
    "duration": 35,
    "start_time": "2022-06-02T12:49:38.066Z"
   },
   {
    "duration": 12,
    "start_time": "2022-06-02T12:49:48.768Z"
   },
   {
    "duration": 34,
    "start_time": "2022-06-02T12:49:50.421Z"
   },
   {
    "duration": 12,
    "start_time": "2022-06-02T12:49:51.500Z"
   },
   {
    "duration": 68,
    "start_time": "2022-06-02T12:49:52.101Z"
   },
   {
    "duration": 6,
    "start_time": "2022-06-02T12:49:53.901Z"
   },
   {
    "duration": 7,
    "start_time": "2022-06-02T12:49:55.069Z"
   },
   {
    "duration": 2991,
    "start_time": "2022-06-02T12:49:57.549Z"
   },
   {
    "duration": 4571,
    "start_time": "2022-06-02T12:50:00.543Z"
   },
   {
    "duration": 23,
    "start_time": "2022-06-02T12:50:26.265Z"
   },
   {
    "duration": 27,
    "start_time": "2022-06-02T12:50:30.240Z"
   },
   {
    "duration": 89,
    "start_time": "2022-06-02T12:50:37.567Z"
   },
   {
    "duration": 8,
    "start_time": "2022-06-02T12:50:38.647Z"
   },
   {
    "duration": 103,
    "start_time": "2022-06-02T12:50:39.344Z"
   },
   {
    "duration": 23,
    "start_time": "2022-06-02T12:50:39.967Z"
   },
   {
    "duration": 77,
    "start_time": "2022-06-02T12:50:41.186Z"
   },
   {
    "duration": 109,
    "start_time": "2022-06-02T12:50:41.694Z"
   },
   {
    "duration": 20,
    "start_time": "2022-06-02T12:50:48.939Z"
   },
   {
    "duration": 42,
    "start_time": "2022-06-02T12:50:50.113Z"
   },
   {
    "duration": 100,
    "start_time": "2022-06-02T12:51:39.466Z"
   },
   {
    "duration": 8,
    "start_time": "2022-06-02T12:52:07.570Z"
   },
   {
    "duration": 17,
    "start_time": "2022-06-02T12:52:21.979Z"
   },
   {
    "duration": 31,
    "start_time": "2022-06-02T12:52:31.144Z"
   },
   {
    "duration": 24,
    "start_time": "2022-06-02T12:52:55.748Z"
   },
   {
    "duration": 22,
    "start_time": "2022-06-02T12:53:07.788Z"
   },
   {
    "duration": 217,
    "start_time": "2022-06-02T12:53:56.465Z"
   },
   {
    "duration": 17,
    "start_time": "2022-06-02T12:54:30.383Z"
   },
   {
    "duration": 14,
    "start_time": "2022-06-02T12:54:43.823Z"
   },
   {
    "duration": 94,
    "start_time": "2022-06-02T12:56:15.492Z"
   },
   {
    "duration": 11,
    "start_time": "2022-06-02T12:57:50.312Z"
   },
   {
    "duration": 8,
    "start_time": "2022-06-02T12:57:57.466Z"
   },
   {
    "duration": 24,
    "start_time": "2022-06-02T12:59:10.671Z"
   },
   {
    "duration": 7,
    "start_time": "2022-06-02T12:59:38.184Z"
   },
   {
    "duration": 8,
    "start_time": "2022-06-02T12:59:54.512Z"
   },
   {
    "duration": 26,
    "start_time": "2022-06-02T13:00:00.147Z"
   },
   {
    "duration": 23,
    "start_time": "2022-06-02T13:00:10.962Z"
   },
   {
    "duration": 220,
    "start_time": "2022-06-02T13:00:39.370Z"
   },
   {
    "duration": 25,
    "start_time": "2022-06-02T13:00:50.666Z"
   },
   {
    "duration": 41,
    "start_time": "2022-06-02T13:00:51.117Z"
   },
   {
    "duration": 99,
    "start_time": "2022-06-02T13:00:55.672Z"
   },
   {
    "duration": 28,
    "start_time": "2022-06-02T13:01:37.712Z"
   },
   {
    "duration": 292,
    "start_time": "2022-06-02T13:02:27.342Z"
   },
   {
    "duration": 287,
    "start_time": "2022-06-02T13:04:00.462Z"
   },
   {
    "duration": 34,
    "start_time": "2022-06-02T13:04:23.619Z"
   },
   {
    "duration": 410,
    "start_time": "2022-06-02T13:04:35.227Z"
   },
   {
    "duration": 51,
    "start_time": "2022-06-02T13:06:44.207Z"
   },
   {
    "duration": 119,
    "start_time": "2022-06-02T13:06:49.220Z"
   },
   {
    "duration": 17,
    "start_time": "2022-06-02T13:07:04.755Z"
   },
   {
    "duration": 39,
    "start_time": "2022-06-02T13:07:32.997Z"
   },
   {
    "duration": 626,
    "start_time": "2022-06-02T13:07:49.346Z"
   },
   {
    "duration": 36,
    "start_time": "2022-06-02T13:08:30.362Z"
   },
   {
    "duration": 59,
    "start_time": "2022-06-02T13:10:23.799Z"
   },
   {
    "duration": 293,
    "start_time": "2022-06-02T13:10:43.764Z"
   },
   {
    "duration": 300,
    "start_time": "2022-06-02T13:11:26.889Z"
   },
   {
    "duration": 483,
    "start_time": "2022-06-02T13:11:42.867Z"
   },
   {
    "duration": 333,
    "start_time": "2022-06-02T13:11:53.012Z"
   },
   {
    "duration": 30,
    "start_time": "2022-06-02T13:12:18.539Z"
   },
   {
    "duration": 252,
    "start_time": "2022-06-02T13:12:39.954Z"
   },
   {
    "duration": 503,
    "start_time": "2022-06-02T13:13:12.742Z"
   },
   {
    "duration": 20,
    "start_time": "2022-06-02T13:13:18.544Z"
   },
   {
    "duration": 268,
    "start_time": "2022-06-02T13:16:08.753Z"
   },
   {
    "duration": 74,
    "start_time": "2022-06-02T13:16:52.523Z"
   },
   {
    "duration": 18,
    "start_time": "2022-06-02T13:18:24.441Z"
   },
   {
    "duration": 26,
    "start_time": "2022-06-02T13:21:59.859Z"
   },
   {
    "duration": 22,
    "start_time": "2022-06-02T13:22:19.336Z"
   },
   {
    "duration": 24,
    "start_time": "2022-06-02T13:38:51.747Z"
   },
   {
    "duration": 87,
    "start_time": "2022-06-02T13:38:51.780Z"
   },
   {
    "duration": 24,
    "start_time": "2022-06-02T13:39:00.702Z"
   },
   {
    "duration": 14,
    "start_time": "2022-06-02T13:39:21.258Z"
   },
   {
    "duration": 4,
    "start_time": "2022-06-02T13:39:39.759Z"
   },
   {
    "duration": 5,
    "start_time": "2022-06-02T13:39:50.879Z"
   },
   {
    "duration": 864,
    "start_time": "2022-06-02T13:41:00.542Z"
   },
   {
    "duration": 329,
    "start_time": "2022-06-02T13:41:27.624Z"
   },
   {
    "duration": 1378,
    "start_time": "2022-06-02T13:42:01.083Z"
   },
   {
    "duration": 32,
    "start_time": "2022-06-02T13:42:22.957Z"
   },
   {
    "duration": 43,
    "start_time": "2022-06-02T13:43:14.360Z"
   },
   {
    "duration": 24,
    "start_time": "2022-06-02T13:44:10.306Z"
   },
   {
    "duration": 76,
    "start_time": "2022-06-02T13:44:25.398Z"
   },
   {
    "duration": 83,
    "start_time": "2022-06-02T13:44:50.877Z"
   },
   {
    "duration": 891,
    "start_time": "2022-06-02T13:45:25.547Z"
   },
   {
    "duration": 734,
    "start_time": "2022-06-02T13:45:49.656Z"
   },
   {
    "duration": 45,
    "start_time": "2022-06-02T13:46:06.373Z"
   },
   {
    "duration": 65,
    "start_time": "2022-06-02T13:46:49.054Z"
   },
   {
    "duration": 41,
    "start_time": "2022-06-02T13:46:54.595Z"
   },
   {
    "duration": 54,
    "start_time": "2022-06-02T13:47:31.968Z"
   },
   {
    "duration": 26,
    "start_time": "2022-06-02T13:47:40.549Z"
   },
   {
    "duration": 27,
    "start_time": "2022-06-02T13:48:14.373Z"
   },
   {
    "duration": 32,
    "start_time": "2022-06-02T13:48:39.972Z"
   },
   {
    "duration": 45,
    "start_time": "2022-06-02T13:49:01.762Z"
   },
   {
    "duration": 47,
    "start_time": "2022-06-02T13:50:39.742Z"
   },
   {
    "duration": 73,
    "start_time": "2022-06-02T13:51:32.312Z"
   },
   {
    "duration": 49,
    "start_time": "2022-06-02T13:51:44.392Z"
   },
   {
    "duration": 26,
    "start_time": "2022-06-02T13:53:52.898Z"
   },
   {
    "duration": 8,
    "start_time": "2022-06-02T13:54:17.703Z"
   },
   {
    "duration": 23,
    "start_time": "2022-06-02T13:56:09.286Z"
   },
   {
    "duration": 77,
    "start_time": "2022-06-02T13:56:24.320Z"
   },
   {
    "duration": 7,
    "start_time": "2022-06-02T13:57:16.146Z"
   },
   {
    "duration": 9,
    "start_time": "2022-06-02T14:00:23.923Z"
   },
   {
    "duration": 8,
    "start_time": "2022-06-02T14:00:32.255Z"
   },
   {
    "duration": 7,
    "start_time": "2022-06-02T14:01:35.400Z"
   },
   {
    "duration": 28,
    "start_time": "2022-06-02T14:01:48.962Z"
   },
   {
    "duration": 67,
    "start_time": "2022-06-02T14:02:28.472Z"
   },
   {
    "duration": 29,
    "start_time": "2022-06-02T14:03:32.353Z"
   },
   {
    "duration": 16,
    "start_time": "2022-06-02T14:04:00.860Z"
   },
   {
    "duration": 1280,
    "start_time": "2022-06-02T14:05:28.045Z"
   },
   {
    "duration": 6,
    "start_time": "2022-06-02T14:05:32.569Z"
   },
   {
    "duration": 15,
    "start_time": "2022-06-02T14:05:33.250Z"
   },
   {
    "duration": 6,
    "start_time": "2022-06-02T14:07:57.817Z"
   },
   {
    "duration": 9,
    "start_time": "2022-06-02T14:11:08.499Z"
   },
   {
    "duration": 19,
    "start_time": "2022-06-02T14:12:05.298Z"
   },
   {
    "duration": 20,
    "start_time": "2022-06-02T14:12:22.921Z"
   },
   {
    "duration": 9,
    "start_time": "2022-06-02T14:12:38.749Z"
   },
   {
    "duration": 12,
    "start_time": "2022-06-02T14:14:10.627Z"
   },
   {
    "duration": 20,
    "start_time": "2022-06-02T14:15:22.278Z"
   },
   {
    "duration": 17,
    "start_time": "2022-06-02T14:15:45.948Z"
   },
   {
    "duration": 18,
    "start_time": "2022-06-02T14:15:58.979Z"
   },
   {
    "duration": 13,
    "start_time": "2022-06-02T14:16:07.047Z"
   },
   {
    "duration": 17,
    "start_time": "2022-06-02T14:17:32.729Z"
   },
   {
    "duration": 5,
    "start_time": "2022-06-02T14:17:52.052Z"
   },
   {
    "duration": 19,
    "start_time": "2022-06-02T14:18:02.096Z"
   },
   {
    "duration": 7,
    "start_time": "2022-06-02T14:18:07.097Z"
   },
   {
    "duration": 12,
    "start_time": "2022-06-02T14:18:15.120Z"
   },
   {
    "duration": 36,
    "start_time": "2022-06-02T14:18:18.957Z"
   },
   {
    "duration": 23,
    "start_time": "2022-06-02T14:20:43.013Z"
   },
   {
    "duration": 29,
    "start_time": "2022-06-02T14:21:09.591Z"
   },
   {
    "duration": 403,
    "start_time": "2022-06-02T14:28:21.102Z"
   },
   {
    "duration": 187,
    "start_time": "2022-06-02T14:28:56.546Z"
   },
   {
    "duration": 1803,
    "start_time": "2022-06-02T14:29:19.796Z"
   },
   {
    "duration": 561,
    "start_time": "2022-06-02T14:29:21.602Z"
   },
   {
    "duration": 5,
    "start_time": "2022-06-02T14:29:22.165Z"
   },
   {
    "duration": 74,
    "start_time": "2022-06-02T14:29:22.173Z"
   },
   {
    "duration": 29,
    "start_time": "2022-06-02T14:29:22.249Z"
   },
   {
    "duration": 14,
    "start_time": "2022-06-02T14:29:22.281Z"
   },
   {
    "duration": 191,
    "start_time": "2022-06-02T14:29:22.774Z"
   },
   {
    "duration": 11,
    "start_time": "2022-06-02T14:29:24.256Z"
   },
   {
    "duration": 68,
    "start_time": "2022-06-02T14:29:25.218Z"
   },
   {
    "duration": 43,
    "start_time": "2022-06-02T14:29:26.294Z"
   },
   {
    "duration": 17,
    "start_time": "2022-06-02T14:29:28.562Z"
   },
   {
    "duration": 41,
    "start_time": "2022-06-02T14:29:29.626Z"
   },
   {
    "duration": 44,
    "start_time": "2022-06-02T14:29:30.645Z"
   },
   {
    "duration": 14,
    "start_time": "2022-06-02T14:29:31.124Z"
   },
   {
    "duration": 64,
    "start_time": "2022-06-02T14:29:32.222Z"
   },
   {
    "duration": 16,
    "start_time": "2022-06-02T14:29:34.601Z"
   },
   {
    "duration": 73,
    "start_time": "2022-06-02T14:29:35.248Z"
   },
   {
    "duration": 8,
    "start_time": "2022-06-02T14:29:36.665Z"
   },
   {
    "duration": 7,
    "start_time": "2022-06-02T14:29:38.693Z"
   },
   {
    "duration": 4062,
    "start_time": "2022-06-02T14:29:43.781Z"
   },
   {
    "duration": 4568,
    "start_time": "2022-06-02T14:29:47.846Z"
   },
   {
    "duration": 27,
    "start_time": "2022-06-02T14:29:52.416Z"
   },
   {
    "duration": 36,
    "start_time": "2022-06-02T14:29:52.446Z"
   },
   {
    "duration": 163,
    "start_time": "2022-06-02T14:29:52.484Z"
   },
   {
    "duration": 5,
    "start_time": "2022-06-02T14:29:52.650Z"
   },
   {
    "duration": 163,
    "start_time": "2022-06-02T14:29:52.657Z"
   },
   {
    "duration": 23,
    "start_time": "2022-06-02T14:29:52.823Z"
   },
   {
    "duration": 83,
    "start_time": "2022-06-02T14:29:53.488Z"
   },
   {
    "duration": 119,
    "start_time": "2022-06-02T14:29:54.127Z"
   },
   {
    "duration": 19,
    "start_time": "2022-06-02T14:29:54.904Z"
   },
   {
    "duration": 55,
    "start_time": "2022-06-02T14:29:56.040Z"
   },
   {
    "duration": 174,
    "start_time": "2022-06-02T14:29:57.227Z"
   },
   {
    "duration": 12,
    "start_time": "2022-06-02T14:30:08.141Z"
   },
   {
    "duration": 24,
    "start_time": "2022-06-02T14:30:23.930Z"
   },
   {
    "duration": 501,
    "start_time": "2022-06-02T14:31:10.298Z"
   },
   {
    "duration": 13,
    "start_time": "2022-06-02T14:31:22.176Z"
   },
   {
    "duration": 10,
    "start_time": "2022-06-02T14:31:47.880Z"
   },
   {
    "duration": 25,
    "start_time": "2022-06-02T14:31:48.552Z"
   },
   {
    "duration": 18,
    "start_time": "2022-06-02T14:40:15.263Z"
   },
   {
    "duration": 26,
    "start_time": "2022-06-02T14:40:31.883Z"
   },
   {
    "duration": 34,
    "start_time": "2022-06-02T14:40:32.513Z"
   },
   {
    "duration": 85,
    "start_time": "2022-06-02T14:40:36.172Z"
   },
   {
    "duration": 36,
    "start_time": "2022-06-02T14:40:52.437Z"
   },
   {
    "duration": 43,
    "start_time": "2022-06-02T14:40:52.942Z"
   },
   {
    "duration": 120,
    "start_time": "2022-06-02T14:40:53.729Z"
   },
   {
    "duration": 59,
    "start_time": "2022-06-02T14:40:54.371Z"
   },
   {
    "duration": 6,
    "start_time": "2022-06-02T14:40:54.981Z"
   },
   {
    "duration": 10,
    "start_time": "2022-06-02T14:40:55.535Z"
   },
   {
    "duration": 28,
    "start_time": "2022-06-02T14:40:56.037Z"
   },
   {
    "duration": 35,
    "start_time": "2022-06-02T14:41:01.282Z"
   },
   {
    "duration": 15,
    "start_time": "2022-06-02T14:45:59.711Z"
   },
   {
    "duration": 22,
    "start_time": "2022-06-02T14:46:07.884Z"
   },
   {
    "duration": 881,
    "start_time": "2022-06-02T14:46:52.912Z"
   },
   {
    "duration": 28,
    "start_time": "2022-06-02T14:48:06.923Z"
   },
   {
    "duration": 14,
    "start_time": "2022-06-02T14:48:33.745Z"
   },
   {
    "duration": 31,
    "start_time": "2022-06-02T14:49:06.177Z"
   },
   {
    "duration": 250,
    "start_time": "2022-06-02T14:49:43.148Z"
   },
   {
    "duration": 18,
    "start_time": "2022-06-02T14:50:49.070Z"
   },
   {
    "duration": 35,
    "start_time": "2022-06-02T14:50:58.239Z"
   },
   {
    "duration": 76,
    "start_time": "2022-06-02T14:51:00.079Z"
   },
   {
    "duration": 485,
    "start_time": "2022-06-02T14:52:14.920Z"
   },
   {
    "duration": 39,
    "start_time": "2022-06-02T14:52:44.315Z"
   },
   {
    "duration": 18,
    "start_time": "2022-06-02T14:52:55.866Z"
   },
   {
    "duration": 34,
    "start_time": "2022-06-02T14:53:01.727Z"
   },
   {
    "duration": 41,
    "start_time": "2022-06-02T14:53:13.042Z"
   },
   {
    "duration": 13,
    "start_time": "2022-06-02T14:53:39.297Z"
   },
   {
    "duration": 8,
    "start_time": "2022-06-02T14:53:44.914Z"
   },
   {
    "duration": 28,
    "start_time": "2022-06-02T14:54:22.052Z"
   },
   {
    "duration": 27,
    "start_time": "2022-06-02T14:55:20.272Z"
   },
   {
    "duration": 21,
    "start_time": "2022-06-02T14:56:09.681Z"
   },
   {
    "duration": 30,
    "start_time": "2022-06-02T14:56:10.754Z"
   },
   {
    "duration": 17,
    "start_time": "2022-06-02T14:56:21.130Z"
   },
   {
    "duration": 8,
    "start_time": "2022-06-02T14:56:22.487Z"
   },
   {
    "duration": 34,
    "start_time": "2022-06-02T14:56:37.559Z"
   },
   {
    "duration": 7,
    "start_time": "2022-06-02T14:57:09.907Z"
   },
   {
    "duration": 676,
    "start_time": "2022-06-02T14:57:17.159Z"
   },
   {
    "duration": 0,
    "start_time": "2022-06-02T14:57:17.838Z"
   },
   {
    "duration": 36,
    "start_time": "2022-06-02T15:00:16.543Z"
   },
   {
    "duration": 46,
    "start_time": "2022-06-02T15:01:26.080Z"
   },
   {
    "duration": 4,
    "start_time": "2022-06-02T15:02:07.548Z"
   },
   {
    "duration": 17,
    "start_time": "2022-06-02T15:02:13.061Z"
   },
   {
    "duration": 207,
    "start_time": "2022-06-02T15:03:35.565Z"
   },
   {
    "duration": 15,
    "start_time": "2022-06-02T15:04:26.995Z"
   },
   {
    "duration": 23,
    "start_time": "2022-06-02T15:04:35.313Z"
   },
   {
    "duration": 17,
    "start_time": "2022-06-02T15:05:08.246Z"
   },
   {
    "duration": 226,
    "start_time": "2022-06-02T15:05:21.818Z"
   },
   {
    "duration": 152,
    "start_time": "2022-06-02T15:05:36.422Z"
   },
   {
    "duration": 5,
    "start_time": "2022-06-02T15:05:55.001Z"
   },
   {
    "duration": 418,
    "start_time": "2022-06-02T15:06:10.257Z"
   },
   {
    "duration": 42,
    "start_time": "2022-06-02T15:07:02.754Z"
   },
   {
    "duration": 29,
    "start_time": "2022-06-02T15:07:12.542Z"
   },
   {
    "duration": 40,
    "start_time": "2022-06-02T15:11:47.091Z"
   },
   {
    "duration": 8,
    "start_time": "2022-06-02T15:11:58.614Z"
   },
   {
    "duration": 25,
    "start_time": "2022-06-02T15:14:10.793Z"
   },
   {
    "duration": 1482,
    "start_time": "2022-06-02T15:14:41.728Z"
   },
   {
    "duration": 38,
    "start_time": "2022-06-02T15:19:51.183Z"
   },
   {
    "duration": 15,
    "start_time": "2022-06-02T15:20:01.847Z"
   },
   {
    "duration": 23,
    "start_time": "2022-06-02T15:20:06.758Z"
   },
   {
    "duration": 30,
    "start_time": "2022-06-02T15:20:16.428Z"
   },
   {
    "duration": 22,
    "start_time": "2022-06-02T15:20:35.554Z"
   },
   {
    "duration": 9,
    "start_time": "2022-06-02T15:21:22.884Z"
   },
   {
    "duration": 532,
    "start_time": "2022-06-02T15:22:50.960Z"
   },
   {
    "duration": 323,
    "start_time": "2022-06-02T15:23:01.384Z"
   },
   {
    "duration": 7,
    "start_time": "2022-06-02T15:23:13.013Z"
   },
   {
    "duration": 11,
    "start_time": "2022-06-02T15:24:57.297Z"
   },
   {
    "duration": 16,
    "start_time": "2022-06-02T15:25:51.798Z"
   },
   {
    "duration": 42833,
    "start_time": "2022-06-02T15:26:31.477Z"
   },
   {
    "duration": 29728,
    "start_time": "2022-06-02T15:27:17.953Z"
   },
   {
    "duration": 0,
    "start_time": "2022-06-02T15:27:47.685Z"
   },
   {
    "duration": 13,
    "start_time": "2022-06-02T15:27:49.883Z"
   },
   {
    "duration": 6,
    "start_time": "2022-06-02T15:28:03.005Z"
   },
   {
    "duration": 24,
    "start_time": "2022-06-02T15:28:32.074Z"
   },
   {
    "duration": 25,
    "start_time": "2022-06-02T15:28:42.221Z"
   },
   {
    "duration": 17,
    "start_time": "2022-06-02T15:31:28.573Z"
   },
   {
    "duration": 26,
    "start_time": "2022-06-02T15:31:50.397Z"
   },
   {
    "duration": 21,
    "start_time": "2022-06-02T15:32:36.962Z"
   },
   {
    "duration": 15,
    "start_time": "2022-06-02T15:33:32.866Z"
   },
   {
    "duration": 67462,
    "start_time": "2022-06-02T15:34:15.942Z"
   },
   {
    "duration": 12,
    "start_time": "2022-06-02T15:37:01.446Z"
   },
   {
    "duration": 17,
    "start_time": "2022-06-02T15:37:17.907Z"
   },
   {
    "duration": 15711,
    "start_time": "2022-06-02T15:37:44.144Z"
   },
   {
    "duration": 21,
    "start_time": "2022-06-02T15:38:18.681Z"
   },
   {
    "duration": 18,
    "start_time": "2022-06-02T15:38:36.313Z"
   },
   {
    "duration": 17,
    "start_time": "2022-06-02T15:38:46.808Z"
   },
   {
    "duration": 13,
    "start_time": "2022-06-02T15:40:16.937Z"
   },
   {
    "duration": 12,
    "start_time": "2022-06-02T15:40:22.660Z"
   },
   {
    "duration": 12,
    "start_time": "2022-06-02T15:40:33.227Z"
   },
   {
    "duration": 18,
    "start_time": "2022-06-02T15:40:48.239Z"
   },
   {
    "duration": 11,
    "start_time": "2022-06-02T15:40:56.234Z"
   },
   {
    "duration": 85673,
    "start_time": "2022-06-02T15:41:16.071Z"
   },
   {
    "duration": 0,
    "start_time": "2022-06-02T15:42:41.746Z"
   },
   {
    "duration": 372656,
    "start_time": "2022-06-02T15:44:03.710Z"
   },
   {
    "duration": 0,
    "start_time": "2022-06-02T15:50:16.368Z"
   },
   {
    "duration": 15,
    "start_time": "2022-06-02T15:50:18.814Z"
   },
   {
    "duration": 16,
    "start_time": "2022-06-02T15:50:30.636Z"
   },
   {
    "duration": 83449,
    "start_time": "2022-06-02T15:50:55.653Z"
   },
   {
    "duration": 1,
    "start_time": "2022-06-02T15:52:19.104Z"
   },
   {
    "duration": 23,
    "start_time": "2022-06-02T15:52:21.692Z"
   },
   {
    "duration": 320,
    "start_time": "2022-06-02T15:53:25.653Z"
   },
   {
    "duration": 11,
    "start_time": "2022-06-02T15:53:29.484Z"
   },
   {
    "duration": 981,
    "start_time": "2022-06-02T15:55:36.884Z"
   },
   {
    "duration": 138,
    "start_time": "2022-06-02T15:57:26.561Z"
   },
   {
    "duration": 44,
    "start_time": "2022-06-02T15:57:52.187Z"
   },
   {
    "duration": 22,
    "start_time": "2022-06-02T15:58:13.825Z"
   },
   {
    "duration": 180,
    "start_time": "2022-06-02T15:58:42.014Z"
   },
   {
    "duration": 17,
    "start_time": "2022-06-02T15:58:44.782Z"
   },
   {
    "duration": 29,
    "start_time": "2022-06-02T15:58:53.822Z"
   },
   {
    "duration": 38,
    "start_time": "2022-06-02T15:59:22.884Z"
   },
   {
    "duration": 17,
    "start_time": "2022-06-02T15:59:59.661Z"
   },
   {
    "duration": 11,
    "start_time": "2022-06-02T16:00:05.235Z"
   },
   {
    "duration": 17,
    "start_time": "2022-06-02T16:00:23.952Z"
   },
   {
    "duration": 8,
    "start_time": "2022-06-02T16:01:10.303Z"
   },
   {
    "duration": 1241,
    "start_time": "2022-06-02T16:01:48.403Z"
   },
   {
    "duration": 37,
    "start_time": "2022-06-02T16:04:02.257Z"
   },
   {
    "duration": 42,
    "start_time": "2022-06-02T16:04:16.508Z"
   },
   {
    "duration": 5,
    "start_time": "2022-06-02T16:04:43.339Z"
   },
   {
    "duration": 40,
    "start_time": "2022-06-02T16:04:51.693Z"
   },
   {
    "duration": 18,
    "start_time": "2022-06-02T16:05:20.428Z"
   },
   {
    "duration": 460,
    "start_time": "2022-06-02T16:06:06.608Z"
   },
   {
    "duration": 318,
    "start_time": "2022-06-02T16:06:14.352Z"
   },
   {
    "duration": 32,
    "start_time": "2022-06-02T16:11:10.773Z"
   },
   {
    "duration": 44,
    "start_time": "2022-06-02T16:11:16.357Z"
   },
   {
    "duration": 24,
    "start_time": "2022-06-02T16:11:37.099Z"
   },
   {
    "duration": 8,
    "start_time": "2022-06-02T16:12:24.867Z"
   },
   {
    "duration": 26,
    "start_time": "2022-06-02T16:13:03.616Z"
   },
   {
    "duration": 1493,
    "start_time": "2022-06-02T16:13:42.288Z"
   },
   {
    "duration": 339,
    "start_time": "2022-06-02T16:13:43.783Z"
   },
   {
    "duration": 4,
    "start_time": "2022-06-02T16:13:44.360Z"
   },
   {
    "duration": 46,
    "start_time": "2022-06-02T16:13:44.852Z"
   },
   {
    "duration": 22,
    "start_time": "2022-06-02T16:13:45.369Z"
   },
   {
    "duration": 9,
    "start_time": "2022-06-02T16:13:45.838Z"
   },
   {
    "duration": 152,
    "start_time": "2022-06-02T16:13:46.337Z"
   },
   {
    "duration": 10,
    "start_time": "2022-06-02T16:13:47.543Z"
   },
   {
    "duration": 62,
    "start_time": "2022-06-02T16:13:48.347Z"
   },
   {
    "duration": 45,
    "start_time": "2022-06-02T16:13:49.208Z"
   },
   {
    "duration": 12,
    "start_time": "2022-06-02T16:13:50.832Z"
   },
   {
    "duration": 37,
    "start_time": "2022-06-02T16:13:59.975Z"
   },
   {
    "duration": 31,
    "start_time": "2022-06-02T16:14:01.280Z"
   },
   {
    "duration": 16,
    "start_time": "2022-06-02T16:14:04.517Z"
   },
   {
    "duration": 27,
    "start_time": "2022-06-02T16:14:04.978Z"
   },
   {
    "duration": 14,
    "start_time": "2022-06-02T16:14:13.274Z"
   },
   {
    "duration": 60,
    "start_time": "2022-06-02T16:14:13.717Z"
   },
   {
    "duration": 6,
    "start_time": "2022-06-02T16:14:15.168Z"
   },
   {
    "duration": 171,
    "start_time": "2022-06-02T16:15:01.832Z"
   },
   {
    "duration": 11,
    "start_time": "2022-06-02T16:15:06.402Z"
   },
   {
    "duration": 56,
    "start_time": "2022-06-02T16:15:08.842Z"
   },
   {
    "duration": 457,
    "start_time": "2022-06-02T16:15:10.110Z"
   },
   {
    "duration": 219,
    "start_time": "2022-06-02T16:15:48.702Z"
   },
   {
    "duration": 131,
    "start_time": "2022-06-02T16:16:14.070Z"
   },
   {
    "duration": 34,
    "start_time": "2022-06-02T16:16:44.887Z"
   },
   {
    "duration": 31,
    "start_time": "2022-06-02T16:16:58.589Z"
   },
   {
    "duration": 50,
    "start_time": "2022-06-02T16:17:28.371Z"
   },
   {
    "duration": 32,
    "start_time": "2022-06-02T16:17:33.918Z"
   },
   {
    "duration": 149,
    "start_time": "2022-06-02T16:18:38.199Z"
   },
   {
    "duration": 37,
    "start_time": "2022-06-02T16:19:17.352Z"
   },
   {
    "duration": 41,
    "start_time": "2022-06-02T16:19:38.260Z"
   },
   {
    "duration": 21,
    "start_time": "2022-06-02T16:21:30.674Z"
   },
   {
    "duration": 6,
    "start_time": "2022-06-02T16:22:02.912Z"
   },
   {
    "duration": 18,
    "start_time": "2022-06-02T16:22:14.746Z"
   },
   {
    "duration": 22,
    "start_time": "2022-06-02T16:26:34.002Z"
   },
   {
    "duration": 38,
    "start_time": "2022-06-02T16:27:15.808Z"
   },
   {
    "duration": 5,
    "start_time": "2022-06-02T16:27:34.499Z"
   },
   {
    "duration": 1898,
    "start_time": "2022-06-02T16:27:51.797Z"
   },
   {
    "duration": 380,
    "start_time": "2022-06-02T16:27:53.697Z"
   },
   {
    "duration": 3,
    "start_time": "2022-06-02T16:27:54.081Z"
   },
   {
    "duration": 50,
    "start_time": "2022-06-02T16:27:54.086Z"
   },
   {
    "duration": 24,
    "start_time": "2022-06-02T16:27:54.138Z"
   },
   {
    "duration": 10,
    "start_time": "2022-06-02T16:27:54.308Z"
   },
   {
    "duration": 182,
    "start_time": "2022-06-02T16:27:54.503Z"
   },
   {
    "duration": 10,
    "start_time": "2022-06-02T16:27:55.137Z"
   },
   {
    "duration": 57,
    "start_time": "2022-06-02T16:27:55.652Z"
   },
   {
    "duration": 39,
    "start_time": "2022-06-02T16:27:56.254Z"
   },
   {
    "duration": 12,
    "start_time": "2022-06-02T16:27:57.182Z"
   },
   {
    "duration": 36,
    "start_time": "2022-06-02T16:27:57.873Z"
   },
   {
    "duration": 42,
    "start_time": "2022-06-02T16:27:58.786Z"
   },
   {
    "duration": 12,
    "start_time": "2022-06-02T16:27:59.208Z"
   },
   {
    "duration": 25,
    "start_time": "2022-06-02T16:27:59.681Z"
   },
   {
    "duration": 13,
    "start_time": "2022-06-02T16:28:01.839Z"
   },
   {
    "duration": 61,
    "start_time": "2022-06-02T16:28:03.634Z"
   },
   {
    "duration": 6,
    "start_time": "2022-06-02T16:28:06.587Z"
   },
   {
    "duration": 7,
    "start_time": "2022-06-02T16:28:07.387Z"
   },
   {
    "duration": 54,
    "start_time": "2022-06-02T16:28:16.223Z"
   },
   {
    "duration": 431,
    "start_time": "2022-06-02T16:28:24.614Z"
   },
   {
    "duration": 34,
    "start_time": "2022-06-02T16:28:30.615Z"
   },
   {
    "duration": 20,
    "start_time": "2022-06-02T16:28:42.715Z"
   },
   {
    "duration": 403,
    "start_time": "2022-06-02T16:29:11.536Z"
   },
   {
    "duration": 15,
    "start_time": "2022-06-02T16:29:22.476Z"
   },
   {
    "duration": 30,
    "start_time": "2022-06-02T16:29:26.478Z"
   },
   {
    "duration": 51,
    "start_time": "2022-06-02T16:30:03.895Z"
   },
   {
    "duration": 39,
    "start_time": "2022-06-02T16:30:08.379Z"
   },
   {
    "duration": 45,
    "start_time": "2022-06-02T16:30:31.806Z"
   },
   {
    "duration": 48,
    "start_time": "2022-06-02T16:30:58.156Z"
   },
   {
    "duration": 11,
    "start_time": "2022-06-02T16:31:07.424Z"
   },
   {
    "duration": 20,
    "start_time": "2022-06-02T16:31:18.044Z"
   },
   {
    "duration": 33,
    "start_time": "2022-06-02T16:31:46.674Z"
   },
   {
    "duration": 1787,
    "start_time": "2022-06-02T16:32:01.767Z"
   },
   {
    "duration": 390,
    "start_time": "2022-06-02T16:32:04.036Z"
   },
   {
    "duration": 3,
    "start_time": "2022-06-02T16:32:04.429Z"
   },
   {
    "duration": 49,
    "start_time": "2022-06-02T16:32:04.650Z"
   },
   {
    "duration": 22,
    "start_time": "2022-06-02T16:32:04.854Z"
   },
   {
    "duration": 9,
    "start_time": "2022-06-02T16:32:05.065Z"
   },
   {
    "duration": 169,
    "start_time": "2022-06-02T16:32:05.285Z"
   },
   {
    "duration": 9,
    "start_time": "2022-06-02T16:32:06.047Z"
   },
   {
    "duration": 63,
    "start_time": "2022-06-02T16:32:07.248Z"
   },
   {
    "duration": 31,
    "start_time": "2022-06-02T16:32:08.373Z"
   },
   {
    "duration": 12,
    "start_time": "2022-06-02T16:32:10.309Z"
   },
   {
    "duration": 33,
    "start_time": "2022-06-02T16:32:11.142Z"
   },
   {
    "duration": 45,
    "start_time": "2022-06-02T16:32:11.851Z"
   },
   {
    "duration": 13,
    "start_time": "2022-06-02T16:32:12.222Z"
   },
   {
    "duration": 30,
    "start_time": "2022-06-02T16:32:13.051Z"
   },
   {
    "duration": 13,
    "start_time": "2022-06-02T16:32:13.786Z"
   },
   {
    "duration": 51,
    "start_time": "2022-06-02T16:32:14.199Z"
   },
   {
    "duration": 7,
    "start_time": "2022-06-02T16:32:15.555Z"
   },
   {
    "duration": 7,
    "start_time": "2022-06-02T16:32:16.192Z"
   },
   {
    "duration": 57,
    "start_time": "2022-06-02T16:32:28.545Z"
   },
   {
    "duration": 47,
    "start_time": "2022-06-02T16:32:33.993Z"
   },
   {
    "duration": 15,
    "start_time": "2022-06-02T16:32:59.934Z"
   },
   {
    "duration": 205,
    "start_time": "2022-06-02T16:33:59.550Z"
   },
   {
    "duration": 13,
    "start_time": "2022-06-02T16:34:43.813Z"
   },
   {
    "duration": 11,
    "start_time": "2022-06-02T16:35:02.379Z"
   },
   {
    "duration": 1648,
    "start_time": "2022-06-02T16:35:23.700Z"
   },
   {
    "duration": 1341,
    "start_time": "2022-06-02T19:05:25.332Z"
   },
   {
    "duration": 274,
    "start_time": "2022-06-02T19:05:27.993Z"
   },
   {
    "duration": 2,
    "start_time": "2022-06-02T19:05:28.269Z"
   },
   {
    "duration": 26,
    "start_time": "2022-06-02T19:05:28.607Z"
   },
   {
    "duration": 14,
    "start_time": "2022-06-02T19:05:28.814Z"
   },
   {
    "duration": 8,
    "start_time": "2022-06-02T19:05:28.915Z"
   },
   {
    "duration": 80,
    "start_time": "2022-06-02T19:05:29.324Z"
   },
   {
    "duration": 7,
    "start_time": "2022-06-02T19:05:30.042Z"
   },
   {
    "duration": 32,
    "start_time": "2022-06-02T19:05:30.349Z"
   },
   {
    "duration": 17,
    "start_time": "2022-06-02T19:05:30.623Z"
   },
   {
    "duration": 12,
    "start_time": "2022-06-02T19:05:31.174Z"
   },
   {
    "duration": 30,
    "start_time": "2022-06-02T19:05:31.555Z"
   },
   {
    "duration": 24,
    "start_time": "2022-06-02T19:05:31.916Z"
   },
   {
    "duration": 12,
    "start_time": "2022-06-02T19:05:32.143Z"
   },
   {
    "duration": 23,
    "start_time": "2022-06-02T19:05:32.364Z"
   },
   {
    "duration": 8,
    "start_time": "2022-06-02T19:05:32.839Z"
   },
   {
    "duration": 52,
    "start_time": "2022-06-02T19:05:33.086Z"
   },
   {
    "duration": 4,
    "start_time": "2022-06-02T19:05:40.806Z"
   },
   {
    "duration": 6,
    "start_time": "2022-06-02T19:05:41.922Z"
   },
   {
    "duration": 31,
    "start_time": "2022-06-02T19:07:07.322Z"
   },
   {
    "duration": 392,
    "start_time": "2022-06-02T19:07:10.703Z"
   },
   {
    "duration": 19,
    "start_time": "2022-06-02T19:07:20.122Z"
   },
   {
    "duration": 73,
    "start_time": "2022-06-02T19:07:25.211Z"
   },
   {
    "duration": 26,
    "start_time": "2022-06-02T19:07:37.507Z"
   },
   {
    "duration": 26,
    "start_time": "2022-06-02T19:07:48.897Z"
   },
   {
    "duration": 26,
    "start_time": "2022-06-02T19:08:48.508Z"
   },
   {
    "duration": 21,
    "start_time": "2022-06-02T19:08:58.235Z"
   },
   {
    "duration": 8,
    "start_time": "2022-06-02T19:09:05.187Z"
   },
   {
    "duration": 26,
    "start_time": "2022-06-02T19:09:26.795Z"
   },
   {
    "duration": 27,
    "start_time": "2022-06-02T19:09:59.768Z"
   },
   {
    "duration": 10,
    "start_time": "2022-06-02T19:10:02.943Z"
   },
   {
    "duration": 26,
    "start_time": "2022-06-02T19:10:41.343Z"
   },
   {
    "duration": 10,
    "start_time": "2022-06-02T19:10:51.583Z"
   },
   {
    "duration": 10,
    "start_time": "2022-06-02T19:11:13.421Z"
   },
   {
    "duration": 11,
    "start_time": "2022-06-02T19:11:23.239Z"
   },
   {
    "duration": 7,
    "start_time": "2022-06-02T19:11:56.606Z"
   },
   {
    "duration": 26,
    "start_time": "2022-06-02T19:12:06.232Z"
   },
   {
    "duration": 11,
    "start_time": "2022-06-02T19:12:17.392Z"
   },
   {
    "duration": 6,
    "start_time": "2022-06-02T19:13:55.712Z"
   },
   {
    "duration": 3,
    "start_time": "2022-06-02T19:14:27.545Z"
   },
   {
    "duration": 11,
    "start_time": "2022-06-02T19:14:53.283Z"
   },
   {
    "duration": 4,
    "start_time": "2022-06-02T19:15:06.560Z"
   },
   {
    "duration": 17,
    "start_time": "2022-06-02T19:17:11.183Z"
   },
   {
    "duration": 27,
    "start_time": "2022-06-02T19:17:22.861Z"
   },
   {
    "duration": 12,
    "start_time": "2022-06-02T19:18:22.147Z"
   },
   {
    "duration": 12,
    "start_time": "2022-06-02T19:18:33.102Z"
   },
   {
    "duration": 13,
    "start_time": "2022-06-02T19:18:43.649Z"
   },
   {
    "duration": 13,
    "start_time": "2022-06-02T19:18:53.175Z"
   },
   {
    "duration": 4,
    "start_time": "2022-06-02T19:19:06.589Z"
   },
   {
    "duration": 13,
    "start_time": "2022-06-02T19:19:28.810Z"
   },
   {
    "duration": 8,
    "start_time": "2022-06-02T19:19:41.200Z"
   },
   {
    "duration": 24,
    "start_time": "2022-06-02T19:22:14.905Z"
   },
   {
    "duration": 11,
    "start_time": "2022-06-02T19:23:06.629Z"
   },
   {
    "duration": 6,
    "start_time": "2022-06-02T19:23:14.706Z"
   },
   {
    "duration": 10,
    "start_time": "2022-06-02T19:23:23.211Z"
   },
   {
    "duration": 5,
    "start_time": "2022-06-02T19:23:29.043Z"
   },
   {
    "duration": 30,
    "start_time": "2022-06-02T19:23:35.392Z"
   },
   {
    "duration": 27,
    "start_time": "2022-06-02T19:25:29.673Z"
   },
   {
    "duration": 1212,
    "start_time": "2022-06-02T19:27:02.986Z"
   },
   {
    "duration": 283,
    "start_time": "2022-06-02T19:27:04.200Z"
   },
   {
    "duration": 3,
    "start_time": "2022-06-02T19:27:04.484Z"
   },
   {
    "duration": 29,
    "start_time": "2022-06-02T19:27:04.489Z"
   },
   {
    "duration": 19,
    "start_time": "2022-06-02T19:27:04.904Z"
   },
   {
    "duration": 7,
    "start_time": "2022-06-02T19:27:05.312Z"
   },
   {
    "duration": 74,
    "start_time": "2022-06-02T19:27:05.678Z"
   },
   {
    "duration": 6,
    "start_time": "2022-06-02T19:27:06.975Z"
   },
   {
    "duration": 35,
    "start_time": "2022-06-02T19:27:07.983Z"
   },
   {
    "duration": 19,
    "start_time": "2022-06-02T19:27:08.795Z"
   },
   {
    "duration": 8,
    "start_time": "2022-06-02T19:27:09.819Z"
   },
   {
    "duration": 18,
    "start_time": "2022-06-02T19:27:10.331Z"
   },
   {
    "duration": 24,
    "start_time": "2022-06-02T19:27:12.585Z"
   },
   {
    "duration": 9,
    "start_time": "2022-06-02T19:27:13.096Z"
   },
   {
    "duration": 16,
    "start_time": "2022-06-02T19:27:13.609Z"
   },
   {
    "duration": 8,
    "start_time": "2022-06-02T19:27:29.584Z"
   },
   {
    "duration": 34,
    "start_time": "2022-06-02T19:27:29.993Z"
   },
   {
    "duration": 99,
    "start_time": "2022-06-02T19:27:43.966Z"
   },
   {
    "duration": 127,
    "start_time": "2022-06-02T19:27:44.739Z"
   },
   {
    "duration": 3,
    "start_time": "2022-06-02T19:27:56.822Z"
   },
   {
    "duration": 402,
    "start_time": "2022-06-02T19:28:01.020Z"
   },
   {
    "duration": 28,
    "start_time": "2022-06-02T19:28:04.895Z"
   },
   {
    "duration": 18,
    "start_time": "2022-06-02T19:28:33.687Z"
   },
   {
    "duration": 447,
    "start_time": "2022-06-02T19:29:22.635Z"
   },
   {
    "duration": 669,
    "start_time": "2022-06-02T19:30:16.803Z"
   },
   {
    "duration": 9,
    "start_time": "2022-06-02T19:30:30.528Z"
   },
   {
    "duration": 411,
    "start_time": "2022-06-02T19:31:43.228Z"
   },
   {
    "duration": 25,
    "start_time": "2022-06-02T19:32:09.655Z"
   },
   {
    "duration": 410,
    "start_time": "2022-06-02T19:32:18.148Z"
   },
   {
    "duration": 7,
    "start_time": "2022-06-02T19:32:42.211Z"
   },
   {
    "duration": 8,
    "start_time": "2022-06-02T19:33:24.075Z"
   },
   {
    "duration": 18,
    "start_time": "2022-06-02T19:33:58.502Z"
   },
   {
    "duration": 10,
    "start_time": "2022-06-02T19:35:09.361Z"
   },
   {
    "duration": 25,
    "start_time": "2022-06-02T19:35:51.964Z"
   },
   {
    "duration": 8,
    "start_time": "2022-06-02T19:35:52.684Z"
   },
   {
    "duration": 15,
    "start_time": "2022-06-02T19:36:28.828Z"
   },
   {
    "duration": 11,
    "start_time": "2022-06-02T19:36:44.597Z"
   },
   {
    "duration": 29,
    "start_time": "2022-06-02T19:36:47.668Z"
   },
   {
    "duration": 10,
    "start_time": "2022-06-02T19:36:51.159Z"
   },
   {
    "duration": 26,
    "start_time": "2022-06-02T19:37:36.001Z"
   },
   {
    "duration": 8,
    "start_time": "2022-06-02T19:37:41.631Z"
   },
   {
    "duration": 10,
    "start_time": "2022-06-02T19:38:08.155Z"
   },
   {
    "duration": 37,
    "start_time": "2022-06-02T19:42:38.186Z"
   },
   {
    "duration": 32,
    "start_time": "2022-06-02T19:43:29.593Z"
   },
   {
    "duration": 12,
    "start_time": "2022-06-02T19:44:25.606Z"
   },
   {
    "duration": 37,
    "start_time": "2022-06-02T19:44:31.237Z"
   },
   {
    "duration": 15,
    "start_time": "2022-06-02T19:46:02.275Z"
   },
   {
    "duration": 1254,
    "start_time": "2022-06-02T19:52:34.569Z"
   },
   {
    "duration": 334,
    "start_time": "2022-06-02T19:52:35.825Z"
   },
   {
    "duration": 3,
    "start_time": "2022-06-02T19:52:36.161Z"
   },
   {
    "duration": 28,
    "start_time": "2022-06-02T19:52:36.513Z"
   },
   {
    "duration": 15,
    "start_time": "2022-06-02T19:52:36.822Z"
   },
   {
    "duration": 7,
    "start_time": "2022-06-02T19:52:37.027Z"
   },
   {
    "duration": 76,
    "start_time": "2022-06-02T19:52:37.129Z"
   },
   {
    "duration": 7,
    "start_time": "2022-06-02T19:52:37.831Z"
   },
   {
    "duration": 33,
    "start_time": "2022-06-02T19:52:38.195Z"
   },
   {
    "duration": 22,
    "start_time": "2022-06-02T19:52:38.538Z"
   },
   {
    "duration": 9,
    "start_time": "2022-06-02T19:52:39.069Z"
   },
   {
    "duration": 18,
    "start_time": "2022-06-02T19:52:39.456Z"
   },
   {
    "duration": 25,
    "start_time": "2022-06-02T19:52:39.824Z"
   },
   {
    "duration": 9,
    "start_time": "2022-06-02T19:52:40.022Z"
   },
   {
    "duration": 16,
    "start_time": "2022-06-02T19:52:40.222Z"
   },
   {
    "duration": 7,
    "start_time": "2022-06-02T19:52:40.664Z"
   },
   {
    "duration": 34,
    "start_time": "2022-06-02T19:52:40.859Z"
   },
   {
    "duration": 5,
    "start_time": "2022-06-02T19:52:41.583Z"
   },
   {
    "duration": 5,
    "start_time": "2022-06-02T19:52:42.043Z"
   },
   {
    "duration": 1965,
    "start_time": "2022-06-02T19:52:42.658Z"
   },
   {
    "duration": 3133,
    "start_time": "2022-06-02T19:52:44.625Z"
   },
   {
    "duration": 28,
    "start_time": "2022-06-02T19:52:57.305Z"
   },
   {
    "duration": 169,
    "start_time": "2022-06-02T19:53:39.974Z"
   },
   {
    "duration": 25,
    "start_time": "2022-06-02T19:53:57.923Z"
   },
   {
    "duration": 28,
    "start_time": "2022-06-02T19:54:05.297Z"
   },
   {
    "duration": 1749,
    "start_time": "2022-06-02T19:55:09.092Z"
   },
   {
    "duration": 74,
    "start_time": "2022-06-02T19:55:19.332Z"
   },
   {
    "duration": 19,
    "start_time": "2022-06-02T19:55:49.237Z"
   },
   {
    "duration": 11,
    "start_time": "2022-06-02T19:56:11.764Z"
   },
   {
    "duration": 14,
    "start_time": "2022-06-02T19:57:40.442Z"
   },
   {
    "duration": 35,
    "start_time": "2022-06-02T19:57:59.079Z"
   },
   {
    "duration": 28,
    "start_time": "2022-06-02T19:58:06.144Z"
   },
   {
    "duration": 17,
    "start_time": "2022-06-02T19:59:23.288Z"
   },
   {
    "duration": 230,
    "start_time": "2022-06-02T19:59:25.709Z"
   },
   {
    "duration": 63,
    "start_time": "2022-06-02T19:59:30.522Z"
   },
   {
    "duration": 28,
    "start_time": "2022-06-02T20:00:46.095Z"
   },
   {
    "duration": 7,
    "start_time": "2022-06-02T20:01:10.060Z"
   },
   {
    "duration": 15,
    "start_time": "2022-06-02T20:08:31.303Z"
   },
   {
    "duration": 19,
    "start_time": "2022-06-02T20:09:05.608Z"
   },
   {
    "duration": 221,
    "start_time": "2022-06-02T20:09:06.734Z"
   },
   {
    "duration": 8,
    "start_time": "2022-06-02T20:10:30.496Z"
   },
   {
    "duration": 481,
    "start_time": "2022-06-02T20:12:37.371Z"
   },
   {
    "duration": 28,
    "start_time": "2022-06-02T20:12:56.828Z"
   },
   {
    "duration": 25,
    "start_time": "2022-06-02T20:13:00.616Z"
   },
   {
    "duration": 6,
    "start_time": "2022-06-02T20:13:40.363Z"
   },
   {
    "duration": 20,
    "start_time": "2022-06-02T20:13:58.371Z"
   },
   {
    "duration": 30,
    "start_time": "2022-06-02T20:14:43.326Z"
   },
   {
    "duration": 30,
    "start_time": "2022-06-02T20:14:52.544Z"
   },
   {
    "duration": 7,
    "start_time": "2022-06-02T20:15:14.663Z"
   },
   {
    "duration": 8,
    "start_time": "2022-06-02T20:15:32.579Z"
   },
   {
    "duration": 371,
    "start_time": "2022-06-02T20:15:39.133Z"
   },
   {
    "duration": 31,
    "start_time": "2022-06-02T20:15:52.036Z"
   },
   {
    "duration": 1003,
    "start_time": "2022-06-02T20:17:36.791Z"
   },
   {
    "duration": 447,
    "start_time": "2022-06-02T20:17:49.387Z"
   },
   {
    "duration": 1493,
    "start_time": "2022-06-03T07:33:42.256Z"
   },
   {
    "duration": 350,
    "start_time": "2022-06-03T07:34:00.151Z"
   },
   {
    "duration": 3,
    "start_time": "2022-06-03T07:34:01.162Z"
   },
   {
    "duration": 31,
    "start_time": "2022-06-03T07:34:01.819Z"
   },
   {
    "duration": 15,
    "start_time": "2022-06-03T07:34:02.377Z"
   },
   {
    "duration": 7,
    "start_time": "2022-06-03T07:34:02.967Z"
   },
   {
    "duration": 106,
    "start_time": "2022-06-03T07:34:08.424Z"
   },
   {
    "duration": 6,
    "start_time": "2022-06-03T07:34:11.074Z"
   },
   {
    "duration": 36,
    "start_time": "2022-06-03T07:34:28.796Z"
   },
   {
    "duration": 18,
    "start_time": "2022-06-03T07:34:29.874Z"
   },
   {
    "duration": 10,
    "start_time": "2022-06-03T07:34:31.268Z"
   },
   {
    "duration": 20,
    "start_time": "2022-06-03T07:34:32.404Z"
   },
   {
    "duration": 25,
    "start_time": "2022-06-03T07:34:47.848Z"
   },
   {
    "duration": 9,
    "start_time": "2022-06-03T07:34:48.424Z"
   },
   {
    "duration": 17,
    "start_time": "2022-06-03T07:34:48.899Z"
   },
   {
    "duration": 117,
    "start_time": "2022-06-03T07:36:14.698Z"
   },
   {
    "duration": 18,
    "start_time": "2022-06-03T07:36:19.405Z"
   },
   {
    "duration": 19,
    "start_time": "2022-06-03T07:37:01.611Z"
   },
   {
    "duration": 13,
    "start_time": "2022-06-03T07:37:13.861Z"
   },
   {
    "duration": 12,
    "start_time": "2022-06-03T07:45:56.879Z"
   },
   {
    "duration": 33,
    "start_time": "2022-06-03T07:45:57.229Z"
   },
   {
    "duration": 5,
    "start_time": "2022-06-03T07:45:58.553Z"
   },
   {
    "duration": 5,
    "start_time": "2022-06-03T07:45:59.570Z"
   },
   {
    "duration": 2394,
    "start_time": "2022-06-03T07:46:00.811Z"
   },
   {
    "duration": 3299,
    "start_time": "2022-06-03T07:46:10.035Z"
   },
   {
    "duration": 669,
    "start_time": "2022-06-03T07:46:29.025Z"
   },
   {
    "duration": 28,
    "start_time": "2022-06-03T07:47:17.385Z"
   },
   {
    "duration": 31,
    "start_time": "2022-06-03T07:47:47.903Z"
   },
   {
    "duration": 27,
    "start_time": "2022-06-03T07:48:05.448Z"
   },
   {
    "duration": 31,
    "start_time": "2022-06-03T07:48:23.635Z"
   },
   {
    "duration": 70,
    "start_time": "2022-06-03T07:49:57.284Z"
   },
   {
    "duration": 15,
    "start_time": "2022-06-03T07:50:09.267Z"
   },
   {
    "duration": 23,
    "start_time": "2022-06-03T07:50:20.063Z"
   },
   {
    "duration": 755,
    "start_time": "2022-06-03T07:50:32.698Z"
   },
   {
    "duration": 732,
    "start_time": "2022-06-03T07:51:44.336Z"
   },
   {
    "duration": 669,
    "start_time": "2022-06-03T07:51:53.945Z"
   },
   {
    "duration": 830,
    "start_time": "2022-06-03T07:52:42.284Z"
   },
   {
    "duration": 531,
    "start_time": "2022-06-03T07:53:15.276Z"
   },
   {
    "duration": 740,
    "start_time": "2022-06-03T07:53:57.609Z"
   },
   {
    "duration": 37,
    "start_time": "2022-06-03T07:56:32.637Z"
   },
   {
    "duration": 4,
    "start_time": "2022-06-03T07:56:38.612Z"
   },
   {
    "duration": 675,
    "start_time": "2022-06-03T07:56:55.233Z"
   },
   {
    "duration": 702,
    "start_time": "2022-06-03T07:57:08.333Z"
   },
   {
    "duration": 849,
    "start_time": "2022-06-03T07:57:17.807Z"
   },
   {
    "duration": 3269,
    "start_time": "2022-06-03T07:57:43.219Z"
   },
   {
    "duration": 3689,
    "start_time": "2022-06-03T07:57:58.767Z"
   },
   {
    "duration": 3844,
    "start_time": "2022-06-03T07:58:28.536Z"
   },
   {
    "duration": 3497,
    "start_time": "2022-06-03T07:58:47.898Z"
   },
   {
    "duration": 1479,
    "start_time": "2022-06-03T08:02:34.822Z"
   },
   {
    "duration": 896,
    "start_time": "2022-06-03T08:04:12.317Z"
   },
   {
    "duration": 752,
    "start_time": "2022-06-03T08:06:13.658Z"
   },
   {
    "duration": 730,
    "start_time": "2022-06-03T08:06:49.289Z"
   },
   {
    "duration": 735,
    "start_time": "2022-06-03T08:08:06.058Z"
   },
   {
    "duration": 3448,
    "start_time": "2022-06-03T08:08:15.868Z"
   },
   {
    "duration": 3326,
    "start_time": "2022-06-03T08:08:37.406Z"
   },
   {
    "duration": 3532,
    "start_time": "2022-06-03T08:08:51.673Z"
   },
   {
    "duration": 711,
    "start_time": "2022-06-03T08:09:53.610Z"
   },
   {
    "duration": 429,
    "start_time": "2022-06-03T08:10:05.239Z"
   },
   {
    "duration": 38,
    "start_time": "2022-06-03T08:10:56.752Z"
   },
   {
    "duration": 798,
    "start_time": "2022-06-03T08:11:01.884Z"
   },
   {
    "duration": 3360,
    "start_time": "2022-06-03T08:11:14.678Z"
   },
   {
    "duration": 3474,
    "start_time": "2022-06-03T08:11:30.321Z"
   },
   {
    "duration": 1540,
    "start_time": "2022-06-03T08:11:54.807Z"
   },
   {
    "duration": 1491,
    "start_time": "2022-06-03T08:12:02.956Z"
   },
   {
    "duration": 1634,
    "start_time": "2022-06-03T08:12:09.905Z"
   },
   {
    "duration": 1557,
    "start_time": "2022-06-03T08:12:26.914Z"
   },
   {
    "duration": 1482,
    "start_time": "2022-06-03T08:12:36.758Z"
   },
   {
    "duration": 1534,
    "start_time": "2022-06-03T08:13:16.307Z"
   },
   {
    "duration": 1673,
    "start_time": "2022-06-03T08:13:37.441Z"
   },
   {
    "duration": 170,
    "start_time": "2022-06-03T08:16:04.935Z"
   },
   {
    "duration": 1084,
    "start_time": "2022-06-03T08:22:23.999Z"
   },
   {
    "duration": 1065,
    "start_time": "2022-06-03T08:22:49.403Z"
   },
   {
    "duration": 777,
    "start_time": "2022-06-03T08:28:21.001Z"
   },
   {
    "duration": 1058,
    "start_time": "2022-06-03T08:29:12.405Z"
   },
   {
    "duration": 1194,
    "start_time": "2022-06-03T08:31:42.991Z"
   },
   {
    "duration": 1147,
    "start_time": "2022-06-03T08:33:09.143Z"
   },
   {
    "duration": 1021,
    "start_time": "2022-06-03T08:33:49.541Z"
   },
   {
    "duration": 788,
    "start_time": "2022-06-03T08:34:20.868Z"
   },
   {
    "duration": 1983,
    "start_time": "2022-06-03T08:36:00.987Z"
   },
   {
    "duration": 2139,
    "start_time": "2022-06-03T08:36:41.697Z"
   },
   {
    "duration": 48,
    "start_time": "2022-06-03T08:39:42.410Z"
   },
   {
    "duration": 25,
    "start_time": "2022-06-03T08:40:08.135Z"
   },
   {
    "duration": 29,
    "start_time": "2022-06-03T08:40:24.005Z"
   },
   {
    "duration": 75,
    "start_time": "2022-06-03T08:40:56.074Z"
   },
   {
    "duration": 805,
    "start_time": "2022-06-03T09:01:24.192Z"
   },
   {
    "duration": 1290,
    "start_time": "2022-06-03T09:08:58.468Z"
   },
   {
    "duration": 1662,
    "start_time": "2022-06-03T09:10:03.137Z"
   },
   {
    "duration": 1024,
    "start_time": "2022-06-03T09:15:17.883Z"
   },
   {
    "duration": 40,
    "start_time": "2022-06-03T09:16:26.747Z"
   },
   {
    "duration": 1780,
    "start_time": "2022-06-03T09:16:33.869Z"
   },
   {
    "duration": 1860,
    "start_time": "2022-06-03T09:17:08.104Z"
   },
   {
    "duration": 1982,
    "start_time": "2022-06-03T09:17:43.603Z"
   },
   {
    "duration": 3327,
    "start_time": "2022-06-03T09:18:07.865Z"
   },
   {
    "duration": 1837,
    "start_time": "2022-06-03T09:19:10.746Z"
   },
   {
    "duration": 1836,
    "start_time": "2022-06-03T09:19:24.946Z"
   },
   {
    "duration": 1372,
    "start_time": "2022-06-03T09:20:07.415Z"
   },
   {
    "duration": 3782,
    "start_time": "2022-06-03T09:20:27.403Z"
   },
   {
    "duration": 2353,
    "start_time": "2022-06-03T09:21:16.261Z"
   },
   {
    "duration": 2270,
    "start_time": "2022-06-03T09:21:26.665Z"
   },
   {
    "duration": 1884,
    "start_time": "2022-06-03T09:23:33.398Z"
   },
   {
    "duration": 26,
    "start_time": "2022-06-03T09:23:46.909Z"
   },
   {
    "duration": 26,
    "start_time": "2022-06-03T09:23:48.879Z"
   },
   {
    "duration": 235,
    "start_time": "2022-06-03T09:24:32.755Z"
   },
   {
    "duration": 5,
    "start_time": "2022-06-03T09:24:36.869Z"
   },
   {
    "duration": 147,
    "start_time": "2022-06-03T09:24:47.011Z"
   },
   {
    "duration": 30,
    "start_time": "2022-06-03T09:24:59.319Z"
   },
   {
    "duration": 120,
    "start_time": "2022-06-03T09:25:13.088Z"
   },
   {
    "duration": 140,
    "start_time": "2022-06-03T09:25:15.899Z"
   },
   {
    "duration": 32,
    "start_time": "2022-06-03T09:25:24.267Z"
   },
   {
    "duration": 352,
    "start_time": "2022-06-03T09:25:46.353Z"
   },
   {
    "duration": 29,
    "start_time": "2022-06-03T09:26:18.864Z"
   },
   {
    "duration": 60,
    "start_time": "2022-06-03T09:26:46.408Z"
   },
   {
    "duration": 606,
    "start_time": "2022-06-03T09:27:06.607Z"
   },
   {
    "duration": 34,
    "start_time": "2022-06-03T09:29:17.091Z"
   },
   {
    "duration": 58,
    "start_time": "2022-06-03T09:29:34.531Z"
   },
   {
    "duration": 169,
    "start_time": "2022-06-03T09:29:43.691Z"
   },
   {
    "duration": 35,
    "start_time": "2022-06-03T09:30:23.102Z"
   },
   {
    "duration": 21,
    "start_time": "2022-06-03T09:30:51.196Z"
   },
   {
    "duration": 30,
    "start_time": "2022-06-03T09:31:10.092Z"
   },
   {
    "duration": 30,
    "start_time": "2022-06-03T09:31:42.969Z"
   },
   {
    "duration": 20,
    "start_time": "2022-06-03T09:32:04.159Z"
   },
   {
    "duration": 9,
    "start_time": "2022-06-03T09:35:33.621Z"
   },
   {
    "duration": 14,
    "start_time": "2022-06-03T09:35:50.843Z"
   },
   {
    "duration": 14,
    "start_time": "2022-06-03T09:36:20.050Z"
   },
   {
    "duration": 59,
    "start_time": "2022-06-03T09:37:57.479Z"
   },
   {
    "duration": 55,
    "start_time": "2022-06-03T09:38:15.584Z"
   },
   {
    "duration": 30,
    "start_time": "2022-06-03T09:40:36.849Z"
   },
   {
    "duration": 15,
    "start_time": "2022-06-03T09:42:00.995Z"
   },
   {
    "duration": 11,
    "start_time": "2022-06-03T09:42:20.780Z"
   },
   {
    "duration": 11,
    "start_time": "2022-06-03T09:43:48.049Z"
   },
   {
    "duration": 14,
    "start_time": "2022-06-03T09:43:59.622Z"
   },
   {
    "duration": 10,
    "start_time": "2022-06-03T09:44:16.236Z"
   },
   {
    "duration": 11,
    "start_time": "2022-06-03T09:44:28.959Z"
   },
   {
    "duration": 8,
    "start_time": "2022-06-03T09:44:41.711Z"
   },
   {
    "duration": 17,
    "start_time": "2022-06-03T09:44:49.115Z"
   },
   {
    "duration": 13,
    "start_time": "2022-06-03T09:45:34.836Z"
   },
   {
    "duration": 16,
    "start_time": "2022-06-03T09:47:09.338Z"
   },
   {
    "duration": 23,
    "start_time": "2022-06-03T09:47:25.852Z"
   },
   {
    "duration": 15,
    "start_time": "2022-06-03T09:57:55.736Z"
   },
   {
    "duration": 19,
    "start_time": "2022-06-03T09:58:20.990Z"
   },
   {
    "duration": 10,
    "start_time": "2022-06-03T09:59:23.095Z"
   },
   {
    "duration": 11,
    "start_time": "2022-06-03T09:59:54.508Z"
   },
   {
    "duration": 26,
    "start_time": "2022-06-03T10:00:34.345Z"
   },
   {
    "duration": 88,
    "start_time": "2022-06-03T10:05:09.998Z"
   },
   {
    "duration": 397,
    "start_time": "2022-06-03T10:05:10.574Z"
   },
   {
    "duration": 4,
    "start_time": "2022-06-03T10:05:11.009Z"
   },
   {
    "duration": 59,
    "start_time": "2022-06-03T10:05:11.203Z"
   },
   {
    "duration": 17,
    "start_time": "2022-06-03T10:05:11.386Z"
   },
   {
    "duration": 10,
    "start_time": "2022-06-03T10:05:11.568Z"
   },
   {
    "duration": 128,
    "start_time": "2022-06-03T10:05:11.754Z"
   },
   {
    "duration": 7,
    "start_time": "2022-06-03T10:05:12.086Z"
   },
   {
    "duration": 70,
    "start_time": "2022-06-03T10:05:12.525Z"
   },
   {
    "duration": 31,
    "start_time": "2022-06-03T10:05:12.886Z"
   },
   {
    "duration": 13,
    "start_time": "2022-06-03T10:05:13.687Z"
   },
   {
    "duration": 32,
    "start_time": "2022-06-03T10:05:14.069Z"
   },
   {
    "duration": 28,
    "start_time": "2022-06-03T10:05:14.378Z"
   },
   {
    "duration": 13,
    "start_time": "2022-06-03T10:05:14.549Z"
   },
   {
    "duration": 14,
    "start_time": "2022-06-03T10:05:14.758Z"
   },
   {
    "duration": 20,
    "start_time": "2022-06-03T10:05:15.525Z"
   },
   {
    "duration": 56,
    "start_time": "2022-06-03T10:05:15.942Z"
   },
   {
    "duration": 9,
    "start_time": "2022-06-03T10:05:19.040Z"
   },
   {
    "duration": 6,
    "start_time": "2022-06-03T10:05:20.004Z"
   },
   {
    "duration": 33,
    "start_time": "2022-06-03T10:05:47.636Z"
   },
   {
    "duration": 53,
    "start_time": "2022-06-03T10:05:52.710Z"
   },
   {
    "duration": 28,
    "start_time": "2022-06-03T10:06:12.484Z"
   },
   {
    "duration": 36,
    "start_time": "2022-06-03T10:06:38.602Z"
   },
   {
    "duration": 22,
    "start_time": "2022-06-03T10:06:41.868Z"
   },
   {
    "duration": 37,
    "start_time": "2022-06-03T10:07:35.951Z"
   },
   {
    "duration": 34,
    "start_time": "2022-06-03T10:07:58.309Z"
   },
   {
    "duration": 30,
    "start_time": "2022-06-03T10:08:55.817Z"
   },
   {
    "duration": 23,
    "start_time": "2022-06-03T10:09:08.892Z"
   },
   {
    "duration": 13,
    "start_time": "2022-06-03T10:10:30.947Z"
   },
   {
    "duration": 13,
    "start_time": "2022-06-03T10:10:37.217Z"
   },
   {
    "duration": 174,
    "start_time": "2022-06-03T10:10:46.726Z"
   },
   {
    "duration": 12,
    "start_time": "2022-06-03T10:10:50.490Z"
   },
   {
    "duration": 15,
    "start_time": "2022-06-03T10:12:00.359Z"
   },
   {
    "duration": 1384,
    "start_time": "2022-06-03T10:12:15.173Z"
   },
   {
    "duration": 513,
    "start_time": "2022-06-03T10:12:16.559Z"
   },
   {
    "duration": 3,
    "start_time": "2022-06-03T10:12:17.074Z"
   },
   {
    "duration": 50,
    "start_time": "2022-06-03T10:12:17.079Z"
   },
   {
    "duration": 24,
    "start_time": "2022-06-03T10:12:17.135Z"
   },
   {
    "duration": 7,
    "start_time": "2022-06-03T10:12:17.161Z"
   },
   {
    "duration": 116,
    "start_time": "2022-06-03T10:12:17.440Z"
   },
   {
    "duration": 9,
    "start_time": "2022-06-03T10:12:18.751Z"
   },
   {
    "duration": 50,
    "start_time": "2022-06-03T10:12:19.252Z"
   },
   {
    "duration": 21,
    "start_time": "2022-06-03T10:12:20.571Z"
   },
   {
    "duration": 12,
    "start_time": "2022-06-03T10:12:22.248Z"
   },
   {
    "duration": 24,
    "start_time": "2022-06-03T10:12:23.171Z"
   },
   {
    "duration": 27,
    "start_time": "2022-06-03T10:12:25.146Z"
   },
   {
    "duration": 9,
    "start_time": "2022-06-03T10:12:25.306Z"
   },
   {
    "duration": 14,
    "start_time": "2022-06-03T10:12:25.476Z"
   },
   {
    "duration": 9,
    "start_time": "2022-06-03T10:12:26.279Z"
   },
   {
    "duration": 43,
    "start_time": "2022-06-03T10:12:26.927Z"
   },
   {
    "duration": 6,
    "start_time": "2022-06-03T10:12:30.108Z"
   },
   {
    "duration": 16,
    "start_time": "2022-06-03T10:12:30.622Z"
   },
   {
    "duration": 2537,
    "start_time": "2022-06-03T10:12:31.555Z"
   },
   {
    "duration": 32,
    "start_time": "2022-06-03T10:12:41.281Z"
   },
   {
    "duration": 28,
    "start_time": "2022-06-03T10:12:46.242Z"
   },
   {
    "duration": 33,
    "start_time": "2022-06-03T10:12:50.701Z"
   },
   {
    "duration": 130,
    "start_time": "2022-06-03T10:13:15.472Z"
   },
   {
    "duration": 25,
    "start_time": "2022-06-03T10:13:42.555Z"
   },
   {
    "duration": 16,
    "start_time": "2022-06-03T10:13:54.888Z"
   },
   {
    "duration": 16,
    "start_time": "2022-06-03T10:16:40.057Z"
   },
   {
    "duration": 7,
    "start_time": "2022-06-03T10:20:05.805Z"
   },
   {
    "duration": 47,
    "start_time": "2022-06-03T10:20:19.240Z"
   },
   {
    "duration": 165,
    "start_time": "2022-06-03T10:20:26.682Z"
   },
   {
    "duration": 12,
    "start_time": "2022-06-03T10:20:33.382Z"
   },
   {
    "duration": 15,
    "start_time": "2022-06-03T10:20:56.951Z"
   },
   {
    "duration": 1417,
    "start_time": "2022-06-03T10:21:10.553Z"
   },
   {
    "duration": 470,
    "start_time": "2022-06-03T10:21:11.972Z"
   },
   {
    "duration": 3,
    "start_time": "2022-06-03T10:21:12.445Z"
   },
   {
    "duration": 47,
    "start_time": "2022-06-03T10:21:12.450Z"
   },
   {
    "duration": 36,
    "start_time": "2022-06-03T10:21:12.499Z"
   },
   {
    "duration": 9,
    "start_time": "2022-06-03T10:21:12.581Z"
   },
   {
    "duration": 132,
    "start_time": "2022-06-03T10:21:12.776Z"
   },
   {
    "duration": 12,
    "start_time": "2022-06-03T10:21:13.235Z"
   },
   {
    "duration": 50,
    "start_time": "2022-06-03T10:21:13.495Z"
   },
   {
    "duration": 34,
    "start_time": "2022-06-03T10:21:14.382Z"
   },
   {
    "duration": 10,
    "start_time": "2022-06-03T10:21:15.158Z"
   },
   {
    "duration": 31,
    "start_time": "2022-06-03T10:21:15.550Z"
   },
   {
    "duration": 39,
    "start_time": "2022-06-03T10:21:15.916Z"
   },
   {
    "duration": 9,
    "start_time": "2022-06-03T10:21:16.091Z"
   },
   {
    "duration": 15,
    "start_time": "2022-06-03T10:21:16.319Z"
   },
   {
    "duration": 10,
    "start_time": "2022-06-03T10:21:16.714Z"
   },
   {
    "duration": 34,
    "start_time": "2022-06-03T10:21:16.949Z"
   },
   {
    "duration": 5,
    "start_time": "2022-06-03T10:21:22.307Z"
   },
   {
    "duration": 63,
    "start_time": "2022-06-03T10:21:32.114Z"
   },
   {
    "duration": 37,
    "start_time": "2022-06-03T10:21:39.116Z"
   },
   {
    "duration": 86,
    "start_time": "2022-06-03T10:21:42.901Z"
   },
   {
    "duration": 15,
    "start_time": "2022-06-03T10:22:02.394Z"
   },
   {
    "duration": 6,
    "start_time": "2022-06-03T10:22:14.106Z"
   },
   {
    "duration": 18,
    "start_time": "2022-06-03T10:22:57.830Z"
   },
   {
    "duration": 20,
    "start_time": "2022-06-03T10:23:08.158Z"
   },
   {
    "duration": 45,
    "start_time": "2022-06-03T10:23:15.618Z"
   },
   {
    "duration": 43,
    "start_time": "2022-06-03T10:23:39.640Z"
   },
   {
    "duration": 17,
    "start_time": "2022-06-03T10:24:05.478Z"
   },
   {
    "duration": 12,
    "start_time": "2022-06-03T10:24:18.430Z"
   },
   {
    "duration": 1283,
    "start_time": "2022-06-03T10:24:36.421Z"
   },
   {
    "duration": 360,
    "start_time": "2022-06-03T10:24:37.707Z"
   },
   {
    "duration": 5,
    "start_time": "2022-06-03T10:24:38.129Z"
   },
   {
    "duration": 38,
    "start_time": "2022-06-03T10:24:38.862Z"
   },
   {
    "duration": 17,
    "start_time": "2022-06-03T10:24:39.479Z"
   },
   {
    "duration": 7,
    "start_time": "2022-06-03T10:24:40.114Z"
   },
   {
    "duration": 146,
    "start_time": "2022-06-03T10:24:40.733Z"
   },
   {
    "duration": 9,
    "start_time": "2022-06-03T10:24:42.342Z"
   },
   {
    "duration": 55,
    "start_time": "2022-06-03T10:24:42.744Z"
   },
   {
    "duration": 20,
    "start_time": "2022-06-03T10:24:43.144Z"
   },
   {
    "duration": 11,
    "start_time": "2022-06-03T10:24:44.879Z"
   },
   {
    "duration": 20,
    "start_time": "2022-06-03T10:24:49.092Z"
   },
   {
    "duration": 27,
    "start_time": "2022-06-03T10:24:50.085Z"
   },
   {
    "duration": 12,
    "start_time": "2022-06-03T10:24:50.602Z"
   },
   {
    "duration": 13,
    "start_time": "2022-06-03T10:24:51.140Z"
   },
   {
    "duration": 8,
    "start_time": "2022-06-03T10:24:55.906Z"
   },
   {
    "duration": 37,
    "start_time": "2022-06-03T10:25:05.157Z"
   },
   {
    "duration": 13,
    "start_time": "2022-06-03T10:25:06.227Z"
   },
   {
    "duration": 6,
    "start_time": "2022-06-03T10:25:06.740Z"
   },
   {
    "duration": 51,
    "start_time": "2022-06-03T10:25:16.981Z"
   },
   {
    "duration": 34,
    "start_time": "2022-06-03T10:25:21.996Z"
   },
   {
    "duration": 30,
    "start_time": "2022-06-03T10:25:26.388Z"
   },
   {
    "duration": 27,
    "start_time": "2022-06-03T10:25:39.197Z"
   },
   {
    "duration": 23,
    "start_time": "2022-06-03T10:25:49.579Z"
   },
   {
    "duration": 62,
    "start_time": "2022-06-03T10:25:54.147Z"
   },
   {
    "duration": 23,
    "start_time": "2022-06-03T10:26:15.674Z"
   },
   {
    "duration": 30,
    "start_time": "2022-06-03T10:26:19.477Z"
   },
   {
    "duration": 21,
    "start_time": "2022-06-03T10:26:23.834Z"
   },
   {
    "duration": 628,
    "start_time": "2022-06-03T10:26:30.579Z"
   },
   {
    "duration": 8,
    "start_time": "2022-06-03T10:27:03.494Z"
   },
   {
    "duration": 526,
    "start_time": "2022-06-03T10:27:36.945Z"
   },
   {
    "duration": 8,
    "start_time": "2022-06-03T10:27:46.912Z"
   },
   {
    "duration": 698,
    "start_time": "2022-06-03T10:28:22.418Z"
   },
   {
    "duration": 34,
    "start_time": "2022-06-03T10:28:33.398Z"
   },
   {
    "duration": 35,
    "start_time": "2022-06-03T10:28:46.540Z"
   },
   {
    "duration": 42,
    "start_time": "2022-06-03T10:29:30.220Z"
   },
   {
    "duration": 15,
    "start_time": "2022-06-03T10:30:26.640Z"
   },
   {
    "duration": 11,
    "start_time": "2022-06-03T10:31:01.090Z"
   },
   {
    "duration": 10,
    "start_time": "2022-06-03T10:31:13.690Z"
   },
   {
    "duration": 9,
    "start_time": "2022-06-03T10:31:42.334Z"
   },
   {
    "duration": 1347,
    "start_time": "2022-06-03T10:34:49.649Z"
   },
   {
    "duration": 398,
    "start_time": "2022-06-03T10:34:52.954Z"
   },
   {
    "duration": 3,
    "start_time": "2022-06-03T10:34:53.545Z"
   },
   {
    "duration": 40,
    "start_time": "2022-06-03T10:34:54.009Z"
   },
   {
    "duration": 22,
    "start_time": "2022-06-03T10:34:54.557Z"
   },
   {
    "duration": 10,
    "start_time": "2022-06-03T10:37:11.263Z"
   },
   {
    "duration": 164,
    "start_time": "2022-06-03T10:37:11.923Z"
   },
   {
    "duration": 8,
    "start_time": "2022-06-03T10:37:12.952Z"
   },
   {
    "duration": 49,
    "start_time": "2022-06-03T10:37:13.341Z"
   },
   {
    "duration": 20,
    "start_time": "2022-06-03T10:37:13.693Z"
   },
   {
    "duration": 12,
    "start_time": "2022-06-03T10:37:14.195Z"
   },
   {
    "duration": 20,
    "start_time": "2022-06-03T10:37:14.642Z"
   },
   {
    "duration": 27,
    "start_time": "2022-06-03T10:37:15.057Z"
   },
   {
    "duration": 11,
    "start_time": "2022-06-03T10:37:15.237Z"
   },
   {
    "duration": 15,
    "start_time": "2022-06-03T10:37:15.420Z"
   },
   {
    "duration": 8,
    "start_time": "2022-06-03T10:37:15.856Z"
   },
   {
    "duration": 44,
    "start_time": "2022-06-03T10:37:16.107Z"
   },
   {
    "duration": 5,
    "start_time": "2022-06-03T10:37:17.308Z"
   },
   {
    "duration": 6,
    "start_time": "2022-06-03T10:37:18.389Z"
   },
   {
    "duration": 53,
    "start_time": "2022-06-03T10:37:32.211Z"
   },
   {
    "duration": 37,
    "start_time": "2022-06-03T10:37:51.242Z"
   },
   {
    "duration": 38,
    "start_time": "2022-06-03T10:39:16.617Z"
   },
   {
    "duration": 143,
    "start_time": "2022-06-03T10:59:49.753Z"
   },
   {
    "duration": 40,
    "start_time": "2022-06-03T10:59:56.611Z"
   },
   {
    "duration": 51,
    "start_time": "2022-06-03T11:00:01.148Z"
   },
   {
    "duration": 60,
    "start_time": "2022-06-03T11:00:33.762Z"
   },
   {
    "duration": 25,
    "start_time": "2022-06-03T11:00:39.336Z"
   },
   {
    "duration": 33,
    "start_time": "2022-06-03T11:00:56.099Z"
   },
   {
    "duration": 8,
    "start_time": "2022-06-03T11:01:01.352Z"
   },
   {
    "duration": 61,
    "start_time": "2022-06-03T11:01:30.312Z"
   },
   {
    "duration": 12,
    "start_time": "2022-06-03T11:01:42.878Z"
   },
   {
    "duration": 1440,
    "start_time": "2022-06-03T11:02:00.847Z"
   },
   {
    "duration": 799,
    "start_time": "2022-06-03T11:02:02.300Z"
   },
   {
    "duration": 3,
    "start_time": "2022-06-03T11:02:03.102Z"
   },
   {
    "duration": 46,
    "start_time": "2022-06-03T11:02:03.517Z"
   },
   {
    "duration": 20,
    "start_time": "2022-06-03T11:02:04.157Z"
   },
   {
    "duration": 10,
    "start_time": "2022-06-03T11:02:04.763Z"
   },
   {
    "duration": 166,
    "start_time": "2022-06-03T11:02:05.206Z"
   },
   {
    "duration": 9,
    "start_time": "2022-06-03T11:02:06.592Z"
   },
   {
    "duration": 55,
    "start_time": "2022-06-03T11:02:07.651Z"
   },
   {
    "duration": 29,
    "start_time": "2022-06-03T11:02:08.642Z"
   },
   {
    "duration": 12,
    "start_time": "2022-06-03T11:02:10.110Z"
   },
   {
    "duration": 33,
    "start_time": "2022-06-03T11:02:11.208Z"
   },
   {
    "duration": 41,
    "start_time": "2022-06-03T11:02:12.401Z"
   },
   {
    "duration": 13,
    "start_time": "2022-06-03T11:02:12.960Z"
   },
   {
    "duration": 25,
    "start_time": "2022-06-03T11:02:13.606Z"
   },
   {
    "duration": 10,
    "start_time": "2022-06-03T11:02:14.708Z"
   },
   {
    "duration": 63,
    "start_time": "2022-06-03T11:02:15.270Z"
   },
   {
    "duration": 6,
    "start_time": "2022-06-03T11:02:16.742Z"
   },
   {
    "duration": 6,
    "start_time": "2022-06-03T11:02:17.621Z"
   },
   {
    "duration": 2374,
    "start_time": "2022-06-03T11:02:19.114Z"
   },
   {
    "duration": 3678,
    "start_time": "2022-06-03T11:02:21.493Z"
   },
   {
    "duration": 1005,
    "start_time": "2022-06-03T11:02:25.173Z"
   },
   {
    "duration": 1463,
    "start_time": "2022-06-03T11:02:26.180Z"
   },
   {
    "duration": 32,
    "start_time": "2022-06-03T11:02:29.628Z"
   },
   {
    "duration": 32,
    "start_time": "2022-06-03T11:02:35.817Z"
   },
   {
    "duration": 160,
    "start_time": "2022-06-03T11:02:44.241Z"
   },
   {
    "duration": 58,
    "start_time": "2022-06-03T11:02:47.357Z"
   },
   {
    "duration": 16,
    "start_time": "2022-06-03T11:21:15.551Z"
   },
   {
    "duration": 10,
    "start_time": "2022-06-03T11:21:33.552Z"
   },
   {
    "duration": 16,
    "start_time": "2022-06-03T11:21:55.233Z"
   },
   {
    "duration": 18,
    "start_time": "2022-06-03T11:22:04.455Z"
   },
   {
    "duration": 17,
    "start_time": "2022-06-03T11:22:24.026Z"
   },
   {
    "duration": 15,
    "start_time": "2022-06-03T11:23:11.196Z"
   },
   {
    "duration": 17,
    "start_time": "2022-06-03T11:23:24.953Z"
   },
   {
    "duration": 14,
    "start_time": "2022-06-03T11:24:20.890Z"
   },
   {
    "duration": 187,
    "start_time": "2022-06-03T11:24:40.102Z"
   },
   {
    "duration": 29,
    "start_time": "2022-06-03T11:24:48.339Z"
   },
   {
    "duration": 16,
    "start_time": "2022-06-03T11:24:54.703Z"
   },
   {
    "duration": 28,
    "start_time": "2022-06-03T11:25:26.443Z"
   },
   {
    "duration": 15,
    "start_time": "2022-06-03T11:26:07.182Z"
   },
   {
    "duration": 39,
    "start_time": "2022-06-03T11:26:40.404Z"
   },
   {
    "duration": 36,
    "start_time": "2022-06-03T11:27:29.839Z"
   },
   {
    "duration": 33,
    "start_time": "2022-06-03T11:27:41.804Z"
   },
   {
    "duration": 14,
    "start_time": "2022-06-03T11:28:30.850Z"
   },
   {
    "duration": 33,
    "start_time": "2022-06-03T11:28:39.256Z"
   },
   {
    "duration": 32,
    "start_time": "2022-06-03T11:29:07.854Z"
   },
   {
    "duration": 33,
    "start_time": "2022-06-03T11:29:24.960Z"
   },
   {
    "duration": 33,
    "start_time": "2022-06-03T11:29:31.345Z"
   },
   {
    "duration": 17,
    "start_time": "2022-06-03T11:31:30.699Z"
   },
   {
    "duration": 25,
    "start_time": "2022-06-03T11:31:33.444Z"
   },
   {
    "duration": 95,
    "start_time": "2022-06-03T11:31:53.921Z"
   },
   {
    "duration": 30,
    "start_time": "2022-06-03T11:31:54.669Z"
   },
   {
    "duration": 5,
    "start_time": "2022-06-03T11:31:55.494Z"
   },
   {
    "duration": 7,
    "start_time": "2022-06-03T11:31:56.382Z"
   },
   {
    "duration": 16,
    "start_time": "2022-06-03T11:31:57.231Z"
   },
   {
    "duration": 28,
    "start_time": "2022-06-03T11:33:23.319Z"
   },
   {
    "duration": 53,
    "start_time": "2022-06-03T11:35:02.835Z"
   },
   {
    "duration": 18,
    "start_time": "2022-06-03T11:35:23.104Z"
   },
   {
    "duration": 31,
    "start_time": "2022-06-03T11:38:13.943Z"
   },
   {
    "duration": 30,
    "start_time": "2022-06-03T11:38:43.918Z"
   },
   {
    "duration": 13,
    "start_time": "2022-06-03T12:37:25.612Z"
   },
   {
    "duration": 12,
    "start_time": "2022-06-03T12:37:36.873Z"
   },
   {
    "duration": 14,
    "start_time": "2022-06-03T12:37:42.010Z"
   },
   {
    "duration": 30,
    "start_time": "2022-06-03T12:38:14.762Z"
   },
   {
    "duration": 21,
    "start_time": "2022-06-03T12:39:01.571Z"
   },
   {
    "duration": 36,
    "start_time": "2022-06-03T12:39:21.540Z"
   },
   {
    "duration": 15,
    "start_time": "2022-06-03T12:39:33.815Z"
   },
   {
    "duration": 11,
    "start_time": "2022-06-03T12:40:49.606Z"
   },
   {
    "duration": 21,
    "start_time": "2022-06-03T12:41:13.566Z"
   },
   {
    "duration": 14,
    "start_time": "2022-06-03T12:41:22.461Z"
   },
   {
    "duration": 26,
    "start_time": "2022-06-03T12:42:30.970Z"
   },
   {
    "duration": 25,
    "start_time": "2022-06-03T12:43:47.870Z"
   },
   {
    "duration": 12,
    "start_time": "2022-06-03T12:44:52.280Z"
   },
   {
    "duration": 27,
    "start_time": "2022-06-03T12:44:59.148Z"
   },
   {
    "duration": 15,
    "start_time": "2022-06-03T12:45:14.615Z"
   },
   {
    "duration": 36,
    "start_time": "2022-06-03T12:45:18.624Z"
   },
   {
    "duration": 27,
    "start_time": "2022-06-03T12:45:30.169Z"
   },
   {
    "duration": 17,
    "start_time": "2022-06-03T12:45:37.441Z"
   },
   {
    "duration": 22,
    "start_time": "2022-06-03T13:00:49.739Z"
   },
   {
    "duration": 23,
    "start_time": "2022-06-03T13:01:07.956Z"
   },
   {
    "duration": 27,
    "start_time": "2022-06-03T13:03:52.721Z"
   },
   {
    "duration": 7,
    "start_time": "2022-06-03T13:05:37.888Z"
   },
   {
    "duration": 38,
    "start_time": "2022-06-03T13:06:02.259Z"
   },
   {
    "duration": 687,
    "start_time": "2022-06-03T13:06:15.776Z"
   },
   {
    "duration": 30,
    "start_time": "2022-06-03T13:07:22.955Z"
   },
   {
    "duration": 19,
    "start_time": "2022-06-03T13:07:32.680Z"
   },
   {
    "duration": 530,
    "start_time": "2022-06-03T13:07:40.053Z"
   },
   {
    "duration": 637,
    "start_time": "2022-06-03T13:08:34.339Z"
   },
   {
    "duration": 54,
    "start_time": "2022-06-03T13:09:21.343Z"
   },
   {
    "duration": 674,
    "start_time": "2022-06-03T13:09:33.004Z"
   },
   {
    "duration": 29,
    "start_time": "2022-06-03T13:09:59.217Z"
   },
   {
    "duration": 21,
    "start_time": "2022-06-03T13:10:04.446Z"
   },
   {
    "duration": 713,
    "start_time": "2022-06-03T13:10:07.307Z"
   },
   {
    "duration": 1103,
    "start_time": "2022-06-03T13:10:53.490Z"
   },
   {
    "duration": 722,
    "start_time": "2022-06-03T13:11:13.970Z"
   },
   {
    "duration": 815,
    "start_time": "2022-06-03T13:12:50.146Z"
   },
   {
    "duration": 22,
    "start_time": "2022-06-03T13:16:10.635Z"
   },
   {
    "duration": 269,
    "start_time": "2022-06-03T13:16:24.450Z"
   },
   {
    "duration": 691,
    "start_time": "2022-06-03T13:18:36.752Z"
   },
   {
    "duration": 17,
    "start_time": "2022-06-03T13:19:37.375Z"
   },
   {
    "duration": 23,
    "start_time": "2022-06-03T13:19:57.243Z"
   },
   {
    "duration": 13,
    "start_time": "2022-06-03T13:20:41.374Z"
   },
   {
    "duration": 36,
    "start_time": "2022-06-03T13:23:38.120Z"
   },
   {
    "duration": 25,
    "start_time": "2022-06-03T13:24:35.361Z"
   },
   {
    "duration": 30,
    "start_time": "2022-06-03T13:26:49.916Z"
   },
   {
    "duration": 1138,
    "start_time": "2022-06-03T13:28:06.003Z"
   },
   {
    "duration": 61,
    "start_time": "2022-06-03T13:30:00.588Z"
   },
   {
    "duration": 47,
    "start_time": "2022-06-03T13:30:57.113Z"
   },
   {
    "duration": 1315,
    "start_time": "2022-06-03T13:31:11.280Z"
   },
   {
    "duration": 654,
    "start_time": "2022-06-03T13:31:13.399Z"
   },
   {
    "duration": 3,
    "start_time": "2022-06-03T13:31:14.055Z"
   },
   {
    "duration": 37,
    "start_time": "2022-06-03T13:31:14.217Z"
   },
   {
    "duration": 20,
    "start_time": "2022-06-03T13:31:14.632Z"
   },
   {
    "duration": 7,
    "start_time": "2022-06-03T13:31:14.940Z"
   },
   {
    "duration": 89,
    "start_time": "2022-06-03T13:31:15.344Z"
   },
   {
    "duration": 7,
    "start_time": "2022-06-03T13:31:16.368Z"
   },
   {
    "duration": 35,
    "start_time": "2022-06-03T13:31:17.040Z"
   },
   {
    "duration": 17,
    "start_time": "2022-06-03T13:31:17.748Z"
   },
   {
    "duration": 9,
    "start_time": "2022-06-03T13:31:19.039Z"
   },
   {
    "duration": 19,
    "start_time": "2022-06-03T13:31:20.054Z"
   },
   {
    "duration": 26,
    "start_time": "2022-06-03T13:31:21.079Z"
   },
   {
    "duration": 9,
    "start_time": "2022-06-03T13:31:21.487Z"
   },
   {
    "duration": 14,
    "start_time": "2022-06-03T13:31:21.898Z"
   },
   {
    "duration": 15,
    "start_time": "2022-06-03T13:31:22.716Z"
   },
   {
    "duration": 36,
    "start_time": "2022-06-03T13:31:23.334Z"
   },
   {
    "duration": 5,
    "start_time": "2022-06-03T13:31:24.765Z"
   },
   {
    "duration": 5,
    "start_time": "2022-06-03T13:31:25.891Z"
   },
   {
    "duration": 2250,
    "start_time": "2022-06-03T13:31:46.631Z"
   },
   {
    "duration": 3511,
    "start_time": "2022-06-03T13:31:48.884Z"
   },
   {
    "duration": 23,
    "start_time": "2022-06-03T13:31:59.749Z"
   },
   {
    "duration": 87,
    "start_time": "2022-06-03T13:32:01.940Z"
   },
   {
    "duration": 169,
    "start_time": "2022-06-03T13:32:14.870Z"
   },
   {
    "duration": 55,
    "start_time": "2022-06-03T13:32:15.604Z"
   },
   {
    "duration": 33,
    "start_time": "2022-06-03T13:32:27.561Z"
   },
   {
    "duration": 73,
    "start_time": "2022-06-03T13:32:31.115Z"
   },
   {
    "duration": 35,
    "start_time": "2022-06-03T13:32:35.297Z"
   },
   {
    "duration": 88,
    "start_time": "2022-06-03T13:32:44.161Z"
   },
   {
    "duration": 36,
    "start_time": "2022-06-03T13:32:48.812Z"
   },
   {
    "duration": 31,
    "start_time": "2022-06-03T13:32:54.432Z"
   },
   {
    "duration": 61,
    "start_time": "2022-06-03T13:33:00.393Z"
   },
   {
    "duration": 28,
    "start_time": "2022-06-03T13:33:05.344Z"
   },
   {
    "duration": 14,
    "start_time": "2022-06-03T13:33:06.169Z"
   },
   {
    "duration": 30,
    "start_time": "2022-06-03T13:33:16.769Z"
   },
   {
    "duration": 15,
    "start_time": "2022-06-03T13:33:24.876Z"
   },
   {
    "duration": 24,
    "start_time": "2022-06-03T13:33:25.590Z"
   },
   {
    "duration": 66,
    "start_time": "2022-06-03T13:33:26.534Z"
   },
   {
    "duration": 36,
    "start_time": "2022-06-03T13:33:38.982Z"
   },
   {
    "duration": 5,
    "start_time": "2022-06-03T13:33:40.152Z"
   },
   {
    "duration": 7,
    "start_time": "2022-06-03T13:33:52.147Z"
   },
   {
    "duration": 8,
    "start_time": "2022-06-03T13:34:00.213Z"
   },
   {
    "duration": 17,
    "start_time": "2022-06-03T13:34:07.509Z"
   },
   {
    "duration": 37,
    "start_time": "2022-06-03T13:34:16.171Z"
   },
   {
    "duration": 12,
    "start_time": "2022-06-03T13:34:38.144Z"
   },
   {
    "duration": 22,
    "start_time": "2022-06-03T13:35:02.871Z"
   },
   {
    "duration": 21,
    "start_time": "2022-06-03T13:35:28.919Z"
   },
   {
    "duration": 22,
    "start_time": "2022-06-03T13:36:12.185Z"
   },
   {
    "duration": 279,
    "start_time": "2022-06-03T13:36:24.066Z"
   },
   {
    "duration": 14,
    "start_time": "2022-06-03T13:36:32.590Z"
   },
   {
    "duration": 22,
    "start_time": "2022-06-03T13:37:27.056Z"
   },
   {
    "duration": 615,
    "start_time": "2022-06-03T13:39:03.855Z"
   },
   {
    "duration": 59,
    "start_time": "2022-06-03T13:44:34.028Z"
   },
   {
    "duration": 14,
    "start_time": "2022-06-03T13:45:18.254Z"
   },
   {
    "duration": 11,
    "start_time": "2022-06-03T13:45:23.812Z"
   },
   {
    "duration": 15,
    "start_time": "2022-06-03T13:46:33.247Z"
   },
   {
    "duration": 44,
    "start_time": "2022-06-03T13:46:48.436Z"
   },
   {
    "duration": 24,
    "start_time": "2022-06-03T13:46:56.146Z"
   },
   {
    "duration": 53,
    "start_time": "2022-06-03T13:47:19.414Z"
   },
   {
    "duration": 16,
    "start_time": "2022-06-03T13:47:42.665Z"
   },
   {
    "duration": 18,
    "start_time": "2022-06-03T13:47:51.900Z"
   },
   {
    "duration": 506,
    "start_time": "2022-06-03T13:48:11.087Z"
   },
   {
    "duration": 1614,
    "start_time": "2022-06-04T07:11:07.574Z"
   },
   {
    "duration": 517,
    "start_time": "2022-06-04T07:11:09.191Z"
   },
   {
    "duration": 3,
    "start_time": "2022-06-04T07:11:09.710Z"
   },
   {
    "duration": 50,
    "start_time": "2022-06-04T07:11:09.716Z"
   },
   {
    "duration": 22,
    "start_time": "2022-06-04T07:11:09.814Z"
   },
   {
    "duration": 8,
    "start_time": "2022-06-04T07:11:11.586Z"
   },
   {
    "duration": 108,
    "start_time": "2022-06-04T07:11:12.070Z"
   },
   {
    "duration": 8,
    "start_time": "2022-06-04T07:11:14.071Z"
   },
   {
    "duration": 56,
    "start_time": "2022-06-04T07:11:14.687Z"
   },
   {
    "duration": 19,
    "start_time": "2022-06-04T07:11:15.152Z"
   },
   {
    "duration": 14,
    "start_time": "2022-06-04T07:11:15.991Z"
   },
   {
    "duration": 23,
    "start_time": "2022-06-04T07:11:16.401Z"
   },
   {
    "duration": 40,
    "start_time": "2022-06-04T07:11:16.851Z"
   },
   {
    "duration": 15,
    "start_time": "2022-06-04T07:11:17.143Z"
   },
   {
    "duration": 17,
    "start_time": "2022-06-04T07:11:17.546Z"
   },
   {
    "duration": 12,
    "start_time": "2022-06-04T07:11:18.460Z"
   },
   {
    "duration": 37,
    "start_time": "2022-06-04T07:11:35.446Z"
   },
   {
    "duration": 5,
    "start_time": "2022-06-04T07:11:44.139Z"
   },
   {
    "duration": 6,
    "start_time": "2022-06-04T07:11:44.810Z"
   },
   {
    "duration": 2311,
    "start_time": "2022-06-04T07:11:45.450Z"
   },
   {
    "duration": 3421,
    "start_time": "2022-06-04T07:11:47.763Z"
   },
   {
    "duration": 1020,
    "start_time": "2022-06-04T07:11:51.187Z"
   },
   {
    "duration": 1567,
    "start_time": "2022-06-04T07:11:52.209Z"
   },
   {
    "duration": 1758,
    "start_time": "2022-06-04T07:11:53.778Z"
   },
   {
    "duration": 17,
    "start_time": "2022-06-04T07:11:55.539Z"
   },
   {
    "duration": 14,
    "start_time": "2022-06-04T07:11:55.558Z"
   },
   {
    "duration": 96,
    "start_time": "2022-06-04T07:11:55.573Z"
   },
   {
    "duration": 3,
    "start_time": "2022-06-04T07:11:55.670Z"
   },
   {
    "duration": 106,
    "start_time": "2022-06-04T07:11:55.674Z"
   },
   {
    "duration": 13,
    "start_time": "2022-06-04T07:11:55.782Z"
   },
   {
    "duration": 63,
    "start_time": "2022-06-04T07:11:55.796Z"
   },
   {
    "duration": 59,
    "start_time": "2022-06-04T07:11:55.860Z"
   },
   {
    "duration": 22,
    "start_time": "2022-06-04T07:11:55.927Z"
   },
   {
    "duration": 19,
    "start_time": "2022-06-04T07:11:56.893Z"
   },
   {
    "duration": 72,
    "start_time": "2022-06-04T07:11:57.890Z"
   },
   {
    "duration": 27,
    "start_time": "2022-06-04T07:11:58.786Z"
   },
   {
    "duration": 120,
    "start_time": "2022-06-04T07:12:02.055Z"
   },
   {
    "duration": 28,
    "start_time": "2022-06-04T07:12:35.753Z"
   },
   {
    "duration": 40,
    "start_time": "2022-06-04T07:12:45.545Z"
   },
   {
    "duration": 27,
    "start_time": "2022-06-04T07:12:54.011Z"
   },
   {
    "duration": 40,
    "start_time": "2022-06-04T07:13:07.670Z"
   },
   {
    "duration": 681,
    "start_time": "2022-06-04T07:17:06.317Z"
   },
   {
    "duration": 478,
    "start_time": "2022-06-04T07:18:49.747Z"
   },
   {
    "duration": 8,
    "start_time": "2022-06-04T07:22:41.082Z"
   },
   {
    "duration": 10,
    "start_time": "2022-06-04T07:23:24.552Z"
   },
   {
    "duration": 7,
    "start_time": "2022-06-04T07:23:45.559Z"
   },
   {
    "duration": 30,
    "start_time": "2022-06-04T07:33:36.988Z"
   },
   {
    "duration": 10,
    "start_time": "2022-06-04T07:34:44.937Z"
   },
   {
    "duration": 19,
    "start_time": "2022-06-04T07:35:01.302Z"
   },
   {
    "duration": 12,
    "start_time": "2022-06-04T07:38:12.287Z"
   },
   {
    "duration": 26,
    "start_time": "2022-06-04T07:38:13.107Z"
   },
   {
    "duration": 20,
    "start_time": "2022-06-04T07:40:02.755Z"
   },
   {
    "duration": 27,
    "start_time": "2022-06-04T07:40:03.988Z"
   },
   {
    "duration": 13,
    "start_time": "2022-06-04T07:40:22.588Z"
   },
   {
    "duration": 23,
    "start_time": "2022-06-04T07:40:23.285Z"
   },
   {
    "duration": 51,
    "start_time": "2022-06-04T07:40:32.653Z"
   },
   {
    "duration": 25,
    "start_time": "2022-06-04T07:40:56.142Z"
   },
   {
    "duration": 6,
    "start_time": "2022-06-04T07:40:57.761Z"
   },
   {
    "duration": 6,
    "start_time": "2022-06-04T07:41:01.514Z"
   },
   {
    "duration": 8,
    "start_time": "2022-06-04T07:41:04.755Z"
   },
   {
    "duration": 23,
    "start_time": "2022-06-04T07:41:32.585Z"
   },
   {
    "duration": 22,
    "start_time": "2022-06-04T07:42:17.596Z"
   },
   {
    "duration": 34,
    "start_time": "2022-06-04T07:43:38.785Z"
   },
   {
    "duration": 18,
    "start_time": "2022-06-04T07:43:50.387Z"
   },
   {
    "duration": 21,
    "start_time": "2022-06-04T07:48:07.901Z"
   },
   {
    "duration": 22,
    "start_time": "2022-06-04T07:48:15.209Z"
   },
   {
    "duration": 37,
    "start_time": "2022-06-04T07:49:27.834Z"
   },
   {
    "duration": 10,
    "start_time": "2022-06-04T07:49:47.396Z"
   },
   {
    "duration": 12,
    "start_time": "2022-06-04T07:50:23.163Z"
   },
   {
    "duration": 6,
    "start_time": "2022-06-04T07:50:33.293Z"
   },
   {
    "duration": 13,
    "start_time": "2022-06-04T07:50:51.160Z"
   },
   {
    "duration": 10,
    "start_time": "2022-06-04T07:51:03.242Z"
   },
   {
    "duration": 6,
    "start_time": "2022-06-04T07:51:17.202Z"
   },
   {
    "duration": 14,
    "start_time": "2022-06-04T07:54:48.553Z"
   },
   {
    "duration": 8,
    "start_time": "2022-06-04T07:55:03.655Z"
   },
   {
    "duration": 12,
    "start_time": "2022-06-04T07:55:36.017Z"
   },
   {
    "duration": 12,
    "start_time": "2022-06-04T07:55:57.292Z"
   },
   {
    "duration": 8,
    "start_time": "2022-06-04T07:56:05.204Z"
   },
   {
    "duration": 9,
    "start_time": "2022-06-04T07:56:21.739Z"
   },
   {
    "duration": 14,
    "start_time": "2022-06-04T07:56:31.764Z"
   },
   {
    "duration": 11,
    "start_time": "2022-06-04T07:56:40.831Z"
   },
   {
    "duration": 21,
    "start_time": "2022-06-04T07:57:14.504Z"
   },
   {
    "duration": 21,
    "start_time": "2022-06-04T07:57:32.310Z"
   },
   {
    "duration": 11,
    "start_time": "2022-06-04T07:58:11.296Z"
   },
   {
    "duration": 5,
    "start_time": "2022-06-04T07:58:33.224Z"
   },
   {
    "duration": 9,
    "start_time": "2022-06-04T07:58:51.825Z"
   },
   {
    "duration": 23,
    "start_time": "2022-06-04T07:58:51.992Z"
   },
   {
    "duration": 13,
    "start_time": "2022-06-04T08:01:13.901Z"
   },
   {
    "duration": 9,
    "start_time": "2022-06-04T08:01:54.544Z"
   },
   {
    "duration": 16,
    "start_time": "2022-06-04T08:02:12.306Z"
   },
   {
    "duration": 22,
    "start_time": "2022-06-04T08:05:11.208Z"
   },
   {
    "duration": 248,
    "start_time": "2022-06-04T08:05:11.907Z"
   },
   {
    "duration": 29,
    "start_time": "2022-06-04T08:05:13.904Z"
   },
   {
    "duration": 20,
    "start_time": "2022-06-04T08:06:56.054Z"
   },
   {
    "duration": 11,
    "start_time": "2022-06-04T08:07:07.421Z"
   },
   {
    "duration": 13,
    "start_time": "2022-06-04T08:07:25.396Z"
   },
   {
    "duration": 20,
    "start_time": "2022-06-04T08:37:26.511Z"
   },
   {
    "duration": 34,
    "start_time": "2022-06-04T08:38:00.333Z"
   },
   {
    "duration": 398,
    "start_time": "2022-06-04T08:40:42.513Z"
   },
   {
    "duration": 26,
    "start_time": "2022-06-04T08:40:47.306Z"
   },
   {
    "duration": 122,
    "start_time": "2022-06-04T08:40:48.126Z"
   },
   {
    "duration": 21,
    "start_time": "2022-06-04T08:40:50.786Z"
   },
   {
    "duration": 35,
    "start_time": "2022-06-04T08:41:02.597Z"
   },
   {
    "duration": 15,
    "start_time": "2022-06-04T08:43:07.514Z"
   },
   {
    "duration": 518,
    "start_time": "2022-06-04T08:57:39.898Z"
   },
   {
    "duration": 10,
    "start_time": "2022-06-04T08:58:29.727Z"
   },
   {
    "duration": 24,
    "start_time": "2022-06-04T08:59:50.252Z"
   },
   {
    "duration": 12,
    "start_time": "2022-06-04T09:00:07.615Z"
   },
   {
    "duration": 13,
    "start_time": "2022-06-04T09:01:27.204Z"
   },
   {
    "duration": 19,
    "start_time": "2022-06-04T09:02:39.163Z"
   },
   {
    "duration": 17,
    "start_time": "2022-06-04T09:02:44.553Z"
   },
   {
    "duration": 7,
    "start_time": "2022-06-04T09:04:22.467Z"
   },
   {
    "duration": 6,
    "start_time": "2022-06-04T09:05:15.032Z"
   },
   {
    "duration": 9,
    "start_time": "2022-06-04T09:05:35.935Z"
   },
   {
    "duration": 6,
    "start_time": "2022-06-04T09:05:40.695Z"
   },
   {
    "duration": 9,
    "start_time": "2022-06-04T09:05:52.120Z"
   },
   {
    "duration": 9,
    "start_time": "2022-06-04T09:06:03.242Z"
   },
   {
    "duration": 17,
    "start_time": "2022-06-04T09:06:29.631Z"
   },
   {
    "duration": 17,
    "start_time": "2022-06-04T09:07:12.747Z"
   },
   {
    "duration": 24,
    "start_time": "2022-06-04T09:08:06.411Z"
   },
   {
    "duration": 18,
    "start_time": "2022-06-04T09:08:17.870Z"
   },
   {
    "duration": 51,
    "start_time": "2022-06-04T09:08:22.564Z"
   },
   {
    "duration": 17,
    "start_time": "2022-06-04T09:08:23.800Z"
   },
   {
    "duration": 19,
    "start_time": "2022-06-04T09:08:39.307Z"
   },
   {
    "duration": 18,
    "start_time": "2022-06-04T09:08:52.027Z"
   },
   {
    "duration": 11,
    "start_time": "2022-06-04T09:09:10.372Z"
   },
   {
    "duration": 10,
    "start_time": "2022-06-04T09:09:23.331Z"
   },
   {
    "duration": 5,
    "start_time": "2022-06-04T09:09:29.912Z"
   },
   {
    "duration": 5,
    "start_time": "2022-06-04T09:09:54.912Z"
   },
   {
    "duration": 6,
    "start_time": "2022-06-04T09:10:35.600Z"
   },
   {
    "duration": 15,
    "start_time": "2022-06-04T09:12:18.053Z"
   },
   {
    "duration": 17,
    "start_time": "2022-06-04T09:12:35.350Z"
   },
   {
    "duration": 9,
    "start_time": "2022-06-04T09:12:40.541Z"
   },
   {
    "duration": 32,
    "start_time": "2022-06-04T09:12:57.711Z"
   },
   {
    "duration": 16,
    "start_time": "2022-06-04T09:13:13.949Z"
   },
   {
    "duration": 11,
    "start_time": "2022-06-04T09:13:15.329Z"
   },
   {
    "duration": 25,
    "start_time": "2022-06-04T09:13:24.022Z"
   },
   {
    "duration": 489,
    "start_time": "2022-06-04T09:13:41.961Z"
   },
   {
    "duration": 533,
    "start_time": "2022-06-04T09:14:24.359Z"
   },
   {
    "duration": 494,
    "start_time": "2022-06-04T09:14:35.508Z"
   },
   {
    "duration": 14,
    "start_time": "2022-06-04T09:15:21.141Z"
   },
   {
    "duration": 388,
    "start_time": "2022-06-04T09:16:02.818Z"
   },
   {
    "duration": 535,
    "start_time": "2022-06-04T09:16:16.522Z"
   },
   {
    "duration": 404,
    "start_time": "2022-06-04T09:16:26.968Z"
   },
   {
    "duration": 20,
    "start_time": "2022-06-04T09:20:26.932Z"
   },
   {
    "duration": 17,
    "start_time": "2022-06-04T09:20:30.168Z"
   },
   {
    "duration": 18,
    "start_time": "2022-06-04T09:20:45.755Z"
   },
   {
    "duration": 563,
    "start_time": "2022-06-04T09:20:57.943Z"
   },
   {
    "duration": 532,
    "start_time": "2022-06-04T09:21:07.468Z"
   },
   {
    "duration": 285,
    "start_time": "2022-06-04T09:21:13.736Z"
   },
   {
    "duration": 390,
    "start_time": "2022-06-04T09:21:35.708Z"
   },
   {
    "duration": 479,
    "start_time": "2022-06-04T09:22:06.706Z"
   },
   {
    "duration": 376,
    "start_time": "2022-06-04T09:22:17.200Z"
   },
   {
    "duration": 14,
    "start_time": "2022-06-04T09:22:52.704Z"
   },
   {
    "duration": 13,
    "start_time": "2022-06-04T09:23:10.067Z"
   },
   {
    "duration": 9,
    "start_time": "2022-06-04T09:23:40.812Z"
   },
   {
    "duration": 31,
    "start_time": "2022-06-04T09:24:03.464Z"
   },
   {
    "duration": 41,
    "start_time": "2022-06-04T09:24:13.023Z"
   },
   {
    "duration": 29,
    "start_time": "2022-06-04T09:24:20.216Z"
   },
   {
    "duration": 27,
    "start_time": "2022-06-04T09:24:28.865Z"
   },
   {
    "duration": 6,
    "start_time": "2022-06-04T09:24:42.633Z"
   },
   {
    "duration": 7,
    "start_time": "2022-06-04T09:24:56.023Z"
   },
   {
    "duration": 12,
    "start_time": "2022-06-04T09:30:05.126Z"
   },
   {
    "duration": 22,
    "start_time": "2022-06-04T09:30:38.437Z"
   },
   {
    "duration": 14,
    "start_time": "2022-06-04T09:31:06.222Z"
   },
   {
    "duration": 14,
    "start_time": "2022-06-04T09:31:11.856Z"
   },
   {
    "duration": 9,
    "start_time": "2022-06-04T09:31:46.452Z"
   },
   {
    "duration": 6,
    "start_time": "2022-06-04T09:32:05.432Z"
   },
   {
    "duration": 7,
    "start_time": "2022-06-04T09:33:26.795Z"
   },
   {
    "duration": 6,
    "start_time": "2022-06-04T09:33:52.144Z"
   },
   {
    "duration": 6,
    "start_time": "2022-06-04T09:34:04.232Z"
   },
   {
    "duration": 11,
    "start_time": "2022-06-04T09:37:27.253Z"
   },
   {
    "duration": 10,
    "start_time": "2022-06-04T09:39:10.603Z"
   },
   {
    "duration": 29,
    "start_time": "2022-06-04T10:08:37.964Z"
   },
   {
    "duration": 20,
    "start_time": "2022-06-04T10:09:28.739Z"
   },
   {
    "duration": 17,
    "start_time": "2022-06-04T10:10:49.219Z"
   },
   {
    "duration": 40,
    "start_time": "2022-06-04T10:12:28.411Z"
   },
   {
    "duration": 24,
    "start_time": "2022-06-04T10:14:49.091Z"
   },
   {
    "duration": 39,
    "start_time": "2022-06-04T10:15:45.306Z"
   },
   {
    "duration": 12,
    "start_time": "2022-06-04T10:17:22.709Z"
   },
   {
    "duration": 26,
    "start_time": "2022-06-04T10:18:21.445Z"
   },
   {
    "duration": 29,
    "start_time": "2022-06-04T10:18:48.430Z"
   },
   {
    "duration": 23,
    "start_time": "2022-06-04T10:19:23.849Z"
   },
   {
    "duration": 33,
    "start_time": "2022-06-04T10:19:39.925Z"
   },
   {
    "duration": 23,
    "start_time": "2022-06-04T10:19:57.956Z"
   },
   {
    "duration": 33,
    "start_time": "2022-06-04T10:20:09.939Z"
   },
   {
    "duration": 30,
    "start_time": "2022-06-04T10:20:22.199Z"
   },
   {
    "duration": 19,
    "start_time": "2022-06-04T10:21:54.915Z"
   },
   {
    "duration": 9,
    "start_time": "2022-06-04T10:22:24.815Z"
   },
   {
    "duration": 5,
    "start_time": "2022-06-04T10:22:45.891Z"
   },
   {
    "duration": 7,
    "start_time": "2022-06-04T10:22:59.821Z"
   },
   {
    "duration": 17,
    "start_time": "2022-06-04T10:23:34.746Z"
   },
   {
    "duration": 8,
    "start_time": "2022-06-04T10:24:20.707Z"
   },
   {
    "duration": 11,
    "start_time": "2022-06-04T10:25:43.979Z"
   },
   {
    "duration": 88,
    "start_time": "2022-06-04T11:22:25.603Z"
   },
   {
    "duration": 19,
    "start_time": "2022-06-04T11:22:35.826Z"
   },
   {
    "duration": 38,
    "start_time": "2022-06-04T11:22:55.471Z"
   },
   {
    "duration": 58,
    "start_time": "2022-06-04T11:23:17.314Z"
   },
   {
    "duration": 35,
    "start_time": "2022-06-04T11:23:39.847Z"
   },
   {
    "duration": 44,
    "start_time": "2022-06-04T11:24:16.749Z"
   },
   {
    "duration": 33,
    "start_time": "2022-06-04T11:24:48.599Z"
   },
   {
    "duration": 7,
    "start_time": "2022-06-04T11:24:58.454Z"
   },
   {
    "duration": 24,
    "start_time": "2022-06-04T11:26:11.359Z"
   },
   {
    "duration": 17,
    "start_time": "2022-06-04T11:27:28.096Z"
   },
   {
    "duration": 1534,
    "start_time": "2022-06-04T11:28:13.208Z"
   },
   {
    "duration": 392,
    "start_time": "2022-06-04T11:28:17.816Z"
   },
   {
    "duration": 3,
    "start_time": "2022-06-04T11:28:18.708Z"
   },
   {
    "duration": 45,
    "start_time": "2022-06-04T11:28:19.119Z"
   },
   {
    "duration": 18,
    "start_time": "2022-06-04T11:28:19.604Z"
   },
   {
    "duration": 8,
    "start_time": "2022-06-04T11:28:19.908Z"
   },
   {
    "duration": 130,
    "start_time": "2022-06-04T11:28:20.228Z"
   },
   {
    "duration": 10,
    "start_time": "2022-06-04T11:28:21.439Z"
   },
   {
    "duration": 50,
    "start_time": "2022-06-04T11:28:22.099Z"
   },
   {
    "duration": 21,
    "start_time": "2022-06-04T11:28:22.984Z"
   },
   {
    "duration": 11,
    "start_time": "2022-06-04T11:28:24.358Z"
   },
   {
    "duration": 20,
    "start_time": "2022-06-04T11:28:25.195Z"
   },
   {
    "duration": 26,
    "start_time": "2022-06-04T11:28:25.999Z"
   },
   {
    "duration": 10,
    "start_time": "2022-06-04T11:28:26.400Z"
   },
   {
    "duration": 21,
    "start_time": "2022-06-04T11:28:26.754Z"
   },
   {
    "duration": 12,
    "start_time": "2022-06-04T11:28:27.538Z"
   },
   {
    "duration": 36,
    "start_time": "2022-06-04T11:28:27.950Z"
   },
   {
    "duration": 5,
    "start_time": "2022-06-04T11:28:29.412Z"
   },
   {
    "duration": 5,
    "start_time": "2022-06-04T11:28:30.950Z"
   },
   {
    "duration": 2477,
    "start_time": "2022-06-04T11:28:33.011Z"
   },
   {
    "duration": 29,
    "start_time": "2022-06-04T11:29:29.227Z"
   },
   {
    "duration": 16,
    "start_time": "2022-06-04T11:30:01.195Z"
   },
   {
    "duration": 15,
    "start_time": "2022-06-04T11:30:26.492Z"
   },
   {
    "duration": 41,
    "start_time": "2022-06-04T11:31:58.074Z"
   },
   {
    "duration": 13,
    "start_time": "2022-06-04T11:32:59.900Z"
   },
   {
    "duration": 8,
    "start_time": "2022-06-04T11:34:00.596Z"
   },
   {
    "duration": 13,
    "start_time": "2022-06-04T11:57:09.387Z"
   },
   {
    "duration": 12,
    "start_time": "2022-06-04T11:57:15.004Z"
   },
   {
    "duration": 19,
    "start_time": "2022-06-04T11:57:34.620Z"
   },
   {
    "duration": 12,
    "start_time": "2022-06-04T11:57:37.991Z"
   },
   {
    "duration": 47,
    "start_time": "2022-06-04T11:57:48.499Z"
   },
   {
    "duration": 5,
    "start_time": "2022-06-04T11:57:50.725Z"
   },
   {
    "duration": 5,
    "start_time": "2022-06-04T11:57:51.898Z"
   },
   {
    "duration": 1837,
    "start_time": "2022-06-04T11:57:53.594Z"
   },
   {
    "duration": 3438,
    "start_time": "2022-06-04T11:58:02.211Z"
   },
   {
    "duration": 1227,
    "start_time": "2022-06-04T11:58:21.644Z"
   },
   {
    "duration": 1446,
    "start_time": "2022-06-04T11:59:04.289Z"
   },
   {
    "duration": 1547,
    "start_time": "2022-06-04T11:59:55.848Z"
   },
   {
    "duration": 1521,
    "start_time": "2022-06-04T12:01:08.551Z"
   },
   {
    "duration": 2198,
    "start_time": "2022-06-04T12:01:50.686Z"
   },
   {
    "duration": 2172,
    "start_time": "2022-06-04T12:02:14.808Z"
   },
   {
    "duration": 1062,
    "start_time": "2022-06-04T12:02:41.586Z"
   },
   {
    "duration": 1057,
    "start_time": "2022-06-04T12:04:43.328Z"
   },
   {
    "duration": 13,
    "start_time": "2022-06-04T12:05:20.711Z"
   },
   {
    "duration": 16,
    "start_time": "2022-06-04T12:05:21.921Z"
   },
   {
    "duration": 314,
    "start_time": "2022-06-04T12:05:23.611Z"
   },
   {
    "duration": 4,
    "start_time": "2022-06-04T12:05:24.705Z"
   },
   {
    "duration": 84,
    "start_time": "2022-06-04T12:05:25.601Z"
   },
   {
    "duration": 40,
    "start_time": "2022-06-04T12:05:32.323Z"
   },
   {
    "duration": 80,
    "start_time": "2022-06-04T12:05:33.612Z"
   },
   {
    "duration": 99,
    "start_time": "2022-06-04T12:05:34.191Z"
   },
   {
    "duration": 18,
    "start_time": "2022-06-04T12:05:34.743Z"
   },
   {
    "duration": 21,
    "start_time": "2022-06-04T12:05:35.741Z"
   },
   {
    "duration": 100,
    "start_time": "2022-06-04T12:05:40.209Z"
   },
   {
    "duration": 27,
    "start_time": "2022-06-04T12:05:41.635Z"
   },
   {
    "duration": 98,
    "start_time": "2022-06-04T12:05:43.027Z"
   },
   {
    "duration": 33,
    "start_time": "2022-06-04T12:05:50.091Z"
   },
   {
    "duration": 35,
    "start_time": "2022-06-04T12:05:54.832Z"
   },
   {
    "duration": 31,
    "start_time": "2022-06-04T12:05:55.949Z"
   },
   {
    "duration": 42,
    "start_time": "2022-06-04T12:05:59.099Z"
   },
   {
    "duration": 7,
    "start_time": "2022-06-04T12:06:35.313Z"
   },
   {
    "duration": 28,
    "start_time": "2022-06-04T12:06:48.730Z"
   },
   {
    "duration": 12,
    "start_time": "2022-06-04T12:07:09.299Z"
   },
   {
    "duration": 36,
    "start_time": "2022-06-04T12:07:24.946Z"
   },
   {
    "duration": 13,
    "start_time": "2022-06-04T12:07:33.595Z"
   },
   {
    "duration": 32,
    "start_time": "2022-06-04T12:07:40.125Z"
   },
   {
    "duration": 56,
    "start_time": "2022-06-04T12:07:43.586Z"
   },
   {
    "duration": 595,
    "start_time": "2022-06-04T12:10:14.223Z"
   },
   {
    "duration": 8,
    "start_time": "2022-06-04T12:10:28.810Z"
   },
   {
    "duration": 12,
    "start_time": "2022-06-04T12:11:27.859Z"
   },
   {
    "duration": 33,
    "start_time": "2022-06-04T12:12:14.528Z"
   },
   {
    "duration": 6,
    "start_time": "2022-06-04T12:12:16.922Z"
   },
   {
    "duration": 10,
    "start_time": "2022-06-04T12:12:22.212Z"
   },
   {
    "duration": 6,
    "start_time": "2022-06-04T12:13:02.685Z"
   },
   {
    "duration": 10,
    "start_time": "2022-06-04T12:13:04.904Z"
   },
   {
    "duration": 39,
    "start_time": "2022-06-04T12:13:09.492Z"
   },
   {
    "duration": 13,
    "start_time": "2022-06-04T12:13:32.788Z"
   },
   {
    "duration": 17,
    "start_time": "2022-06-04T12:13:42.944Z"
   },
   {
    "duration": 13,
    "start_time": "2022-06-04T12:17:13.002Z"
   },
   {
    "duration": 19,
    "start_time": "2022-06-04T12:18:17.556Z"
   },
   {
    "duration": 117,
    "start_time": "2022-06-04T12:18:24.544Z"
   },
   {
    "duration": 19,
    "start_time": "2022-06-04T12:18:27.198Z"
   },
   {
    "duration": 12,
    "start_time": "2022-06-04T12:18:38.635Z"
   },
   {
    "duration": 35,
    "start_time": "2022-06-04T12:18:55.098Z"
   },
   {
    "duration": 22,
    "start_time": "2022-06-04T12:19:10.711Z"
   },
   {
    "duration": 23,
    "start_time": "2022-06-04T12:19:25.224Z"
   },
   {
    "duration": 8,
    "start_time": "2022-06-04T12:19:56.255Z"
   },
   {
    "duration": 10,
    "start_time": "2022-06-04T12:20:10.889Z"
   },
   {
    "duration": 5,
    "start_time": "2022-06-04T12:20:44.189Z"
   },
   {
    "duration": 12,
    "start_time": "2022-06-04T12:23:21.194Z"
   },
   {
    "duration": 9,
    "start_time": "2022-06-04T12:23:37.553Z"
   },
   {
    "duration": 12,
    "start_time": "2022-06-04T12:25:55.318Z"
   },
   {
    "duration": 9,
    "start_time": "2022-06-04T12:26:10.291Z"
   },
   {
    "duration": 18,
    "start_time": "2022-06-04T12:26:42.207Z"
   },
   {
    "duration": 25,
    "start_time": "2022-06-04T12:27:23.556Z"
   },
   {
    "duration": 25,
    "start_time": "2022-06-04T12:27:30.318Z"
   },
   {
    "duration": 38,
    "start_time": "2022-06-04T12:29:24.293Z"
   },
   {
    "duration": 340,
    "start_time": "2022-06-04T12:29:29.024Z"
   },
   {
    "duration": 1450,
    "start_time": "2022-06-04T12:30:03.533Z"
   },
   {
    "duration": 348,
    "start_time": "2022-06-04T12:30:04.985Z"
   },
   {
    "duration": 3,
    "start_time": "2022-06-04T12:30:05.334Z"
   },
   {
    "duration": 46,
    "start_time": "2022-06-04T12:30:05.339Z"
   },
   {
    "duration": 21,
    "start_time": "2022-06-04T12:30:05.442Z"
   },
   {
    "duration": 10,
    "start_time": "2022-06-04T12:30:06.495Z"
   },
   {
    "duration": 139,
    "start_time": "2022-06-04T12:30:07.011Z"
   },
   {
    "duration": 10,
    "start_time": "2022-06-04T12:30:08.395Z"
   },
   {
    "duration": 55,
    "start_time": "2022-06-04T12:30:09.286Z"
   },
   {
    "duration": 26,
    "start_time": "2022-06-04T12:30:10.201Z"
   },
   {
    "duration": 14,
    "start_time": "2022-06-04T12:30:11.446Z"
   },
   {
    "duration": 32,
    "start_time": "2022-06-04T12:30:12.314Z"
   },
   {
    "duration": 44,
    "start_time": "2022-06-04T12:30:13.099Z"
   },
   {
    "duration": 16,
    "start_time": "2022-06-04T12:30:13.491Z"
   },
   {
    "duration": 21,
    "start_time": "2022-06-04T12:30:13.842Z"
   },
   {
    "duration": 12,
    "start_time": "2022-06-04T12:30:14.559Z"
   },
   {
    "duration": 61,
    "start_time": "2022-06-04T12:30:14.950Z"
   },
   {
    "duration": 7,
    "start_time": "2022-06-04T12:30:16.087Z"
   },
   {
    "duration": 5,
    "start_time": "2022-06-04T12:30:16.986Z"
   },
   {
    "duration": 15,
    "start_time": "2022-06-04T12:30:32.635Z"
   },
   {
    "duration": 18,
    "start_time": "2022-06-04T12:30:33.691Z"
   },
   {
    "duration": 21,
    "start_time": "2022-06-04T12:30:59.698Z"
   },
   {
    "duration": 424,
    "start_time": "2022-06-04T12:31:00.663Z"
   },
   {
    "duration": 49,
    "start_time": "2022-06-04T12:31:03.157Z"
   },
   {
    "duration": 38,
    "start_time": "2022-06-04T12:31:08.749Z"
   },
   {
    "duration": 44,
    "start_time": "2022-06-04T12:31:09.323Z"
   },
   {
    "duration": 82,
    "start_time": "2022-06-04T12:31:09.995Z"
   },
   {
    "duration": 49,
    "start_time": "2022-06-04T12:31:48.333Z"
   },
   {
    "duration": 9,
    "start_time": "2022-06-04T12:31:50.884Z"
   },
   {
    "duration": 14,
    "start_time": "2022-06-04T12:31:51.435Z"
   },
   {
    "duration": 38,
    "start_time": "2022-06-04T12:31:52.291Z"
   },
   {
    "duration": 17,
    "start_time": "2022-06-04T12:31:55.994Z"
   },
   {
    "duration": 25,
    "start_time": "2022-06-04T12:31:59.226Z"
   },
   {
    "duration": 58,
    "start_time": "2022-06-04T12:32:03.019Z"
   },
   {
    "duration": 63,
    "start_time": "2022-06-04T12:32:59.858Z"
   },
   {
    "duration": 13,
    "start_time": "2022-06-04T12:33:01.895Z"
   },
   {
    "duration": 26,
    "start_time": "2022-06-04T12:33:18.361Z"
   },
   {
    "duration": 211,
    "start_time": "2022-06-04T12:33:18.995Z"
   },
   {
    "duration": 21,
    "start_time": "2022-06-04T12:33:31.691Z"
   },
   {
    "duration": 51,
    "start_time": "2022-06-04T12:33:32.790Z"
   },
   {
    "duration": 35,
    "start_time": "2022-06-04T12:33:45.690Z"
   },
   {
    "duration": 12,
    "start_time": "2022-06-04T12:34:12.782Z"
   },
   {
    "duration": 37,
    "start_time": "2022-06-04T12:34:21.207Z"
   },
   {
    "duration": 7,
    "start_time": "2022-06-04T12:34:24.932Z"
   },
   {
    "duration": 10,
    "start_time": "2022-06-04T12:34:32.203Z"
   },
   {
    "duration": 47,
    "start_time": "2022-06-04T12:34:35.630Z"
   },
   {
    "duration": 23,
    "start_time": "2022-06-04T12:34:42.599Z"
   },
   {
    "duration": 16,
    "start_time": "2022-06-04T12:34:56.817Z"
   },
   {
    "duration": 25,
    "start_time": "2022-06-04T12:35:21.456Z"
   },
   {
    "duration": 12,
    "start_time": "2022-06-04T12:35:41.393Z"
   },
   {
    "duration": 1205,
    "start_time": "2022-06-04T12:37:16.264Z"
   },
   {
    "duration": 277,
    "start_time": "2022-06-04T12:37:17.471Z"
   },
   {
    "duration": 3,
    "start_time": "2022-06-04T12:37:18.305Z"
   },
   {
    "duration": 27,
    "start_time": "2022-06-04T12:37:18.798Z"
   },
   {
    "duration": 14,
    "start_time": "2022-06-04T12:37:18.998Z"
   },
   {
    "duration": 9,
    "start_time": "2022-06-04T12:37:19.259Z"
   },
   {
    "duration": 79,
    "start_time": "2022-06-04T12:37:19.506Z"
   },
   {
    "duration": 7,
    "start_time": "2022-06-04T12:37:20.096Z"
   },
   {
    "duration": 36,
    "start_time": "2022-06-04T12:37:20.549Z"
   },
   {
    "duration": 18,
    "start_time": "2022-06-04T12:37:21.046Z"
   },
   {
    "duration": 8,
    "start_time": "2022-06-04T12:37:21.835Z"
   },
   {
    "duration": 18,
    "start_time": "2022-06-04T12:37:22.431Z"
   },
   {
    "duration": 30,
    "start_time": "2022-06-04T12:37:23.248Z"
   },
   {
    "duration": 15,
    "start_time": "2022-06-04T12:37:23.723Z"
   },
   {
    "duration": 19,
    "start_time": "2022-06-04T12:37:24.149Z"
   },
   {
    "duration": 12,
    "start_time": "2022-06-04T12:37:24.906Z"
   },
   {
    "duration": 34,
    "start_time": "2022-06-04T12:37:25.327Z"
   },
   {
    "duration": 5,
    "start_time": "2022-06-04T12:37:26.660Z"
   },
   {
    "duration": 5,
    "start_time": "2022-06-04T12:37:27.428Z"
   },
   {
    "duration": 2046,
    "start_time": "2022-06-04T12:37:28.798Z"
   },
   {
    "duration": 19,
    "start_time": "2022-06-04T12:38:48.045Z"
   },
   {
    "duration": 22,
    "start_time": "2022-06-04T12:38:49.913Z"
   },
   {
    "duration": 147,
    "start_time": "2022-06-04T12:39:02.396Z"
   },
   {
    "duration": 67,
    "start_time": "2022-06-04T12:39:07.734Z"
   },
   {
    "duration": 29,
    "start_time": "2022-06-04T12:39:11.218Z"
   },
   {
    "duration": 28,
    "start_time": "2022-06-04T12:39:11.858Z"
   },
   {
    "duration": 71,
    "start_time": "2022-06-04T12:39:12.490Z"
   },
   {
    "duration": 31,
    "start_time": "2022-06-04T12:39:14.522Z"
   },
   {
    "duration": 7,
    "start_time": "2022-06-04T12:39:15.090Z"
   },
   {
    "duration": 12,
    "start_time": "2022-06-04T12:39:15.990Z"
   },
   {
    "duration": 25,
    "start_time": "2022-06-04T12:39:16.491Z"
   },
   {
    "duration": 15,
    "start_time": "2022-06-04T12:39:19.251Z"
   },
   {
    "duration": 20,
    "start_time": "2022-06-04T12:39:19.711Z"
   },
   {
    "duration": 54,
    "start_time": "2022-06-04T12:39:20.847Z"
   },
   {
    "duration": 10,
    "start_time": "2022-06-04T12:39:33.742Z"
   },
   {
    "duration": 17,
    "start_time": "2022-06-04T12:39:34.307Z"
   },
   {
    "duration": 241,
    "start_time": "2022-06-04T12:39:36.300Z"
   },
   {
    "duration": 20,
    "start_time": "2022-06-04T12:39:37.060Z"
   },
   {
    "duration": 32,
    "start_time": "2022-06-04T12:39:37.795Z"
   },
   {
    "duration": 20,
    "start_time": "2022-06-04T12:39:41.609Z"
   },
   {
    "duration": 11,
    "start_time": "2022-06-04T12:39:43.048Z"
   },
   {
    "duration": 8,
    "start_time": "2022-06-04T12:41:30.805Z"
   },
   {
    "duration": 8,
    "start_time": "2022-06-04T12:41:33.658Z"
   },
   {
    "duration": 25,
    "start_time": "2022-06-04T12:41:41.405Z"
   },
   {
    "duration": 15,
    "start_time": "2022-06-04T12:41:47.447Z"
   },
   {
    "duration": 25,
    "start_time": "2022-06-04T12:41:50.916Z"
   },
   {
    "duration": 1249,
    "start_time": "2022-06-04T12:42:33.746Z"
   },
   {
    "duration": 284,
    "start_time": "2022-06-04T12:42:34.997Z"
   },
   {
    "duration": 4,
    "start_time": "2022-06-04T12:42:35.283Z"
   },
   {
    "duration": 44,
    "start_time": "2022-06-04T12:42:35.288Z"
   },
   {
    "duration": 13,
    "start_time": "2022-06-04T12:42:35.457Z"
   },
   {
    "duration": 7,
    "start_time": "2022-06-04T12:42:35.921Z"
   },
   {
    "duration": 113,
    "start_time": "2022-06-04T12:42:36.340Z"
   },
   {
    "duration": 6,
    "start_time": "2022-06-04T12:42:37.018Z"
   },
   {
    "duration": 44,
    "start_time": "2022-06-04T12:42:37.298Z"
   },
   {
    "duration": 26,
    "start_time": "2022-06-04T12:42:37.639Z"
   },
   {
    "duration": 10,
    "start_time": "2022-06-04T12:42:38.247Z"
   },
   {
    "duration": 29,
    "start_time": "2022-06-04T12:42:38.642Z"
   },
   {
    "duration": 35,
    "start_time": "2022-06-04T12:42:39.097Z"
   },
   {
    "duration": 13,
    "start_time": "2022-06-04T12:42:39.312Z"
   },
   {
    "duration": 14,
    "start_time": "2022-06-04T12:42:39.660Z"
   },
   {
    "duration": 8,
    "start_time": "2022-06-04T12:42:42.393Z"
   },
   {
    "duration": 33,
    "start_time": "2022-06-04T12:42:42.893Z"
   },
   {
    "duration": 4,
    "start_time": "2022-06-04T12:42:46.782Z"
   },
   {
    "duration": 4,
    "start_time": "2022-06-04T12:42:47.615Z"
   },
   {
    "duration": 38,
    "start_time": "2022-06-04T12:44:36.510Z"
   },
   {
    "duration": 4,
    "start_time": "2022-06-04T12:45:22.737Z"
   },
   {
    "duration": 44,
    "start_time": "2022-06-04T12:45:52.788Z"
   },
   {
    "duration": 131,
    "start_time": "2022-06-04T12:46:03.932Z"
   },
   {
    "duration": 3328,
    "start_time": "2022-06-04T12:46:33.190Z"
   },
   {
    "duration": 4,
    "start_time": "2022-06-04T12:48:24.894Z"
   },
   {
    "duration": 4043,
    "start_time": "2022-06-04T12:48:27.090Z"
   },
   {
    "duration": 3,
    "start_time": "2022-06-04T12:48:58.835Z"
   },
   {
    "duration": 3951,
    "start_time": "2022-06-04T12:48:59.588Z"
   },
   {
    "duration": 62,
    "start_time": "2022-06-04T12:50:19.403Z"
   },
   {
    "duration": 4053,
    "start_time": "2022-06-04T12:50:29.128Z"
   },
   {
    "duration": 50,
    "start_time": "2022-06-04T12:51:52.527Z"
   },
   {
    "duration": 1043,
    "start_time": "2022-06-04T12:52:04.876Z"
   },
   {
    "duration": 4,
    "start_time": "2022-06-04T12:53:06.535Z"
   },
   {
    "duration": 4150,
    "start_time": "2022-06-04T12:53:11.240Z"
   },
   {
    "duration": 4,
    "start_time": "2022-06-04T12:53:47.530Z"
   },
   {
    "duration": 41,
    "start_time": "2022-06-04T12:53:48.372Z"
   },
   {
    "duration": 4,
    "start_time": "2022-06-04T12:54:47.686Z"
   },
   {
    "duration": 4219,
    "start_time": "2022-06-04T12:54:48.496Z"
   },
   {
    "duration": 1315,
    "start_time": "2022-06-04T12:55:04.927Z"
   },
   {
    "duration": 38,
    "start_time": "2022-06-04T12:55:14.903Z"
   },
   {
    "duration": 1043,
    "start_time": "2022-06-04T12:55:23.584Z"
   },
   {
    "duration": 635,
    "start_time": "2022-06-04T12:56:18.131Z"
   },
   {
    "duration": 1052,
    "start_time": "2022-06-04T12:56:53.427Z"
   },
   {
    "duration": 35,
    "start_time": "2022-06-04T12:58:51.296Z"
   },
   {
    "duration": 30,
    "start_time": "2022-06-04T12:59:23.147Z"
   },
   {
    "duration": 45,
    "start_time": "2022-06-04T12:59:47.394Z"
   },
   {
    "duration": 32,
    "start_time": "2022-06-04T12:59:55.971Z"
   },
   {
    "duration": 53,
    "start_time": "2022-06-04T13:00:07.200Z"
   },
   {
    "duration": 3,
    "start_time": "2022-06-04T13:00:15.371Z"
   },
   {
    "duration": 49,
    "start_time": "2022-06-04T13:00:19.845Z"
   },
   {
    "duration": 52,
    "start_time": "2022-06-04T13:00:30.105Z"
   },
   {
    "duration": 43,
    "start_time": "2022-06-04T13:00:37.316Z"
   },
   {
    "duration": 32,
    "start_time": "2022-06-04T13:00:45.190Z"
   },
   {
    "duration": 48,
    "start_time": "2022-06-04T13:00:51.235Z"
   },
   {
    "duration": 5,
    "start_time": "2022-06-04T13:01:15.041Z"
   },
   {
    "duration": 4344,
    "start_time": "2022-06-04T13:01:17.499Z"
   },
   {
    "duration": 4189,
    "start_time": "2022-06-04T13:01:28.994Z"
   },
   {
    "duration": 4162,
    "start_time": "2022-06-04T13:01:39.481Z"
   },
   {
    "duration": 31,
    "start_time": "2022-06-04T13:01:52.288Z"
   },
   {
    "duration": 4557,
    "start_time": "2022-06-04T13:04:56.251Z"
   },
   {
    "duration": 36,
    "start_time": "2022-06-04T13:05:17.413Z"
   },
   {
    "duration": 32,
    "start_time": "2022-06-04T13:05:46.992Z"
   },
   {
    "duration": 8,
    "start_time": "2022-06-04T13:05:51.838Z"
   },
   {
    "duration": 4334,
    "start_time": "2022-06-04T13:05:52.427Z"
   },
   {
    "duration": 1034,
    "start_time": "2022-06-04T13:06:26.790Z"
   },
   {
    "duration": 38,
    "start_time": "2022-06-04T13:06:47.768Z"
   },
   {
    "duration": 47,
    "start_time": "2022-06-04T13:07:32.076Z"
   },
   {
    "duration": 1178,
    "start_time": "2022-06-04T13:08:06.676Z"
   },
   {
    "duration": 1028,
    "start_time": "2022-06-04T13:08:32.412Z"
   },
   {
    "duration": 1042,
    "start_time": "2022-06-04T13:08:46.610Z"
   },
   {
    "duration": 3,
    "start_time": "2022-06-04T13:09:19.127Z"
   },
   {
    "duration": 32,
    "start_time": "2022-06-04T13:09:22.670Z"
   },
   {
    "duration": 6,
    "start_time": "2022-06-04T13:12:35.469Z"
   },
   {
    "duration": 4210,
    "start_time": "2022-06-04T13:12:35.973Z"
   },
   {
    "duration": 4,
    "start_time": "2022-06-04T13:12:59.286Z"
   },
   {
    "duration": 4290,
    "start_time": "2022-06-04T13:13:00.072Z"
   },
   {
    "duration": 4,
    "start_time": "2022-06-04T13:13:13.105Z"
   },
   {
    "duration": 4625,
    "start_time": "2022-06-04T13:13:13.742Z"
   },
   {
    "duration": 4,
    "start_time": "2022-06-04T13:15:42.205Z"
   },
   {
    "duration": 4257,
    "start_time": "2022-06-04T13:15:42.801Z"
   },
   {
    "duration": 458,
    "start_time": "2022-06-04T13:17:01.800Z"
   },
   {
    "duration": 435,
    "start_time": "2022-06-04T13:17:43.293Z"
   },
   {
    "duration": 314,
    "start_time": "2022-06-04T13:17:58.885Z"
   },
   {
    "duration": 288,
    "start_time": "2022-06-04T13:18:15.377Z"
   },
   {
    "duration": 216,
    "start_time": "2022-06-04T13:18:39.943Z"
   },
   {
    "duration": 1179,
    "start_time": "2022-06-04T13:18:59.782Z"
   },
   {
    "duration": 21,
    "start_time": "2022-06-04T13:20:04.820Z"
   },
   {
    "duration": 1119,
    "start_time": "2022-06-04T13:20:10.442Z"
   },
   {
    "duration": 1055,
    "start_time": "2022-06-04T13:20:41.088Z"
   },
   {
    "duration": 968,
    "start_time": "2022-06-04T13:20:51.048Z"
   },
   {
    "duration": 934,
    "start_time": "2022-06-04T13:20:58.946Z"
   },
   {
    "duration": 52,
    "start_time": "2022-06-04T13:21:30.366Z"
   },
   {
    "duration": 1089,
    "start_time": "2022-06-04T13:21:41.290Z"
   },
   {
    "duration": 12,
    "start_time": "2022-06-04T13:23:35.347Z"
   },
   {
    "duration": 86,
    "start_time": "2022-06-04T13:24:35.980Z"
   },
   {
    "duration": 11,
    "start_time": "2022-06-04T13:24:46.299Z"
   },
   {
    "duration": 16,
    "start_time": "2022-06-04T13:28:30.495Z"
   },
   {
    "duration": 20,
    "start_time": "2022-06-04T13:28:35.279Z"
   },
   {
    "duration": 18,
    "start_time": "2022-06-04T13:28:42.147Z"
   },
   {
    "duration": 20,
    "start_time": "2022-06-04T13:28:44.491Z"
   },
   {
    "duration": 15,
    "start_time": "2022-06-04T13:28:55.844Z"
   },
   {
    "duration": 16,
    "start_time": "2022-06-04T13:29:12.546Z"
   },
   {
    "duration": 11,
    "start_time": "2022-06-04T13:29:52.888Z"
   },
   {
    "duration": 11,
    "start_time": "2022-06-04T13:30:24.592Z"
   },
   {
    "duration": 28,
    "start_time": "2022-06-04T13:30:38.714Z"
   },
   {
    "duration": 48,
    "start_time": "2022-06-04T13:31:19.624Z"
   },
   {
    "duration": 1069,
    "start_time": "2022-06-04T13:31:33.344Z"
   },
   {
    "duration": 56,
    "start_time": "2022-06-04T13:33:29.806Z"
   },
   {
    "duration": 62,
    "start_time": "2022-06-04T13:34:03.622Z"
   },
   {
    "duration": 50,
    "start_time": "2022-06-04T13:34:17.017Z"
   },
   {
    "duration": 60,
    "start_time": "2022-06-04T13:34:36.150Z"
   },
   {
    "duration": 54,
    "start_time": "2022-06-04T13:35:07.790Z"
   },
   {
    "duration": 49,
    "start_time": "2022-06-04T13:35:21.894Z"
   },
   {
    "duration": 13,
    "start_time": "2022-06-04T13:36:43.043Z"
   },
   {
    "duration": 54,
    "start_time": "2022-06-04T13:36:53.822Z"
   },
   {
    "duration": 49,
    "start_time": "2022-06-04T13:37:40.498Z"
   },
   {
    "duration": 46,
    "start_time": "2022-06-04T13:37:57.354Z"
   },
   {
    "duration": 42,
    "start_time": "2022-06-04T13:38:10.554Z"
   },
   {
    "duration": 46,
    "start_time": "2022-06-04T13:38:19.522Z"
   },
   {
    "duration": 1064,
    "start_time": "2022-06-04T13:38:25.338Z"
   },
   {
    "duration": 46,
    "start_time": "2022-06-04T13:38:49.906Z"
   },
   {
    "duration": 11,
    "start_time": "2022-06-04T13:40:17.222Z"
   },
   {
    "duration": 44,
    "start_time": "2022-06-04T13:40:31.507Z"
   },
   {
    "duration": 1082,
    "start_time": "2022-06-04T13:41:45.804Z"
   },
   {
    "duration": 18,
    "start_time": "2022-06-04T13:42:19.624Z"
   },
   {
    "duration": 1131,
    "start_time": "2022-06-04T13:42:32.260Z"
   },
   {
    "duration": 43,
    "start_time": "2022-06-04T13:43:08.442Z"
   },
   {
    "duration": 61,
    "start_time": "2022-06-04T13:43:30.996Z"
   },
   {
    "duration": 57,
    "start_time": "2022-06-04T13:44:39.030Z"
   },
   {
    "duration": 45,
    "start_time": "2022-06-04T13:45:26.825Z"
   },
   {
    "duration": 56,
    "start_time": "2022-06-04T13:45:46.609Z"
   },
   {
    "duration": 38,
    "start_time": "2022-06-04T13:46:44.344Z"
   },
   {
    "duration": 41,
    "start_time": "2022-06-04T13:46:58.917Z"
   },
   {
    "duration": 1113,
    "start_time": "2022-06-04T13:47:07.367Z"
   },
   {
    "duration": 205,
    "start_time": "2022-06-04T13:47:19.055Z"
   },
   {
    "duration": 56,
    "start_time": "2022-06-04T13:47:34.752Z"
   },
   {
    "duration": 30,
    "start_time": "2022-06-04T13:47:54.864Z"
   },
   {
    "duration": 51,
    "start_time": "2022-06-04T13:48:11.816Z"
   },
   {
    "duration": 41,
    "start_time": "2022-06-04T13:48:40.262Z"
   },
   {
    "duration": 940,
    "start_time": "2022-06-04T13:48:52.450Z"
   },
   {
    "duration": 46,
    "start_time": "2022-06-04T13:49:23.862Z"
   },
   {
    "duration": 39,
    "start_time": "2022-06-04T13:49:39.046Z"
   },
   {
    "duration": 39,
    "start_time": "2022-06-04T13:49:48.021Z"
   },
   {
    "duration": 39,
    "start_time": "2022-06-04T13:50:18.354Z"
   },
   {
    "duration": 66,
    "start_time": "2022-06-04T13:51:05.248Z"
   },
   {
    "duration": 60,
    "start_time": "2022-06-04T13:51:49.214Z"
   },
   {
    "duration": 53,
    "start_time": "2022-06-04T13:52:05.898Z"
   },
   {
    "duration": 53,
    "start_time": "2022-06-04T13:52:24.146Z"
   },
   {
    "duration": 60,
    "start_time": "2022-06-04T13:52:50.466Z"
   },
   {
    "duration": 44,
    "start_time": "2022-06-04T13:53:09.348Z"
   },
   {
    "duration": 65,
    "start_time": "2022-06-04T13:53:17.143Z"
   },
   {
    "duration": 68,
    "start_time": "2022-06-04T13:53:36.624Z"
   },
   {
    "duration": 50,
    "start_time": "2022-06-04T13:53:45.026Z"
   },
   {
    "duration": 12,
    "start_time": "2022-06-04T13:55:01.600Z"
   },
   {
    "duration": 23,
    "start_time": "2022-06-04T13:55:13.304Z"
   },
   {
    "duration": 23,
    "start_time": "2022-06-04T13:55:32.650Z"
   },
   {
    "duration": 26,
    "start_time": "2022-06-04T13:55:48.707Z"
   },
   {
    "duration": 21,
    "start_time": "2022-06-04T13:56:06.466Z"
   },
   {
    "duration": 13,
    "start_time": "2022-06-04T13:57:07.164Z"
   },
   {
    "duration": 50,
    "start_time": "2022-06-04T13:57:29.265Z"
   },
   {
    "duration": 45,
    "start_time": "2022-06-04T13:57:42.643Z"
   },
   {
    "duration": 46,
    "start_time": "2022-06-04T13:58:04.103Z"
   },
   {
    "duration": 66,
    "start_time": "2022-06-04T13:58:12.282Z"
   },
   {
    "duration": 54,
    "start_time": "2022-06-04T13:58:25.019Z"
   },
   {
    "duration": 60,
    "start_time": "2022-06-04T14:02:16.837Z"
   },
   {
    "duration": 50,
    "start_time": "2022-06-04T14:02:42.443Z"
   },
   {
    "duration": 41,
    "start_time": "2022-06-04T14:03:54.201Z"
   },
   {
    "duration": 49,
    "start_time": "2022-06-04T14:04:15.016Z"
   },
   {
    "duration": 46,
    "start_time": "2022-06-04T14:04:23.444Z"
   },
   {
    "duration": 65,
    "start_time": "2022-06-04T14:04:41.940Z"
   },
   {
    "duration": 57,
    "start_time": "2022-06-04T14:06:02.356Z"
   },
   {
    "duration": 43,
    "start_time": "2022-06-04T14:06:22.139Z"
   },
   {
    "duration": 63,
    "start_time": "2022-06-04T14:06:37.047Z"
   },
   {
    "duration": 46,
    "start_time": "2022-06-04T14:06:48.497Z"
   },
   {
    "duration": 5,
    "start_time": "2022-06-04T14:08:49.439Z"
   },
   {
    "duration": 57,
    "start_time": "2022-06-04T14:09:56.189Z"
   },
   {
    "duration": 58,
    "start_time": "2022-06-04T14:10:29.657Z"
   },
   {
    "duration": 40,
    "start_time": "2022-06-04T14:10:40.696Z"
   },
   {
    "duration": 41,
    "start_time": "2022-06-04T14:11:07.547Z"
   },
   {
    "duration": 52,
    "start_time": "2022-06-04T14:11:42.512Z"
   },
   {
    "duration": 59,
    "start_time": "2022-06-04T14:12:16.847Z"
   },
   {
    "duration": 42,
    "start_time": "2022-06-04T14:12:27.042Z"
   },
   {
    "duration": 55,
    "start_time": "2022-06-04T14:12:38.784Z"
   },
   {
    "duration": 45,
    "start_time": "2022-06-04T14:13:00.619Z"
   },
   {
    "duration": 2322,
    "start_time": "2022-06-04T14:14:03.587Z"
   },
   {
    "duration": 1855,
    "start_time": "2022-06-04T14:22:58.550Z"
   },
   {
    "duration": 42,
    "start_time": "2022-06-04T14:24:19.902Z"
   },
   {
    "duration": 50,
    "start_time": "2022-06-04T14:25:24.487Z"
   },
   {
    "duration": 41,
    "start_time": "2022-06-04T14:25:32.991Z"
   },
   {
    "duration": 42,
    "start_time": "2022-06-04T14:26:35.525Z"
   },
   {
    "duration": 28,
    "start_time": "2022-06-04T14:27:40.295Z"
   },
   {
    "duration": 57,
    "start_time": "2022-06-04T14:27:47.795Z"
   },
   {
    "duration": 61,
    "start_time": "2022-06-04T14:28:48.104Z"
   },
   {
    "duration": 43,
    "start_time": "2022-06-04T14:30:16.038Z"
   },
   {
    "duration": 45,
    "start_time": "2022-06-04T14:30:34.988Z"
   },
   {
    "duration": 42,
    "start_time": "2022-06-04T14:30:51.397Z"
   },
   {
    "duration": 55,
    "start_time": "2022-06-04T14:31:17.818Z"
   },
   {
    "duration": 924,
    "start_time": "2022-06-04T14:33:41.219Z"
   },
   {
    "duration": 42,
    "start_time": "2022-06-04T14:34:45.698Z"
   },
   {
    "duration": 39,
    "start_time": "2022-06-04T14:34:55.698Z"
   },
   {
    "duration": 187,
    "start_time": "2022-06-04T14:35:13.751Z"
   },
   {
    "duration": 53,
    "start_time": "2022-06-04T14:36:17.917Z"
   },
   {
    "duration": 166,
    "start_time": "2022-06-04T14:36:40.262Z"
   },
   {
    "duration": 55,
    "start_time": "2022-06-04T14:37:05.903Z"
   },
   {
    "duration": 175,
    "start_time": "2022-06-04T14:37:07.107Z"
   },
   {
    "duration": 1398,
    "start_time": "2022-06-04T14:38:01.625Z"
   },
   {
    "duration": 335,
    "start_time": "2022-06-04T14:38:03.025Z"
   },
   {
    "duration": 2,
    "start_time": "2022-06-04T14:38:03.362Z"
   },
   {
    "duration": 54,
    "start_time": "2022-06-04T14:38:03.366Z"
   },
   {
    "duration": 18,
    "start_time": "2022-06-04T14:38:03.606Z"
   },
   {
    "duration": 9,
    "start_time": "2022-06-04T14:38:04.103Z"
   },
   {
    "duration": 123,
    "start_time": "2022-06-04T14:38:04.556Z"
   },
   {
    "duration": 8,
    "start_time": "2022-06-04T14:38:05.838Z"
   },
   {
    "duration": 44,
    "start_time": "2022-06-04T14:38:06.754Z"
   },
   {
    "duration": 20,
    "start_time": "2022-06-04T14:38:07.643Z"
   },
   {
    "duration": 10,
    "start_time": "2022-06-04T14:38:08.994Z"
   },
   {
    "duration": 20,
    "start_time": "2022-06-04T14:38:09.856Z"
   },
   {
    "duration": 27,
    "start_time": "2022-06-04T14:38:11.006Z"
   },
   {
    "duration": 18,
    "start_time": "2022-06-04T14:38:11.452Z"
   },
   {
    "duration": 15,
    "start_time": "2022-06-04T14:38:11.961Z"
   },
   {
    "duration": 35,
    "start_time": "2022-06-04T14:38:12.436Z"
   },
   {
    "duration": 9,
    "start_time": "2022-06-04T14:38:13.429Z"
   },
   {
    "duration": 35,
    "start_time": "2022-06-04T14:38:13.922Z"
   },
   {
    "duration": 5,
    "start_time": "2022-06-04T14:38:15.203Z"
   },
   {
    "duration": 5,
    "start_time": "2022-06-04T14:38:16.137Z"
   },
   {
    "duration": 2171,
    "start_time": "2022-06-04T14:38:17.615Z"
   },
   {
    "duration": 4,
    "start_time": "2022-06-04T14:38:24.234Z"
   },
   {
    "duration": 4247,
    "start_time": "2022-06-04T14:38:27.707Z"
   },
   {
    "duration": 66,
    "start_time": "2022-06-04T14:38:49.613Z"
   },
   {
    "duration": 391,
    "start_time": "2022-06-04T14:38:52.103Z"
   },
   {
    "duration": 48,
    "start_time": "2022-06-04T14:39:21.503Z"
   },
   {
    "duration": 60,
    "start_time": "2022-06-04T14:40:06.783Z"
   },
   {
    "duration": 189,
    "start_time": "2022-06-04T14:40:09.020Z"
   },
   {
    "duration": 61,
    "start_time": "2022-06-04T14:40:21.359Z"
   },
   {
    "duration": 3,
    "start_time": "2022-06-04T14:41:24.748Z"
   },
   {
    "duration": 4307,
    "start_time": "2022-06-04T14:41:25.503Z"
   },
   {
    "duration": 165,
    "start_time": "2022-06-04T14:41:40.363Z"
   },
   {
    "duration": 43,
    "start_time": "2022-06-04T14:43:16.699Z"
   },
   {
    "duration": 41,
    "start_time": "2022-06-04T14:43:28.743Z"
   },
   {
    "duration": 1074,
    "start_time": "2022-06-04T14:43:39.806Z"
   },
   {
    "duration": 1124,
    "start_time": "2022-06-04T14:44:01.200Z"
   },
   {
    "duration": 1049,
    "start_time": "2022-06-04T14:44:14.295Z"
   },
   {
    "duration": 1229,
    "start_time": "2022-06-04T14:45:10.853Z"
   },
   {
    "duration": 1213,
    "start_time": "2022-06-04T14:45:21.742Z"
   },
   {
    "duration": 1288,
    "start_time": "2022-06-04T14:45:32.754Z"
   },
   {
    "duration": 2094,
    "start_time": "2022-06-04T14:45:47.617Z"
   },
   {
    "duration": 2503,
    "start_time": "2022-06-04T14:46:05.748Z"
   },
   {
    "duration": 4247,
    "start_time": "2022-06-04T14:47:20.737Z"
   },
   {
    "duration": 18,
    "start_time": "2022-06-04T14:47:47.038Z"
   },
   {
    "duration": 26,
    "start_time": "2022-06-04T14:47:48.339Z"
   },
   {
    "duration": 105,
    "start_time": "2022-06-04T14:47:51.549Z"
   },
   {
    "duration": 55,
    "start_time": "2022-06-04T14:48:15.823Z"
   },
   {
    "duration": 20,
    "start_time": "2022-06-04T14:48:28.135Z"
   },
   {
    "duration": 107,
    "start_time": "2022-06-04T14:48:31.308Z"
   },
   {
    "duration": 22,
    "start_time": "2022-06-04T14:52:44.642Z"
   },
   {
    "duration": 43,
    "start_time": "2022-06-04T14:53:47.461Z"
   },
   {
    "duration": 16,
    "start_time": "2022-06-04T14:54:07.311Z"
   },
   {
    "duration": 28,
    "start_time": "2022-06-04T14:54:17.276Z"
   },
   {
    "duration": 24,
    "start_time": "2022-06-04T14:54:19.359Z"
   },
   {
    "duration": 4,
    "start_time": "2022-06-04T14:54:27.835Z"
   },
   {
    "duration": 171,
    "start_time": "2022-06-04T14:54:31.072Z"
   },
   {
    "duration": 99,
    "start_time": "2022-06-04T14:55:21.111Z"
   },
   {
    "duration": 4,
    "start_time": "2022-06-04T14:55:46.461Z"
   },
   {
    "duration": 82,
    "start_time": "2022-06-04T14:55:51.612Z"
   },
   {
    "duration": 43,
    "start_time": "2022-06-04T14:56:09.509Z"
   },
   {
    "duration": 166,
    "start_time": "2022-06-04T14:56:10.658Z"
   },
   {
    "duration": 80,
    "start_time": "2022-06-04T14:58:52.542Z"
   },
   {
    "duration": 36,
    "start_time": "2022-06-04T14:59:11.069Z"
   },
   {
    "duration": 7,
    "start_time": "2022-06-04T14:59:19.310Z"
   },
   {
    "duration": 73,
    "start_time": "2022-06-04T14:59:21.045Z"
   },
   {
    "duration": 100,
    "start_time": "2022-06-04T15:00:10.176Z"
   },
   {
    "duration": 3,
    "start_time": "2022-06-04T15:00:25.113Z"
   },
   {
    "duration": 61,
    "start_time": "2022-06-04T15:00:26.129Z"
   },
   {
    "duration": 82,
    "start_time": "2022-06-04T15:00:38.713Z"
   },
   {
    "duration": 41,
    "start_time": "2022-06-04T15:02:08.301Z"
   },
   {
    "duration": 54,
    "start_time": "2022-06-04T15:02:08.800Z"
   },
   {
    "duration": 23,
    "start_time": "2022-06-04T15:02:09.649Z"
   },
   {
    "duration": 43,
    "start_time": "2022-06-04T15:02:11.121Z"
   },
   {
    "duration": 43,
    "start_time": "2022-06-04T15:03:55.220Z"
   },
   {
    "duration": 73,
    "start_time": "2022-06-04T15:04:10.808Z"
   },
   {
    "duration": 34,
    "start_time": "2022-06-04T15:07:38.122Z"
   },
   {
    "duration": 23,
    "start_time": "2022-06-04T15:07:54.823Z"
   },
   {
    "duration": 38,
    "start_time": "2022-06-04T15:08:02.862Z"
   },
   {
    "duration": 32,
    "start_time": "2022-06-04T15:09:30.347Z"
   },
   {
    "duration": 24,
    "start_time": "2022-06-04T15:10:21.845Z"
   },
   {
    "duration": 40,
    "start_time": "2022-06-04T15:10:45.595Z"
   },
   {
    "duration": 51,
    "start_time": "2022-06-04T15:11:40.351Z"
   },
   {
    "duration": 24,
    "start_time": "2022-06-04T15:11:48.296Z"
   },
   {
    "duration": 35,
    "start_time": "2022-06-04T15:11:55.324Z"
   },
   {
    "duration": 35,
    "start_time": "2022-06-04T15:12:30.548Z"
   },
   {
    "duration": 30,
    "start_time": "2022-06-04T15:12:35.152Z"
   },
   {
    "duration": 36,
    "start_time": "2022-06-04T15:12:36.589Z"
   },
   {
    "duration": 8,
    "start_time": "2022-06-04T15:12:37.151Z"
   },
   {
    "duration": 19,
    "start_time": "2022-06-04T15:13:03.994Z"
   },
   {
    "duration": 45,
    "start_time": "2022-06-04T15:13:05.192Z"
   },
   {
    "duration": 30,
    "start_time": "2022-06-04T15:13:11.618Z"
   },
   {
    "duration": 33,
    "start_time": "2022-06-04T15:13:12.248Z"
   },
   {
    "duration": 56,
    "start_time": "2022-06-04T15:13:13.147Z"
   },
   {
    "duration": 11,
    "start_time": "2022-06-04T15:13:17.314Z"
   },
   {
    "duration": 26,
    "start_time": "2022-06-04T15:13:18.139Z"
   },
   {
    "duration": 238,
    "start_time": "2022-06-04T15:13:20.238Z"
   },
   {
    "duration": 29,
    "start_time": "2022-06-04T15:13:20.820Z"
   },
   {
    "duration": 50,
    "start_time": "2022-06-04T15:15:47.789Z"
   },
   {
    "duration": 32,
    "start_time": "2022-06-04T15:15:55.294Z"
   },
   {
    "duration": 14,
    "start_time": "2022-06-04T15:15:59.481Z"
   },
   {
    "duration": 35,
    "start_time": "2022-06-04T15:16:44.385Z"
   },
   {
    "duration": 317,
    "start_time": "2022-06-04T15:17:47.328Z"
   },
   {
    "duration": 7,
    "start_time": "2022-06-04T15:18:07.989Z"
   },
   {
    "duration": 9,
    "start_time": "2022-06-04T15:18:08.788Z"
   },
   {
    "duration": 45,
    "start_time": "2022-06-04T15:18:12.419Z"
   },
   {
    "duration": 31,
    "start_time": "2022-06-04T15:18:18.026Z"
   },
   {
    "duration": 25,
    "start_time": "2022-06-04T15:18:35.129Z"
   },
   {
    "duration": 25,
    "start_time": "2022-06-04T15:18:46.403Z"
   },
   {
    "duration": 33,
    "start_time": "2022-06-04T15:19:47.902Z"
   },
   {
    "duration": 6,
    "start_time": "2022-06-04T15:22:31.477Z"
   },
   {
    "duration": 26,
    "start_time": "2022-06-04T15:22:46.497Z"
   },
   {
    "duration": 20,
    "start_time": "2022-06-04T15:22:59.318Z"
   },
   {
    "duration": 19,
    "start_time": "2022-06-04T15:23:41.205Z"
   },
   {
    "duration": 14,
    "start_time": "2022-06-04T15:24:42.822Z"
   },
   {
    "duration": 29,
    "start_time": "2022-06-04T15:25:05.545Z"
   },
   {
    "duration": 21,
    "start_time": "2022-06-04T15:25:06.417Z"
   },
   {
    "duration": 18,
    "start_time": "2022-06-04T15:25:12.419Z"
   },
   {
    "duration": 24,
    "start_time": "2022-06-04T15:25:23.020Z"
   },
   {
    "duration": 275,
    "start_time": "2022-06-04T15:27:03.725Z"
   },
   {
    "duration": 348,
    "start_time": "2022-06-04T15:27:21.093Z"
   },
   {
    "duration": 361,
    "start_time": "2022-06-04T15:27:32.565Z"
   },
   {
    "duration": 337,
    "start_time": "2022-06-04T15:27:46.211Z"
   },
   {
    "duration": 342,
    "start_time": "2022-06-04T16:14:40.139Z"
   },
   {
    "duration": 248,
    "start_time": "2022-06-04T16:14:54.588Z"
   },
   {
    "duration": 421,
    "start_time": "2022-06-04T16:15:18.172Z"
   },
   {
    "duration": 397,
    "start_time": "2022-06-04T16:18:46.120Z"
   },
   {
    "duration": 34,
    "start_time": "2022-06-04T16:19:49.334Z"
   },
   {
    "duration": 254,
    "start_time": "2022-06-04T16:20:41.230Z"
   },
   {
    "duration": 43,
    "start_time": "2022-06-04T16:41:00.018Z"
   },
   {
    "duration": 28,
    "start_time": "2022-06-04T16:41:05.542Z"
   },
   {
    "duration": 10,
    "start_time": "2022-06-04T16:42:52.203Z"
   },
   {
    "duration": 18,
    "start_time": "2022-06-04T16:43:14.210Z"
   },
   {
    "duration": 14,
    "start_time": "2022-06-04T16:43:24.544Z"
   },
   {
    "duration": 40,
    "start_time": "2022-06-04T16:44:58.117Z"
   },
   {
    "duration": 52,
    "start_time": "2022-06-04T16:45:25.494Z"
   },
   {
    "duration": 61,
    "start_time": "2022-06-04T16:51:15.451Z"
   },
   {
    "duration": 31,
    "start_time": "2022-06-04T16:51:36.957Z"
   },
   {
    "duration": 29,
    "start_time": "2022-06-04T17:02:37.788Z"
   },
   {
    "duration": 29,
    "start_time": "2022-06-04T17:08:33.603Z"
   },
   {
    "duration": 471,
    "start_time": "2022-06-04T17:08:46.596Z"
   },
   {
    "duration": 26,
    "start_time": "2022-06-04T17:09:15.899Z"
   },
   {
    "duration": 12,
    "start_time": "2022-06-04T17:09:42.600Z"
   },
   {
    "duration": 11,
    "start_time": "2022-06-04T17:10:30.051Z"
   },
   {
    "duration": 11,
    "start_time": "2022-06-04T17:10:41.695Z"
   },
   {
    "duration": 15,
    "start_time": "2022-06-04T17:13:31.654Z"
   },
   {
    "duration": 13,
    "start_time": "2022-06-04T17:13:45.930Z"
   },
   {
    "duration": 27,
    "start_time": "2022-06-04T17:14:31.542Z"
   },
   {
    "duration": 8,
    "start_time": "2022-06-04T17:15:02.095Z"
   },
   {
    "duration": 10,
    "start_time": "2022-06-04T17:15:24.136Z"
   },
   {
    "duration": 9,
    "start_time": "2022-06-04T17:16:17.644Z"
   },
   {
    "duration": 122,
    "start_time": "2022-06-04T17:16:25.335Z"
   },
   {
    "duration": 112,
    "start_time": "2022-06-04T17:16:41.386Z"
   },
   {
    "duration": 7,
    "start_time": "2022-06-04T17:16:44.505Z"
   },
   {
    "duration": 9,
    "start_time": "2022-06-04T17:16:45.128Z"
   },
   {
    "duration": 5,
    "start_time": "2022-06-04T17:16:52.505Z"
   },
   {
    "duration": 32,
    "start_time": "2022-06-04T17:18:55.954Z"
   },
   {
    "duration": 32,
    "start_time": "2022-06-04T17:19:18.093Z"
   },
   {
    "duration": 19,
    "start_time": "2022-06-04T17:19:56.094Z"
   },
   {
    "duration": 16,
    "start_time": "2022-06-04T17:21:19.849Z"
   },
   {
    "duration": 15,
    "start_time": "2022-06-04T17:21:37.894Z"
   },
   {
    "duration": 15,
    "start_time": "2022-06-04T17:22:12.933Z"
   },
   {
    "duration": 30,
    "start_time": "2022-06-04T17:22:48.834Z"
   },
   {
    "duration": 11,
    "start_time": "2022-06-04T17:22:57.155Z"
   },
   {
    "duration": 13,
    "start_time": "2022-06-04T17:23:34.295Z"
   },
   {
    "duration": 51,
    "start_time": "2022-06-04T17:25:30.088Z"
   },
   {
    "duration": 23,
    "start_time": "2022-06-04T17:26:38.801Z"
   },
   {
    "duration": 492,
    "start_time": "2022-06-04T17:27:17.026Z"
   },
   {
    "duration": 390,
    "start_time": "2022-06-04T17:39:56.556Z"
   },
   {
    "duration": 14,
    "start_time": "2022-06-04T17:40:11.299Z"
   },
   {
    "duration": 412,
    "start_time": "2022-06-04T17:40:53.579Z"
   },
   {
    "duration": 68,
    "start_time": "2022-06-04T17:41:06.767Z"
   },
   {
    "duration": 519,
    "start_time": "2022-06-04T17:42:46.800Z"
   },
   {
    "duration": 16,
    "start_time": "2022-06-04T17:43:38.445Z"
   },
   {
    "duration": 25,
    "start_time": "2022-06-04T17:44:05.211Z"
   },
   {
    "duration": 26,
    "start_time": "2022-06-04T17:50:41.315Z"
   },
   {
    "duration": 36,
    "start_time": "2022-06-04T17:51:26.359Z"
   },
   {
    "duration": 39,
    "start_time": "2022-06-04T17:51:44.136Z"
   },
   {
    "duration": 18,
    "start_time": "2022-06-04T17:51:50.606Z"
   },
   {
    "duration": 103,
    "start_time": "2022-06-04T17:53:54.248Z"
   },
   {
    "duration": 6,
    "start_time": "2022-06-04T17:54:04.430Z"
   },
   {
    "duration": 6,
    "start_time": "2022-06-04T17:55:37.552Z"
   },
   {
    "duration": 781,
    "start_time": "2022-06-04T17:57:14.814Z"
   },
   {
    "duration": 39,
    "start_time": "2022-06-04T18:04:27.597Z"
   },
   {
    "duration": 8,
    "start_time": "2022-06-04T18:06:04.017Z"
   },
   {
    "duration": 7,
    "start_time": "2022-06-04T18:15:12.062Z"
   },
   {
    "duration": 33,
    "start_time": "2022-06-04T18:16:10.434Z"
   },
   {
    "duration": 33,
    "start_time": "2022-06-04T18:16:22.550Z"
   },
   {
    "duration": 6,
    "start_time": "2022-06-04T18:57:31.003Z"
   },
   {
    "duration": 6,
    "start_time": "2022-06-04T18:57:37.240Z"
   },
   {
    "duration": 13,
    "start_time": "2022-06-04T18:58:28.943Z"
   },
   {
    "duration": 12,
    "start_time": "2022-06-04T18:59:28.476Z"
   },
   {
    "duration": 13,
    "start_time": "2022-06-04T19:00:32.051Z"
   },
   {
    "duration": 35,
    "start_time": "2022-06-04T19:01:14.286Z"
   },
   {
    "duration": 34,
    "start_time": "2022-06-04T19:01:31.208Z"
   },
   {
    "duration": 19,
    "start_time": "2022-06-04T19:01:47.385Z"
   },
   {
    "duration": 14,
    "start_time": "2022-06-04T19:04:25.634Z"
   },
   {
    "duration": 8,
    "start_time": "2022-06-04T19:04:34.693Z"
   },
   {
    "duration": 11,
    "start_time": "2022-06-04T19:10:19.439Z"
   },
   {
    "duration": 30,
    "start_time": "2022-06-04T19:10:38.950Z"
   },
   {
    "duration": 1304,
    "start_time": "2022-06-04T19:26:11.893Z"
   },
   {
    "duration": 444,
    "start_time": "2022-06-04T19:26:15.793Z"
   },
   {
    "duration": 4,
    "start_time": "2022-06-04T19:26:16.239Z"
   },
   {
    "duration": 55,
    "start_time": "2022-06-04T19:26:16.244Z"
   },
   {
    "duration": 20,
    "start_time": "2022-06-04T19:26:16.401Z"
   },
   {
    "duration": 6,
    "start_time": "2022-06-04T19:26:16.616Z"
   },
   {
    "duration": 78,
    "start_time": "2022-06-04T19:26:16.788Z"
   },
   {
    "duration": 7,
    "start_time": "2022-06-04T19:26:17.265Z"
   },
   {
    "duration": 33,
    "start_time": "2022-06-04T19:26:17.593Z"
   },
   {
    "duration": 17,
    "start_time": "2022-06-04T19:26:17.938Z"
   },
   {
    "duration": 9,
    "start_time": "2022-06-04T19:26:18.442Z"
   },
   {
    "duration": 19,
    "start_time": "2022-06-04T19:26:18.828Z"
   },
   {
    "duration": 26,
    "start_time": "2022-06-04T19:26:19.208Z"
   },
   {
    "duration": 12,
    "start_time": "2022-06-04T19:26:19.411Z"
   },
   {
    "duration": 14,
    "start_time": "2022-06-04T19:26:19.644Z"
   },
   {
    "duration": 33,
    "start_time": "2022-06-04T19:26:19.843Z"
   },
   {
    "duration": 8,
    "start_time": "2022-06-04T19:26:20.213Z"
   },
   {
    "duration": 36,
    "start_time": "2022-06-04T19:26:20.399Z"
   },
   {
    "duration": 4,
    "start_time": "2022-06-04T19:26:21.013Z"
   },
   {
    "duration": 5,
    "start_time": "2022-06-04T19:26:21.437Z"
   },
   {
    "duration": 2026,
    "start_time": "2022-06-04T19:26:22.025Z"
   },
   {
    "duration": 3,
    "start_time": "2022-06-04T19:26:24.053Z"
   },
   {
    "duration": 4032,
    "start_time": "2022-06-04T19:26:24.058Z"
   },
   {
    "duration": 979,
    "start_time": "2022-06-04T19:26:28.092Z"
   },
   {
    "duration": 1959,
    "start_time": "2022-06-04T19:26:29.073Z"
   },
   {
    "duration": 2037,
    "start_time": "2022-06-04T19:26:31.034Z"
   },
   {
    "duration": 12,
    "start_time": "2022-06-04T19:26:33.073Z"
   },
   {
    "duration": 18,
    "start_time": "2022-06-04T19:26:33.087Z"
   },
   {
    "duration": 80,
    "start_time": "2022-06-04T19:26:33.108Z"
   },
   {
    "duration": 4,
    "start_time": "2022-06-04T19:26:39.210Z"
   },
   {
    "duration": 58,
    "start_time": "2022-06-04T19:26:55.642Z"
   },
   {
    "duration": 99,
    "start_time": "2022-06-04T19:26:56.385Z"
   },
   {
    "duration": 14,
    "start_time": "2022-06-04T19:26:57.075Z"
   },
   {
    "duration": 20,
    "start_time": "2022-06-04T19:27:01.715Z"
   },
   {
    "duration": 3,
    "start_time": "2022-06-04T19:27:02.733Z"
   },
   {
    "duration": 150,
    "start_time": "2022-06-04T19:27:03.973Z"
   },
   {
    "duration": 1096,
    "start_time": "2022-06-04T19:28:53.776Z"
   },
   {
    "duration": 210,
    "start_time": "2022-06-04T19:28:58.546Z"
   },
   {
    "duration": 2,
    "start_time": "2022-06-04T19:29:01.414Z"
   },
   {
    "duration": 41,
    "start_time": "2022-06-04T19:29:02.247Z"
   },
   {
    "duration": 16,
    "start_time": "2022-06-04T19:29:02.905Z"
   },
   {
    "duration": 7,
    "start_time": "2022-06-04T19:29:03.278Z"
   },
   {
    "duration": 87,
    "start_time": "2022-06-04T19:29:03.748Z"
   },
   {
    "duration": 6,
    "start_time": "2022-06-04T19:29:04.644Z"
   },
   {
    "duration": 32,
    "start_time": "2022-06-04T19:29:05.199Z"
   },
   {
    "duration": 19,
    "start_time": "2022-06-04T19:29:05.777Z"
   },
   {
    "duration": 9,
    "start_time": "2022-06-04T19:29:06.577Z"
   },
   {
    "duration": 20,
    "start_time": "2022-06-04T19:29:07.113Z"
   },
   {
    "duration": 25,
    "start_time": "2022-06-04T19:29:07.731Z"
   },
   {
    "duration": 11,
    "start_time": "2022-06-04T19:29:08.032Z"
   },
   {
    "duration": 19,
    "start_time": "2022-06-04T19:29:08.276Z"
   },
   {
    "duration": 43,
    "start_time": "2022-06-04T19:29:08.577Z"
   },
   {
    "duration": 8,
    "start_time": "2022-06-04T19:29:09.207Z"
   },
   {
    "duration": 34,
    "start_time": "2022-06-04T19:29:09.477Z"
   },
   {
    "duration": 5,
    "start_time": "2022-06-04T19:29:10.176Z"
   },
   {
    "duration": 6,
    "start_time": "2022-06-04T19:29:10.648Z"
   },
   {
    "duration": 2139,
    "start_time": "2022-06-04T19:29:11.512Z"
   },
   {
    "duration": 4,
    "start_time": "2022-06-04T19:29:13.784Z"
   },
   {
    "duration": 3983,
    "start_time": "2022-06-04T19:29:14.930Z"
   },
   {
    "duration": 933,
    "start_time": "2022-06-04T19:29:18.915Z"
   },
   {
    "duration": 1895,
    "start_time": "2022-06-04T19:29:19.850Z"
   },
   {
    "duration": 2039,
    "start_time": "2022-06-04T19:29:21.747Z"
   },
   {
    "duration": 17,
    "start_time": "2022-06-04T19:29:23.787Z"
   },
   {
    "duration": 41,
    "start_time": "2022-06-04T19:29:23.807Z"
   },
   {
    "duration": 77,
    "start_time": "2022-06-04T19:29:23.850Z"
   },
   {
    "duration": 4,
    "start_time": "2022-06-04T19:29:25.483Z"
   },
   {
    "duration": 66,
    "start_time": "2022-06-04T19:29:30.646Z"
   },
   {
    "duration": 53,
    "start_time": "2022-06-04T19:29:32.253Z"
   },
   {
    "duration": 69,
    "start_time": "2022-06-04T19:29:41.448Z"
   },
   {
    "duration": 20,
    "start_time": "2022-06-04T19:29:44.016Z"
   },
   {
    "duration": 146,
    "start_time": "2022-06-04T19:30:51.784Z"
   },
   {
    "duration": 36,
    "start_time": "2022-06-04T19:34:43.514Z"
   },
   {
    "duration": 48,
    "start_time": "2022-06-04T19:34:50.725Z"
   },
   {
    "duration": 3,
    "start_time": "2022-06-04T19:34:59.522Z"
   },
   {
    "duration": 48,
    "start_time": "2022-06-04T19:35:02.483Z"
   },
   {
    "duration": 42,
    "start_time": "2022-06-04T19:35:33.633Z"
   },
   {
    "duration": 31,
    "start_time": "2022-06-04T19:36:44.357Z"
   },
   {
    "duration": 18,
    "start_time": "2022-06-04T19:38:40.730Z"
   },
   {
    "duration": 29,
    "start_time": "2022-06-04T19:39:00.960Z"
   },
   {
    "duration": 54,
    "start_time": "2022-06-04T19:39:14.205Z"
   },
   {
    "duration": 26,
    "start_time": "2022-06-04T19:40:17.592Z"
   },
   {
    "duration": 41,
    "start_time": "2022-06-04T19:40:32.659Z"
   },
   {
    "duration": 109,
    "start_time": "2022-06-04T19:41:05.143Z"
   },
   {
    "duration": 82,
    "start_time": "2022-06-04T19:41:47.493Z"
   },
   {
    "duration": 39,
    "start_time": "2022-06-04T19:41:48.553Z"
   },
   {
    "duration": 74,
    "start_time": "2022-06-04T19:41:50.602Z"
   },
   {
    "duration": 36,
    "start_time": "2022-06-04T19:42:27.212Z"
   },
   {
    "duration": 39,
    "start_time": "2022-06-04T19:42:27.889Z"
   },
   {
    "duration": 21,
    "start_time": "2022-06-04T19:42:28.493Z"
   },
   {
    "duration": 31,
    "start_time": "2022-06-04T19:42:29.789Z"
   },
   {
    "duration": 16,
    "start_time": "2022-06-04T19:42:34.162Z"
   },
   {
    "duration": 39,
    "start_time": "2022-06-04T19:42:35.120Z"
   },
   {
    "duration": 19,
    "start_time": "2022-06-04T19:43:00.692Z"
   },
   {
    "duration": 29,
    "start_time": "2022-06-04T19:43:01.293Z"
   },
   {
    "duration": 58,
    "start_time": "2022-06-04T19:43:02.019Z"
   },
   {
    "duration": 10,
    "start_time": "2022-06-04T19:43:03.248Z"
   },
   {
    "duration": 17,
    "start_time": "2022-06-04T19:43:04.143Z"
   },
   {
    "duration": 226,
    "start_time": "2022-06-04T19:43:04.897Z"
   },
   {
    "duration": 20,
    "start_time": "2022-06-04T19:43:05.796Z"
   },
   {
    "duration": 34,
    "start_time": "2022-06-04T19:43:28.190Z"
   },
   {
    "duration": 28,
    "start_time": "2022-06-04T19:43:36.185Z"
   },
   {
    "duration": 12,
    "start_time": "2022-06-04T19:43:56.139Z"
   },
   {
    "duration": 32,
    "start_time": "2022-06-04T19:44:29.504Z"
   },
   {
    "duration": 6,
    "start_time": "2022-06-04T19:45:06.044Z"
   },
   {
    "duration": 8,
    "start_time": "2022-06-04T19:45:18.154Z"
   },
   {
    "duration": 28,
    "start_time": "2022-06-04T19:45:23.381Z"
   },
   {
    "duration": 21,
    "start_time": "2022-06-04T19:45:30.510Z"
   },
   {
    "duration": 15,
    "start_time": "2022-06-04T19:45:41.433Z"
   },
   {
    "duration": 27,
    "start_time": "2022-06-04T19:46:02.836Z"
   },
   {
    "duration": 37,
    "start_time": "2022-06-04T19:48:36.845Z"
   },
   {
    "duration": 351,
    "start_time": "2022-06-04T19:49:25.348Z"
   },
   {
    "duration": 241,
    "start_time": "2022-06-04T19:49:41.848Z"
   },
   {
    "duration": 314,
    "start_time": "2022-06-04T19:49:49.344Z"
   },
   {
    "duration": 320,
    "start_time": "2022-06-04T19:50:00.750Z"
   },
   {
    "duration": 244,
    "start_time": "2022-06-04T19:50:11.934Z"
   },
   {
    "duration": 350,
    "start_time": "2022-06-04T19:50:33.493Z"
   },
   {
    "duration": 24,
    "start_time": "2022-06-04T19:51:16.212Z"
   },
   {
    "duration": 34,
    "start_time": "2022-06-04T19:51:28.710Z"
   },
   {
    "duration": 351,
    "start_time": "2022-06-04T19:51:40.887Z"
   },
   {
    "duration": 216,
    "start_time": "2022-06-04T19:51:44.221Z"
   },
   {
    "duration": 207,
    "start_time": "2022-06-04T20:00:18.761Z"
   },
   {
    "duration": 19,
    "start_time": "2022-06-04T20:00:19.821Z"
   },
   {
    "duration": 116,
    "start_time": "2022-06-04T20:01:11.306Z"
   },
   {
    "duration": 23,
    "start_time": "2022-06-04T20:01:12.045Z"
   },
   {
    "duration": 28,
    "start_time": "2022-06-04T20:03:34.010Z"
   },
   {
    "duration": 54,
    "start_time": "2022-06-04T20:03:35.714Z"
   },
   {
    "duration": 19,
    "start_time": "2022-06-04T20:04:09.472Z"
   },
   {
    "duration": 12,
    "start_time": "2022-06-04T20:04:20.838Z"
   },
   {
    "duration": 30,
    "start_time": "2022-06-04T20:04:58.397Z"
   },
   {
    "duration": 344,
    "start_time": "2022-06-04T20:05:00.660Z"
   },
   {
    "duration": 1963,
    "start_time": "2022-06-04T20:08:48.793Z"
   },
   {
    "duration": 366,
    "start_time": "2022-06-04T20:08:51.387Z"
   },
   {
    "duration": 4,
    "start_time": "2022-06-04T20:08:51.755Z"
   },
   {
    "duration": 96,
    "start_time": "2022-06-04T20:08:51.761Z"
   },
   {
    "duration": 75,
    "start_time": "2022-06-04T20:08:51.859Z"
   },
   {
    "duration": 8,
    "start_time": "2022-06-04T20:08:52.936Z"
   },
   {
    "duration": 174,
    "start_time": "2022-06-04T20:08:54.376Z"
   },
   {
    "duration": 7,
    "start_time": "2022-06-04T20:08:54.552Z"
   },
   {
    "duration": 100,
    "start_time": "2022-06-04T20:08:54.560Z"
   },
   {
    "duration": 27,
    "start_time": "2022-06-04T20:09:04.339Z"
   },
   {
    "duration": 11,
    "start_time": "2022-06-04T20:09:04.368Z"
   },
   {
    "duration": 79,
    "start_time": "2022-06-04T20:09:04.380Z"
   },
   {
    "duration": 94,
    "start_time": "2022-06-04T20:09:04.461Z"
   },
   {
    "duration": 73,
    "start_time": "2022-06-04T20:09:04.559Z"
   },
   {
    "duration": 17,
    "start_time": "2022-06-04T20:09:04.635Z"
   },
   {
    "duration": 86,
    "start_time": "2022-06-04T20:09:04.654Z"
   },
   {
    "duration": 10,
    "start_time": "2022-06-04T20:09:04.743Z"
   },
   {
    "duration": 87,
    "start_time": "2022-06-04T20:09:04.754Z"
   },
   {
    "duration": 6,
    "start_time": "2022-06-04T20:09:13.293Z"
   },
   {
    "duration": 5,
    "start_time": "2022-06-04T20:09:14.251Z"
   },
   {
    "duration": 2185,
    "start_time": "2022-06-04T20:10:00.017Z"
   },
   {
    "duration": 3,
    "start_time": "2022-06-04T20:10:02.206Z"
   },
   {
    "duration": 4076,
    "start_time": "2022-06-04T20:10:02.356Z"
   },
   {
    "duration": 1143,
    "start_time": "2022-06-04T20:10:06.435Z"
   },
   {
    "duration": 1982,
    "start_time": "2022-06-04T20:10:07.580Z"
   },
   {
    "duration": 2073,
    "start_time": "2022-06-04T20:10:09.564Z"
   },
   {
    "duration": 20,
    "start_time": "2022-06-04T20:10:11.638Z"
   },
   {
    "duration": 41,
    "start_time": "2022-06-04T20:10:11.660Z"
   },
   {
    "duration": 63,
    "start_time": "2022-06-04T20:10:11.703Z"
   },
   {
    "duration": 4,
    "start_time": "2022-06-04T20:10:11.768Z"
   },
   {
    "duration": 85,
    "start_time": "2022-06-04T20:10:11.774Z"
   },
   {
    "duration": 51,
    "start_time": "2022-06-04T20:10:12.205Z"
   },
   {
    "duration": 69,
    "start_time": "2022-06-04T20:10:12.967Z"
   },
   {
    "duration": 3,
    "start_time": "2022-06-04T20:12:34.513Z"
   },
   {
    "duration": 1676,
    "start_time": "2022-06-04T20:12:37.912Z"
   },
   {
    "duration": 3,
    "start_time": "2022-06-04T20:13:03.205Z"
   },
   {
    "duration": 1780,
    "start_time": "2022-06-04T20:13:03.903Z"
   },
   {
    "duration": 4,
    "start_time": "2022-06-04T20:13:17.846Z"
   },
   {
    "duration": 1801,
    "start_time": "2022-06-04T20:13:18.492Z"
   },
   {
    "duration": 4,
    "start_time": "2022-06-04T20:13:56.104Z"
   },
   {
    "duration": 3831,
    "start_time": "2022-06-04T20:13:57.203Z"
   },
   {
    "duration": 1222,
    "start_time": "2022-06-04T20:14:06.643Z"
   },
   {
    "duration": 2064,
    "start_time": "2022-06-04T20:14:11.728Z"
   },
   {
    "duration": 13,
    "start_time": "2022-06-04T20:14:18.314Z"
   },
   {
    "duration": 15,
    "start_time": "2022-06-04T20:14:19.444Z"
   },
   {
    "duration": 49,
    "start_time": "2022-06-04T20:14:20.728Z"
   },
   {
    "duration": 4,
    "start_time": "2022-06-04T20:15:19.324Z"
   },
   {
    "duration": 71,
    "start_time": "2022-06-04T20:15:19.957Z"
   },
   {
    "duration": 70,
    "start_time": "2022-06-04T20:15:23.553Z"
   },
   {
    "duration": 91,
    "start_time": "2022-06-04T20:15:24.113Z"
   },
   {
    "duration": 64,
    "start_time": "2022-06-04T20:15:30.918Z"
   },
   {
    "duration": 28,
    "start_time": "2022-06-04T20:15:39.358Z"
   },
   {
    "duration": 90,
    "start_time": "2022-06-04T20:15:44.557Z"
   },
   {
    "duration": 29,
    "start_time": "2022-06-04T20:15:51.109Z"
   },
   {
    "duration": 69,
    "start_time": "2022-06-04T20:15:52.647Z"
   },
   {
    "duration": 42,
    "start_time": "2022-06-04T20:16:01.215Z"
   },
   {
    "duration": 46,
    "start_time": "2022-06-04T20:16:04.648Z"
   },
   {
    "duration": 21,
    "start_time": "2022-06-04T20:16:05.511Z"
   },
   {
    "duration": 31,
    "start_time": "2022-06-04T20:16:13.533Z"
   },
   {
    "duration": 13,
    "start_time": "2022-06-04T20:16:14.118Z"
   },
   {
    "duration": 27,
    "start_time": "2022-06-04T20:16:14.648Z"
   },
   {
    "duration": 20,
    "start_time": "2022-06-04T20:16:17.448Z"
   },
   {
    "duration": 20,
    "start_time": "2022-06-04T20:16:18.215Z"
   },
   {
    "duration": 59,
    "start_time": "2022-06-04T20:16:35.247Z"
   },
   {
    "duration": 9,
    "start_time": "2022-06-04T20:16:36.747Z"
   },
   {
    "duration": 16,
    "start_time": "2022-06-04T20:16:37.457Z"
   },
   {
    "duration": 209,
    "start_time": "2022-06-04T20:16:38.121Z"
   },
   {
    "duration": 103,
    "start_time": "2022-06-04T20:16:44.006Z"
   },
   {
    "duration": 28,
    "start_time": "2022-06-04T20:16:46.324Z"
   },
   {
    "duration": 31,
    "start_time": "2022-06-04T20:16:47.526Z"
   },
   {
    "duration": 21,
    "start_time": "2022-06-04T20:17:45.000Z"
   },
   {
    "duration": 13,
    "start_time": "2022-06-04T20:17:45.884Z"
   },
   {
    "duration": 33,
    "start_time": "2022-06-04T20:19:02.700Z"
   },
   {
    "duration": 7,
    "start_time": "2022-06-04T20:19:14.492Z"
   },
   {
    "duration": 9,
    "start_time": "2022-06-04T20:19:17.862Z"
   },
   {
    "duration": 29,
    "start_time": "2022-06-04T20:19:18.589Z"
   },
   {
    "duration": 19,
    "start_time": "2022-06-04T20:19:20.796Z"
   },
   {
    "duration": 22,
    "start_time": "2022-06-04T20:19:21.393Z"
   },
   {
    "duration": 24,
    "start_time": "2022-06-04T20:19:27.592Z"
   },
   {
    "duration": 335,
    "start_time": "2022-06-04T20:20:31.201Z"
   },
   {
    "duration": 386,
    "start_time": "2022-06-04T20:20:33.343Z"
   },
   {
    "duration": 29,
    "start_time": "2022-06-04T20:20:40.001Z"
   },
   {
    "duration": 23,
    "start_time": "2022-06-04T20:21:36.793Z"
   },
   {
    "duration": 25,
    "start_time": "2022-06-04T20:21:56.728Z"
   },
   {
    "duration": 25,
    "start_time": "2022-06-04T20:22:54.192Z"
   },
   {
    "duration": 156,
    "start_time": "2022-06-04T20:25:04.419Z"
   },
   {
    "duration": 17,
    "start_time": "2022-06-04T20:26:25.190Z"
   },
   {
    "duration": 25,
    "start_time": "2022-06-04T20:27:06.444Z"
   },
   {
    "duration": 14,
    "start_time": "2022-06-04T20:27:46.508Z"
   },
   {
    "duration": 11,
    "start_time": "2022-06-04T20:28:43.902Z"
   },
   {
    "duration": 27,
    "start_time": "2022-06-04T20:28:58.588Z"
   },
   {
    "duration": 9,
    "start_time": "2022-06-04T20:30:58.761Z"
   },
   {
    "duration": 17,
    "start_time": "2022-06-04T20:30:59.656Z"
   },
   {
    "duration": 1562,
    "start_time": "2022-06-05T07:48:30.290Z"
   },
   {
    "duration": 620,
    "start_time": "2022-06-05T07:48:31.855Z"
   },
   {
    "duration": 3,
    "start_time": "2022-06-05T07:48:32.476Z"
   },
   {
    "duration": 41,
    "start_time": "2022-06-05T07:48:32.481Z"
   },
   {
    "duration": 16,
    "start_time": "2022-06-05T07:48:32.524Z"
   },
   {
    "duration": 7,
    "start_time": "2022-06-05T07:48:32.542Z"
   },
   {
    "duration": 143,
    "start_time": "2022-06-05T07:48:32.551Z"
   },
   {
    "duration": 7,
    "start_time": "2022-06-05T07:48:32.907Z"
   },
   {
    "duration": 39,
    "start_time": "2022-06-05T07:48:33.199Z"
   },
   {
    "duration": 19,
    "start_time": "2022-06-05T07:48:33.549Z"
   },
   {
    "duration": 22,
    "start_time": "2022-06-05T07:48:34.377Z"
   },
   {
    "duration": 25,
    "start_time": "2022-06-05T07:48:35.092Z"
   },
   {
    "duration": 31,
    "start_time": "2022-06-05T07:48:35.807Z"
   },
   {
    "duration": 13,
    "start_time": "2022-06-05T07:48:36.178Z"
   },
   {
    "duration": 18,
    "start_time": "2022-06-05T07:48:36.553Z"
   },
   {
    "duration": 41,
    "start_time": "2022-06-05T07:48:36.919Z"
   },
   {
    "duration": 10,
    "start_time": "2022-06-05T07:48:37.705Z"
   },
   {
    "duration": 43,
    "start_time": "2022-06-05T07:48:38.089Z"
   },
   {
    "duration": 6,
    "start_time": "2022-06-05T07:48:39.082Z"
   },
   {
    "duration": 5,
    "start_time": "2022-06-05T07:48:39.730Z"
   },
   {
    "duration": 3,
    "start_time": "2022-06-05T07:48:40.780Z"
   },
   {
    "duration": 2420,
    "start_time": "2022-06-05T07:48:41.132Z"
   },
   {
    "duration": 4,
    "start_time": "2022-06-05T07:48:43.555Z"
   },
   {
    "duration": 4962,
    "start_time": "2022-06-05T07:48:43.560Z"
   },
   {
    "duration": 1200,
    "start_time": "2022-06-05T07:48:48.525Z"
   },
   {
    "duration": 220,
    "start_time": "2022-06-05T07:48:49.727Z"
   },
   {
    "duration": 0,
    "start_time": "2022-06-05T07:48:49.949Z"
   },
   {
    "duration": 0,
    "start_time": "2022-06-05T07:48:49.950Z"
   },
   {
    "duration": 0,
    "start_time": "2022-06-05T07:48:49.952Z"
   },
   {
    "duration": 0,
    "start_time": "2022-06-05T07:48:49.953Z"
   },
   {
    "duration": 0,
    "start_time": "2022-06-05T07:48:49.955Z"
   },
   {
    "duration": 4,
    "start_time": "2022-06-05T07:49:43.482Z"
   },
   {
    "duration": 87,
    "start_time": "2022-06-05T07:49:44.413Z"
   },
   {
    "duration": 2327,
    "start_time": "2022-06-05T07:50:09.419Z"
   },
   {
    "duration": 2464,
    "start_time": "2022-06-05T07:50:14.989Z"
   },
   {
    "duration": 15,
    "start_time": "2022-06-05T07:51:00.820Z"
   },
   {
    "duration": 4,
    "start_time": "2022-06-05T07:52:46.783Z"
   },
   {
    "duration": 1988,
    "start_time": "2022-06-05T07:52:51.738Z"
   },
   {
    "duration": 6011,
    "start_time": "2022-06-05T07:57:58.185Z"
   },
   {
    "duration": 1236,
    "start_time": "2022-06-05T08:09:14.928Z"
   },
   {
    "duration": 34,
    "start_time": "2022-06-05T08:09:37.812Z"
   },
   {
    "duration": 2400,
    "start_time": "2022-06-05T08:10:08.620Z"
   },
   {
    "duration": 15,
    "start_time": "2022-06-05T08:18:01.543Z"
   },
   {
    "duration": 17,
    "start_time": "2022-06-05T08:18:02.978Z"
   },
   {
    "duration": 173,
    "start_time": "2022-06-05T08:18:09.311Z"
   },
   {
    "duration": 4,
    "start_time": "2022-06-05T08:18:37.079Z"
   },
   {
    "duration": 68,
    "start_time": "2022-06-05T08:18:45.273Z"
   },
   {
    "duration": 65,
    "start_time": "2022-06-05T08:20:49.323Z"
   },
   {
    "duration": 79,
    "start_time": "2022-06-05T08:26:02.438Z"
   },
   {
    "duration": 22,
    "start_time": "2022-06-05T08:27:35.241Z"
   },
   {
    "duration": 103,
    "start_time": "2022-06-05T08:28:22.583Z"
   },
   {
    "duration": 27,
    "start_time": "2022-06-05T08:44:32.111Z"
   },
   {
    "duration": 68,
    "start_time": "2022-06-05T08:45:07.485Z"
   },
   {
    "duration": 71,
    "start_time": "2022-06-05T08:45:17.054Z"
   },
   {
    "duration": 11,
    "start_time": "2022-06-05T08:45:24.240Z"
   },
   {
    "duration": 53,
    "start_time": "2022-06-05T08:45:41.306Z"
   },
   {
    "duration": 113,
    "start_time": "2022-06-05T08:45:44.040Z"
   },
   {
    "duration": 42,
    "start_time": "2022-06-05T08:53:13.340Z"
   },
   {
    "duration": 96,
    "start_time": "2022-06-05T09:07:21.112Z"
   },
   {
    "duration": 17,
    "start_time": "2022-06-05T09:09:34.937Z"
   },
   {
    "duration": 39,
    "start_time": "2022-06-05T09:10:42.791Z"
   },
   {
    "duration": 20,
    "start_time": "2022-06-05T09:12:23.440Z"
   },
   {
    "duration": 43,
    "start_time": "2022-06-05T09:12:34.900Z"
   },
   {
    "duration": 11,
    "start_time": "2022-06-05T09:13:14.128Z"
   },
   {
    "duration": 17,
    "start_time": "2022-06-05T09:13:21.200Z"
   },
   {
    "duration": 34,
    "start_time": "2022-06-05T09:13:28.796Z"
   },
   {
    "duration": 18,
    "start_time": "2022-06-05T09:14:09.699Z"
   },
   {
    "duration": 25,
    "start_time": "2022-06-05T09:14:18.502Z"
   },
   {
    "duration": 28,
    "start_time": "2022-06-05T09:14:42.188Z"
   },
   {
    "duration": 24,
    "start_time": "2022-06-05T09:14:49.322Z"
   },
   {
    "duration": 32,
    "start_time": "2022-06-05T09:15:02.904Z"
   },
   {
    "duration": 36,
    "start_time": "2022-06-05T09:15:51.798Z"
   },
   {
    "duration": 489,
    "start_time": "2022-06-05T09:21:02.929Z"
   },
   {
    "duration": 22,
    "start_time": "2022-06-05T09:21:05.537Z"
   },
   {
    "duration": 29,
    "start_time": "2022-06-05T09:21:06.162Z"
   },
   {
    "duration": 67,
    "start_time": "2022-06-05T09:23:05.914Z"
   },
   {
    "duration": 277,
    "start_time": "2022-06-05T09:27:26.737Z"
   },
   {
    "duration": 16,
    "start_time": "2022-06-05T09:28:00.524Z"
   },
   {
    "duration": 33,
    "start_time": "2022-06-05T09:28:06.777Z"
   },
   {
    "duration": 259,
    "start_time": "2022-06-05T09:28:31.208Z"
   },
   {
    "duration": 367,
    "start_time": "2022-06-05T09:29:18.989Z"
   },
   {
    "duration": 311,
    "start_time": "2022-06-05T09:29:30.716Z"
   },
   {
    "duration": 104,
    "start_time": "2022-06-05T09:29:44.712Z"
   },
   {
    "duration": 325,
    "start_time": "2022-06-05T09:29:49.685Z"
   },
   {
    "duration": 298,
    "start_time": "2022-06-05T09:29:55.630Z"
   },
   {
    "duration": 333,
    "start_time": "2022-06-05T09:30:14.255Z"
   },
   {
    "duration": 20,
    "start_time": "2022-06-05T09:30:53.859Z"
   },
   {
    "duration": 27,
    "start_time": "2022-06-05T09:31:00.286Z"
   },
   {
    "duration": 522,
    "start_time": "2022-06-05T09:31:34.536Z"
   },
   {
    "duration": 468,
    "start_time": "2022-06-05T09:31:39.816Z"
   },
   {
    "duration": 25,
    "start_time": "2022-06-05T09:31:48.961Z"
   },
   {
    "duration": 591,
    "start_time": "2022-06-05T09:32:05.230Z"
   },
   {
    "duration": 479,
    "start_time": "2022-06-05T09:32:10.909Z"
   },
   {
    "duration": 512,
    "start_time": "2022-06-05T09:32:22.624Z"
   },
   {
    "duration": 400,
    "start_time": "2022-06-05T09:32:28.329Z"
   },
   {
    "duration": 56,
    "start_time": "2022-06-05T09:32:46.388Z"
   },
   {
    "duration": 29,
    "start_time": "2022-06-05T09:32:54.577Z"
   },
   {
    "duration": 23,
    "start_time": "2022-06-05T09:33:15.037Z"
   },
   {
    "duration": 1509,
    "start_time": "2022-06-05T14:49:53.295Z"
   },
   {
    "duration": 327,
    "start_time": "2022-06-05T14:50:22.699Z"
   },
   {
    "duration": 3,
    "start_time": "2022-06-05T14:50:23.850Z"
   },
   {
    "duration": 30,
    "start_time": "2022-06-05T14:50:24.292Z"
   },
   {
    "duration": 23,
    "start_time": "2022-06-05T14:50:24.735Z"
   },
   {
    "duration": 8,
    "start_time": "2022-06-05T14:50:25.197Z"
   },
   {
    "duration": 99,
    "start_time": "2022-06-05T14:50:25.598Z"
   },
   {
    "duration": 6,
    "start_time": "2022-06-05T14:50:26.895Z"
   },
   {
    "duration": 46,
    "start_time": "2022-06-05T14:50:27.699Z"
   },
   {
    "duration": 28,
    "start_time": "2022-06-05T14:50:28.827Z"
   },
   {
    "duration": 12,
    "start_time": "2022-06-05T14:50:33.509Z"
   },
   {
    "duration": 22,
    "start_time": "2022-06-05T14:50:34.605Z"
   },
   {
    "duration": 26,
    "start_time": "2022-06-05T14:51:10.542Z"
   },
   {
    "duration": 15,
    "start_time": "2022-06-05T14:51:19.210Z"
   },
   {
    "duration": 15,
    "start_time": "2022-06-05T14:51:19.862Z"
   },
   {
    "duration": 44,
    "start_time": "2022-06-05T14:51:20.397Z"
   },
   {
    "duration": 9,
    "start_time": "2022-06-05T14:51:21.654Z"
   },
   {
    "duration": 59,
    "start_time": "2022-06-05T14:51:22.304Z"
   },
   {
    "duration": 9,
    "start_time": "2022-06-05T15:29:56.624Z"
   },
   {
    "duration": 42,
    "start_time": "2022-06-05T15:29:58.556Z"
   },
   {
    "duration": 46,
    "start_time": "2022-06-05T15:30:00.090Z"
   },
   {
    "duration": 12,
    "start_time": "2022-06-05T15:30:01.365Z"
   },
   {
    "duration": 9,
    "start_time": "2022-06-05T15:30:02.769Z"
   },
   {
    "duration": 28,
    "start_time": "2022-06-05T15:30:03.761Z"
   },
   {
    "duration": 13,
    "start_time": "2022-06-05T15:30:15.934Z"
   },
   {
    "duration": 16,
    "start_time": "2022-06-05T15:30:16.528Z"
   },
   {
    "duration": 14,
    "start_time": "2022-06-05T15:31:01.753Z"
   },
   {
    "duration": 34,
    "start_time": "2022-06-05T15:31:02.291Z"
   },
   {
    "duration": 9,
    "start_time": "2022-06-05T15:31:15.111Z"
   },
   {
    "duration": 1387,
    "start_time": "2022-06-05T15:41:36.080Z"
   },
   {
    "duration": 392,
    "start_time": "2022-06-05T15:41:38.257Z"
   },
   {
    "duration": 3,
    "start_time": "2022-06-05T15:41:38.703Z"
   },
   {
    "duration": 17,
    "start_time": "2022-06-05T15:41:40.953Z"
   },
   {
    "duration": 7,
    "start_time": "2022-06-05T15:41:42.887Z"
   },
   {
    "duration": 85,
    "start_time": "2022-06-05T15:41:43.453Z"
   },
   {
    "duration": 40,
    "start_time": "2022-06-05T15:41:45.359Z"
   },
   {
    "duration": 1318,
    "start_time": "2022-06-05T16:05:00.781Z"
   },
   {
    "duration": 384,
    "start_time": "2022-06-05T16:05:02.686Z"
   },
   {
    "duration": 3,
    "start_time": "2022-06-05T16:05:03.185Z"
   },
   {
    "duration": 17,
    "start_time": "2022-06-05T16:05:03.850Z"
   },
   {
    "duration": 8,
    "start_time": "2022-06-05T16:05:04.597Z"
   },
   {
    "duration": 109,
    "start_time": "2022-06-05T16:05:05.195Z"
   },
   {
    "duration": 28,
    "start_time": "2022-06-05T16:05:05.795Z"
   },
   {
    "duration": 7,
    "start_time": "2022-06-05T16:05:08.300Z"
   },
   {
    "duration": 36,
    "start_time": "2022-06-05T16:05:09.484Z"
   },
   {
    "duration": 24,
    "start_time": "2022-06-05T16:05:10.582Z"
   },
   {
    "duration": 9,
    "start_time": "2022-06-05T16:05:20.084Z"
   },
   {
    "duration": 19,
    "start_time": "2022-06-05T16:05:21.687Z"
   },
   {
    "duration": 49,
    "start_time": "2022-06-05T16:05:22.707Z"
   },
   {
    "duration": 12,
    "start_time": "2022-06-05T16:05:23.184Z"
   },
   {
    "duration": 22,
    "start_time": "2022-06-05T16:05:23.627Z"
   },
   {
    "duration": 37,
    "start_time": "2022-06-05T16:05:24.157Z"
   },
   {
    "duration": 14,
    "start_time": "2022-06-05T16:05:29.156Z"
   },
   {
    "duration": 55,
    "start_time": "2022-06-05T16:05:29.617Z"
   },
   {
    "duration": 4,
    "start_time": "2022-06-05T16:05:32.685Z"
   },
   {
    "duration": 5,
    "start_time": "2022-06-05T16:05:33.608Z"
   },
   {
    "duration": 4,
    "start_time": "2022-06-05T16:05:35.082Z"
   },
   {
    "duration": 2438,
    "start_time": "2022-06-05T16:05:41.721Z"
   },
   {
    "duration": 7,
    "start_time": "2022-06-05T16:05:50.547Z"
   },
   {
    "duration": 4318,
    "start_time": "2022-06-05T16:05:51.419Z"
   },
   {
    "duration": 957,
    "start_time": "2022-06-05T16:05:55.745Z"
   },
   {
    "duration": 2222,
    "start_time": "2022-06-05T16:05:56.704Z"
   },
   {
    "duration": 46,
    "start_time": "2022-06-05T16:05:58.928Z"
   },
   {
    "duration": 19,
    "start_time": "2022-06-05T16:05:58.976Z"
   },
   {
    "duration": 227,
    "start_time": "2022-06-05T16:05:59.847Z"
   },
   {
    "duration": 4,
    "start_time": "2022-06-05T16:06:01.601Z"
   },
   {
    "duration": 87,
    "start_time": "2022-06-05T16:06:02.181Z"
   },
   {
    "duration": 57,
    "start_time": "2022-06-05T16:06:05.354Z"
   },
   {
    "duration": 109,
    "start_time": "2022-06-05T16:06:06.583Z"
   },
   {
    "duration": 21,
    "start_time": "2022-06-05T16:06:08.185Z"
   },
   {
    "duration": 194,
    "start_time": "2022-06-05T16:06:09.294Z"
   },
   {
    "duration": 3,
    "start_time": "2022-06-05T16:06:31.286Z"
   },
   {
    "duration": 1970,
    "start_time": "2022-06-05T16:06:35.200Z"
   },
   {
    "duration": 85,
    "start_time": "2022-06-05T16:06:45.584Z"
   },
   {
    "duration": 38,
    "start_time": "2022-06-05T16:06:51.614Z"
   },
   {
    "duration": 40,
    "start_time": "2022-06-05T16:07:24.151Z"
   },
   {
    "duration": 28,
    "start_time": "2022-06-05T16:11:05.993Z"
   },
   {
    "duration": 21,
    "start_time": "2022-06-05T16:14:29.864Z"
   },
   {
    "duration": 30,
    "start_time": "2022-06-05T16:15:31.780Z"
   },
   {
    "duration": 17,
    "start_time": "2022-06-05T16:19:43.463Z"
   },
   {
    "duration": 28,
    "start_time": "2022-06-05T16:20:02.026Z"
   },
   {
    "duration": 14,
    "start_time": "2022-06-05T16:24:43.042Z"
   },
   {
    "duration": 8,
    "start_time": "2022-06-05T16:25:06.605Z"
   },
   {
    "duration": 9,
    "start_time": "2022-06-05T16:25:12.783Z"
   },
   {
    "duration": 9,
    "start_time": "2022-06-05T16:25:36.679Z"
   },
   {
    "duration": 37,
    "start_time": "2022-06-05T16:29:55.249Z"
   },
   {
    "duration": 45,
    "start_time": "2022-06-05T16:30:33.347Z"
   },
   {
    "duration": 22,
    "start_time": "2022-06-05T16:31:51.085Z"
   },
   {
    "duration": 24,
    "start_time": "2022-06-05T16:32:51.450Z"
   },
   {
    "duration": 13,
    "start_time": "2022-06-05T16:34:02.900Z"
   },
   {
    "duration": 20,
    "start_time": "2022-06-05T16:34:29.050Z"
   },
   {
    "duration": 24,
    "start_time": "2022-06-05T16:34:45.085Z"
   },
   {
    "duration": 25,
    "start_time": "2022-06-05T16:34:59.646Z"
   },
   {
    "duration": 90,
    "start_time": "2022-06-05T16:35:26.579Z"
   },
   {
    "duration": 33,
    "start_time": "2022-06-05T16:36:14.976Z"
   },
   {
    "duration": 44,
    "start_time": "2022-06-05T16:36:41.804Z"
   },
   {
    "duration": 51,
    "start_time": "2022-06-05T16:37:10.606Z"
   },
   {
    "duration": 30,
    "start_time": "2022-06-05T16:37:57.663Z"
   },
   {
    "duration": 38,
    "start_time": "2022-06-05T16:38:15.773Z"
   },
   {
    "duration": 18,
    "start_time": "2022-06-05T16:38:27.060Z"
   },
   {
    "duration": 35,
    "start_time": "2022-06-05T16:42:15.859Z"
   },
   {
    "duration": 30,
    "start_time": "2022-06-05T16:43:34.090Z"
   },
   {
    "duration": 37,
    "start_time": "2022-06-05T16:44:07.854Z"
   },
   {
    "duration": 39,
    "start_time": "2022-06-05T16:45:00.069Z"
   },
   {
    "duration": 41,
    "start_time": "2022-06-05T16:45:32.206Z"
   },
   {
    "duration": 29,
    "start_time": "2022-06-05T16:46:15.366Z"
   },
   {
    "duration": 44,
    "start_time": "2022-06-05T16:46:33.318Z"
   },
   {
    "duration": 62,
    "start_time": "2022-06-05T16:51:18.000Z"
   },
   {
    "duration": 19,
    "start_time": "2022-06-05T16:52:07.359Z"
   },
   {
    "duration": 14,
    "start_time": "2022-06-05T16:52:23.807Z"
   },
   {
    "duration": 24,
    "start_time": "2022-06-05T16:56:41.695Z"
   },
   {
    "duration": 22,
    "start_time": "2022-06-05T16:56:42.487Z"
   },
   {
    "duration": 70,
    "start_time": "2022-06-05T16:56:56.152Z"
   },
   {
    "duration": 19,
    "start_time": "2022-06-05T17:13:09.489Z"
   },
   {
    "duration": 248,
    "start_time": "2022-06-05T17:13:21.910Z"
   },
   {
    "duration": 23,
    "start_time": "2022-06-05T17:13:22.868Z"
   },
   {
    "duration": 36,
    "start_time": "2022-06-05T17:13:40.974Z"
   },
   {
    "duration": 1427,
    "start_time": "2022-06-05T17:14:22.390Z"
   },
   {
    "duration": 526,
    "start_time": "2022-06-05T17:14:23.819Z"
   },
   {
    "duration": 5,
    "start_time": "2022-06-05T17:14:24.357Z"
   },
   {
    "duration": 26,
    "start_time": "2022-06-05T17:14:24.367Z"
   },
   {
    "duration": 8,
    "start_time": "2022-06-05T17:14:24.396Z"
   },
   {
    "duration": 218,
    "start_time": "2022-06-05T17:14:24.405Z"
   },
   {
    "duration": 52,
    "start_time": "2022-06-05T17:14:24.625Z"
   },
   {
    "duration": 7,
    "start_time": "2022-06-05T17:14:25.000Z"
   },
   {
    "duration": 53,
    "start_time": "2022-06-05T17:14:25.354Z"
   },
   {
    "duration": 20,
    "start_time": "2022-06-05T17:14:25.755Z"
   },
   {
    "duration": 9,
    "start_time": "2022-06-05T17:14:26.359Z"
   },
   {
    "duration": 20,
    "start_time": "2022-06-05T17:14:26.797Z"
   },
   {
    "duration": 42,
    "start_time": "2022-06-05T17:14:27.226Z"
   },
   {
    "duration": 15,
    "start_time": "2022-06-05T17:14:27.453Z"
   },
   {
    "duration": 16,
    "start_time": "2022-06-05T17:14:27.862Z"
   },
   {
    "duration": 46,
    "start_time": "2022-06-05T17:14:28.244Z"
   },
   {
    "duration": 23,
    "start_time": "2022-06-05T17:14:28.949Z"
   },
   {
    "duration": 51,
    "start_time": "2022-06-05T17:14:29.354Z"
   },
   {
    "duration": 5,
    "start_time": "2022-06-05T17:14:33.194Z"
   },
   {
    "duration": 6,
    "start_time": "2022-06-05T17:14:34.592Z"
   },
   {
    "duration": 41,
    "start_time": "2022-06-05T17:14:52.266Z"
   },
   {
    "duration": 10,
    "start_time": "2022-06-05T17:14:55.179Z"
   },
   {
    "duration": 16,
    "start_time": "2022-06-05T17:14:57.998Z"
   },
   {
    "duration": 42,
    "start_time": "2022-06-05T17:15:55.872Z"
   },
   {
    "duration": 57,
    "start_time": "2022-06-05T17:17:26.811Z"
   },
   {
    "duration": 42,
    "start_time": "2022-06-05T17:17:27.919Z"
   },
   {
    "duration": 19,
    "start_time": "2022-06-05T17:17:29.601Z"
   },
   {
    "duration": 204,
    "start_time": "2022-06-05T17:17:31.911Z"
   },
   {
    "duration": 55,
    "start_time": "2022-06-05T17:17:53.048Z"
   },
   {
    "duration": 74,
    "start_time": "2022-06-05T17:17:55.260Z"
   },
   {
    "duration": 1585,
    "start_time": "2022-06-05T17:18:47.280Z"
   },
   {
    "duration": 488,
    "start_time": "2022-06-05T17:18:50.274Z"
   },
   {
    "duration": 3,
    "start_time": "2022-06-05T17:18:50.919Z"
   },
   {
    "duration": 19,
    "start_time": "2022-06-05T17:18:51.596Z"
   },
   {
    "duration": 12,
    "start_time": "2022-06-05T17:18:52.252Z"
   },
   {
    "duration": 111,
    "start_time": "2022-06-05T17:18:52.865Z"
   },
   {
    "duration": 42,
    "start_time": "2022-06-05T17:18:53.435Z"
   },
   {
    "duration": 10,
    "start_time": "2022-06-05T17:18:55.671Z"
   },
   {
    "duration": 49,
    "start_time": "2022-06-05T17:18:56.563Z"
   },
   {
    "duration": 21,
    "start_time": "2022-06-05T17:18:57.299Z"
   },
   {
    "duration": 10,
    "start_time": "2022-06-05T17:18:58.464Z"
   },
   {
    "duration": 20,
    "start_time": "2022-06-05T17:18:59.163Z"
   },
   {
    "duration": 28,
    "start_time": "2022-06-05T17:18:59.874Z"
   },
   {
    "duration": 12,
    "start_time": "2022-06-05T17:19:00.308Z"
   },
   {
    "duration": 16,
    "start_time": "2022-06-05T17:19:00.709Z"
   },
   {
    "duration": 53,
    "start_time": "2022-06-05T17:19:01.103Z"
   },
   {
    "duration": 9,
    "start_time": "2022-06-05T17:19:01.972Z"
   },
   {
    "duration": 40,
    "start_time": "2022-06-05T17:19:02.483Z"
   },
   {
    "duration": 5,
    "start_time": "2022-06-05T17:19:04.074Z"
   },
   {
    "duration": 8,
    "start_time": "2022-06-05T17:19:04.772Z"
   },
   {
    "duration": 44,
    "start_time": "2022-06-05T17:19:20.156Z"
   },
   {
    "duration": 37,
    "start_time": "2022-06-05T17:19:21.876Z"
   },
   {
    "duration": 25,
    "start_time": "2022-06-05T17:19:24.792Z"
   },
   {
    "duration": 22,
    "start_time": "2022-06-05T17:19:26.211Z"
   },
   {
    "duration": 29,
    "start_time": "2022-06-05T17:19:27.691Z"
   },
   {
    "duration": 137,
    "start_time": "2022-06-05T17:19:29.565Z"
   },
   {
    "duration": 135,
    "start_time": "2022-06-05T17:19:41.226Z"
   },
   {
    "duration": 3,
    "start_time": "2022-06-05T17:20:11.793Z"
   },
   {
    "duration": 482,
    "start_time": "2022-06-05T17:20:22.401Z"
   },
   {
    "duration": 54,
    "start_time": "2022-06-05T17:20:27.015Z"
   },
   {
    "duration": 32,
    "start_time": "2022-06-05T17:20:42.014Z"
   },
   {
    "duration": 17,
    "start_time": "2022-06-05T17:20:42.849Z"
   },
   {
    "duration": 94,
    "start_time": "2022-06-05T17:20:58.972Z"
   },
   {
    "duration": 23,
    "start_time": "2022-06-05T17:21:06.801Z"
   },
   {
    "duration": 24,
    "start_time": "2022-06-05T17:21:07.550Z"
   },
   {
    "duration": 77,
    "start_time": "2022-06-05T17:21:14.100Z"
   },
   {
    "duration": 25,
    "start_time": "2022-06-05T17:21:18.249Z"
   },
   {
    "duration": 232,
    "start_time": "2022-06-05T17:21:20.988Z"
   },
   {
    "duration": 21,
    "start_time": "2022-06-05T17:21:21.886Z"
   },
   {
    "duration": 34,
    "start_time": "2022-06-05T17:21:25.682Z"
   },
   {
    "duration": 150,
    "start_time": "2022-06-05T17:22:49.392Z"
   },
   {
    "duration": 25,
    "start_time": "2022-06-05T17:22:50.352Z"
   },
   {
    "duration": 56,
    "start_time": "2022-06-05T17:22:53.814Z"
   },
   {
    "duration": 322,
    "start_time": "2022-06-05T17:24:34.494Z"
   },
   {
    "duration": 38,
    "start_time": "2022-06-05T17:24:35.884Z"
   },
   {
    "duration": 46,
    "start_time": "2022-06-05T17:24:41.243Z"
   },
   {
    "duration": 181,
    "start_time": "2022-06-05T17:25:23.544Z"
   },
   {
    "duration": 27,
    "start_time": "2022-06-05T17:25:28.599Z"
   },
   {
    "duration": 59,
    "start_time": "2022-06-05T17:25:43.795Z"
   },
   {
    "duration": 8,
    "start_time": "2022-06-05T17:27:53.548Z"
   },
   {
    "duration": 282,
    "start_time": "2022-06-05T17:29:04.322Z"
   },
   {
    "duration": 21,
    "start_time": "2022-06-05T17:29:05.447Z"
   },
   {
    "duration": 44,
    "start_time": "2022-06-05T17:29:08.011Z"
   },
   {
    "duration": 187,
    "start_time": "2022-06-05T17:30:04.356Z"
   },
   {
    "duration": 52,
    "start_time": "2022-06-05T17:30:09.499Z"
   },
   {
    "duration": 18,
    "start_time": "2022-06-05T17:40:05.990Z"
   },
   {
    "duration": 17,
    "start_time": "2022-06-05T17:40:29.793Z"
   },
   {
    "duration": 22,
    "start_time": "2022-06-05T17:45:09.051Z"
   },
   {
    "duration": 229,
    "start_time": "2022-06-05T17:45:43.073Z"
   },
   {
    "duration": 198,
    "start_time": "2022-06-05T17:46:30.775Z"
   },
   {
    "duration": 31,
    "start_time": "2022-06-05T17:46:58.920Z"
   },
   {
    "duration": 149,
    "start_time": "2022-06-05T17:47:58.643Z"
   },
   {
    "duration": 25,
    "start_time": "2022-06-05T17:48:13.804Z"
   },
   {
    "duration": 7,
    "start_time": "2022-06-05T17:49:05.503Z"
   },
   {
    "duration": 12,
    "start_time": "2022-06-05T17:49:21.998Z"
   },
   {
    "duration": 30,
    "start_time": "2022-06-05T17:49:24.045Z"
   },
   {
    "duration": 61,
    "start_time": "2022-06-05T17:49:57.584Z"
   },
   {
    "duration": 21,
    "start_time": "2022-06-05T17:51:45.943Z"
   },
   {
    "duration": 22,
    "start_time": "2022-06-05T17:52:02.579Z"
   },
   {
    "duration": 26,
    "start_time": "2022-06-05T17:53:36.450Z"
   },
   {
    "duration": 13,
    "start_time": "2022-06-05T17:54:08.047Z"
   },
   {
    "duration": 15,
    "start_time": "2022-06-05T17:54:40.551Z"
   },
   {
    "duration": 434,
    "start_time": "2022-06-05T17:55:07.013Z"
   },
   {
    "duration": 11,
    "start_time": "2022-06-05T17:55:19.661Z"
   },
   {
    "duration": 17,
    "start_time": "2022-06-05T17:55:31.073Z"
   },
   {
    "duration": 24,
    "start_time": "2022-06-05T17:59:33.023Z"
   },
   {
    "duration": 20,
    "start_time": "2022-06-05T17:59:42.020Z"
   },
   {
    "duration": 55,
    "start_time": "2022-06-05T18:02:30.473Z"
   },
   {
    "duration": 10,
    "start_time": "2022-06-05T18:02:59.484Z"
   },
   {
    "duration": 9,
    "start_time": "2022-06-05T18:03:02.258Z"
   },
   {
    "duration": 53,
    "start_time": "2022-06-05T18:03:40.571Z"
   },
   {
    "duration": 17,
    "start_time": "2022-06-05T18:03:48.676Z"
   },
   {
    "duration": 6,
    "start_time": "2022-06-05T18:05:10.212Z"
   },
   {
    "duration": 17,
    "start_time": "2022-06-05T18:05:54.411Z"
   },
   {
    "duration": 18,
    "start_time": "2022-06-05T18:06:08.073Z"
   },
   {
    "duration": 197,
    "start_time": "2022-06-05T18:15:03.709Z"
   },
   {
    "duration": 188,
    "start_time": "2022-06-05T18:15:27.982Z"
   },
   {
    "duration": 178,
    "start_time": "2022-06-05T18:15:49.786Z"
   },
   {
    "duration": 13,
    "start_time": "2022-06-05T18:17:00.455Z"
   },
   {
    "duration": 34,
    "start_time": "2022-06-05T18:18:03.381Z"
   },
   {
    "duration": 10,
    "start_time": "2022-06-05T18:18:12.560Z"
   },
   {
    "duration": 11,
    "start_time": "2022-06-05T18:19:47.661Z"
   },
   {
    "duration": 40,
    "start_time": "2022-06-05T18:20:07.959Z"
   },
   {
    "duration": 11,
    "start_time": "2022-06-05T18:20:22.362Z"
   },
   {
    "duration": 10,
    "start_time": "2022-06-05T18:22:43.872Z"
   },
   {
    "duration": 11,
    "start_time": "2022-06-05T18:22:49.893Z"
   },
   {
    "duration": 12,
    "start_time": "2022-06-05T18:23:15.705Z"
   },
   {
    "duration": 13,
    "start_time": "2022-06-05T18:24:16.578Z"
   },
   {
    "duration": 9,
    "start_time": "2022-06-05T18:24:42.894Z"
   },
   {
    "duration": 10,
    "start_time": "2022-06-05T18:24:47.856Z"
   },
   {
    "duration": 15,
    "start_time": "2022-06-05T18:25:13.923Z"
   },
   {
    "duration": 32,
    "start_time": "2022-06-05T18:27:31.761Z"
   },
   {
    "duration": 12,
    "start_time": "2022-06-05T18:27:47.386Z"
   },
   {
    "duration": 12,
    "start_time": "2022-06-05T18:28:51.575Z"
   },
   {
    "duration": 5,
    "start_time": "2022-06-05T18:29:03.112Z"
   },
   {
    "duration": 12,
    "start_time": "2022-06-05T18:34:12.004Z"
   },
   {
    "duration": 921,
    "start_time": "2022-06-05T18:34:34.556Z"
   },
   {
    "duration": 12,
    "start_time": "2022-06-05T18:35:45.304Z"
   },
   {
    "duration": 714,
    "start_time": "2022-06-05T18:37:06.770Z"
   },
   {
    "duration": 9,
    "start_time": "2022-06-05T18:37:46.103Z"
   },
   {
    "duration": 17,
    "start_time": "2022-06-05T18:38:00.868Z"
   },
   {
    "duration": 657,
    "start_time": "2022-06-05T18:38:01.759Z"
   },
   {
    "duration": 581,
    "start_time": "2022-06-05T18:39:22.878Z"
   },
   {
    "duration": 16,
    "start_time": "2022-06-05T18:40:41.308Z"
   },
   {
    "duration": 209,
    "start_time": "2022-06-05T18:40:45.459Z"
   },
   {
    "duration": 189,
    "start_time": "2022-06-05T18:41:27.206Z"
   },
   {
    "duration": 11,
    "start_time": "2022-06-05T18:42:44.260Z"
   },
   {
    "duration": 174,
    "start_time": "2022-06-05T18:42:45.260Z"
   },
   {
    "duration": 22,
    "start_time": "2022-06-05T18:46:16.974Z"
   },
   {
    "duration": 296,
    "start_time": "2022-06-05T18:46:20.954Z"
   },
   {
    "duration": 14,
    "start_time": "2022-06-05T18:48:26.795Z"
   },
   {
    "duration": 20,
    "start_time": "2022-06-05T18:48:27.962Z"
   },
   {
    "duration": 26,
    "start_time": "2022-06-05T18:49:11.658Z"
   },
   {
    "duration": 17,
    "start_time": "2022-06-05T18:49:13.855Z"
   },
   {
    "duration": 16,
    "start_time": "2022-06-05T18:49:36.587Z"
   },
   {
    "duration": 236,
    "start_time": "2022-06-05T18:49:37.462Z"
   },
   {
    "duration": 19,
    "start_time": "2022-06-05T18:53:47.702Z"
   },
   {
    "duration": 64,
    "start_time": "2022-06-05T18:53:55.023Z"
   },
   {
    "duration": 11,
    "start_time": "2022-06-05T19:00:26.802Z"
   },
   {
    "duration": 22,
    "start_time": "2022-06-05T19:00:47.694Z"
   },
   {
    "duration": 42,
    "start_time": "2022-06-05T19:00:53.996Z"
   },
   {
    "duration": 1494,
    "start_time": "2022-06-05T19:01:19.551Z"
   },
   {
    "duration": 425,
    "start_time": "2022-06-05T19:01:21.693Z"
   },
   {
    "duration": 3,
    "start_time": "2022-06-05T19:01:22.120Z"
   },
   {
    "duration": 16,
    "start_time": "2022-06-05T19:01:22.487Z"
   },
   {
    "duration": 7,
    "start_time": "2022-06-05T19:01:23.180Z"
   },
   {
    "duration": 146,
    "start_time": "2022-06-05T19:01:23.793Z"
   },
   {
    "duration": 36,
    "start_time": "2022-06-05T19:01:24.268Z"
   },
   {
    "duration": 11,
    "start_time": "2022-06-05T19:01:26.677Z"
   },
   {
    "duration": 44,
    "start_time": "2022-06-05T19:01:27.576Z"
   },
   {
    "duration": 27,
    "start_time": "2022-06-05T19:01:28.516Z"
   },
   {
    "duration": 15,
    "start_time": "2022-06-05T19:01:29.971Z"
   },
   {
    "duration": 21,
    "start_time": "2022-06-05T19:01:31.192Z"
   },
   {
    "duration": 33,
    "start_time": "2022-06-05T19:01:33.178Z"
   },
   {
    "duration": 12,
    "start_time": "2022-06-05T19:01:33.894Z"
   },
   {
    "duration": 21,
    "start_time": "2022-06-05T19:01:34.667Z"
   },
   {
    "duration": 39,
    "start_time": "2022-06-05T19:01:35.375Z"
   },
   {
    "duration": 20,
    "start_time": "2022-06-05T19:01:36.751Z"
   },
   {
    "duration": 69,
    "start_time": "2022-06-05T19:01:37.419Z"
   },
   {
    "duration": 4,
    "start_time": "2022-06-05T19:01:41.309Z"
   },
   {
    "duration": 6,
    "start_time": "2022-06-05T19:01:42.277Z"
   },
   {
    "duration": 5,
    "start_time": "2022-06-05T19:01:44.069Z"
   },
   {
    "duration": 3032,
    "start_time": "2022-06-05T19:01:44.563Z"
   },
   {
    "duration": 3,
    "start_time": "2022-06-05T19:01:47.599Z"
   },
   {
    "duration": 5040,
    "start_time": "2022-06-05T19:01:47.604Z"
   },
   {
    "duration": 1168,
    "start_time": "2022-06-05T19:01:52.646Z"
   },
   {
    "duration": 2375,
    "start_time": "2022-06-05T19:01:53.816Z"
   },
   {
    "duration": 14,
    "start_time": "2022-06-05T19:01:56.193Z"
   },
   {
    "duration": 45,
    "start_time": "2022-06-05T19:01:56.208Z"
   },
   {
    "duration": 270,
    "start_time": "2022-06-05T19:01:56.255Z"
   },
   {
    "duration": 7,
    "start_time": "2022-06-05T19:01:56.530Z"
   },
   {
    "duration": 164,
    "start_time": "2022-06-05T19:01:56.539Z"
   },
   {
    "duration": 89,
    "start_time": "2022-06-05T19:01:56.705Z"
   },
   {
    "duration": 95,
    "start_time": "2022-06-05T19:01:56.918Z"
   },
   {
    "duration": 54,
    "start_time": "2022-06-05T19:01:59.743Z"
   },
   {
    "duration": 106,
    "start_time": "2022-06-05T19:02:13.188Z"
   },
   {
    "duration": 38,
    "start_time": "2022-06-05T19:02:19.475Z"
   },
   {
    "duration": 43,
    "start_time": "2022-06-05T19:02:32.583Z"
   },
   {
    "duration": 18,
    "start_time": "2022-06-05T19:02:33.578Z"
   },
   {
    "duration": 18,
    "start_time": "2022-06-05T19:02:42.078Z"
   },
   {
    "duration": 36,
    "start_time": "2022-06-05T19:02:45.106Z"
   },
   {
    "duration": 46,
    "start_time": "2022-06-05T19:02:55.633Z"
   },
   {
    "duration": 115,
    "start_time": "2022-06-05T19:02:55.986Z"
   },
   {
    "duration": 46,
    "start_time": "2022-06-05T19:02:57.958Z"
   },
   {
    "duration": 17,
    "start_time": "2022-06-05T19:02:59.577Z"
   },
   {
    "duration": 27,
    "start_time": "2022-06-05T19:03:00.420Z"
   },
   {
    "duration": 54,
    "start_time": "2022-06-05T19:03:01.476Z"
   },
   {
    "duration": 34,
    "start_time": "2022-06-05T19:03:20.607Z"
   },
   {
    "duration": 39,
    "start_time": "2022-06-05T19:03:25.758Z"
   },
   {
    "duration": 65,
    "start_time": "2022-06-05T19:03:28.258Z"
   },
   {
    "duration": 18,
    "start_time": "2022-06-05T19:03:55.080Z"
   },
   {
    "duration": 18,
    "start_time": "2022-06-05T19:04:11.781Z"
   },
   {
    "duration": 33,
    "start_time": "2022-06-05T19:04:13.173Z"
   },
   {
    "duration": 48,
    "start_time": "2022-06-05T19:04:17.332Z"
   },
   {
    "duration": 45,
    "start_time": "2022-06-05T19:04:56.916Z"
   },
   {
    "duration": 14,
    "start_time": "2022-06-05T19:06:19.972Z"
   },
   {
    "duration": 23,
    "start_time": "2022-06-05T19:08:10.426Z"
   },
   {
    "duration": 17,
    "start_time": "2022-06-05T19:08:31.082Z"
   },
   {
    "duration": 15,
    "start_time": "2022-06-05T19:08:59.909Z"
   },
   {
    "duration": 8,
    "start_time": "2022-06-05T19:10:46.389Z"
   },
   {
    "duration": 20,
    "start_time": "2022-06-05T19:14:12.721Z"
   },
   {
    "duration": 26,
    "start_time": "2022-06-05T19:17:11.919Z"
   },
   {
    "duration": 40,
    "start_time": "2022-06-05T19:17:16.954Z"
   },
   {
    "duration": 10,
    "start_time": "2022-06-05T19:20:41.896Z"
   },
   {
    "duration": 24,
    "start_time": "2022-06-05T19:20:52.550Z"
   },
   {
    "duration": 18,
    "start_time": "2022-06-05T19:21:08.238Z"
   },
   {
    "duration": 14,
    "start_time": "2022-06-05T19:21:22.459Z"
   },
   {
    "duration": 11,
    "start_time": "2022-06-05T19:23:21.990Z"
   },
   {
    "duration": 41,
    "start_time": "2022-06-05T19:23:48.224Z"
   },
   {
    "duration": 33,
    "start_time": "2022-06-05T19:24:04.879Z"
   },
   {
    "duration": 35,
    "start_time": "2022-06-05T19:24:18.754Z"
   },
   {
    "duration": 50,
    "start_time": "2022-06-05T19:25:57.460Z"
   },
   {
    "duration": 11,
    "start_time": "2022-06-05T19:25:58.557Z"
   },
   {
    "duration": 42,
    "start_time": "2022-06-05T19:26:12.215Z"
   },
   {
    "duration": 34,
    "start_time": "2022-06-05T19:27:58.854Z"
   },
   {
    "duration": 25,
    "start_time": "2022-06-05T19:30:05.150Z"
   },
   {
    "duration": 46,
    "start_time": "2022-06-05T19:30:44.623Z"
   },
   {
    "duration": 29,
    "start_time": "2022-06-05T19:30:48.345Z"
   },
   {
    "duration": 32,
    "start_time": "2022-06-05T19:35:45.555Z"
   },
   {
    "duration": 24,
    "start_time": "2022-06-05T19:36:28.092Z"
   },
   {
    "duration": 23,
    "start_time": "2022-06-05T19:43:19.493Z"
   },
   {
    "duration": 16,
    "start_time": "2022-06-05T19:53:20.147Z"
   },
   {
    "duration": 169,
    "start_time": "2022-06-05T20:37:55.552Z"
   },
   {
    "duration": 28,
    "start_time": "2022-06-05T20:38:13.251Z"
   },
   {
    "duration": 527,
    "start_time": "2022-06-05T20:38:30.058Z"
   },
   {
    "duration": 79,
    "start_time": "2022-06-05T20:49:45.902Z"
   },
   {
    "duration": 20,
    "start_time": "2022-06-05T20:50:13.458Z"
   },
   {
    "duration": 14,
    "start_time": "2022-06-05T20:50:32.597Z"
   },
   {
    "duration": 181,
    "start_time": "2022-06-05T20:51:33.307Z"
   },
   {
    "duration": 42,
    "start_time": "2022-06-05T21:01:03.172Z"
   },
   {
    "duration": 39,
    "start_time": "2022-06-05T21:02:04.816Z"
   },
   {
    "duration": 37,
    "start_time": "2022-06-05T21:07:52.066Z"
   },
   {
    "duration": 215,
    "start_time": "2022-06-05T21:08:25.036Z"
   },
   {
    "duration": 7,
    "start_time": "2022-06-05T21:11:57.618Z"
   },
   {
    "duration": 4,
    "start_time": "2022-06-05T21:17:51.927Z"
   },
   {
    "duration": 9,
    "start_time": "2022-06-05T21:17:55.306Z"
   },
   {
    "duration": 12,
    "start_time": "2022-06-05T21:17:57.558Z"
   },
   {
    "duration": 13,
    "start_time": "2022-06-05T21:18:32.579Z"
   },
   {
    "duration": 122,
    "start_time": "2022-06-05T21:19:19.891Z"
   },
   {
    "duration": 6,
    "start_time": "2022-06-05T21:20:04.447Z"
   },
   {
    "duration": 9,
    "start_time": "2022-06-05T21:20:05.357Z"
   },
   {
    "duration": 13,
    "start_time": "2022-06-05T21:20:06.686Z"
   },
   {
    "duration": 6,
    "start_time": "2022-06-05T21:26:51.493Z"
   },
   {
    "duration": 12,
    "start_time": "2022-06-05T21:27:13.804Z"
   },
   {
    "duration": 2,
    "start_time": "2022-06-05T21:28:02.451Z"
   },
   {
    "duration": 33,
    "start_time": "2022-06-05T21:28:03.363Z"
   },
   {
    "duration": 6,
    "start_time": "2022-06-05T21:29:06.955Z"
   },
   {
    "duration": 39,
    "start_time": "2022-06-05T21:29:11.400Z"
   },
   {
    "duration": 6,
    "start_time": "2022-06-05T21:29:40.751Z"
   },
   {
    "duration": 36,
    "start_time": "2022-06-05T21:29:44.539Z"
   },
   {
    "duration": 10,
    "start_time": "2022-06-05T21:30:14.130Z"
   },
   {
    "duration": 34,
    "start_time": "2022-06-05T21:30:17.714Z"
   },
   {
    "duration": 9,
    "start_time": "2022-06-05T21:30:48.127Z"
   },
   {
    "duration": 225,
    "start_time": "2022-06-05T21:30:51.205Z"
   },
   {
    "duration": 194,
    "start_time": "2022-06-05T21:31:46.599Z"
   },
   {
    "duration": 193,
    "start_time": "2022-06-05T21:32:01.049Z"
   },
   {
    "duration": 3,
    "start_time": "2022-06-05T21:32:54.794Z"
   },
   {
    "duration": 6,
    "start_time": "2022-06-05T21:32:56.127Z"
   },
   {
    "duration": 12,
    "start_time": "2022-06-05T21:33:01.252Z"
   },
   {
    "duration": 12,
    "start_time": "2022-06-05T21:34:53.605Z"
   },
   {
    "duration": 272,
    "start_time": "2022-06-05T21:35:04.331Z"
   },
   {
    "duration": 86,
    "start_time": "2022-06-05T21:49:10.450Z"
   },
   {
    "duration": 6,
    "start_time": "2022-06-05T21:50:17.443Z"
   },
   {
    "duration": 58,
    "start_time": "2022-06-05T21:50:31.571Z"
   },
   {
    "duration": 6,
    "start_time": "2022-06-05T21:50:55.021Z"
   },
   {
    "duration": 129,
    "start_time": "2022-06-05T21:50:58.399Z"
   },
   {
    "duration": 5,
    "start_time": "2022-06-05T21:58:24.767Z"
   },
   {
    "duration": 5,
    "start_time": "2022-06-05T21:59:40.748Z"
   },
   {
    "duration": 9,
    "start_time": "2022-06-05T22:01:06.181Z"
   },
   {
    "duration": 12,
    "start_time": "2022-06-05T22:01:56.646Z"
   },
   {
    "duration": 20,
    "start_time": "2022-06-05T22:03:34.419Z"
   },
   {
    "duration": 22,
    "start_time": "2022-06-05T22:03:42.814Z"
   },
   {
    "duration": 14,
    "start_time": "2022-06-05T22:03:49.166Z"
   },
   {
    "duration": 6,
    "start_time": "2022-06-05T22:04:00.923Z"
   },
   {
    "duration": 8,
    "start_time": "2022-06-05T22:04:11.303Z"
   },
   {
    "duration": 16,
    "start_time": "2022-06-05T22:04:15.402Z"
   },
   {
    "duration": 15,
    "start_time": "2022-06-05T22:04:45.882Z"
   },
   {
    "duration": 11,
    "start_time": "2022-06-05T22:06:37.580Z"
   },
   {
    "duration": 43,
    "start_time": "2022-06-05T22:07:10.651Z"
   },
   {
    "duration": 28,
    "start_time": "2022-06-05T22:07:58.549Z"
   },
   {
    "duration": 11,
    "start_time": "2022-06-05T22:08:14.549Z"
   },
   {
    "duration": 10,
    "start_time": "2022-06-05T22:08:31.044Z"
   },
   {
    "duration": 48,
    "start_time": "2022-06-05T22:09:06.139Z"
   },
   {
    "duration": 48,
    "start_time": "2022-06-05T22:09:14.423Z"
   },
   {
    "duration": 27,
    "start_time": "2022-06-05T22:09:34.381Z"
   },
   {
    "duration": 386,
    "start_time": "2022-06-05T22:11:53.208Z"
   },
   {
    "duration": 13,
    "start_time": "2022-06-05T22:12:55.108Z"
   },
   {
    "duration": 13,
    "start_time": "2022-06-05T22:18:29.141Z"
   },
   {
    "duration": 45,
    "start_time": "2022-06-05T22:18:51.700Z"
   },
   {
    "duration": 258,
    "start_time": "2022-06-05T22:19:42.086Z"
   },
   {
    "duration": 22,
    "start_time": "2022-06-05T22:22:53.960Z"
   },
   {
    "duration": 13,
    "start_time": "2022-06-05T22:23:12.821Z"
   },
   {
    "duration": 14,
    "start_time": "2022-06-05T22:23:50.654Z"
   },
   {
    "duration": 19,
    "start_time": "2022-06-05T22:24:02.064Z"
   },
   {
    "duration": 11,
    "start_time": "2022-06-05T22:24:25.119Z"
   },
   {
    "duration": 34,
    "start_time": "2022-06-05T22:24:55.859Z"
   },
   {
    "duration": 17,
    "start_time": "2022-06-05T22:25:11.860Z"
   },
   {
    "duration": 36,
    "start_time": "2022-06-05T22:25:19.492Z"
   },
   {
    "duration": 10,
    "start_time": "2022-06-05T22:25:54.673Z"
   },
   {
    "duration": 6,
    "start_time": "2022-06-05T22:26:07.706Z"
   },
   {
    "duration": 6,
    "start_time": "2022-06-05T22:26:31.043Z"
   },
   {
    "duration": 365,
    "start_time": "2022-06-05T22:26:37.463Z"
   },
   {
    "duration": 24,
    "start_time": "2022-06-05T22:27:58.017Z"
   },
   {
    "duration": 14,
    "start_time": "2022-06-05T22:28:28.603Z"
   },
   {
    "duration": 38,
    "start_time": "2022-06-05T22:29:55.751Z"
   },
   {
    "duration": 42,
    "start_time": "2022-06-05T22:31:01.996Z"
   },
   {
    "duration": 15,
    "start_time": "2022-06-05T22:31:36.729Z"
   },
   {
    "duration": 13,
    "start_time": "2022-06-05T22:32:02.746Z"
   },
   {
    "duration": 1209,
    "start_time": "2022-06-05T22:32:23.815Z"
   },
   {
    "duration": 408,
    "start_time": "2022-06-05T22:32:25.029Z"
   },
   {
    "duration": 3,
    "start_time": "2022-06-05T22:32:25.438Z"
   },
   {
    "duration": 32,
    "start_time": "2022-06-05T22:32:25.443Z"
   },
   {
    "duration": 7,
    "start_time": "2022-06-05T22:32:25.477Z"
   },
   {
    "duration": 89,
    "start_time": "2022-06-05T22:32:25.808Z"
   },
   {
    "duration": 29,
    "start_time": "2022-06-05T22:32:26.242Z"
   },
   {
    "duration": 7,
    "start_time": "2022-06-05T22:32:28.253Z"
   },
   {
    "duration": 35,
    "start_time": "2022-06-05T22:32:28.906Z"
   },
   {
    "duration": 20,
    "start_time": "2022-06-05T22:32:29.342Z"
   },
   {
    "duration": 10,
    "start_time": "2022-06-05T22:32:31.285Z"
   },
   {
    "duration": 20,
    "start_time": "2022-06-05T22:32:31.709Z"
   },
   {
    "duration": 26,
    "start_time": "2022-06-05T22:32:32.141Z"
   },
   {
    "duration": 15,
    "start_time": "2022-06-05T22:32:32.427Z"
   },
   {
    "duration": 13,
    "start_time": "2022-06-05T22:32:33.051Z"
   },
   {
    "duration": 43,
    "start_time": "2022-06-05T22:32:33.508Z"
   },
   {
    "duration": 11,
    "start_time": "2022-06-05T22:32:34.577Z"
   },
   {
    "duration": 37,
    "start_time": "2022-06-05T22:32:35.075Z"
   },
   {
    "duration": 5,
    "start_time": "2022-06-05T22:32:37.215Z"
   },
   {
    "duration": 4,
    "start_time": "2022-06-05T22:32:38.142Z"
   },
   {
    "duration": 3,
    "start_time": "2022-06-05T22:32:39.468Z"
   },
   {
    "duration": 2299,
    "start_time": "2022-06-05T22:32:40.489Z"
   },
   {
    "duration": 149,
    "start_time": "2022-06-05T22:34:11.187Z"
   },
   {
    "duration": 24,
    "start_time": "2022-06-05T22:34:31.956Z"
   },
   {
    "duration": 61,
    "start_time": "2022-06-05T22:34:32.967Z"
   },
   {
    "duration": 77,
    "start_time": "2022-06-05T22:34:40.781Z"
   },
   {
    "duration": 15,
    "start_time": "2022-06-05T22:34:49.271Z"
   },
   {
    "duration": 21,
    "start_time": "2022-06-05T22:34:50.102Z"
   },
   {
    "duration": 483,
    "start_time": "2022-06-05T22:34:54.970Z"
   },
   {
    "duration": 17,
    "start_time": "2022-06-05T22:35:15.654Z"
   },
   {
    "duration": 35,
    "start_time": "2022-06-05T22:35:27.969Z"
   },
   {
    "duration": 32,
    "start_time": "2022-06-05T22:35:32.901Z"
   },
   {
    "duration": 574,
    "start_time": "2022-06-05T22:35:40.380Z"
   },
   {
    "duration": 20,
    "start_time": "2022-06-05T22:35:56.175Z"
   },
   {
    "duration": 23,
    "start_time": "2022-06-05T22:35:57.491Z"
   },
   {
    "duration": 14,
    "start_time": "2022-06-05T22:36:03.341Z"
   },
   {
    "duration": 24,
    "start_time": "2022-06-05T22:36:06.599Z"
   },
   {
    "duration": 22,
    "start_time": "2022-06-05T22:36:18.797Z"
   },
   {
    "duration": 14,
    "start_time": "2022-06-05T22:36:27.210Z"
   },
   {
    "duration": 37,
    "start_time": "2022-06-05T22:37:01.994Z"
   },
   {
    "duration": 6,
    "start_time": "2022-06-05T22:37:14.544Z"
   },
   {
    "duration": 10,
    "start_time": "2022-06-05T22:37:15.527Z"
   },
   {
    "duration": 29,
    "start_time": "2022-06-05T22:37:21.073Z"
   },
   {
    "duration": 24,
    "start_time": "2022-06-05T22:37:26.309Z"
   },
   {
    "duration": 25,
    "start_time": "2022-06-05T22:37:39.055Z"
   },
   {
    "duration": 531,
    "start_time": "2022-06-05T22:37:54.263Z"
   },
   {
    "duration": 152,
    "start_time": "2022-06-05T22:38:31.476Z"
   },
   {
    "duration": 118,
    "start_time": "2022-06-05T22:39:21.157Z"
   },
   {
    "duration": 57,
    "start_time": "2022-06-05T22:39:49.859Z"
   },
   {
    "duration": 5,
    "start_time": "2022-06-05T22:41:46.922Z"
   },
   {
    "duration": 2,
    "start_time": "2022-06-05T22:41:59.087Z"
   },
   {
    "duration": 67,
    "start_time": "2022-06-05T22:42:02.052Z"
   },
   {
    "duration": 64,
    "start_time": "2022-06-05T22:42:38.644Z"
   },
   {
    "duration": 60,
    "start_time": "2022-06-05T22:43:30.658Z"
   },
   {
    "duration": 24,
    "start_time": "2022-06-05T22:45:02.476Z"
   },
   {
    "duration": 6,
    "start_time": "2022-06-05T22:45:06.840Z"
   },
   {
    "duration": 8,
    "start_time": "2022-06-05T22:45:09.979Z"
   },
   {
    "duration": 19,
    "start_time": "2022-06-05T22:45:12.041Z"
   },
   {
    "duration": 21,
    "start_time": "2022-06-05T22:45:14.159Z"
   },
   {
    "duration": 22,
    "start_time": "2022-06-05T22:46:10.244Z"
   },
   {
    "duration": 24,
    "start_time": "2022-06-05T22:46:23.849Z"
   },
   {
    "duration": 23,
    "start_time": "2022-06-05T22:46:39.175Z"
   },
   {
    "duration": 5,
    "start_time": "2022-06-05T22:46:52.841Z"
   },
   {
    "duration": 84,
    "start_time": "2022-06-05T22:50:00.293Z"
   },
   {
    "duration": 5,
    "start_time": "2022-06-05T22:50:21.599Z"
   },
   {
    "duration": 7,
    "start_time": "2022-06-05T22:50:42.901Z"
   },
   {
    "duration": 42,
    "start_time": "2022-06-05T22:51:55.372Z"
   },
   {
    "duration": 82,
    "start_time": "2022-06-05T22:52:37.340Z"
   },
   {
    "duration": 53,
    "start_time": "2022-06-05T22:54:44.361Z"
   },
   {
    "duration": 45,
    "start_time": "2022-06-05T22:55:17.071Z"
   },
   {
    "duration": 48,
    "start_time": "2022-06-05T22:55:44.213Z"
   },
   {
    "duration": 11,
    "start_time": "2022-06-05T22:56:14.924Z"
   },
   {
    "duration": 12,
    "start_time": "2022-06-05T22:57:42.129Z"
   },
   {
    "duration": 6,
    "start_time": "2022-06-05T22:58:24.739Z"
   },
   {
    "duration": 4,
    "start_time": "2022-06-05T23:05:38.771Z"
   },
   {
    "duration": 62,
    "start_time": "2022-06-05T23:07:31.800Z"
   },
   {
    "duration": 141,
    "start_time": "2022-06-05T23:08:24.641Z"
   },
   {
    "duration": 67,
    "start_time": "2022-06-05T23:09:25.722Z"
   },
   {
    "duration": 76,
    "start_time": "2022-06-05T23:10:47.591Z"
   },
   {
    "duration": 50,
    "start_time": "2022-06-05T23:10:55.756Z"
   },
   {
    "duration": 60,
    "start_time": "2022-06-05T23:11:16.090Z"
   },
   {
    "duration": 139,
    "start_time": "2022-06-05T23:11:45.936Z"
   },
   {
    "duration": 136,
    "start_time": "2022-06-05T23:12:53.213Z"
   },
   {
    "duration": 170,
    "start_time": "2022-06-05T23:13:24.601Z"
   },
   {
    "duration": 153,
    "start_time": "2022-06-05T23:13:34.953Z"
   },
   {
    "duration": 156,
    "start_time": "2022-06-05T23:13:47.634Z"
   },
   {
    "duration": 4,
    "start_time": "2022-06-05T23:14:34.157Z"
   },
   {
    "duration": 6,
    "start_time": "2022-06-05T23:14:41.477Z"
   },
   {
    "duration": 59,
    "start_time": "2022-06-05T23:16:37.721Z"
   },
   {
    "duration": 149,
    "start_time": "2022-06-05T23:16:50.118Z"
   },
   {
    "duration": 9,
    "start_time": "2022-06-05T23:17:44.297Z"
   },
   {
    "duration": 414,
    "start_time": "2022-06-05T23:18:53.486Z"
   },
   {
    "duration": 139,
    "start_time": "2022-06-05T23:19:11.840Z"
   },
   {
    "duration": 32,
    "start_time": "2022-06-05T23:19:37.751Z"
   },
   {
    "duration": 57,
    "start_time": "2022-06-05T23:19:45.357Z"
   },
   {
    "duration": 57,
    "start_time": "2022-06-05T23:20:07.890Z"
   },
   {
    "duration": 52,
    "start_time": "2022-06-05T23:20:18.051Z"
   },
   {
    "duration": 149,
    "start_time": "2022-06-05T23:20:25.243Z"
   },
   {
    "duration": 157,
    "start_time": "2022-06-05T23:20:43.692Z"
   },
   {
    "duration": 143,
    "start_time": "2022-06-05T23:21:17.681Z"
   },
   {
    "duration": 157,
    "start_time": "2022-06-05T23:21:41.653Z"
   },
   {
    "duration": 141,
    "start_time": "2022-06-05T23:21:52.060Z"
   },
   {
    "duration": 164,
    "start_time": "2022-06-05T23:22:12.998Z"
   },
   {
    "duration": 58,
    "start_time": "2022-06-05T23:23:10.247Z"
   },
   {
    "duration": 55,
    "start_time": "2022-06-05T23:23:49.297Z"
   },
   {
    "duration": 66,
    "start_time": "2022-06-05T23:24:25.218Z"
   },
   {
    "duration": 59,
    "start_time": "2022-06-05T23:25:02.040Z"
   },
   {
    "duration": 61,
    "start_time": "2022-06-05T23:25:45.115Z"
   },
   {
    "duration": 63,
    "start_time": "2022-06-05T23:26:39.906Z"
   },
   {
    "duration": 58,
    "start_time": "2022-06-05T23:27:01.247Z"
   },
   {
    "duration": 58,
    "start_time": "2022-06-05T23:27:15.450Z"
   },
   {
    "duration": 53,
    "start_time": "2022-06-05T23:27:42.385Z"
   },
   {
    "duration": 53,
    "start_time": "2022-06-05T23:27:58.115Z"
   },
   {
    "duration": 59,
    "start_time": "2022-06-05T23:28:13.980Z"
   },
   {
    "duration": 67,
    "start_time": "2022-06-05T23:28:49.180Z"
   },
   {
    "duration": 10,
    "start_time": "2022-06-05T23:28:58.934Z"
   },
   {
    "duration": 70,
    "start_time": "2022-06-05T23:29:01.235Z"
   },
   {
    "duration": 67,
    "start_time": "2022-06-05T23:29:14.486Z"
   },
   {
    "duration": 1303,
    "start_time": "2022-06-06T05:46:07.948Z"
   },
   {
    "duration": 291,
    "start_time": "2022-06-06T05:46:09.254Z"
   },
   {
    "duration": 2,
    "start_time": "2022-06-06T05:46:09.547Z"
   },
   {
    "duration": 23,
    "start_time": "2022-06-06T05:46:09.551Z"
   },
   {
    "duration": 8,
    "start_time": "2022-06-06T05:46:09.773Z"
   },
   {
    "duration": 102,
    "start_time": "2022-06-06T05:46:10.235Z"
   },
   {
    "duration": 28,
    "start_time": "2022-06-06T05:46:10.687Z"
   },
   {
    "duration": 7,
    "start_time": "2022-06-06T05:46:14.044Z"
   },
   {
    "duration": 37,
    "start_time": "2022-06-06T05:46:14.966Z"
   },
   {
    "duration": 27,
    "start_time": "2022-06-06T05:46:16.044Z"
   },
   {
    "duration": 10,
    "start_time": "2022-06-06T05:46:18.036Z"
   },
   {
    "duration": 28,
    "start_time": "2022-06-06T05:46:19.466Z"
   },
   {
    "duration": 26,
    "start_time": "2022-06-06T05:46:21.525Z"
   },
   {
    "duration": 12,
    "start_time": "2022-06-06T05:46:22.665Z"
   },
   {
    "duration": 16,
    "start_time": "2022-06-06T05:46:54.073Z"
   },
   {
    "duration": 43,
    "start_time": "2022-06-06T05:46:54.675Z"
   },
   {
    "duration": 8,
    "start_time": "2022-06-06T05:46:55.802Z"
   },
   {
    "duration": 44,
    "start_time": "2022-06-06T05:46:56.275Z"
   },
   {
    "duration": 4,
    "start_time": "2022-06-06T05:46:58.385Z"
   },
   {
    "duration": 6,
    "start_time": "2022-06-06T05:46:59.286Z"
   },
   {
    "duration": 3,
    "start_time": "2022-06-06T05:47:00.624Z"
   },
   {
    "duration": 2171,
    "start_time": "2022-06-06T05:47:01.061Z"
   },
   {
    "duration": 3,
    "start_time": "2022-06-06T05:47:13.121Z"
   },
   {
    "duration": 4121,
    "start_time": "2022-06-06T05:47:14.031Z"
   },
   {
    "duration": 998,
    "start_time": "2022-06-06T05:47:18.154Z"
   },
   {
    "duration": 2009,
    "start_time": "2022-06-06T05:47:19.154Z"
   },
   {
    "duration": 13,
    "start_time": "2022-06-06T05:47:21.165Z"
   },
   {
    "duration": 17,
    "start_time": "2022-06-06T05:47:21.179Z"
   },
   {
    "duration": 198,
    "start_time": "2022-06-06T05:47:21.198Z"
   },
   {
    "duration": 4,
    "start_time": "2022-06-06T05:47:21.525Z"
   },
   {
    "duration": 65,
    "start_time": "2022-06-06T05:47:28.179Z"
   },
   {
    "duration": 50,
    "start_time": "2022-06-06T05:48:58.214Z"
   },
   {
    "duration": 61,
    "start_time": "2022-06-06T05:48:59.191Z"
   },
   {
    "duration": 19,
    "start_time": "2022-06-06T05:49:01.042Z"
   },
   {
    "duration": 74,
    "start_time": "2022-06-06T05:49:02.198Z"
   },
   {
    "duration": 28,
    "start_time": "2022-06-06T05:49:21.056Z"
   },
   {
    "duration": 33,
    "start_time": "2022-06-06T05:49:22.298Z"
   },
   {
    "duration": 17,
    "start_time": "2022-06-06T05:49:22.782Z"
   },
   {
    "duration": 16,
    "start_time": "2022-06-06T05:49:23.784Z"
   },
   {
    "duration": 102,
    "start_time": "2022-06-06T05:54:27.623Z"
   },
   {
    "duration": 32,
    "start_time": "2022-06-06T05:55:03.812Z"
   },
   {
    "duration": 35,
    "start_time": "2022-06-06T05:55:25.040Z"
   },
   {
    "duration": 18,
    "start_time": "2022-06-06T05:55:25.575Z"
   },
   {
    "duration": 20,
    "start_time": "2022-06-06T05:55:46.350Z"
   },
   {
    "duration": 98,
    "start_time": "2022-06-06T05:57:37.599Z"
   },
   {
    "duration": 40,
    "start_time": "2022-06-06T05:58:02.952Z"
   },
   {
    "duration": 40,
    "start_time": "2022-06-06T05:58:59.756Z"
   },
   {
    "duration": 46,
    "start_time": "2022-06-06T05:59:01.359Z"
   },
   {
    "duration": 1236,
    "start_time": "2022-06-06T05:59:15.629Z"
   },
   {
    "duration": 217,
    "start_time": "2022-06-06T05:59:16.866Z"
   },
   {
    "duration": 3,
    "start_time": "2022-06-06T05:59:17.085Z"
   },
   {
    "duration": 19,
    "start_time": "2022-06-06T05:59:17.090Z"
   },
   {
    "duration": 9,
    "start_time": "2022-06-06T05:59:17.294Z"
   },
   {
    "duration": 78,
    "start_time": "2022-06-06T05:59:17.529Z"
   },
   {
    "duration": 27,
    "start_time": "2022-06-06T05:59:17.712Z"
   },
   {
    "duration": 8,
    "start_time": "2022-06-06T05:59:18.541Z"
   },
   {
    "duration": 45,
    "start_time": "2022-06-06T05:59:18.927Z"
   },
   {
    "duration": 20,
    "start_time": "2022-06-06T05:59:19.349Z"
   },
   {
    "duration": 8,
    "start_time": "2022-06-06T05:59:19.898Z"
   },
   {
    "duration": 21,
    "start_time": "2022-06-06T05:59:20.255Z"
   },
   {
    "duration": 26,
    "start_time": "2022-06-06T05:59:20.609Z"
   },
   {
    "duration": 12,
    "start_time": "2022-06-06T05:59:20.796Z"
   },
   {
    "duration": 14,
    "start_time": "2022-06-06T05:59:20.975Z"
   },
   {
    "duration": 51,
    "start_time": "2022-06-06T05:59:21.161Z"
   },
   {
    "duration": 8,
    "start_time": "2022-06-06T05:59:21.555Z"
   },
   {
    "duration": 34,
    "start_time": "2022-06-06T05:59:21.754Z"
   },
   {
    "duration": 5,
    "start_time": "2022-06-06T05:59:22.761Z"
   },
   {
    "duration": 6,
    "start_time": "2022-06-06T05:59:23.376Z"
   },
   {
    "duration": 3,
    "start_time": "2022-06-06T05:59:23.973Z"
   },
   {
    "duration": 2269,
    "start_time": "2022-06-06T05:59:24.223Z"
   },
   {
    "duration": 5,
    "start_time": "2022-06-06T05:59:26.494Z"
   },
   {
    "duration": 4159,
    "start_time": "2022-06-06T05:59:26.501Z"
   },
   {
    "duration": 1029,
    "start_time": "2022-06-06T05:59:30.663Z"
   },
   {
    "duration": 2000,
    "start_time": "2022-06-06T05:59:31.694Z"
   },
   {
    "duration": 14,
    "start_time": "2022-06-06T05:59:33.696Z"
   },
   {
    "duration": 29,
    "start_time": "2022-06-06T05:59:33.711Z"
   },
   {
    "duration": 209,
    "start_time": "2022-06-06T05:59:33.742Z"
   },
   {
    "duration": 4,
    "start_time": "2022-06-06T05:59:33.952Z"
   },
   {
    "duration": 74,
    "start_time": "2022-06-06T05:59:33.958Z"
   },
   {
    "duration": 53,
    "start_time": "2022-06-06T05:59:34.034Z"
   },
   {
    "duration": 78,
    "start_time": "2022-06-06T05:59:34.089Z"
   },
   {
    "duration": 20,
    "start_time": "2022-06-06T05:59:34.169Z"
   },
   {
    "duration": 88,
    "start_time": "2022-06-06T05:59:34.191Z"
   },
   {
    "duration": 185,
    "start_time": "2022-06-06T05:59:34.281Z"
   },
   {
    "duration": 27,
    "start_time": "2022-06-06T05:59:34.663Z"
   },
   {
    "duration": 34,
    "start_time": "2022-06-06T05:59:35.347Z"
   },
   {
    "duration": 19,
    "start_time": "2022-06-06T05:59:35.919Z"
   },
   {
    "duration": 16,
    "start_time": "2022-06-06T05:59:39.185Z"
   },
   {
    "duration": 71,
    "start_time": "2022-06-06T06:00:08.396Z"
   },
   {
    "duration": 15,
    "start_time": "2022-06-06T06:00:18.647Z"
   },
   {
    "duration": 36,
    "start_time": "2022-06-06T06:00:41.626Z"
   },
   {
    "duration": 35,
    "start_time": "2022-06-06T06:01:17.056Z"
   },
   {
    "duration": 43,
    "start_time": "2022-06-06T06:02:47.623Z"
   },
   {
    "duration": 34,
    "start_time": "2022-06-06T06:03:29.164Z"
   },
   {
    "duration": 43,
    "start_time": "2022-06-06T06:04:09.678Z"
   },
   {
    "duration": 39,
    "start_time": "2022-06-06T06:04:18.817Z"
   },
   {
    "duration": 47,
    "start_time": "2022-06-06T06:05:26.236Z"
   },
   {
    "duration": 35,
    "start_time": "2022-06-06T06:05:53.448Z"
   },
   {
    "duration": 21,
    "start_time": "2022-06-06T06:06:17.965Z"
   },
   {
    "duration": 26,
    "start_time": "2022-06-06T06:06:39.171Z"
   },
   {
    "duration": 16,
    "start_time": "2022-06-06T06:06:49.633Z"
   },
   {
    "duration": 14,
    "start_time": "2022-06-06T06:06:50.251Z"
   },
   {
    "duration": 59,
    "start_time": "2022-06-06T06:06:56.247Z"
   },
   {
    "duration": 27,
    "start_time": "2022-06-06T06:10:20.004Z"
   },
   {
    "duration": 26,
    "start_time": "2022-06-06T06:10:32.872Z"
   },
   {
    "duration": 17,
    "start_time": "2022-06-06T06:11:48.341Z"
   },
   {
    "duration": 25,
    "start_time": "2022-06-06T06:13:26.758Z"
   },
   {
    "duration": 24,
    "start_time": "2022-06-06T06:14:05.867Z"
   },
   {
    "duration": 27,
    "start_time": "2022-06-06T06:15:12.331Z"
   },
   {
    "duration": 20,
    "start_time": "2022-06-06T06:15:25.850Z"
   },
   {
    "duration": 23,
    "start_time": "2022-06-06T06:16:41.500Z"
   },
   {
    "duration": 64,
    "start_time": "2022-06-06T06:16:53.362Z"
   },
   {
    "duration": 15,
    "start_time": "2022-06-06T06:20:15.586Z"
   },
   {
    "duration": 28,
    "start_time": "2022-06-06T06:20:16.347Z"
   },
   {
    "duration": 35,
    "start_time": "2022-06-06T06:22:26.496Z"
   },
   {
    "duration": 49,
    "start_time": "2022-06-06T06:22:32.485Z"
   },
   {
    "duration": 12,
    "start_time": "2022-06-06T06:23:02.332Z"
   },
   {
    "duration": 21,
    "start_time": "2022-06-06T06:23:02.902Z"
   },
   {
    "duration": 38,
    "start_time": "2022-06-06T06:23:07.247Z"
   },
   {
    "duration": 22,
    "start_time": "2022-06-06T06:25:08.290Z"
   },
   {
    "duration": 49,
    "start_time": "2022-06-06T06:26:57.627Z"
   },
   {
    "duration": 13,
    "start_time": "2022-06-06T06:27:06.417Z"
   },
   {
    "duration": 9,
    "start_time": "2022-06-06T06:27:30.873Z"
   },
   {
    "duration": 23,
    "start_time": "2022-06-06T06:27:37.684Z"
   },
   {
    "duration": 21,
    "start_time": "2022-06-06T06:28:25.816Z"
   },
   {
    "duration": 22,
    "start_time": "2022-06-06T06:28:40.370Z"
   },
   {
    "duration": 14,
    "start_time": "2022-06-06T06:58:02.506Z"
   },
   {
    "duration": 13,
    "start_time": "2022-06-06T06:58:22.337Z"
   },
   {
    "duration": 11,
    "start_time": "2022-06-06T07:10:14.409Z"
   },
   {
    "duration": 8,
    "start_time": "2022-06-06T07:10:28.980Z"
   },
   {
    "duration": 10,
    "start_time": "2022-06-06T07:10:39.998Z"
   },
   {
    "duration": 23,
    "start_time": "2022-06-06T07:10:59.051Z"
   },
   {
    "duration": 12,
    "start_time": "2022-06-06T07:13:14.670Z"
   },
   {
    "duration": 16,
    "start_time": "2022-06-06T07:14:20.416Z"
   },
   {
    "duration": 19,
    "start_time": "2022-06-06T07:14:35.225Z"
   },
   {
    "duration": 11,
    "start_time": "2022-06-06T07:15:07.452Z"
   },
   {
    "duration": 41,
    "start_time": "2022-06-06T07:15:45.640Z"
   },
   {
    "duration": 20,
    "start_time": "2022-06-06T07:19:16.349Z"
   },
   {
    "duration": 16,
    "start_time": "2022-06-06T07:19:31.143Z"
   },
   {
    "duration": 30,
    "start_time": "2022-06-06T07:19:38.433Z"
   },
   {
    "duration": 43,
    "start_time": "2022-06-06T07:19:44.287Z"
   },
   {
    "duration": 101,
    "start_time": "2022-06-06T07:20:11.022Z"
   },
   {
    "duration": 90,
    "start_time": "2022-06-06T07:21:02.278Z"
   },
   {
    "duration": 107,
    "start_time": "2022-06-06T07:21:55.811Z"
   },
   {
    "duration": 41,
    "start_time": "2022-06-06T07:22:24.097Z"
   },
   {
    "duration": 44,
    "start_time": "2022-06-06T07:22:38.152Z"
   },
   {
    "duration": 48,
    "start_time": "2022-06-06T07:23:43.120Z"
   },
   {
    "duration": 30,
    "start_time": "2022-06-06T07:24:43.922Z"
   },
   {
    "duration": 53,
    "start_time": "2022-06-06T07:24:50.979Z"
   },
   {
    "duration": 41,
    "start_time": "2022-06-06T07:24:59.601Z"
   },
   {
    "duration": 12,
    "start_time": "2022-06-06T07:26:25.900Z"
   },
   {
    "duration": 33,
    "start_time": "2022-06-06T07:51:14.504Z"
   },
   {
    "duration": 21,
    "start_time": "2022-06-06T07:51:37.917Z"
   },
   {
    "duration": 24,
    "start_time": "2022-06-06T07:51:51.238Z"
   },
   {
    "duration": 25,
    "start_time": "2022-06-06T07:52:02.236Z"
   },
   {
    "duration": 23,
    "start_time": "2022-06-06T07:52:52.507Z"
   },
   {
    "duration": 42,
    "start_time": "2022-06-06T07:53:58.605Z"
   },
   {
    "duration": 9,
    "start_time": "2022-06-06T07:53:59.363Z"
   },
   {
    "duration": 140,
    "start_time": "2022-06-06T07:56:58.618Z"
   },
   {
    "duration": 49,
    "start_time": "2022-06-06T07:57:36.841Z"
   },
   {
    "duration": 40,
    "start_time": "2022-06-06T07:59:30.807Z"
   },
   {
    "duration": 10,
    "start_time": "2022-06-06T08:00:21.549Z"
   },
   {
    "duration": 3,
    "start_time": "2022-06-06T08:02:16.978Z"
   },
   {
    "duration": 32,
    "start_time": "2022-06-06T08:02:45.712Z"
   },
   {
    "duration": 31,
    "start_time": "2022-06-06T08:05:55.931Z"
   },
   {
    "duration": 33,
    "start_time": "2022-06-06T08:06:27.971Z"
   },
   {
    "duration": 34,
    "start_time": "2022-06-06T08:06:40.228Z"
   },
   {
    "duration": 21,
    "start_time": "2022-06-06T08:07:20.412Z"
   },
   {
    "duration": 11,
    "start_time": "2022-06-06T08:07:34.221Z"
   },
   {
    "duration": 10,
    "start_time": "2022-06-06T08:07:45.780Z"
   },
   {
    "duration": 12,
    "start_time": "2022-06-06T08:08:02.519Z"
   },
   {
    "duration": 14,
    "start_time": "2022-06-06T08:10:59.289Z"
   },
   {
    "duration": 12,
    "start_time": "2022-06-06T08:11:01.336Z"
   },
   {
    "duration": 13,
    "start_time": "2022-06-06T08:11:01.765Z"
   },
   {
    "duration": 30,
    "start_time": "2022-06-06T08:12:26.766Z"
   },
   {
    "duration": 4,
    "start_time": "2022-06-06T08:12:49.963Z"
   },
   {
    "duration": 42,
    "start_time": "2022-06-06T08:13:42.844Z"
   },
   {
    "duration": 25,
    "start_time": "2022-06-06T08:13:52.974Z"
   },
   {
    "duration": 27,
    "start_time": "2022-06-06T08:14:04.751Z"
   },
   {
    "duration": 36,
    "start_time": "2022-06-06T08:14:43.126Z"
   },
   {
    "duration": 140,
    "start_time": "2022-06-06T08:15:02.512Z"
   },
   {
    "duration": 26,
    "start_time": "2022-06-06T08:15:48.712Z"
   },
   {
    "duration": 30,
    "start_time": "2022-06-06T08:16:05.686Z"
   },
   {
    "duration": 29,
    "start_time": "2022-06-06T08:16:20.879Z"
   },
   {
    "duration": 26,
    "start_time": "2022-06-06T08:16:26.959Z"
   },
   {
    "duration": 25,
    "start_time": "2022-06-06T08:17:14.732Z"
   },
   {
    "duration": 35,
    "start_time": "2022-06-06T08:19:49.518Z"
   },
   {
    "duration": 20,
    "start_time": "2022-06-06T08:20:33.347Z"
   },
   {
    "duration": 11,
    "start_time": "2022-06-06T08:20:33.958Z"
   },
   {
    "duration": 15,
    "start_time": "2022-06-06T08:24:28.322Z"
   },
   {
    "duration": 20,
    "start_time": "2022-06-06T08:24:34.204Z"
   },
   {
    "duration": 20,
    "start_time": "2022-06-06T08:24:45.766Z"
   },
   {
    "duration": 16,
    "start_time": "2022-06-06T08:24:58.895Z"
   },
   {
    "duration": 42,
    "start_time": "2022-06-06T08:25:47.132Z"
   },
   {
    "duration": 34,
    "start_time": "2022-06-06T08:25:57.353Z"
   },
   {
    "duration": 44,
    "start_time": "2022-06-06T08:26:04.078Z"
   },
   {
    "duration": 31,
    "start_time": "2022-06-06T08:26:16.101Z"
   },
   {
    "duration": 31,
    "start_time": "2022-06-06T08:26:30.248Z"
   },
   {
    "duration": 28,
    "start_time": "2022-06-06T08:29:23.927Z"
   },
   {
    "duration": 40,
    "start_time": "2022-06-06T08:32:16.198Z"
   },
   {
    "duration": 51,
    "start_time": "2022-06-06T08:32:20.796Z"
   },
   {
    "duration": 33,
    "start_time": "2022-06-06T08:32:25.371Z"
   },
   {
    "duration": 31,
    "start_time": "2022-06-06T08:32:38.153Z"
   },
   {
    "duration": 1192,
    "start_time": "2022-06-06T08:32:57.654Z"
   },
   {
    "duration": 304,
    "start_time": "2022-06-06T08:32:59.384Z"
   },
   {
    "duration": 2,
    "start_time": "2022-06-06T08:32:59.691Z"
   },
   {
    "duration": 19,
    "start_time": "2022-06-06T08:32:59.769Z"
   },
   {
    "duration": 7,
    "start_time": "2022-06-06T08:32:59.963Z"
   },
   {
    "duration": 112,
    "start_time": "2022-06-06T08:33:00.139Z"
   },
   {
    "duration": 28,
    "start_time": "2022-06-06T08:33:00.304Z"
   },
   {
    "duration": 7,
    "start_time": "2022-06-06T08:33:01.158Z"
   },
   {
    "duration": 38,
    "start_time": "2022-06-06T08:33:01.543Z"
   },
   {
    "duration": 27,
    "start_time": "2022-06-06T08:33:01.976Z"
   },
   {
    "duration": 14,
    "start_time": "2022-06-06T08:33:02.530Z"
   },
   {
    "duration": 19,
    "start_time": "2022-06-06T08:33:02.878Z"
   },
   {
    "duration": 33,
    "start_time": "2022-06-06T08:33:03.294Z"
   },
   {
    "duration": 11,
    "start_time": "2022-06-06T08:33:03.390Z"
   },
   {
    "duration": 17,
    "start_time": "2022-06-06T08:33:03.726Z"
   },
   {
    "duration": 50,
    "start_time": "2022-06-06T08:33:03.905Z"
   },
   {
    "duration": 17,
    "start_time": "2022-06-06T08:33:04.080Z"
   },
   {
    "duration": 8,
    "start_time": "2022-06-06T08:33:04.415Z"
   },
   {
    "duration": 40,
    "start_time": "2022-06-06T08:33:04.585Z"
   },
   {
    "duration": 6,
    "start_time": "2022-06-06T08:33:06.286Z"
   },
   {
    "duration": 10,
    "start_time": "2022-06-06T08:33:06.294Z"
   },
   {
    "duration": 25,
    "start_time": "2022-06-06T08:33:06.306Z"
   },
   {
    "duration": 2377,
    "start_time": "2022-06-06T08:33:06.462Z"
   },
   {
    "duration": 6,
    "start_time": "2022-06-06T08:33:08.842Z"
   },
   {
    "duration": 4514,
    "start_time": "2022-06-06T08:33:08.849Z"
   },
   {
    "duration": 1122,
    "start_time": "2022-06-06T08:33:13.365Z"
   },
   {
    "duration": 2293,
    "start_time": "2022-06-06T08:33:14.489Z"
   },
   {
    "duration": 14,
    "start_time": "2022-06-06T08:33:16.783Z"
   },
   {
    "duration": 40,
    "start_time": "2022-06-06T08:33:16.798Z"
   },
   {
    "duration": 186,
    "start_time": "2022-06-06T08:33:16.839Z"
   },
   {
    "duration": 9,
    "start_time": "2022-06-06T08:33:17.027Z"
   },
   {
    "duration": 77,
    "start_time": "2022-06-06T08:33:17.038Z"
   },
   {
    "duration": 72,
    "start_time": "2022-06-06T08:33:17.117Z"
   },
   {
    "duration": 102,
    "start_time": "2022-06-06T08:33:17.191Z"
   },
   {
    "duration": 39,
    "start_time": "2022-06-06T08:33:17.295Z"
   },
   {
    "duration": 78,
    "start_time": "2022-06-06T08:33:17.335Z"
   },
   {
    "duration": 42,
    "start_time": "2022-06-06T08:33:17.415Z"
   },
   {
    "duration": 91,
    "start_time": "2022-06-06T08:33:17.459Z"
   },
   {
    "duration": 39,
    "start_time": "2022-06-06T08:33:17.551Z"
   },
   {
    "duration": 52,
    "start_time": "2022-06-06T08:33:17.591Z"
   },
   {
    "duration": 19,
    "start_time": "2022-06-06T08:33:17.645Z"
   },
   {
    "duration": 57,
    "start_time": "2022-06-06T08:33:17.666Z"
   },
   {
    "duration": 28,
    "start_time": "2022-06-06T08:33:17.725Z"
   },
   {
    "duration": 37,
    "start_time": "2022-06-06T08:33:17.755Z"
   },
   {
    "duration": 17,
    "start_time": "2022-06-06T08:33:17.847Z"
   },
   {
    "duration": 56,
    "start_time": "2022-06-06T08:33:17.962Z"
   },
   {
    "duration": 31,
    "start_time": "2022-06-06T08:33:19.248Z"
   },
   {
    "duration": 23,
    "start_time": "2022-06-06T08:33:19.507Z"
   },
   {
    "duration": 19,
    "start_time": "2022-06-06T08:33:19.754Z"
   },
   {
    "duration": 62,
    "start_time": "2022-06-06T08:33:20.493Z"
   },
   {
    "duration": 17,
    "start_time": "2022-06-06T08:33:21.971Z"
   },
   {
    "duration": 25,
    "start_time": "2022-06-06T08:33:22.419Z"
   },
   {
    "duration": 44,
    "start_time": "2022-06-06T08:33:23.442Z"
   },
   {
    "duration": 1207,
    "start_time": "2022-06-06T08:44:51.126Z"
   },
   {
    "duration": 212,
    "start_time": "2022-06-06T08:44:52.898Z"
   },
   {
    "duration": 3,
    "start_time": "2022-06-06T08:44:53.359Z"
   },
   {
    "duration": 19,
    "start_time": "2022-06-06T08:44:53.706Z"
   },
   {
    "duration": 7,
    "start_time": "2022-06-06T08:44:54.117Z"
   },
   {
    "duration": 86,
    "start_time": "2022-06-06T08:44:54.502Z"
   },
   {
    "duration": 31,
    "start_time": "2022-06-06T08:44:54.809Z"
   },
   {
    "duration": 7,
    "start_time": "2022-06-06T08:44:56.706Z"
   },
   {
    "duration": 33,
    "start_time": "2022-06-06T08:44:57.529Z"
   },
   {
    "duration": 19,
    "start_time": "2022-06-06T08:44:58.378Z"
   },
   {
    "duration": 9,
    "start_time": "2022-06-06T08:44:59.577Z"
   },
   {
    "duration": 20,
    "start_time": "2022-06-06T08:45:00.393Z"
   },
   {
    "duration": 27,
    "start_time": "2022-06-06T08:45:01.268Z"
   },
   {
    "duration": 12,
    "start_time": "2022-06-06T08:45:01.695Z"
   },
   {
    "duration": 14,
    "start_time": "2022-06-06T08:45:02.127Z"
   },
   {
    "duration": 41,
    "start_time": "2022-06-06T08:45:02.528Z"
   },
   {
    "duration": 16,
    "start_time": "2022-06-06T08:45:02.988Z"
   },
   {
    "duration": 9,
    "start_time": "2022-06-06T08:45:03.899Z"
   },
   {
    "duration": 37,
    "start_time": "2022-06-06T08:45:04.298Z"
   },
   {
    "duration": 6,
    "start_time": "2022-06-06T08:45:06.369Z"
   },
   {
    "duration": 5,
    "start_time": "2022-06-06T08:45:07.497Z"
   },
   {
    "duration": 5,
    "start_time": "2022-06-06T08:45:08.798Z"
   },
   {
    "duration": 2254,
    "start_time": "2022-06-06T08:45:09.410Z"
   },
   {
    "duration": 4,
    "start_time": "2022-06-06T08:45:11.667Z"
   },
   {
    "duration": 4425,
    "start_time": "2022-06-06T08:45:11.672Z"
   },
   {
    "duration": 1034,
    "start_time": "2022-06-06T08:45:16.099Z"
   },
   {
    "duration": 2166,
    "start_time": "2022-06-06T08:45:17.135Z"
   },
   {
    "duration": 26,
    "start_time": "2022-06-06T08:45:19.303Z"
   },
   {
    "duration": 21,
    "start_time": "2022-06-06T08:45:19.332Z"
   },
   {
    "duration": 224,
    "start_time": "2022-06-06T08:45:19.355Z"
   },
   {
    "duration": 4,
    "start_time": "2022-06-06T08:45:19.580Z"
   },
   {
    "duration": 91,
    "start_time": "2022-06-06T08:45:19.585Z"
   },
   {
    "duration": 69,
    "start_time": "2022-06-06T08:45:19.678Z"
   },
   {
    "duration": 94,
    "start_time": "2022-06-06T08:45:19.749Z"
   },
   {
    "duration": 21,
    "start_time": "2022-06-06T08:45:20.462Z"
   },
   {
    "duration": 80,
    "start_time": "2022-06-06T08:45:21.410Z"
   },
   {
    "duration": 36,
    "start_time": "2022-06-06T08:45:22.344Z"
   },
   {
    "duration": 91,
    "start_time": "2022-06-06T08:45:23.214Z"
   },
   {
    "duration": 39,
    "start_time": "2022-06-06T08:45:24.160Z"
   },
   {
    "duration": 29,
    "start_time": "2022-06-06T08:45:24.624Z"
   },
   {
    "duration": 24,
    "start_time": "2022-06-06T08:45:25.602Z"
   },
   {
    "duration": 45,
    "start_time": "2022-06-06T08:45:26.718Z"
   },
   {
    "duration": 21,
    "start_time": "2022-06-06T08:45:27.657Z"
   },
   {
    "duration": 26,
    "start_time": "2022-06-06T08:45:28.552Z"
   },
   {
    "duration": 17,
    "start_time": "2022-06-06T08:45:29.482Z"
   },
   {
    "duration": 52,
    "start_time": "2022-06-06T08:45:29.954Z"
   },
   {
    "duration": 23,
    "start_time": "2022-06-06T08:45:44.766Z"
   },
   {
    "duration": 33,
    "start_time": "2022-06-06T08:45:45.282Z"
   },
   {
    "duration": 19,
    "start_time": "2022-06-06T08:45:45.990Z"
   },
   {
    "duration": 57,
    "start_time": "2022-06-06T08:45:50.062Z"
   },
   {
    "duration": 10,
    "start_time": "2022-06-06T08:45:51.549Z"
   },
   {
    "duration": 29,
    "start_time": "2022-06-06T08:45:52.111Z"
   },
   {
    "duration": 42,
    "start_time": "2022-06-06T08:45:52.961Z"
   },
   {
    "duration": 64,
    "start_time": "2022-06-06T08:45:54.360Z"
   },
   {
    "duration": 31,
    "start_time": "2022-06-06T08:47:01.757Z"
   },
   {
    "duration": 620,
    "start_time": "2022-06-06T08:47:34.364Z"
   },
   {
    "duration": 543,
    "start_time": "2022-06-06T08:49:25.755Z"
   },
   {
    "duration": 7,
    "start_time": "2022-06-06T08:49:46.890Z"
   },
   {
    "duration": 19,
    "start_time": "2022-06-06T08:51:21.359Z"
   },
   {
    "duration": 15,
    "start_time": "2022-06-06T08:51:53.382Z"
   },
   {
    "duration": 25,
    "start_time": "2022-06-06T08:52:17.184Z"
   },
   {
    "duration": 26,
    "start_time": "2022-06-06T08:52:38.049Z"
   },
   {
    "duration": 25,
    "start_time": "2022-06-06T08:53:42.908Z"
   },
   {
    "duration": 12,
    "start_time": "2022-06-06T08:54:34.982Z"
   },
   {
    "duration": 12,
    "start_time": "2022-06-06T08:55:02.793Z"
   },
   {
    "duration": 5,
    "start_time": "2022-06-06T08:56:28.468Z"
   },
   {
    "duration": 16,
    "start_time": "2022-06-06T08:56:42.107Z"
   },
   {
    "duration": 19,
    "start_time": "2022-06-06T08:58:09.663Z"
   },
   {
    "duration": 13,
    "start_time": "2022-06-06T09:04:53.636Z"
   },
   {
    "duration": 13,
    "start_time": "2022-06-06T09:11:00.685Z"
   },
   {
    "duration": 17,
    "start_time": "2022-06-06T09:11:09.740Z"
   },
   {
    "duration": 22,
    "start_time": "2022-06-06T09:13:11.118Z"
   },
   {
    "duration": 145,
    "start_time": "2022-06-06T09:13:37.091Z"
   },
   {
    "duration": 146,
    "start_time": "2022-06-06T09:13:59.606Z"
   },
   {
    "duration": 263,
    "start_time": "2022-06-06T09:14:33.490Z"
   },
   {
    "duration": 826,
    "start_time": "2022-06-06T09:14:55.576Z"
   },
   {
    "duration": 708,
    "start_time": "2022-06-06T09:15:06.481Z"
   },
   {
    "duration": 14,
    "start_time": "2022-06-06T09:26:07.932Z"
   },
   {
    "duration": 24,
    "start_time": "2022-06-06T09:26:29.775Z"
   },
   {
    "duration": 33,
    "start_time": "2022-06-06T09:30:42.418Z"
   },
   {
    "duration": 35,
    "start_time": "2022-06-06T09:31:05.796Z"
   },
   {
    "duration": 38,
    "start_time": "2022-06-06T09:31:29.099Z"
   },
   {
    "duration": 19,
    "start_time": "2022-06-06T09:32:23.861Z"
   },
   {
    "duration": 82,
    "start_time": "2022-06-06T09:36:00.504Z"
   },
   {
    "duration": 80,
    "start_time": "2022-06-06T09:36:19.888Z"
   },
   {
    "duration": 78,
    "start_time": "2022-06-06T09:36:28.244Z"
   },
   {
    "duration": 97,
    "start_time": "2022-06-06T09:36:53.279Z"
   },
   {
    "duration": 97,
    "start_time": "2022-06-06T09:37:15.146Z"
   },
   {
    "duration": 5,
    "start_time": "2022-06-06T09:40:33.901Z"
   },
   {
    "duration": 16,
    "start_time": "2022-06-06T09:40:51.308Z"
   },
   {
    "duration": 19,
    "start_time": "2022-06-06T09:41:15.874Z"
   },
   {
    "duration": 18,
    "start_time": "2022-06-06T09:41:23.784Z"
   },
   {
    "duration": 19,
    "start_time": "2022-06-06T09:45:39.538Z"
   },
   {
    "duration": 21,
    "start_time": "2022-06-06T09:46:03.147Z"
   },
   {
    "duration": 16,
    "start_time": "2022-06-06T09:46:57.407Z"
   },
   {
    "duration": 16,
    "start_time": "2022-06-06T09:47:50.941Z"
   },
   {
    "duration": 16,
    "start_time": "2022-06-06T09:48:34.243Z"
   },
   {
    "duration": 16,
    "start_time": "2022-06-06T09:48:55.778Z"
   },
   {
    "duration": 41,
    "start_time": "2022-06-06T09:53:55.642Z"
   },
   {
    "duration": 48,
    "start_time": "2022-06-06T09:54:44.142Z"
   },
   {
    "duration": 370,
    "start_time": "2022-06-06T09:56:28.281Z"
   },
   {
    "duration": 649,
    "start_time": "2022-06-06T09:57:12.655Z"
   },
   {
    "duration": 563,
    "start_time": "2022-06-06T09:58:03.348Z"
   },
   {
    "duration": 1493,
    "start_time": "2022-06-06T09:59:23.329Z"
   },
   {
    "duration": 407,
    "start_time": "2022-06-06T09:59:26.043Z"
   },
   {
    "duration": 4,
    "start_time": "2022-06-06T09:59:26.603Z"
   },
   {
    "duration": 31,
    "start_time": "2022-06-06T09:59:27.318Z"
   },
   {
    "duration": 16,
    "start_time": "2022-06-06T09:59:27.743Z"
   },
   {
    "duration": 116,
    "start_time": "2022-06-06T09:59:27.954Z"
   },
   {
    "duration": 36,
    "start_time": "2022-06-06T09:59:28.175Z"
   },
   {
    "duration": 7,
    "start_time": "2022-06-06T09:59:29.580Z"
   },
   {
    "duration": 41,
    "start_time": "2022-06-06T09:59:30.006Z"
   },
   {
    "duration": 20,
    "start_time": "2022-06-06T09:59:30.496Z"
   },
   {
    "duration": 11,
    "start_time": "2022-06-06T09:59:31.277Z"
   },
   {
    "duration": 30,
    "start_time": "2022-06-06T09:59:31.712Z"
   },
   {
    "duration": 44,
    "start_time": "2022-06-06T09:59:32.249Z"
   },
   {
    "duration": 12,
    "start_time": "2022-06-06T09:59:32.503Z"
   },
   {
    "duration": 23,
    "start_time": "2022-06-06T09:59:32.740Z"
   },
   {
    "duration": 51,
    "start_time": "2022-06-06T09:59:33.009Z"
   },
   {
    "duration": 22,
    "start_time": "2022-06-06T09:59:33.264Z"
   },
   {
    "duration": 10,
    "start_time": "2022-06-06T09:59:33.810Z"
   },
   {
    "duration": 40,
    "start_time": "2022-06-06T09:59:34.063Z"
   },
   {
    "duration": 6,
    "start_time": "2022-06-06T09:59:35.267Z"
   },
   {
    "duration": 5,
    "start_time": "2022-06-06T09:59:35.768Z"
   },
   {
    "duration": 4,
    "start_time": "2022-06-06T09:59:36.657Z"
   },
   {
    "duration": 2649,
    "start_time": "2022-06-06T09:59:36.971Z"
   },
   {
    "duration": 12,
    "start_time": "2022-06-06T09:59:39.638Z"
   },
   {
    "duration": 4407,
    "start_time": "2022-06-06T09:59:39.651Z"
   },
   {
    "duration": 1086,
    "start_time": "2022-06-06T09:59:44.061Z"
   },
   {
    "duration": 2357,
    "start_time": "2022-06-06T09:59:45.152Z"
   },
   {
    "duration": 33,
    "start_time": "2022-06-06T09:59:47.511Z"
   },
   {
    "duration": 18,
    "start_time": "2022-06-06T09:59:47.546Z"
   },
   {
    "duration": 83,
    "start_time": "2022-06-06T09:59:47.566Z"
   },
   {
    "duration": 4,
    "start_time": "2022-06-06T09:59:47.654Z"
   },
   {
    "duration": 79,
    "start_time": "2022-06-06T09:59:47.660Z"
   },
   {
    "duration": 79,
    "start_time": "2022-06-06T09:59:47.740Z"
   },
   {
    "duration": 88,
    "start_time": "2022-06-06T09:59:47.821Z"
   },
   {
    "duration": 46,
    "start_time": "2022-06-06T09:59:47.911Z"
   },
   {
    "duration": 91,
    "start_time": "2022-06-06T09:59:48.173Z"
   },
   {
    "duration": 37,
    "start_time": "2022-06-06T09:59:49.250Z"
   },
   {
    "duration": 82,
    "start_time": "2022-06-06T09:59:50.166Z"
   },
   {
    "duration": 36,
    "start_time": "2022-06-06T09:59:51.454Z"
   },
   {
    "duration": 21,
    "start_time": "2022-06-06T09:59:51.895Z"
   },
   {
    "duration": 35,
    "start_time": "2022-06-06T09:59:52.819Z"
   },
   {
    "duration": 38,
    "start_time": "2022-06-06T09:59:53.759Z"
   },
   {
    "duration": 20,
    "start_time": "2022-06-06T09:59:54.563Z"
   },
   {
    "duration": 34,
    "start_time": "2022-06-06T09:59:55.420Z"
   },
   {
    "duration": 20,
    "start_time": "2022-06-06T09:59:56.223Z"
   },
   {
    "duration": 47,
    "start_time": "2022-06-06T09:59:56.660Z"
   },
   {
    "duration": 19,
    "start_time": "2022-06-06T09:59:58.690Z"
   },
   {
    "duration": 21,
    "start_time": "2022-06-06T09:59:59.151Z"
   },
   {
    "duration": 16,
    "start_time": "2022-06-06T09:59:59.586Z"
   },
   {
    "duration": 69,
    "start_time": "2022-06-06T10:00:03.489Z"
   },
   {
    "duration": 11,
    "start_time": "2022-06-06T10:00:05.279Z"
   },
   {
    "duration": 34,
    "start_time": "2022-06-06T10:00:05.727Z"
   },
   {
    "duration": 45,
    "start_time": "2022-06-06T10:00:07.026Z"
   },
   {
    "duration": 62,
    "start_time": "2022-06-06T10:00:10.353Z"
   },
   {
    "duration": 46,
    "start_time": "2022-06-06T10:00:22.586Z"
   },
   {
    "duration": 25,
    "start_time": "2022-06-06T10:00:34.099Z"
   },
   {
    "duration": 6,
    "start_time": "2022-06-06T10:00:34.754Z"
   },
   {
    "duration": 12,
    "start_time": "2022-06-06T10:00:35.413Z"
   },
   {
    "duration": 39,
    "start_time": "2022-06-06T10:02:42.967Z"
   },
   {
    "duration": 214,
    "start_time": "2022-06-06T10:03:05.616Z"
   },
   {
    "duration": 48,
    "start_time": "2022-06-06T10:03:16.542Z"
   },
   {
    "duration": 42,
    "start_time": "2022-06-06T10:03:32.650Z"
   },
   {
    "duration": 17,
    "start_time": "2022-06-06T10:04:52.053Z"
   },
   {
    "duration": 90,
    "start_time": "2022-06-06T10:05:17.449Z"
   },
   {
    "duration": 181,
    "start_time": "2022-06-06T10:05:46.225Z"
   },
   {
    "duration": 95,
    "start_time": "2022-06-06T10:05:57.455Z"
   },
   {
    "duration": 94,
    "start_time": "2022-06-06T10:06:17.706Z"
   },
   {
    "duration": 20,
    "start_time": "2022-06-06T10:06:49.491Z"
   },
   {
    "duration": 67,
    "start_time": "2022-06-06T10:11:31.919Z"
   },
   {
    "duration": 20,
    "start_time": "2022-06-06T10:11:39.352Z"
   },
   {
    "duration": 26,
    "start_time": "2022-06-06T10:12:03.808Z"
   },
   {
    "duration": 21,
    "start_time": "2022-06-06T10:12:26.519Z"
   },
   {
    "duration": 17,
    "start_time": "2022-06-06T10:12:52.589Z"
   },
   {
    "duration": 17,
    "start_time": "2022-06-06T10:13:23.696Z"
   },
   {
    "duration": 20,
    "start_time": "2022-06-06T10:15:23.734Z"
   },
   {
    "duration": 19,
    "start_time": "2022-06-06T10:15:33.262Z"
   },
   {
    "duration": 23,
    "start_time": "2022-06-06T10:17:21.773Z"
   },
   {
    "duration": 19,
    "start_time": "2022-06-06T10:20:36.753Z"
   },
   {
    "duration": 35,
    "start_time": "2022-06-06T10:22:00.869Z"
   },
   {
    "duration": 42,
    "start_time": "2022-06-06T10:22:24.398Z"
   },
   {
    "duration": 21,
    "start_time": "2022-06-06T10:23:08.951Z"
   },
   {
    "duration": 32,
    "start_time": "2022-06-06T10:23:16.979Z"
   },
   {
    "duration": 366,
    "start_time": "2022-06-06T10:23:57.826Z"
   },
   {
    "duration": 42,
    "start_time": "2022-06-06T10:24:32.022Z"
   },
   {
    "duration": 35,
    "start_time": "2022-06-06T10:25:04.476Z"
   },
   {
    "duration": 597,
    "start_time": "2022-06-06T10:26:03.982Z"
   },
   {
    "duration": 16,
    "start_time": "2022-06-06T10:27:14.934Z"
   },
   {
    "duration": 15,
    "start_time": "2022-06-06T10:27:33.404Z"
   },
   {
    "duration": 329,
    "start_time": "2022-06-06T10:31:09.606Z"
   },
   {
    "duration": 17,
    "start_time": "2022-06-06T10:31:55.517Z"
   },
   {
    "duration": 17,
    "start_time": "2022-06-06T10:32:41.885Z"
   },
   {
    "duration": 16,
    "start_time": "2022-06-06T10:41:11.563Z"
   },
   {
    "duration": 16,
    "start_time": "2022-06-06T10:41:21.641Z"
   },
   {
    "duration": 17,
    "start_time": "2022-06-06T10:49:14.166Z"
   },
   {
    "duration": 13,
    "start_time": "2022-06-06T10:50:41.624Z"
   },
   {
    "duration": 4,
    "start_time": "2022-06-06T11:03:05.323Z"
   },
   {
    "duration": 13,
    "start_time": "2022-06-06T11:03:10.050Z"
   },
   {
    "duration": 19,
    "start_time": "2022-06-06T11:03:53.432Z"
   },
   {
    "duration": 13,
    "start_time": "2022-06-06T11:04:34.882Z"
   },
   {
    "duration": 21,
    "start_time": "2022-06-06T11:17:12.488Z"
   },
   {
    "duration": 1634,
    "start_time": "2022-06-06T11:17:33.610Z"
   },
   {
    "duration": 334,
    "start_time": "2022-06-06T11:17:37.164Z"
   },
   {
    "duration": 3,
    "start_time": "2022-06-06T11:17:37.602Z"
   },
   {
    "duration": 19,
    "start_time": "2022-06-06T11:17:38.024Z"
   },
   {
    "duration": 10,
    "start_time": "2022-06-06T11:17:38.420Z"
   },
   {
    "duration": 85,
    "start_time": "2022-06-06T11:17:38.856Z"
   },
   {
    "duration": 35,
    "start_time": "2022-06-06T11:17:39.179Z"
   },
   {
    "duration": 7,
    "start_time": "2022-06-06T11:17:40.354Z"
   },
   {
    "duration": 34,
    "start_time": "2022-06-06T11:17:40.719Z"
   },
   {
    "duration": 20,
    "start_time": "2022-06-06T11:17:41.040Z"
   },
   {
    "duration": 11,
    "start_time": "2022-06-06T11:17:41.488Z"
   },
   {
    "duration": 32,
    "start_time": "2022-06-06T11:17:41.795Z"
   },
   {
    "duration": 25,
    "start_time": "2022-06-06T11:17:42.087Z"
   },
   {
    "duration": 11,
    "start_time": "2022-06-06T11:17:42.262Z"
   },
   {
    "duration": 18,
    "start_time": "2022-06-06T11:17:42.406Z"
   },
   {
    "duration": 34,
    "start_time": "2022-06-06T11:17:42.598Z"
   },
   {
    "duration": 16,
    "start_time": "2022-06-06T11:17:42.811Z"
   },
   {
    "duration": 13,
    "start_time": "2022-06-06T11:17:43.388Z"
   },
   {
    "duration": 56,
    "start_time": "2022-06-06T11:17:43.640Z"
   },
   {
    "duration": 5,
    "start_time": "2022-06-06T11:17:45.862Z"
   },
   {
    "duration": 4,
    "start_time": "2022-06-06T11:17:46.261Z"
   },
   {
    "duration": 3,
    "start_time": "2022-06-06T11:17:46.887Z"
   },
   {
    "duration": 2308,
    "start_time": "2022-06-06T11:17:47.095Z"
   },
   {
    "duration": 4,
    "start_time": "2022-06-06T11:17:49.406Z"
   },
   {
    "duration": 4257,
    "start_time": "2022-06-06T11:17:49.411Z"
   },
   {
    "duration": 1072,
    "start_time": "2022-06-06T11:17:53.671Z"
   },
   {
    "duration": 2426,
    "start_time": "2022-06-06T11:17:54.745Z"
   },
   {
    "duration": 13,
    "start_time": "2022-06-06T11:17:57.173Z"
   },
   {
    "duration": 46,
    "start_time": "2022-06-06T11:17:57.188Z"
   },
   {
    "duration": 109,
    "start_time": "2022-06-06T11:17:57.236Z"
   },
   {
    "duration": 4,
    "start_time": "2022-06-06T11:17:57.348Z"
   },
   {
    "duration": 103,
    "start_time": "2022-06-06T11:17:57.354Z"
   },
   {
    "duration": 75,
    "start_time": "2022-06-06T11:17:57.459Z"
   },
   {
    "duration": 68,
    "start_time": "2022-06-06T11:17:57.536Z"
   },
   {
    "duration": 22,
    "start_time": "2022-06-06T11:17:57.753Z"
   },
   {
    "duration": 72,
    "start_time": "2022-06-06T11:17:58.787Z"
   },
   {
    "duration": 29,
    "start_time": "2022-06-06T11:17:59.877Z"
   },
   {
    "duration": 73,
    "start_time": "2022-06-06T11:18:01.158Z"
   },
   {
    "duration": 44,
    "start_time": "2022-06-06T11:18:02.154Z"
   },
   {
    "duration": 27,
    "start_time": "2022-06-06T11:18:02.606Z"
   },
   {
    "duration": 21,
    "start_time": "2022-06-06T11:18:03.536Z"
   },
   {
    "duration": 49,
    "start_time": "2022-06-06T11:18:04.393Z"
   },
   {
    "duration": 31,
    "start_time": "2022-06-06T11:18:05.316Z"
   },
   {
    "duration": 26,
    "start_time": "2022-06-06T11:18:06.951Z"
   },
   {
    "duration": 21,
    "start_time": "2022-06-06T11:18:08.037Z"
   },
   {
    "duration": 59,
    "start_time": "2022-06-06T11:18:09.894Z"
   },
   {
    "duration": 19,
    "start_time": "2022-06-06T11:18:17.150Z"
   },
   {
    "duration": 22,
    "start_time": "2022-06-06T11:18:21.015Z"
   },
   {
    "duration": 18,
    "start_time": "2022-06-06T11:18:21.661Z"
   },
   {
    "duration": 65,
    "start_time": "2022-06-06T11:18:23.405Z"
   },
   {
    "duration": 20,
    "start_time": "2022-06-06T11:18:31.137Z"
   },
   {
    "duration": 46,
    "start_time": "2022-06-06T11:18:32.917Z"
   },
   {
    "duration": 33,
    "start_time": "2022-06-06T11:18:34.163Z"
   },
   {
    "duration": 63,
    "start_time": "2022-06-06T11:18:38.735Z"
   },
   {
    "duration": 49,
    "start_time": "2022-06-06T11:18:41.411Z"
   },
   {
    "duration": 26,
    "start_time": "2022-06-06T11:18:49.816Z"
   },
   {
    "duration": 21,
    "start_time": "2022-06-06T11:18:50.832Z"
   },
   {
    "duration": 30,
    "start_time": "2022-06-06T11:19:37.552Z"
   },
   {
    "duration": 45,
    "start_time": "2022-06-06T11:21:01.155Z"
   },
   {
    "duration": 7,
    "start_time": "2022-06-06T11:22:41.368Z"
   },
   {
    "duration": 30,
    "start_time": "2022-06-06T11:22:42.478Z"
   },
   {
    "duration": 55,
    "start_time": "2022-06-06T11:23:39.410Z"
   },
   {
    "duration": 1354,
    "start_time": "2022-06-06T11:23:59.668Z"
   },
   {
    "duration": 277,
    "start_time": "2022-06-06T11:24:01.583Z"
   },
   {
    "duration": 3,
    "start_time": "2022-06-06T11:24:02.016Z"
   },
   {
    "duration": 16,
    "start_time": "2022-06-06T11:24:02.235Z"
   },
   {
    "duration": 8,
    "start_time": "2022-06-06T11:24:02.435Z"
   },
   {
    "duration": 90,
    "start_time": "2022-06-06T11:24:02.596Z"
   },
   {
    "duration": 28,
    "start_time": "2022-06-06T11:24:02.761Z"
   },
   {
    "duration": 8,
    "start_time": "2022-06-06T11:24:03.511Z"
   },
   {
    "duration": 42,
    "start_time": "2022-06-06T11:24:03.816Z"
   },
   {
    "duration": 19,
    "start_time": "2022-06-06T11:24:04.176Z"
   },
   {
    "duration": 11,
    "start_time": "2022-06-06T11:24:04.778Z"
   },
   {
    "duration": 29,
    "start_time": "2022-06-06T11:24:05.197Z"
   },
   {
    "duration": 36,
    "start_time": "2022-06-06T11:24:05.814Z"
   },
   {
    "duration": 11,
    "start_time": "2022-06-06T11:24:06.150Z"
   },
   {
    "duration": 17,
    "start_time": "2022-06-06T11:24:06.425Z"
   },
   {
    "duration": 35,
    "start_time": "2022-06-06T11:24:06.652Z"
   },
   {
    "duration": 16,
    "start_time": "2022-06-06T11:24:06.913Z"
   },
   {
    "duration": 9,
    "start_time": "2022-06-06T11:24:07.341Z"
   },
   {
    "duration": 37,
    "start_time": "2022-06-06T11:24:07.570Z"
   },
   {
    "duration": 5,
    "start_time": "2022-06-06T11:24:08.555Z"
   },
   {
    "duration": 6,
    "start_time": "2022-06-06T11:24:08.986Z"
   },
   {
    "duration": 5,
    "start_time": "2022-06-06T11:24:09.664Z"
   },
   {
    "duration": 2296,
    "start_time": "2022-06-06T11:24:09.910Z"
   },
   {
    "duration": 4,
    "start_time": "2022-06-06T11:24:12.208Z"
   },
   {
    "duration": 4557,
    "start_time": "2022-06-06T11:24:12.226Z"
   },
   {
    "duration": 1077,
    "start_time": "2022-06-06T11:24:16.785Z"
   },
   {
    "duration": 2415,
    "start_time": "2022-06-06T11:24:17.864Z"
   },
   {
    "duration": 17,
    "start_time": "2022-06-06T11:24:20.280Z"
   },
   {
    "duration": 43,
    "start_time": "2022-06-06T11:24:20.299Z"
   },
   {
    "duration": 75,
    "start_time": "2022-06-06T11:24:20.344Z"
   },
   {
    "duration": 9,
    "start_time": "2022-06-06T11:24:20.421Z"
   },
   {
    "duration": 77,
    "start_time": "2022-06-06T11:24:20.433Z"
   },
   {
    "duration": 63,
    "start_time": "2022-06-06T11:24:20.512Z"
   },
   {
    "duration": 107,
    "start_time": "2022-06-06T11:24:20.577Z"
   },
   {
    "duration": 21,
    "start_time": "2022-06-06T11:24:20.686Z"
   },
   {
    "duration": 85,
    "start_time": "2022-06-06T11:24:20.709Z"
   },
   {
    "duration": 48,
    "start_time": "2022-06-06T11:24:20.795Z"
   },
   {
    "duration": 82,
    "start_time": "2022-06-06T11:24:20.845Z"
   },
   {
    "duration": 38,
    "start_time": "2022-06-06T11:24:20.929Z"
   },
   {
    "duration": 23,
    "start_time": "2022-06-06T11:24:20.969Z"
   },
   {
    "duration": 48,
    "start_time": "2022-06-06T11:24:20.994Z"
   },
   {
    "duration": 46,
    "start_time": "2022-06-06T11:24:21.044Z"
   },
   {
    "duration": 47,
    "start_time": "2022-06-06T11:24:21.092Z"
   },
   {
    "duration": 27,
    "start_time": "2022-06-06T11:24:21.715Z"
   },
   {
    "duration": 17,
    "start_time": "2022-06-06T11:24:22.049Z"
   },
   {
    "duration": 52,
    "start_time": "2022-06-06T11:24:22.243Z"
   },
   {
    "duration": 21,
    "start_time": "2022-06-06T11:24:23.560Z"
   },
   {
    "duration": 24,
    "start_time": "2022-06-06T11:24:23.811Z"
   },
   {
    "duration": 23,
    "start_time": "2022-06-06T11:24:24.443Z"
   },
   {
    "duration": 61,
    "start_time": "2022-06-06T11:24:25.569Z"
   },
   {
    "duration": 10,
    "start_time": "2022-06-06T11:24:27.153Z"
   },
   {
    "duration": 20,
    "start_time": "2022-06-06T11:24:27.599Z"
   },
   {
    "duration": 35,
    "start_time": "2022-06-06T11:24:28.425Z"
   },
   {
    "duration": 49,
    "start_time": "2022-06-06T11:24:29.566Z"
   },
   {
    "duration": 50,
    "start_time": "2022-06-06T11:24:36.240Z"
   },
   {
    "duration": 38,
    "start_time": "2022-06-06T11:25:22.611Z"
   },
   {
    "duration": 6,
    "start_time": "2022-06-06T11:25:34.700Z"
   },
   {
    "duration": 28,
    "start_time": "2022-06-06T11:25:35.868Z"
   },
   {
    "duration": 6,
    "start_time": "2022-06-06T11:26:17.622Z"
   },
   {
    "duration": 38,
    "start_time": "2022-06-06T11:26:18.677Z"
   },
   {
    "duration": 10,
    "start_time": "2022-06-06T11:28:14.639Z"
   },
   {
    "duration": 278,
    "start_time": "2022-06-06T11:29:27.751Z"
   },
   {
    "duration": 31,
    "start_time": "2022-06-06T11:30:16.477Z"
   },
   {
    "duration": 31,
    "start_time": "2022-06-06T11:30:34.008Z"
   },
   {
    "duration": 26,
    "start_time": "2022-06-06T11:30:51.376Z"
   },
   {
    "duration": 20,
    "start_time": "2022-06-06T11:31:31.342Z"
   },
   {
    "duration": 17,
    "start_time": "2022-06-06T11:32:13.669Z"
   },
   {
    "duration": 29,
    "start_time": "2022-06-06T11:32:54.600Z"
   },
   {
    "duration": 6,
    "start_time": "2022-06-06T11:32:55.142Z"
   },
   {
    "duration": 30,
    "start_time": "2022-06-06T11:33:22.302Z"
   },
   {
    "duration": 6,
    "start_time": "2022-06-06T11:33:23.712Z"
   },
   {
    "duration": 26,
    "start_time": "2022-06-06T11:33:35.995Z"
   },
   {
    "duration": 6,
    "start_time": "2022-06-06T11:33:36.666Z"
   },
   {
    "duration": 37,
    "start_time": "2022-06-06T11:34:13.194Z"
   },
   {
    "duration": 28,
    "start_time": "2022-06-06T11:35:02.337Z"
   },
   {
    "duration": 7,
    "start_time": "2022-06-06T11:35:05.511Z"
   },
   {
    "duration": 176,
    "start_time": "2022-06-06T11:36:16.559Z"
   },
   {
    "duration": 27,
    "start_time": "2022-06-06T11:37:04.930Z"
   },
   {
    "duration": 7,
    "start_time": "2022-06-06T11:37:08.254Z"
   },
   {
    "duration": 32,
    "start_time": "2022-06-06T11:38:48.184Z"
   },
   {
    "duration": 6,
    "start_time": "2022-06-06T11:38:48.881Z"
   },
   {
    "duration": 9,
    "start_time": "2022-06-06T11:42:13.859Z"
   },
   {
    "duration": 7,
    "start_time": "2022-06-06T11:42:23.725Z"
   },
   {
    "duration": 7,
    "start_time": "2022-06-06T11:42:47.567Z"
   },
   {
    "duration": 8,
    "start_time": "2022-06-06T11:43:06.970Z"
   },
   {
    "duration": 11,
    "start_time": "2022-06-06T11:43:18.453Z"
   },
   {
    "duration": 10,
    "start_time": "2022-06-06T11:43:25.778Z"
   },
   {
    "duration": 62,
    "start_time": "2022-06-06T11:43:43.585Z"
   },
   {
    "duration": 36,
    "start_time": "2022-06-06T11:43:51.799Z"
   },
   {
    "duration": 23,
    "start_time": "2022-06-06T11:44:06.964Z"
   },
   {
    "duration": 27,
    "start_time": "2022-06-06T11:44:21.981Z"
   },
   {
    "duration": 37,
    "start_time": "2022-06-06T11:45:23.409Z"
   },
   {
    "duration": 24,
    "start_time": "2022-06-06T11:45:28.145Z"
   },
   {
    "duration": 10,
    "start_time": "2022-06-06T11:46:07.897Z"
   },
   {
    "duration": 13,
    "start_time": "2022-06-06T11:46:46.447Z"
   },
   {
    "duration": 9,
    "start_time": "2022-06-06T11:47:15.937Z"
   },
   {
    "duration": 11,
    "start_time": "2022-06-06T11:48:05.051Z"
   },
   {
    "duration": 19,
    "start_time": "2022-06-06T11:48:20.067Z"
   },
   {
    "duration": 7,
    "start_time": "2022-06-06T11:50:28.464Z"
   },
   {
    "duration": 12,
    "start_time": "2022-06-06T11:54:43.593Z"
   },
   {
    "duration": 13,
    "start_time": "2022-06-06T11:54:55.054Z"
   },
   {
    "duration": 15,
    "start_time": "2022-06-06T11:56:18.426Z"
   },
   {
    "duration": 4,
    "start_time": "2022-06-06T11:57:34.117Z"
   },
   {
    "duration": 12,
    "start_time": "2022-06-06T11:57:42.877Z"
   },
   {
    "duration": 3,
    "start_time": "2022-06-06T11:57:56.475Z"
   },
   {
    "duration": 0,
    "start_time": "2022-06-06T11:59:22.077Z"
   },
   {
    "duration": 8,
    "start_time": "2022-06-06T11:59:31.880Z"
   },
   {
    "duration": 26,
    "start_time": "2022-06-06T11:59:50.277Z"
   },
   {
    "duration": 9,
    "start_time": "2022-06-06T12:00:22.008Z"
   },
   {
    "duration": 13,
    "start_time": "2022-06-06T12:06:11.254Z"
   },
   {
    "duration": 4,
    "start_time": "2022-06-06T12:06:58.907Z"
   },
   {
    "duration": 379,
    "start_time": "2022-06-06T12:06:59.546Z"
   },
   {
    "duration": 16,
    "start_time": "2022-06-06T12:07:27.660Z"
   },
   {
    "duration": 15,
    "start_time": "2022-06-06T12:07:48.799Z"
   },
   {
    "duration": 34,
    "start_time": "2022-06-06T12:08:05.814Z"
   },
   {
    "duration": 7,
    "start_time": "2022-06-06T12:08:08.250Z"
   },
   {
    "duration": 11,
    "start_time": "2022-06-06T12:08:13.417Z"
   },
   {
    "duration": 9,
    "start_time": "2022-06-06T12:08:42.607Z"
   },
   {
    "duration": 16,
    "start_time": "2022-06-06T12:09:46.154Z"
   },
   {
    "duration": 54,
    "start_time": "2022-06-06T12:10:11.050Z"
   },
   {
    "duration": 1112,
    "start_time": "2022-06-06T12:22:45.058Z"
   },
   {
    "duration": 548,
    "start_time": "2022-06-06T12:23:09.634Z"
   },
   {
    "duration": 540,
    "start_time": "2022-06-06T12:23:20.085Z"
   },
   {
    "duration": 6,
    "start_time": "2022-06-06T12:23:58.775Z"
   },
   {
    "duration": 31,
    "start_time": "2022-06-06T12:27:17.267Z"
   },
   {
    "duration": 569,
    "start_time": "2022-06-06T12:27:24.369Z"
   },
   {
    "duration": 4357,
    "start_time": "2022-06-06T12:27:30.918Z"
   },
   {
    "duration": 6,
    "start_time": "2022-06-06T12:27:44.690Z"
   },
   {
    "duration": 7,
    "start_time": "2022-06-06T12:28:02.568Z"
   },
   {
    "duration": 4483,
    "start_time": "2022-06-06T12:28:34.231Z"
   },
   {
    "duration": 4183,
    "start_time": "2022-06-06T12:29:47.294Z"
   },
   {
    "duration": 22,
    "start_time": "2022-06-06T12:30:54.452Z"
   },
   {
    "duration": 7,
    "start_time": "2022-06-06T12:31:32.914Z"
   },
   {
    "duration": 66,
    "start_time": "2022-06-06T12:36:20.061Z"
   },
   {
    "duration": 7,
    "start_time": "2022-06-06T12:37:08.212Z"
   },
   {
    "duration": 21,
    "start_time": "2022-06-06T12:37:51.876Z"
   },
   {
    "duration": 8,
    "start_time": "2022-06-06T12:38:33.258Z"
   },
   {
    "duration": 46,
    "start_time": "2022-06-06T12:38:36.705Z"
   },
   {
    "duration": 7,
    "start_time": "2022-06-06T12:40:16.323Z"
   },
   {
    "duration": 45,
    "start_time": "2022-06-06T12:40:18.532Z"
   },
   {
    "duration": 6,
    "start_time": "2022-06-06T12:43:02.483Z"
   },
   {
    "duration": 45,
    "start_time": "2022-06-06T12:43:04.679Z"
   },
   {
    "duration": 16,
    "start_time": "2022-06-06T12:44:21.875Z"
   },
   {
    "duration": 7,
    "start_time": "2022-06-06T12:44:25.010Z"
   },
   {
    "duration": 15,
    "start_time": "2022-06-06T12:44:32.285Z"
   },
   {
    "duration": 9,
    "start_time": "2022-06-06T12:44:41.262Z"
   },
   {
    "duration": 14,
    "start_time": "2022-06-06T12:44:42.583Z"
   },
   {
    "duration": 1262,
    "start_time": "2022-06-06T15:07:16.877Z"
   },
   {
    "duration": 352,
    "start_time": "2022-06-06T15:07:52.439Z"
   },
   {
    "duration": 2,
    "start_time": "2022-06-06T15:07:52.925Z"
   },
   {
    "duration": 15,
    "start_time": "2022-06-06T15:07:53.458Z"
   },
   {
    "duration": 6,
    "start_time": "2022-06-06T15:07:53.923Z"
   },
   {
    "duration": 73,
    "start_time": "2022-06-06T15:07:54.306Z"
   },
   {
    "duration": 27,
    "start_time": "2022-06-06T15:07:54.666Z"
   },
   {
    "duration": 7,
    "start_time": "2022-06-06T15:07:56.851Z"
   },
   {
    "duration": 34,
    "start_time": "2022-06-06T15:07:57.757Z"
   },
   {
    "duration": 19,
    "start_time": "2022-06-06T15:07:58.567Z"
   },
   {
    "duration": 9,
    "start_time": "2022-06-06T15:07:59.826Z"
   },
   {
    "duration": 21,
    "start_time": "2022-06-06T15:08:00.657Z"
   },
   {
    "duration": 25,
    "start_time": "2022-06-06T15:08:01.478Z"
   },
   {
    "duration": 11,
    "start_time": "2022-06-06T15:08:01.837Z"
   },
   {
    "duration": 12,
    "start_time": "2022-06-06T15:08:02.242Z"
   },
   {
    "duration": 32,
    "start_time": "2022-06-06T15:08:02.675Z"
   },
   {
    "duration": 16,
    "start_time": "2022-06-06T15:08:03.161Z"
   },
   {
    "duration": 8,
    "start_time": "2022-06-06T15:08:04.034Z"
   },
   {
    "duration": 33,
    "start_time": "2022-06-06T15:08:04.489Z"
   },
   {
    "duration": 5,
    "start_time": "2022-06-06T15:08:26.924Z"
   },
   {
    "duration": 5,
    "start_time": "2022-06-06T15:08:27.781Z"
   },
   {
    "duration": 3,
    "start_time": "2022-06-06T15:08:29.022Z"
   },
   {
    "duration": 2174,
    "start_time": "2022-06-06T15:08:29.684Z"
   },
   {
    "duration": 5,
    "start_time": "2022-06-06T15:08:31.860Z"
   },
   {
    "duration": 3943,
    "start_time": "2022-06-06T15:08:31.867Z"
   },
   {
    "duration": 1017,
    "start_time": "2022-06-06T15:08:35.812Z"
   },
   {
    "duration": 1999,
    "start_time": "2022-06-06T15:08:36.830Z"
   },
   {
    "duration": 13,
    "start_time": "2022-06-06T15:08:38.831Z"
   },
   {
    "duration": 15,
    "start_time": "2022-06-06T15:08:38.845Z"
   },
   {
    "duration": 83,
    "start_time": "2022-06-06T15:08:38.862Z"
   },
   {
    "duration": 4,
    "start_time": "2022-06-06T15:08:38.947Z"
   },
   {
    "duration": 62,
    "start_time": "2022-06-06T15:08:38.952Z"
   },
   {
    "duration": 53,
    "start_time": "2022-06-06T15:08:39.027Z"
   },
   {
    "duration": 66,
    "start_time": "2022-06-06T15:08:39.233Z"
   },
   {
    "duration": 22,
    "start_time": "2022-06-06T15:08:53.718Z"
   },
   {
    "duration": 71,
    "start_time": "2022-06-06T15:08:54.719Z"
   },
   {
    "duration": 27,
    "start_time": "2022-06-06T15:08:55.613Z"
   },
   {
    "duration": 69,
    "start_time": "2022-06-06T15:08:56.531Z"
   },
   {
    "duration": 36,
    "start_time": "2022-06-06T15:09:17.401Z"
   },
   {
    "duration": 24,
    "start_time": "2022-06-06T15:09:17.841Z"
   },
   {
    "duration": 16,
    "start_time": "2022-06-06T15:09:18.736Z"
   },
   {
    "duration": 42,
    "start_time": "2022-06-06T15:09:19.687Z"
   },
   {
    "duration": 20,
    "start_time": "2022-06-06T15:09:20.708Z"
   },
   {
    "duration": 25,
    "start_time": "2022-06-06T15:09:23.474Z"
   },
   {
    "duration": 16,
    "start_time": "2022-06-06T15:09:24.675Z"
   },
   {
    "duration": 46,
    "start_time": "2022-06-06T15:09:26.802Z"
   },
   {
    "duration": 19,
    "start_time": "2022-06-06T15:09:29.119Z"
   },
   {
    "duration": 19,
    "start_time": "2022-06-06T15:09:29.688Z"
   },
   {
    "duration": 17,
    "start_time": "2022-06-06T15:09:45.189Z"
   },
   {
    "duration": 58,
    "start_time": "2022-06-06T15:09:46.187Z"
   },
   {
    "duration": 11,
    "start_time": "2022-06-06T15:09:53.094Z"
   },
   {
    "duration": 21,
    "start_time": "2022-06-06T15:09:53.657Z"
   },
   {
    "duration": 37,
    "start_time": "2022-06-06T15:09:54.830Z"
   },
   {
    "duration": 45,
    "start_time": "2022-06-06T15:09:59.116Z"
   },
   {
    "duration": 30,
    "start_time": "2022-06-06T15:10:28.270Z"
   },
   {
    "duration": 37,
    "start_time": "2022-06-06T15:11:22.198Z"
   },
   {
    "duration": 6,
    "start_time": "2022-06-06T15:11:22.631Z"
   },
   {
    "duration": 41,
    "start_time": "2022-06-06T15:11:23.090Z"
   },
   {
    "duration": 169,
    "start_time": "2022-06-06T15:11:54.806Z"
   },
   {
    "duration": 15,
    "start_time": "2022-06-06T15:12:26.636Z"
   },
   {
    "duration": 15,
    "start_time": "2022-06-06T15:13:37.236Z"
   },
   {
    "duration": 7,
    "start_time": "2022-06-06T15:13:42.055Z"
   },
   {
    "duration": 7,
    "start_time": "2022-06-06T15:13:58.891Z"
   },
   {
    "duration": 30,
    "start_time": "2022-06-06T15:14:16.977Z"
   },
   {
    "duration": 7,
    "start_time": "2022-06-06T15:14:39.215Z"
   },
   {
    "duration": 6,
    "start_time": "2022-06-06T15:15:07.346Z"
   },
   {
    "duration": 11,
    "start_time": "2022-06-06T15:15:15.548Z"
   },
   {
    "duration": 34,
    "start_time": "2022-06-06T15:18:25.268Z"
   },
   {
    "duration": 10,
    "start_time": "2022-06-06T15:20:00.859Z"
   },
   {
    "duration": 32,
    "start_time": "2022-06-06T15:20:24.323Z"
   },
   {
    "duration": 21,
    "start_time": "2022-06-06T15:21:48.091Z"
   },
   {
    "duration": 14,
    "start_time": "2022-06-06T15:22:00.373Z"
   },
   {
    "duration": 14,
    "start_time": "2022-06-06T15:22:36.162Z"
   },
   {
    "duration": 14,
    "start_time": "2022-06-06T15:22:57.205Z"
   },
   {
    "duration": 210,
    "start_time": "2022-06-06T15:24:15.035Z"
   },
   {
    "duration": 7,
    "start_time": "2022-06-06T15:31:10.290Z"
   },
   {
    "duration": 13,
    "start_time": "2022-06-06T15:31:30.477Z"
   },
   {
    "duration": 6,
    "start_time": "2022-06-06T15:32:41.917Z"
   },
   {
    "duration": 11,
    "start_time": "2022-06-06T15:33:13.533Z"
   },
   {
    "duration": 29,
    "start_time": "2022-06-06T15:33:54.222Z"
   },
   {
    "duration": 4,
    "start_time": "2022-06-06T15:35:19.547Z"
   },
   {
    "duration": 6,
    "start_time": "2022-06-06T15:35:20.262Z"
   },
   {
    "duration": 22,
    "start_time": "2022-06-06T15:35:21.551Z"
   },
   {
    "duration": 13,
    "start_time": "2022-06-06T15:35:59.170Z"
   },
   {
    "duration": 17,
    "start_time": "2022-06-06T15:36:16.794Z"
   },
   {
    "duration": 6,
    "start_time": "2022-06-06T15:36:35.209Z"
   },
   {
    "duration": 49,
    "start_time": "2022-06-06T15:36:36.082Z"
   },
   {
    "duration": 6,
    "start_time": "2022-06-06T15:37:23.732Z"
   },
   {
    "duration": 49,
    "start_time": "2022-06-06T15:37:26.108Z"
   },
   {
    "duration": 9,
    "start_time": "2022-06-06T15:37:51.257Z"
   },
   {
    "duration": 29,
    "start_time": "2022-06-06T15:37:54.118Z"
   },
   {
    "duration": 6,
    "start_time": "2022-06-06T15:39:18.543Z"
   },
   {
    "duration": 21,
    "start_time": "2022-06-06T15:39:19.902Z"
   },
   {
    "duration": 6,
    "start_time": "2022-06-06T15:39:51.491Z"
   },
   {
    "duration": 48,
    "start_time": "2022-06-06T15:39:52.123Z"
   },
   {
    "duration": 53,
    "start_time": "2022-06-06T15:41:20.466Z"
   },
   {
    "duration": 36,
    "start_time": "2022-06-06T15:42:18.556Z"
   },
   {
    "duration": 17,
    "start_time": "2022-06-06T15:45:12.235Z"
   },
   {
    "duration": 28,
    "start_time": "2022-06-06T15:45:20.227Z"
   },
   {
    "duration": 11,
    "start_time": "2022-06-06T15:45:28.352Z"
   },
   {
    "duration": 28,
    "start_time": "2022-06-06T15:46:17.986Z"
   },
   {
    "duration": 25,
    "start_time": "2022-06-06T15:46:36.495Z"
   },
   {
    "duration": 188,
    "start_time": "2022-06-06T15:47:49.334Z"
   },
   {
    "duration": 11,
    "start_time": "2022-06-06T16:12:04.645Z"
   },
   {
    "duration": 22,
    "start_time": "2022-06-06T16:14:11.315Z"
   },
   {
    "duration": 21,
    "start_time": "2022-06-06T16:15:00.978Z"
   },
   {
    "duration": 32,
    "start_time": "2022-06-06T16:18:53.836Z"
   },
   {
    "duration": 7,
    "start_time": "2022-06-06T16:21:23.136Z"
   },
   {
    "duration": 6,
    "start_time": "2022-06-06T16:21:36.767Z"
   },
   {
    "duration": 6,
    "start_time": "2022-06-06T16:21:53.857Z"
   },
   {
    "duration": 5,
    "start_time": "2022-06-06T16:22:05.121Z"
   },
   {
    "duration": 6,
    "start_time": "2022-06-06T16:22:36.692Z"
   },
   {
    "duration": 8,
    "start_time": "2022-06-06T16:32:49.736Z"
   },
   {
    "duration": 5,
    "start_time": "2022-06-06T16:32:57.631Z"
   },
   {
    "duration": 4,
    "start_time": "2022-06-06T16:33:19.441Z"
   },
   {
    "duration": 7,
    "start_time": "2022-06-06T16:33:20.050Z"
   },
   {
    "duration": 22,
    "start_time": "2022-06-06T16:43:27.692Z"
   },
   {
    "duration": 20,
    "start_time": "2022-06-06T16:44:53.708Z"
   },
   {
    "duration": 362,
    "start_time": "2022-06-06T16:45:23.916Z"
   },
   {
    "duration": 9,
    "start_time": "2022-06-06T16:46:33.660Z"
   },
   {
    "duration": 20,
    "start_time": "2022-06-06T16:49:43.605Z"
   },
   {
    "duration": 7,
    "start_time": "2022-06-06T16:50:39.928Z"
   },
   {
    "duration": 20,
    "start_time": "2022-06-06T16:52:20.279Z"
   },
   {
    "duration": 5,
    "start_time": "2022-06-06T16:55:16.612Z"
   },
   {
    "duration": 12,
    "start_time": "2022-06-06T17:17:00.596Z"
   },
   {
    "duration": 5,
    "start_time": "2022-06-06T17:17:39.407Z"
   },
   {
    "duration": 16,
    "start_time": "2022-06-06T17:17:40.156Z"
   },
   {
    "duration": 13,
    "start_time": "2022-06-06T17:26:53.397Z"
   },
   {
    "duration": 5,
    "start_time": "2022-06-06T17:27:21.703Z"
   },
   {
    "duration": 13,
    "start_time": "2022-06-06T17:27:29.121Z"
   },
   {
    "duration": 4,
    "start_time": "2022-06-06T17:27:43.195Z"
   },
   {
    "duration": 13,
    "start_time": "2022-06-06T17:27:49.662Z"
   },
   {
    "duration": 19,
    "start_time": "2022-06-06T17:28:01.100Z"
   },
   {
    "duration": 9,
    "start_time": "2022-06-06T17:28:34.892Z"
   },
   {
    "duration": 45,
    "start_time": "2022-06-06T17:29:22.725Z"
   },
   {
    "duration": 15,
    "start_time": "2022-06-06T17:29:31.510Z"
   },
   {
    "duration": 10,
    "start_time": "2022-06-06T17:30:03.639Z"
   },
   {
    "duration": 0,
    "start_time": "2022-06-06T17:33:59.845Z"
   },
   {
    "duration": 10,
    "start_time": "2022-06-06T17:34:01.652Z"
   },
   {
    "duration": 9,
    "start_time": "2022-06-06T17:53:32.798Z"
   },
   {
    "duration": 10,
    "start_time": "2022-06-06T17:53:54.959Z"
   },
   {
    "duration": 9,
    "start_time": "2022-06-06T17:54:33.200Z"
   },
   {
    "duration": 0,
    "start_time": "2022-06-06T17:55:06.983Z"
   },
   {
    "duration": 9,
    "start_time": "2022-06-06T17:55:08.521Z"
   },
   {
    "duration": 9,
    "start_time": "2022-06-06T17:57:04.935Z"
   },
   {
    "duration": 8,
    "start_time": "2022-06-06T17:57:19.891Z"
   },
   {
    "duration": 9,
    "start_time": "2022-06-06T17:57:48.884Z"
   },
   {
    "duration": 8,
    "start_time": "2022-06-06T17:58:19.553Z"
   },
   {
    "duration": 32,
    "start_time": "2022-06-06T17:59:43.361Z"
   },
   {
    "duration": 0,
    "start_time": "2022-06-06T18:01:20.854Z"
   },
   {
    "duration": 10,
    "start_time": "2022-06-06T18:01:22.848Z"
   },
   {
    "duration": 9,
    "start_time": "2022-06-06T18:01:25.523Z"
   },
   {
    "duration": 20,
    "start_time": "2022-06-06T18:28:35.670Z"
   },
   {
    "duration": 20,
    "start_time": "2022-06-06T18:29:37.075Z"
   },
   {
    "duration": 17,
    "start_time": "2022-06-06T18:29:49.852Z"
   },
   {
    "duration": 16,
    "start_time": "2022-06-06T18:30:32.743Z"
   },
   {
    "duration": 32,
    "start_time": "2022-06-06T18:31:39.139Z"
   },
   {
    "duration": 9,
    "start_time": "2022-06-06T18:32:11.045Z"
   },
   {
    "duration": 9,
    "start_time": "2022-06-06T18:36:12.856Z"
   },
   {
    "duration": 8,
    "start_time": "2022-06-06T18:36:24.518Z"
   },
   {
    "duration": 8,
    "start_time": "2022-06-06T18:36:32.331Z"
   },
   {
    "duration": 19,
    "start_time": "2022-06-06T18:37:27.100Z"
   },
   {
    "duration": 14,
    "start_time": "2022-06-06T18:38:58.612Z"
   },
   {
    "duration": 12,
    "start_time": "2022-06-06T18:40:51.347Z"
   },
   {
    "duration": 7,
    "start_time": "2022-06-06T18:41:39.569Z"
   },
   {
    "duration": 9,
    "start_time": "2022-06-06T18:42:03.104Z"
   },
   {
    "duration": 12,
    "start_time": "2022-06-06T18:42:16.536Z"
   },
   {
    "duration": 17,
    "start_time": "2022-06-06T18:43:01.377Z"
   },
   {
    "duration": 18,
    "start_time": "2022-06-06T18:43:06.930Z"
   },
   {
    "duration": 13,
    "start_time": "2022-06-06T18:43:33.644Z"
   },
   {
    "duration": 17,
    "start_time": "2022-06-06T18:43:43.719Z"
   },
   {
    "duration": 21,
    "start_time": "2022-06-06T18:43:48.752Z"
   },
   {
    "duration": 18,
    "start_time": "2022-06-06T18:45:09.764Z"
   },
   {
    "duration": 20,
    "start_time": "2022-06-06T18:45:12.969Z"
   },
   {
    "duration": 17,
    "start_time": "2022-06-06T18:45:35.852Z"
   },
   {
    "duration": 21,
    "start_time": "2022-06-06T18:45:46.675Z"
   },
   {
    "duration": 20,
    "start_time": "2022-06-06T18:48:08.680Z"
   },
   {
    "duration": 20,
    "start_time": "2022-06-06T18:48:27.897Z"
   },
   {
    "duration": 19,
    "start_time": "2022-06-06T18:48:41.563Z"
   },
   {
    "duration": 8,
    "start_time": "2022-06-06T18:48:45.206Z"
   },
   {
    "duration": 28,
    "start_time": "2022-06-06T18:59:45.082Z"
   },
   {
    "duration": 30,
    "start_time": "2022-06-06T19:00:04.725Z"
   },
   {
    "duration": 31,
    "start_time": "2022-06-06T19:00:32.239Z"
   },
   {
    "duration": 22,
    "start_time": "2022-06-06T19:02:01.720Z"
   },
   {
    "duration": 16,
    "start_time": "2022-06-06T19:02:25.706Z"
   },
   {
    "duration": 7,
    "start_time": "2022-06-06T19:02:42.167Z"
   },
   {
    "duration": 15,
    "start_time": "2022-06-06T19:04:06.573Z"
   },
   {
    "duration": 16,
    "start_time": "2022-06-06T19:05:08.554Z"
   },
   {
    "duration": 389,
    "start_time": "2022-06-06T19:05:22.322Z"
   },
   {
    "duration": 21,
    "start_time": "2022-06-06T19:05:50.304Z"
   },
   {
    "duration": 15,
    "start_time": "2022-06-06T19:06:09.588Z"
   },
   {
    "duration": 9,
    "start_time": "2022-06-06T19:06:16.884Z"
   },
   {
    "duration": 5,
    "start_time": "2022-06-06T19:06:34.469Z"
   },
   {
    "duration": 9,
    "start_time": "2022-06-06T19:06:44.851Z"
   },
   {
    "duration": 21,
    "start_time": "2022-06-06T19:07:10.185Z"
   },
   {
    "duration": 21,
    "start_time": "2022-06-06T19:07:19.372Z"
   },
   {
    "duration": 25,
    "start_time": "2022-06-06T19:07:29.517Z"
   },
   {
    "duration": 8,
    "start_time": "2022-06-06T19:07:44.777Z"
   },
   {
    "duration": 3,
    "start_time": "2022-06-06T19:07:56.873Z"
   },
   {
    "duration": 45,
    "start_time": "2022-06-06T19:08:05.572Z"
   },
   {
    "duration": 6,
    "start_time": "2022-06-06T19:16:00.669Z"
   },
   {
    "duration": 6,
    "start_time": "2022-06-06T19:16:07.912Z"
   },
   {
    "duration": 6,
    "start_time": "2022-06-06T19:16:08.538Z"
   },
   {
    "duration": 26,
    "start_time": "2022-06-06T19:25:31.199Z"
   },
   {
    "duration": 12,
    "start_time": "2022-06-06T19:31:52.818Z"
   },
   {
    "duration": 19,
    "start_time": "2022-06-06T19:32:36.848Z"
   },
   {
    "duration": 22,
    "start_time": "2022-06-06T19:34:09.738Z"
   },
   {
    "duration": 22,
    "start_time": "2022-06-06T19:34:23.803Z"
   },
   {
    "duration": 23,
    "start_time": "2022-06-06T19:36:03.818Z"
   },
   {
    "duration": 16,
    "start_time": "2022-06-06T19:36:12.420Z"
   },
   {
    "duration": 19,
    "start_time": "2022-06-06T19:40:16.249Z"
   },
   {
    "duration": 19,
    "start_time": "2022-06-06T19:40:35.907Z"
   },
   {
    "duration": 630,
    "start_time": "2022-06-06T19:41:16.508Z"
   },
   {
    "duration": 323,
    "start_time": "2022-06-06T19:41:39.967Z"
   },
   {
    "duration": 19,
    "start_time": "2022-06-06T19:42:26.078Z"
   },
   {
    "duration": 19,
    "start_time": "2022-06-06T19:42:52.437Z"
   },
   {
    "duration": 343,
    "start_time": "2022-06-06T19:43:20.839Z"
   },
   {
    "duration": 308,
    "start_time": "2022-06-06T19:43:37.412Z"
   },
   {
    "duration": 8,
    "start_time": "2022-06-06T19:43:52.971Z"
   },
   {
    "duration": 13,
    "start_time": "2022-06-06T19:44:02.198Z"
   },
   {
    "duration": 15,
    "start_time": "2022-06-06T19:44:50.138Z"
   },
   {
    "duration": 14,
    "start_time": "2022-06-06T19:45:30.342Z"
   },
   {
    "duration": 19,
    "start_time": "2022-06-06T19:45:51.790Z"
   },
   {
    "duration": 14,
    "start_time": "2022-06-06T19:46:06.858Z"
   },
   {
    "duration": 15,
    "start_time": "2022-06-06T19:46:18.479Z"
   },
   {
    "duration": 5,
    "start_time": "2022-06-06T19:46:23.074Z"
   },
   {
    "duration": 15,
    "start_time": "2022-06-06T19:46:42.739Z"
   },
   {
    "duration": 16,
    "start_time": "2022-06-06T19:47:06.252Z"
   },
   {
    "duration": 20,
    "start_time": "2022-06-06T19:47:21.802Z"
   },
   {
    "duration": 14,
    "start_time": "2022-06-06T19:47:33.774Z"
   },
   {
    "duration": 5,
    "start_time": "2022-06-06T19:47:36.491Z"
   },
   {
    "duration": 17,
    "start_time": "2022-06-06T19:50:33.121Z"
   },
   {
    "duration": 20,
    "start_time": "2022-06-06T19:51:15.380Z"
   },
   {
    "duration": 28,
    "start_time": "2022-06-06T19:51:18.964Z"
   },
   {
    "duration": 21,
    "start_time": "2022-06-06T19:51:48.880Z"
   },
   {
    "duration": 43,
    "start_time": "2022-06-06T19:51:57.624Z"
   },
   {
    "duration": 44,
    "start_time": "2022-06-06T19:52:29.587Z"
   },
   {
    "duration": 45,
    "start_time": "2022-06-06T19:52:38.282Z"
   },
   {
    "duration": 45,
    "start_time": "2022-06-06T19:53:45.317Z"
   },
   {
    "duration": 45,
    "start_time": "2022-06-06T19:53:59.565Z"
   },
   {
    "duration": 51,
    "start_time": "2022-06-06T19:54:14.954Z"
   },
   {
    "duration": 44,
    "start_time": "2022-06-06T19:58:50.162Z"
   },
   {
    "duration": 47,
    "start_time": "2022-06-06T20:00:11.070Z"
   },
   {
    "duration": 1632,
    "start_time": "2022-06-07T11:16:17.262Z"
   },
   {
    "duration": 259,
    "start_time": "2022-06-07T11:16:19.869Z"
   },
   {
    "duration": 3,
    "start_time": "2022-06-07T11:16:22.284Z"
   },
   {
    "duration": 16,
    "start_time": "2022-06-07T11:16:23.484Z"
   },
   {
    "duration": 7,
    "start_time": "2022-06-07T11:16:24.177Z"
   },
   {
    "duration": 91,
    "start_time": "2022-06-07T11:16:24.790Z"
   },
   {
    "duration": 28,
    "start_time": "2022-06-07T11:16:25.293Z"
   },
   {
    "duration": 11,
    "start_time": "2022-06-07T11:18:48.940Z"
   },
   {
    "duration": 63,
    "start_time": "2022-06-07T11:18:50.641Z"
   },
   {
    "duration": 34,
    "start_time": "2022-06-07T11:18:52.021Z"
   },
   {
    "duration": 12,
    "start_time": "2022-06-07T11:19:03.538Z"
   },
   {
    "duration": 36,
    "start_time": "2022-06-07T11:19:04.707Z"
   },
   {
    "duration": 47,
    "start_time": "2022-06-07T11:19:05.595Z"
   },
   {
    "duration": 17,
    "start_time": "2022-06-07T11:19:06.853Z"
   },
   {
    "duration": 20,
    "start_time": "2022-06-07T11:19:07.371Z"
   },
   {
    "duration": 42,
    "start_time": "2022-06-07T11:19:07.840Z"
   },
   {
    "duration": 17,
    "start_time": "2022-06-07T11:19:08.303Z"
   },
   {
    "duration": 9,
    "start_time": "2022-06-07T11:19:09.508Z"
   },
   {
    "duration": 35,
    "start_time": "2022-06-07T11:19:10.076Z"
   },
   {
    "duration": 5,
    "start_time": "2022-06-07T11:19:13.646Z"
   },
   {
    "duration": 5,
    "start_time": "2022-06-07T11:19:14.893Z"
   },
   {
    "duration": 4,
    "start_time": "2022-06-07T11:19:16.707Z"
   },
   {
    "duration": 2581,
    "start_time": "2022-06-07T11:19:17.457Z"
   },
   {
    "duration": 4,
    "start_time": "2022-06-07T11:19:36.964Z"
   },
   {
    "duration": 4700,
    "start_time": "2022-06-07T11:19:37.940Z"
   },
   {
    "duration": 1251,
    "start_time": "2022-06-07T11:19:42.643Z"
   },
   {
    "duration": 2390,
    "start_time": "2022-06-07T11:20:38.646Z"
   },
   {
    "duration": 21,
    "start_time": "2022-06-07T11:28:39.020Z"
   },
   {
    "duration": 16,
    "start_time": "2022-06-07T11:28:40.456Z"
   },
   {
    "duration": 184,
    "start_time": "2022-06-07T11:28:41.158Z"
   },
   {
    "duration": 4,
    "start_time": "2022-06-07T11:28:41.911Z"
   },
   {
    "duration": 99,
    "start_time": "2022-06-07T11:28:42.286Z"
   },
   {
    "duration": 66,
    "start_time": "2022-06-07T11:29:43.075Z"
   },
   {
    "duration": 77,
    "start_time": "2022-06-07T11:29:45.187Z"
   },
   {
    "duration": 29,
    "start_time": "2022-06-07T11:30:55.380Z"
   },
   {
    "duration": 86,
    "start_time": "2022-06-07T11:30:57.096Z"
   },
   {
    "duration": 44,
    "start_time": "2022-06-07T11:31:04.611Z"
   },
   {
    "duration": 112,
    "start_time": "2022-06-07T11:31:06.379Z"
   },
   {
    "duration": 56,
    "start_time": "2022-06-07T11:36:28.281Z"
   },
   {
    "duration": 53,
    "start_time": "2022-06-07T11:36:28.578Z"
   },
   {
    "duration": 28,
    "start_time": "2022-06-07T11:36:31.600Z"
   },
   {
    "duration": 57,
    "start_time": "2022-06-07T11:36:33.448Z"
   },
   {
    "duration": 24,
    "start_time": "2022-06-07T11:36:34.991Z"
   },
   {
    "duration": 30,
    "start_time": "2022-06-07T11:36:37.005Z"
   },
   {
    "duration": 16,
    "start_time": "2022-06-07T11:36:38.805Z"
   },
   {
    "duration": 48,
    "start_time": "2022-06-07T11:36:39.587Z"
   },
   {
    "duration": 20,
    "start_time": "2022-06-07T11:36:43.379Z"
   },
   {
    "duration": 21,
    "start_time": "2022-06-07T11:36:44.150Z"
   },
   {
    "duration": 18,
    "start_time": "2022-06-07T11:36:44.951Z"
   },
   {
    "duration": 57,
    "start_time": "2022-06-07T11:39:06.546Z"
   },
   {
    "duration": 18,
    "start_time": "2022-06-07T11:39:10.416Z"
   },
   {
    "duration": 21,
    "start_time": "2022-06-07T11:39:11.247Z"
   },
   {
    "duration": 34,
    "start_time": "2022-06-07T11:39:12.903Z"
   },
   {
    "duration": 58,
    "start_time": "2022-06-07T11:39:14.681Z"
   },
   {
    "duration": 44,
    "start_time": "2022-06-07T11:39:16.702Z"
   },
   {
    "duration": 45,
    "start_time": "2022-06-07T11:39:17.410Z"
   },
   {
    "duration": 7,
    "start_time": "2022-06-07T11:39:18.163Z"
   },
   {
    "duration": 17,
    "start_time": "2022-06-07T11:39:19.061Z"
   },
   {
    "duration": 178,
    "start_time": "2022-06-07T11:39:21.608Z"
   },
   {
    "duration": 17,
    "start_time": "2022-06-07T11:39:22.474Z"
   },
   {
    "duration": 27,
    "start_time": "2022-06-07T11:39:33.562Z"
   },
   {
    "duration": 51,
    "start_time": "2022-06-07T11:39:34.884Z"
   },
   {
    "duration": 49,
    "start_time": "2022-06-07T11:41:50.053Z"
   },
   {
    "duration": 85,
    "start_time": "2022-06-07T11:41:50.405Z"
   },
   {
    "duration": 105,
    "start_time": "2022-06-07T11:43:33.336Z"
   },
   {
    "duration": 7,
    "start_time": "2022-06-07T11:44:21.917Z"
   },
   {
    "duration": 31,
    "start_time": "2022-06-07T11:44:22.885Z"
   },
   {
    "duration": 6,
    "start_time": "2022-06-07T11:45:29.650Z"
   },
   {
    "duration": 18,
    "start_time": "2022-06-07T11:45:34.979Z"
   },
   {
    "duration": 24,
    "start_time": "2022-06-07T11:47:01.560Z"
   },
   {
    "duration": 13,
    "start_time": "2022-06-07T11:50:47.684Z"
   },
   {
    "duration": 35,
    "start_time": "2022-06-07T11:50:52.512Z"
   },
   {
    "duration": 16,
    "start_time": "2022-06-07T11:50:55.264Z"
   },
   {
    "duration": 9,
    "start_time": "2022-06-07T11:51:05.779Z"
   },
   {
    "duration": 14,
    "start_time": "2022-06-07T11:51:06.659Z"
   },
   {
    "duration": 8,
    "start_time": "2022-06-07T12:54:26.622Z"
   },
   {
    "duration": 9,
    "start_time": "2022-06-07T12:54:36.850Z"
   },
   {
    "duration": 11,
    "start_time": "2022-06-07T12:54:41.843Z"
   },
   {
    "duration": 29,
    "start_time": "2022-06-07T12:55:29.891Z"
   },
   {
    "duration": 31,
    "start_time": "2022-06-07T12:55:31.524Z"
   },
   {
    "duration": 14,
    "start_time": "2022-06-07T12:55:45.219Z"
   },
   {
    "duration": 14,
    "start_time": "2022-06-07T12:55:49.912Z"
   },
   {
    "duration": 23,
    "start_time": "2022-06-07T12:56:06.768Z"
   },
   {
    "duration": 36,
    "start_time": "2022-06-07T12:56:31.743Z"
   },
   {
    "duration": 30,
    "start_time": "2022-06-07T12:57:49.518Z"
   },
   {
    "duration": 16,
    "start_time": "2022-06-07T12:59:08.420Z"
   },
   {
    "duration": 41,
    "start_time": "2022-06-07T12:59:35.517Z"
   },
   {
    "duration": 12,
    "start_time": "2022-06-07T13:00:34.604Z"
   },
   {
    "duration": 27,
    "start_time": "2022-06-07T13:00:55.304Z"
   },
   {
    "duration": 22,
    "start_time": "2022-06-07T13:01:06.694Z"
   },
   {
    "duration": 33,
    "start_time": "2022-06-07T13:01:37.316Z"
   },
   {
    "duration": 22,
    "start_time": "2022-06-07T13:01:49.982Z"
   },
   {
    "duration": 41,
    "start_time": "2022-06-07T13:01:55.693Z"
   },
   {
    "duration": 15,
    "start_time": "2022-06-07T13:01:56.720Z"
   },
   {
    "duration": 39,
    "start_time": "2022-06-07T13:02:03.552Z"
   },
   {
    "duration": 16,
    "start_time": "2022-06-07T13:13:28.798Z"
   },
   {
    "duration": 47,
    "start_time": "2022-06-07T13:13:31.801Z"
   },
   {
    "duration": 19,
    "start_time": "2022-06-07T13:13:32.893Z"
   },
   {
    "duration": 68,
    "start_time": "2022-06-07T13:15:30.287Z"
   },
   {
    "duration": 6,
    "start_time": "2022-06-07T13:15:56.459Z"
   },
   {
    "duration": 33,
    "start_time": "2022-06-07T13:16:23.142Z"
   },
   {
    "duration": 8,
    "start_time": "2022-06-07T13:17:01.780Z"
   },
   {
    "duration": 7,
    "start_time": "2022-06-07T13:19:15.194Z"
   },
   {
    "duration": 7,
    "start_time": "2022-06-07T13:19:18.244Z"
   },
   {
    "duration": 8,
    "start_time": "2022-06-07T13:19:57.456Z"
   },
   {
    "duration": 8,
    "start_time": "2022-06-07T13:19:59.647Z"
   },
   {
    "duration": 21,
    "start_time": "2022-06-07T13:20:16.290Z"
   },
   {
    "duration": 6,
    "start_time": "2022-06-07T13:20:36.241Z"
   },
   {
    "duration": 28,
    "start_time": "2022-06-07T13:21:29.947Z"
   },
   {
    "duration": 30,
    "start_time": "2022-06-07T13:22:11.445Z"
   },
   {
    "duration": 25,
    "start_time": "2022-06-07T13:22:42.688Z"
   },
   {
    "duration": 6,
    "start_time": "2022-06-07T13:23:41.244Z"
   },
   {
    "duration": 215,
    "start_time": "2022-06-07T13:27:53.340Z"
   },
   {
    "duration": 5,
    "start_time": "2022-06-07T13:30:27.957Z"
   },
   {
    "duration": 7,
    "start_time": "2022-06-07T13:34:50.790Z"
   },
   {
    "duration": 16,
    "start_time": "2022-06-07T13:41:48.544Z"
   },
   {
    "duration": 24,
    "start_time": "2022-06-07T13:42:07.350Z"
   },
   {
    "duration": 60,
    "start_time": "2022-06-07T13:42:28.987Z"
   },
   {
    "duration": 64,
    "start_time": "2022-06-07T13:43:37.640Z"
   },
   {
    "duration": 52,
    "start_time": "2022-06-07T13:44:29.134Z"
   },
   {
    "duration": 77,
    "start_time": "2022-06-07T13:45:01.144Z"
   },
   {
    "duration": 7,
    "start_time": "2022-06-07T13:46:42.343Z"
   },
   {
    "duration": 12,
    "start_time": "2022-06-07T13:47:09.099Z"
   },
   {
    "duration": 11,
    "start_time": "2022-06-07T13:47:40.633Z"
   },
   {
    "duration": 17,
    "start_time": "2022-06-07T13:47:49.638Z"
   },
   {
    "duration": 6,
    "start_time": "2022-06-07T13:48:34.942Z"
   },
   {
    "duration": 546,
    "start_time": "2022-06-07T13:48:35.942Z"
   },
   {
    "duration": 9,
    "start_time": "2022-06-07T14:27:30.633Z"
   },
   {
    "duration": 7,
    "start_time": "2022-06-07T14:28:52.208Z"
   },
   {
    "duration": 613,
    "start_time": "2022-06-07T14:28:53.211Z"
   },
   {
    "duration": 27,
    "start_time": "2022-06-07T14:29:24.679Z"
   },
   {
    "duration": 11,
    "start_time": "2022-06-07T14:30:49.319Z"
   },
   {
    "duration": 626,
    "start_time": "2022-06-07T14:30:50.423Z"
   },
   {
    "duration": 8,
    "start_time": "2022-06-07T14:31:46.479Z"
   },
   {
    "duration": 12,
    "start_time": "2022-06-07T14:32:33.391Z"
   },
   {
    "duration": 647,
    "start_time": "2022-06-07T14:32:34.575Z"
   },
   {
    "duration": 7,
    "start_time": "2022-06-07T14:36:28.009Z"
   },
   {
    "duration": 529,
    "start_time": "2022-06-07T14:36:29.229Z"
   },
   {
    "duration": 6,
    "start_time": "2022-06-07T14:39:30.286Z"
   },
   {
    "duration": 586,
    "start_time": "2022-06-07T14:39:31.409Z"
   },
   {
    "duration": 6,
    "start_time": "2022-06-07T14:39:50.886Z"
   },
   {
    "duration": 513,
    "start_time": "2022-06-07T14:39:51.692Z"
   },
   {
    "duration": 37,
    "start_time": "2022-06-07T14:46:16.782Z"
   },
   {
    "duration": 13,
    "start_time": "2022-06-07T14:48:41.706Z"
   },
   {
    "duration": 31,
    "start_time": "2022-06-07T14:48:42.972Z"
   },
   {
    "duration": 7,
    "start_time": "2022-06-07T14:49:23.550Z"
   },
   {
    "duration": 96,
    "start_time": "2022-06-07T14:49:25.982Z"
   },
   {
    "duration": 6,
    "start_time": "2022-06-07T14:52:43.897Z"
   },
   {
    "duration": 511,
    "start_time": "2022-06-07T14:52:45.140Z"
   },
   {
    "duration": 1440,
    "start_time": "2022-06-07T14:53:49.535Z"
   },
   {
    "duration": 496,
    "start_time": "2022-06-07T14:53:51.578Z"
   },
   {
    "duration": 3,
    "start_time": "2022-06-07T14:53:52.296Z"
   },
   {
    "duration": 20,
    "start_time": "2022-06-07T14:53:52.915Z"
   },
   {
    "duration": 11,
    "start_time": "2022-06-07T14:53:53.533Z"
   },
   {
    "duration": 147,
    "start_time": "2022-06-07T14:53:53.940Z"
   },
   {
    "duration": 46,
    "start_time": "2022-06-07T14:53:54.316Z"
   },
   {
    "duration": 8,
    "start_time": "2022-06-07T14:53:56.282Z"
   },
   {
    "duration": 43,
    "start_time": "2022-06-07T14:53:57.873Z"
   },
   {
    "duration": 29,
    "start_time": "2022-06-07T14:53:58.998Z"
   },
   {
    "duration": 14,
    "start_time": "2022-06-07T14:54:00.412Z"
   },
   {
    "duration": 28,
    "start_time": "2022-06-07T14:54:01.633Z"
   },
   {
    "duration": 27,
    "start_time": "2022-06-07T14:54:03.182Z"
   },
   {
    "duration": 16,
    "start_time": "2022-06-07T14:54:04.380Z"
   },
   {
    "duration": 19,
    "start_time": "2022-06-07T14:54:05.212Z"
   },
   {
    "duration": 47,
    "start_time": "2022-06-07T14:54:05.913Z"
   },
   {
    "duration": 18,
    "start_time": "2022-06-07T14:54:06.482Z"
   },
   {
    "duration": 9,
    "start_time": "2022-06-07T14:54:07.778Z"
   },
   {
    "duration": 42,
    "start_time": "2022-06-07T14:54:09.475Z"
   },
   {
    "duration": 5,
    "start_time": "2022-06-07T14:54:14.086Z"
   },
   {
    "duration": 6,
    "start_time": "2022-06-07T14:54:15.688Z"
   },
   {
    "duration": 3,
    "start_time": "2022-06-07T14:54:20.880Z"
   },
   {
    "duration": 2520,
    "start_time": "2022-06-07T14:54:22.022Z"
   },
   {
    "duration": 3,
    "start_time": "2022-06-07T14:54:24.546Z"
   },
   {
    "duration": 4270,
    "start_time": "2022-06-07T14:54:25.000Z"
   },
   {
    "duration": 1104,
    "start_time": "2022-06-07T14:54:29.273Z"
   },
   {
    "duration": 2502,
    "start_time": "2022-06-07T14:54:30.379Z"
   },
   {
    "duration": 17,
    "start_time": "2022-06-07T14:54:32.883Z"
   },
   {
    "duration": 17,
    "start_time": "2022-06-07T14:54:33.265Z"
   },
   {
    "duration": 80,
    "start_time": "2022-06-07T14:54:34.617Z"
   },
   {
    "duration": 4,
    "start_time": "2022-06-07T14:54:36.112Z"
   },
   {
    "duration": 98,
    "start_time": "2022-06-07T14:54:36.796Z"
   },
   {
    "duration": 89,
    "start_time": "2022-06-07T14:54:42.608Z"
   },
   {
    "duration": 89,
    "start_time": "2022-06-07T14:54:45.588Z"
   },
   {
    "duration": 25,
    "start_time": "2022-06-07T14:54:49.503Z"
   },
   {
    "duration": 98,
    "start_time": "2022-06-07T14:54:52.575Z"
   },
   {
    "duration": 46,
    "start_time": "2022-06-07T14:54:58.612Z"
   },
   {
    "duration": 118,
    "start_time": "2022-06-07T14:55:00.444Z"
   },
   {
    "duration": 56,
    "start_time": "2022-06-07T14:55:08.103Z"
   },
   {
    "duration": 23,
    "start_time": "2022-06-07T14:55:12.083Z"
   },
   {
    "duration": 17,
    "start_time": "2022-06-07T14:55:13.782Z"
   },
   {
    "duration": 45,
    "start_time": "2022-06-07T14:55:15.837Z"
   },
   {
    "duration": 25,
    "start_time": "2022-06-07T14:55:18.974Z"
   },
   {
    "duration": 28,
    "start_time": "2022-06-07T14:55:22.066Z"
   },
   {
    "duration": 18,
    "start_time": "2022-06-07T14:55:23.543Z"
   },
   {
    "duration": 60,
    "start_time": "2022-06-07T14:55:24.327Z"
   },
   {
    "duration": 21,
    "start_time": "2022-06-07T14:55:35.147Z"
   },
   {
    "duration": 23,
    "start_time": "2022-06-07T14:55:36.064Z"
   },
   {
    "duration": 18,
    "start_time": "2022-06-07T14:55:39.336Z"
   },
   {
    "duration": 64,
    "start_time": "2022-06-07T14:55:44.093Z"
   },
   {
    "duration": 16,
    "start_time": "2022-06-07T14:55:52.233Z"
   },
   {
    "duration": 21,
    "start_time": "2022-06-07T14:55:53.066Z"
   },
   {
    "duration": 60,
    "start_time": "2022-06-07T14:56:02.878Z"
   },
   {
    "duration": 84,
    "start_time": "2022-06-07T14:56:18.109Z"
   },
   {
    "duration": 43,
    "start_time": "2022-06-07T14:59:43.386Z"
   },
   {
    "duration": 231,
    "start_time": "2022-06-07T15:00:21.966Z"
   },
   {
    "duration": 151,
    "start_time": "2022-06-07T15:00:46.909Z"
   },
   {
    "duration": 8,
    "start_time": "2022-06-07T15:01:17.874Z"
   },
   {
    "duration": 18,
    "start_time": "2022-06-07T15:10:03.490Z"
   },
   {
    "duration": 29,
    "start_time": "2022-06-07T15:11:24.155Z"
   },
   {
    "duration": 52,
    "start_time": "2022-06-07T15:12:03.285Z"
   },
   {
    "duration": 42,
    "start_time": "2022-06-07T15:12:05.452Z"
   },
   {
    "duration": 9,
    "start_time": "2022-06-07T15:12:06.385Z"
   },
   {
    "duration": 60,
    "start_time": "2022-06-07T15:13:30.802Z"
   },
   {
    "duration": 7,
    "start_time": "2022-06-07T15:13:31.710Z"
   },
   {
    "duration": 25,
    "start_time": "2022-06-07T15:13:32.917Z"
   },
   {
    "duration": 5,
    "start_time": "2022-06-07T15:13:34.885Z"
   },
   {
    "duration": 9,
    "start_time": "2022-06-07T15:13:35.483Z"
   },
   {
    "duration": 1139,
    "start_time": "2022-06-07T15:13:40.671Z"
   },
   {
    "duration": 7,
    "start_time": "2022-06-07T15:16:20.591Z"
   },
   {
    "duration": 205,
    "start_time": "2022-06-07T15:16:24.240Z"
   },
   {
    "duration": 8,
    "start_time": "2022-06-07T15:17:20.481Z"
   },
   {
    "duration": 317,
    "start_time": "2022-06-07T15:17:23.899Z"
   },
   {
    "duration": 12,
    "start_time": "2022-06-07T15:18:57.879Z"
   },
   {
    "duration": 8,
    "start_time": "2022-06-07T15:19:05.575Z"
   },
   {
    "duration": 14,
    "start_time": "2022-06-07T15:19:17.335Z"
   },
   {
    "duration": 11,
    "start_time": "2022-06-07T15:19:59.872Z"
   },
   {
    "duration": 255,
    "start_time": "2022-06-07T15:20:01.078Z"
   },
   {
    "duration": 7,
    "start_time": "2022-06-07T15:22:49.557Z"
   },
   {
    "duration": 21,
    "start_time": "2022-06-07T15:22:50.585Z"
   },
   {
    "duration": 256,
    "start_time": "2022-06-07T15:23:09.951Z"
   },
   {
    "duration": 28,
    "start_time": "2022-06-07T15:28:26.800Z"
   },
   {
    "duration": 26,
    "start_time": "2022-06-07T15:29:27.772Z"
   },
   {
    "duration": 70,
    "start_time": "2022-06-07T15:30:07.603Z"
   },
   {
    "duration": 528,
    "start_time": "2022-06-07T15:30:44.070Z"
   },
   {
    "duration": 642,
    "start_time": "2022-06-07T15:31:03.746Z"
   },
   {
    "duration": 253,
    "start_time": "2022-06-07T15:31:47.922Z"
   },
   {
    "duration": 229,
    "start_time": "2022-06-07T15:32:27.257Z"
   },
   {
    "duration": 45,
    "start_time": "2022-06-07T15:33:32.170Z"
   },
   {
    "duration": 302,
    "start_time": "2022-06-07T15:34:39.897Z"
   },
   {
    "duration": 29,
    "start_time": "2022-06-07T15:35:31.267Z"
   },
   {
    "duration": 29,
    "start_time": "2022-06-07T15:35:55.478Z"
   },
   {
    "duration": 223,
    "start_time": "2022-06-07T15:36:05.455Z"
   },
   {
    "duration": 35,
    "start_time": "2022-06-07T15:37:13.894Z"
   },
   {
    "duration": 25,
    "start_time": "2022-06-07T15:37:56.972Z"
   },
   {
    "duration": 524,
    "start_time": "2022-06-07T15:38:53.782Z"
   },
   {
    "duration": 438,
    "start_time": "2022-06-07T15:39:26.172Z"
   },
   {
    "duration": 58,
    "start_time": "2022-06-07T15:40:40.140Z"
   },
   {
    "duration": 264,
    "start_time": "2022-06-07T15:40:50.329Z"
   },
   {
    "duration": 31,
    "start_time": "2022-06-07T15:44:13.219Z"
   },
   {
    "duration": 29,
    "start_time": "2022-06-07T15:45:21.892Z"
   },
   {
    "duration": 19,
    "start_time": "2022-06-07T15:45:32.875Z"
   },
   {
    "duration": 22,
    "start_time": "2022-06-07T15:45:42.312Z"
   },
   {
    "duration": 11,
    "start_time": "2022-06-07T15:58:56.484Z"
   },
   {
    "duration": 746,
    "start_time": "2022-06-07T15:58:59.696Z"
   },
   {
    "duration": 11,
    "start_time": "2022-06-07T16:00:25.976Z"
   },
   {
    "duration": 704,
    "start_time": "2022-06-07T16:00:26.942Z"
   },
   {
    "duration": 14,
    "start_time": "2022-06-07T16:01:50.948Z"
   },
   {
    "duration": 86,
    "start_time": "2022-06-07T16:15:25.228Z"
   },
   {
    "duration": 9,
    "start_time": "2022-06-07T16:15:44.115Z"
   },
   {
    "duration": 38,
    "start_time": "2022-06-07T16:16:46.446Z"
   },
   {
    "duration": 7,
    "start_time": "2022-06-07T16:17:08.365Z"
   },
   {
    "duration": 605,
    "start_time": "2022-06-07T16:17:10.547Z"
   },
   {
    "duration": 9,
    "start_time": "2022-06-07T16:17:39.904Z"
   },
   {
    "duration": 726,
    "start_time": "2022-06-07T16:17:40.948Z"
   },
   {
    "duration": 15,
    "start_time": "2022-06-07T16:20:51.351Z"
   },
   {
    "duration": 50,
    "start_time": "2022-06-07T16:20:52.465Z"
   },
   {
    "duration": 28,
    "start_time": "2022-06-07T16:21:45.479Z"
   },
   {
    "duration": 92,
    "start_time": "2022-06-07T16:21:46.494Z"
   },
   {
    "duration": 10,
    "start_time": "2022-06-07T16:23:45.761Z"
   },
   {
    "duration": 100,
    "start_time": "2022-06-07T16:23:47.521Z"
   },
   {
    "duration": 38,
    "start_time": "2022-06-07T16:24:29.253Z"
   },
   {
    "duration": 483,
    "start_time": "2022-06-07T16:24:30.219Z"
   },
   {
    "duration": 13,
    "start_time": "2022-06-07T16:25:49.092Z"
   },
   {
    "duration": 116,
    "start_time": "2022-06-07T16:25:49.991Z"
   },
   {
    "duration": 6,
    "start_time": "2022-06-07T16:30:14.795Z"
   },
   {
    "duration": 19,
    "start_time": "2022-06-07T16:30:19.989Z"
   },
   {
    "duration": 8,
    "start_time": "2022-06-07T16:30:35.975Z"
   },
   {
    "duration": 138,
    "start_time": "2022-06-07T16:30:36.895Z"
   },
   {
    "duration": 147,
    "start_time": "2022-06-07T16:31:09.441Z"
   },
   {
    "duration": 5,
    "start_time": "2022-06-07T16:33:15.264Z"
   },
   {
    "duration": 4,
    "start_time": "2022-06-07T16:39:36.655Z"
   },
   {
    "duration": 102,
    "start_time": "2022-06-07T16:39:37.618Z"
   },
   {
    "duration": 3,
    "start_time": "2022-06-07T16:40:13.968Z"
   },
   {
    "duration": 9,
    "start_time": "2022-06-07T16:40:15.071Z"
   },
   {
    "duration": 47,
    "start_time": "2022-06-07T16:40:17.132Z"
   },
   {
    "duration": 19872,
    "start_time": "2022-06-07T16:47:15.163Z"
   },
   {
    "duration": 2177,
    "start_time": "2022-06-07T16:48:15.721Z"
   },
   {
    "duration": 102,
    "start_time": "2022-06-07T16:49:49.918Z"
   },
   {
    "duration": 105,
    "start_time": "2022-06-07T16:50:18.529Z"
   },
   {
    "duration": 103,
    "start_time": "2022-06-07T16:50:51.551Z"
   },
   {
    "duration": 26,
    "start_time": "2022-06-07T16:51:11.974Z"
   },
   {
    "duration": 67,
    "start_time": "2022-06-07T16:51:45.415Z"
   },
   {
    "duration": 77,
    "start_time": "2022-06-07T16:52:14.672Z"
   },
   {
    "duration": 80,
    "start_time": "2022-06-07T16:52:27.651Z"
   },
   {
    "duration": 140,
    "start_time": "2022-06-07T16:53:01.453Z"
   },
   {
    "duration": 148,
    "start_time": "2022-06-07T16:53:23.939Z"
   },
   {
    "duration": 121,
    "start_time": "2022-06-07T16:57:08.657Z"
   },
   {
    "duration": 2147,
    "start_time": "2022-06-07T16:57:23.990Z"
   },
   {
    "duration": 2083,
    "start_time": "2022-06-07T16:57:46.425Z"
   },
   {
    "duration": 2472,
    "start_time": "2022-06-07T16:58:16.149Z"
   },
   {
    "duration": 6,
    "start_time": "2022-06-07T17:01:37.913Z"
   },
   {
    "duration": 3132,
    "start_time": "2022-06-07T17:02:06.945Z"
   },
   {
    "duration": 3430,
    "start_time": "2022-06-07T17:02:15.680Z"
   },
   {
    "duration": 1313,
    "start_time": "2022-06-07T17:09:11.893Z"
   },
   {
    "duration": 800,
    "start_time": "2022-06-07T17:10:42.283Z"
   },
   {
    "duration": 11,
    "start_time": "2022-06-07T17:11:25.228Z"
   },
   {
    "duration": 7,
    "start_time": "2022-06-07T17:11:26.185Z"
   },
   {
    "duration": 111,
    "start_time": "2022-06-07T17:11:32.139Z"
   },
   {
    "duration": 2873,
    "start_time": "2022-06-07T17:11:40.390Z"
   },
   {
    "duration": 8,
    "start_time": "2022-06-07T17:12:38.903Z"
   },
   {
    "duration": 126,
    "start_time": "2022-06-07T17:12:42.865Z"
   },
   {
    "duration": 2918,
    "start_time": "2022-06-07T17:12:55.648Z"
   },
   {
    "duration": 303,
    "start_time": "2022-06-07T17:13:24.592Z"
   },
   {
    "duration": 3289,
    "start_time": "2022-06-07T17:14:25.721Z"
   },
   {
    "duration": 365,
    "start_time": "2022-06-07T17:14:50.714Z"
   },
   {
    "duration": 16,
    "start_time": "2022-06-07T17:15:21.923Z"
   },
   {
    "duration": 122,
    "start_time": "2022-06-07T17:15:25.848Z"
   },
   {
    "duration": 52,
    "start_time": "2022-06-07T17:22:50.566Z"
   },
   {
    "duration": 636,
    "start_time": "2022-06-07T17:22:57.737Z"
   },
   {
    "duration": 214,
    "start_time": "2022-06-07T17:23:47.673Z"
   },
   {
    "duration": 5,
    "start_time": "2022-06-07T17:24:36.045Z"
   },
   {
    "duration": 588,
    "start_time": "2022-06-07T17:24:42.792Z"
   },
   {
    "duration": 299,
    "start_time": "2022-06-07T17:25:05.850Z"
   },
   {
    "duration": 2551,
    "start_time": "2022-06-07T17:26:52.478Z"
   },
   {
    "duration": 2234,
    "start_time": "2022-06-07T17:27:12.894Z"
   },
   {
    "duration": 2876,
    "start_time": "2022-06-07T17:27:23.342Z"
   },
   {
    "duration": 3498,
    "start_time": "2022-06-07T17:27:57.794Z"
   },
   {
    "duration": 2988,
    "start_time": "2022-06-07T17:29:12.728Z"
   },
   {
    "duration": 48,
    "start_time": "2022-06-07T17:31:23.152Z"
   },
   {
    "duration": 66,
    "start_time": "2022-06-07T17:31:37.240Z"
   },
   {
    "duration": 123,
    "start_time": "2022-06-07T17:31:50.613Z"
   },
   {
    "duration": 410,
    "start_time": "2022-06-07T17:32:08.184Z"
   },
   {
    "duration": 98,
    "start_time": "2022-06-07T17:34:50.048Z"
   },
   {
    "duration": 52,
    "start_time": "2022-06-07T17:35:17.444Z"
   },
   {
    "duration": 100,
    "start_time": "2022-06-07T17:35:29.595Z"
   },
   {
    "duration": 121,
    "start_time": "2022-06-07T17:35:48.479Z"
   },
   {
    "duration": 108,
    "start_time": "2022-06-07T17:36:06.764Z"
   },
   {
    "duration": 21,
    "start_time": "2022-06-07T17:36:19.649Z"
   },
   {
    "duration": 19,
    "start_time": "2022-06-07T17:36:28.262Z"
   },
   {
    "duration": 5,
    "start_time": "2022-06-07T17:38:39.689Z"
   },
   {
    "duration": 366,
    "start_time": "2022-06-07T17:38:40.403Z"
   },
   {
    "duration": 3,
    "start_time": "2022-06-07T17:38:41.104Z"
   },
   {
    "duration": 1523,
    "start_time": "2022-06-07T17:39:05.276Z"
   },
   {
    "duration": 223,
    "start_time": "2022-06-07T17:39:07.463Z"
   },
   {
    "duration": 5,
    "start_time": "2022-06-07T17:39:08.619Z"
   },
   {
    "duration": 29,
    "start_time": "2022-06-07T17:39:09.074Z"
   },
   {
    "duration": 11,
    "start_time": "2022-06-07T17:39:09.373Z"
   },
   {
    "duration": 148,
    "start_time": "2022-06-07T17:39:09.659Z"
   },
   {
    "duration": 36,
    "start_time": "2022-06-07T17:39:10.161Z"
   },
   {
    "duration": 25,
    "start_time": "2022-06-07T17:39:12.220Z"
   },
   {
    "duration": 57,
    "start_time": "2022-06-07T17:39:14.755Z"
   },
   {
    "duration": 33,
    "start_time": "2022-06-07T17:39:14.814Z"
   },
   {
    "duration": 12,
    "start_time": "2022-06-07T17:39:16.270Z"
   },
   {
    "duration": 43,
    "start_time": "2022-06-07T17:39:18.022Z"
   },
   {
    "duration": 55,
    "start_time": "2022-06-07T17:39:19.155Z"
   },
   {
    "duration": 16,
    "start_time": "2022-06-07T17:39:19.884Z"
   },
   {
    "duration": 13,
    "start_time": "2022-06-07T17:39:20.781Z"
   },
   {
    "duration": 72,
    "start_time": "2022-06-07T17:39:21.461Z"
   },
   {
    "duration": 18,
    "start_time": "2022-06-07T17:39:22.171Z"
   },
   {
    "duration": 10,
    "start_time": "2022-06-07T17:39:23.400Z"
   },
   {
    "duration": 67,
    "start_time": "2022-06-07T17:39:23.986Z"
   },
   {
    "duration": 14,
    "start_time": "2022-06-07T17:39:26.656Z"
   },
   {
    "duration": 22,
    "start_time": "2022-06-07T17:39:27.716Z"
   },
   {
    "duration": 5,
    "start_time": "2022-06-07T17:39:29.175Z"
   },
   {
    "duration": 6796,
    "start_time": "2022-06-07T17:39:29.667Z"
   },
   {
    "duration": 9,
    "start_time": "2022-06-07T17:39:36.467Z"
   },
   {
    "duration": 5608,
    "start_time": "2022-06-07T17:39:36.478Z"
   },
   {
    "duration": 1293,
    "start_time": "2022-06-07T17:39:42.091Z"
   },
   {
    "duration": 2594,
    "start_time": "2022-06-07T17:39:43.400Z"
   },
   {
    "duration": 60,
    "start_time": "2022-06-07T17:39:45.998Z"
   },
   {
    "duration": 92,
    "start_time": "2022-06-07T17:39:46.071Z"
   },
   {
    "duration": 284,
    "start_time": "2022-06-07T17:39:46.165Z"
   },
   {
    "duration": 11,
    "start_time": "2022-06-07T17:39:46.450Z"
   },
   {
    "duration": 190,
    "start_time": "2022-06-07T17:39:46.470Z"
   },
   {
    "duration": 70,
    "start_time": "2022-06-07T17:39:46.666Z"
   },
   {
    "duration": 108,
    "start_time": "2022-06-07T17:39:46.751Z"
   },
   {
    "duration": 38,
    "start_time": "2022-06-07T17:39:46.861Z"
   },
   {
    "duration": 247,
    "start_time": "2022-06-07T17:39:46.902Z"
   },
   {
    "duration": 48,
    "start_time": "2022-06-07T17:39:48.126Z"
   },
   {
    "duration": 351,
    "start_time": "2022-06-07T17:39:49.322Z"
   },
   {
    "duration": 86,
    "start_time": "2022-06-07T17:39:50.711Z"
   },
   {
    "duration": 29,
    "start_time": "2022-06-07T17:39:50.970Z"
   },
   {
    "duration": 36,
    "start_time": "2022-06-07T17:39:52.665Z"
   },
   {
    "duration": 72,
    "start_time": "2022-06-07T17:39:54.459Z"
   },
   {
    "duration": 49,
    "start_time": "2022-06-07T17:39:55.753Z"
   },
   {
    "duration": 44,
    "start_time": "2022-06-07T17:39:56.961Z"
   },
   {
    "duration": 23,
    "start_time": "2022-06-07T17:39:58.072Z"
   },
   {
    "duration": 84,
    "start_time": "2022-06-07T17:39:58.510Z"
   },
   {
    "duration": 28,
    "start_time": "2022-06-07T17:40:01.047Z"
   },
   {
    "duration": 42,
    "start_time": "2022-06-07T17:40:01.740Z"
   },
   {
    "duration": 31,
    "start_time": "2022-06-07T17:40:02.474Z"
   },
   {
    "duration": 105,
    "start_time": "2022-06-07T17:40:04.453Z"
   },
   {
    "duration": 19,
    "start_time": "2022-06-07T17:40:06.414Z"
   },
   {
    "duration": 28,
    "start_time": "2022-06-07T17:40:07.357Z"
   },
   {
    "duration": 64,
    "start_time": "2022-06-07T17:40:09.192Z"
   },
   {
    "duration": 68,
    "start_time": "2022-06-07T17:40:10.771Z"
   },
   {
    "duration": 138,
    "start_time": "2022-06-07T17:40:18.714Z"
   },
   {
    "duration": 6,
    "start_time": "2022-06-07T17:40:19.688Z"
   },
   {
    "duration": 63,
    "start_time": "2022-06-07T17:40:20.550Z"
   },
   {
    "duration": 16,
    "start_time": "2022-06-07T17:40:21.694Z"
   },
   {
    "duration": 28,
    "start_time": "2022-06-07T17:40:23.167Z"
   },
   {
    "duration": 66,
    "start_time": "2022-06-07T17:40:24.751Z"
   },
   {
    "duration": 67,
    "start_time": "2022-06-07T17:40:26.794Z"
   },
   {
    "duration": 61,
    "start_time": "2022-06-07T17:40:27.399Z"
   },
   {
    "duration": 7,
    "start_time": "2022-06-07T17:40:27.899Z"
   },
   {
    "duration": 28,
    "start_time": "2022-06-07T17:40:28.408Z"
   },
   {
    "duration": 10,
    "start_time": "2022-06-07T17:40:59.489Z"
   },
   {
    "duration": 280,
    "start_time": "2022-06-07T17:41:03.097Z"
   },
   {
    "duration": 6,
    "start_time": "2022-06-07T17:42:07.068Z"
   },
   {
    "duration": 10,
    "start_time": "2022-06-07T17:42:10.397Z"
   },
   {
    "duration": 137,
    "start_time": "2022-06-07T17:42:13.413Z"
   },
   {
    "duration": 13,
    "start_time": "2022-06-07T17:42:20.221Z"
   },
   {
    "duration": 4,
    "start_time": "2022-06-07T17:42:37.595Z"
   },
   {
    "duration": 139,
    "start_time": "2022-06-07T17:42:48.250Z"
   },
   {
    "duration": 19,
    "start_time": "2022-06-07T17:43:47.686Z"
   },
   {
    "duration": 191,
    "start_time": "2022-06-07T17:44:01.908Z"
   },
   {
    "duration": 29,
    "start_time": "2022-06-07T17:46:40.631Z"
   },
   {
    "duration": 21,
    "start_time": "2022-06-07T17:47:02.673Z"
   },
   {
    "duration": 28,
    "start_time": "2022-06-07T17:47:50.101Z"
   },
   {
    "duration": 18,
    "start_time": "2022-06-07T17:49:20.920Z"
   },
   {
    "duration": 37,
    "start_time": "2022-06-07T17:53:21.081Z"
   },
   {
    "duration": 102,
    "start_time": "2022-06-07T17:53:42.543Z"
   },
   {
    "duration": 288,
    "start_time": "2022-06-07T17:54:03.855Z"
   },
   {
    "duration": 14,
    "start_time": "2022-06-07T17:55:26.482Z"
   },
   {
    "duration": 71,
    "start_time": "2022-06-07T17:55:37.389Z"
   },
   {
    "duration": 14,
    "start_time": "2022-06-07T17:55:49.367Z"
   },
   {
    "duration": 64,
    "start_time": "2022-06-07T17:55:50.194Z"
   },
   {
    "duration": 15,
    "start_time": "2022-06-07T17:56:50.959Z"
   },
   {
    "duration": 49,
    "start_time": "2022-06-07T17:56:51.953Z"
   },
   {
    "duration": 81,
    "start_time": "2022-06-07T17:57:14.818Z"
   },
   {
    "duration": 17,
    "start_time": "2022-06-07T17:57:17.049Z"
   },
   {
    "duration": 75,
    "start_time": "2022-06-07T17:57:17.774Z"
   },
   {
    "duration": 281,
    "start_time": "2022-06-07T17:57:27.766Z"
   },
   {
    "duration": 6,
    "start_time": "2022-06-07T17:58:17.493Z"
   },
   {
    "duration": 13,
    "start_time": "2022-06-07T17:58:30.662Z"
   },
   {
    "duration": 7,
    "start_time": "2022-06-07T17:58:54.370Z"
   },
   {
    "duration": 14,
    "start_time": "2022-06-07T17:59:01.253Z"
   },
   {
    "duration": 5,
    "start_time": "2022-06-07T18:16:28.058Z"
   },
   {
    "duration": 11,
    "start_time": "2022-06-07T18:16:31.187Z"
   },
   {
    "duration": 311,
    "start_time": "2022-06-07T18:16:36.059Z"
   },
   {
    "duration": 65,
    "start_time": "2022-06-07T18:20:27.987Z"
   },
   {
    "duration": 22,
    "start_time": "2022-06-07T18:20:49.463Z"
   },
   {
    "duration": 230,
    "start_time": "2022-06-07T18:21:15.674Z"
   },
   {
    "duration": 21,
    "start_time": "2022-06-07T18:24:45.991Z"
   },
   {
    "duration": 132,
    "start_time": "2022-06-07T18:24:57.173Z"
   },
   {
    "duration": 24,
    "start_time": "2022-06-07T18:25:01.110Z"
   },
   {
    "duration": 141,
    "start_time": "2022-06-07T18:28:11.442Z"
   },
   {
    "duration": 111,
    "start_time": "2022-06-07T18:28:41.800Z"
   },
   {
    "duration": 130,
    "start_time": "2022-06-07T18:29:14.429Z"
   },
   {
    "duration": 167,
    "start_time": "2022-06-07T18:29:54.380Z"
   },
   {
    "duration": 1472,
    "start_time": "2022-06-07T18:30:34.950Z"
   },
   {
    "duration": 256,
    "start_time": "2022-06-07T18:31:26.503Z"
   },
   {
    "duration": 904,
    "start_time": "2022-06-07T18:32:15.464Z"
   },
   {
    "duration": 627,
    "start_time": "2022-06-07T18:32:32.751Z"
   },
   {
    "duration": 857,
    "start_time": "2022-06-07T18:32:39.940Z"
   },
   {
    "duration": 770,
    "start_time": "2022-06-07T18:32:54.431Z"
   },
   {
    "duration": 2948,
    "start_time": "2022-06-07T18:33:51.153Z"
   },
   {
    "duration": 3724,
    "start_time": "2022-06-07T18:33:59.658Z"
   },
   {
    "duration": 3813,
    "start_time": "2022-06-07T18:34:45.643Z"
   },
   {
    "duration": 4054,
    "start_time": "2022-06-07T18:35:10.723Z"
   },
   {
    "duration": 760,
    "start_time": "2022-06-07T18:44:59.023Z"
   },
   {
    "duration": 688,
    "start_time": "2022-06-07T18:45:07.608Z"
   },
   {
    "duration": 84,
    "start_time": "2022-06-07T18:49:36.520Z"
   },
   {
    "duration": 436,
    "start_time": "2022-06-07T18:50:59.673Z"
   },
   {
    "duration": 1688,
    "start_time": "2022-06-07T19:21:12.062Z"
   },
   {
    "duration": 478,
    "start_time": "2022-06-07T19:21:14.529Z"
   },
   {
    "duration": 4,
    "start_time": "2022-06-07T19:21:15.556Z"
   },
   {
    "duration": 35,
    "start_time": "2022-06-07T19:21:16.062Z"
   },
   {
    "duration": 11,
    "start_time": "2022-06-07T19:21:16.583Z"
   },
   {
    "duration": 168,
    "start_time": "2022-06-07T19:21:17.494Z"
   },
   {
    "duration": 45,
    "start_time": "2022-06-07T19:21:23.657Z"
   },
   {
    "duration": 15,
    "start_time": "2022-06-07T19:21:29.371Z"
   },
   {
    "duration": 78,
    "start_time": "2022-06-07T19:21:30.803Z"
   },
   {
    "duration": 18,
    "start_time": "2022-06-07T19:21:33.382Z"
   },
   {
    "duration": 15,
    "start_time": "2022-06-07T19:21:37.878Z"
   },
   {
    "duration": 37,
    "start_time": "2022-06-07T19:21:46.681Z"
   },
   {
    "duration": 62,
    "start_time": "2022-06-07T19:21:49.446Z"
   },
   {
    "duration": 23,
    "start_time": "2022-06-07T19:21:50.474Z"
   },
   {
    "duration": 26,
    "start_time": "2022-06-07T19:21:57.017Z"
   },
   {
    "duration": 68,
    "start_time": "2022-06-07T19:21:57.750Z"
   },
   {
    "duration": 25,
    "start_time": "2022-06-07T19:21:58.691Z"
   },
   {
    "duration": 9,
    "start_time": "2022-06-07T19:22:25.488Z"
   },
   {
    "duration": 63,
    "start_time": "2022-06-07T19:22:26.305Z"
   },
   {
    "duration": 10,
    "start_time": "2022-06-07T19:24:01.548Z"
   },
   {
    "duration": 11,
    "start_time": "2022-06-07T19:24:18.651Z"
   },
   {
    "duration": 8,
    "start_time": "2022-06-07T19:24:22.860Z"
   },
   {
    "duration": 3658,
    "start_time": "2022-06-07T19:24:23.968Z"
   },
   {
    "duration": 16,
    "start_time": "2022-06-07T19:24:27.630Z"
   },
   {
    "duration": 5526,
    "start_time": "2022-06-07T19:24:28.303Z"
   },
   {
    "duration": 1354,
    "start_time": "2022-06-07T19:24:40.966Z"
   },
   {
    "duration": 2840,
    "start_time": "2022-06-07T19:25:00.111Z"
   },
   {
    "duration": 2733,
    "start_time": "2022-06-07T19:25:14.970Z"
   },
   {
    "duration": 49,
    "start_time": "2022-06-07T19:25:17.706Z"
   },
   {
    "duration": 246,
    "start_time": "2022-06-07T19:26:37.495Z"
   },
   {
    "duration": 3,
    "start_time": "2022-06-07T19:26:41.899Z"
   },
   {
    "duration": 5343,
    "start_time": "2022-06-07T19:26:42.618Z"
   },
   {
    "duration": 1345,
    "start_time": "2022-06-07T19:26:58.387Z"
   },
   {
    "duration": 2435,
    "start_time": "2022-06-07T19:27:10.370Z"
   },
   {
    "duration": 31,
    "start_time": "2022-06-07T19:27:21.423Z"
   },
   {
    "duration": 25,
    "start_time": "2022-06-07T19:27:23.789Z"
   },
   {
    "duration": 271,
    "start_time": "2022-06-07T19:27:38.947Z"
   },
   {
    "duration": 7,
    "start_time": "2022-06-07T19:27:44.468Z"
   },
   {
    "duration": 161,
    "start_time": "2022-06-07T19:27:45.694Z"
   },
   {
    "duration": 106,
    "start_time": "2022-06-07T19:27:51.223Z"
   },
   {
    "duration": 92,
    "start_time": "2022-06-07T19:27:55.867Z"
   },
   {
    "duration": 53,
    "start_time": "2022-06-07T19:28:04.563Z"
   },
   {
    "duration": 440,
    "start_time": "2022-06-07T19:28:09.355Z"
   },
   {
    "duration": 52,
    "start_time": "2022-06-07T19:28:16.209Z"
   },
   {
    "duration": 320,
    "start_time": "2022-06-07T19:28:18.362Z"
   },
   {
    "duration": 48,
    "start_time": "2022-06-07T19:28:23.891Z"
   },
   {
    "duration": 50,
    "start_time": "2022-06-07T19:28:24.913Z"
   },
   {
    "duration": 23,
    "start_time": "2022-06-07T19:28:27.496Z"
   },
   {
    "duration": 78,
    "start_time": "2022-06-07T19:28:30.559Z"
   },
   {
    "duration": 22,
    "start_time": "2022-06-07T19:28:31.792Z"
   },
   {
    "duration": 31,
    "start_time": "2022-06-07T19:28:48.783Z"
   },
   {
    "duration": 39,
    "start_time": "2022-06-07T19:28:51.031Z"
   },
   {
    "duration": 75,
    "start_time": "2022-06-07T19:29:52.163Z"
   },
   {
    "duration": 36,
    "start_time": "2022-06-07T19:29:55.551Z"
   },
   {
    "duration": 22,
    "start_time": "2022-06-07T19:29:56.376Z"
   },
   {
    "duration": 18,
    "start_time": "2022-06-07T19:29:57.892Z"
   },
   {
    "duration": 88,
    "start_time": "2022-06-07T19:30:28.203Z"
   },
   {
    "duration": 33,
    "start_time": "2022-06-07T19:30:37.634Z"
   },
   {
    "duration": 26,
    "start_time": "2022-06-07T19:30:40.093Z"
   },
   {
    "duration": 62,
    "start_time": "2022-06-07T19:30:44.690Z"
   },
   {
    "duration": 67,
    "start_time": "2022-06-07T19:31:05.584Z"
   },
   {
    "duration": 124,
    "start_time": "2022-06-07T19:31:09.782Z"
   },
   {
    "duration": 5,
    "start_time": "2022-06-07T19:31:18.687Z"
   },
   {
    "duration": 55,
    "start_time": "2022-06-07T19:31:29.055Z"
   },
   {
    "duration": 17,
    "start_time": "2022-06-07T19:31:49.103Z"
   },
   {
    "duration": 29,
    "start_time": "2022-06-07T19:31:50.781Z"
   },
   {
    "duration": 82,
    "start_time": "2022-06-07T19:31:53.163Z"
   },
   {
    "duration": 66,
    "start_time": "2022-06-07T19:32:10.605Z"
   },
   {
    "duration": 79,
    "start_time": "2022-06-07T19:32:11.420Z"
   },
   {
    "duration": 23,
    "start_time": "2022-06-07T19:32:12.149Z"
   },
   {
    "duration": 27,
    "start_time": "2022-06-07T19:32:13.069Z"
   },
   {
    "duration": 17,
    "start_time": "2022-06-07T19:32:17.778Z"
   },
   {
    "duration": 12,
    "start_time": "2022-06-07T19:32:21.883Z"
   },
   {
    "duration": 30,
    "start_time": "2022-06-07T19:34:25.066Z"
   },
   {
    "duration": 122,
    "start_time": "2022-06-07T19:34:48.097Z"
   },
   {
    "duration": 2810,
    "start_time": "2022-06-07T19:34:52.303Z"
   },
   {
    "duration": 2889,
    "start_time": "2022-06-07T19:35:17.700Z"
   },
   {
    "duration": 2710,
    "start_time": "2022-06-07T19:35:43.603Z"
   },
   {
    "duration": 5,
    "start_time": "2022-06-07T19:38:45.668Z"
   },
   {
    "duration": 4912,
    "start_time": "2022-06-07T19:41:05.561Z"
   },
   {
    "duration": 1037,
    "start_time": "2022-06-07T19:41:46.219Z"
   },
   {
    "duration": 2331,
    "start_time": "2022-06-07T19:42:05.355Z"
   },
   {
    "duration": 3193,
    "start_time": "2022-06-07T19:42:43.548Z"
   },
   {
    "duration": 558,
    "start_time": "2022-06-07T19:44:03.749Z"
   },
   {
    "duration": 1075,
    "start_time": "2022-06-07T19:47:12.355Z"
   },
   {
    "duration": 791,
    "start_time": "2022-06-07T19:47:44.812Z"
   },
   {
    "duration": 1327,
    "start_time": "2022-06-08T03:47:00.983Z"
   },
   {
    "duration": 383,
    "start_time": "2022-06-08T03:47:02.992Z"
   },
   {
    "duration": 2,
    "start_time": "2022-06-08T03:47:04.100Z"
   },
   {
    "duration": 17,
    "start_time": "2022-06-08T03:47:04.685Z"
   },
   {
    "duration": 6,
    "start_time": "2022-06-08T03:47:05.431Z"
   },
   {
    "duration": 82,
    "start_time": "2022-06-08T03:47:05.895Z"
   },
   {
    "duration": 28,
    "start_time": "2022-06-08T03:47:06.346Z"
   },
   {
    "duration": 6,
    "start_time": "2022-06-08T03:47:08.544Z"
   },
   {
    "duration": 32,
    "start_time": "2022-06-08T03:47:09.597Z"
   },
   {
    "duration": 20,
    "start_time": "2022-06-08T03:47:10.555Z"
   },
   {
    "duration": 9,
    "start_time": "2022-06-08T03:47:11.880Z"
   },
   {
    "duration": 19,
    "start_time": "2022-06-08T03:47:12.818Z"
   },
   {
    "duration": 25,
    "start_time": "2022-06-08T03:47:13.682Z"
   },
   {
    "duration": 11,
    "start_time": "2022-06-08T03:47:14.142Z"
   },
   {
    "duration": 12,
    "start_time": "2022-06-08T03:47:14.588Z"
   },
   {
    "duration": 34,
    "start_time": "2022-06-08T03:47:15.051Z"
   },
   {
    "duration": 16,
    "start_time": "2022-06-08T03:47:15.500Z"
   },
   {
    "duration": 8,
    "start_time": "2022-06-08T03:47:18.159Z"
   },
   {
    "duration": 36,
    "start_time": "2022-06-08T03:47:18.587Z"
   },
   {
    "duration": 5,
    "start_time": "2022-06-08T03:47:21.063Z"
   },
   {
    "duration": 5,
    "start_time": "2022-06-08T03:47:22.928Z"
   },
   {
    "duration": 3,
    "start_time": "2022-06-08T03:48:40.015Z"
   },
   {
    "duration": 2238,
    "start_time": "2022-06-08T03:48:46.549Z"
   },
   {
    "duration": 3,
    "start_time": "2022-06-08T03:48:51.781Z"
   },
   {
    "duration": 3862,
    "start_time": "2022-06-08T03:48:54.274Z"
   },
   {
    "duration": 935,
    "start_time": "2022-06-08T03:48:58.138Z"
   },
   {
    "duration": 1931,
    "start_time": "2022-06-08T03:48:59.074Z"
   },
   {
    "duration": 12,
    "start_time": "2022-06-08T03:49:01.007Z"
   },
   {
    "duration": 14,
    "start_time": "2022-06-08T03:49:01.021Z"
   },
   {
    "duration": 176,
    "start_time": "2022-06-08T03:49:02.551Z"
   },
   {
    "duration": 3,
    "start_time": "2022-06-08T03:49:14.480Z"
   },
   {
    "duration": 89,
    "start_time": "2022-06-08T03:49:15.038Z"
   },
   {
    "duration": 56,
    "start_time": "2022-06-08T03:49:17.089Z"
   },
   {
    "duration": 64,
    "start_time": "2022-06-08T03:49:18.766Z"
   },
   {
    "duration": 19,
    "start_time": "2022-06-08T03:49:21.737Z"
   },
   {
    "duration": 79,
    "start_time": "2022-06-08T03:49:22.810Z"
   },
   {
    "duration": 26,
    "start_time": "2022-06-08T03:49:27.281Z"
   },
   {
    "duration": 95,
    "start_time": "2022-06-08T03:49:28.526Z"
   },
   {
    "duration": 36,
    "start_time": "2022-06-08T03:49:31.293Z"
   },
   {
    "duration": 19,
    "start_time": "2022-06-08T03:49:32.012Z"
   },
   {
    "duration": 18,
    "start_time": "2022-06-08T03:49:35.747Z"
   },
   {
    "duration": 41,
    "start_time": "2022-06-08T03:49:37.059Z"
   },
   {
    "duration": 20,
    "start_time": "2022-06-08T03:49:38.153Z"
   },
   {
    "duration": 148,
    "start_time": "2022-06-08T03:52:40.373Z"
   },
   {
    "duration": 24,
    "start_time": "2022-06-08T03:53:01.389Z"
   },
   {
    "duration": 15,
    "start_time": "2022-06-08T03:53:02.503Z"
   },
   {
    "duration": 47,
    "start_time": "2022-06-08T03:53:03.080Z"
   },
   {
    "duration": 21,
    "start_time": "2022-06-08T03:53:06.106Z"
   },
   {
    "duration": 19,
    "start_time": "2022-06-08T03:53:07.783Z"
   },
   {
    "duration": 58,
    "start_time": "2022-06-08T03:53:55.703Z"
   },
   {
    "duration": 14,
    "start_time": "2022-06-08T03:54:45.751Z"
   },
   {
    "duration": 19,
    "start_time": "2022-06-08T03:54:46.343Z"
   },
   {
    "duration": 32,
    "start_time": "2022-06-08T03:55:06.115Z"
   },
   {
    "duration": 58,
    "start_time": "2022-06-08T03:55:28.079Z"
   },
   {
    "duration": 94,
    "start_time": "2022-06-08T03:57:08.490Z"
   },
   {
    "duration": 5,
    "start_time": "2022-06-08T04:09:34.978Z"
   },
   {
    "duration": 28,
    "start_time": "2022-06-08T04:09:37.741Z"
   },
   {
    "duration": 14,
    "start_time": "2022-06-08T04:12:08.699Z"
   },
   {
    "duration": 53,
    "start_time": "2022-06-08T04:15:30.365Z"
   },
   {
    "duration": 99,
    "start_time": "2022-06-08T04:16:26.360Z"
   },
   {
    "duration": 4,
    "start_time": "2022-06-08T04:17:00.023Z"
   },
   {
    "duration": 13,
    "start_time": "2022-06-08T04:17:02.697Z"
   },
   {
    "duration": 4,
    "start_time": "2022-06-08T04:19:17.091Z"
   },
   {
    "duration": 14,
    "start_time": "2022-06-08T04:19:19.131Z"
   },
   {
    "duration": 85,
    "start_time": "2022-06-08T04:20:04.363Z"
   },
   {
    "duration": 5,
    "start_time": "2022-06-08T04:20:08.544Z"
   },
   {
    "duration": 13,
    "start_time": "2022-06-08T04:20:10.208Z"
   },
   {
    "duration": 14,
    "start_time": "2022-06-08T04:21:04.967Z"
   },
   {
    "duration": 52,
    "start_time": "2022-06-08T04:44:35.052Z"
   },
   {
    "duration": 87,
    "start_time": "2022-06-08T04:45:02.175Z"
   },
   {
    "duration": 5,
    "start_time": "2022-06-08T04:45:06.623Z"
   },
   {
    "duration": 349,
    "start_time": "2022-06-08T04:45:07.461Z"
   },
   {
    "duration": 5,
    "start_time": "2022-06-08T04:45:19.573Z"
   },
   {
    "duration": 331,
    "start_time": "2022-06-08T04:45:20.307Z"
   },
   {
    "duration": 52,
    "start_time": "2022-06-08T04:45:37.874Z"
   },
   {
    "duration": 85,
    "start_time": "2022-06-08T04:45:38.591Z"
   },
   {
    "duration": 4,
    "start_time": "2022-06-08T04:45:39.777Z"
   },
   {
    "duration": 37,
    "start_time": "2022-06-08T04:45:40.964Z"
   },
   {
    "duration": 44,
    "start_time": "2022-06-08T04:45:45.009Z"
   },
   {
    "duration": 50,
    "start_time": "2022-06-08T04:45:59.225Z"
   },
   {
    "duration": 83,
    "start_time": "2022-06-08T04:45:59.895Z"
   },
   {
    "duration": 5,
    "start_time": "2022-06-08T04:46:01.015Z"
   },
   {
    "duration": 35,
    "start_time": "2022-06-08T04:46:01.669Z"
   },
   {
    "duration": 1166,
    "start_time": "2022-06-08T04:46:21.448Z"
   },
   {
    "duration": 220,
    "start_time": "2022-06-08T04:46:23.160Z"
   },
   {
    "duration": 3,
    "start_time": "2022-06-08T04:46:23.558Z"
   },
   {
    "duration": 17,
    "start_time": "2022-06-08T04:46:23.982Z"
   },
   {
    "duration": 8,
    "start_time": "2022-06-08T04:46:24.390Z"
   },
   {
    "duration": 106,
    "start_time": "2022-06-08T04:46:24.671Z"
   },
   {
    "duration": 28,
    "start_time": "2022-06-08T04:46:25.005Z"
   },
   {
    "duration": 7,
    "start_time": "2022-06-08T04:46:26.621Z"
   },
   {
    "duration": 40,
    "start_time": "2022-06-08T04:46:27.336Z"
   },
   {
    "duration": 18,
    "start_time": "2022-06-08T04:46:28.076Z"
   },
   {
    "duration": 9,
    "start_time": "2022-06-08T04:46:28.910Z"
   },
   {
    "duration": 18,
    "start_time": "2022-06-08T04:46:29.444Z"
   },
   {
    "duration": 24,
    "start_time": "2022-06-08T04:46:29.954Z"
   },
   {
    "duration": 11,
    "start_time": "2022-06-08T04:46:30.515Z"
   },
   {
    "duration": 13,
    "start_time": "2022-06-08T04:46:30.890Z"
   },
   {
    "duration": 35,
    "start_time": "2022-06-08T04:46:31.257Z"
   },
   {
    "duration": 16,
    "start_time": "2022-06-08T04:46:31.514Z"
   },
   {
    "duration": 10,
    "start_time": "2022-06-08T04:46:31.960Z"
   },
   {
    "duration": 34,
    "start_time": "2022-06-08T04:46:32.192Z"
   },
   {
    "duration": 5,
    "start_time": "2022-06-08T04:46:33.143Z"
   },
   {
    "duration": 5,
    "start_time": "2022-06-08T04:46:33.524Z"
   },
   {
    "duration": 3,
    "start_time": "2022-06-08T04:46:34.259Z"
   },
   {
    "duration": 2127,
    "start_time": "2022-06-08T04:46:34.470Z"
   },
   {
    "duration": 4,
    "start_time": "2022-06-08T04:46:36.599Z"
   },
   {
    "duration": 4084,
    "start_time": "2022-06-08T04:46:36.605Z"
   },
   {
    "duration": 1016,
    "start_time": "2022-06-08T04:46:40.691Z"
   },
   {
    "duration": 2116,
    "start_time": "2022-06-08T04:46:41.708Z"
   },
   {
    "duration": 14,
    "start_time": "2022-06-08T04:46:43.826Z"
   },
   {
    "duration": 31,
    "start_time": "2022-06-08T04:46:43.841Z"
   },
   {
    "duration": 191,
    "start_time": "2022-06-08T04:46:43.874Z"
   },
   {
    "duration": 3,
    "start_time": "2022-06-08T04:46:44.067Z"
   },
   {
    "duration": 66,
    "start_time": "2022-06-08T04:46:44.072Z"
   },
   {
    "duration": 52,
    "start_time": "2022-06-08T04:46:44.915Z"
   },
   {
    "duration": 64,
    "start_time": "2022-06-08T04:46:45.953Z"
   },
   {
    "duration": 20,
    "start_time": "2022-06-08T04:46:47.463Z"
   },
   {
    "duration": 68,
    "start_time": "2022-06-08T04:46:50.576Z"
   },
   {
    "duration": 29,
    "start_time": "2022-06-08T04:46:51.472Z"
   },
   {
    "duration": 90,
    "start_time": "2022-06-08T04:46:53.674Z"
   },
   {
    "duration": 54,
    "start_time": "2022-06-08T04:46:56.077Z"
   },
   {
    "duration": 29,
    "start_time": "2022-06-08T04:46:56.533Z"
   },
   {
    "duration": 28,
    "start_time": "2022-06-08T04:46:57.462Z"
   },
   {
    "duration": 39,
    "start_time": "2022-06-08T04:46:58.881Z"
   },
   {
    "duration": 21,
    "start_time": "2022-06-08T04:47:10.884Z"
   },
   {
    "duration": 28,
    "start_time": "2022-06-08T04:47:11.839Z"
   },
   {
    "duration": 24,
    "start_time": "2022-06-08T04:47:12.704Z"
   },
   {
    "duration": 51,
    "start_time": "2022-06-08T04:47:13.125Z"
   },
   {
    "duration": 20,
    "start_time": "2022-06-08T04:47:15.505Z"
   },
   {
    "duration": 25,
    "start_time": "2022-06-08T04:47:31.659Z"
   },
   {
    "duration": 29,
    "start_time": "2022-06-08T04:47:32.117Z"
   },
   {
    "duration": 33,
    "start_time": "2022-06-08T04:49:39.950Z"
   },
   {
    "duration": 26,
    "start_time": "2022-06-08T04:50:30.877Z"
   },
   {
    "duration": 172,
    "start_time": "2022-06-08T04:51:02.559Z"
   },
   {
    "duration": 42,
    "start_time": "2022-06-08T04:51:12.996Z"
   },
   {
    "duration": 36,
    "start_time": "2022-06-08T04:51:24.537Z"
   },
   {
    "duration": 54,
    "start_time": "2022-06-08T04:53:22.119Z"
   },
   {
    "duration": 398,
    "start_time": "2022-06-08T04:53:51.019Z"
   },
   {
    "duration": 13,
    "start_time": "2022-06-08T05:21:37.787Z"
   },
   {
    "duration": 21,
    "start_time": "2022-06-08T05:21:38.284Z"
   },
   {
    "duration": 33,
    "start_time": "2022-06-08T05:21:41.417Z"
   },
   {
    "duration": 53,
    "start_time": "2022-06-08T05:21:42.307Z"
   },
   {
    "duration": 86,
    "start_time": "2022-06-08T05:21:43.934Z"
   },
   {
    "duration": 4,
    "start_time": "2022-06-08T05:21:48.625Z"
   },
   {
    "duration": 435,
    "start_time": "2022-06-08T05:21:49.301Z"
   },
   {
    "duration": 5,
    "start_time": "2022-06-08T05:22:09.537Z"
   },
   {
    "duration": 336,
    "start_time": "2022-06-08T05:22:10.500Z"
   },
   {
    "duration": 37,
    "start_time": "2022-06-08T05:22:36.499Z"
   },
   {
    "duration": 5,
    "start_time": "2022-06-08T05:22:38.756Z"
   },
   {
    "duration": 342,
    "start_time": "2022-06-08T05:22:44.221Z"
   },
   {
    "duration": 20,
    "start_time": "2022-06-08T05:23:38.549Z"
   },
   {
    "duration": 34,
    "start_time": "2022-06-08T05:23:39.259Z"
   },
   {
    "duration": 26,
    "start_time": "2022-06-08T05:23:39.976Z"
   },
   {
    "duration": 53,
    "start_time": "2022-06-08T05:23:41.023Z"
   },
   {
    "duration": 11,
    "start_time": "2022-06-08T05:23:42.637Z"
   },
   {
    "duration": 20,
    "start_time": "2022-06-08T05:23:43.119Z"
   },
   {
    "duration": 33,
    "start_time": "2022-06-08T05:23:44.130Z"
   },
   {
    "duration": 51,
    "start_time": "2022-06-08T05:23:45.273Z"
   },
   {
    "duration": 50,
    "start_time": "2022-06-08T05:23:46.171Z"
   },
   {
    "duration": 1128,
    "start_time": "2022-06-08T05:24:23.081Z"
   },
   {
    "duration": 362,
    "start_time": "2022-06-08T05:24:24.707Z"
   },
   {
    "duration": 3,
    "start_time": "2022-06-08T05:24:25.193Z"
   },
   {
    "duration": 23,
    "start_time": "2022-06-08T05:24:25.718Z"
   },
   {
    "duration": 9,
    "start_time": "2022-06-08T05:24:26.186Z"
   },
   {
    "duration": 80,
    "start_time": "2022-06-08T05:24:26.629Z"
   },
   {
    "duration": 25,
    "start_time": "2022-06-08T05:24:27.072Z"
   },
   {
    "duration": 9,
    "start_time": "2022-06-08T05:24:29.169Z"
   },
   {
    "duration": 39,
    "start_time": "2022-06-08T05:24:29.772Z"
   },
   {
    "duration": 18,
    "start_time": "2022-06-08T05:24:30.354Z"
   },
   {
    "duration": 10,
    "start_time": "2022-06-08T05:24:31.171Z"
   },
   {
    "duration": 33,
    "start_time": "2022-06-08T05:24:31.652Z"
   },
   {
    "duration": 24,
    "start_time": "2022-06-08T05:24:32.150Z"
   },
   {
    "duration": 15,
    "start_time": "2022-06-08T05:24:32.407Z"
   },
   {
    "duration": 17,
    "start_time": "2022-06-08T05:24:32.661Z"
   },
   {
    "duration": 46,
    "start_time": "2022-06-08T05:24:32.913Z"
   },
   {
    "duration": 16,
    "start_time": "2022-06-08T05:24:33.180Z"
   },
   {
    "duration": 9,
    "start_time": "2022-06-08T05:24:33.710Z"
   },
   {
    "duration": 34,
    "start_time": "2022-06-08T05:24:33.998Z"
   },
   {
    "duration": 5,
    "start_time": "2022-06-08T05:24:35.400Z"
   },
   {
    "duration": 6,
    "start_time": "2022-06-08T05:24:35.884Z"
   },
   {
    "duration": 4,
    "start_time": "2022-06-08T05:24:36.587Z"
   },
   {
    "duration": 2211,
    "start_time": "2022-06-08T05:24:36.831Z"
   },
   {
    "duration": 3,
    "start_time": "2022-06-08T05:24:40.715Z"
   },
   {
    "duration": 4024,
    "start_time": "2022-06-08T05:24:41.188Z"
   },
   {
    "duration": 1002,
    "start_time": "2022-06-08T05:24:45.213Z"
   },
   {
    "duration": 2080,
    "start_time": "2022-06-08T05:24:46.217Z"
   },
   {
    "duration": 14,
    "start_time": "2022-06-08T05:24:49.169Z"
   },
   {
    "duration": 23,
    "start_time": "2022-06-08T05:24:50.204Z"
   },
   {
    "duration": 197,
    "start_time": "2022-06-08T05:24:51.335Z"
   },
   {
    "duration": 3,
    "start_time": "2022-06-08T05:24:52.339Z"
   },
   {
    "duration": 97,
    "start_time": "2022-06-08T05:24:53.040Z"
   },
   {
    "duration": 65,
    "start_time": "2022-06-08T05:24:54.600Z"
   },
   {
    "duration": 68,
    "start_time": "2022-06-08T05:24:55.630Z"
   },
   {
    "duration": 28,
    "start_time": "2022-06-08T05:24:57.387Z"
   },
   {
    "duration": 71,
    "start_time": "2022-06-08T05:24:58.444Z"
   },
   {
    "duration": 29,
    "start_time": "2022-06-08T05:25:00.040Z"
   },
   {
    "duration": 76,
    "start_time": "2022-06-08T05:25:01.240Z"
   },
   {
    "duration": 37,
    "start_time": "2022-06-08T05:25:02.741Z"
   },
   {
    "duration": 20,
    "start_time": "2022-06-08T05:25:03.269Z"
   },
   {
    "duration": 23,
    "start_time": "2022-06-08T05:25:04.441Z"
   },
   {
    "duration": 55,
    "start_time": "2022-06-08T05:25:06.116Z"
   },
   {
    "duration": 24,
    "start_time": "2022-06-08T05:25:07.179Z"
   },
   {
    "duration": 26,
    "start_time": "2022-06-08T05:25:08.439Z"
   },
   {
    "duration": 18,
    "start_time": "2022-06-08T05:25:09.318Z"
   },
   {
    "duration": 49,
    "start_time": "2022-06-08T05:25:09.735Z"
   },
   {
    "duration": 20,
    "start_time": "2022-06-08T05:25:11.846Z"
   },
   {
    "duration": 35,
    "start_time": "2022-06-08T05:25:12.283Z"
   },
   {
    "duration": 31,
    "start_time": "2022-06-08T05:25:13.004Z"
   },
   {
    "duration": 64,
    "start_time": "2022-06-08T05:25:14.461Z"
   },
   {
    "duration": 11,
    "start_time": "2022-06-08T05:25:16.028Z"
   },
   {
    "duration": 30,
    "start_time": "2022-06-08T05:25:16.546Z"
   },
   {
    "duration": 40,
    "start_time": "2022-06-08T05:25:17.561Z"
   },
   {
    "duration": 69,
    "start_time": "2022-06-08T05:25:19.117Z"
   },
   {
    "duration": 192,
    "start_time": "2022-06-08T05:25:19.937Z"
   },
   {
    "duration": 100,
    "start_time": "2022-06-08T05:25:45.237Z"
   },
   {
    "duration": 5,
    "start_time": "2022-06-08T05:25:57.822Z"
   },
   {
    "duration": 16,
    "start_time": "2022-06-08T05:25:58.519Z"
   },
   {
    "duration": 15,
    "start_time": "2022-06-08T05:26:03.950Z"
   },
   {
    "duration": 14,
    "start_time": "2022-06-08T05:32:35.876Z"
   },
   {
    "duration": 6,
    "start_time": "2022-06-08T05:35:10.995Z"
   },
   {
    "duration": 19,
    "start_time": "2022-06-08T05:35:12.048Z"
   },
   {
    "duration": 33,
    "start_time": "2022-06-08T05:35:20.322Z"
   },
   {
    "duration": 5,
    "start_time": "2022-06-08T05:35:25.185Z"
   },
   {
    "duration": 14,
    "start_time": "2022-06-08T05:35:26.522Z"
   },
   {
    "duration": 8,
    "start_time": "2022-06-08T05:35:48.079Z"
   },
   {
    "duration": 5,
    "start_time": "2022-06-08T05:36:03.719Z"
   },
   {
    "duration": 8,
    "start_time": "2022-06-08T05:36:30.978Z"
   },
   {
    "duration": 4,
    "start_time": "2022-06-08T05:37:20.877Z"
   },
   {
    "duration": 14,
    "start_time": "2022-06-08T05:37:21.365Z"
   },
   {
    "duration": 44,
    "start_time": "2022-06-08T05:38:42.228Z"
   },
   {
    "duration": 34,
    "start_time": "2022-06-08T05:39:24.535Z"
   },
   {
    "duration": 37,
    "start_time": "2022-06-08T05:39:25.037Z"
   },
   {
    "duration": 7,
    "start_time": "2022-06-08T05:39:25.804Z"
   },
   {
    "duration": 13,
    "start_time": "2022-06-08T05:39:26.538Z"
   },
   {
    "duration": 5,
    "start_time": "2022-06-08T05:39:57.165Z"
   },
   {
    "duration": 6,
    "start_time": "2022-06-08T05:39:57.830Z"
   },
   {
    "duration": 6,
    "start_time": "2022-06-08T05:40:04.985Z"
   },
   {
    "duration": 86,
    "start_time": "2022-06-08T05:40:05.568Z"
   },
   {
    "duration": 2477,
    "start_time": "2022-06-08T05:40:23.921Z"
   },
   {
    "duration": 2658,
    "start_time": "2022-06-08T05:40:47.988Z"
   },
   {
    "duration": 21,
    "start_time": "2022-06-08T06:05:35.799Z"
   },
   {
    "duration": 109,
    "start_time": "2022-06-08T06:06:10.941Z"
   },
   {
    "duration": 94,
    "start_time": "2022-06-08T06:07:59.934Z"
   },
   {
    "duration": 45,
    "start_time": "2022-06-08T06:08:20.841Z"
   },
   {
    "duration": 25,
    "start_time": "2022-06-08T06:09:34.127Z"
   },
   {
    "duration": 20,
    "start_time": "2022-06-08T06:09:37.300Z"
   },
   {
    "duration": 6,
    "start_time": "2022-06-08T06:09:41.939Z"
   },
   {
    "duration": 22,
    "start_time": "2022-06-08T06:10:03.912Z"
   },
   {
    "duration": 17,
    "start_time": "2022-06-08T06:10:04.892Z"
   },
   {
    "duration": 5,
    "start_time": "2022-06-08T06:10:08.951Z"
   },
   {
    "duration": 1451,
    "start_time": "2022-06-09T05:46:19.108Z"
   },
   {
    "duration": 398,
    "start_time": "2022-06-09T05:46:20.561Z"
   },
   {
    "duration": 8,
    "start_time": "2022-06-09T05:46:20.962Z"
   },
   {
    "duration": 24,
    "start_time": "2022-06-09T05:46:20.975Z"
   },
   {
    "duration": 7,
    "start_time": "2022-06-09T05:46:21.000Z"
   },
   {
    "duration": 150,
    "start_time": "2022-06-09T05:46:21.009Z"
   },
   {
    "duration": 39,
    "start_time": "2022-06-09T05:46:21.160Z"
   },
   {
    "duration": 6,
    "start_time": "2022-06-09T05:46:21.201Z"
   },
   {
    "duration": 80,
    "start_time": "2022-06-09T05:46:21.209Z"
   },
   {
    "duration": 26,
    "start_time": "2022-06-09T05:46:21.292Z"
   },
   {
    "duration": 10,
    "start_time": "2022-06-09T05:46:21.320Z"
   },
   {
    "duration": 31,
    "start_time": "2022-06-09T05:46:21.362Z"
   },
   {
    "duration": 33,
    "start_time": "2022-06-09T05:46:21.395Z"
   },
   {
    "duration": 14,
    "start_time": "2022-06-09T05:46:21.430Z"
   },
   {
    "duration": 24,
    "start_time": "2022-06-09T05:46:21.463Z"
   },
   {
    "duration": 34,
    "start_time": "2022-06-09T05:46:21.489Z"
   },
   {
    "duration": 15,
    "start_time": "2022-06-09T05:46:21.525Z"
   },
   {
    "duration": 11,
    "start_time": "2022-06-09T05:46:21.564Z"
   },
   {
    "duration": 45,
    "start_time": "2022-06-09T05:46:21.577Z"
   },
   {
    "duration": 5,
    "start_time": "2022-06-09T05:46:21.623Z"
   },
   {
    "duration": 9,
    "start_time": "2022-06-09T05:46:21.629Z"
   },
   {
    "duration": 11,
    "start_time": "2022-06-09T05:46:21.640Z"
   },
   {
    "duration": 2589,
    "start_time": "2022-06-09T05:46:21.659Z"
   },
   {
    "duration": 12,
    "start_time": "2022-06-09T05:46:24.251Z"
   },
   {
    "duration": 4644,
    "start_time": "2022-06-09T05:46:24.266Z"
   },
   {
    "duration": 1071,
    "start_time": "2022-06-09T05:46:28.912Z"
   },
   {
    "duration": 2431,
    "start_time": "2022-06-09T05:46:29.985Z"
   },
   {
    "duration": 13,
    "start_time": "2022-06-09T05:46:32.421Z"
   },
   {
    "duration": 46,
    "start_time": "2022-06-09T05:46:32.435Z"
   },
   {
    "duration": 71,
    "start_time": "2022-06-09T05:46:32.485Z"
   },
   {
    "duration": 8,
    "start_time": "2022-06-09T05:46:32.562Z"
   },
   {
    "duration": 91,
    "start_time": "2022-06-09T05:46:32.572Z"
   },
   {
    "duration": 63,
    "start_time": "2022-06-09T05:46:32.666Z"
   },
   {
    "duration": 92,
    "start_time": "2022-06-09T05:46:32.731Z"
   },
   {
    "duration": 20,
    "start_time": "2022-06-09T05:46:32.824Z"
   },
   {
    "duration": 88,
    "start_time": "2022-06-09T05:46:32.860Z"
   },
   {
    "duration": 37,
    "start_time": "2022-06-09T05:46:32.970Z"
   },
   {
    "duration": 138,
    "start_time": "2022-06-09T05:46:33.008Z"
   },
   {
    "duration": 67,
    "start_time": "2022-06-09T05:46:33.148Z"
   },
   {
    "duration": 21,
    "start_time": "2022-06-09T05:46:33.217Z"
   },
   {
    "duration": 35,
    "start_time": "2022-06-09T05:46:33.240Z"
   },
   {
    "duration": 48,
    "start_time": "2022-06-09T05:46:33.277Z"
   },
   {
    "duration": 43,
    "start_time": "2022-06-09T05:46:33.327Z"
   },
   {
    "duration": 29,
    "start_time": "2022-06-09T05:46:33.371Z"
   },
   {
    "duration": 18,
    "start_time": "2022-06-09T05:46:33.402Z"
   },
   {
    "duration": 76,
    "start_time": "2022-06-09T05:46:33.422Z"
   },
   {
    "duration": 25,
    "start_time": "2022-06-09T05:46:33.500Z"
   },
   {
    "duration": 62,
    "start_time": "2022-06-09T05:46:33.527Z"
   },
   {
    "duration": 27,
    "start_time": "2022-06-09T05:46:33.590Z"
   },
   {
    "duration": 84,
    "start_time": "2022-06-09T05:46:33.618Z"
   },
   {
    "duration": 11,
    "start_time": "2022-06-09T05:46:33.703Z"
   },
   {
    "duration": 22,
    "start_time": "2022-06-09T05:46:33.716Z"
   },
   {
    "duration": 52,
    "start_time": "2022-06-09T05:46:33.740Z"
   },
   {
    "duration": 90,
    "start_time": "2022-06-09T05:46:33.794Z"
   },
   {
    "duration": 111,
    "start_time": "2022-06-09T05:46:33.886Z"
   },
   {
    "duration": 6,
    "start_time": "2022-06-09T05:46:33.999Z"
   },
   {
    "duration": 5,
    "start_time": "2022-06-09T05:46:34.006Z"
   },
   {
    "duration": 49,
    "start_time": "2022-06-09T05:46:34.012Z"
   },
   {
    "duration": 19,
    "start_time": "2022-06-09T05:46:34.063Z"
   },
   {
    "duration": 19,
    "start_time": "2022-06-09T05:46:34.084Z"
   },
   {
    "duration": 71,
    "start_time": "2022-06-09T05:46:34.105Z"
   },
   {
    "duration": 47,
    "start_time": "2022-06-09T05:46:34.178Z"
   },
   {
    "duration": 61,
    "start_time": "2022-06-09T05:46:34.227Z"
   },
   {
    "duration": 7,
    "start_time": "2022-06-09T05:46:34.289Z"
   },
   {
    "duration": 15,
    "start_time": "2022-06-09T05:46:34.297Z"
   },
   {
    "duration": 3,
    "start_time": "2022-06-09T05:46:34.314Z"
   },
   {
    "duration": 6,
    "start_time": "2022-06-09T05:46:34.319Z"
   },
   {
    "duration": 122,
    "start_time": "2022-06-09T05:46:34.326Z"
   },
   {
    "duration": 2989,
    "start_time": "2022-06-09T05:46:34.450Z"
   },
   {
    "duration": 242,
    "start_time": "2022-06-09T05:46:37.441Z"
   },
   {
    "duration": 639,
    "start_time": "2022-06-09T05:46:37.686Z"
   },
   {
    "duration": 42,
    "start_time": "2022-06-09T05:46:38.327Z"
   },
   {
    "duration": 102,
    "start_time": "2022-06-09T05:46:38.371Z"
   },
   {
    "duration": 37,
    "start_time": "2022-06-09T05:46:38.475Z"
   },
   {
    "duration": 17,
    "start_time": "2022-06-09T05:46:38.514Z"
   },
   {
    "duration": 9,
    "start_time": "2022-06-09T05:46:38.535Z"
   },
   {
    "duration": 23,
    "start_time": "2022-06-09T05:46:38.547Z"
   },
   {
    "duration": 39,
    "start_time": "2022-06-09T05:46:38.576Z"
   },
   {
    "duration": 16,
    "start_time": "2022-06-09T05:46:38.616Z"
   },
   {
    "duration": 10,
    "start_time": "2022-06-09T05:46:38.633Z"
   },
   {
    "duration": 19,
    "start_time": "2022-06-09T05:46:38.645Z"
   },
   {
    "duration": 19,
    "start_time": "2022-06-09T06:31:44.605Z"
   },
   {
    "duration": 8,
    "start_time": "2022-06-09T06:32:41.703Z"
   },
   {
    "duration": 9,
    "start_time": "2022-06-09T06:40:37.598Z"
   },
   {
    "duration": 32,
    "start_time": "2022-06-09T06:41:15.647Z"
   },
   {
    "duration": 11,
    "start_time": "2022-06-09T06:42:44.717Z"
   },
   {
    "duration": 36,
    "start_time": "2022-06-09T07:12:58.344Z"
   },
   {
    "duration": 1363,
    "start_time": "2022-06-09T09:13:07.880Z"
   },
   {
    "duration": 583,
    "start_time": "2022-06-09T09:13:11.261Z"
   },
   {
    "duration": 3,
    "start_time": "2022-06-09T09:13:11.846Z"
   },
   {
    "duration": 19,
    "start_time": "2022-06-09T09:13:12.284Z"
   },
   {
    "duration": 8,
    "start_time": "2022-06-09T09:13:12.796Z"
   },
   {
    "duration": 84,
    "start_time": "2022-06-09T09:13:13.103Z"
   },
   {
    "duration": 29,
    "start_time": "2022-06-09T09:13:13.410Z"
   },
   {
    "duration": 7,
    "start_time": "2022-06-09T09:13:15.275Z"
   },
   {
    "duration": 40,
    "start_time": "2022-06-09T09:13:16.380Z"
   },
   {
    "duration": 20,
    "start_time": "2022-06-09T09:13:17.405Z"
   },
   {
    "duration": 9,
    "start_time": "2022-06-09T09:13:18.838Z"
   },
   {
    "duration": 19,
    "start_time": "2022-06-09T09:13:19.657Z"
   },
   {
    "duration": 25,
    "start_time": "2022-06-09T09:13:20.375Z"
   },
   {
    "duration": 11,
    "start_time": "2022-06-09T09:13:20.709Z"
   },
   {
    "duration": 13,
    "start_time": "2022-06-09T09:13:21.194Z"
   },
   {
    "duration": 40,
    "start_time": "2022-06-09T09:13:21.909Z"
   },
   {
    "duration": 17,
    "start_time": "2022-06-09T09:13:22.420Z"
   },
   {
    "duration": 9,
    "start_time": "2022-06-09T09:13:26.414Z"
   },
   {
    "duration": 56,
    "start_time": "2022-06-09T09:13:31.842Z"
   },
   {
    "duration": 5,
    "start_time": "2022-06-09T09:13:41.160Z"
   },
   {
    "duration": 6,
    "start_time": "2022-06-09T09:13:42.697Z"
   },
   {
    "duration": 4,
    "start_time": "2022-06-09T09:13:44.131Z"
   },
   {
    "duration": 2321,
    "start_time": "2022-06-09T09:13:47.329Z"
   },
   {
    "duration": 4,
    "start_time": "2022-06-09T09:13:49.653Z"
   },
   {
    "duration": 4022,
    "start_time": "2022-06-09T09:13:49.773Z"
   },
   {
    "duration": 953,
    "start_time": "2022-06-09T09:13:53.797Z"
   },
   {
    "duration": 2164,
    "start_time": "2022-06-09T09:13:54.752Z"
   },
   {
    "duration": 14,
    "start_time": "2022-06-09T09:14:04.815Z"
   },
   {
    "duration": 16,
    "start_time": "2022-06-09T09:14:05.540Z"
   },
   {
    "duration": 79,
    "start_time": "2022-06-09T09:14:06.147Z"
   },
   {
    "duration": 4,
    "start_time": "2022-06-09T09:14:49.612Z"
   },
   {
    "duration": 72,
    "start_time": "2022-06-09T09:14:50.156Z"
   },
   {
    "duration": 57,
    "start_time": "2022-06-09T09:14:51.715Z"
   },
   {
    "duration": 71,
    "start_time": "2022-06-09T09:14:53.200Z"
   },
   {
    "duration": 55,
    "start_time": "2022-06-09T09:17:44.361Z"
   },
   {
    "duration": 86,
    "start_time": "2022-06-09T09:21:26.985Z"
   },
   {
    "duration": 73,
    "start_time": "2022-06-09T09:21:45.929Z"
   },
   {
    "duration": 21,
    "start_time": "2022-06-09T09:23:45.120Z"
   },
   {
    "duration": 68,
    "start_time": "2022-06-09T09:23:52.084Z"
   },
   {
    "duration": 161,
    "start_time": "2022-06-09T09:24:32.226Z"
   },
   {
    "duration": 36,
    "start_time": "2022-06-09T09:26:38.180Z"
   },
   {
    "duration": 5,
    "start_time": "2022-06-09T09:27:26.101Z"
   },
   {
    "duration": 5,
    "start_time": "2022-06-09T09:27:54.262Z"
   },
   {
    "duration": 33,
    "start_time": "2022-06-09T09:28:15.050Z"
   },
   {
    "duration": 383,
    "start_time": "2022-06-09T09:29:23.965Z"
   },
   {
    "duration": 8,
    "start_time": "2022-06-09T09:29:56.840Z"
   },
   {
    "duration": 12,
    "start_time": "2022-06-09T09:30:14.756Z"
   },
   {
    "duration": 11,
    "start_time": "2022-06-09T09:30:21.924Z"
   },
   {
    "duration": 34,
    "start_time": "2022-06-09T09:30:35.040Z"
   },
   {
    "duration": 27,
    "start_time": "2022-06-09T09:30:58.584Z"
   },
   {
    "duration": 30,
    "start_time": "2022-06-09T09:31:19.782Z"
   },
   {
    "duration": 29,
    "start_time": "2022-06-09T09:31:29.100Z"
   },
   {
    "duration": 30,
    "start_time": "2022-06-09T09:31:35.653Z"
   },
   {
    "duration": 38,
    "start_time": "2022-06-09T09:31:42.514Z"
   },
   {
    "duration": 28,
    "start_time": "2022-06-09T09:31:57.157Z"
   },
   {
    "duration": 33,
    "start_time": "2022-06-09T09:32:07.500Z"
   },
   {
    "duration": 29,
    "start_time": "2022-06-09T09:32:16.616Z"
   },
   {
    "duration": 28,
    "start_time": "2022-06-09T09:32:30.540Z"
   },
   {
    "duration": 29,
    "start_time": "2022-06-09T09:32:53.580Z"
   },
   {
    "duration": 30,
    "start_time": "2022-06-09T09:33:09.350Z"
   },
   {
    "duration": 46,
    "start_time": "2022-06-09T09:36:56.577Z"
   },
   {
    "duration": 31,
    "start_time": "2022-06-09T09:37:10.095Z"
   },
   {
    "duration": 42,
    "start_time": "2022-06-09T09:40:25.169Z"
   },
   {
    "duration": 42,
    "start_time": "2022-06-09T09:46:30.151Z"
   },
   {
    "duration": 32,
    "start_time": "2022-06-09T09:47:30.085Z"
   },
   {
    "duration": 31,
    "start_time": "2022-06-09T09:49:21.830Z"
   },
   {
    "duration": 30,
    "start_time": "2022-06-09T09:50:54.136Z"
   },
   {
    "duration": 31,
    "start_time": "2022-06-09T09:51:04.648Z"
   },
   {
    "duration": 70,
    "start_time": "2022-06-09T09:52:11.249Z"
   },
   {
    "duration": 69,
    "start_time": "2022-06-09T09:52:27.713Z"
   },
   {
    "duration": 65,
    "start_time": "2022-06-09T09:52:33.423Z"
   },
   {
    "duration": 46,
    "start_time": "2022-06-09T09:52:56.175Z"
   },
   {
    "duration": 73,
    "start_time": "2022-06-09T09:52:57.761Z"
   },
   {
    "duration": 47,
    "start_time": "2022-06-09T09:53:02.422Z"
   },
   {
    "duration": 23,
    "start_time": "2022-06-09T09:53:06.194Z"
   },
   {
    "duration": 4,
    "start_time": "2022-06-09T10:03:59.876Z"
   },
   {
    "duration": 12,
    "start_time": "2022-06-09T10:04:00.402Z"
   },
   {
    "duration": 6,
    "start_time": "2022-06-09T10:04:08.962Z"
   },
   {
    "duration": 4,
    "start_time": "2022-06-09T10:09:30.325Z"
   },
   {
    "duration": 5,
    "start_time": "2022-06-09T10:09:30.814Z"
   },
   {
    "duration": 4,
    "start_time": "2022-06-09T10:11:25.385Z"
   },
   {
    "duration": 20,
    "start_time": "2022-06-09T10:11:28.654Z"
   },
   {
    "duration": 5,
    "start_time": "2022-06-09T10:12:02.251Z"
   },
   {
    "duration": 14,
    "start_time": "2022-06-09T10:12:03.024Z"
   },
   {
    "duration": 5,
    "start_time": "2022-06-09T10:12:21.053Z"
   },
   {
    "duration": 17,
    "start_time": "2022-06-09T10:12:22.487Z"
   },
   {
    "duration": 5,
    "start_time": "2022-06-09T10:13:33.267Z"
   },
   {
    "duration": 17,
    "start_time": "2022-06-09T10:13:34.090Z"
   },
   {
    "duration": 4,
    "start_time": "2022-06-09T10:13:53.576Z"
   },
   {
    "duration": 5,
    "start_time": "2022-06-09T10:13:54.255Z"
   },
   {
    "duration": 4,
    "start_time": "2022-06-09T10:17:31.501Z"
   },
   {
    "duration": 6,
    "start_time": "2022-06-09T10:17:32.606Z"
   },
   {
    "duration": 5,
    "start_time": "2022-06-09T10:17:53.944Z"
   },
   {
    "duration": 5,
    "start_time": "2022-06-09T10:17:55.924Z"
   },
   {
    "duration": 6,
    "start_time": "2022-06-09T10:18:08.622Z"
   },
   {
    "duration": 4,
    "start_time": "2022-06-09T10:18:14.014Z"
   },
   {
    "duration": 5,
    "start_time": "2022-06-09T10:18:14.668Z"
   },
   {
    "duration": 4,
    "start_time": "2022-06-09T10:24:49.721Z"
   },
   {
    "duration": 5,
    "start_time": "2022-06-09T10:24:50.479Z"
   },
   {
    "duration": 4,
    "start_time": "2022-06-09T10:25:04.935Z"
   },
   {
    "duration": 4,
    "start_time": "2022-06-09T10:25:05.482Z"
   },
   {
    "duration": 6,
    "start_time": "2022-06-09T10:25:17.637Z"
   },
   {
    "duration": 5,
    "start_time": "2022-06-09T10:25:18.284Z"
   },
   {
    "duration": 3,
    "start_time": "2022-06-09T10:26:42.704Z"
   },
   {
    "duration": 24,
    "start_time": "2022-06-09T10:27:02.774Z"
   },
   {
    "duration": 65,
    "start_time": "2022-06-09T10:28:19.494Z"
   },
   {
    "duration": 30,
    "start_time": "2022-06-09T10:33:43.123Z"
   },
   {
    "duration": 6,
    "start_time": "2022-06-09T10:33:59.184Z"
   },
   {
    "duration": 7,
    "start_time": "2022-06-09T10:34:38.511Z"
   },
   {
    "duration": 4,
    "start_time": "2022-06-09T10:36:41.815Z"
   },
   {
    "duration": 5,
    "start_time": "2022-06-09T10:36:42.486Z"
   },
   {
    "duration": 21,
    "start_time": "2022-06-09T10:37:33.438Z"
   },
   {
    "duration": 65,
    "start_time": "2022-06-09T10:37:41.276Z"
   },
   {
    "duration": 23,
    "start_time": "2022-06-09T10:50:22.237Z"
   },
   {
    "duration": 28,
    "start_time": "2022-06-09T10:50:43.618Z"
   },
   {
    "duration": 21,
    "start_time": "2022-06-09T10:50:54.195Z"
   },
   {
    "duration": 5,
    "start_time": "2022-06-09T10:51:09.882Z"
   },
   {
    "duration": 14,
    "start_time": "2022-06-09T10:51:11.286Z"
   },
   {
    "duration": 5,
    "start_time": "2022-06-09T10:51:21.425Z"
   },
   {
    "duration": 32,
    "start_time": "2022-06-09T10:53:09.480Z"
   },
   {
    "duration": 61,
    "start_time": "2022-06-09T10:53:10.780Z"
   },
   {
    "duration": 46,
    "start_time": "2022-06-09T10:53:28.829Z"
   },
   {
    "duration": 74,
    "start_time": "2022-06-09T10:53:35.069Z"
   },
   {
    "duration": 15,
    "start_time": "2022-06-09T10:54:36.588Z"
   },
   {
    "duration": 31,
    "start_time": "2022-06-09T10:54:50.508Z"
   },
   {
    "duration": 57,
    "start_time": "2022-06-09T10:55:52.822Z"
   },
   {
    "duration": 12,
    "start_time": "2022-06-09T10:56:22.240Z"
   },
   {
    "duration": 29,
    "start_time": "2022-06-09T10:56:22.989Z"
   },
   {
    "duration": 50,
    "start_time": "2022-06-09T10:56:25.987Z"
   },
   {
    "duration": 19,
    "start_time": "2022-06-09T10:56:33.647Z"
   },
   {
    "duration": 33,
    "start_time": "2022-06-09T10:56:34.391Z"
   },
   {
    "duration": 55,
    "start_time": "2022-06-09T10:57:01.885Z"
   },
   {
    "duration": 57,
    "start_time": "2022-06-09T10:57:19.072Z"
   },
   {
    "duration": 106,
    "start_time": "2022-06-09T10:58:03.690Z"
   },
   {
    "duration": 7,
    "start_time": "2022-06-09T10:58:30.245Z"
   },
   {
    "duration": 6,
    "start_time": "2022-06-09T10:58:43.046Z"
   },
   {
    "duration": 24,
    "start_time": "2022-06-09T10:58:43.917Z"
   },
   {
    "duration": 2,
    "start_time": "2022-06-09T10:59:28.083Z"
   },
   {
    "duration": 3,
    "start_time": "2022-06-09T10:59:38.439Z"
   },
   {
    "duration": 5,
    "start_time": "2022-06-09T11:02:19.809Z"
   },
   {
    "duration": 15,
    "start_time": "2022-06-09T11:02:21.854Z"
   },
   {
    "duration": 43,
    "start_time": "2022-06-09T11:02:44.660Z"
   },
   {
    "duration": 39,
    "start_time": "2022-06-09T11:02:57.348Z"
   },
   {
    "duration": 46,
    "start_time": "2022-06-09T11:02:59.354Z"
   },
   {
    "duration": 7,
    "start_time": "2022-06-09T11:03:01.243Z"
   },
   {
    "duration": 16,
    "start_time": "2022-06-09T11:04:06.351Z"
   },
   {
    "duration": 6,
    "start_time": "2022-06-09T11:04:55.445Z"
   },
   {
    "duration": 17,
    "start_time": "2022-06-09T11:06:50.543Z"
   },
   {
    "duration": 10,
    "start_time": "2022-06-09T11:07:21.965Z"
   },
   {
    "duration": 16,
    "start_time": "2022-06-09T11:08:34.395Z"
   },
   {
    "duration": 6,
    "start_time": "2022-06-09T11:09:18.015Z"
   },
   {
    "duration": 1239,
    "start_time": "2022-06-09T11:09:50.312Z"
   },
   {
    "duration": 438,
    "start_time": "2022-06-09T11:09:52.122Z"
   },
   {
    "duration": 3,
    "start_time": "2022-06-09T11:09:52.564Z"
   },
   {
    "duration": 18,
    "start_time": "2022-06-09T11:09:52.836Z"
   },
   {
    "duration": 7,
    "start_time": "2022-06-09T11:09:53.204Z"
   },
   {
    "duration": 97,
    "start_time": "2022-06-09T11:09:53.698Z"
   },
   {
    "duration": 32,
    "start_time": "2022-06-09T11:09:54.126Z"
   },
   {
    "duration": 8,
    "start_time": "2022-06-09T11:09:55.829Z"
   },
   {
    "duration": 36,
    "start_time": "2022-06-09T11:09:56.529Z"
   },
   {
    "duration": 22,
    "start_time": "2022-06-09T11:09:57.267Z"
   },
   {
    "duration": 9,
    "start_time": "2022-06-09T11:09:58.452Z"
   },
   {
    "duration": 20,
    "start_time": "2022-06-09T11:09:59.150Z"
   },
   {
    "duration": 25,
    "start_time": "2022-06-09T11:09:59.804Z"
   },
   {
    "duration": 13,
    "start_time": "2022-06-09T11:10:00.101Z"
   },
   {
    "duration": 13,
    "start_time": "2022-06-09T11:10:00.423Z"
   },
   {
    "duration": 37,
    "start_time": "2022-06-09T11:10:00.792Z"
   },
   {
    "duration": 19,
    "start_time": "2022-06-09T11:10:01.195Z"
   },
   {
    "duration": 12,
    "start_time": "2022-06-09T11:10:02.120Z"
   },
   {
    "duration": 35,
    "start_time": "2022-06-09T11:10:02.446Z"
   },
   {
    "duration": 5,
    "start_time": "2022-06-09T11:10:04.306Z"
   },
   {
    "duration": 6,
    "start_time": "2022-06-09T11:10:04.944Z"
   },
   {
    "duration": 4,
    "start_time": "2022-06-09T11:10:05.989Z"
   },
   {
    "duration": 2351,
    "start_time": "2022-06-09T11:10:06.330Z"
   },
   {
    "duration": 5,
    "start_time": "2022-06-09T11:10:08.684Z"
   },
   {
    "duration": 4531,
    "start_time": "2022-06-09T11:10:08.691Z"
   },
   {
    "duration": 963,
    "start_time": "2022-06-09T11:10:13.224Z"
   },
   {
    "duration": 2246,
    "start_time": "2022-06-09T11:10:14.188Z"
   },
   {
    "duration": 14,
    "start_time": "2022-06-09T11:10:16.436Z"
   },
   {
    "duration": 18,
    "start_time": "2022-06-09T11:10:16.453Z"
   },
   {
    "duration": 78,
    "start_time": "2022-06-09T11:10:18.509Z"
   },
   {
    "duration": 5,
    "start_time": "2022-06-09T11:10:59.007Z"
   },
   {
    "duration": 66,
    "start_time": "2022-06-09T11:10:59.766Z"
   },
   {
    "duration": 56,
    "start_time": "2022-06-09T11:11:07.186Z"
   },
   {
    "duration": 86,
    "start_time": "2022-06-09T11:11:12.493Z"
   },
   {
    "duration": 20,
    "start_time": "2022-06-09T11:11:26.197Z"
   },
   {
    "duration": 70,
    "start_time": "2022-06-09T11:11:29.102Z"
   },
   {
    "duration": 30,
    "start_time": "2022-06-09T11:11:43.716Z"
   },
   {
    "duration": 72,
    "start_time": "2022-06-09T11:11:45.103Z"
   },
   {
    "duration": 38,
    "start_time": "2022-06-09T11:11:46.696Z"
   },
   {
    "duration": 22,
    "start_time": "2022-06-09T11:11:48.355Z"
   },
   {
    "duration": 19,
    "start_time": "2022-06-09T11:11:49.861Z"
   },
   {
    "duration": 5,
    "start_time": "2022-06-09T11:11:51.751Z"
   },
   {
    "duration": 5,
    "start_time": "2022-06-09T11:12:26.307Z"
   },
   {
    "duration": 3,
    "start_time": "2022-06-09T11:12:27.619Z"
   },
   {
    "duration": 22,
    "start_time": "2022-06-09T11:12:31.289Z"
   },
   {
    "duration": 55,
    "start_time": "2022-06-09T11:12:32.661Z"
   },
   {
    "duration": 29,
    "start_time": "2022-06-09T11:12:33.987Z"
   },
   {
    "duration": 52,
    "start_time": "2022-06-09T11:12:34.622Z"
   },
   {
    "duration": 22,
    "start_time": "2022-06-09T11:12:43.371Z"
   },
   {
    "duration": 40,
    "start_time": "2022-06-09T11:12:43.982Z"
   },
   {
    "duration": 29,
    "start_time": "2022-06-09T11:12:44.695Z"
   },
   {
    "duration": 68,
    "start_time": "2022-06-09T11:12:45.952Z"
   },
   {
    "duration": 12,
    "start_time": "2022-06-09T11:13:39.856Z"
   },
   {
    "duration": 21,
    "start_time": "2022-06-09T11:13:40.666Z"
   },
   {
    "duration": 11,
    "start_time": "2022-06-09T11:13:44.616Z"
   },
   {
    "duration": 22,
    "start_time": "2022-06-09T11:13:45.191Z"
   },
   {
    "duration": 37,
    "start_time": "2022-06-09T11:13:47.112Z"
   },
   {
    "duration": 22,
    "start_time": "2022-06-09T11:14:12.481Z"
   },
   {
    "duration": 37,
    "start_time": "2022-06-09T11:14:14.202Z"
   },
   {
    "duration": 54,
    "start_time": "2022-06-09T11:14:16.110Z"
   },
   {
    "duration": 104,
    "start_time": "2022-06-09T11:14:24.625Z"
   },
   {
    "duration": 5,
    "start_time": "2022-06-09T11:14:39.057Z"
   },
   {
    "duration": 19,
    "start_time": "2022-06-09T11:14:40.125Z"
   },
   {
    "duration": 46,
    "start_time": "2022-06-09T11:17:12.355Z"
   },
   {
    "duration": 38,
    "start_time": "2022-06-09T11:17:14.737Z"
   },
   {
    "duration": 53,
    "start_time": "2022-06-09T11:17:15.586Z"
   },
   {
    "duration": 632,
    "start_time": "2022-06-09T11:17:20.856Z"
   },
   {
    "duration": 15,
    "start_time": "2022-06-09T11:18:00.235Z"
   },
   {
    "duration": 289,
    "start_time": "2022-06-09T11:19:44.146Z"
   },
   {
    "duration": 6,
    "start_time": "2022-06-09T11:20:12.639Z"
   },
   {
    "duration": 6,
    "start_time": "2022-06-09T11:20:27.470Z"
   },
   {
    "duration": 8,
    "start_time": "2022-06-09T11:21:11.630Z"
   },
   {
    "duration": 11,
    "start_time": "2022-06-09T11:21:27.140Z"
   },
   {
    "duration": 10,
    "start_time": "2022-06-09T11:21:41.565Z"
   },
   {
    "duration": 11,
    "start_time": "2022-06-09T11:21:43.761Z"
   },
   {
    "duration": 6,
    "start_time": "2022-06-09T11:22:32.197Z"
   },
   {
    "duration": 4,
    "start_time": "2022-06-09T11:23:04.171Z"
   },
   {
    "duration": 12,
    "start_time": "2022-06-09T11:23:18.343Z"
   },
   {
    "duration": 9,
    "start_time": "2022-06-09T11:23:31.131Z"
   },
   {
    "duration": 11,
    "start_time": "2022-06-09T11:23:57.308Z"
   },
   {
    "duration": 20,
    "start_time": "2022-06-09T11:24:45.250Z"
   },
   {
    "duration": 8,
    "start_time": "2022-06-09T11:25:45.751Z"
   },
   {
    "duration": 27,
    "start_time": "2022-06-09T11:26:05.651Z"
   },
   {
    "duration": 29,
    "start_time": "2022-06-09T11:26:36.152Z"
   },
   {
    "duration": 19,
    "start_time": "2022-06-09T11:26:54.853Z"
   },
   {
    "duration": 19,
    "start_time": "2022-06-09T11:27:00.849Z"
   },
   {
    "duration": 8,
    "start_time": "2022-06-09T11:28:24.249Z"
   },
   {
    "duration": 6,
    "start_time": "2022-06-09T11:32:04.613Z"
   },
   {
    "duration": 11,
    "start_time": "2022-06-09T11:32:15.557Z"
   },
   {
    "duration": 25,
    "start_time": "2022-06-09T11:32:44.991Z"
   },
   {
    "duration": 11,
    "start_time": "2022-06-09T11:33:10.416Z"
   },
   {
    "duration": 11,
    "start_time": "2022-06-09T11:33:30.847Z"
   },
   {
    "duration": 12,
    "start_time": "2022-06-09T11:33:58.140Z"
   },
   {
    "duration": 7,
    "start_time": "2022-06-09T11:34:05.947Z"
   },
   {
    "duration": 27,
    "start_time": "2022-06-09T11:34:09.263Z"
   },
   {
    "duration": 1385,
    "start_time": "2022-06-09T11:35:01.638Z"
   },
   {
    "duration": 338,
    "start_time": "2022-06-09T11:35:03.026Z"
   },
   {
    "duration": 3,
    "start_time": "2022-06-09T11:35:03.367Z"
   },
   {
    "duration": 18,
    "start_time": "2022-06-09T11:35:03.735Z"
   },
   {
    "duration": 7,
    "start_time": "2022-06-09T11:35:04.392Z"
   },
   {
    "duration": 95,
    "start_time": "2022-06-09T11:35:05.042Z"
   },
   {
    "duration": 34,
    "start_time": "2022-06-09T11:35:05.336Z"
   },
   {
    "duration": 7,
    "start_time": "2022-06-09T11:35:06.506Z"
   },
   {
    "duration": 36,
    "start_time": "2022-06-09T11:35:06.956Z"
   },
   {
    "duration": 22,
    "start_time": "2022-06-09T11:35:07.397Z"
   },
   {
    "duration": 11,
    "start_time": "2022-06-09T11:35:08.073Z"
   },
   {
    "duration": 25,
    "start_time": "2022-06-09T11:35:08.520Z"
   },
   {
    "duration": 28,
    "start_time": "2022-06-09T11:35:08.948Z"
   },
   {
    "duration": 13,
    "start_time": "2022-06-09T11:35:09.243Z"
   },
   {
    "duration": 15,
    "start_time": "2022-06-09T11:35:09.521Z"
   },
   {
    "duration": 41,
    "start_time": "2022-06-09T11:35:09.817Z"
   },
   {
    "duration": 21,
    "start_time": "2022-06-09T11:35:10.115Z"
   },
   {
    "duration": 9,
    "start_time": "2022-06-09T11:35:10.630Z"
   },
   {
    "duration": 33,
    "start_time": "2022-06-09T11:35:10.859Z"
   },
   {
    "duration": 5,
    "start_time": "2022-06-09T11:35:14.146Z"
   },
   {
    "duration": 6,
    "start_time": "2022-06-09T11:35:14.641Z"
   },
   {
    "duration": 4,
    "start_time": "2022-06-09T11:35:15.342Z"
   },
   {
    "duration": 2254,
    "start_time": "2022-06-09T11:35:15.583Z"
   },
   {
    "duration": 4,
    "start_time": "2022-06-09T11:35:17.840Z"
   },
   {
    "duration": 4225,
    "start_time": "2022-06-09T11:35:17.846Z"
   },
   {
    "duration": 1153,
    "start_time": "2022-06-09T11:35:22.074Z"
   },
   {
    "duration": 2233,
    "start_time": "2022-06-09T11:35:23.229Z"
   },
   {
    "duration": 14,
    "start_time": "2022-06-09T11:35:25.464Z"
   },
   {
    "duration": 19,
    "start_time": "2022-06-09T11:35:25.480Z"
   },
   {
    "duration": 68,
    "start_time": "2022-06-09T11:35:25.522Z"
   },
   {
    "duration": 4,
    "start_time": "2022-06-09T11:35:25.591Z"
   },
   {
    "duration": 94,
    "start_time": "2022-06-09T11:35:25.597Z"
   },
   {
    "duration": 66,
    "start_time": "2022-06-09T11:35:25.693Z"
   },
   {
    "duration": 77,
    "start_time": "2022-06-09T11:35:25.761Z"
   },
   {
    "duration": 22,
    "start_time": "2022-06-09T11:35:26.602Z"
   },
   {
    "duration": 75,
    "start_time": "2022-06-09T11:35:29.934Z"
   },
   {
    "duration": 31,
    "start_time": "2022-06-09T11:35:36.800Z"
   },
   {
    "duration": 78,
    "start_time": "2022-06-09T11:35:39.296Z"
   },
   {
    "duration": 41,
    "start_time": "2022-06-09T11:35:41.661Z"
   },
   {
    "duration": 36,
    "start_time": "2022-06-09T11:35:42.636Z"
   },
   {
    "duration": 19,
    "start_time": "2022-06-09T11:35:44.075Z"
   },
   {
    "duration": 4,
    "start_time": "2022-06-09T11:35:46.541Z"
   },
   {
    "duration": 4,
    "start_time": "2022-06-09T11:35:47.175Z"
   },
   {
    "duration": 2,
    "start_time": "2022-06-09T11:35:48.251Z"
   },
   {
    "duration": 39,
    "start_time": "2022-06-09T11:35:50.355Z"
   },
   {
    "duration": 48,
    "start_time": "2022-06-09T11:35:51.739Z"
   },
   {
    "duration": 17,
    "start_time": "2022-06-09T11:35:53.000Z"
   },
   {
    "duration": 69,
    "start_time": "2022-06-09T11:35:53.753Z"
   },
   {
    "duration": 28,
    "start_time": "2022-06-09T11:50:35.964Z"
   },
   {
    "duration": 39,
    "start_time": "2022-06-09T11:50:37.136Z"
   },
   {
    "duration": 30,
    "start_time": "2022-06-09T11:50:38.263Z"
   },
   {
    "duration": 61,
    "start_time": "2022-06-09T11:50:39.640Z"
   },
   {
    "duration": 12,
    "start_time": "2022-06-09T11:50:41.909Z"
   },
   {
    "duration": 27,
    "start_time": "2022-06-09T11:50:42.585Z"
   },
   {
    "duration": 38,
    "start_time": "2022-06-09T11:50:43.968Z"
   },
   {
    "duration": 60,
    "start_time": "2022-06-09T11:50:45.388Z"
   },
   {
    "duration": 107,
    "start_time": "2022-06-09T11:50:46.558Z"
   },
   {
    "duration": 6,
    "start_time": "2022-06-09T11:50:49.556Z"
   },
   {
    "duration": 21,
    "start_time": "2022-06-09T11:50:50.313Z"
   },
   {
    "duration": 43,
    "start_time": "2022-06-09T11:50:56.968Z"
   },
   {
    "duration": 49,
    "start_time": "2022-06-09T11:52:05.896Z"
   },
   {
    "duration": 38,
    "start_time": "2022-06-09T11:54:51.780Z"
   },
   {
    "duration": 568,
    "start_time": "2022-06-09T11:55:13.147Z"
   },
   {
    "duration": 7,
    "start_time": "2022-06-09T11:55:25.723Z"
   },
   {
    "duration": 5,
    "start_time": "2022-06-09T11:56:17.954Z"
   },
   {
    "duration": 7,
    "start_time": "2022-06-09T11:56:27.721Z"
   },
   {
    "duration": 506,
    "start_time": "2022-06-09T11:58:50.249Z"
   },
   {
    "duration": 33,
    "start_time": "2022-06-09T11:59:02.152Z"
   },
   {
    "duration": 5,
    "start_time": "2022-06-09T11:59:21.395Z"
   },
   {
    "duration": 6,
    "start_time": "2022-06-09T11:59:30.573Z"
   },
   {
    "duration": 7,
    "start_time": "2022-06-09T11:59:55.412Z"
   },
   {
    "duration": 14,
    "start_time": "2022-06-09T12:00:25.599Z"
   },
   {
    "duration": 21,
    "start_time": "2022-06-09T12:02:18.342Z"
   },
   {
    "duration": 5,
    "start_time": "2022-06-09T12:02:32.171Z"
   },
   {
    "duration": 8,
    "start_time": "2022-06-09T12:02:44.380Z"
   },
   {
    "duration": 6,
    "start_time": "2022-06-09T12:03:02.838Z"
   },
   {
    "duration": 21,
    "start_time": "2022-06-09T12:03:46.906Z"
   },
   {
    "duration": 46,
    "start_time": "2022-06-09T12:05:41.374Z"
   },
   {
    "duration": 46,
    "start_time": "2022-06-09T12:05:50.037Z"
   },
   {
    "duration": 20,
    "start_time": "2022-06-09T12:07:45.429Z"
   },
   {
    "duration": 18,
    "start_time": "2022-06-09T12:08:15.052Z"
   },
   {
    "duration": 8,
    "start_time": "2022-06-09T12:08:43.308Z"
   },
   {
    "duration": 40,
    "start_time": "2022-06-09T12:08:46.365Z"
   },
   {
    "duration": 15,
    "start_time": "2022-06-09T12:09:36.688Z"
   },
   {
    "duration": 26,
    "start_time": "2022-06-09T12:10:48.738Z"
   },
   {
    "duration": 7,
    "start_time": "2022-06-09T12:11:08.095Z"
   },
   {
    "duration": 7,
    "start_time": "2022-06-09T12:11:30.799Z"
   },
   {
    "duration": 16,
    "start_time": "2022-06-09T12:11:55.788Z"
   },
   {
    "duration": 28,
    "start_time": "2022-06-09T12:12:14.342Z"
   },
   {
    "duration": 1290,
    "start_time": "2022-06-09T12:12:37.720Z"
   },
   {
    "duration": 294,
    "start_time": "2022-06-09T12:12:39.664Z"
   },
   {
    "duration": 3,
    "start_time": "2022-06-09T12:12:40.120Z"
   },
   {
    "duration": 17,
    "start_time": "2022-06-09T12:12:40.527Z"
   },
   {
    "duration": 9,
    "start_time": "2022-06-09T12:12:40.880Z"
   },
   {
    "duration": 85,
    "start_time": "2022-06-09T12:12:41.383Z"
   },
   {
    "duration": 29,
    "start_time": "2022-06-09T12:12:41.720Z"
   },
   {
    "duration": 8,
    "start_time": "2022-06-09T12:12:43.722Z"
   },
   {
    "duration": 38,
    "start_time": "2022-06-09T12:12:44.424Z"
   },
   {
    "duration": 20,
    "start_time": "2022-06-09T12:12:45.246Z"
   },
   {
    "duration": 10,
    "start_time": "2022-06-09T12:12:47.775Z"
   },
   {
    "duration": 21,
    "start_time": "2022-06-09T12:12:49.172Z"
   },
   {
    "duration": 28,
    "start_time": "2022-06-09T12:12:50.423Z"
   },
   {
    "duration": 12,
    "start_time": "2022-06-09T12:12:51.279Z"
   },
   {
    "duration": 13,
    "start_time": "2022-06-09T12:12:52.047Z"
   },
   {
    "duration": 35,
    "start_time": "2022-06-09T12:12:52.815Z"
   },
   {
    "duration": 18,
    "start_time": "2022-06-09T12:12:53.664Z"
   },
   {
    "duration": 10,
    "start_time": "2022-06-09T12:12:55.254Z"
   },
   {
    "duration": 36,
    "start_time": "2022-06-09T12:12:55.745Z"
   },
   {
    "duration": 18,
    "start_time": "2022-06-09T12:13:06.592Z"
   },
   {
    "duration": 17,
    "start_time": "2022-06-09T12:13:07.682Z"
   },
   {
    "duration": 90,
    "start_time": "2022-06-09T12:13:08.342Z"
   },
   {
    "duration": 4,
    "start_time": "2022-06-09T12:13:25.248Z"
   },
   {
    "duration": 101,
    "start_time": "2022-06-09T12:13:25.981Z"
   },
   {
    "duration": 40,
    "start_time": "2022-06-09T12:13:32.720Z"
   },
   {
    "duration": 4,
    "start_time": "2022-06-09T12:13:38.002Z"
   },
   {
    "duration": 4,
    "start_time": "2022-06-09T12:13:38.658Z"
   },
   {
    "duration": 36,
    "start_time": "2022-06-09T12:13:47.211Z"
   },
   {
    "duration": 29,
    "start_time": "2022-06-09T12:13:52.857Z"
   },
   {
    "duration": 55,
    "start_time": "2022-06-09T12:14:03.742Z"
   },
   {
    "duration": 21,
    "start_time": "2022-06-09T12:14:06.597Z"
   },
   {
    "duration": 17,
    "start_time": "2022-06-09T12:14:09.650Z"
   },
   {
    "duration": 4,
    "start_time": "2022-06-09T12:14:10.715Z"
   },
   {
    "duration": 5,
    "start_time": "2022-06-09T12:14:11.157Z"
   },
   {
    "duration": 3,
    "start_time": "2022-06-09T12:14:11.858Z"
   },
   {
    "duration": 27,
    "start_time": "2022-06-09T12:14:13.251Z"
   },
   {
    "duration": 34,
    "start_time": "2022-06-09T12:14:17.745Z"
   },
   {
    "duration": 21,
    "start_time": "2022-06-09T12:14:21.765Z"
   },
   {
    "duration": 55,
    "start_time": "2022-06-09T12:14:25.884Z"
   },
   {
    "duration": 24,
    "start_time": "2022-06-09T12:14:31.348Z"
   },
   {
    "duration": 37,
    "start_time": "2022-06-09T12:14:32.182Z"
   },
   {
    "duration": 10,
    "start_time": "2022-06-09T12:14:32.880Z"
   },
   {
    "duration": 66,
    "start_time": "2022-06-09T12:14:37.662Z"
   },
   {
    "duration": 12,
    "start_time": "2022-06-09T12:14:41.146Z"
   },
   {
    "duration": 22,
    "start_time": "2022-06-09T12:14:41.823Z"
   },
   {
    "duration": 34,
    "start_time": "2022-06-09T12:14:43.386Z"
   },
   {
    "duration": 61,
    "start_time": "2022-06-09T12:14:44.849Z"
   },
   {
    "duration": 37,
    "start_time": "2022-06-09T12:14:49.378Z"
   },
   {
    "duration": 45,
    "start_time": "2022-06-09T12:14:59.082Z"
   },
   {
    "duration": 51,
    "start_time": "2022-06-09T12:16:18.303Z"
   },
   {
    "duration": 7,
    "start_time": "2022-06-09T12:16:33.298Z"
   },
   {
    "duration": 5,
    "start_time": "2022-06-09T12:16:53.800Z"
   },
   {
    "duration": 7,
    "start_time": "2022-06-09T12:17:04.144Z"
   },
   {
    "duration": 38,
    "start_time": "2022-06-09T12:17:41.669Z"
   },
   {
    "duration": 17,
    "start_time": "2022-06-09T12:17:56.673Z"
   },
   {
    "duration": 7,
    "start_time": "2022-06-09T12:18:09.354Z"
   },
   {
    "duration": 19,
    "start_time": "2022-06-09T12:20:06.410Z"
   },
   {
    "duration": 16,
    "start_time": "2022-06-09T12:20:32.044Z"
   },
   {
    "duration": 10,
    "start_time": "2022-06-09T12:21:40.397Z"
   },
   {
    "duration": 5,
    "start_time": "2022-06-09T12:22:32.919Z"
   },
   {
    "duration": 16,
    "start_time": "2022-06-09T12:22:39.488Z"
   },
   {
    "duration": 11,
    "start_time": "2022-06-09T12:23:58.044Z"
   },
   {
    "duration": 8,
    "start_time": "2022-06-09T12:24:07.278Z"
   },
   {
    "duration": 9,
    "start_time": "2022-06-09T12:24:21.958Z"
   },
   {
    "duration": 8,
    "start_time": "2022-06-09T12:24:32.385Z"
   },
   {
    "duration": 9,
    "start_time": "2022-06-09T12:25:08.779Z"
   },
   {
    "duration": 30,
    "start_time": "2022-06-09T12:25:29.423Z"
   },
   {
    "duration": 15,
    "start_time": "2022-06-09T12:26:05.789Z"
   },
   {
    "duration": 33,
    "start_time": "2022-06-09T12:26:08.975Z"
   },
   {
    "duration": 4,
    "start_time": "2022-06-09T12:34:13.244Z"
   },
   {
    "duration": 36,
    "start_time": "2022-06-09T12:34:15.949Z"
   },
   {
    "duration": 11,
    "start_time": "2022-06-09T12:36:08.889Z"
   },
   {
    "duration": 15,
    "start_time": "2022-06-09T12:36:46.150Z"
   },
   {
    "duration": 20,
    "start_time": "2022-06-09T12:37:10.346Z"
   },
   {
    "duration": 13,
    "start_time": "2022-06-09T12:38:10.715Z"
   },
   {
    "duration": 19,
    "start_time": "2022-06-09T12:38:28.660Z"
   },
   {
    "duration": 23,
    "start_time": "2022-06-09T12:38:46.049Z"
   },
   {
    "duration": 23,
    "start_time": "2022-06-09T12:39:07.178Z"
   },
   {
    "duration": 23,
    "start_time": "2022-06-09T12:39:53.709Z"
   },
   {
    "duration": 34,
    "start_time": "2022-06-09T12:40:06.686Z"
   },
   {
    "duration": 35,
    "start_time": "2022-06-09T12:40:32.088Z"
   },
   {
    "duration": 15,
    "start_time": "2022-06-09T12:40:38.418Z"
   },
   {
    "duration": 26,
    "start_time": "2022-06-09T12:40:57.006Z"
   },
   {
    "duration": 16,
    "start_time": "2022-06-09T12:41:35.958Z"
   },
   {
    "duration": 7,
    "start_time": "2022-06-09T12:42:26.333Z"
   },
   {
    "duration": 21,
    "start_time": "2022-06-09T12:42:31.871Z"
   },
   {
    "duration": 7,
    "start_time": "2022-06-09T12:43:20.685Z"
   },
   {
    "duration": 5,
    "start_time": "2022-06-09T12:44:10.444Z"
   },
   {
    "duration": 14,
    "start_time": "2022-06-09T13:07:45.123Z"
   },
   {
    "duration": 10,
    "start_time": "2022-06-09T13:08:37.273Z"
   },
   {
    "duration": 7,
    "start_time": "2022-06-09T13:09:46.939Z"
   },
   {
    "duration": 4,
    "start_time": "2022-06-09T13:10:28.851Z"
   },
   {
    "duration": 27,
    "start_time": "2022-06-09T13:10:36.869Z"
   },
   {
    "duration": 76,
    "start_time": "2022-06-09T13:12:29.264Z"
   },
   {
    "duration": 69,
    "start_time": "2022-06-09T13:13:02.931Z"
   },
   {
    "duration": 76,
    "start_time": "2022-06-09T13:13:22.151Z"
   },
   {
    "duration": 72,
    "start_time": "2022-06-09T13:13:44.319Z"
   },
   {
    "duration": 4,
    "start_time": "2022-06-09T13:14:52.342Z"
   },
   {
    "duration": 39,
    "start_time": "2022-06-09T13:15:10.449Z"
   },
   {
    "duration": 13,
    "start_time": "2022-06-09T13:16:27.224Z"
   },
   {
    "duration": 9,
    "start_time": "2022-06-09T13:18:14.114Z"
   },
   {
    "duration": 6,
    "start_time": "2022-06-09T13:19:03.749Z"
   },
   {
    "duration": 28,
    "start_time": "2022-06-09T13:19:05.520Z"
   },
   {
    "duration": 19,
    "start_time": "2022-06-09T13:20:04.525Z"
   },
   {
    "duration": 21,
    "start_time": "2022-06-09T13:21:04.098Z"
   },
   {
    "duration": 4,
    "start_time": "2022-06-09T13:21:23.155Z"
   },
   {
    "duration": 6,
    "start_time": "2022-06-09T13:21:24.484Z"
   },
   {
    "duration": 85,
    "start_time": "2022-06-09T13:21:29.360Z"
   },
   {
    "duration": 14,
    "start_time": "2022-06-09T13:22:01.693Z"
   },
   {
    "duration": 6,
    "start_time": "2022-06-09T13:23:30.510Z"
   },
   {
    "duration": 39,
    "start_time": "2022-06-09T13:23:32.303Z"
   },
   {
    "duration": 11,
    "start_time": "2022-06-09T13:24:46.152Z"
   },
   {
    "duration": 49,
    "start_time": "2022-06-09T13:24:46.791Z"
   },
   {
    "duration": 7,
    "start_time": "2022-06-09T13:26:16.818Z"
   },
   {
    "duration": 1266,
    "start_time": "2022-06-09T13:27:04.800Z"
   },
   {
    "duration": 559,
    "start_time": "2022-06-09T13:27:07.091Z"
   },
   {
    "duration": 4,
    "start_time": "2022-06-09T13:27:23.286Z"
   },
   {
    "duration": 29,
    "start_time": "2022-06-09T13:27:24.388Z"
   },
   {
    "duration": 7,
    "start_time": "2022-06-09T13:27:25.181Z"
   },
   {
    "duration": 123,
    "start_time": "2022-06-09T13:27:25.900Z"
   },
   {
    "duration": 30,
    "start_time": "2022-06-09T13:27:27.647Z"
   },
   {
    "duration": 7,
    "start_time": "2022-06-09T13:27:31.255Z"
   },
   {
    "duration": 57,
    "start_time": "2022-06-09T13:27:36.062Z"
   },
   {
    "duration": 33,
    "start_time": "2022-06-09T13:27:38.009Z"
   },
   {
    "duration": 13,
    "start_time": "2022-06-09T13:27:40.353Z"
   },
   {
    "duration": 20,
    "start_time": "2022-06-09T13:27:41.715Z"
   },
   {
    "duration": 40,
    "start_time": "2022-06-09T13:27:43.052Z"
   },
   {
    "duration": 15,
    "start_time": "2022-06-09T13:27:43.753Z"
   },
   {
    "duration": 18,
    "start_time": "2022-06-09T13:27:44.536Z"
   },
   {
    "duration": 36,
    "start_time": "2022-06-09T13:27:45.119Z"
   },
   {
    "duration": 18,
    "start_time": "2022-06-09T13:27:45.650Z"
   },
   {
    "duration": 9,
    "start_time": "2022-06-09T13:27:47.600Z"
   },
   {
    "duration": 35,
    "start_time": "2022-06-09T13:27:48.286Z"
   },
   {
    "duration": 5,
    "start_time": "2022-06-09T13:27:51.587Z"
   },
   {
    "duration": 7,
    "start_time": "2022-06-09T13:27:52.702Z"
   },
   {
    "duration": 3,
    "start_time": "2022-06-09T13:27:54.850Z"
   },
   {
    "duration": 2319,
    "start_time": "2022-06-09T13:27:56.998Z"
   },
   {
    "duration": 3,
    "start_time": "2022-06-09T13:27:59.324Z"
   },
   {
    "duration": 4322,
    "start_time": "2022-06-09T13:27:59.748Z"
   },
   {
    "duration": 1019,
    "start_time": "2022-06-09T13:28:04.072Z"
   },
   {
    "duration": 2185,
    "start_time": "2022-06-09T13:28:05.093Z"
   },
   {
    "duration": 15,
    "start_time": "2022-06-09T13:28:07.279Z"
   },
   {
    "duration": 15,
    "start_time": "2022-06-09T13:28:08.424Z"
   },
   {
    "duration": 73,
    "start_time": "2022-06-09T13:28:09.885Z"
   },
   {
    "duration": 4,
    "start_time": "2022-06-09T13:28:12.499Z"
   },
   {
    "duration": 69,
    "start_time": "2022-06-09T13:28:13.504Z"
   },
   {
    "duration": 60,
    "start_time": "2022-06-09T13:28:16.688Z"
   },
   {
    "duration": 68,
    "start_time": "2022-06-09T13:28:21.452Z"
   },
   {
    "duration": 35,
    "start_time": "2022-06-09T13:28:25.622Z"
   },
   {
    "duration": 88,
    "start_time": "2022-06-09T13:28:29.691Z"
   },
   {
    "duration": 30,
    "start_time": "2022-06-09T13:28:38.444Z"
   },
   {
    "duration": 94,
    "start_time": "2022-06-09T13:28:42.857Z"
   },
   {
    "duration": 40,
    "start_time": "2022-06-09T13:28:46.015Z"
   },
   {
    "duration": 26,
    "start_time": "2022-06-09T13:28:50.609Z"
   },
   {
    "duration": 17,
    "start_time": "2022-06-09T13:28:52.151Z"
   },
   {
    "duration": 4,
    "start_time": "2022-06-09T13:28:54.301Z"
   },
   {
    "duration": 5,
    "start_time": "2022-06-09T13:28:58.609Z"
   },
   {
    "duration": 4,
    "start_time": "2022-06-09T13:29:02.204Z"
   },
   {
    "duration": 32,
    "start_time": "2022-06-09T13:29:05.090Z"
   },
   {
    "duration": 35,
    "start_time": "2022-06-09T13:29:12.481Z"
   },
   {
    "duration": 29,
    "start_time": "2022-06-09T13:29:15.588Z"
   },
   {
    "duration": 102,
    "start_time": "2022-06-09T13:29:17.850Z"
   },
   {
    "duration": 30,
    "start_time": "2022-06-09T13:29:20.432Z"
   },
   {
    "duration": 52,
    "start_time": "2022-06-09T13:29:21.156Z"
   },
   {
    "duration": 32,
    "start_time": "2022-06-09T13:29:26.765Z"
   },
   {
    "duration": 72,
    "start_time": "2022-06-09T13:29:31.585Z"
   },
   {
    "duration": 13,
    "start_time": "2022-06-09T13:29:36.209Z"
   },
   {
    "duration": 22,
    "start_time": "2022-06-09T13:29:37.636Z"
   },
   {
    "duration": 58,
    "start_time": "2022-06-09T13:29:39.916Z"
   },
   {
    "duration": 58,
    "start_time": "2022-06-09T13:29:44.292Z"
   },
   {
    "duration": 95,
    "start_time": "2022-06-09T13:29:50.557Z"
   },
   {
    "duration": 5,
    "start_time": "2022-06-09T13:29:57.150Z"
   },
   {
    "duration": 19,
    "start_time": "2022-06-09T13:29:59.163Z"
   },
   {
    "duration": 3,
    "start_time": "2022-06-09T13:30:07.350Z"
   },
   {
    "duration": 4,
    "start_time": "2022-06-09T13:30:09.029Z"
   },
   {
    "duration": 47,
    "start_time": "2022-06-09T13:30:16.844Z"
   },
   {
    "duration": 47,
    "start_time": "2022-06-09T13:31:00.770Z"
   },
   {
    "duration": 172,
    "start_time": "2022-06-09T13:31:35.651Z"
   },
   {
    "duration": 27,
    "start_time": "2022-06-09T13:32:37.345Z"
   },
   {
    "duration": 5,
    "start_time": "2022-06-09T13:32:57.293Z"
   },
   {
    "duration": 13,
    "start_time": "2022-06-09T13:33:15.159Z"
   },
   {
    "duration": 8,
    "start_time": "2022-06-09T13:33:23.929Z"
   },
   {
    "duration": 7,
    "start_time": "2022-06-09T13:33:43.802Z"
   },
   {
    "duration": 7,
    "start_time": "2022-06-09T13:34:20.094Z"
   },
   {
    "duration": 7,
    "start_time": "2022-06-09T13:34:33.393Z"
   },
   {
    "duration": 26,
    "start_time": "2022-06-09T13:35:29.561Z"
   },
   {
    "duration": 10,
    "start_time": "2022-06-09T13:35:53.653Z"
   },
   {
    "duration": 12,
    "start_time": "2022-06-09T13:36:10.148Z"
   },
   {
    "duration": 14,
    "start_time": "2022-06-09T13:36:28.920Z"
   },
   {
    "duration": 7,
    "start_time": "2022-06-09T13:36:35.595Z"
   },
   {
    "duration": 8,
    "start_time": "2022-06-09T13:36:38.299Z"
   },
   {
    "duration": 8,
    "start_time": "2022-06-09T13:37:09.598Z"
   },
   {
    "duration": 7,
    "start_time": "2022-06-09T13:37:15.315Z"
   },
   {
    "duration": 8,
    "start_time": "2022-06-09T13:37:31.121Z"
   },
   {
    "duration": 6,
    "start_time": "2022-06-09T13:37:55.150Z"
   },
   {
    "duration": 9,
    "start_time": "2022-06-09T13:38:02.447Z"
   },
   {
    "duration": 10,
    "start_time": "2022-06-09T13:38:05.805Z"
   },
   {
    "duration": 9,
    "start_time": "2022-06-09T13:38:23.178Z"
   },
   {
    "duration": 7,
    "start_time": "2022-06-09T13:38:51.816Z"
   },
   {
    "duration": 14,
    "start_time": "2022-06-09T13:39:50.311Z"
   },
   {
    "duration": 16,
    "start_time": "2022-06-09T13:40:48.538Z"
   },
   {
    "duration": 6,
    "start_time": "2022-06-09T13:41:05.620Z"
   },
   {
    "duration": 8,
    "start_time": "2022-06-09T13:41:25.039Z"
   },
   {
    "duration": 27,
    "start_time": "2022-06-09T13:41:30.915Z"
   },
   {
    "duration": 15,
    "start_time": "2022-06-09T13:45:43.704Z"
   },
   {
    "duration": 16,
    "start_time": "2022-06-09T13:46:03.244Z"
   },
   {
    "duration": 28,
    "start_time": "2022-06-09T13:47:07.700Z"
   },
   {
    "duration": 16,
    "start_time": "2022-06-09T13:48:27.633Z"
   },
   {
    "duration": 15,
    "start_time": "2022-06-09T13:49:01.651Z"
   },
   {
    "duration": 12,
    "start_time": "2022-06-09T13:49:44.928Z"
   },
   {
    "duration": 8,
    "start_time": "2022-06-09T13:51:01.048Z"
   },
   {
    "duration": 19,
    "start_time": "2022-06-09T13:51:52.446Z"
   },
   {
    "duration": 13,
    "start_time": "2022-06-09T13:52:11.521Z"
   },
   {
    "duration": 1259,
    "start_time": "2022-06-09T13:52:29.149Z"
   },
   {
    "duration": 336,
    "start_time": "2022-06-09T13:52:30.411Z"
   },
   {
    "duration": 3,
    "start_time": "2022-06-09T13:52:30.749Z"
   },
   {
    "duration": 13,
    "start_time": "2022-06-09T13:52:37.544Z"
   },
   {
    "duration": 39,
    "start_time": "2022-06-09T13:52:38.518Z"
   },
   {
    "duration": 20,
    "start_time": "2022-06-09T13:52:40.059Z"
   },
   {
    "duration": 23,
    "start_time": "2022-06-09T13:52:45.140Z"
   },
   {
    "duration": 25,
    "start_time": "2022-06-09T13:52:46.650Z"
   },
   {
    "duration": 11,
    "start_time": "2022-06-09T13:52:48.274Z"
   },
   {
    "duration": 15,
    "start_time": "2022-06-09T13:52:49.004Z"
   },
   {
    "duration": 35,
    "start_time": "2022-06-09T13:52:50.160Z"
   },
   {
    "duration": 22,
    "start_time": "2022-06-09T13:52:52.044Z"
   },
   {
    "duration": 9,
    "start_time": "2022-06-09T13:53:00.561Z"
   },
   {
    "duration": 41,
    "start_time": "2022-06-09T13:53:01.205Z"
   },
   {
    "duration": 44,
    "start_time": "2022-06-09T13:53:18.545Z"
   },
   {
    "duration": 99,
    "start_time": "2022-06-09T13:53:20.100Z"
   },
   {
    "duration": 49,
    "start_time": "2022-06-09T13:53:24.146Z"
   },
   {
    "duration": 22,
    "start_time": "2022-06-09T13:53:25.303Z"
   },
   {
    "duration": 38,
    "start_time": "2022-06-09T13:53:37.447Z"
   },
   {
    "duration": 20,
    "start_time": "2022-06-09T13:53:39.119Z"
   },
   {
    "duration": 24,
    "start_time": "2022-06-09T13:53:44.144Z"
   },
   {
    "duration": 92,
    "start_time": "2022-06-09T13:53:45.046Z"
   },
   {
    "duration": 13,
    "start_time": "2022-06-09T13:53:50.360Z"
   },
   {
    "duration": 70,
    "start_time": "2022-06-09T13:54:01.716Z"
   },
   {
    "duration": 50,
    "start_time": "2022-06-09T13:54:20.203Z"
   },
   {
    "duration": 45,
    "start_time": "2022-06-09T13:54:25.315Z"
   },
   {
    "duration": 11,
    "start_time": "2022-06-09T13:54:47.980Z"
   },
   {
    "duration": 34,
    "start_time": "2022-06-09T13:54:50.154Z"
   },
   {
    "duration": 18,
    "start_time": "2022-06-09T13:55:49.048Z"
   },
   {
    "duration": 26,
    "start_time": "2022-06-09T13:55:55.661Z"
   },
   {
    "duration": 34,
    "start_time": "2022-06-09T13:56:03.802Z"
   },
   {
    "duration": 11,
    "start_time": "2022-06-09T13:56:14.859Z"
   },
   {
    "duration": 45,
    "start_time": "2022-06-09T13:56:16.944Z"
   },
   {
    "duration": 16,
    "start_time": "2022-06-09T13:57:44.755Z"
   },
   {
    "duration": 36,
    "start_time": "2022-06-09T13:58:38.664Z"
   },
   {
    "duration": 11,
    "start_time": "2022-06-09T14:02:10.452Z"
   },
   {
    "duration": 1186,
    "start_time": "2022-06-09T14:02:37.420Z"
   },
   {
    "duration": 233,
    "start_time": "2022-06-09T14:02:38.608Z"
   },
   {
    "duration": 3,
    "start_time": "2022-06-09T14:02:39.045Z"
   },
   {
    "duration": 17,
    "start_time": "2022-06-09T14:02:39.427Z"
   },
   {
    "duration": 8,
    "start_time": "2022-06-09T14:02:39.785Z"
   },
   {
    "duration": 115,
    "start_time": "2022-06-09T14:02:40.110Z"
   },
   {
    "duration": 31,
    "start_time": "2022-06-09T14:02:40.509Z"
   },
   {
    "duration": 11,
    "start_time": "2022-06-09T14:02:42.514Z"
   },
   {
    "duration": 39,
    "start_time": "2022-06-09T14:02:43.194Z"
   },
   {
    "duration": 21,
    "start_time": "2022-06-09T14:02:43.850Z"
   },
   {
    "duration": 14,
    "start_time": "2022-06-09T14:02:45.010Z"
   },
   {
    "duration": 33,
    "start_time": "2022-06-09T14:02:45.750Z"
   },
   {
    "duration": 42,
    "start_time": "2022-06-09T14:02:46.524Z"
   },
   {
    "duration": 11,
    "start_time": "2022-06-09T14:02:46.950Z"
   },
   {
    "duration": 15,
    "start_time": "2022-06-09T14:02:47.279Z"
   },
   {
    "duration": 35,
    "start_time": "2022-06-09T14:02:47.715Z"
   },
   {
    "duration": 17,
    "start_time": "2022-06-09T14:02:48.048Z"
   },
   {
    "duration": 10,
    "start_time": "2022-06-09T14:02:49.260Z"
   },
   {
    "duration": 35,
    "start_time": "2022-06-09T14:02:49.609Z"
   },
   {
    "duration": 5,
    "start_time": "2022-06-09T14:02:51.707Z"
   },
   {
    "duration": 5,
    "start_time": "2022-06-09T14:02:52.452Z"
   },
   {
    "duration": 4,
    "start_time": "2022-06-09T14:02:53.428Z"
   },
   {
    "duration": 2349,
    "start_time": "2022-06-09T14:02:53.854Z"
   },
   {
    "duration": 18,
    "start_time": "2022-06-09T14:02:56.206Z"
   },
   {
    "duration": 4202,
    "start_time": "2022-06-09T14:02:56.226Z"
   },
   {
    "duration": 1141,
    "start_time": "2022-06-09T14:03:00.430Z"
   },
   {
    "duration": 2339,
    "start_time": "2022-06-09T14:03:01.573Z"
   },
   {
    "duration": 19,
    "start_time": "2022-06-09T14:03:03.914Z"
   },
   {
    "duration": 18,
    "start_time": "2022-06-09T14:03:05.013Z"
   },
   {
    "duration": 70,
    "start_time": "2022-06-09T14:03:07.004Z"
   },
   {
    "duration": 14,
    "start_time": "2022-06-09T14:03:17.169Z"
   },
   {
    "duration": 5,
    "start_time": "2022-06-09T14:03:22.173Z"
   },
   {
    "duration": 68,
    "start_time": "2022-06-09T14:03:23.161Z"
   },
   {
    "duration": 59,
    "start_time": "2022-06-09T14:03:25.769Z"
   },
   {
    "duration": 72,
    "start_time": "2022-06-09T14:03:26.621Z"
   },
   {
    "duration": 31,
    "start_time": "2022-06-09T14:03:28.477Z"
   },
   {
    "duration": 70,
    "start_time": "2022-06-09T14:03:30.406Z"
   },
   {
    "duration": 29,
    "start_time": "2022-06-09T14:03:35.321Z"
   },
   {
    "duration": 73,
    "start_time": "2022-06-09T14:03:37.110Z"
   },
   {
    "duration": 53,
    "start_time": "2022-06-09T14:03:39.820Z"
   },
   {
    "duration": 23,
    "start_time": "2022-06-09T14:03:40.621Z"
   },
   {
    "duration": 18,
    "start_time": "2022-06-09T14:03:42.268Z"
   },
   {
    "duration": 4,
    "start_time": "2022-06-09T14:03:44.430Z"
   },
   {
    "duration": 4,
    "start_time": "2022-06-09T14:03:45.167Z"
   },
   {
    "duration": 3,
    "start_time": "2022-06-09T14:03:46.620Z"
   },
   {
    "duration": 22,
    "start_time": "2022-06-09T14:03:48.668Z"
   },
   {
    "duration": 36,
    "start_time": "2022-06-09T14:03:50.601Z"
   },
   {
    "duration": 18,
    "start_time": "2022-06-09T14:03:52.111Z"
   },
   {
    "duration": 53,
    "start_time": "2022-06-09T14:03:52.871Z"
   },
   {
    "duration": 23,
    "start_time": "2022-06-09T14:04:05.623Z"
   },
   {
    "duration": 11,
    "start_time": "2022-06-09T14:04:12.398Z"
   },
   {
    "duration": 41,
    "start_time": "2022-06-09T14:04:28.613Z"
   },
   {
    "duration": 29,
    "start_time": "2022-06-09T14:04:29.370Z"
   },
   {
    "duration": 65,
    "start_time": "2022-06-09T14:04:31.075Z"
   },
   {
    "duration": 12,
    "start_time": "2022-06-09T14:04:41.457Z"
   },
   {
    "duration": 30,
    "start_time": "2022-06-09T14:04:42.596Z"
   },
   {
    "duration": 36,
    "start_time": "2022-06-09T14:04:44.327Z"
   },
   {
    "duration": 68,
    "start_time": "2022-06-09T14:04:50.420Z"
   },
   {
    "duration": 99,
    "start_time": "2022-06-09T14:04:54.282Z"
   },
   {
    "duration": 6,
    "start_time": "2022-06-09T14:04:58.469Z"
   },
   {
    "duration": 19,
    "start_time": "2022-06-09T14:05:01.007Z"
   },
   {
    "duration": 3,
    "start_time": "2022-06-09T14:05:04.973Z"
   },
   {
    "duration": 2,
    "start_time": "2022-06-09T14:05:06.569Z"
   },
   {
    "duration": 15,
    "start_time": "2022-06-09T14:05:15.969Z"
   },
   {
    "duration": 53,
    "start_time": "2022-06-09T14:05:21.069Z"
   },
   {
    "duration": 41,
    "start_time": "2022-06-09T14:05:24.417Z"
   },
   {
    "duration": 39,
    "start_time": "2022-06-09T14:05:25.333Z"
   },
   {
    "duration": 10,
    "start_time": "2022-06-09T14:05:26.204Z"
   },
   {
    "duration": 37,
    "start_time": "2022-06-09T14:05:27.069Z"
   },
   {
    "duration": 8,
    "start_time": "2022-06-09T14:05:37.668Z"
   },
   {
    "duration": 1258,
    "start_time": "2022-06-09T15:02:46.814Z"
   },
   {
    "duration": 511,
    "start_time": "2022-06-09T15:02:48.074Z"
   },
   {
    "duration": 3,
    "start_time": "2022-06-09T15:02:48.587Z"
   },
   {
    "duration": 34,
    "start_time": "2022-06-09T15:02:48.592Z"
   },
   {
    "duration": 8,
    "start_time": "2022-06-09T15:02:48.748Z"
   },
   {
    "duration": 131,
    "start_time": "2022-06-09T15:02:49.220Z"
   },
   {
    "duration": 30,
    "start_time": "2022-06-09T15:02:49.507Z"
   },
   {
    "duration": 7,
    "start_time": "2022-06-09T15:02:51.371Z"
   },
   {
    "duration": 37,
    "start_time": "2022-06-09T15:02:52.149Z"
   },
   {
    "duration": 20,
    "start_time": "2022-06-09T15:02:53.413Z"
   },
   {
    "duration": 9,
    "start_time": "2022-06-09T15:02:54.456Z"
   },
   {
    "duration": 21,
    "start_time": "2022-06-09T15:02:55.340Z"
   },
   {
    "duration": 25,
    "start_time": "2022-06-09T15:02:56.344Z"
   },
   {
    "duration": 13,
    "start_time": "2022-06-09T15:02:56.803Z"
   },
   {
    "duration": 14,
    "start_time": "2022-06-09T15:02:57.350Z"
   },
   {
    "duration": 35,
    "start_time": "2022-06-09T15:02:57.872Z"
   },
   {
    "duration": 17,
    "start_time": "2022-06-09T15:02:58.349Z"
   },
   {
    "duration": 10,
    "start_time": "2022-06-09T15:02:59.745Z"
   },
   {
    "duration": 35,
    "start_time": "2022-06-09T15:03:00.242Z"
   },
   {
    "duration": 5,
    "start_time": "2022-06-09T15:03:02.207Z"
   },
   {
    "duration": 5,
    "start_time": "2022-06-09T15:03:02.776Z"
   },
   {
    "duration": 3,
    "start_time": "2022-06-09T15:03:03.585Z"
   },
   {
    "duration": 2283,
    "start_time": "2022-06-09T15:03:03.822Z"
   },
   {
    "duration": 5,
    "start_time": "2022-06-09T15:03:06.108Z"
   },
   {
    "duration": 4208,
    "start_time": "2022-06-09T15:03:06.114Z"
   },
   {
    "duration": 971,
    "start_time": "2022-06-09T15:03:10.324Z"
   },
   {
    "duration": 2207,
    "start_time": "2022-06-09T15:03:11.296Z"
   },
   {
    "duration": 23,
    "start_time": "2022-06-09T15:03:13.505Z"
   },
   {
    "duration": 15,
    "start_time": "2022-06-09T15:03:13.530Z"
   },
   {
    "duration": 80,
    "start_time": "2022-06-09T15:03:13.547Z"
   },
   {
    "duration": 4,
    "start_time": "2022-06-09T15:03:13.628Z"
   },
   {
    "duration": 69,
    "start_time": "2022-06-09T15:03:13.633Z"
   },
   {
    "duration": 56,
    "start_time": "2022-06-09T15:03:15.803Z"
   },
   {
    "duration": 81,
    "start_time": "2022-06-09T15:03:16.245Z"
   },
   {
    "duration": 26,
    "start_time": "2022-06-09T15:03:25.953Z"
   },
   {
    "duration": 72,
    "start_time": "2022-06-09T15:03:27.891Z"
   },
   {
    "duration": 33,
    "start_time": "2022-06-09T15:03:29.913Z"
   },
   {
    "duration": 77,
    "start_time": "2022-06-09T15:03:31.107Z"
   },
   {
    "duration": 70,
    "start_time": "2022-06-09T15:03:34.814Z"
   },
   {
    "duration": 22,
    "start_time": "2022-06-09T15:03:34.886Z"
   },
   {
    "duration": 28,
    "start_time": "2022-06-09T15:03:34.910Z"
   },
   {
    "duration": 4,
    "start_time": "2022-06-09T15:03:35.009Z"
   },
   {
    "duration": 6,
    "start_time": "2022-06-09T15:03:35.433Z"
   },
   {
    "duration": 3,
    "start_time": "2022-06-09T15:03:36.304Z"
   },
   {
    "duration": 26,
    "start_time": "2022-06-09T15:03:37.692Z"
   },
   {
    "duration": 34,
    "start_time": "2022-06-09T15:03:38.575Z"
   },
   {
    "duration": 19,
    "start_time": "2022-06-09T15:03:39.640Z"
   },
   {
    "duration": 54,
    "start_time": "2022-06-09T15:03:40.362Z"
   },
   {
    "duration": 24,
    "start_time": "2022-06-09T15:03:43.870Z"
   },
   {
    "duration": 41,
    "start_time": "2022-06-09T15:03:44.560Z"
   },
   {
    "duration": 30,
    "start_time": "2022-06-09T15:03:45.296Z"
   },
   {
    "duration": 62,
    "start_time": "2022-06-09T15:03:46.438Z"
   },
   {
    "duration": 14,
    "start_time": "2022-06-09T15:03:48.719Z"
   },
   {
    "duration": 35,
    "start_time": "2022-06-09T15:03:50.262Z"
   },
   {
    "duration": 36,
    "start_time": "2022-06-09T15:03:51.546Z"
   },
   {
    "duration": 95,
    "start_time": "2022-06-09T15:03:52.531Z"
   },
   {
    "duration": 99,
    "start_time": "2022-06-09T15:03:53.044Z"
   },
   {
    "duration": 5,
    "start_time": "2022-06-09T15:03:54.498Z"
   },
   {
    "duration": 29,
    "start_time": "2022-06-09T15:03:55.100Z"
   },
   {
    "duration": 2,
    "start_time": "2022-06-09T15:04:00.070Z"
   },
   {
    "duration": 2,
    "start_time": "2022-06-09T15:04:01.227Z"
   },
   {
    "duration": 48,
    "start_time": "2022-06-09T15:04:03.411Z"
   },
   {
    "duration": 41,
    "start_time": "2022-06-09T15:04:28.211Z"
   },
   {
    "duration": 164,
    "start_time": "2022-06-09T15:08:17.100Z"
   },
   {
    "duration": 18,
    "start_time": "2022-06-09T15:09:05.959Z"
   },
   {
    "duration": 11,
    "start_time": "2022-06-09T15:09:34.726Z"
   },
   {
    "duration": 18,
    "start_time": "2022-06-09T15:10:13.006Z"
   },
   {
    "duration": 12,
    "start_time": "2022-06-09T15:10:40.221Z"
   },
   {
    "duration": 10,
    "start_time": "2022-06-09T15:10:48.740Z"
   },
   {
    "duration": 14,
    "start_time": "2022-06-09T15:10:52.212Z"
   },
   {
    "duration": 40,
    "start_time": "2022-06-09T15:11:36.868Z"
   },
   {
    "duration": 230,
    "start_time": "2022-06-09T15:12:20.667Z"
   },
   {
    "duration": 37,
    "start_time": "2022-06-09T15:12:54.706Z"
   },
   {
    "duration": 14,
    "start_time": "2022-06-09T15:14:53.607Z"
   },
   {
    "duration": 33,
    "start_time": "2022-06-09T15:15:48.193Z"
   },
   {
    "duration": 15,
    "start_time": "2022-06-09T15:16:12.770Z"
   },
   {
    "duration": 10,
    "start_time": "2022-06-09T15:16:21.019Z"
   },
   {
    "duration": 20,
    "start_time": "2022-06-09T15:16:31.157Z"
   },
   {
    "duration": 10,
    "start_time": "2022-06-09T15:16:45.144Z"
   },
   {
    "duration": 40,
    "start_time": "2022-06-09T15:16:56.302Z"
   },
   {
    "duration": 13,
    "start_time": "2022-06-09T15:17:03.799Z"
   },
   {
    "duration": 4,
    "start_time": "2022-06-09T15:17:06.513Z"
   },
   {
    "duration": 6,
    "start_time": "2022-06-09T15:17:07.502Z"
   },
   {
    "duration": 117,
    "start_time": "2022-06-09T15:17:08.777Z"
   },
   {
    "duration": 11,
    "start_time": "2022-06-09T15:17:15.935Z"
   },
   {
    "duration": 4,
    "start_time": "2022-06-09T15:17:35.822Z"
   },
   {
    "duration": 116,
    "start_time": "2022-06-09T15:17:48.008Z"
   },
   {
    "duration": 19,
    "start_time": "2022-06-09T15:17:50.811Z"
   },
   {
    "duration": 2711,
    "start_time": "2022-06-09T15:17:59.626Z"
   },
   {
    "duration": 730,
    "start_time": "2022-06-09T15:35:18.993Z"
   },
   {
    "duration": 1224,
    "start_time": "2022-06-09T16:26:28.107Z"
   },
   {
    "duration": 377,
    "start_time": "2022-06-09T16:26:30.519Z"
   },
   {
    "duration": 3,
    "start_time": "2022-06-09T16:26:31.219Z"
   },
   {
    "duration": 19,
    "start_time": "2022-06-09T16:26:31.973Z"
   },
   {
    "duration": 8,
    "start_time": "2022-06-09T16:26:32.932Z"
   },
   {
    "duration": 88,
    "start_time": "2022-06-09T16:26:33.662Z"
   },
   {
    "duration": 31,
    "start_time": "2022-06-09T16:26:35.118Z"
   },
   {
    "duration": 8,
    "start_time": "2022-06-09T16:26:39.556Z"
   },
   {
    "duration": 54,
    "start_time": "2022-06-09T16:26:40.896Z"
   },
   {
    "duration": 19,
    "start_time": "2022-06-09T16:26:41.942Z"
   },
   {
    "duration": 9,
    "start_time": "2022-06-09T16:26:43.971Z"
   },
   {
    "duration": 19,
    "start_time": "2022-06-09T16:26:49.325Z"
   },
   {
    "duration": 26,
    "start_time": "2022-06-09T16:26:54.113Z"
   },
   {
    "duration": 12,
    "start_time": "2022-06-09T16:26:57.313Z"
   },
   {
    "duration": 13,
    "start_time": "2022-06-09T16:26:58.406Z"
   },
   {
    "duration": 36,
    "start_time": "2022-06-09T16:27:10.028Z"
   },
   {
    "duration": 16,
    "start_time": "2022-06-09T16:27:19.806Z"
   },
   {
    "duration": 9,
    "start_time": "2022-06-09T16:27:21.760Z"
   },
   {
    "duration": 44,
    "start_time": "2022-06-09T16:27:22.514Z"
   },
   {
    "duration": 5,
    "start_time": "2022-06-09T16:27:26.171Z"
   },
   {
    "duration": 5,
    "start_time": "2022-06-09T16:27:27.241Z"
   },
   {
    "duration": 3,
    "start_time": "2022-06-09T16:27:44.119Z"
   },
   {
    "duration": 2214,
    "start_time": "2022-06-09T16:27:45.064Z"
   },
   {
    "duration": 3,
    "start_time": "2022-06-09T16:27:47.282Z"
   },
   {
    "duration": 3973,
    "start_time": "2022-06-09T16:27:47.614Z"
   },
   {
    "duration": 977,
    "start_time": "2022-06-09T16:27:51.588Z"
   },
   {
    "duration": 2100,
    "start_time": "2022-06-09T16:27:52.567Z"
   },
   {
    "duration": 15,
    "start_time": "2022-06-09T16:27:54.669Z"
   },
   {
    "duration": 17,
    "start_time": "2022-06-09T16:28:03.170Z"
   },
   {
    "duration": 73,
    "start_time": "2022-06-09T16:28:04.476Z"
   },
   {
    "duration": 4,
    "start_time": "2022-06-09T16:28:07.271Z"
   },
   {
    "duration": 82,
    "start_time": "2022-06-09T16:28:08.420Z"
   },
   {
    "duration": 56,
    "start_time": "2022-06-09T16:28:11.245Z"
   },
   {
    "duration": 66,
    "start_time": "2022-06-09T16:28:19.614Z"
   },
   {
    "duration": 21,
    "start_time": "2022-06-09T16:28:23.811Z"
   },
   {
    "duration": 70,
    "start_time": "2022-06-09T16:28:25.968Z"
   },
   {
    "duration": 29,
    "start_time": "2022-06-09T16:28:30.438Z"
   },
   {
    "duration": 75,
    "start_time": "2022-06-09T16:28:32.061Z"
   },
   {
    "duration": 42,
    "start_time": "2022-06-09T16:28:34.412Z"
   },
   {
    "duration": 23,
    "start_time": "2022-06-09T16:28:35.329Z"
   },
   {
    "duration": 17,
    "start_time": "2022-06-09T16:28:36.907Z"
   },
   {
    "duration": 4,
    "start_time": "2022-06-09T16:28:38.193Z"
   },
   {
    "duration": 5,
    "start_time": "2022-06-09T16:29:01.032Z"
   },
   {
    "duration": 4,
    "start_time": "2022-06-09T16:29:02.552Z"
   },
   {
    "duration": 22,
    "start_time": "2022-06-09T16:29:04.673Z"
   },
   {
    "duration": 34,
    "start_time": "2022-06-09T16:29:06.019Z"
   },
   {
    "duration": 19,
    "start_time": "2022-06-09T16:29:07.319Z"
   },
   {
    "duration": 55,
    "start_time": "2022-06-09T16:29:08.068Z"
   },
   {
    "duration": 23,
    "start_time": "2022-06-09T16:29:11.584Z"
   },
   {
    "duration": 39,
    "start_time": "2022-06-09T16:29:12.270Z"
   },
   {
    "duration": 28,
    "start_time": "2022-06-09T16:29:13.033Z"
   },
   {
    "duration": 65,
    "start_time": "2022-06-09T16:29:14.407Z"
   },
   {
    "duration": 13,
    "start_time": "2022-06-09T16:29:16.967Z"
   },
   {
    "duration": 21,
    "start_time": "2022-06-09T16:29:17.673Z"
   },
   {
    "duration": 38,
    "start_time": "2022-06-09T16:29:19.054Z"
   },
   {
    "duration": 56,
    "start_time": "2022-06-09T16:29:20.515Z"
   },
   {
    "duration": 124,
    "start_time": "2022-06-09T16:29:22.644Z"
   },
   {
    "duration": 5,
    "start_time": "2022-06-09T16:29:24.915Z"
   },
   {
    "duration": 29,
    "start_time": "2022-06-09T16:29:25.638Z"
   },
   {
    "duration": 4,
    "start_time": "2022-06-09T16:29:28.918Z"
   },
   {
    "duration": 3,
    "start_time": "2022-06-09T16:29:31.760Z"
   },
   {
    "duration": 47,
    "start_time": "2022-06-09T16:29:34.130Z"
   },
   {
    "duration": 39,
    "start_time": "2022-06-09T16:29:37.506Z"
   },
   {
    "duration": 160,
    "start_time": "2022-06-09T16:30:06.135Z"
   },
   {
    "duration": 29,
    "start_time": "2022-06-09T16:30:15.694Z"
   },
   {
    "duration": 21,
    "start_time": "2022-06-09T16:30:43.253Z"
   },
   {
    "duration": 12,
    "start_time": "2022-06-09T16:31:53.707Z"
   },
   {
    "duration": 38,
    "start_time": "2022-06-09T16:31:54.765Z"
   },
   {
    "duration": 11,
    "start_time": "2022-06-09T16:32:35.820Z"
   },
   {
    "duration": 5,
    "start_time": "2022-06-09T16:33:07.820Z"
   },
   {
    "duration": 6,
    "start_time": "2022-06-09T16:33:10.612Z"
   },
   {
    "duration": 6,
    "start_time": "2022-06-09T16:34:21.411Z"
   },
   {
    "duration": 112,
    "start_time": "2022-06-09T16:34:22.171Z"
   },
   {
    "duration": 2560,
    "start_time": "2022-06-09T16:34:46.309Z"
   },
   {
    "duration": 121,
    "start_time": "2022-06-09T16:38:21.411Z"
   },
   {
    "duration": 31,
    "start_time": "2022-06-09T16:38:22.856Z"
   },
   {
    "duration": 7,
    "start_time": "2022-06-09T16:38:43.632Z"
   },
   {
    "duration": 722,
    "start_time": "2022-06-09T16:38:44.720Z"
   },
   {
    "duration": 7,
    "start_time": "2022-06-09T16:40:42.483Z"
   },
   {
    "duration": 970,
    "start_time": "2022-06-09T16:40:43.531Z"
   },
   {
    "duration": 6,
    "start_time": "2022-06-09T16:40:59.823Z"
   },
   {
    "duration": 112,
    "start_time": "2022-06-09T16:41:00.607Z"
   },
   {
    "duration": 7,
    "start_time": "2022-06-09T16:42:16.231Z"
   },
   {
    "duration": 46,
    "start_time": "2022-06-09T16:42:17.539Z"
   },
   {
    "duration": 8,
    "start_time": "2022-06-09T16:42:34.812Z"
   },
   {
    "duration": 131,
    "start_time": "2022-06-09T16:42:35.745Z"
   },
   {
    "duration": 7,
    "start_time": "2022-06-09T16:45:01.479Z"
   },
   {
    "duration": 127,
    "start_time": "2022-06-09T16:45:02.469Z"
   },
   {
    "duration": 108,
    "start_time": "2022-06-09T16:45:23.780Z"
   },
   {
    "duration": 6,
    "start_time": "2022-06-09T16:47:01.128Z"
   },
   {
    "duration": 71,
    "start_time": "2022-06-09T16:47:02.182Z"
   },
   {
    "duration": 10,
    "start_time": "2022-06-09T16:50:07.100Z"
   },
   {
    "duration": 200,
    "start_time": "2022-06-09T16:50:07.125Z"
   },
   {
    "duration": 7,
    "start_time": "2022-06-09T16:50:28.566Z"
   },
   {
    "duration": 287,
    "start_time": "2022-06-09T16:50:28.575Z"
   },
   {
    "duration": 24,
    "start_time": "2022-06-09T16:54:12.567Z"
   },
   {
    "duration": 31,
    "start_time": "2022-06-09T16:55:58.857Z"
   },
   {
    "duration": 31,
    "start_time": "2022-06-09T16:56:34.445Z"
   },
   {
    "duration": 63,
    "start_time": "2022-06-09T16:56:44.632Z"
   },
   {
    "duration": 14,
    "start_time": "2022-06-09T16:57:12.956Z"
   },
   {
    "duration": 4,
    "start_time": "2022-06-09T16:57:41.015Z"
   },
   {
    "duration": 12,
    "start_time": "2022-06-09T16:58:05.774Z"
   },
   {
    "duration": 20,
    "start_time": "2022-06-09T16:59:47.181Z"
   },
   {
    "duration": 12,
    "start_time": "2022-06-09T17:00:51.031Z"
   },
   {
    "duration": 437,
    "start_time": "2022-06-09T17:01:07.812Z"
   },
   {
    "duration": 500,
    "start_time": "2022-06-09T17:02:58.569Z"
   },
   {
    "duration": 1460,
    "start_time": "2022-06-09T17:03:35.122Z"
   },
   {
    "duration": 56,
    "start_time": "2022-06-09T17:04:48.516Z"
   },
   {
    "duration": 21,
    "start_time": "2022-06-09T17:04:56.611Z"
   },
   {
    "duration": 242,
    "start_time": "2022-06-09T17:05:50.062Z"
   },
   {
    "duration": 96,
    "start_time": "2022-06-09T17:06:05.503Z"
   },
   {
    "duration": 22,
    "start_time": "2022-06-09T17:06:07.562Z"
   },
   {
    "duration": 77,
    "start_time": "2022-06-09T17:06:49.238Z"
   },
   {
    "duration": 72,
    "start_time": "2022-06-09T17:07:08.939Z"
   },
   {
    "duration": 18,
    "start_time": "2022-06-09T17:07:10.364Z"
   },
   {
    "duration": 2751,
    "start_time": "2022-06-09T17:08:58.679Z"
   },
   {
    "duration": 2714,
    "start_time": "2022-06-09T17:09:16.253Z"
   },
   {
    "duration": 6,
    "start_time": "2022-06-09T17:12:49.939Z"
   },
   {
    "duration": 50,
    "start_time": "2022-06-09T17:15:59.560Z"
   },
   {
    "duration": 21,
    "start_time": "2022-06-09T17:16:40.545Z"
   },
   {
    "duration": 5,
    "start_time": "2022-06-09T17:16:52.835Z"
   },
   {
    "duration": 5,
    "start_time": "2022-06-09T17:18:49.477Z"
   },
   {
    "duration": 4068,
    "start_time": "2022-06-09T17:18:49.483Z"
   },
   {
    "duration": 27,
    "start_time": "2022-06-09T17:19:22.243Z"
   },
   {
    "duration": 4153,
    "start_time": "2022-06-09T17:19:32.516Z"
   },
   {
    "duration": 6,
    "start_time": "2022-06-09T17:19:54.133Z"
   },
   {
    "duration": 382,
    "start_time": "2022-06-09T17:21:46.757Z"
   },
   {
    "duration": 368,
    "start_time": "2022-06-09T17:22:43.824Z"
   },
   {
    "duration": 343,
    "start_time": "2022-06-09T17:23:08.218Z"
   },
   {
    "duration": 35,
    "start_time": "2022-06-09T17:23:37.178Z"
   },
   {
    "duration": 4,
    "start_time": "2022-06-09T17:23:40.030Z"
   },
   {
    "duration": 81,
    "start_time": "2022-06-09T17:23:41.017Z"
   },
   {
    "duration": 16,
    "start_time": "2022-06-09T17:23:47.964Z"
   },
   {
    "duration": 38,
    "start_time": "2022-06-09T17:24:27.477Z"
   },
   {
    "duration": 41,
    "start_time": "2022-06-09T17:24:44.104Z"
   },
   {
    "duration": 59,
    "start_time": "2022-06-09T17:25:05.279Z"
   },
   {
    "duration": 25,
    "start_time": "2022-06-09T17:25:08.451Z"
   },
   {
    "duration": 1445,
    "start_time": "2022-06-09T17:27:26.016Z"
   },
   {
    "duration": 1384,
    "start_time": "2022-06-09T17:27:33.356Z"
   },
   {
    "duration": 1606,
    "start_time": "2022-06-09T17:28:22.274Z"
   },
   {
    "duration": 36,
    "start_time": "2022-06-09T17:41:33.617Z"
   },
   {
    "duration": 13,
    "start_time": "2022-06-09T17:42:30.016Z"
   },
   {
    "duration": 4,
    "start_time": "2022-06-09T17:42:52.848Z"
   },
   {
    "duration": 11,
    "start_time": "2022-06-09T17:42:59.919Z"
   },
   {
    "duration": 19,
    "start_time": "2022-06-09T17:43:07.446Z"
   },
   {
    "duration": 20,
    "start_time": "2022-06-09T17:43:44.112Z"
   },
   {
    "duration": 675,
    "start_time": "2022-06-09T17:43:48.704Z"
   },
   {
    "duration": 28,
    "start_time": "2022-06-09T17:43:52.731Z"
   },
   {
    "duration": 35,
    "start_time": "2022-06-09T17:44:08.844Z"
   },
   {
    "duration": 15,
    "start_time": "2022-06-09T17:44:47.727Z"
   },
   {
    "duration": 7,
    "start_time": "2022-06-09T17:46:49.956Z"
   },
   {
    "duration": 6,
    "start_time": "2022-06-09T17:46:57.958Z"
   },
   {
    "duration": 7,
    "start_time": "2022-06-09T17:48:18.320Z"
   },
   {
    "duration": 40,
    "start_time": "2022-06-09T17:49:04.740Z"
   },
   {
    "duration": 26,
    "start_time": "2022-06-09T17:49:21.958Z"
   },
   {
    "duration": 33,
    "start_time": "2022-06-09T17:49:34.855Z"
   },
   {
    "duration": 21,
    "start_time": "2022-06-09T17:50:09.223Z"
   },
   {
    "duration": 49,
    "start_time": "2022-06-09T17:51:46.971Z"
   },
   {
    "duration": 368,
    "start_time": "2022-06-09T17:51:57.887Z"
   },
   {
    "duration": 17,
    "start_time": "2022-06-09T17:52:18.150Z"
   },
   {
    "duration": 12,
    "start_time": "2022-06-09T17:53:08.919Z"
   },
   {
    "duration": 36,
    "start_time": "2022-06-09T17:54:13.332Z"
   },
   {
    "duration": 19,
    "start_time": "2022-06-09T17:58:31.545Z"
   },
   {
    "duration": 10,
    "start_time": "2022-06-09T17:58:44.041Z"
   },
   {
    "duration": 12,
    "start_time": "2022-06-09T17:58:49.420Z"
   },
   {
    "duration": 1205,
    "start_time": "2022-06-09T17:59:48.066Z"
   },
   {
    "duration": 372,
    "start_time": "2022-06-09T17:59:49.273Z"
   },
   {
    "duration": 3,
    "start_time": "2022-06-09T17:59:49.647Z"
   },
   {
    "duration": 18,
    "start_time": "2022-06-09T17:59:50.896Z"
   },
   {
    "duration": 8,
    "start_time": "2022-06-09T17:59:51.955Z"
   },
   {
    "duration": 108,
    "start_time": "2022-06-09T17:59:52.929Z"
   },
   {
    "duration": 28,
    "start_time": "2022-06-09T17:59:53.741Z"
   },
   {
    "duration": 6,
    "start_time": "2022-06-09T17:59:56.915Z"
   },
   {
    "duration": 37,
    "start_time": "2022-06-09T17:59:58.357Z"
   },
   {
    "duration": 20,
    "start_time": "2022-06-09T17:59:59.760Z"
   },
   {
    "duration": 9,
    "start_time": "2022-06-09T18:00:01.987Z"
   },
   {
    "duration": 20,
    "start_time": "2022-06-09T18:00:06.316Z"
   },
   {
    "duration": 27,
    "start_time": "2022-06-09T18:00:11.769Z"
   },
   {
    "duration": 14,
    "start_time": "2022-06-09T18:00:12.641Z"
   },
   {
    "duration": 14,
    "start_time": "2022-06-09T18:00:13.628Z"
   },
   {
    "duration": 38,
    "start_time": "2022-06-09T18:00:14.694Z"
   },
   {
    "duration": 18,
    "start_time": "2022-06-09T18:00:15.449Z"
   },
   {
    "duration": 10,
    "start_time": "2022-06-09T18:00:17.435Z"
   },
   {
    "duration": 39,
    "start_time": "2022-06-09T18:00:18.143Z"
   },
   {
    "duration": 6,
    "start_time": "2022-06-09T18:00:21.899Z"
   },
   {
    "duration": 5,
    "start_time": "2022-06-09T18:00:24.947Z"
   },
   {
    "duration": 4,
    "start_time": "2022-06-09T18:00:26.415Z"
   },
   {
    "duration": 2254,
    "start_time": "2022-06-09T18:00:27.174Z"
   },
   {
    "duration": 5,
    "start_time": "2022-06-09T18:00:29.432Z"
   },
   {
    "duration": 4237,
    "start_time": "2022-06-09T18:00:29.439Z"
   },
   {
    "duration": 1077,
    "start_time": "2022-06-09T18:00:33.678Z"
   },
   {
    "duration": 2150,
    "start_time": "2022-06-09T18:00:34.756Z"
   },
   {
    "duration": 23,
    "start_time": "2022-06-09T18:00:36.908Z"
   },
   {
    "duration": 15,
    "start_time": "2022-06-09T18:00:36.933Z"
   },
   {
    "duration": 84,
    "start_time": "2022-06-09T18:00:36.950Z"
   },
   {
    "duration": 4,
    "start_time": "2022-06-09T18:00:43.623Z"
   },
   {
    "duration": 65,
    "start_time": "2022-06-09T18:00:45.144Z"
   },
   {
    "duration": 59,
    "start_time": "2022-06-09T18:00:52.219Z"
   },
   {
    "duration": 79,
    "start_time": "2022-06-09T18:00:53.753Z"
   },
   {
    "duration": 34,
    "start_time": "2022-06-09T18:01:20.652Z"
   },
   {
    "duration": 71,
    "start_time": "2022-06-09T18:01:23.660Z"
   },
   {
    "duration": 29,
    "start_time": "2022-06-09T18:01:28.359Z"
   },
   {
    "duration": 72,
    "start_time": "2022-06-09T18:01:30.141Z"
   },
   {
    "duration": 42,
    "start_time": "2022-06-09T18:01:32.700Z"
   },
   {
    "duration": 23,
    "start_time": "2022-06-09T18:01:33.686Z"
   },
   {
    "duration": 17,
    "start_time": "2022-06-09T18:01:35.219Z"
   },
   {
    "duration": 4,
    "start_time": "2022-06-09T18:01:37.573Z"
   },
   {
    "duration": 5,
    "start_time": "2022-06-09T18:01:39.416Z"
   },
   {
    "duration": 2,
    "start_time": "2022-06-09T18:02:00.114Z"
   },
   {
    "duration": 22,
    "start_time": "2022-06-09T18:02:02.768Z"
   },
   {
    "duration": 36,
    "start_time": "2022-06-09T18:02:07.826Z"
   },
   {
    "duration": 18,
    "start_time": "2022-06-09T18:02:09.501Z"
   },
   {
    "duration": 56,
    "start_time": "2022-06-09T18:02:10.279Z"
   },
   {
    "duration": 23,
    "start_time": "2022-06-09T18:02:13.620Z"
   },
   {
    "duration": 38,
    "start_time": "2022-06-09T18:02:15.322Z"
   },
   {
    "duration": 29,
    "start_time": "2022-06-09T18:02:16.399Z"
   },
   {
    "duration": 63,
    "start_time": "2022-06-09T18:02:18.320Z"
   },
   {
    "duration": 12,
    "start_time": "2022-06-09T18:02:21.914Z"
   },
   {
    "duration": 22,
    "start_time": "2022-06-09T18:02:22.704Z"
   },
   {
    "duration": 36,
    "start_time": "2022-06-09T18:02:24.668Z"
   },
   {
    "duration": 56,
    "start_time": "2022-06-09T18:02:26.841Z"
   },
   {
    "duration": 98,
    "start_time": "2022-06-09T18:02:27.811Z"
   },
   {
    "duration": 4,
    "start_time": "2022-06-09T18:02:40.522Z"
   },
   {
    "duration": 19,
    "start_time": "2022-06-09T18:02:41.300Z"
   },
   {
    "duration": 3,
    "start_time": "2022-06-09T18:02:47.626Z"
   },
   {
    "duration": 2,
    "start_time": "2022-06-09T18:02:49.050Z"
   },
   {
    "duration": 46,
    "start_time": "2022-06-09T18:02:51.235Z"
   },
   {
    "duration": 22,
    "start_time": "2022-06-09T18:09:40.011Z"
   },
   {
    "duration": 8,
    "start_time": "2022-06-09T18:09:44.625Z"
   },
   {
    "duration": 27,
    "start_time": "2022-06-09T18:09:45.397Z"
   },
   {
    "duration": 43,
    "start_time": "2022-06-09T18:09:57.204Z"
   },
   {
    "duration": 4,
    "start_time": "2022-06-09T18:09:59.608Z"
   },
   {
    "duration": 70,
    "start_time": "2022-06-09T18:10:00.596Z"
   },
   {
    "duration": 16,
    "start_time": "2022-06-09T18:10:09.746Z"
   },
   {
    "duration": 1455,
    "start_time": "2022-06-09T18:10:25.900Z"
   },
   {
    "duration": 7,
    "start_time": "2022-06-09T18:11:57.947Z"
   },
   {
    "duration": 112,
    "start_time": "2022-06-09T18:12:04.247Z"
   },
   {
    "duration": 2814,
    "start_time": "2022-06-09T18:12:19.344Z"
   },
   {
    "duration": 191,
    "start_time": "2022-06-09T18:12:52.500Z"
   },
   {
    "duration": 553,
    "start_time": "2022-06-09T18:12:56.916Z"
   },
   {
    "duration": 29,
    "start_time": "2022-06-09T18:13:12.359Z"
   },
   {
    "duration": 51,
    "start_time": "2022-06-09T18:13:31.300Z"
   },
   {
    "duration": 39,
    "start_time": "2022-06-09T18:13:50.555Z"
   },
   {
    "duration": 20,
    "start_time": "2022-06-09T18:21:18.449Z"
   },
   {
    "duration": 8,
    "start_time": "2022-06-09T18:21:25.437Z"
   },
   {
    "duration": 7,
    "start_time": "2022-06-09T18:21:29.848Z"
   },
   {
    "duration": 19,
    "start_time": "2022-06-09T18:21:36.248Z"
   },
   {
    "duration": 29,
    "start_time": "2022-06-09T18:21:38.333Z"
   },
   {
    "duration": 16,
    "start_time": "2022-06-09T18:21:39.641Z"
   },
   {
    "duration": 21,
    "start_time": "2022-06-09T18:28:54.008Z"
   },
   {
    "duration": 15,
    "start_time": "2022-06-09T18:29:04.508Z"
   },
   {
    "duration": 21,
    "start_time": "2022-06-09T18:30:25.108Z"
   },
   {
    "duration": 20,
    "start_time": "2022-06-09T18:30:31.924Z"
   },
   {
    "duration": 5,
    "start_time": "2022-06-09T18:31:11.748Z"
   },
   {
    "duration": 13,
    "start_time": "2022-06-09T18:50:09.227Z"
   },
   {
    "duration": 231,
    "start_time": "2022-06-09T18:51:28.847Z"
   },
   {
    "duration": 4,
    "start_time": "2022-06-09T18:53:07.091Z"
   },
   {
    "duration": 31,
    "start_time": "2022-06-09T18:53:28.631Z"
   },
   {
    "duration": 20,
    "start_time": "2022-06-09T18:54:09.302Z"
   },
   {
    "duration": 7,
    "start_time": "2022-06-09T19:04:55.745Z"
   },
   {
    "duration": 29,
    "start_time": "2022-06-09T19:05:01.378Z"
   },
   {
    "duration": 10,
    "start_time": "2022-06-09T19:05:13.691Z"
   },
   {
    "duration": 10,
    "start_time": "2022-06-09T19:05:26.945Z"
   },
   {
    "duration": 35,
    "start_time": "2022-06-09T19:06:10.526Z"
   },
   {
    "duration": 17,
    "start_time": "2022-06-09T19:06:42.999Z"
   },
   {
    "duration": 1154,
    "start_time": "2022-06-09T19:07:08.558Z"
   },
   {
    "duration": 410,
    "start_time": "2022-06-09T19:07:09.714Z"
   },
   {
    "duration": 3,
    "start_time": "2022-06-09T19:07:10.126Z"
   },
   {
    "duration": 17,
    "start_time": "2022-06-09T19:07:10.451Z"
   },
   {
    "duration": 8,
    "start_time": "2022-06-09T19:07:10.839Z"
   },
   {
    "duration": 100,
    "start_time": "2022-06-09T19:07:11.195Z"
   },
   {
    "duration": 30,
    "start_time": "2022-06-09T19:07:11.493Z"
   },
   {
    "duration": 8,
    "start_time": "2022-06-09T19:07:12.903Z"
   },
   {
    "duration": 41,
    "start_time": "2022-06-09T19:07:13.397Z"
   },
   {
    "duration": 21,
    "start_time": "2022-06-09T19:07:14.191Z"
   },
   {
    "duration": 11,
    "start_time": "2022-06-09T19:07:15.334Z"
   },
   {
    "duration": 21,
    "start_time": "2022-06-09T19:07:16.103Z"
   },
   {
    "duration": 27,
    "start_time": "2022-06-09T19:07:16.607Z"
   },
   {
    "duration": 13,
    "start_time": "2022-06-09T19:07:16.911Z"
   },
   {
    "duration": 15,
    "start_time": "2022-06-09T19:07:17.260Z"
   },
   {
    "duration": 35,
    "start_time": "2022-06-09T19:07:17.593Z"
   },
   {
    "duration": 18,
    "start_time": "2022-06-09T19:07:17.904Z"
   },
   {
    "duration": 9,
    "start_time": "2022-06-09T19:07:18.930Z"
   },
   {
    "duration": 63,
    "start_time": "2022-06-09T19:07:19.295Z"
   },
   {
    "duration": 6,
    "start_time": "2022-06-09T19:07:21.307Z"
   },
   {
    "duration": 5,
    "start_time": "2022-06-09T19:07:22.012Z"
   },
   {
    "duration": 4,
    "start_time": "2022-06-09T19:07:23.048Z"
   },
   {
    "duration": 2130,
    "start_time": "2022-06-09T19:07:23.421Z"
   },
   {
    "duration": 4,
    "start_time": "2022-06-09T19:07:25.554Z"
   },
   {
    "duration": 3974,
    "start_time": "2022-06-09T19:07:25.560Z"
   },
   {
    "duration": 933,
    "start_time": "2022-06-09T19:07:29.536Z"
   },
   {
    "duration": 2112,
    "start_time": "2022-06-09T19:07:30.470Z"
   },
   {
    "duration": 19,
    "start_time": "2022-06-09T19:07:32.585Z"
   },
   {
    "duration": 26,
    "start_time": "2022-06-09T19:07:32.606Z"
   },
   {
    "duration": 66,
    "start_time": "2022-06-09T19:07:32.634Z"
   },
   {
    "duration": 20,
    "start_time": "2022-06-09T19:07:32.703Z"
   },
   {
    "duration": 64,
    "start_time": "2022-06-09T19:07:32.858Z"
   },
   {
    "duration": 56,
    "start_time": "2022-06-09T19:07:34.303Z"
   },
   {
    "duration": 63,
    "start_time": "2022-06-09T19:07:35.103Z"
   },
   {
    "duration": 20,
    "start_time": "2022-06-09T19:07:37.418Z"
   },
   {
    "duration": 69,
    "start_time": "2022-06-09T19:07:38.638Z"
   },
   {
    "duration": 30,
    "start_time": "2022-06-09T19:07:41.391Z"
   },
   {
    "duration": 70,
    "start_time": "2022-06-09T19:07:42.795Z"
   },
   {
    "duration": 37,
    "start_time": "2022-06-09T19:07:43.715Z"
   },
   {
    "duration": 23,
    "start_time": "2022-06-09T19:07:45.030Z"
   },
   {
    "duration": 17,
    "start_time": "2022-06-09T19:07:45.632Z"
   },
   {
    "duration": 4,
    "start_time": "2022-06-09T19:07:48.443Z"
   },
   {
    "duration": 4,
    "start_time": "2022-06-09T19:07:51.123Z"
   },
   {
    "duration": 2,
    "start_time": "2022-06-09T19:07:52.520Z"
   },
   {
    "duration": 19,
    "start_time": "2022-06-09T19:07:53.747Z"
   },
   {
    "duration": 33,
    "start_time": "2022-06-09T19:07:54.760Z"
   },
   {
    "duration": 16,
    "start_time": "2022-06-09T19:07:56.025Z"
   },
   {
    "duration": 52,
    "start_time": "2022-06-09T19:07:56.799Z"
   },
   {
    "duration": 22,
    "start_time": "2022-06-09T19:07:59.999Z"
   },
   {
    "duration": 37,
    "start_time": "2022-06-09T19:08:00.449Z"
   },
   {
    "duration": 28,
    "start_time": "2022-06-09T19:08:00.999Z"
   },
   {
    "duration": 62,
    "start_time": "2022-06-09T19:08:01.997Z"
   },
   {
    "duration": 17,
    "start_time": "2022-06-09T19:08:03.876Z"
   },
   {
    "duration": 22,
    "start_time": "2022-06-09T19:08:04.387Z"
   },
   {
    "duration": 38,
    "start_time": "2022-06-09T19:08:08.011Z"
   },
   {
    "duration": 55,
    "start_time": "2022-06-09T19:08:09.403Z"
   },
   {
    "duration": 98,
    "start_time": "2022-06-09T19:08:10.199Z"
   },
   {
    "duration": 4,
    "start_time": "2022-06-09T19:08:12.733Z"
   },
   {
    "duration": 17,
    "start_time": "2022-06-09T19:08:13.409Z"
   },
   {
    "duration": 3,
    "start_time": "2022-06-09T19:08:15.621Z"
   },
   {
    "duration": 3,
    "start_time": "2022-06-09T19:08:16.387Z"
   },
   {
    "duration": 47,
    "start_time": "2022-06-09T19:08:17.421Z"
   },
   {
    "duration": 25,
    "start_time": "2022-06-09T19:08:19.384Z"
   },
   {
    "duration": 8,
    "start_time": "2022-06-09T19:08:19.745Z"
   },
   {
    "duration": 31,
    "start_time": "2022-06-09T19:08:20.167Z"
   },
   {
    "duration": 502,
    "start_time": "2022-06-09T19:08:24.148Z"
   },
   {
    "duration": 17,
    "start_time": "2022-06-09T19:08:24.985Z"
   },
   {
    "duration": 42,
    "start_time": "2022-06-09T19:08:55.921Z"
   },
   {
    "duration": 9,
    "start_time": "2022-06-09T19:08:58.899Z"
   },
   {
    "duration": 30,
    "start_time": "2022-06-09T19:09:01.853Z"
   },
   {
    "duration": 65,
    "start_time": "2022-06-09T19:09:16.091Z"
   },
   {
    "duration": 11,
    "start_time": "2022-06-09T19:10:36.287Z"
   },
   {
    "duration": 19,
    "start_time": "2022-06-09T19:10:52.648Z"
   },
   {
    "duration": 18,
    "start_time": "2022-06-09T19:11:17.943Z"
   },
   {
    "duration": 50,
    "start_time": "2022-06-09T19:11:30.495Z"
   },
   {
    "duration": 118,
    "start_time": "2022-06-09T19:13:10.095Z"
   },
   {
    "duration": 27,
    "start_time": "2022-06-09T19:13:22.395Z"
   },
   {
    "duration": 75,
    "start_time": "2022-06-09T19:13:46.491Z"
   },
   {
    "duration": 27,
    "start_time": "2022-06-09T19:14:09.135Z"
   },
   {
    "duration": 9,
    "start_time": "2022-06-09T19:15:40.318Z"
   },
   {
    "duration": 67,
    "start_time": "2022-06-09T19:15:47.103Z"
   },
   {
    "duration": 6,
    "start_time": "2022-06-09T19:19:09.807Z"
   },
   {
    "duration": 19,
    "start_time": "2022-06-09T19:19:26.027Z"
   },
   {
    "duration": 32,
    "start_time": "2022-06-09T19:19:47.384Z"
   },
   {
    "duration": 5,
    "start_time": "2022-06-09T19:19:56.111Z"
   },
   {
    "duration": 9,
    "start_time": "2022-06-09T19:20:04.931Z"
   },
   {
    "duration": 13,
    "start_time": "2022-06-09T19:21:11.855Z"
   },
   {
    "duration": 12,
    "start_time": "2022-06-09T19:23:01.735Z"
   },
   {
    "duration": 15,
    "start_time": "2022-06-09T19:23:30.104Z"
   },
   {
    "duration": 11,
    "start_time": "2022-06-09T19:24:01.812Z"
   },
   {
    "duration": 12,
    "start_time": "2022-06-09T19:26:00.387Z"
   },
   {
    "duration": 67,
    "start_time": "2022-06-09T19:26:08.552Z"
   },
   {
    "duration": 27,
    "start_time": "2022-06-09T19:26:43.087Z"
   },
   {
    "duration": 20,
    "start_time": "2022-06-09T19:26:53.491Z"
   },
   {
    "duration": 57,
    "start_time": "2022-06-09T19:27:51.215Z"
   },
   {
    "duration": 29,
    "start_time": "2022-06-09T19:33:58.922Z"
   },
   {
    "duration": 34,
    "start_time": "2022-06-09T19:40:04.538Z"
   },
   {
    "duration": 17,
    "start_time": "2022-06-09T19:40:20.099Z"
   },
   {
    "duration": 60,
    "start_time": "2022-06-09T19:40:37.027Z"
   },
   {
    "duration": 8,
    "start_time": "2022-06-09T19:42:53.859Z"
   },
   {
    "duration": 11,
    "start_time": "2022-06-09T19:44:13.002Z"
   },
   {
    "duration": 1192,
    "start_time": "2022-06-09T19:44:42.203Z"
   },
   {
    "duration": 283,
    "start_time": "2022-06-09T19:44:45.036Z"
   },
   {
    "duration": 3,
    "start_time": "2022-06-09T19:44:46.103Z"
   },
   {
    "duration": 15,
    "start_time": "2022-06-09T19:44:46.883Z"
   },
   {
    "duration": 7,
    "start_time": "2022-06-09T19:44:47.711Z"
   },
   {
    "duration": 103,
    "start_time": "2022-06-09T19:44:48.325Z"
   },
   {
    "duration": 28,
    "start_time": "2022-06-09T19:44:48.735Z"
   },
   {
    "duration": 7,
    "start_time": "2022-06-09T19:44:51.207Z"
   },
   {
    "duration": 47,
    "start_time": "2022-06-09T19:44:52.011Z"
   },
   {
    "duration": 19,
    "start_time": "2022-06-09T19:44:53.721Z"
   },
   {
    "duration": 9,
    "start_time": "2022-06-09T19:44:55.886Z"
   },
   {
    "duration": 20,
    "start_time": "2022-06-09T19:45:05.109Z"
   },
   {
    "duration": 26,
    "start_time": "2022-06-09T19:46:36.307Z"
   },
   {
    "duration": 12,
    "start_time": "2022-06-09T19:46:36.691Z"
   },
   {
    "duration": 13,
    "start_time": "2022-06-09T19:46:37.033Z"
   },
   {
    "duration": 34,
    "start_time": "2022-06-09T19:46:37.418Z"
   },
   {
    "duration": 17,
    "start_time": "2022-06-09T19:46:37.799Z"
   },
   {
    "duration": 9,
    "start_time": "2022-06-09T19:46:38.414Z"
   },
   {
    "duration": 40,
    "start_time": "2022-06-09T19:46:38.707Z"
   },
   {
    "duration": 5,
    "start_time": "2022-06-09T19:46:39.895Z"
   },
   {
    "duration": 5,
    "start_time": "2022-06-09T19:46:40.428Z"
   },
   {
    "duration": 4,
    "start_time": "2022-06-09T19:46:41.147Z"
   },
   {
    "duration": 2239,
    "start_time": "2022-06-09T19:46:41.491Z"
   },
   {
    "duration": 4,
    "start_time": "2022-06-09T19:46:43.734Z"
   },
   {
    "duration": 4169,
    "start_time": "2022-06-09T19:46:43.739Z"
   },
   {
    "duration": 1118,
    "start_time": "2022-06-09T19:46:47.911Z"
   },
   {
    "duration": 2047,
    "start_time": "2022-06-09T19:46:49.030Z"
   },
   {
    "duration": 14,
    "start_time": "2022-06-09T19:46:51.079Z"
   },
   {
    "duration": 33,
    "start_time": "2022-06-09T19:46:51.095Z"
   },
   {
    "duration": 69,
    "start_time": "2022-06-09T19:46:51.131Z"
   },
   {
    "duration": 3,
    "start_time": "2022-06-09T19:46:51.202Z"
   },
   {
    "duration": 81,
    "start_time": "2022-06-09T19:46:51.208Z"
   },
   {
    "duration": 73,
    "start_time": "2022-06-09T19:46:51.290Z"
   },
   {
    "duration": 77,
    "start_time": "2022-06-09T19:46:51.365Z"
   },
   {
    "duration": 21,
    "start_time": "2022-06-09T19:46:51.444Z"
   },
   {
    "duration": 88,
    "start_time": "2022-06-09T19:46:51.466Z"
   },
   {
    "duration": 27,
    "start_time": "2022-06-09T19:46:51.556Z"
   },
   {
    "duration": 88,
    "start_time": "2022-06-09T19:46:51.586Z"
   },
   {
    "duration": 37,
    "start_time": "2022-06-09T19:46:54.228Z"
   },
   {
    "duration": 23,
    "start_time": "2022-06-09T19:46:55.257Z"
   },
   {
    "duration": 17,
    "start_time": "2022-06-09T19:46:55.802Z"
   },
   {
    "duration": 4,
    "start_time": "2022-06-09T19:46:56.745Z"
   },
   {
    "duration": 5,
    "start_time": "2022-06-09T19:46:57.087Z"
   },
   {
    "duration": 3,
    "start_time": "2022-06-09T19:46:58.103Z"
   },
   {
    "duration": 23,
    "start_time": "2022-06-09T19:47:00.103Z"
   },
   {
    "duration": 42,
    "start_time": "2022-06-09T19:47:01.027Z"
   },
   {
    "duration": 19,
    "start_time": "2022-06-09T19:47:02.020Z"
   },
   {
    "duration": 53,
    "start_time": "2022-06-09T19:47:02.695Z"
   },
   {
    "duration": 24,
    "start_time": "2022-06-09T19:47:06.304Z"
   },
   {
    "duration": 38,
    "start_time": "2022-06-09T19:47:06.579Z"
   },
   {
    "duration": 28,
    "start_time": "2022-06-09T19:47:06.903Z"
   },
   {
    "duration": 60,
    "start_time": "2022-06-09T19:47:07.738Z"
   },
   {
    "duration": 12,
    "start_time": "2022-06-09T19:47:14.027Z"
   },
   {
    "duration": 22,
    "start_time": "2022-06-09T19:47:14.921Z"
   },
   {
    "duration": 37,
    "start_time": "2022-06-09T19:47:16.411Z"
   },
   {
    "duration": 58,
    "start_time": "2022-06-09T19:47:19.326Z"
   },
   {
    "duration": 111,
    "start_time": "2022-06-09T19:47:20.199Z"
   },
   {
    "duration": 5,
    "start_time": "2022-06-09T19:47:23.819Z"
   },
   {
    "duration": 18,
    "start_time": "2022-06-09T19:47:26.183Z"
   },
   {
    "duration": 2,
    "start_time": "2022-06-09T19:47:28.191Z"
   },
   {
    "duration": 3,
    "start_time": "2022-06-09T19:47:29.274Z"
   },
   {
    "duration": 44,
    "start_time": "2022-06-09T19:47:31.206Z"
   },
   {
    "duration": 19,
    "start_time": "2022-06-09T19:47:34.783Z"
   },
   {
    "duration": 8,
    "start_time": "2022-06-09T19:47:35.718Z"
   },
   {
    "duration": 25,
    "start_time": "2022-06-09T19:47:36.907Z"
   },
   {
    "duration": 577,
    "start_time": "2022-06-09T19:59:31.691Z"
   },
   {
    "duration": 372,
    "start_time": "2022-06-09T19:59:55.312Z"
   },
   {
    "duration": 4,
    "start_time": "2022-06-09T20:01:22.902Z"
   },
   {
    "duration": 381,
    "start_time": "2022-06-09T20:01:33.013Z"
   },
   {
    "duration": 346,
    "start_time": "2022-06-09T20:01:51.806Z"
   },
   {
    "duration": 387,
    "start_time": "2022-06-09T20:02:41.176Z"
   },
   {
    "duration": 6,
    "start_time": "2022-06-09T20:03:09.180Z"
   },
   {
    "duration": 360,
    "start_time": "2022-06-09T20:03:15.084Z"
   },
   {
    "duration": 1156,
    "start_time": "2022-06-09T20:03:43.739Z"
   },
   {
    "duration": 404,
    "start_time": "2022-06-09T20:03:47.146Z"
   },
   {
    "duration": 3,
    "start_time": "2022-06-09T20:03:48.280Z"
   },
   {
    "duration": 17,
    "start_time": "2022-06-09T20:03:49.292Z"
   },
   {
    "duration": 6,
    "start_time": "2022-06-09T20:03:50.088Z"
   },
   {
    "duration": 106,
    "start_time": "2022-06-09T20:03:50.618Z"
   },
   {
    "duration": 27,
    "start_time": "2022-06-09T20:03:50.980Z"
   },
   {
    "duration": 8,
    "start_time": "2022-06-09T20:03:52.920Z"
   },
   {
    "duration": 36,
    "start_time": "2022-06-09T20:03:53.682Z"
   },
   {
    "duration": 19,
    "start_time": "2022-06-09T20:03:54.490Z"
   },
   {
    "duration": 9,
    "start_time": "2022-06-09T20:03:55.676Z"
   },
   {
    "duration": 21,
    "start_time": "2022-06-09T20:03:56.448Z"
   },
   {
    "duration": 32,
    "start_time": "2022-06-09T20:03:57.431Z"
   },
   {
    "duration": 17,
    "start_time": "2022-06-09T20:03:58.033Z"
   },
   {
    "duration": 12,
    "start_time": "2022-06-09T20:03:58.454Z"
   },
   {
    "duration": 34,
    "start_time": "2022-06-09T20:03:59.076Z"
   },
   {
    "duration": 16,
    "start_time": "2022-06-09T20:03:59.680Z"
   },
   {
    "duration": 8,
    "start_time": "2022-06-09T20:04:02.480Z"
   },
   {
    "duration": 36,
    "start_time": "2022-06-09T20:04:03.229Z"
   },
   {
    "duration": 5,
    "start_time": "2022-06-09T20:04:06.817Z"
   },
   {
    "duration": 5,
    "start_time": "2022-06-09T20:04:08.180Z"
   },
   {
    "duration": 4,
    "start_time": "2022-06-09T20:04:09.995Z"
   },
   {
    "duration": 2296,
    "start_time": "2022-06-09T20:04:10.814Z"
   },
   {
    "duration": 13,
    "start_time": "2022-06-09T20:04:13.113Z"
   },
   {
    "duration": 4006,
    "start_time": "2022-06-09T20:04:13.242Z"
   },
   {
    "duration": 1138,
    "start_time": "2022-06-09T20:04:18.639Z"
   },
   {
    "duration": 2372,
    "start_time": "2022-06-09T20:04:19.779Z"
   },
   {
    "duration": 15,
    "start_time": "2022-06-09T20:04:22.153Z"
   },
   {
    "duration": 24,
    "start_time": "2022-06-09T20:04:22.169Z"
   },
   {
    "duration": 98,
    "start_time": "2022-06-09T20:04:22.196Z"
   },
   {
    "duration": 3,
    "start_time": "2022-06-09T20:04:22.296Z"
   },
   {
    "duration": 78,
    "start_time": "2022-06-09T20:04:22.301Z"
   },
   {
    "duration": 75,
    "start_time": "2022-06-09T20:04:23.103Z"
   },
   {
    "duration": 77,
    "start_time": "2022-06-09T20:04:23.615Z"
   },
   {
    "duration": 21,
    "start_time": "2022-06-09T20:04:25.449Z"
   },
   {
    "duration": 94,
    "start_time": "2022-06-09T20:04:30.168Z"
   },
   {
    "duration": 30,
    "start_time": "2022-06-09T20:04:33.150Z"
   },
   {
    "duration": 79,
    "start_time": "2022-06-09T20:04:33.726Z"
   },
   {
    "duration": 45,
    "start_time": "2022-06-09T20:04:34.488Z"
   },
   {
    "duration": 22,
    "start_time": "2022-06-09T20:04:34.791Z"
   },
   {
    "duration": 20,
    "start_time": "2022-06-09T20:04:35.544Z"
   },
   {
    "duration": 4,
    "start_time": "2022-06-09T20:04:37.247Z"
   },
   {
    "duration": 4,
    "start_time": "2022-06-09T20:04:37.576Z"
   },
   {
    "duration": 10,
    "start_time": "2022-06-09T20:04:38.122Z"
   },
   {
    "duration": 22,
    "start_time": "2022-06-09T20:04:38.968Z"
   },
   {
    "duration": 42,
    "start_time": "2022-06-09T20:04:41.002Z"
   },
   {
    "duration": 17,
    "start_time": "2022-06-09T20:04:44.484Z"
   },
   {
    "duration": 54,
    "start_time": "2022-06-09T20:04:46.445Z"
   },
   {
    "duration": 23,
    "start_time": "2022-06-09T20:04:49.621Z"
   },
   {
    "duration": 40,
    "start_time": "2022-06-09T20:04:50.044Z"
   },
   {
    "duration": 44,
    "start_time": "2022-06-09T20:04:50.619Z"
   },
   {
    "duration": 73,
    "start_time": "2022-06-09T20:04:52.209Z"
   },
   {
    "duration": 11,
    "start_time": "2022-06-09T20:04:56.295Z"
   },
   {
    "duration": 23,
    "start_time": "2022-06-09T20:04:56.308Z"
   },
   {
    "duration": 35,
    "start_time": "2022-06-09T20:04:57.634Z"
   },
   {
    "duration": 70,
    "start_time": "2022-06-09T20:04:58.788Z"
   },
   {
    "duration": 114,
    "start_time": "2022-06-09T20:04:59.156Z"
   },
   {
    "duration": 5,
    "start_time": "2022-06-09T20:05:01.012Z"
   },
   {
    "duration": 17,
    "start_time": "2022-06-09T20:05:01.694Z"
   },
   {
    "duration": 2,
    "start_time": "2022-06-09T20:05:04.384Z"
   },
   {
    "duration": 2,
    "start_time": "2022-06-09T20:05:05.237Z"
   },
   {
    "duration": 64,
    "start_time": "2022-06-09T20:05:06.520Z"
   },
   {
    "duration": 20,
    "start_time": "2022-06-09T20:05:09.576Z"
   },
   {
    "duration": 8,
    "start_time": "2022-06-09T20:06:17.672Z"
   },
   {
    "duration": 29,
    "start_time": "2022-06-09T20:06:18.505Z"
   },
   {
    "duration": 44,
    "start_time": "2022-06-09T20:06:25.325Z"
   },
   {
    "duration": 72,
    "start_time": "2022-06-09T20:07:45.072Z"
   },
   {
    "duration": 52,
    "start_time": "2022-06-09T20:10:57.516Z"
   },
   {
    "duration": 62,
    "start_time": "2022-06-09T20:12:11.376Z"
   },
   {
    "duration": 52,
    "start_time": "2022-06-09T20:12:28.232Z"
   },
   {
    "duration": 150,
    "start_time": "2022-06-09T20:13:07.088Z"
   },
   {
    "duration": 4,
    "start_time": "2022-06-09T20:13:31.725Z"
   },
   {
    "duration": 64,
    "start_time": "2022-06-09T20:13:48.894Z"
   },
   {
    "duration": 14,
    "start_time": "2022-06-09T20:13:52.638Z"
   },
   {
    "duration": 6,
    "start_time": "2022-06-09T20:18:35.190Z"
   },
   {
    "duration": 20,
    "start_time": "2022-06-09T20:19:11.252Z"
   },
   {
    "duration": 9,
    "start_time": "2022-06-09T20:19:31.790Z"
   },
   {
    "duration": 35,
    "start_time": "2022-06-09T20:19:34.288Z"
   },
   {
    "duration": 8,
    "start_time": "2022-06-09T20:19:57.793Z"
   },
   {
    "duration": 140,
    "start_time": "2022-06-09T20:20:00.900Z"
   },
   {
    "duration": 123,
    "start_time": "2022-06-09T20:20:55.059Z"
   },
   {
    "duration": 6,
    "start_time": "2022-06-09T20:21:55.310Z"
   },
   {
    "duration": 108,
    "start_time": "2022-06-09T20:21:56.806Z"
   },
   {
    "duration": 26,
    "start_time": "2022-06-09T20:23:19.900Z"
   },
   {
    "duration": 3922,
    "start_time": "2022-06-09T20:23:56.738Z"
   },
   {
    "duration": 34,
    "start_time": "2022-06-09T20:24:57.847Z"
   },
   {
    "duration": 38,
    "start_time": "2022-06-09T20:25:12.393Z"
   },
   {
    "duration": 40,
    "start_time": "2022-06-09T20:26:14.254Z"
   },
   {
    "duration": 24,
    "start_time": "2022-06-09T20:26:39.795Z"
   },
   {
    "duration": 39,
    "start_time": "2022-06-09T20:26:55.264Z"
   },
   {
    "duration": 33,
    "start_time": "2022-06-09T20:27:31.467Z"
   },
   {
    "duration": 27,
    "start_time": "2022-06-09T20:27:36.917Z"
   },
   {
    "duration": 14,
    "start_time": "2022-06-09T20:27:53.913Z"
   },
   {
    "duration": 25,
    "start_time": "2022-06-09T20:28:09.951Z"
   },
   {
    "duration": 1156,
    "start_time": "2022-06-09T20:29:05.027Z"
   },
   {
    "duration": 333,
    "start_time": "2022-06-09T20:29:06.185Z"
   },
   {
    "duration": 3,
    "start_time": "2022-06-09T20:29:06.596Z"
   },
   {
    "duration": 17,
    "start_time": "2022-06-09T20:29:07.457Z"
   },
   {
    "duration": 8,
    "start_time": "2022-06-09T20:29:08.362Z"
   },
   {
    "duration": 104,
    "start_time": "2022-06-09T20:29:08.866Z"
   },
   {
    "duration": 32,
    "start_time": "2022-06-09T20:29:09.212Z"
   },
   {
    "duration": 7,
    "start_time": "2022-06-09T20:29:10.804Z"
   },
   {
    "duration": 34,
    "start_time": "2022-06-09T20:29:11.326Z"
   },
   {
    "duration": 19,
    "start_time": "2022-06-09T20:29:11.856Z"
   },
   {
    "duration": 10,
    "start_time": "2022-06-09T20:29:13.729Z"
   },
   {
    "duration": 20,
    "start_time": "2022-06-09T20:29:14.496Z"
   },
   {
    "duration": 26,
    "start_time": "2022-06-09T20:29:15.304Z"
   },
   {
    "duration": 11,
    "start_time": "2022-06-09T20:29:15.647Z"
   },
   {
    "duration": 13,
    "start_time": "2022-06-09T20:29:16.028Z"
   },
   {
    "duration": 33,
    "start_time": "2022-06-09T20:29:16.408Z"
   },
   {
    "duration": 16,
    "start_time": "2022-06-09T20:29:16.757Z"
   },
   {
    "duration": 9,
    "start_time": "2022-06-09T20:29:17.812Z"
   },
   {
    "duration": 35,
    "start_time": "2022-06-09T20:29:18.098Z"
   },
   {
    "duration": 5,
    "start_time": "2022-06-09T20:29:30.420Z"
   },
   {
    "duration": 5,
    "start_time": "2022-06-09T20:29:30.940Z"
   },
   {
    "duration": 3,
    "start_time": "2022-06-09T20:29:31.627Z"
   },
   {
    "duration": 2154,
    "start_time": "2022-06-09T20:29:31.922Z"
   },
   {
    "duration": 4,
    "start_time": "2022-06-09T20:29:34.078Z"
   },
   {
    "duration": 4082,
    "start_time": "2022-06-09T20:29:34.084Z"
   },
   {
    "duration": 989,
    "start_time": "2022-06-09T20:29:38.168Z"
   },
   {
    "duration": 2089,
    "start_time": "2022-06-09T20:29:39.158Z"
   },
   {
    "duration": 16,
    "start_time": "2022-06-09T20:29:41.249Z"
   },
   {
    "duration": 15,
    "start_time": "2022-06-09T20:29:41.266Z"
   },
   {
    "duration": 80,
    "start_time": "2022-06-09T20:29:41.283Z"
   },
   {
    "duration": 3,
    "start_time": "2022-06-09T20:29:44.062Z"
   },
   {
    "duration": 64,
    "start_time": "2022-06-09T20:29:44.492Z"
   },
   {
    "duration": 55,
    "start_time": "2022-06-09T20:29:46.859Z"
   },
   {
    "duration": 64,
    "start_time": "2022-06-09T20:29:47.690Z"
   },
   {
    "duration": 22,
    "start_time": "2022-06-09T20:29:52.770Z"
   },
   {
    "duration": 71,
    "start_time": "2022-06-09T20:29:54.590Z"
   },
   {
    "duration": 28,
    "start_time": "2022-06-09T20:29:58.604Z"
   },
   {
    "duration": 74,
    "start_time": "2022-06-09T20:30:01.443Z"
   },
   {
    "duration": 41,
    "start_time": "2022-06-09T20:30:03.967Z"
   },
   {
    "duration": 21,
    "start_time": "2022-06-09T20:30:04.836Z"
   },
   {
    "duration": 17,
    "start_time": "2022-06-09T20:30:06.797Z"
   },
   {
    "duration": 3,
    "start_time": "2022-06-09T20:30:08.524Z"
   },
   {
    "duration": 6,
    "start_time": "2022-06-09T20:30:09.270Z"
   },
   {
    "duration": 3,
    "start_time": "2022-06-09T20:30:10.924Z"
   },
   {
    "duration": 21,
    "start_time": "2022-06-09T20:30:13.196Z"
   },
   {
    "duration": 45,
    "start_time": "2022-06-09T20:30:14.693Z"
   },
   {
    "duration": 19,
    "start_time": "2022-06-09T20:30:16.108Z"
   },
   {
    "duration": 53,
    "start_time": "2022-06-09T20:30:16.809Z"
   },
   {
    "duration": 21,
    "start_time": "2022-06-09T20:30:19.808Z"
   },
   {
    "duration": 37,
    "start_time": "2022-06-09T20:30:20.250Z"
   },
   {
    "duration": 28,
    "start_time": "2022-06-09T20:30:21.048Z"
   },
   {
    "duration": 78,
    "start_time": "2022-06-09T20:30:22.528Z"
   },
   {
    "duration": 12,
    "start_time": "2022-06-09T20:30:25.222Z"
   },
   {
    "duration": 20,
    "start_time": "2022-06-09T20:30:25.792Z"
   },
   {
    "duration": 34,
    "start_time": "2022-06-09T20:30:27.122Z"
   },
   {
    "duration": 59,
    "start_time": "2022-06-09T20:30:28.500Z"
   },
   {
    "duration": 96,
    "start_time": "2022-06-09T20:30:29.261Z"
   },
   {
    "duration": 5,
    "start_time": "2022-06-09T20:30:31.867Z"
   },
   {
    "duration": 17,
    "start_time": "2022-06-09T20:30:32.696Z"
   },
   {
    "duration": 3,
    "start_time": "2022-06-09T20:30:35.604Z"
   },
   {
    "duration": 2,
    "start_time": "2022-06-09T20:30:36.922Z"
   },
   {
    "duration": 47,
    "start_time": "2022-06-09T20:30:41.063Z"
   },
   {
    "duration": 18,
    "start_time": "2022-06-09T20:30:44.753Z"
   },
   {
    "duration": 7,
    "start_time": "2022-06-09T20:30:45.762Z"
   },
   {
    "duration": 27,
    "start_time": "2022-06-09T20:30:46.717Z"
   },
   {
    "duration": 19,
    "start_time": "2022-06-09T20:32:27.539Z"
   },
   {
    "duration": 8,
    "start_time": "2022-06-09T20:32:58.251Z"
   },
   {
    "duration": 30,
    "start_time": "2022-06-09T20:33:11.716Z"
   },
   {
    "duration": 44,
    "start_time": "2022-06-09T20:33:48.555Z"
   },
   {
    "duration": 140,
    "start_time": "2022-06-09T20:33:54.409Z"
   },
   {
    "duration": 9,
    "start_time": "2022-06-09T20:34:13.648Z"
   },
   {
    "duration": 27,
    "start_time": "2022-06-09T20:34:19.063Z"
   },
   {
    "duration": 10,
    "start_time": "2022-06-09T20:34:35.915Z"
   },
   {
    "duration": 17,
    "start_time": "2022-06-09T20:34:45.439Z"
   },
   {
    "duration": 12,
    "start_time": "2022-06-09T20:35:02.331Z"
   },
   {
    "duration": 16,
    "start_time": "2022-06-09T20:35:47.862Z"
   },
   {
    "duration": 17,
    "start_time": "2022-06-09T20:35:57.131Z"
   },
   {
    "duration": 12,
    "start_time": "2022-06-09T20:36:28.934Z"
   },
   {
    "duration": 13,
    "start_time": "2022-06-09T20:36:36.443Z"
   },
   {
    "duration": 9,
    "start_time": "2022-06-09T20:37:10.400Z"
   },
   {
    "duration": 7,
    "start_time": "2022-06-09T20:38:22.723Z"
   },
   {
    "duration": 12,
    "start_time": "2022-06-09T20:38:55.800Z"
   },
   {
    "duration": 12,
    "start_time": "2022-06-09T20:39:21.400Z"
   },
   {
    "duration": 7,
    "start_time": "2022-06-09T20:40:12.101Z"
   },
   {
    "duration": 8,
    "start_time": "2022-06-09T20:40:24.271Z"
   },
   {
    "duration": 26,
    "start_time": "2022-06-09T20:40:50.510Z"
   },
   {
    "duration": 18,
    "start_time": "2022-06-09T20:41:51.176Z"
   },
   {
    "duration": 8,
    "start_time": "2022-06-09T20:41:59.413Z"
   },
   {
    "duration": 18,
    "start_time": "2022-06-09T20:42:01.992Z"
   },
   {
    "duration": 9,
    "start_time": "2022-06-09T20:42:19.516Z"
   },
   {
    "duration": 32,
    "start_time": "2022-06-09T20:42:27.937Z"
   },
   {
    "duration": 14,
    "start_time": "2022-06-09T20:42:45.251Z"
   },
   {
    "duration": 13,
    "start_time": "2022-06-09T20:42:57.812Z"
   },
   {
    "duration": 46,
    "start_time": "2022-06-09T20:44:28.962Z"
   },
   {
    "duration": 62,
    "start_time": "2022-06-09T20:44:38.117Z"
   },
   {
    "duration": 6,
    "start_time": "2022-06-09T20:45:32.876Z"
   },
   {
    "duration": 5,
    "start_time": "2022-06-09T20:46:03.776Z"
   },
   {
    "duration": 68,
    "start_time": "2022-06-09T20:46:15.826Z"
   },
   {
    "duration": 32,
    "start_time": "2022-06-09T20:47:54.419Z"
   },
   {
    "duration": 29,
    "start_time": "2022-06-09T20:48:05.127Z"
   },
   {
    "duration": 60,
    "start_time": "2022-06-09T20:48:17.228Z"
   },
   {
    "duration": 1168,
    "start_time": "2022-06-09T20:49:07.613Z"
   },
   {
    "duration": 330,
    "start_time": "2022-06-09T20:49:09.913Z"
   },
   {
    "duration": 4,
    "start_time": "2022-06-09T20:49:10.819Z"
   },
   {
    "duration": 17,
    "start_time": "2022-06-09T20:49:11.725Z"
   },
   {
    "duration": 8,
    "start_time": "2022-06-09T20:49:12.558Z"
   },
   {
    "duration": 106,
    "start_time": "2022-06-09T20:49:13.222Z"
   },
   {
    "duration": 29,
    "start_time": "2022-06-09T20:49:13.754Z"
   },
   {
    "duration": 8,
    "start_time": "2022-06-09T20:49:17.052Z"
   },
   {
    "duration": 36,
    "start_time": "2022-06-09T20:49:18.227Z"
   },
   {
    "duration": 19,
    "start_time": "2022-06-09T20:49:20.058Z"
   },
   {
    "duration": 11,
    "start_time": "2022-06-09T20:49:22.325Z"
   },
   {
    "duration": 23,
    "start_time": "2022-06-09T20:49:24.230Z"
   },
   {
    "duration": 29,
    "start_time": "2022-06-09T20:49:25.916Z"
   },
   {
    "duration": 36,
    "start_time": "2022-06-09T20:49:56.855Z"
   },
   {
    "duration": 19,
    "start_time": "2022-06-09T20:50:40.680Z"
   },
   {
    "duration": 13,
    "start_time": "2022-06-09T20:51:15.021Z"
   },
   {
    "duration": 37,
    "start_time": "2022-06-09T20:51:15.540Z"
   },
   {
    "duration": 17,
    "start_time": "2022-06-09T20:51:15.924Z"
   },
   {
    "duration": 11,
    "start_time": "2022-06-09T20:51:18.004Z"
   },
   {
    "duration": 33,
    "start_time": "2022-06-09T20:51:18.428Z"
   },
   {
    "duration": 4,
    "start_time": "2022-06-09T20:51:20.509Z"
   },
   {
    "duration": 5,
    "start_time": "2022-06-09T20:51:21.224Z"
   },
   {
    "duration": 3,
    "start_time": "2022-06-09T20:51:26.171Z"
   },
   {
    "duration": 2166,
    "start_time": "2022-06-09T20:51:26.909Z"
   },
   {
    "duration": 4,
    "start_time": "2022-06-09T20:51:29.077Z"
   },
   {
    "duration": 3802,
    "start_time": "2022-06-09T20:51:29.082Z"
   },
   {
    "duration": 946,
    "start_time": "2022-06-09T20:51:32.885Z"
   },
   {
    "duration": 1998,
    "start_time": "2022-06-09T20:51:33.833Z"
   },
   {
    "duration": 13,
    "start_time": "2022-06-09T20:51:35.833Z"
   },
   {
    "duration": 16,
    "start_time": "2022-06-09T20:51:36.353Z"
   },
   {
    "duration": 64,
    "start_time": "2022-06-09T20:51:37.534Z"
   },
   {
    "duration": 4,
    "start_time": "2022-06-09T20:51:40.328Z"
   },
   {
    "duration": 65,
    "start_time": "2022-06-09T20:51:40.767Z"
   },
   {
    "duration": 52,
    "start_time": "2022-06-09T20:51:46.813Z"
   },
   {
    "duration": 67,
    "start_time": "2022-06-09T20:51:48.839Z"
   },
   {
    "duration": 19,
    "start_time": "2022-06-09T20:51:53.697Z"
   },
   {
    "duration": 66,
    "start_time": "2022-06-09T20:51:56.313Z"
   },
   {
    "duration": 30,
    "start_time": "2022-06-09T20:51:59.977Z"
   },
   {
    "duration": 78,
    "start_time": "2022-06-09T20:52:01.118Z"
   },
   {
    "duration": 35,
    "start_time": "2022-06-09T20:52:02.909Z"
   },
   {
    "duration": 20,
    "start_time": "2022-06-09T20:52:03.805Z"
   },
   {
    "duration": 16,
    "start_time": "2022-06-09T20:52:06.021Z"
   },
   {
    "duration": 3,
    "start_time": "2022-06-09T20:52:19.817Z"
   },
   {
    "duration": 5,
    "start_time": "2022-06-09T20:52:20.511Z"
   },
   {
    "duration": 3,
    "start_time": "2022-06-09T20:52:21.953Z"
   },
   {
    "duration": 27,
    "start_time": "2022-06-09T20:52:24.121Z"
   },
   {
    "duration": 39,
    "start_time": "2022-06-09T20:52:28.322Z"
   },
   {
    "duration": 18,
    "start_time": "2022-06-09T20:52:29.861Z"
   },
   {
    "duration": 49,
    "start_time": "2022-06-09T20:52:33.049Z"
   },
   {
    "duration": 29,
    "start_time": "2022-06-09T20:52:38.109Z"
   },
   {
    "duration": 47,
    "start_time": "2022-06-09T20:52:39.003Z"
   },
   {
    "duration": 28,
    "start_time": "2022-06-09T20:52:40.035Z"
   },
   {
    "duration": 66,
    "start_time": "2022-06-09T20:52:44.219Z"
   },
   {
    "duration": 12,
    "start_time": "2022-06-09T20:52:56.455Z"
   },
   {
    "duration": 21,
    "start_time": "2022-06-09T20:52:57.408Z"
   },
   {
    "duration": 41,
    "start_time": "2022-06-09T20:53:01.552Z"
   },
   {
    "duration": 60,
    "start_time": "2022-06-09T20:53:04.480Z"
   },
   {
    "duration": 98,
    "start_time": "2022-06-09T20:53:05.030Z"
   },
   {
    "duration": 5,
    "start_time": "2022-06-09T20:53:07.213Z"
   },
   {
    "duration": 19,
    "start_time": "2022-06-09T20:53:08.250Z"
   },
   {
    "duration": 2,
    "start_time": "2022-06-09T20:53:10.645Z"
   },
   {
    "duration": 3,
    "start_time": "2022-06-09T20:53:12.020Z"
   },
   {
    "duration": 44,
    "start_time": "2022-06-09T20:53:32.829Z"
   },
   {
    "duration": 20,
    "start_time": "2022-06-09T20:53:36.017Z"
   },
   {
    "duration": 11,
    "start_time": "2022-06-09T20:53:43.266Z"
   },
   {
    "duration": 13,
    "start_time": "2022-06-09T20:53:49.924Z"
   },
   {
    "duration": 7,
    "start_time": "2022-06-09T20:54:41.024Z"
   },
   {
    "duration": 12,
    "start_time": "2022-06-09T20:54:42.429Z"
   },
   {
    "duration": 40,
    "start_time": "2022-06-09T20:54:57.023Z"
   },
   {
    "duration": 64,
    "start_time": "2022-06-09T21:07:48.436Z"
   },
   {
    "duration": 143,
    "start_time": "2022-06-09T21:07:54.312Z"
   },
   {
    "duration": 6,
    "start_time": "2022-06-09T21:08:12.443Z"
   },
   {
    "duration": 111,
    "start_time": "2022-06-09T21:08:14.085Z"
   },
   {
    "duration": 5,
    "start_time": "2022-06-09T21:11:53.612Z"
   },
   {
    "duration": 13,
    "start_time": "2022-06-09T21:12:19.168Z"
   },
   {
    "duration": 68,
    "start_time": "2022-06-09T21:13:41.196Z"
   },
   {
    "duration": 6,
    "start_time": "2022-06-09T21:14:02.224Z"
   },
   {
    "duration": 116,
    "start_time": "2022-06-09T21:14:05.759Z"
   },
   {
    "duration": 3,
    "start_time": "2022-06-09T21:16:05.913Z"
   },
   {
    "duration": 8,
    "start_time": "2022-06-09T21:18:30.573Z"
   },
   {
    "duration": 12,
    "start_time": "2022-06-09T21:19:47.542Z"
   },
   {
    "duration": 11,
    "start_time": "2022-06-09T21:19:57.565Z"
   },
   {
    "duration": 6,
    "start_time": "2022-06-09T21:20:18.922Z"
   },
   {
    "duration": 62,
    "start_time": "2022-06-09T21:20:22.616Z"
   },
   {
    "duration": 7,
    "start_time": "2022-06-09T21:20:39.830Z"
   },
   {
    "duration": 110,
    "start_time": "2022-06-09T21:20:40.661Z"
   },
   {
    "duration": 3,
    "start_time": "2022-06-09T21:20:45.112Z"
   },
   {
    "duration": 9,
    "start_time": "2022-06-09T21:20:45.870Z"
   },
   {
    "duration": 11,
    "start_time": "2022-06-09T21:20:46.714Z"
   },
   {
    "duration": 15,
    "start_time": "2022-06-09T21:21:15.511Z"
   },
   {
    "duration": 11,
    "start_time": "2022-06-09T21:21:29.313Z"
   },
   {
    "duration": 2758,
    "start_time": "2022-06-09T21:21:50.566Z"
   },
   {
    "duration": 11,
    "start_time": "2022-06-09T21:27:19.736Z"
   },
   {
    "duration": 11,
    "start_time": "2022-06-09T21:27:24.478Z"
   },
   {
    "duration": 10,
    "start_time": "2022-06-09T21:29:29.804Z"
   },
   {
    "duration": 64,
    "start_time": "2022-06-09T21:29:39.037Z"
   },
   {
    "duration": 6,
    "start_time": "2022-06-09T21:29:41.304Z"
   },
   {
    "duration": 59,
    "start_time": "2022-06-09T21:29:56.957Z"
   },
   {
    "duration": 60,
    "start_time": "2022-06-09T21:30:25.996Z"
   },
   {
    "duration": 4,
    "start_time": "2022-06-09T21:31:05.894Z"
   },
   {
    "duration": 53,
    "start_time": "2022-06-09T21:31:23.671Z"
   },
   {
    "duration": 7,
    "start_time": "2022-06-09T21:33:37.122Z"
   },
   {
    "duration": 13,
    "start_time": "2022-06-09T21:34:33.171Z"
   },
   {
    "duration": 1107,
    "start_time": "2022-06-09T21:35:06.472Z"
   },
   {
    "duration": 405,
    "start_time": "2022-06-09T21:35:08.347Z"
   },
   {
    "duration": 3,
    "start_time": "2022-06-09T21:35:09.173Z"
   },
   {
    "duration": 18,
    "start_time": "2022-06-09T21:35:10.197Z"
   },
   {
    "duration": 7,
    "start_time": "2022-06-09T21:35:11.252Z"
   },
   {
    "duration": 92,
    "start_time": "2022-06-09T21:35:12.135Z"
   },
   {
    "duration": 28,
    "start_time": "2022-06-09T21:35:13.054Z"
   },
   {
    "duration": 8,
    "start_time": "2022-06-09T21:35:15.928Z"
   },
   {
    "duration": 36,
    "start_time": "2022-06-09T21:35:16.887Z"
   },
   {
    "duration": 18,
    "start_time": "2022-06-09T21:35:17.887Z"
   },
   {
    "duration": 10,
    "start_time": "2022-06-09T21:35:19.280Z"
   },
   {
    "duration": 20,
    "start_time": "2022-06-09T21:35:20.009Z"
   },
   {
    "duration": 6,
    "start_time": "2022-06-09T21:35:20.506Z"
   },
   {
    "duration": 109,
    "start_time": "2022-06-09T21:35:21.316Z"
   },
   {
    "duration": 22,
    "start_time": "2022-06-09T21:35:21.852Z"
   },
   {
    "duration": 14,
    "start_time": "2022-06-09T21:35:22.189Z"
   },
   {
    "duration": 34,
    "start_time": "2022-06-09T21:35:22.891Z"
   },
   {
    "duration": 15,
    "start_time": "2022-06-09T21:35:23.452Z"
   },
   {
    "duration": 9,
    "start_time": "2022-06-09T21:35:25.136Z"
   },
   {
    "duration": 35,
    "start_time": "2022-06-09T21:35:25.926Z"
   },
   {
    "duration": 27,
    "start_time": "2022-06-09T21:35:52.228Z"
   },
   {
    "duration": 41,
    "start_time": "2022-06-09T21:36:17.946Z"
   },
   {
    "duration": 13,
    "start_time": "2022-06-09T21:36:33.987Z"
   },
   {
    "duration": 35,
    "start_time": "2022-06-09T21:36:38.392Z"
   },
   {
    "duration": 15,
    "start_time": "2022-06-09T21:36:48.769Z"
   },
   {
    "duration": 18,
    "start_time": "2022-06-09T21:36:59.828Z"
   },
   {
    "duration": 32,
    "start_time": "2022-06-09T21:37:13.993Z"
   },
   {
    "duration": 40,
    "start_time": "2022-06-09T21:37:21.561Z"
   },
   {
    "duration": 13,
    "start_time": "2022-06-09T21:37:33.518Z"
   },
   {
    "duration": 37,
    "start_time": "2022-06-09T21:37:34.739Z"
   },
   {
    "duration": 15,
    "start_time": "2022-06-09T21:38:56.004Z"
   },
   {
    "duration": 19,
    "start_time": "2022-06-09T21:39:02.941Z"
   },
   {
    "duration": 14,
    "start_time": "2022-06-09T21:39:11.126Z"
   },
   {
    "duration": 18,
    "start_time": "2022-06-09T21:39:18.594Z"
   },
   {
    "duration": 8,
    "start_time": "2022-06-09T21:39:23.415Z"
   },
   {
    "duration": 36,
    "start_time": "2022-06-09T21:39:24.172Z"
   },
   {
    "duration": 4,
    "start_time": "2022-06-09T21:39:27.215Z"
   },
   {
    "duration": 4,
    "start_time": "2022-06-09T21:39:28.048Z"
   },
   {
    "duration": 3,
    "start_time": "2022-06-09T21:39:29.819Z"
   },
   {
    "duration": 2111,
    "start_time": "2022-06-09T21:39:30.824Z"
   },
   {
    "duration": 3,
    "start_time": "2022-06-09T21:39:32.939Z"
   },
   {
    "duration": 4031,
    "start_time": "2022-06-09T21:39:32.944Z"
   },
   {
    "duration": 979,
    "start_time": "2022-06-09T21:39:36.977Z"
   },
   {
    "duration": 2094,
    "start_time": "2022-06-09T21:39:37.958Z"
   },
   {
    "duration": 14,
    "start_time": "2022-06-09T21:39:40.054Z"
   },
   {
    "duration": 15,
    "start_time": "2022-06-09T21:39:40.070Z"
   },
   {
    "duration": 85,
    "start_time": "2022-06-09T21:39:40.086Z"
   },
   {
    "duration": 3,
    "start_time": "2022-06-09T21:39:41.419Z"
   },
   {
    "duration": 65,
    "start_time": "2022-06-09T21:39:42.048Z"
   },
   {
    "duration": 53,
    "start_time": "2022-06-09T21:39:44.237Z"
   },
   {
    "duration": 63,
    "start_time": "2022-06-09T21:39:44.846Z"
   },
   {
    "duration": 19,
    "start_time": "2022-06-09T21:39:47.400Z"
   },
   {
    "duration": 65,
    "start_time": "2022-06-09T21:39:49.793Z"
   },
   {
    "duration": 28,
    "start_time": "2022-06-09T21:39:53.203Z"
   },
   {
    "duration": 70,
    "start_time": "2022-06-09T21:39:54.648Z"
   },
   {
    "duration": 35,
    "start_time": "2022-06-09T21:39:56.356Z"
   },
   {
    "duration": 21,
    "start_time": "2022-06-09T21:39:57.534Z"
   },
   {
    "duration": 17,
    "start_time": "2022-06-09T21:39:59.031Z"
   },
   {
    "duration": 4,
    "start_time": "2022-06-09T21:40:00.064Z"
   },
   {
    "duration": 4,
    "start_time": "2022-06-09T21:40:00.626Z"
   },
   {
    "duration": 2,
    "start_time": "2022-06-09T21:40:01.701Z"
   },
   {
    "duration": 21,
    "start_time": "2022-06-09T21:40:03.944Z"
   },
   {
    "duration": 32,
    "start_time": "2022-06-09T21:40:05.435Z"
   },
   {
    "duration": 15,
    "start_time": "2022-06-09T21:40:06.821Z"
   },
   {
    "duration": 49,
    "start_time": "2022-06-09T21:40:07.532Z"
   },
   {
    "duration": 22,
    "start_time": "2022-06-09T21:40:10.763Z"
   },
   {
    "duration": 37,
    "start_time": "2022-06-09T21:40:11.435Z"
   },
   {
    "duration": 30,
    "start_time": "2022-06-09T21:40:12.451Z"
   },
   {
    "duration": 59,
    "start_time": "2022-06-09T21:40:13.924Z"
   },
   {
    "duration": 12,
    "start_time": "2022-06-09T21:40:16.793Z"
   },
   {
    "duration": 20,
    "start_time": "2022-06-09T21:40:17.822Z"
   },
   {
    "duration": 37,
    "start_time": "2022-06-09T21:40:19.904Z"
   },
   {
    "duration": 55,
    "start_time": "2022-06-09T21:40:21.583Z"
   },
   {
    "duration": 90,
    "start_time": "2022-06-09T21:40:22.833Z"
   },
   {
    "duration": 5,
    "start_time": "2022-06-09T21:40:25.226Z"
   },
   {
    "duration": 17,
    "start_time": "2022-06-09T21:40:25.985Z"
   },
   {
    "duration": 2,
    "start_time": "2022-06-09T21:40:28.064Z"
   },
   {
    "duration": 2,
    "start_time": "2022-06-09T21:40:29.160Z"
   },
   {
    "duration": 44,
    "start_time": "2022-06-09T21:40:30.746Z"
   },
   {
    "duration": 19,
    "start_time": "2022-06-09T21:40:34.888Z"
   },
   {
    "duration": 7,
    "start_time": "2022-06-09T21:41:03.095Z"
   },
   {
    "duration": 12,
    "start_time": "2022-06-09T21:41:04.005Z"
   },
   {
    "duration": 33,
    "start_time": "2022-06-09T21:41:13.079Z"
   },
   {
    "duration": 20,
    "start_time": "2022-06-09T21:41:17.762Z"
   },
   {
    "duration": 4,
    "start_time": "2022-06-09T21:42:17.331Z"
   },
   {
    "duration": 47,
    "start_time": "2022-06-09T21:42:23.956Z"
   },
   {
    "duration": 103,
    "start_time": "2022-06-09T21:42:53.476Z"
   },
   {
    "duration": 11,
    "start_time": "2022-06-09T21:44:21.520Z"
   },
   {
    "duration": 212,
    "start_time": "2022-06-09T21:44:57.382Z"
   },
   {
    "duration": 7,
    "start_time": "2022-06-09T21:45:12.208Z"
   },
   {
    "duration": 6,
    "start_time": "2022-06-09T21:45:38.463Z"
   },
   {
    "duration": 55,
    "start_time": "2022-06-09T21:47:11.415Z"
   },
   {
    "duration": 47,
    "start_time": "2022-06-09T21:47:26.349Z"
   },
   {
    "duration": 9,
    "start_time": "2022-06-09T21:51:49.353Z"
   },
   {
    "duration": 61,
    "start_time": "2022-06-09T21:52:28.504Z"
   },
   {
    "duration": 60,
    "start_time": "2022-06-09T21:54:17.510Z"
   },
   {
    "duration": 59,
    "start_time": "2022-06-09T21:54:31.155Z"
   },
   {
    "duration": 59,
    "start_time": "2022-06-09T22:13:37.059Z"
   },
   {
    "duration": 1123,
    "start_time": "2022-06-09T22:14:59.561Z"
   },
   {
    "duration": 288,
    "start_time": "2022-06-09T22:15:01.588Z"
   },
   {
    "duration": 3,
    "start_time": "2022-06-09T22:15:03.681Z"
   },
   {
    "duration": 16,
    "start_time": "2022-06-09T22:15:05.289Z"
   },
   {
    "duration": 6,
    "start_time": "2022-06-09T22:15:09.799Z"
   },
   {
    "duration": 94,
    "start_time": "2022-06-09T22:15:10.538Z"
   },
   {
    "duration": 31,
    "start_time": "2022-06-09T22:15:12.687Z"
   },
   {
    "duration": 7,
    "start_time": "2022-06-09T22:15:18.359Z"
   },
   {
    "duration": 35,
    "start_time": "2022-06-09T22:15:26.045Z"
   },
   {
    "duration": 18,
    "start_time": "2022-06-09T22:15:27.411Z"
   },
   {
    "duration": 12,
    "start_time": "2022-06-09T22:15:30.019Z"
   },
   {
    "duration": 20,
    "start_time": "2022-06-09T22:15:31.458Z"
   },
   {
    "duration": 13,
    "start_time": "2022-06-09T22:15:43.621Z"
   },
   {
    "duration": 36,
    "start_time": "2022-06-09T22:15:45.730Z"
   },
   {
    "duration": 19,
    "start_time": "2022-06-09T22:15:46.142Z"
   },
   {
    "duration": 13,
    "start_time": "2022-06-09T22:15:46.501Z"
   },
   {
    "duration": 33,
    "start_time": "2022-06-09T22:15:46.843Z"
   },
   {
    "duration": 18,
    "start_time": "2022-06-09T22:15:47.218Z"
   },
   {
    "duration": 18,
    "start_time": "2022-06-09T22:15:47.589Z"
   },
   {
    "duration": 8,
    "start_time": "2022-06-09T22:15:48.314Z"
   },
   {
    "duration": 34,
    "start_time": "2022-06-09T22:15:48.599Z"
   },
   {
    "duration": 5,
    "start_time": "2022-06-09T22:15:49.769Z"
   },
   {
    "duration": 5,
    "start_time": "2022-06-09T22:17:29.564Z"
   },
   {
    "duration": 4,
    "start_time": "2022-06-09T22:17:42.750Z"
   },
   {
    "duration": 2067,
    "start_time": "2022-06-09T22:17:44.128Z"
   },
   {
    "duration": 4,
    "start_time": "2022-06-09T22:17:46.198Z"
   },
   {
    "duration": 4074,
    "start_time": "2022-06-09T22:17:46.203Z"
   },
   {
    "duration": 961,
    "start_time": "2022-06-09T22:17:50.279Z"
   },
   {
    "duration": 2050,
    "start_time": "2022-06-09T22:17:51.242Z"
   },
   {
    "duration": 15,
    "start_time": "2022-06-09T22:17:53.294Z"
   },
   {
    "duration": 25,
    "start_time": "2022-06-09T22:17:53.312Z"
   },
   {
    "duration": 68,
    "start_time": "2022-06-09T22:17:53.339Z"
   },
   {
    "duration": 5,
    "start_time": "2022-06-09T22:17:53.423Z"
   },
   {
    "duration": 61,
    "start_time": "2022-06-09T22:17:53.644Z"
   },
   {
    "duration": 52,
    "start_time": "2022-06-09T22:17:55.256Z"
   },
   {
    "duration": 67,
    "start_time": "2022-06-09T22:17:56.064Z"
   },
   {
    "duration": 20,
    "start_time": "2022-06-09T22:17:58.424Z"
   },
   {
    "duration": 204,
    "start_time": "2022-06-09T22:18:01.752Z"
   },
   {
    "duration": 28,
    "start_time": "2022-06-09T22:18:04.589Z"
   },
   {
    "duration": 71,
    "start_time": "2022-06-09T22:18:05.599Z"
   },
   {
    "duration": 34,
    "start_time": "2022-06-09T22:18:07.321Z"
   },
   {
    "duration": 19,
    "start_time": "2022-06-09T22:18:07.721Z"
   },
   {
    "duration": 17,
    "start_time": "2022-06-09T22:18:08.915Z"
   },
   {
    "duration": 4,
    "start_time": "2022-06-09T22:18:10.729Z"
   },
   {
    "duration": 5,
    "start_time": "2022-06-09T22:18:11.038Z"
   },
   {
    "duration": 3,
    "start_time": "2022-06-09T22:18:12.224Z"
   },
   {
    "duration": 22,
    "start_time": "2022-06-09T22:18:13.991Z"
   },
   {
    "duration": 31,
    "start_time": "2022-06-09T22:18:15.125Z"
   },
   {
    "duration": 16,
    "start_time": "2022-06-09T22:18:16.377Z"
   },
   {
    "duration": 50,
    "start_time": "2022-06-09T22:18:16.885Z"
   },
   {
    "duration": 19,
    "start_time": "2022-06-09T22:18:20.379Z"
   },
   {
    "duration": 36,
    "start_time": "2022-06-09T22:18:21.078Z"
   },
   {
    "duration": 29,
    "start_time": "2022-06-09T22:18:21.878Z"
   },
   {
    "duration": 58,
    "start_time": "2022-06-09T22:18:24.248Z"
   },
   {
    "duration": 11,
    "start_time": "2022-06-09T22:18:26.348Z"
   },
   {
    "duration": 22,
    "start_time": "2022-06-09T22:18:26.755Z"
   },
   {
    "duration": 34,
    "start_time": "2022-06-09T22:18:27.709Z"
   },
   {
    "duration": 55,
    "start_time": "2022-06-09T22:18:29.152Z"
   },
   {
    "duration": 90,
    "start_time": "2022-06-09T22:18:30.113Z"
   },
   {
    "duration": 4,
    "start_time": "2022-06-09T22:18:33.022Z"
   },
   {
    "duration": 17,
    "start_time": "2022-06-09T22:18:34.207Z"
   },
   {
    "duration": 2,
    "start_time": "2022-06-09T22:18:36.116Z"
   },
   {
    "duration": 2,
    "start_time": "2022-06-09T22:18:37.157Z"
   },
   {
    "duration": 43,
    "start_time": "2022-06-09T22:18:41.422Z"
   },
   {
    "duration": 21,
    "start_time": "2022-06-09T22:18:44.986Z"
   },
   {
    "duration": 8,
    "start_time": "2022-06-09T22:18:45.885Z"
   },
   {
    "duration": 29,
    "start_time": "2022-06-09T22:19:16.604Z"
   },
   {
    "duration": 8,
    "start_time": "2022-06-09T22:19:17.909Z"
   },
   {
    "duration": 13,
    "start_time": "2022-06-09T22:19:18.765Z"
   },
   {
    "duration": 40,
    "start_time": "2022-06-09T22:19:50.855Z"
   },
   {
    "duration": 4,
    "start_time": "2022-06-09T22:20:19.533Z"
   },
   {
    "duration": 10,
    "start_time": "2022-06-09T22:20:33.210Z"
   },
   {
    "duration": 74,
    "start_time": "2022-06-09T22:20:38.147Z"
   },
   {
    "duration": 483,
    "start_time": "2022-06-09T22:24:38.280Z"
   },
   {
    "duration": 37,
    "start_time": "2022-06-09T22:27:53.371Z"
   },
   {
    "duration": 1168,
    "start_time": "2022-06-09T22:28:28.336Z"
   },
   {
    "duration": 418,
    "start_time": "2022-06-09T22:28:30.145Z"
   },
   {
    "duration": 2,
    "start_time": "2022-06-09T22:28:31.022Z"
   },
   {
    "duration": 16,
    "start_time": "2022-06-09T22:28:31.510Z"
   },
   {
    "duration": 6,
    "start_time": "2022-06-09T22:28:31.919Z"
   },
   {
    "duration": 78,
    "start_time": "2022-06-09T22:28:32.252Z"
   },
   {
    "duration": 33,
    "start_time": "2022-06-09T22:28:32.559Z"
   },
   {
    "duration": 7,
    "start_time": "2022-06-09T22:28:34.244Z"
   },
   {
    "duration": 35,
    "start_time": "2022-06-09T22:28:35.056Z"
   },
   {
    "duration": 18,
    "start_time": "2022-06-09T22:28:35.876Z"
   },
   {
    "duration": 8,
    "start_time": "2022-06-09T22:28:37.193Z"
   },
   {
    "duration": 21,
    "start_time": "2022-06-09T22:28:38.112Z"
   },
   {
    "duration": 37,
    "start_time": "2022-06-09T22:28:39.083Z"
   },
   {
    "duration": 18,
    "start_time": "2022-06-09T22:28:39.604Z"
   },
   {
    "duration": 17,
    "start_time": "2022-06-09T22:29:17.490Z"
   },
   {
    "duration": 35,
    "start_time": "2022-06-09T22:29:18.333Z"
   },
   {
    "duration": 18,
    "start_time": "2022-06-09T22:29:18.626Z"
   },
   {
    "duration": 13,
    "start_time": "2022-06-09T22:29:18.948Z"
   },
   {
    "duration": 33,
    "start_time": "2022-06-09T22:29:19.385Z"
   },
   {
    "duration": 18,
    "start_time": "2022-06-09T22:29:19.892Z"
   },
   {
    "duration": 18,
    "start_time": "2022-06-09T22:29:20.356Z"
   },
   {
    "duration": 8,
    "start_time": "2022-06-09T22:29:22.187Z"
   },
   {
    "duration": 35,
    "start_time": "2022-06-09T22:29:22.701Z"
   },
   {
    "duration": 5,
    "start_time": "2022-06-09T22:29:24.183Z"
   },
   {
    "duration": 5,
    "start_time": "2022-06-09T22:29:24.682Z"
   },
   {
    "duration": 2,
    "start_time": "2022-06-09T22:29:25.405Z"
   },
   {
    "duration": 2044,
    "start_time": "2022-06-09T22:29:25.630Z"
   },
   {
    "duration": 4,
    "start_time": "2022-06-09T22:29:27.677Z"
   },
   {
    "duration": 4060,
    "start_time": "2022-06-09T22:29:27.682Z"
   },
   {
    "duration": 998,
    "start_time": "2022-06-09T22:29:31.744Z"
   },
   {
    "duration": 1892,
    "start_time": "2022-06-09T22:29:32.744Z"
   },
   {
    "duration": 14,
    "start_time": "2022-06-09T22:29:34.638Z"
   },
   {
    "duration": 17,
    "start_time": "2022-06-09T22:29:34.654Z"
   },
   {
    "duration": 93,
    "start_time": "2022-06-09T22:29:34.673Z"
   },
   {
    "duration": 4,
    "start_time": "2022-06-09T22:29:34.768Z"
   },
   {
    "duration": 179,
    "start_time": "2022-06-09T22:29:34.868Z"
   },
   {
    "duration": 52,
    "start_time": "2022-06-09T22:29:37.124Z"
   },
   {
    "duration": 65,
    "start_time": "2022-06-09T22:29:38.134Z"
   },
   {
    "duration": 20,
    "start_time": "2022-06-09T22:29:40.700Z"
   },
   {
    "duration": 69,
    "start_time": "2022-06-09T22:29:42.197Z"
   },
   {
    "duration": 29,
    "start_time": "2022-06-09T22:29:44.104Z"
   },
   {
    "duration": 74,
    "start_time": "2022-06-09T22:29:45.028Z"
   },
   {
    "duration": 35,
    "start_time": "2022-06-09T22:29:45.935Z"
   },
   {
    "duration": 19,
    "start_time": "2022-06-09T22:29:46.445Z"
   },
   {
    "duration": 17,
    "start_time": "2022-06-09T22:29:47.423Z"
   },
   {
    "duration": 4,
    "start_time": "2022-06-09T22:29:48.441Z"
   },
   {
    "duration": 6,
    "start_time": "2022-06-09T22:29:48.983Z"
   },
   {
    "duration": 3,
    "start_time": "2022-06-09T22:29:49.948Z"
   },
   {
    "duration": 20,
    "start_time": "2022-06-09T22:29:51.315Z"
   },
   {
    "duration": 32,
    "start_time": "2022-06-09T22:29:52.368Z"
   },
   {
    "duration": 15,
    "start_time": "2022-06-09T22:29:53.289Z"
   },
   {
    "duration": 48,
    "start_time": "2022-06-09T22:29:53.704Z"
   },
   {
    "duration": 19,
    "start_time": "2022-06-09T22:29:56.259Z"
   },
   {
    "duration": 35,
    "start_time": "2022-06-09T22:29:56.767Z"
   },
   {
    "duration": 27,
    "start_time": "2022-06-09T22:29:57.562Z"
   },
   {
    "duration": 56,
    "start_time": "2022-06-09T22:29:58.585Z"
   },
   {
    "duration": 12,
    "start_time": "2022-06-09T22:30:00.612Z"
   },
   {
    "duration": 26,
    "start_time": "2022-06-09T22:30:01.132Z"
   },
   {
    "duration": 39,
    "start_time": "2022-06-09T22:30:02.130Z"
   },
   {
    "duration": 55,
    "start_time": "2022-06-09T22:30:03.158Z"
   },
   {
    "duration": 92,
    "start_time": "2022-06-09T22:30:03.730Z"
   },
   {
    "duration": 5,
    "start_time": "2022-06-09T22:30:05.281Z"
   },
   {
    "duration": 17,
    "start_time": "2022-06-09T22:30:05.855Z"
   },
   {
    "duration": 2,
    "start_time": "2022-06-09T22:30:07.239Z"
   },
   {
    "duration": 2,
    "start_time": "2022-06-09T22:30:07.986Z"
   },
   {
    "duration": 45,
    "start_time": "2022-06-09T22:30:09.623Z"
   },
   {
    "duration": 33,
    "start_time": "2022-06-09T22:30:20.149Z"
   },
   {
    "duration": 7,
    "start_time": "2022-06-09T22:30:20.769Z"
   },
   {
    "duration": 12,
    "start_time": "2022-06-09T22:30:21.354Z"
   },
   {
    "duration": 40,
    "start_time": "2022-06-09T22:30:32.785Z"
   },
   {
    "duration": 4,
    "start_time": "2022-06-09T22:30:46.678Z"
   },
   {
    "duration": 9,
    "start_time": "2022-06-09T22:30:47.505Z"
   },
   {
    "duration": 72,
    "start_time": "2022-06-09T22:30:54.742Z"
   },
   {
    "duration": 10,
    "start_time": "2022-06-09T22:31:44.753Z"
   },
   {
    "duration": 68,
    "start_time": "2022-06-09T22:32:01.763Z"
   },
   {
    "duration": 10,
    "start_time": "2022-06-09T22:32:22.061Z"
   },
   {
    "duration": 62,
    "start_time": "2022-06-09T22:32:27.327Z"
   },
   {
    "duration": 9,
    "start_time": "2022-06-09T22:32:44.360Z"
   },
   {
    "duration": 30,
    "start_time": "2022-06-09T22:35:14.896Z"
   },
   {
    "duration": 16,
    "start_time": "2022-06-09T22:35:55.146Z"
   },
   {
    "duration": 12,
    "start_time": "2022-06-09T22:37:40.252Z"
   },
   {
    "duration": 43,
    "start_time": "2022-06-09T22:37:52.681Z"
   },
   {
    "duration": 8,
    "start_time": "2022-06-09T22:59:16.471Z"
   },
   {
    "duration": 8,
    "start_time": "2022-06-09T22:59:48.175Z"
   },
   {
    "duration": 29,
    "start_time": "2022-06-09T23:10:51.145Z"
   },
   {
    "duration": 25,
    "start_time": "2022-06-09T23:11:23.172Z"
   },
   {
    "duration": 15,
    "start_time": "2022-06-09T23:11:30.730Z"
   },
   {
    "duration": 14,
    "start_time": "2022-06-09T23:12:22.178Z"
   },
   {
    "duration": 31,
    "start_time": "2022-06-09T23:12:42.148Z"
   },
   {
    "duration": 614,
    "start_time": "2022-06-09T23:14:32.064Z"
   },
   {
    "duration": 31,
    "start_time": "2022-06-09T23:14:46.824Z"
   },
   {
    "duration": 36,
    "start_time": "2022-06-09T23:14:47.684Z"
   },
   {
    "duration": 8,
    "start_time": "2022-06-09T23:15:12.033Z"
   },
   {
    "duration": 403,
    "start_time": "2022-06-09T23:16:37.407Z"
   },
   {
    "duration": 16,
    "start_time": "2022-06-09T23:16:46.339Z"
   },
   {
    "duration": 1104,
    "start_time": "2022-06-09T23:16:56.366Z"
   },
   {
    "duration": 344,
    "start_time": "2022-06-09T23:16:57.472Z"
   },
   {
    "duration": 2,
    "start_time": "2022-06-09T23:16:58.023Z"
   },
   {
    "duration": 18,
    "start_time": "2022-06-09T23:16:58.727Z"
   },
   {
    "duration": 6,
    "start_time": "2022-06-09T23:16:59.171Z"
   },
   {
    "duration": 104,
    "start_time": "2022-06-09T23:17:00.324Z"
   },
   {
    "duration": 30,
    "start_time": "2022-06-09T23:17:01.219Z"
   },
   {
    "duration": 7,
    "start_time": "2022-06-09T23:17:03.995Z"
   },
   {
    "duration": 36,
    "start_time": "2022-06-09T23:17:05.064Z"
   },
   {
    "duration": 18,
    "start_time": "2022-06-09T23:17:06.933Z"
   },
   {
    "duration": 8,
    "start_time": "2022-06-09T23:17:08.536Z"
   },
   {
    "duration": 20,
    "start_time": "2022-06-09T23:17:09.826Z"
   },
   {
    "duration": 37,
    "start_time": "2022-06-09T23:17:11.348Z"
   },
   {
    "duration": 18,
    "start_time": "2022-06-09T23:17:12.256Z"
   },
   {
    "duration": 13,
    "start_time": "2022-06-09T23:17:13.326Z"
   },
   {
    "duration": 34,
    "start_time": "2022-06-09T23:17:14.353Z"
   },
   {
    "duration": 18,
    "start_time": "2022-06-09T23:17:15.608Z"
   },
   {
    "duration": 18,
    "start_time": "2022-06-09T23:17:16.205Z"
   },
   {
    "duration": 8,
    "start_time": "2022-06-09T23:17:18.405Z"
   },
   {
    "duration": 34,
    "start_time": "2022-06-09T23:17:18.687Z"
   },
   {
    "duration": 5,
    "start_time": "2022-06-09T23:17:20.126Z"
   },
   {
    "duration": 4,
    "start_time": "2022-06-09T23:17:20.656Z"
   },
   {
    "duration": 3,
    "start_time": "2022-06-09T23:17:21.371Z"
   },
   {
    "duration": 2068,
    "start_time": "2022-06-09T23:17:21.652Z"
   },
   {
    "duration": 3,
    "start_time": "2022-06-09T23:17:23.724Z"
   },
   {
    "duration": 3920,
    "start_time": "2022-06-09T23:17:23.729Z"
   },
   {
    "duration": 1091,
    "start_time": "2022-06-09T23:17:29.253Z"
   },
   {
    "duration": 1921,
    "start_time": "2022-06-09T23:17:30.346Z"
   },
   {
    "duration": 13,
    "start_time": "2022-06-09T23:17:32.269Z"
   },
   {
    "duration": 16,
    "start_time": "2022-06-09T23:17:32.284Z"
   },
   {
    "duration": 64,
    "start_time": "2022-06-09T23:17:33.023Z"
   },
   {
    "duration": 3,
    "start_time": "2022-06-09T23:17:34.660Z"
   },
   {
    "duration": 67,
    "start_time": "2022-06-09T23:17:35.077Z"
   },
   {
    "duration": 52,
    "start_time": "2022-06-09T23:17:37.349Z"
   },
   {
    "duration": 65,
    "start_time": "2022-06-09T23:17:38.994Z"
   },
   {
    "duration": 21,
    "start_time": "2022-06-09T23:17:41.770Z"
   },
   {
    "duration": 66,
    "start_time": "2022-06-09T23:17:43.754Z"
   },
   {
    "duration": 29,
    "start_time": "2022-06-09T23:17:46.567Z"
   },
   {
    "duration": 67,
    "start_time": "2022-06-09T23:17:47.579Z"
   },
   {
    "duration": 42,
    "start_time": "2022-06-09T23:17:49.245Z"
   },
   {
    "duration": 19,
    "start_time": "2022-06-09T23:17:49.598Z"
   },
   {
    "duration": 16,
    "start_time": "2022-06-09T23:17:50.130Z"
   },
   {
    "duration": 4,
    "start_time": "2022-06-09T23:17:50.668Z"
   },
   {
    "duration": 4,
    "start_time": "2022-06-09T23:17:51.552Z"
   },
   {
    "duration": 2,
    "start_time": "2022-06-09T23:17:52.554Z"
   },
   {
    "duration": 21,
    "start_time": "2022-06-09T23:17:54.020Z"
   },
   {
    "duration": 31,
    "start_time": "2022-06-09T23:17:55.391Z"
   },
   {
    "duration": 16,
    "start_time": "2022-06-09T23:17:56.333Z"
   },
   {
    "duration": 48,
    "start_time": "2022-06-09T23:17:56.909Z"
   },
   {
    "duration": 20,
    "start_time": "2022-06-09T23:18:01.343Z"
   },
   {
    "duration": 35,
    "start_time": "2022-06-09T23:18:16.161Z"
   },
   {
    "duration": 28,
    "start_time": "2022-06-09T23:18:17.040Z"
   },
   {
    "duration": 62,
    "start_time": "2022-06-09T23:18:18.329Z"
   },
   {
    "duration": 11,
    "start_time": "2022-06-09T23:18:20.165Z"
   },
   {
    "duration": 22,
    "start_time": "2022-06-09T23:18:20.571Z"
   },
   {
    "duration": 35,
    "start_time": "2022-06-09T23:18:21.312Z"
   },
   {
    "duration": 55,
    "start_time": "2022-06-09T23:18:22.212Z"
   },
   {
    "duration": 89,
    "start_time": "2022-06-09T23:18:22.722Z"
   },
   {
    "duration": 5,
    "start_time": "2022-06-09T23:18:24.339Z"
   },
   {
    "duration": 16,
    "start_time": "2022-06-09T23:18:24.623Z"
   },
   {
    "duration": 2,
    "start_time": "2022-06-09T23:18:26.369Z"
   },
   {
    "duration": 2,
    "start_time": "2022-06-09T23:18:27.312Z"
   },
   {
    "duration": 43,
    "start_time": "2022-06-09T23:18:28.580Z"
   },
   {
    "duration": 27,
    "start_time": "2022-06-09T23:18:30.457Z"
   },
   {
    "duration": 9,
    "start_time": "2022-06-09T23:18:30.866Z"
   },
   {
    "duration": 8,
    "start_time": "2022-06-09T23:18:54.887Z"
   },
   {
    "duration": 130,
    "start_time": "2022-06-09T23:19:05.242Z"
   },
   {
    "duration": 8,
    "start_time": "2022-06-09T23:19:06.231Z"
   },
   {
    "duration": 11,
    "start_time": "2022-06-09T23:19:06.966Z"
   },
   {
    "duration": 44,
    "start_time": "2022-06-09T23:19:21.919Z"
   },
   {
    "duration": 4,
    "start_time": "2022-06-09T23:19:29.842Z"
   },
   {
    "duration": 10,
    "start_time": "2022-06-09T23:19:31.127Z"
   },
   {
    "duration": 16,
    "start_time": "2022-06-09T23:19:44.459Z"
   },
   {
    "duration": 43,
    "start_time": "2022-06-09T23:19:55.449Z"
   },
   {
    "duration": 6,
    "start_time": "2022-06-09T23:21:04.816Z"
   },
   {
    "duration": 67,
    "start_time": "2022-06-09T23:22:34.327Z"
   },
   {
    "duration": 60,
    "start_time": "2022-06-09T23:22:54.981Z"
   },
   {
    "duration": 465,
    "start_time": "2022-06-09T23:23:22.376Z"
   },
   {
    "duration": 48,
    "start_time": "2022-06-09T23:23:38.968Z"
   },
   {
    "duration": 101,
    "start_time": "2022-06-09T23:23:45.660Z"
   },
   {
    "duration": 63,
    "start_time": "2022-06-09T23:24:17.109Z"
   },
   {
    "duration": 42,
    "start_time": "2022-06-09T23:25:01.346Z"
   },
   {
    "duration": 12,
    "start_time": "2022-06-09T23:32:25.680Z"
   },
   {
    "duration": 21,
    "start_time": "2022-06-09T23:34:38.916Z"
   },
   {
    "duration": 21,
    "start_time": "2022-06-09T23:35:38.521Z"
   },
   {
    "duration": 58,
    "start_time": "2022-06-09T23:36:05.993Z"
   },
   {
    "duration": 11,
    "start_time": "2022-06-09T23:36:54.121Z"
   },
   {
    "duration": 4,
    "start_time": "2022-06-09T23:37:02.277Z"
   },
   {
    "duration": 11,
    "start_time": "2022-06-09T23:38:58.199Z"
   },
   {
    "duration": 5,
    "start_time": "2022-06-09T23:40:15.570Z"
   },
   {
    "duration": 12,
    "start_time": "2022-06-09T23:40:16.634Z"
   },
   {
    "duration": 3,
    "start_time": "2022-06-09T23:40:37.250Z"
   },
   {
    "duration": 6,
    "start_time": "2022-06-09T23:40:38.108Z"
   },
   {
    "duration": 10,
    "start_time": "2022-06-09T23:41:57.075Z"
   },
   {
    "duration": 16,
    "start_time": "2022-06-09T23:43:05.672Z"
   },
   {
    "duration": 16,
    "start_time": "2022-06-09T23:43:32.840Z"
   },
   {
    "duration": 18,
    "start_time": "2022-06-09T23:44:08.636Z"
   },
   {
    "duration": 24,
    "start_time": "2022-06-09T23:44:24.212Z"
   },
   {
    "duration": 16,
    "start_time": "2022-06-09T23:44:38.525Z"
   },
   {
    "duration": 8,
    "start_time": "2022-06-09T23:45:02.559Z"
   },
   {
    "duration": 9,
    "start_time": "2022-06-09T23:46:00.506Z"
   },
   {
    "duration": 7,
    "start_time": "2022-06-09T23:46:39.334Z"
   },
   {
    "duration": 8,
    "start_time": "2022-06-09T23:47:22.120Z"
   },
   {
    "duration": 425,
    "start_time": "2022-06-09T23:47:44.755Z"
   },
   {
    "duration": 407,
    "start_time": "2022-06-09T23:47:56.393Z"
   },
   {
    "duration": 9,
    "start_time": "2022-06-09T23:49:47.563Z"
   },
   {
    "duration": 7,
    "start_time": "2022-06-09T23:50:10.688Z"
   },
   {
    "duration": 11,
    "start_time": "2022-06-10T00:05:12.404Z"
   },
   {
    "duration": 227,
    "start_time": "2022-06-10T00:13:28.845Z"
   },
   {
    "duration": 13,
    "start_time": "2022-06-10T00:15:03.637Z"
   },
   {
    "duration": 16,
    "start_time": "2022-06-10T00:15:17.519Z"
   },
   {
    "duration": 9,
    "start_time": "2022-06-10T00:15:54.814Z"
   },
   {
    "duration": 46,
    "start_time": "2022-06-10T00:16:12.754Z"
   },
   {
    "duration": 16,
    "start_time": "2022-06-10T00:16:25.935Z"
   },
   {
    "duration": 14,
    "start_time": "2022-06-10T00:17:49.585Z"
   },
   {
    "duration": 44,
    "start_time": "2022-06-10T00:17:52.670Z"
   },
   {
    "duration": 12,
    "start_time": "2022-06-10T00:20:53.018Z"
   },
   {
    "duration": 19,
    "start_time": "2022-06-10T00:21:12.430Z"
   },
   {
    "duration": 8,
    "start_time": "2022-06-10T00:21:48.137Z"
   },
   {
    "duration": 15,
    "start_time": "2022-06-10T00:22:07.556Z"
   },
   {
    "duration": 1053,
    "start_time": "2022-06-10T00:25:35.375Z"
   },
   {
    "duration": 14,
    "start_time": "2022-06-10T00:26:25.831Z"
   },
   {
    "duration": 44,
    "start_time": "2022-06-10T00:26:36.551Z"
   },
   {
    "duration": 29,
    "start_time": "2022-06-10T00:28:49.413Z"
   },
   {
    "duration": 3,
    "start_time": "2022-06-10T00:28:56.096Z"
   },
   {
    "duration": 708,
    "start_time": "2022-06-10T00:29:14.132Z"
   },
   {
    "duration": 4,
    "start_time": "2022-06-10T00:29:38.453Z"
   },
   {
    "duration": 38,
    "start_time": "2022-06-10T00:29:39.418Z"
   },
   {
    "duration": 9,
    "start_time": "2022-06-10T00:30:45.233Z"
   },
   {
    "duration": 61,
    "start_time": "2022-06-10T00:31:06.243Z"
   },
   {
    "duration": 57,
    "start_time": "2022-06-10T00:31:54.948Z"
   },
   {
    "duration": 47,
    "start_time": "2022-06-10T00:32:10.840Z"
   },
   {
    "duration": 50,
    "start_time": "2022-06-10T00:34:27.782Z"
   },
   {
    "duration": 52,
    "start_time": "2022-06-10T00:35:10.523Z"
   },
   {
    "duration": 48,
    "start_time": "2022-06-10T00:36:49.971Z"
   },
   {
    "duration": 6,
    "start_time": "2022-06-10T00:37:13.884Z"
   },
   {
    "duration": 95,
    "start_time": "2022-06-10T00:37:26.079Z"
   },
   {
    "duration": 35,
    "start_time": "2022-06-10T00:38:31.846Z"
   },
   {
    "duration": 21,
    "start_time": "2022-06-10T00:38:35.910Z"
   },
   {
    "duration": 48,
    "start_time": "2022-06-10T00:39:27.244Z"
   },
   {
    "duration": 17,
    "start_time": "2022-06-10T00:39:30.554Z"
   },
   {
    "duration": 16,
    "start_time": "2022-06-10T00:41:22.313Z"
   },
   {
    "duration": 49,
    "start_time": "2022-06-10T00:42:00.861Z"
   },
   {
    "duration": 6,
    "start_time": "2022-06-10T00:48:35.991Z"
   },
   {
    "duration": 98,
    "start_time": "2022-06-10T00:48:36.982Z"
   },
   {
    "duration": 96,
    "start_time": "2022-06-10T00:48:53.305Z"
   },
   {
    "duration": 1382,
    "start_time": "2022-06-10T05:29:44.343Z"
   },
   {
    "duration": 565,
    "start_time": "2022-06-10T05:29:46.684Z"
   },
   {
    "duration": 3,
    "start_time": "2022-06-10T05:29:47.353Z"
   },
   {
    "duration": 17,
    "start_time": "2022-06-10T05:29:48.194Z"
   },
   {
    "duration": 7,
    "start_time": "2022-06-10T05:29:48.931Z"
   },
   {
    "duration": 90,
    "start_time": "2022-06-10T05:29:49.324Z"
   },
   {
    "duration": 29,
    "start_time": "2022-06-10T05:29:49.734Z"
   },
   {
    "duration": 6,
    "start_time": "2022-06-10T05:29:52.414Z"
   },
   {
    "duration": 37,
    "start_time": "2022-06-10T05:29:53.204Z"
   },
   {
    "duration": 18,
    "start_time": "2022-06-10T05:29:54.044Z"
   },
   {
    "duration": 9,
    "start_time": "2022-06-10T05:29:55.204Z"
   },
   {
    "duration": 20,
    "start_time": "2022-06-10T05:29:55.944Z"
   },
   {
    "duration": 47,
    "start_time": "2022-06-10T05:29:56.823Z"
   },
   {
    "duration": 19,
    "start_time": "2022-06-10T05:29:57.334Z"
   },
   {
    "duration": 14,
    "start_time": "2022-06-10T05:29:57.643Z"
   },
   {
    "duration": 36,
    "start_time": "2022-06-10T05:29:58.054Z"
   },
   {
    "duration": 20,
    "start_time": "2022-06-10T05:29:58.373Z"
   },
   {
    "duration": 20,
    "start_time": "2022-06-10T05:29:58.877Z"
   },
   {
    "duration": 9,
    "start_time": "2022-06-10T05:30:00.105Z"
   },
   {
    "duration": 38,
    "start_time": "2022-06-10T05:30:00.814Z"
   },
   {
    "duration": 5,
    "start_time": "2022-06-10T05:30:04.094Z"
   },
   {
    "duration": 5,
    "start_time": "2022-06-10T05:30:04.914Z"
   },
   {
    "duration": 3,
    "start_time": "2022-06-10T05:30:06.485Z"
   },
   {
    "duration": 2340,
    "start_time": "2022-06-10T05:30:06.776Z"
   },
   {
    "duration": 4,
    "start_time": "2022-06-10T05:30:10.424Z"
   },
   {
    "duration": 4544,
    "start_time": "2022-06-10T05:30:10.995Z"
   },
   {
    "duration": 1132,
    "start_time": "2022-06-10T05:30:15.541Z"
   },
   {
    "duration": 2076,
    "start_time": "2022-06-10T05:30:16.675Z"
   },
   {
    "duration": 16,
    "start_time": "2022-06-10T05:30:18.753Z"
   },
   {
    "duration": 18,
    "start_time": "2022-06-10T05:30:18.771Z"
   },
   {
    "duration": 33,
    "start_time": "2022-06-10T05:30:51.244Z"
   },
   {
    "duration": 4417,
    "start_time": "2022-06-10T05:30:59.576Z"
   },
   {
    "duration": 983,
    "start_time": "2022-06-10T05:31:10.434Z"
   },
   {
    "duration": 2107,
    "start_time": "2022-06-10T05:31:11.419Z"
   },
   {
    "duration": 18,
    "start_time": "2022-06-10T05:31:13.704Z"
   },
   {
    "duration": 16,
    "start_time": "2022-06-10T05:31:14.645Z"
   },
   {
    "duration": 70,
    "start_time": "2022-06-10T05:31:15.575Z"
   },
   {
    "duration": 4,
    "start_time": "2022-06-10T05:31:48.426Z"
   },
   {
    "duration": 79,
    "start_time": "2022-06-10T05:31:48.945Z"
   },
   {
    "duration": 65,
    "start_time": "2022-06-10T05:31:58.446Z"
   },
   {
    "duration": 69,
    "start_time": "2022-06-10T05:31:58.986Z"
   },
   {
    "duration": 20,
    "start_time": "2022-06-10T05:31:59.156Z"
   },
   {
    "duration": 84,
    "start_time": "2022-06-10T05:32:02.785Z"
   },
   {
    "duration": 35,
    "start_time": "2022-06-10T05:32:12.854Z"
   },
   {
    "duration": 101,
    "start_time": "2022-06-10T05:32:15.005Z"
   },
   {
    "duration": 41,
    "start_time": "2022-06-10T05:32:21.075Z"
   },
   {
    "duration": 22,
    "start_time": "2022-06-10T05:32:22.475Z"
   },
   {
    "duration": 17,
    "start_time": "2022-06-10T05:32:26.295Z"
   },
   {
    "duration": 4,
    "start_time": "2022-06-10T05:32:28.778Z"
   },
   {
    "duration": 4,
    "start_time": "2022-06-10T05:32:29.086Z"
   },
   {
    "duration": 3,
    "start_time": "2022-06-10T05:32:30.474Z"
   },
   {
    "duration": 22,
    "start_time": "2022-06-10T05:32:32.343Z"
   },
   {
    "duration": 34,
    "start_time": "2022-06-10T05:32:44.806Z"
   },
   {
    "duration": 18,
    "start_time": "2022-06-10T05:32:45.605Z"
   },
   {
    "duration": 57,
    "start_time": "2022-06-10T05:32:48.044Z"
   },
   {
    "duration": 25,
    "start_time": "2022-06-10T05:32:50.374Z"
   },
   {
    "duration": 40,
    "start_time": "2022-06-10T05:32:50.401Z"
   },
   {
    "duration": 32,
    "start_time": "2022-06-10T05:32:50.443Z"
   },
   {
    "duration": 63,
    "start_time": "2022-06-10T05:32:50.515Z"
   },
   {
    "duration": 15,
    "start_time": "2022-06-10T05:32:50.604Z"
   },
   {
    "duration": 23,
    "start_time": "2022-06-10T05:32:50.654Z"
   },
   {
    "duration": 39,
    "start_time": "2022-06-10T05:32:50.734Z"
   },
   {
    "duration": 71,
    "start_time": "2022-06-10T05:32:50.803Z"
   },
   {
    "duration": 112,
    "start_time": "2022-06-10T05:32:51.054Z"
   },
   {
    "duration": 5,
    "start_time": "2022-06-10T05:32:53.114Z"
   },
   {
    "duration": 19,
    "start_time": "2022-06-10T05:32:54.424Z"
   },
   {
    "duration": 2,
    "start_time": "2022-06-10T05:32:57.126Z"
   },
   {
    "duration": 2,
    "start_time": "2022-06-10T05:32:59.867Z"
   },
   {
    "duration": 58,
    "start_time": "2022-06-10T05:33:04.885Z"
   },
   {
    "duration": 29,
    "start_time": "2022-06-10T05:33:09.869Z"
   },
   {
    "duration": 9,
    "start_time": "2022-06-10T05:33:11.075Z"
   },
   {
    "duration": 13,
    "start_time": "2022-06-10T05:33:23.505Z"
   },
   {
    "duration": 18,
    "start_time": "2022-06-10T05:33:35.136Z"
   },
   {
    "duration": 44,
    "start_time": "2022-06-10T05:35:51.774Z"
   },
   {
    "duration": 1298,
    "start_time": "2022-06-10T06:12:01.743Z"
   },
   {
    "duration": 490,
    "start_time": "2022-06-10T06:12:06.694Z"
   },
   {
    "duration": 3,
    "start_time": "2022-06-10T06:12:07.434Z"
   },
   {
    "duration": 18,
    "start_time": "2022-06-10T06:12:07.924Z"
   },
   {
    "duration": 9,
    "start_time": "2022-06-10T06:12:08.334Z"
   },
   {
    "duration": 106,
    "start_time": "2022-06-10T06:12:08.644Z"
   },
   {
    "duration": 29,
    "start_time": "2022-06-10T06:12:09.118Z"
   },
   {
    "duration": 9,
    "start_time": "2022-06-10T06:12:10.913Z"
   },
   {
    "duration": 37,
    "start_time": "2022-06-10T06:12:11.614Z"
   },
   {
    "duration": 22,
    "start_time": "2022-06-10T06:12:12.369Z"
   },
   {
    "duration": 9,
    "start_time": "2022-06-10T06:12:13.454Z"
   },
   {
    "duration": 31,
    "start_time": "2022-06-10T06:12:14.471Z"
   },
   {
    "duration": 55,
    "start_time": "2022-06-10T06:12:14.684Z"
   },
   {
    "duration": 20,
    "start_time": "2022-06-10T06:12:15.005Z"
   },
   {
    "duration": 15,
    "start_time": "2022-06-10T06:12:15.407Z"
   },
   {
    "duration": 37,
    "start_time": "2022-06-10T06:12:15.706Z"
   },
   {
    "duration": 20,
    "start_time": "2022-06-10T06:12:16.024Z"
   },
   {
    "duration": 21,
    "start_time": "2022-06-10T06:12:16.323Z"
   },
   {
    "duration": 9,
    "start_time": "2022-06-10T06:12:17.771Z"
   },
   {
    "duration": 44,
    "start_time": "2022-06-10T06:12:17.782Z"
   },
   {
    "duration": 13,
    "start_time": "2022-06-10T06:12:20.557Z"
   },
   {
    "duration": 18,
    "start_time": "2022-06-10T06:12:20.572Z"
   },
   {
    "duration": 4,
    "start_time": "2022-06-10T06:12:21.344Z"
   },
   {
    "duration": 2513,
    "start_time": "2022-06-10T06:12:21.975Z"
   },
   {
    "duration": 4,
    "start_time": "2022-06-10T06:12:24.492Z"
   },
   {
    "duration": 4794,
    "start_time": "2022-06-10T06:12:24.497Z"
   },
   {
    "duration": 1132,
    "start_time": "2022-06-10T06:12:29.294Z"
   },
   {
    "duration": 2466,
    "start_time": "2022-06-10T06:12:30.427Z"
   },
   {
    "duration": 15,
    "start_time": "2022-06-10T06:12:32.895Z"
   },
   {
    "duration": 21,
    "start_time": "2022-06-10T06:12:32.911Z"
   },
   {
    "duration": 90,
    "start_time": "2022-06-10T06:12:32.933Z"
   },
   {
    "duration": 4,
    "start_time": "2022-06-10T06:12:33.025Z"
   },
   {
    "duration": 88,
    "start_time": "2022-06-10T06:12:33.031Z"
   },
   {
    "duration": 71,
    "start_time": "2022-06-10T06:12:33.120Z"
   },
   {
    "duration": 83,
    "start_time": "2022-06-10T06:12:33.193Z"
   },
   {
    "duration": 22,
    "start_time": "2022-06-10T06:12:33.278Z"
   },
   {
    "duration": 217,
    "start_time": "2022-06-10T06:12:34.207Z"
   },
   {
    "duration": 4,
    "start_time": "2022-06-10T06:12:35.626Z"
   },
   {
    "duration": 175,
    "start_time": "2022-06-10T06:12:36.373Z"
   },
   {
    "duration": 11,
    "start_time": "2022-06-10T06:12:37.113Z"
   },
   {
    "duration": 9,
    "start_time": "2022-06-10T06:12:37.523Z"
   },
   {
    "duration": 17,
    "start_time": "2022-06-10T06:12:38.234Z"
   },
   {
    "duration": 4,
    "start_time": "2022-06-10T06:12:38.984Z"
   },
   {
    "duration": 13,
    "start_time": "2022-06-10T06:12:39.523Z"
   },
   {
    "duration": 59,
    "start_time": "2022-06-10T08:48:59.878Z"
   },
   {
    "duration": 1281,
    "start_time": "2022-06-10T08:49:08.474Z"
   },
   {
    "duration": 375,
    "start_time": "2022-06-10T08:49:10.542Z"
   },
   {
    "duration": 3,
    "start_time": "2022-06-10T08:49:13.083Z"
   },
   {
    "duration": 18,
    "start_time": "2022-06-10T08:49:13.521Z"
   },
   {
    "duration": 6,
    "start_time": "2022-06-10T08:49:13.846Z"
   },
   {
    "duration": 106,
    "start_time": "2022-06-10T08:49:14.021Z"
   },
   {
    "duration": 47,
    "start_time": "2022-06-10T08:49:14.147Z"
   },
   {
    "duration": 8,
    "start_time": "2022-06-10T08:49:14.753Z"
   },
   {
    "duration": 36,
    "start_time": "2022-06-10T08:49:18.620Z"
   },
   {
    "duration": 34,
    "start_time": "2022-06-10T08:49:18.658Z"
   },
   {
    "duration": 11,
    "start_time": "2022-06-10T08:49:18.694Z"
   },
   {
    "duration": 21,
    "start_time": "2022-06-10T08:49:18.706Z"
   },
   {
    "duration": 47,
    "start_time": "2022-06-10T08:49:18.760Z"
   },
   {
    "duration": 22,
    "start_time": "2022-06-10T08:49:18.809Z"
   },
   {
    "duration": 42,
    "start_time": "2022-06-10T08:49:18.832Z"
   },
   {
    "duration": 46,
    "start_time": "2022-06-10T08:49:18.877Z"
   },
   {
    "duration": 20,
    "start_time": "2022-06-10T08:49:19.423Z"
   },
   {
    "duration": 19,
    "start_time": "2022-06-10T08:49:19.830Z"
   },
   {
    "duration": 9,
    "start_time": "2022-06-10T08:49:20.714Z"
   },
   {
    "duration": 51,
    "start_time": "2022-06-10T08:49:20.843Z"
   },
   {
    "duration": 4,
    "start_time": "2022-06-10T08:49:22.528Z"
   },
   {
    "duration": 5,
    "start_time": "2022-06-10T08:49:22.725Z"
   },
   {
    "duration": 4,
    "start_time": "2022-06-10T08:49:23.374Z"
   },
   {
    "duration": 2605,
    "start_time": "2022-06-10T08:49:23.685Z"
   },
   {
    "duration": 4,
    "start_time": "2022-06-10T08:49:26.293Z"
   },
   {
    "duration": 4747,
    "start_time": "2022-06-10T08:49:26.299Z"
   },
   {
    "duration": 1210,
    "start_time": "2022-06-10T08:49:31.048Z"
   },
   {
    "duration": 2393,
    "start_time": "2022-06-10T08:49:32.260Z"
   },
   {
    "duration": 29,
    "start_time": "2022-06-10T08:49:34.655Z"
   },
   {
    "duration": 20,
    "start_time": "2022-06-10T08:49:34.688Z"
   },
   {
    "duration": 104,
    "start_time": "2022-06-10T08:49:34.710Z"
   },
   {
    "duration": 4,
    "start_time": "2022-06-10T08:49:34.816Z"
   },
   {
    "duration": 116,
    "start_time": "2022-06-10T08:49:34.821Z"
   },
   {
    "duration": 70,
    "start_time": "2022-06-10T08:49:34.938Z"
   },
   {
    "duration": 86,
    "start_time": "2022-06-10T08:49:35.010Z"
   },
   {
    "duration": 21,
    "start_time": "2022-06-10T08:49:35.098Z"
   },
   {
    "duration": 114,
    "start_time": "2022-06-10T08:49:35.628Z"
   },
   {
    "duration": 43,
    "start_time": "2022-06-10T08:49:35.744Z"
   },
   {
    "duration": 97,
    "start_time": "2022-06-10T08:49:35.789Z"
   },
   {
    "duration": 38,
    "start_time": "2022-06-10T08:49:35.888Z"
   },
   {
    "duration": 46,
    "start_time": "2022-06-10T08:49:35.927Z"
   },
   {
    "duration": 17,
    "start_time": "2022-06-10T08:49:52.234Z"
   },
   {
    "duration": 5,
    "start_time": "2022-06-10T08:49:53.414Z"
   },
   {
    "duration": 4,
    "start_time": "2022-06-10T08:49:53.729Z"
   },
   {
    "duration": 3,
    "start_time": "2022-06-10T08:49:55.832Z"
   },
   {
    "duration": 33,
    "start_time": "2022-06-10T08:49:56.751Z"
   },
   {
    "duration": 45,
    "start_time": "2022-06-10T08:49:57.541Z"
   },
   {
    "duration": 21,
    "start_time": "2022-06-10T08:49:58.473Z"
   },
   {
    "duration": 78,
    "start_time": "2022-06-10T08:49:58.819Z"
   },
   {
    "duration": 22,
    "start_time": "2022-06-10T08:50:00.882Z"
   },
   {
    "duration": 42,
    "start_time": "2022-06-10T08:50:01.280Z"
   },
   {
    "duration": 48,
    "start_time": "2022-06-10T08:50:02.649Z"
   },
   {
    "duration": 79,
    "start_time": "2022-06-10T08:50:03.551Z"
   },
   {
    "duration": 15,
    "start_time": "2022-06-10T08:50:05.013Z"
   },
   {
    "duration": 28,
    "start_time": "2022-06-10T08:50:05.244Z"
   },
   {
    "duration": 37,
    "start_time": "2022-06-10T08:50:06.607Z"
   },
   {
    "duration": 84,
    "start_time": "2022-06-10T08:50:07.921Z"
   },
   {
    "duration": 138,
    "start_time": "2022-06-10T08:50:08.923Z"
   },
   {
    "duration": 5,
    "start_time": "2022-06-10T08:50:11.129Z"
   },
   {
    "duration": 33,
    "start_time": "2022-06-10T08:50:11.249Z"
   },
   {
    "duration": 2,
    "start_time": "2022-06-10T08:50:13.408Z"
   },
   {
    "duration": 2,
    "start_time": "2022-06-10T08:50:14.323Z"
   },
   {
    "duration": 52,
    "start_time": "2022-06-10T08:50:15.411Z"
   },
   {
    "duration": 44,
    "start_time": "2022-06-10T08:50:22.349Z"
   },
   {
    "duration": 10,
    "start_time": "2022-06-10T08:50:22.395Z"
   },
   {
    "duration": 16,
    "start_time": "2022-06-10T08:50:22.407Z"
   },
   {
    "duration": 17,
    "start_time": "2022-06-10T08:50:23.831Z"
   },
   {
    "duration": 5,
    "start_time": "2022-06-10T08:50:24.683Z"
   },
   {
    "duration": 11,
    "start_time": "2022-06-10T08:50:46.172Z"
   },
   {
    "duration": 8,
    "start_time": "2022-06-10T08:51:12.603Z"
   },
   {
    "duration": 5,
    "start_time": "2022-06-10T08:51:14.522Z"
   },
   {
    "duration": 130,
    "start_time": "2022-06-10T08:51:27.976Z"
   },
   {
    "duration": 3393,
    "start_time": "2022-06-10T08:51:44.711Z"
   },
   {
    "duration": 201,
    "start_time": "2022-06-10T08:51:48.745Z"
   },
   {
    "duration": 602,
    "start_time": "2022-06-10T08:51:50.219Z"
   },
   {
    "duration": 37,
    "start_time": "2022-06-10T08:51:51.644Z"
   },
   {
    "duration": 69,
    "start_time": "2022-06-10T08:51:52.583Z"
   },
   {
    "duration": 39,
    "start_time": "2022-06-10T08:51:57.277Z"
   },
   {
    "duration": 23,
    "start_time": "2022-06-10T08:51:58.056Z"
   },
   {
    "duration": 9,
    "start_time": "2022-06-10T08:51:59.561Z"
   },
   {
    "duration": 5,
    "start_time": "2022-06-10T08:52:00.226Z"
   },
   {
    "duration": 25,
    "start_time": "2022-06-10T08:52:02.683Z"
   },
   {
    "duration": 18,
    "start_time": "2022-06-10T08:52:04.036Z"
   },
   {
    "duration": 17,
    "start_time": "2022-06-10T08:52:07.859Z"
   },
   {
    "duration": 1383,
    "start_time": "2022-06-10T15:17:40.872Z"
   },
   {
    "duration": 389,
    "start_time": "2022-06-10T15:17:45.006Z"
   },
   {
    "duration": 3,
    "start_time": "2022-06-10T15:17:47.077Z"
   },
   {
    "duration": 16,
    "start_time": "2022-06-10T15:17:47.837Z"
   },
   {
    "duration": 9,
    "start_time": "2022-06-10T15:17:48.406Z"
   },
   {
    "duration": 88,
    "start_time": "2022-06-10T15:17:48.724Z"
   },
   {
    "duration": 32,
    "start_time": "2022-06-10T15:17:49.152Z"
   },
   {
    "duration": 7,
    "start_time": "2022-06-10T15:17:51.006Z"
   },
   {
    "duration": 44,
    "start_time": "2022-06-10T15:17:51.598Z"
   },
   {
    "duration": 19,
    "start_time": "2022-06-10T15:17:52.224Z"
   },
   {
    "duration": 9,
    "start_time": "2022-06-10T15:17:53.165Z"
   },
   {
    "duration": 20,
    "start_time": "2022-06-10T15:17:53.708Z"
   },
   {
    "duration": 37,
    "start_time": "2022-06-10T15:17:54.205Z"
   },
   {
    "duration": 20,
    "start_time": "2022-06-10T15:17:54.725Z"
   },
   {
    "duration": 14,
    "start_time": "2022-06-10T15:17:54.988Z"
   },
   {
    "duration": 43,
    "start_time": "2022-06-10T15:17:55.365Z"
   },
   {
    "duration": 26,
    "start_time": "2022-06-10T15:17:55.760Z"
   },
   {
    "duration": 22,
    "start_time": "2022-06-10T15:17:55.953Z"
   },
   {
    "duration": 9,
    "start_time": "2022-06-10T15:17:57.153Z"
   },
   {
    "duration": 34,
    "start_time": "2022-06-10T15:17:57.444Z"
   },
   {
    "duration": 15,
    "start_time": "2022-06-10T15:17:59.793Z"
   },
   {
    "duration": 7,
    "start_time": "2022-06-10T15:18:00.394Z"
   },
   {
    "duration": 4,
    "start_time": "2022-06-10T15:18:01.470Z"
   },
   {
    "duration": 2416,
    "start_time": "2022-06-10T15:18:02.047Z"
   },
   {
    "duration": 4,
    "start_time": "2022-06-10T15:18:04.466Z"
   },
   {
    "duration": 4491,
    "start_time": "2022-06-10T15:18:04.471Z"
   },
   {
    "duration": 1061,
    "start_time": "2022-06-10T15:18:08.965Z"
   },
   {
    "duration": 2115,
    "start_time": "2022-06-10T15:18:10.028Z"
   },
   {
    "duration": 15,
    "start_time": "2022-06-10T15:18:12.145Z"
   },
   {
    "duration": 33,
    "start_time": "2022-06-10T15:18:12.161Z"
   },
   {
    "duration": 194,
    "start_time": "2022-06-10T15:18:12.196Z"
   },
   {
    "duration": 4,
    "start_time": "2022-06-10T15:18:12.393Z"
   },
   {
    "duration": 77,
    "start_time": "2022-06-10T15:18:12.399Z"
   },
   {
    "duration": 78,
    "start_time": "2022-06-10T15:18:12.477Z"
   },
   {
    "duration": 82,
    "start_time": "2022-06-10T15:18:14.033Z"
   },
   {
    "duration": 22,
    "start_time": "2022-06-10T15:23:18.323Z"
   },
   {
    "duration": 30,
    "start_time": "2022-06-10T15:24:13.952Z"
   },
   {
    "duration": 77,
    "start_time": "2022-06-10T15:24:15.885Z"
   },
   {
    "duration": 37,
    "start_time": "2022-06-10T15:24:17.520Z"
   },
   {
    "duration": 19,
    "start_time": "2022-06-10T15:24:18.155Z"
   },
   {
    "duration": 17,
    "start_time": "2022-06-10T15:24:19.560Z"
   },
   {
    "duration": 4,
    "start_time": "2022-06-10T15:24:20.676Z"
   },
   {
    "duration": 5,
    "start_time": "2022-06-10T15:24:21.225Z"
   },
   {
    "duration": 2,
    "start_time": "2022-06-10T15:24:26.484Z"
   },
   {
    "duration": 22,
    "start_time": "2022-06-10T15:24:29.207Z"
   },
   {
    "duration": 39,
    "start_time": "2022-06-10T15:24:30.386Z"
   },
   {
    "duration": 19,
    "start_time": "2022-06-10T15:24:31.205Z"
   },
   {
    "duration": 60,
    "start_time": "2022-06-10T15:24:31.594Z"
   },
   {
    "duration": 26,
    "start_time": "2022-06-10T15:24:34.189Z"
   },
   {
    "duration": 38,
    "start_time": "2022-06-10T15:24:34.648Z"
   },
   {
    "duration": 42,
    "start_time": "2022-06-10T15:24:35.076Z"
   },
   {
    "duration": 59,
    "start_time": "2022-06-10T15:24:41.710Z"
   },
   {
    "duration": 12,
    "start_time": "2022-06-10T15:24:43.482Z"
   },
   {
    "duration": 21,
    "start_time": "2022-06-10T15:24:44.164Z"
   },
   {
    "duration": 41,
    "start_time": "2022-06-10T15:24:45.169Z"
   },
   {
    "duration": 61,
    "start_time": "2022-06-10T15:24:46.113Z"
   },
   {
    "duration": 5,
    "start_time": "2022-06-10T15:26:39.421Z"
   },
   {
    "duration": 3,
    "start_time": "2022-06-10T15:28:19.758Z"
   },
   {
    "duration": 2,
    "start_time": "2022-06-10T15:28:20.566Z"
   },
   {
    "duration": 58,
    "start_time": "2022-06-10T15:28:26.095Z"
   },
   {
    "duration": 22,
    "start_time": "2022-06-10T15:29:50.493Z"
   },
   {
    "duration": 6,
    "start_time": "2022-06-10T15:30:12.775Z"
   },
   {
    "duration": 22,
    "start_time": "2022-06-10T15:30:55.113Z"
   },
   {
    "duration": 6,
    "start_time": "2022-06-10T15:31:02.526Z"
   },
   {
    "duration": 7,
    "start_time": "2022-06-10T15:31:24.918Z"
   },
   {
    "duration": 155,
    "start_time": "2022-06-10T15:31:43.809Z"
   },
   {
    "duration": 8,
    "start_time": "2022-06-10T15:32:16.713Z"
   },
   {
    "duration": 15,
    "start_time": "2022-06-10T15:32:39.609Z"
   },
   {
    "duration": 8,
    "start_time": "2022-06-10T15:33:02.204Z"
   },
   {
    "duration": 14,
    "start_time": "2022-06-10T15:33:05.333Z"
   },
   {
    "duration": 10,
    "start_time": "2022-06-10T15:33:34.409Z"
   },
   {
    "duration": 13,
    "start_time": "2022-06-10T15:33:34.922Z"
   },
   {
    "duration": 16,
    "start_time": "2022-06-10T15:33:49.627Z"
   },
   {
    "duration": 11,
    "start_time": "2022-06-10T15:35:51.805Z"
   },
   {
    "duration": 14,
    "start_time": "2022-06-10T15:35:55.590Z"
   },
   {
    "duration": 4,
    "start_time": "2022-06-10T15:36:16.061Z"
   },
   {
    "duration": 16,
    "start_time": "2022-06-10T15:36:17.910Z"
   },
   {
    "duration": 8,
    "start_time": "2022-06-10T15:36:19.489Z"
   },
   {
    "duration": 157,
    "start_time": "2022-06-10T15:36:20.759Z"
   },
   {
    "duration": 10,
    "start_time": "2022-06-10T15:42:27.190Z"
   },
   {
    "duration": 69,
    "start_time": "2022-06-10T15:42:27.203Z"
   },
   {
    "duration": 8,
    "start_time": "2022-06-10T15:43:20.113Z"
   },
   {
    "duration": 133,
    "start_time": "2022-06-10T15:43:20.787Z"
   },
   {
    "duration": 128,
    "start_time": "2022-06-10T15:43:33.599Z"
   },
   {
    "duration": 5,
    "start_time": "2022-06-10T15:45:42.404Z"
   },
   {
    "duration": 3084,
    "start_time": "2022-06-10T15:45:59.154Z"
   },
   {
    "duration": 173,
    "start_time": "2022-06-10T15:46:15.124Z"
   },
   {
    "duration": 645,
    "start_time": "2022-06-10T15:46:27.306Z"
   },
   {
    "duration": 14,
    "start_time": "2022-06-10T15:49:31.610Z"
   },
   {
    "duration": 13,
    "start_time": "2022-06-10T15:49:41.574Z"
   },
   {
    "duration": 11,
    "start_time": "2022-06-10T15:49:56.851Z"
   },
   {
    "duration": 78,
    "start_time": "2022-06-10T15:50:07.124Z"
   },
   {
    "duration": 1071,
    "start_time": "2022-06-10T15:50:26.833Z"
   },
   {
    "duration": 1559,
    "start_time": "2022-06-10T15:51:23.672Z"
   },
   {
    "duration": 18,
    "start_time": "2022-06-10T15:53:22.591Z"
   },
   {
    "duration": 1618,
    "start_time": "2022-06-10T15:53:23.255Z"
   },
   {
    "duration": 653,
    "start_time": "2022-06-10T15:55:59.087Z"
   },
   {
    "duration": 52,
    "start_time": "2022-06-10T16:01:54.914Z"
   },
   {
    "duration": 11,
    "start_time": "2022-06-10T16:02:14.928Z"
   },
   {
    "duration": 46,
    "start_time": "2022-06-10T16:02:30.086Z"
   },
   {
    "duration": 1676,
    "start_time": "2022-06-10T16:02:41.369Z"
   },
   {
    "duration": 37,
    "start_time": "2022-06-10T16:22:44.748Z"
   },
   {
    "duration": 15,
    "start_time": "2022-06-10T16:22:50.989Z"
   },
   {
    "duration": 27,
    "start_time": "2022-06-10T16:24:08.764Z"
   },
   {
    "duration": 16,
    "start_time": "2022-06-10T16:24:11.665Z"
   },
   {
    "duration": 1367,
    "start_time": "2022-06-11T11:44:42.708Z"
   },
   {
    "duration": 398,
    "start_time": "2022-06-11T11:44:44.078Z"
   },
   {
    "duration": 3,
    "start_time": "2022-06-11T11:44:44.477Z"
   },
   {
    "duration": 31,
    "start_time": "2022-06-11T11:44:44.482Z"
   },
   {
    "duration": 12,
    "start_time": "2022-06-11T11:44:44.515Z"
   },
   {
    "duration": 93,
    "start_time": "2022-06-11T11:44:44.529Z"
   },
   {
    "duration": 49,
    "start_time": "2022-06-11T11:44:44.624Z"
   },
   {
    "duration": 6,
    "start_time": "2022-06-11T11:44:44.675Z"
   },
   {
    "duration": 45,
    "start_time": "2022-06-11T11:44:44.682Z"
   },
   {
    "duration": 38,
    "start_time": "2022-06-11T11:44:44.729Z"
   },
   {
    "duration": 10,
    "start_time": "2022-06-11T11:44:44.768Z"
   },
   {
    "duration": 20,
    "start_time": "2022-06-11T11:44:44.779Z"
   },
   {
    "duration": 65,
    "start_time": "2022-06-11T11:44:44.801Z"
   },
   {
    "duration": 18,
    "start_time": "2022-06-11T11:44:44.868Z"
   },
   {
    "duration": 11,
    "start_time": "2022-06-11T11:44:44.888Z"
   },
   {
    "duration": 53,
    "start_time": "2022-06-11T11:44:44.901Z"
   },
   {
    "duration": 20,
    "start_time": "2022-06-11T11:44:44.955Z"
   },
   {
    "duration": 19,
    "start_time": "2022-06-11T11:44:44.976Z"
   },
   {
    "duration": 20,
    "start_time": "2022-06-11T11:44:44.996Z"
   },
   {
    "duration": 73,
    "start_time": "2022-06-11T11:44:45.017Z"
   },
   {
    "duration": 8,
    "start_time": "2022-06-11T11:44:45.092Z"
   },
   {
    "duration": 24,
    "start_time": "2022-06-11T11:44:45.102Z"
   },
   {
    "duration": 12,
    "start_time": "2022-06-11T11:44:45.128Z"
   },
   {
    "duration": 2091,
    "start_time": "2022-06-11T11:44:45.142Z"
   },
   {
    "duration": 4,
    "start_time": "2022-06-11T11:44:47.235Z"
   },
   {
    "duration": 4068,
    "start_time": "2022-06-11T11:44:47.252Z"
   },
   {
    "duration": 1001,
    "start_time": "2022-06-11T11:44:51.322Z"
   },
   {
    "duration": 1972,
    "start_time": "2022-06-11T11:44:52.327Z"
   },
   {
    "duration": 13,
    "start_time": "2022-06-11T11:44:54.300Z"
   },
   {
    "duration": 23,
    "start_time": "2022-06-11T11:44:54.314Z"
   },
   {
    "duration": 178,
    "start_time": "2022-06-11T11:44:54.338Z"
   },
   {
    "duration": 3,
    "start_time": "2022-06-11T11:44:54.518Z"
   },
   {
    "duration": 72,
    "start_time": "2022-06-11T11:44:54.522Z"
   },
   {
    "duration": 61,
    "start_time": "2022-06-11T11:44:54.595Z"
   },
   {
    "duration": 70,
    "start_time": "2022-06-11T11:44:54.658Z"
   },
   {
    "duration": 29,
    "start_time": "2022-06-11T11:44:54.730Z"
   },
   {
    "duration": 91,
    "start_time": "2022-06-11T11:44:54.761Z"
   },
   {
    "duration": 26,
    "start_time": "2022-06-11T11:44:54.853Z"
   },
   {
    "duration": 85,
    "start_time": "2022-06-11T11:44:54.881Z"
   },
   {
    "duration": 36,
    "start_time": "2022-06-11T11:44:54.968Z"
   },
   {
    "duration": 19,
    "start_time": "2022-06-11T11:44:55.006Z"
   },
   {
    "duration": 42,
    "start_time": "2022-06-11T11:44:55.027Z"
   },
   {
    "duration": 4,
    "start_time": "2022-06-11T11:44:55.071Z"
   },
   {
    "duration": 24,
    "start_time": "2022-06-11T11:44:55.077Z"
   },
   {
    "duration": 22,
    "start_time": "2022-06-11T11:44:55.102Z"
   },
   {
    "duration": 48,
    "start_time": "2022-06-11T11:44:55.125Z"
   },
   {
    "duration": 37,
    "start_time": "2022-06-11T11:44:55.175Z"
   },
   {
    "duration": 20,
    "start_time": "2022-06-11T11:44:55.214Z"
   },
   {
    "duration": 92,
    "start_time": "2022-06-11T11:44:55.253Z"
   },
   {
    "duration": 23,
    "start_time": "2022-06-11T11:44:55.346Z"
   },
   {
    "duration": 36,
    "start_time": "2022-06-11T11:44:55.371Z"
   },
   {
    "duration": 28,
    "start_time": "2022-06-11T11:44:55.409Z"
   },
   {
    "duration": 57,
    "start_time": "2022-06-11T11:44:55.451Z"
   },
   {
    "duration": 11,
    "start_time": "2022-06-11T11:44:55.509Z"
   },
   {
    "duration": 30,
    "start_time": "2022-06-11T11:44:55.522Z"
   },
   {
    "duration": 32,
    "start_time": "2022-06-11T11:44:55.554Z"
   },
   {
    "duration": 66,
    "start_time": "2022-06-11T11:44:55.588Z"
   },
   {
    "duration": 102,
    "start_time": "2022-06-11T11:44:55.655Z"
   },
   {
    "duration": 5,
    "start_time": "2022-06-11T11:44:55.758Z"
   },
   {
    "duration": 27,
    "start_time": "2022-06-11T11:44:55.764Z"
   },
   {
    "duration": 2,
    "start_time": "2022-06-11T11:44:55.793Z"
   },
   {
    "duration": 7,
    "start_time": "2022-06-11T11:44:55.796Z"
   },
   {
    "duration": 58,
    "start_time": "2022-06-11T11:44:55.804Z"
   },
   {
    "duration": 18,
    "start_time": "2022-06-11T11:44:55.863Z"
   },
   {
    "duration": 7,
    "start_time": "2022-06-11T11:44:55.882Z"
   },
   {
    "duration": 13,
    "start_time": "2022-06-11T11:44:55.890Z"
   },
   {
    "duration": 4,
    "start_time": "2022-06-11T11:44:55.904Z"
   },
   {
    "duration": 19,
    "start_time": "2022-06-11T11:44:55.909Z"
   },
   {
    "duration": 7,
    "start_time": "2022-06-11T11:44:55.951Z"
   },
   {
    "duration": 127,
    "start_time": "2022-06-11T11:44:55.960Z"
   },
   {
    "duration": 3,
    "start_time": "2022-06-11T11:44:56.088Z"
   },
   {
    "duration": 9,
    "start_time": "2022-06-11T11:44:56.092Z"
   },
   {
    "duration": 1390,
    "start_time": "2022-06-11T11:44:56.102Z"
   },
   {
    "duration": 2953,
    "start_time": "2022-06-11T11:44:57.493Z"
   },
   {
    "duration": 28,
    "start_time": "2022-06-11T11:45:00.452Z"
   },
   {
    "duration": 70,
    "start_time": "2022-06-11T11:45:00.482Z"
   },
   {
    "duration": 37,
    "start_time": "2022-06-11T11:45:00.554Z"
   },
   {
    "duration": 15,
    "start_time": "2022-06-11T11:45:00.593Z"
   },
   {
    "duration": 25,
    "start_time": "2022-06-11T11:45:00.611Z"
   },
   {
    "duration": 16,
    "start_time": "2022-06-11T11:45:00.638Z"
   },
   {
    "duration": 37,
    "start_time": "2022-06-11T11:45:00.656Z"
   },
   {
    "duration": 23,
    "start_time": "2022-06-11T11:45:00.698Z"
   },
   {
    "duration": 16,
    "start_time": "2022-06-11T11:45:00.722Z"
   },
   {
    "duration": 20,
    "start_time": "2022-06-11T11:45:00.740Z"
   },
   {
    "duration": 144,
    "start_time": "2022-06-11T12:11:04.663Z"
   },
   {
    "duration": 18,
    "start_time": "2022-06-11T12:11:21.632Z"
   },
   {
    "duration": 10,
    "start_time": "2022-06-11T12:12:12.801Z"
   },
   {
    "duration": 22,
    "start_time": "2022-06-11T12:12:58.801Z"
   },
   {
    "duration": 56,
    "start_time": "2022-06-11T12:14:16.750Z"
   },
   {
    "duration": 69,
    "start_time": "2022-06-11T12:17:50.441Z"
   },
   {
    "duration": 72,
    "start_time": "2022-06-11T12:18:54.044Z"
   },
   {
    "duration": 48,
    "start_time": "2022-06-11T12:20:14.393Z"
   },
   {
    "duration": 59,
    "start_time": "2022-06-11T12:20:57.807Z"
   },
   {
    "duration": 41,
    "start_time": "2022-06-11T12:22:49.113Z"
   },
   {
    "duration": 22,
    "start_time": "2022-06-11T12:22:50.212Z"
   },
   {
    "duration": 53,
    "start_time": "2022-06-11T12:22:56.098Z"
   },
   {
    "duration": 61,
    "start_time": "2022-06-11T12:23:39.782Z"
   },
   {
    "duration": 38,
    "start_time": "2022-06-11T12:25:39.884Z"
   },
   {
    "duration": 74,
    "start_time": "2022-06-11T12:26:37.045Z"
   },
   {
    "duration": 19,
    "start_time": "2022-06-11T12:28:03.980Z"
   },
   {
    "duration": 58,
    "start_time": "2022-06-11T12:28:07.748Z"
   },
   {
    "duration": 4158,
    "start_time": "2022-06-11T12:28:27.888Z"
   },
   {
    "duration": 507,
    "start_time": "2022-06-11T12:30:20.307Z"
   },
   {
    "duration": 53,
    "start_time": "2022-06-11T12:30:34.352Z"
   },
   {
    "duration": 4482,
    "start_time": "2022-06-11T12:30:35.903Z"
   },
   {
    "duration": 50,
    "start_time": "2022-06-11T12:31:03.986Z"
   },
   {
    "duration": 4136,
    "start_time": "2022-06-11T12:31:07.193Z"
   },
   {
    "duration": 3936,
    "start_time": "2022-06-11T12:31:24.527Z"
   },
   {
    "duration": 4082,
    "start_time": "2022-06-11T12:31:46.597Z"
   },
   {
    "duration": 4234,
    "start_time": "2022-06-11T12:31:54.624Z"
   },
   {
    "duration": 12,
    "start_time": "2022-06-11T12:35:31.759Z"
   },
   {
    "duration": 1499,
    "start_time": "2022-06-11T12:47:07.932Z"
   },
   {
    "duration": 881,
    "start_time": "2022-06-11T12:47:09.433Z"
   },
   {
    "duration": 4,
    "start_time": "2022-06-11T12:47:10.316Z"
   },
   {
    "duration": 36,
    "start_time": "2022-06-11T12:47:10.323Z"
   },
   {
    "duration": 20,
    "start_time": "2022-06-11T12:47:10.361Z"
   },
   {
    "duration": 188,
    "start_time": "2022-06-11T12:47:10.383Z"
   },
   {
    "duration": 46,
    "start_time": "2022-06-11T12:47:10.573Z"
   },
   {
    "duration": 9,
    "start_time": "2022-06-11T12:47:10.621Z"
   },
   {
    "duration": 79,
    "start_time": "2022-06-11T12:47:10.632Z"
   },
   {
    "duration": 51,
    "start_time": "2022-06-11T12:47:10.713Z"
   },
   {
    "duration": 9,
    "start_time": "2022-06-11T12:47:11.137Z"
   },
   {
    "duration": 21,
    "start_time": "2022-06-11T12:47:11.435Z"
   },
   {
    "duration": 59,
    "start_time": "2022-06-11T12:47:11.737Z"
   },
   {
    "duration": 25,
    "start_time": "2022-06-11T12:47:11.888Z"
   },
   {
    "duration": 24,
    "start_time": "2022-06-11T12:47:12.054Z"
   },
   {
    "duration": 67,
    "start_time": "2022-06-11T12:47:12.212Z"
   },
   {
    "duration": 33,
    "start_time": "2022-06-11T12:47:12.356Z"
   },
   {
    "duration": 28,
    "start_time": "2022-06-11T12:47:12.510Z"
   },
   {
    "duration": 16,
    "start_time": "2022-06-11T12:47:13.053Z"
   },
   {
    "duration": 58,
    "start_time": "2022-06-11T12:47:13.283Z"
   },
   {
    "duration": 5,
    "start_time": "2022-06-11T12:47:14.542Z"
   },
   {
    "duration": 5,
    "start_time": "2022-06-11T12:47:14.915Z"
   },
   {
    "duration": 3,
    "start_time": "2022-06-11T12:47:15.443Z"
   },
   {
    "duration": 2724,
    "start_time": "2022-06-11T12:47:15.613Z"
   },
   {
    "duration": 23,
    "start_time": "2022-06-11T12:47:18.339Z"
   },
   {
    "duration": 4876,
    "start_time": "2022-06-11T12:47:18.364Z"
   },
   {
    "duration": 1154,
    "start_time": "2022-06-11T12:47:23.243Z"
   },
   {
    "duration": 2318,
    "start_time": "2022-06-11T12:47:24.399Z"
   },
   {
    "duration": 17,
    "start_time": "2022-06-11T12:47:26.719Z"
   },
   {
    "duration": 47,
    "start_time": "2022-06-11T12:47:26.738Z"
   },
   {
    "duration": 196,
    "start_time": "2022-06-11T12:47:26.787Z"
   },
   {
    "duration": 4,
    "start_time": "2022-06-11T12:47:26.984Z"
   },
   {
    "duration": 131,
    "start_time": "2022-06-11T12:47:26.991Z"
   },
   {
    "duration": 67,
    "start_time": "2022-06-11T12:47:27.125Z"
   },
   {
    "duration": 96,
    "start_time": "2022-06-11T12:47:27.193Z"
   },
   {
    "duration": 25,
    "start_time": "2022-06-11T12:47:27.296Z"
   },
   {
    "duration": 125,
    "start_time": "2022-06-11T12:47:27.323Z"
   },
   {
    "duration": 35,
    "start_time": "2022-06-11T12:47:27.450Z"
   },
   {
    "duration": 123,
    "start_time": "2022-06-11T12:47:27.487Z"
   },
   {
    "duration": 58,
    "start_time": "2022-06-11T12:47:27.612Z"
   },
   {
    "duration": 22,
    "start_time": "2022-06-11T12:47:27.671Z"
   },
   {
    "duration": 20,
    "start_time": "2022-06-11T12:47:27.695Z"
   },
   {
    "duration": 7,
    "start_time": "2022-06-11T12:47:27.717Z"
   },
   {
    "duration": 9,
    "start_time": "2022-06-11T12:47:27.727Z"
   },
   {
    "duration": 21,
    "start_time": "2022-06-11T12:47:27.757Z"
   },
   {
    "duration": 27,
    "start_time": "2022-06-11T12:47:46.085Z"
   },
   {
    "duration": 46,
    "start_time": "2022-06-11T12:47:46.540Z"
   },
   {
    "duration": 17,
    "start_time": "2022-06-11T12:47:47.188Z"
   },
   {
    "duration": 65,
    "start_time": "2022-06-11T12:47:47.843Z"
   },
   {
    "duration": 28,
    "start_time": "2022-06-11T12:47:50.412Z"
   },
   {
    "duration": 63,
    "start_time": "2022-06-11T12:47:50.987Z"
   },
   {
    "duration": 73,
    "start_time": "2022-06-11T12:47:51.323Z"
   },
   {
    "duration": 101,
    "start_time": "2022-06-11T12:47:51.902Z"
   },
   {
    "duration": 19,
    "start_time": "2022-06-11T12:47:52.891Z"
   },
   {
    "duration": 36,
    "start_time": "2022-06-11T12:47:53.147Z"
   },
   {
    "duration": 60,
    "start_time": "2022-06-11T12:47:53.742Z"
   },
   {
    "duration": 91,
    "start_time": "2022-06-11T12:47:54.336Z"
   },
   {
    "duration": 136,
    "start_time": "2022-06-11T12:47:54.653Z"
   },
   {
    "duration": 6,
    "start_time": "2022-06-11T12:47:55.841Z"
   },
   {
    "duration": 33,
    "start_time": "2022-06-11T12:47:56.312Z"
   },
   {
    "duration": 6,
    "start_time": "2022-06-11T12:47:57.984Z"
   },
   {
    "duration": 3,
    "start_time": "2022-06-11T12:47:58.628Z"
   },
   {
    "duration": 47,
    "start_time": "2022-06-11T12:47:59.892Z"
   },
   {
    "duration": 30,
    "start_time": "2022-06-11T12:48:01.287Z"
   },
   {
    "duration": 11,
    "start_time": "2022-06-11T12:48:01.511Z"
   },
   {
    "duration": 14,
    "start_time": "2022-06-11T12:48:01.783Z"
   },
   {
    "duration": 5,
    "start_time": "2022-06-11T12:48:05.393Z"
   },
   {
    "duration": 15,
    "start_time": "2022-06-11T12:48:05.775Z"
   },
   {
    "duration": 7,
    "start_time": "2022-06-11T12:48:07.909Z"
   },
   {
    "duration": 141,
    "start_time": "2022-06-11T12:48:08.387Z"
   },
   {
    "duration": 12,
    "start_time": "2022-06-11T12:48:36.370Z"
   },
   {
    "duration": 151,
    "start_time": "2022-06-11T12:48:36.893Z"
   },
   {
    "duration": 3290,
    "start_time": "2022-06-11T12:48:49.197Z"
   },
   {
    "duration": 27,
    "start_time": "2022-06-11T12:53:38.501Z"
   },
   {
    "duration": 11,
    "start_time": "2022-06-11T12:53:47.670Z"
   },
   {
    "duration": 142,
    "start_time": "2022-06-11T12:53:48.788Z"
   },
   {
    "duration": 15,
    "start_time": "2022-06-11T13:00:48.183Z"
   },
   {
    "duration": 10,
    "start_time": "2022-06-11T13:02:16.096Z"
   },
   {
    "duration": 216,
    "start_time": "2022-06-11T13:02:17.572Z"
   },
   {
    "duration": 8,
    "start_time": "2022-06-11T13:02:44.633Z"
   },
   {
    "duration": 85,
    "start_time": "2022-06-11T13:02:45.406Z"
   },
   {
    "duration": 15,
    "start_time": "2022-06-11T13:04:55.553Z"
   },
   {
    "duration": 44,
    "start_time": "2022-06-11T13:04:56.309Z"
   },
   {
    "duration": 27,
    "start_time": "2022-06-11T13:06:21.004Z"
   },
   {
    "duration": 12,
    "start_time": "2022-06-11T13:06:59.758Z"
   },
   {
    "duration": 59,
    "start_time": "2022-06-11T13:07:00.545Z"
   },
   {
    "duration": 6,
    "start_time": "2022-06-11T13:08:20.703Z"
   },
   {
    "duration": 11,
    "start_time": "2022-06-11T13:08:49.705Z"
   },
   {
    "duration": 154,
    "start_time": "2022-06-11T13:08:50.501Z"
   },
   {
    "duration": 6,
    "start_time": "2022-06-11T13:12:32.387Z"
   },
   {
    "duration": 180,
    "start_time": "2022-06-11T13:12:37.854Z"
   },
   {
    "duration": 5450,
    "start_time": "2022-06-11T13:31:03.479Z"
   },
   {
    "duration": 2342,
    "start_time": "2022-06-11T13:32:26.617Z"
   },
   {
    "duration": 250,
    "start_time": "2022-06-11T13:40:07.031Z"
   },
   {
    "duration": 1722,
    "start_time": "2022-06-11T13:42:36.402Z"
   },
   {
    "duration": 75,
    "start_time": "2022-06-11T13:43:14.353Z"
   },
   {
    "duration": 4706,
    "start_time": "2022-06-11T13:43:27.191Z"
   },
   {
    "duration": 1723,
    "start_time": "2022-06-11T13:43:35.175Z"
   },
   {
    "duration": 31,
    "start_time": "2022-06-11T13:45:45.466Z"
   },
   {
    "duration": 40,
    "start_time": "2022-06-11T13:47:03.240Z"
   },
   {
    "duration": 87,
    "start_time": "2022-06-11T13:47:28.718Z"
   },
   {
    "duration": 4859,
    "start_time": "2022-06-11T13:47:30.675Z"
   },
   {
    "duration": 102,
    "start_time": "2022-06-11T13:48:25.625Z"
   },
   {
    "duration": 8489,
    "start_time": "2022-06-11T13:48:26.415Z"
   },
   {
    "duration": 9741,
    "start_time": "2022-06-11T13:49:00.658Z"
   },
   {
    "duration": 4167,
    "start_time": "2022-06-11T13:49:26.602Z"
   },
   {
    "duration": 90,
    "start_time": "2022-06-11T13:50:33.871Z"
   },
   {
    "duration": 4533,
    "start_time": "2022-06-11T13:50:35.038Z"
   },
   {
    "duration": 680,
    "start_time": "2022-06-11T13:50:43.620Z"
   },
   {
    "duration": 109,
    "start_time": "2022-06-11T13:51:12.024Z"
   },
   {
    "duration": 17,
    "start_time": "2022-06-11T13:55:12.736Z"
   },
   {
    "duration": 6,
    "start_time": "2022-06-11T13:55:16.320Z"
   },
   {
    "duration": 17,
    "start_time": "2022-06-11T13:55:17.122Z"
   },
   {
    "duration": 20,
    "start_time": "2022-06-11T13:55:40.464Z"
   },
   {
    "duration": 6597,
    "start_time": "2022-06-11T13:55:49.294Z"
   },
   {
    "duration": 6728,
    "start_time": "2022-06-11T13:56:10.075Z"
   },
   {
    "duration": 38,
    "start_time": "2022-06-11T13:56:53.171Z"
   },
   {
    "duration": 30,
    "start_time": "2022-06-11T13:57:17.071Z"
   },
   {
    "duration": 4,
    "start_time": "2022-06-11T13:57:36.575Z"
   },
   {
    "duration": 6282,
    "start_time": "2022-06-11T13:57:57.375Z"
   },
   {
    "duration": 6804,
    "start_time": "2022-06-11T13:58:12.307Z"
   },
   {
    "duration": 6030,
    "start_time": "2022-06-11T13:58:26.740Z"
   },
   {
    "duration": 3,
    "start_time": "2022-06-11T13:59:12.582Z"
   },
   {
    "duration": 4658,
    "start_time": "2022-06-11T13:59:13.220Z"
   },
   {
    "duration": 3,
    "start_time": "2022-06-11T13:59:32.800Z"
   },
   {
    "duration": 4897,
    "start_time": "2022-06-11T13:59:33.302Z"
   },
   {
    "duration": 4,
    "start_time": "2022-06-11T13:59:57.246Z"
   },
   {
    "duration": 14,
    "start_time": "2022-06-11T14:00:28.755Z"
   },
   {
    "duration": 38,
    "start_time": "2022-06-11T14:00:29.410Z"
   },
   {
    "duration": 184,
    "start_time": "2022-06-11T14:00:37.891Z"
   },
   {
    "duration": 3,
    "start_time": "2022-06-11T14:00:39.963Z"
   },
   {
    "duration": 181,
    "start_time": "2022-06-11T14:00:40.669Z"
   },
   {
    "duration": 3,
    "start_time": "2022-06-11T14:01:02.682Z"
   },
   {
    "duration": 4193,
    "start_time": "2022-06-11T14:01:03.191Z"
   },
   {
    "duration": 14,
    "start_time": "2022-06-11T14:02:36.782Z"
   },
   {
    "duration": 130,
    "start_time": "2022-06-11T14:02:39.392Z"
   },
   {
    "duration": 13,
    "start_time": "2022-06-11T14:02:39.974Z"
   },
   {
    "duration": 3,
    "start_time": "2022-06-11T14:02:49.803Z"
   },
   {
    "duration": 14,
    "start_time": "2022-06-11T14:02:58.847Z"
   },
   {
    "duration": 3,
    "start_time": "2022-06-11T14:03:18.692Z"
   },
   {
    "duration": 10,
    "start_time": "2022-06-11T14:03:33.091Z"
   },
   {
    "duration": 7,
    "start_time": "2022-06-11T14:03:39.654Z"
   },
   {
    "duration": 10,
    "start_time": "2022-06-11T14:03:40.315Z"
   },
   {
    "duration": 1267,
    "start_time": "2022-06-11T14:04:13.920Z"
   },
   {
    "duration": 384,
    "start_time": "2022-06-11T14:04:15.591Z"
   },
   {
    "duration": 3,
    "start_time": "2022-06-11T14:04:16.005Z"
   },
   {
    "duration": 17,
    "start_time": "2022-06-11T14:04:16.393Z"
   },
   {
    "duration": 8,
    "start_time": "2022-06-11T14:04:16.719Z"
   },
   {
    "duration": 140,
    "start_time": "2022-06-11T14:04:16.950Z"
   },
   {
    "duration": 31,
    "start_time": "2022-06-11T14:04:17.207Z"
   },
   {
    "duration": 7,
    "start_time": "2022-06-11T14:04:18.550Z"
   },
   {
    "duration": 37,
    "start_time": "2022-06-11T14:04:19.040Z"
   },
   {
    "duration": 20,
    "start_time": "2022-06-11T14:04:19.675Z"
   },
   {
    "duration": 9,
    "start_time": "2022-06-11T14:04:20.569Z"
   },
   {
    "duration": 19,
    "start_time": "2022-06-11T14:04:21.120Z"
   },
   {
    "duration": 36,
    "start_time": "2022-06-11T14:04:21.617Z"
   },
   {
    "duration": 25,
    "start_time": "2022-06-11T14:04:21.867Z"
   },
   {
    "duration": 13,
    "start_time": "2022-06-11T14:04:22.138Z"
   },
   {
    "duration": 53,
    "start_time": "2022-06-11T14:04:22.445Z"
   },
   {
    "duration": 21,
    "start_time": "2022-06-11T14:04:22.712Z"
   },
   {
    "duration": 23,
    "start_time": "2022-06-11T14:04:23.049Z"
   },
   {
    "duration": 9,
    "start_time": "2022-06-11T14:04:24.250Z"
   },
   {
    "duration": 37,
    "start_time": "2022-06-11T14:04:24.646Z"
   },
   {
    "duration": 4,
    "start_time": "2022-06-11T14:04:26.807Z"
   },
   {
    "duration": 5,
    "start_time": "2022-06-11T14:04:27.632Z"
   },
   {
    "duration": 3,
    "start_time": "2022-06-11T14:04:28.723Z"
   },
   {
    "duration": 2308,
    "start_time": "2022-06-11T14:04:28.965Z"
   },
   {
    "duration": 4,
    "start_time": "2022-06-11T14:04:31.275Z"
   },
   {
    "duration": 4532,
    "start_time": "2022-06-11T14:04:31.280Z"
   },
   {
    "duration": 199,
    "start_time": "2022-06-11T14:04:42.736Z"
   },
   {
    "duration": 1059,
    "start_time": "2022-06-11T14:05:09.235Z"
   },
   {
    "duration": 2155,
    "start_time": "2022-06-11T14:05:18.600Z"
   },
   {
    "duration": 15,
    "start_time": "2022-06-11T14:05:25.258Z"
   },
   {
    "duration": 17,
    "start_time": "2022-06-11T14:05:26.033Z"
   },
   {
    "duration": 72,
    "start_time": "2022-06-11T14:05:26.521Z"
   },
   {
    "duration": 4,
    "start_time": "2022-06-11T14:05:28.293Z"
   },
   {
    "duration": 71,
    "start_time": "2022-06-11T14:05:28.570Z"
   },
   {
    "duration": 63,
    "start_time": "2022-06-11T14:05:30.085Z"
   },
   {
    "duration": 71,
    "start_time": "2022-06-11T14:05:30.573Z"
   },
   {
    "duration": 22,
    "start_time": "2022-06-11T14:05:32.202Z"
   },
   {
    "duration": 185,
    "start_time": "2022-06-11T14:05:32.924Z"
   },
   {
    "duration": 34,
    "start_time": "2022-06-11T14:05:34.496Z"
   },
   {
    "duration": 83,
    "start_time": "2022-06-11T14:05:35.023Z"
   },
   {
    "duration": 36,
    "start_time": "2022-06-11T14:05:35.513Z"
   },
   {
    "duration": 21,
    "start_time": "2022-06-11T14:05:35.840Z"
   },
   {
    "duration": 19,
    "start_time": "2022-06-11T14:05:36.440Z"
   },
   {
    "duration": 4,
    "start_time": "2022-06-11T14:05:36.935Z"
   },
   {
    "duration": 4,
    "start_time": "2022-06-11T14:05:37.216Z"
   },
   {
    "duration": 2,
    "start_time": "2022-06-11T14:05:37.794Z"
   },
   {
    "duration": 25,
    "start_time": "2022-06-11T14:05:38.839Z"
   },
   {
    "duration": 35,
    "start_time": "2022-06-11T14:05:39.360Z"
   },
   {
    "duration": 24,
    "start_time": "2022-06-11T14:05:39.822Z"
   },
   {
    "duration": 73,
    "start_time": "2022-06-11T14:05:40.057Z"
   },
   {
    "duration": 25,
    "start_time": "2022-06-11T14:05:41.513Z"
   },
   {
    "duration": 70,
    "start_time": "2022-06-11T14:05:41.899Z"
   },
   {
    "duration": 30,
    "start_time": "2022-06-11T14:05:42.337Z"
   },
   {
    "duration": 65,
    "start_time": "2022-06-11T14:05:43.118Z"
   },
   {
    "duration": 13,
    "start_time": "2022-06-11T14:05:45.623Z"
   },
   {
    "duration": 24,
    "start_time": "2022-06-11T14:05:46.002Z"
   },
   {
    "duration": 40,
    "start_time": "2022-06-11T14:05:46.720Z"
   },
   {
    "duration": 63,
    "start_time": "2022-06-11T14:05:47.730Z"
   },
   {
    "duration": 132,
    "start_time": "2022-06-11T14:05:48.118Z"
   },
   {
    "duration": 6,
    "start_time": "2022-06-11T14:05:49.201Z"
   },
   {
    "duration": 19,
    "start_time": "2022-06-11T14:05:49.632Z"
   },
   {
    "duration": 3,
    "start_time": "2022-06-11T14:05:50.789Z"
   },
   {
    "duration": 3,
    "start_time": "2022-06-11T14:05:51.768Z"
   },
   {
    "duration": 58,
    "start_time": "2022-06-11T14:05:53.060Z"
   },
   {
    "duration": 21,
    "start_time": "2022-06-11T14:05:55.407Z"
   },
   {
    "duration": 8,
    "start_time": "2022-06-11T14:05:55.970Z"
   },
   {
    "duration": 14,
    "start_time": "2022-06-11T14:05:56.330Z"
   },
   {
    "duration": 6,
    "start_time": "2022-06-11T14:05:58.950Z"
   },
   {
    "duration": 9,
    "start_time": "2022-06-11T14:06:25.389Z"
   },
   {
    "duration": 19,
    "start_time": "2022-06-11T14:06:25.885Z"
   },
   {
    "duration": 12,
    "start_time": "2022-06-11T14:07:06.855Z"
   },
   {
    "duration": 13,
    "start_time": "2022-06-11T14:07:12.550Z"
   },
   {
    "duration": 6,
    "start_time": "2022-06-11T14:07:36.047Z"
   },
   {
    "duration": 11,
    "start_time": "2022-06-11T14:07:36.957Z"
   },
   {
    "duration": 86,
    "start_time": "2022-06-11T14:08:28.079Z"
   },
   {
    "duration": 6,
    "start_time": "2022-06-11T14:08:39.077Z"
   },
   {
    "duration": 85,
    "start_time": "2022-06-11T14:08:39.568Z"
   },
   {
    "duration": 83,
    "start_time": "2022-06-11T14:11:02.279Z"
   },
   {
    "duration": 57,
    "start_time": "2022-06-11T14:11:02.786Z"
   },
   {
    "duration": 5685,
    "start_time": "2022-06-11T14:11:22.304Z"
   },
   {
    "duration": 5538,
    "start_time": "2022-06-11T14:11:55.081Z"
   },
   {
    "duration": 5838,
    "start_time": "2022-06-11T14:12:09.888Z"
   },
   {
    "duration": 2,
    "start_time": "2022-06-11T14:12:57.976Z"
   },
   {
    "duration": 6166,
    "start_time": "2022-06-11T14:13:33.045Z"
   },
   {
    "duration": 6049,
    "start_time": "2022-06-11T14:13:50.620Z"
   },
   {
    "duration": 5889,
    "start_time": "2022-06-11T14:14:14.034Z"
   },
   {
    "duration": 2,
    "start_time": "2022-06-11T14:16:05.395Z"
   },
   {
    "duration": 54,
    "start_time": "2022-06-11T14:16:45.259Z"
   },
   {
    "duration": 22,
    "start_time": "2022-06-11T14:16:55.383Z"
   },
   {
    "duration": 16,
    "start_time": "2022-06-11T14:17:24.896Z"
   },
   {
    "duration": 91,
    "start_time": "2022-06-11T14:17:44.612Z"
   },
   {
    "duration": 6114,
    "start_time": "2022-06-11T14:17:51.406Z"
   },
   {
    "duration": 83,
    "start_time": "2022-06-11T14:18:09.713Z"
   },
   {
    "duration": 6034,
    "start_time": "2022-06-11T14:18:10.176Z"
   },
   {
    "duration": 6209,
    "start_time": "2022-06-11T14:18:56.369Z"
   },
   {
    "duration": 2079,
    "start_time": "2022-06-11T14:19:17.155Z"
   },
   {
    "duration": 1944,
    "start_time": "2022-06-11T14:19:35.270Z"
   },
   {
    "duration": 1952,
    "start_time": "2022-06-11T14:19:57.654Z"
   },
   {
    "duration": 2187,
    "start_time": "2022-06-11T14:20:12.376Z"
   },
   {
    "duration": 10,
    "start_time": "2022-06-11T14:31:26.885Z"
   },
   {
    "duration": 1341,
    "start_time": "2022-06-11T14:31:43.339Z"
   },
   {
    "duration": 350,
    "start_time": "2022-06-11T14:31:45.478Z"
   },
   {
    "duration": 3,
    "start_time": "2022-06-11T14:31:45.957Z"
   },
   {
    "duration": 28,
    "start_time": "2022-06-11T14:31:46.249Z"
   },
   {
    "duration": 9,
    "start_time": "2022-06-11T14:31:46.495Z"
   },
   {
    "duration": 156,
    "start_time": "2022-06-11T14:31:46.745Z"
   },
   {
    "duration": 60,
    "start_time": "2022-06-11T14:31:46.963Z"
   },
   {
    "duration": 7,
    "start_time": "2022-06-11T14:31:48.100Z"
   },
   {
    "duration": 55,
    "start_time": "2022-06-11T14:31:48.644Z"
   },
   {
    "duration": 20,
    "start_time": "2022-06-11T14:31:49.217Z"
   },
   {
    "duration": 10,
    "start_time": "2022-06-11T14:31:50.117Z"
   },
   {
    "duration": 21,
    "start_time": "2022-06-11T14:31:50.696Z"
   },
   {
    "duration": 34,
    "start_time": "2022-06-11T14:31:51.306Z"
   },
   {
    "duration": 34,
    "start_time": "2022-06-11T14:31:51.550Z"
   },
   {
    "duration": 18,
    "start_time": "2022-06-11T14:31:51.893Z"
   },
   {
    "duration": 45,
    "start_time": "2022-06-11T14:31:52.235Z"
   },
   {
    "duration": 32,
    "start_time": "2022-06-11T14:31:52.639Z"
   },
   {
    "duration": 25,
    "start_time": "2022-06-11T14:31:53.026Z"
   },
   {
    "duration": 10,
    "start_time": "2022-06-11T14:31:54.285Z"
   },
   {
    "duration": 38,
    "start_time": "2022-06-11T14:31:54.612Z"
   },
   {
    "duration": 6,
    "start_time": "2022-06-11T14:31:56.688Z"
   },
   {
    "duration": 4,
    "start_time": "2022-06-11T14:31:57.230Z"
   },
   {
    "duration": 3,
    "start_time": "2022-06-11T14:31:58.026Z"
   },
   {
    "duration": 2647,
    "start_time": "2022-06-11T14:31:58.310Z"
   },
   {
    "duration": 5,
    "start_time": "2022-06-11T14:32:00.960Z"
   },
   {
    "duration": 4973,
    "start_time": "2022-06-11T14:32:00.967Z"
   },
   {
    "duration": 1160,
    "start_time": "2022-06-11T14:32:05.942Z"
   },
   {
    "duration": 2271,
    "start_time": "2022-06-11T14:32:07.104Z"
   },
   {
    "duration": 20,
    "start_time": "2022-06-11T14:32:09.380Z"
   },
   {
    "duration": 30,
    "start_time": "2022-06-11T14:32:09.402Z"
   },
   {
    "duration": 95,
    "start_time": "2022-06-11T14:32:09.433Z"
   },
   {
    "duration": 4,
    "start_time": "2022-06-11T14:32:09.529Z"
   },
   {
    "duration": 93,
    "start_time": "2022-06-11T14:32:09.536Z"
   },
   {
    "duration": 82,
    "start_time": "2022-06-11T14:32:09.631Z"
   },
   {
    "duration": 101,
    "start_time": "2022-06-11T14:32:09.716Z"
   },
   {
    "duration": 24,
    "start_time": "2022-06-11T14:32:09.819Z"
   },
   {
    "duration": 270,
    "start_time": "2022-06-11T14:32:09.844Z"
   },
   {
    "duration": 34,
    "start_time": "2022-06-11T14:32:11.429Z"
   },
   {
    "duration": 91,
    "start_time": "2022-06-11T14:32:12.327Z"
   },
   {
    "duration": 41,
    "start_time": "2022-06-11T14:32:13.297Z"
   },
   {
    "duration": 23,
    "start_time": "2022-06-11T14:32:13.714Z"
   },
   {
    "duration": 18,
    "start_time": "2022-06-11T14:32:14.595Z"
   },
   {
    "duration": 4,
    "start_time": "2022-06-11T14:32:15.438Z"
   },
   {
    "duration": 5,
    "start_time": "2022-06-11T14:32:15.836Z"
   },
   {
    "duration": 3,
    "start_time": "2022-06-11T14:32:16.592Z"
   },
   {
    "duration": 35,
    "start_time": "2022-06-11T14:32:17.850Z"
   },
   {
    "duration": 34,
    "start_time": "2022-06-11T14:32:18.511Z"
   },
   {
    "duration": 18,
    "start_time": "2022-06-11T14:32:19.090Z"
   },
   {
    "duration": 65,
    "start_time": "2022-06-11T14:32:19.312Z"
   },
   {
    "duration": 23,
    "start_time": "2022-06-11T14:32:20.525Z"
   },
   {
    "duration": 40,
    "start_time": "2022-06-11T14:32:20.786Z"
   },
   {
    "duration": 44,
    "start_time": "2022-06-11T14:32:21.053Z"
   },
   {
    "duration": 82,
    "start_time": "2022-06-11T14:32:21.737Z"
   },
   {
    "duration": 28,
    "start_time": "2022-06-11T14:32:23.270Z"
   },
   {
    "duration": 25,
    "start_time": "2022-06-11T14:32:23.707Z"
   },
   {
    "duration": 61,
    "start_time": "2022-06-11T14:32:24.336Z"
   },
   {
    "duration": 65,
    "start_time": "2022-06-11T14:32:24.987Z"
   },
   {
    "duration": 126,
    "start_time": "2022-06-11T14:32:25.282Z"
   },
   {
    "duration": 6,
    "start_time": "2022-06-11T14:32:26.310Z"
   },
   {
    "duration": 21,
    "start_time": "2022-06-11T14:32:26.590Z"
   },
   {
    "duration": 3,
    "start_time": "2022-06-11T14:32:27.824Z"
   },
   {
    "duration": 3,
    "start_time": "2022-06-11T14:32:28.349Z"
   },
   {
    "duration": 47,
    "start_time": "2022-06-11T14:32:29.504Z"
   },
   {
    "duration": 27,
    "start_time": "2022-06-11T14:32:30.695Z"
   },
   {
    "duration": 9,
    "start_time": "2022-06-11T14:32:31.009Z"
   },
   {
    "duration": 14,
    "start_time": "2022-06-11T14:32:35.444Z"
   },
   {
    "duration": 4,
    "start_time": "2022-06-11T14:32:38.889Z"
   },
   {
    "duration": 100,
    "start_time": "2022-06-11T14:33:03.685Z"
   },
   {
    "duration": 4,
    "start_time": "2022-06-11T14:33:30.403Z"
   },
   {
    "duration": 4694,
    "start_time": "2022-06-11T14:33:33.000Z"
   },
   {
    "duration": 1200,
    "start_time": "2022-06-11T14:33:45.718Z"
   },
   {
    "duration": 2403,
    "start_time": "2022-06-11T14:33:52.797Z"
   },
   {
    "duration": 7111,
    "start_time": "2022-06-11T14:34:18.931Z"
   },
   {
    "duration": 7216,
    "start_time": "2022-06-11T14:34:35.005Z"
   },
   {
    "duration": 8101,
    "start_time": "2022-06-11T14:34:57.093Z"
   },
   {
    "duration": 4,
    "start_time": "2022-06-11T14:50:32.899Z"
   },
   {
    "duration": 4,
    "start_time": "2022-06-11T14:50:33.489Z"
   },
   {
    "duration": 150,
    "start_time": "2022-06-11T14:56:33.832Z"
   },
   {
    "duration": 251,
    "start_time": "2022-06-11T14:57:39.898Z"
   },
   {
    "duration": 32,
    "start_time": "2022-06-11T14:58:22.598Z"
   },
   {
    "duration": 14730,
    "start_time": "2022-06-11T14:58:40.100Z"
   },
   {
    "duration": 15078,
    "start_time": "2022-06-11T14:59:15.378Z"
   },
   {
    "duration": 15351,
    "start_time": "2022-06-11T15:00:08.834Z"
   },
   {
    "duration": 5,
    "start_time": "2022-06-11T15:02:34.314Z"
   },
   {
    "duration": 15759,
    "start_time": "2022-06-11T15:02:39.508Z"
   },
   {
    "duration": 9,
    "start_time": "2022-06-11T15:03:03.801Z"
   },
   {
    "duration": 16104,
    "start_time": "2022-06-11T15:03:04.443Z"
   },
   {
    "duration": 18,
    "start_time": "2022-06-11T15:05:19.255Z"
   },
   {
    "duration": 16031,
    "start_time": "2022-06-11T15:05:20.025Z"
   },
   {
    "duration": 8,
    "start_time": "2022-06-11T15:05:53.449Z"
   },
   {
    "duration": 5563,
    "start_time": "2022-06-11T15:06:40.285Z"
   },
   {
    "duration": 100,
    "start_time": "2022-06-11T15:09:06.358Z"
   },
   {
    "duration": 14775,
    "start_time": "2022-06-11T15:09:24.139Z"
   },
   {
    "duration": 5715,
    "start_time": "2022-06-11T15:10:03.713Z"
   },
   {
    "duration": 45,
    "start_time": "2022-06-11T15:10:49.646Z"
   },
   {
    "duration": 19,
    "start_time": "2022-06-11T15:11:25.408Z"
   },
   {
    "duration": 1103,
    "start_time": "2022-06-11T15:11:40.729Z"
   },
   {
    "duration": 97,
    "start_time": "2022-06-11T15:15:38.427Z"
   },
   {
    "duration": 1348,
    "start_time": "2022-06-11T15:15:42.581Z"
   },
   {
    "duration": 5387,
    "start_time": "2022-06-11T15:16:24.855Z"
   },
   {
    "duration": 136,
    "start_time": "2022-06-11T15:17:31.052Z"
   },
   {
    "duration": 43,
    "start_time": "2022-06-11T15:17:35.177Z"
   },
   {
    "duration": 65,
    "start_time": "2022-06-11T15:17:39.248Z"
   },
   {
    "duration": 97,
    "start_time": "2022-06-11T15:17:53.453Z"
   },
   {
    "duration": 6,
    "start_time": "2022-06-11T15:19:10.757Z"
   },
   {
    "duration": 12,
    "start_time": "2022-06-11T15:19:11.511Z"
   },
   {
    "duration": 8,
    "start_time": "2022-06-11T15:20:02.893Z"
   },
   {
    "duration": 16344,
    "start_time": "2022-06-11T15:20:03.398Z"
   },
   {
    "duration": 6397,
    "start_time": "2022-06-11T15:20:19.745Z"
   },
   {
    "duration": 1691,
    "start_time": "2022-06-11T15:20:26.145Z"
   },
   {
    "duration": 1338,
    "start_time": "2022-06-11T15:41:20.277Z"
   },
   {
    "duration": 445,
    "start_time": "2022-06-11T15:41:21.617Z"
   },
   {
    "duration": 2,
    "start_time": "2022-06-11T15:41:22.065Z"
   },
   {
    "duration": 44,
    "start_time": "2022-06-11T15:41:22.069Z"
   },
   {
    "duration": 9,
    "start_time": "2022-06-11T15:41:22.115Z"
   },
   {
    "duration": 146,
    "start_time": "2022-06-11T15:41:22.126Z"
   },
   {
    "duration": 33,
    "start_time": "2022-06-11T15:41:22.317Z"
   },
   {
    "duration": 8,
    "start_time": "2022-06-11T15:41:24.520Z"
   },
   {
    "duration": 62,
    "start_time": "2022-06-11T15:41:25.340Z"
   },
   {
    "duration": 19,
    "start_time": "2022-06-11T15:41:25.996Z"
   },
   {
    "duration": 9,
    "start_time": "2022-06-11T15:41:27.116Z"
   },
   {
    "duration": 20,
    "start_time": "2022-06-11T15:41:27.641Z"
   },
   {
    "duration": 33,
    "start_time": "2022-06-11T15:41:28.192Z"
   },
   {
    "duration": 22,
    "start_time": "2022-06-11T15:41:28.477Z"
   },
   {
    "duration": 16,
    "start_time": "2022-06-11T15:41:28.788Z"
   },
   {
    "duration": 41,
    "start_time": "2022-06-11T15:41:29.031Z"
   },
   {
    "duration": 20,
    "start_time": "2022-06-11T15:41:29.289Z"
   },
   {
    "duration": 35,
    "start_time": "2022-06-11T15:41:29.549Z"
   },
   {
    "duration": 9,
    "start_time": "2022-06-11T15:41:30.497Z"
   },
   {
    "duration": 48,
    "start_time": "2022-06-11T15:41:30.773Z"
   },
   {
    "duration": 6,
    "start_time": "2022-06-11T15:41:32.211Z"
   },
   {
    "duration": 4,
    "start_time": "2022-06-11T15:41:32.648Z"
   },
   {
    "duration": 4,
    "start_time": "2022-06-11T15:41:33.284Z"
   },
   {
    "duration": 2790,
    "start_time": "2022-06-11T15:41:33.493Z"
   },
   {
    "duration": 4,
    "start_time": "2022-06-11T15:41:36.288Z"
   },
   {
    "duration": 4909,
    "start_time": "2022-06-11T15:41:36.294Z"
   },
   {
    "duration": 1182,
    "start_time": "2022-06-11T15:41:41.213Z"
   },
   {
    "duration": 2429,
    "start_time": "2022-06-11T15:41:42.397Z"
   },
   {
    "duration": 16,
    "start_time": "2022-06-11T15:41:44.828Z"
   },
   {
    "duration": 40,
    "start_time": "2022-06-11T15:41:44.845Z"
   },
   {
    "duration": 86,
    "start_time": "2022-06-11T15:41:44.887Z"
   },
   {
    "duration": 7,
    "start_time": "2022-06-11T15:41:44.977Z"
   },
   {
    "duration": 238,
    "start_time": "2022-06-11T15:41:44.990Z"
   },
   {
    "duration": 74,
    "start_time": "2022-06-11T15:41:45.230Z"
   },
   {
    "duration": 82,
    "start_time": "2022-06-11T15:41:45.306Z"
   },
   {
    "duration": 22,
    "start_time": "2022-06-11T15:41:45.390Z"
   },
   {
    "duration": 253,
    "start_time": "2022-06-11T15:41:45.414Z"
   },
   {
    "duration": 37,
    "start_time": "2022-06-11T15:41:45.670Z"
   },
   {
    "duration": 106,
    "start_time": "2022-06-11T15:41:45.708Z"
   },
   {
    "duration": 60,
    "start_time": "2022-06-11T15:41:45.815Z"
   },
   {
    "duration": 25,
    "start_time": "2022-06-11T15:41:45.877Z"
   },
   {
    "duration": 17,
    "start_time": "2022-06-11T15:41:45.905Z"
   },
   {
    "duration": 5,
    "start_time": "2022-06-11T15:41:45.924Z"
   },
   {
    "duration": 4,
    "start_time": "2022-06-11T15:41:45.939Z"
   },
   {
    "duration": 2,
    "start_time": "2022-06-11T15:41:46.389Z"
   },
   {
    "duration": 22,
    "start_time": "2022-06-11T15:41:47.116Z"
   },
   {
    "duration": 33,
    "start_time": "2022-06-11T15:41:47.589Z"
   },
   {
    "duration": 17,
    "start_time": "2022-06-11T15:41:48.083Z"
   },
   {
    "duration": 56,
    "start_time": "2022-06-11T15:41:48.281Z"
   },
   {
    "duration": 35,
    "start_time": "2022-06-11T15:41:49.975Z"
   },
   {
    "duration": 58,
    "start_time": "2022-06-11T15:41:50.155Z"
   },
   {
    "duration": 57,
    "start_time": "2022-06-11T15:41:50.343Z"
   },
   {
    "duration": 79,
    "start_time": "2022-06-11T15:41:50.838Z"
   },
   {
    "duration": 20,
    "start_time": "2022-06-11T15:41:51.802Z"
   },
   {
    "duration": 29,
    "start_time": "2022-06-11T15:41:52.122Z"
   },
   {
    "duration": 39,
    "start_time": "2022-06-11T15:41:52.596Z"
   },
   {
    "duration": 65,
    "start_time": "2022-06-11T15:41:53.102Z"
   },
   {
    "duration": 130,
    "start_time": "2022-06-11T15:41:53.340Z"
   },
   {
    "duration": 9,
    "start_time": "2022-06-11T15:41:54.785Z"
   },
   {
    "duration": 25,
    "start_time": "2022-06-11T15:41:55.125Z"
   },
   {
    "duration": 2,
    "start_time": "2022-06-11T15:41:55.885Z"
   },
   {
    "duration": 3,
    "start_time": "2022-06-11T15:41:56.381Z"
   },
   {
    "duration": 63,
    "start_time": "2022-06-11T15:41:57.032Z"
   },
   {
    "duration": 21,
    "start_time": "2022-06-11T15:41:57.993Z"
   },
   {
    "duration": 9,
    "start_time": "2022-06-11T15:41:58.228Z"
   },
   {
    "duration": 14,
    "start_time": "2022-06-11T15:41:58.485Z"
   },
   {
    "duration": 3,
    "start_time": "2022-06-11T15:42:00.512Z"
   },
   {
    "duration": 94,
    "start_time": "2022-06-11T15:42:00.955Z"
   },
   {
    "duration": 4,
    "start_time": "2022-06-11T15:42:01.381Z"
   },
   {
    "duration": 185,
    "start_time": "2022-06-11T15:42:02.332Z"
   },
   {
    "duration": 8,
    "start_time": "2022-06-11T15:42:39.055Z"
   },
   {
    "duration": 13416,
    "start_time": "2022-06-11T15:42:39.534Z"
   },
   {
    "duration": 5034,
    "start_time": "2022-06-11T15:42:52.953Z"
   },
   {
    "duration": 3,
    "start_time": "2022-06-11T15:42:57.989Z"
   },
   {
    "duration": 7,
    "start_time": "2022-06-11T15:42:57.995Z"
   },
   {
    "duration": 7,
    "start_time": "2022-06-11T15:42:58.004Z"
   },
   {
    "duration": 8,
    "start_time": "2022-06-11T15:42:58.013Z"
   },
   {
    "duration": 6,
    "start_time": "2022-06-11T15:42:58.023Z"
   },
   {
    "duration": 6,
    "start_time": "2022-06-11T15:42:58.031Z"
   },
   {
    "duration": 25,
    "start_time": "2022-06-11T15:42:58.039Z"
   },
   {
    "duration": 44,
    "start_time": "2022-06-11T15:42:58.067Z"
   },
   {
    "duration": 59,
    "start_time": "2022-06-11T15:42:58.113Z"
   },
   {
    "duration": 34,
    "start_time": "2022-06-11T15:42:58.174Z"
   },
   {
    "duration": 70,
    "start_time": "2022-06-11T15:42:58.210Z"
   },
   {
    "duration": 39,
    "start_time": "2022-06-11T15:42:59.496Z"
   },
   {
    "duration": 21,
    "start_time": "2022-06-11T15:43:00.980Z"
   },
   {
    "duration": 6,
    "start_time": "2022-06-11T15:43:05.330Z"
   },
   {
    "duration": 6,
    "start_time": "2022-06-11T15:43:06.447Z"
   },
   {
    "duration": 26,
    "start_time": "2022-06-11T15:43:09.238Z"
   },
   {
    "duration": 17,
    "start_time": "2022-06-11T15:43:10.491Z"
   },
   {
    "duration": 5,
    "start_time": "2022-06-11T15:43:12.813Z"
   },
   {
    "duration": 1293,
    "start_time": "2022-06-12T08:51:42.485Z"
   },
   {
    "duration": 227,
    "start_time": "2022-06-12T08:51:43.780Z"
   },
   {
    "duration": 3,
    "start_time": "2022-06-12T08:51:44.009Z"
   },
   {
    "duration": 24,
    "start_time": "2022-06-12T08:51:44.015Z"
   },
   {
    "duration": 8,
    "start_time": "2022-06-12T08:51:44.040Z"
   },
   {
    "duration": 130,
    "start_time": "2022-06-12T08:51:44.065Z"
   },
   {
    "duration": 29,
    "start_time": "2022-06-12T08:51:44.197Z"
   },
   {
    "duration": 7,
    "start_time": "2022-06-12T08:51:44.227Z"
   },
   {
    "duration": 33,
    "start_time": "2022-06-12T08:51:44.265Z"
   },
   {
    "duration": 18,
    "start_time": "2022-06-12T08:51:44.301Z"
   },
   {
    "duration": 7,
    "start_time": "2022-06-12T08:51:44.321Z"
   },
   {
    "duration": 22,
    "start_time": "2022-06-12T08:51:44.365Z"
   },
   {
    "duration": 35,
    "start_time": "2022-06-12T08:51:44.389Z"
   },
   {
    "duration": 45,
    "start_time": "2022-06-12T08:51:44.426Z"
   },
   {
    "duration": 17,
    "start_time": "2022-06-12T08:51:44.473Z"
   },
   {
    "duration": 46,
    "start_time": "2022-06-12T08:51:44.492Z"
   },
   {
    "duration": 39,
    "start_time": "2022-06-12T08:51:44.539Z"
   },
   {
    "duration": 23,
    "start_time": "2022-06-12T08:51:44.580Z"
   },
   {
    "duration": 11,
    "start_time": "2022-06-12T08:51:44.605Z"
   },
   {
    "duration": 57,
    "start_time": "2022-06-12T08:51:44.618Z"
   },
   {
    "duration": 6,
    "start_time": "2022-06-12T08:51:44.677Z"
   },
   {
    "duration": 7,
    "start_time": "2022-06-12T08:51:44.684Z"
   },
   {
    "duration": 9,
    "start_time": "2022-06-12T08:51:44.692Z"
   },
   {
    "duration": 2240,
    "start_time": "2022-06-12T08:51:44.702Z"
   },
   {
    "duration": 20,
    "start_time": "2022-06-12T08:51:46.945Z"
   },
   {
    "duration": 4514,
    "start_time": "2022-06-12T08:51:46.967Z"
   },
   {
    "duration": 1122,
    "start_time": "2022-06-12T08:51:51.483Z"
   },
   {
    "duration": 2142,
    "start_time": "2022-06-12T08:51:52.612Z"
   },
   {
    "duration": 18,
    "start_time": "2022-06-12T08:51:54.755Z"
   },
   {
    "duration": 22,
    "start_time": "2022-06-12T08:51:54.775Z"
   },
   {
    "duration": 96,
    "start_time": "2022-06-12T08:51:54.798Z"
   },
   {
    "duration": 5,
    "start_time": "2022-06-12T08:51:54.896Z"
   },
   {
    "duration": 124,
    "start_time": "2022-06-12T08:51:54.903Z"
   },
   {
    "duration": 56,
    "start_time": "2022-06-12T08:51:55.029Z"
   },
   {
    "duration": 84,
    "start_time": "2022-06-12T08:51:55.087Z"
   },
   {
    "duration": 22,
    "start_time": "2022-06-12T08:51:55.172Z"
   },
   {
    "duration": 149,
    "start_time": "2022-06-12T08:51:55.196Z"
   },
   {
    "duration": 44,
    "start_time": "2022-06-12T08:51:55.348Z"
   },
   {
    "duration": 103,
    "start_time": "2022-06-12T08:51:55.394Z"
   },
   {
    "duration": 37,
    "start_time": "2022-06-12T08:51:55.499Z"
   },
   {
    "duration": 43,
    "start_time": "2022-06-12T08:51:55.538Z"
   },
   {
    "duration": 27,
    "start_time": "2022-06-12T08:51:55.582Z"
   },
   {
    "duration": 3,
    "start_time": "2022-06-12T08:51:55.611Z"
   },
   {
    "duration": 9,
    "start_time": "2022-06-12T08:51:55.616Z"
   },
   {
    "duration": 6,
    "start_time": "2022-06-12T08:51:55.627Z"
   },
   {
    "duration": 52,
    "start_time": "2022-06-12T08:51:55.635Z"
   },
   {
    "duration": 33,
    "start_time": "2022-06-12T08:51:55.689Z"
   },
   {
    "duration": 17,
    "start_time": "2022-06-12T08:51:55.724Z"
   },
   {
    "duration": 54,
    "start_time": "2022-06-12T08:51:55.765Z"
   },
   {
    "duration": 19,
    "start_time": "2022-06-12T08:51:55.821Z"
   },
   {
    "duration": 50,
    "start_time": "2022-06-12T08:51:55.842Z"
   },
   {
    "duration": 32,
    "start_time": "2022-06-12T08:51:55.894Z"
   },
   {
    "duration": 77,
    "start_time": "2022-06-12T08:51:55.928Z"
   },
   {
    "duration": 17,
    "start_time": "2022-06-12T08:51:56.008Z"
   },
   {
    "duration": 48,
    "start_time": "2022-06-12T08:51:56.028Z"
   },
   {
    "duration": 35,
    "start_time": "2022-06-12T08:51:56.079Z"
   },
   {
    "duration": 73,
    "start_time": "2022-06-12T08:51:56.116Z"
   },
   {
    "duration": 101,
    "start_time": "2022-06-12T08:51:56.190Z"
   },
   {
    "duration": 4,
    "start_time": "2022-06-12T08:51:56.293Z"
   },
   {
    "duration": 30,
    "start_time": "2022-06-12T08:51:56.298Z"
   },
   {
    "duration": 2,
    "start_time": "2022-06-12T08:51:56.330Z"
   },
   {
    "duration": 7,
    "start_time": "2022-06-12T08:51:56.334Z"
   },
   {
    "duration": 59,
    "start_time": "2022-06-12T08:51:56.342Z"
   },
   {
    "duration": 19,
    "start_time": "2022-06-12T08:51:56.403Z"
   },
   {
    "duration": 7,
    "start_time": "2022-06-12T08:51:56.424Z"
   },
   {
    "duration": 34,
    "start_time": "2022-06-12T08:51:56.432Z"
   },
   {
    "duration": 3,
    "start_time": "2022-06-12T08:51:56.467Z"
   },
   {
    "duration": 77,
    "start_time": "2022-06-12T08:51:56.472Z"
   },
   {
    "duration": 4,
    "start_time": "2022-06-12T08:51:56.564Z"
   },
   {
    "duration": 12390,
    "start_time": "2022-06-12T08:51:56.570Z"
   },
   {
    "duration": 4851,
    "start_time": "2022-06-12T08:52:08.964Z"
   },
   {
    "duration": 2,
    "start_time": "2022-06-12T08:52:13.818Z"
   },
   {
    "duration": 8,
    "start_time": "2022-06-12T08:52:13.823Z"
   },
   {
    "duration": 7,
    "start_time": "2022-06-12T08:52:13.833Z"
   },
   {
    "duration": 23,
    "start_time": "2022-06-12T08:52:13.843Z"
   },
   {
    "duration": 8,
    "start_time": "2022-06-12T08:52:13.869Z"
   },
   {
    "duration": 9,
    "start_time": "2022-06-12T08:52:13.879Z"
   },
   {
    "duration": 6,
    "start_time": "2022-06-12T08:52:13.890Z"
   },
   {
    "duration": 31,
    "start_time": "2022-06-12T08:52:13.898Z"
   },
   {
    "duration": 74,
    "start_time": "2022-06-12T08:52:13.931Z"
   },
   {
    "duration": 4510,
    "start_time": "2022-06-12T08:52:14.007Z"
   },
   {
    "duration": 60,
    "start_time": "2022-06-12T08:52:18.525Z"
   },
   {
    "duration": 63,
    "start_time": "2022-06-12T08:52:18.587Z"
   },
   {
    "duration": 57,
    "start_time": "2022-06-12T08:52:18.652Z"
   },
   {
    "duration": 22,
    "start_time": "2022-06-12T08:52:18.711Z"
   },
   {
    "duration": 32,
    "start_time": "2022-06-12T08:52:18.735Z"
   },
   {
    "duration": 34,
    "start_time": "2022-06-12T08:52:18.770Z"
   },
   {
    "duration": 42,
    "start_time": "2022-06-12T08:52:18.806Z"
   },
   {
    "duration": 33,
    "start_time": "2022-06-12T08:52:18.851Z"
   },
   {
    "duration": 33,
    "start_time": "2022-06-12T08:52:18.887Z"
   },
   {
    "duration": 20,
    "start_time": "2022-06-12T08:52:18.923Z"
   },
   {
    "duration": 1243,
    "start_time": "2022-06-12T11:46:43.517Z"
   },
   {
    "duration": 405,
    "start_time": "2022-06-12T11:46:45.566Z"
   },
   {
    "duration": 3,
    "start_time": "2022-06-12T11:46:45.973Z"
   },
   {
    "duration": 15,
    "start_time": "2022-06-12T11:46:45.990Z"
   },
   {
    "duration": 5,
    "start_time": "2022-06-12T11:46:46.210Z"
   },
   {
    "duration": 87,
    "start_time": "2022-06-12T11:46:46.487Z"
   },
   {
    "duration": 33,
    "start_time": "2022-06-12T11:46:46.624Z"
   },
   {
    "duration": 6,
    "start_time": "2022-06-12T11:46:47.614Z"
   },
   {
    "duration": 31,
    "start_time": "2022-06-12T11:46:47.996Z"
   },
   {
    "duration": 15,
    "start_time": "2022-06-12T11:46:48.324Z"
   },
   {
    "duration": 8,
    "start_time": "2022-06-12T11:46:48.847Z"
   },
   {
    "duration": 17,
    "start_time": "2022-06-12T11:46:49.207Z"
   },
   {
    "duration": 29,
    "start_time": "2022-06-12T11:46:49.594Z"
   },
   {
    "duration": 16,
    "start_time": "2022-06-12T11:46:49.817Z"
   },
   {
    "duration": 12,
    "start_time": "2022-06-12T11:46:50.075Z"
   },
   {
    "duration": 30,
    "start_time": "2022-06-12T11:46:50.311Z"
   },
   {
    "duration": 17,
    "start_time": "2022-06-12T11:46:50.499Z"
   },
   {
    "duration": 17,
    "start_time": "2022-06-12T11:46:50.711Z"
   },
   {
    "duration": 8,
    "start_time": "2022-06-12T11:46:51.200Z"
   },
   {
    "duration": 30,
    "start_time": "2022-06-12T11:46:51.359Z"
   },
   {
    "duration": 4,
    "start_time": "2022-06-12T11:46:52.651Z"
   },
   {
    "duration": 4,
    "start_time": "2022-06-12T11:46:53.020Z"
   },
   {
    "duration": 3,
    "start_time": "2022-06-12T11:46:53.536Z"
   },
   {
    "duration": 1950,
    "start_time": "2022-06-12T11:46:53.696Z"
   },
   {
    "duration": 4,
    "start_time": "2022-06-12T11:46:55.648Z"
   },
   {
    "duration": 3810,
    "start_time": "2022-06-12T11:46:55.653Z"
   },
   {
    "duration": 982,
    "start_time": "2022-06-12T11:46:59.465Z"
   },
   {
    "duration": 1815,
    "start_time": "2022-06-12T11:47:00.448Z"
   },
   {
    "duration": 12,
    "start_time": "2022-06-12T11:47:02.264Z"
   },
   {
    "duration": 14,
    "start_time": "2022-06-12T11:47:02.277Z"
   },
   {
    "duration": 171,
    "start_time": "2022-06-12T11:47:02.292Z"
   },
   {
    "duration": 3,
    "start_time": "2022-06-12T11:47:02.464Z"
   },
   {
    "duration": 66,
    "start_time": "2022-06-12T11:47:02.469Z"
   },
   {
    "duration": 47,
    "start_time": "2022-06-12T11:47:02.537Z"
   },
   {
    "duration": 74,
    "start_time": "2022-06-12T11:47:02.585Z"
   },
   {
    "duration": 18,
    "start_time": "2022-06-12T11:47:02.661Z"
   },
   {
    "duration": 85,
    "start_time": "2022-06-12T11:47:02.680Z"
   },
   {
    "duration": 32,
    "start_time": "2022-06-12T11:47:02.766Z"
   },
   {
    "duration": 80,
    "start_time": "2022-06-12T11:47:02.799Z"
   },
   {
    "duration": 48,
    "start_time": "2022-06-12T11:47:02.880Z"
   },
   {
    "duration": 18,
    "start_time": "2022-06-12T11:47:03.148Z"
   },
   {
    "duration": 16,
    "start_time": "2022-06-12T11:47:03.602Z"
   },
   {
    "duration": 4,
    "start_time": "2022-06-12T11:47:03.944Z"
   },
   {
    "duration": 4,
    "start_time": "2022-06-12T11:47:04.644Z"
   },
   {
    "duration": 2,
    "start_time": "2022-06-12T11:47:05.543Z"
   },
   {
    "duration": 22,
    "start_time": "2022-06-12T11:47:07.686Z"
   },
   {
    "duration": 31,
    "start_time": "2022-06-12T11:47:08.287Z"
   },
   {
    "duration": 16,
    "start_time": "2022-06-12T11:47:09.036Z"
   },
   {
    "duration": 47,
    "start_time": "2022-06-12T11:47:09.359Z"
   },
   {
    "duration": 20,
    "start_time": "2022-06-12T11:47:10.702Z"
   },
   {
    "duration": 35,
    "start_time": "2022-06-12T11:47:10.933Z"
   },
   {
    "duration": 25,
    "start_time": "2022-06-12T11:47:11.150Z"
   },
   {
    "duration": 55,
    "start_time": "2022-06-12T11:47:11.559Z"
   },
   {
    "duration": 11,
    "start_time": "2022-06-12T11:47:12.404Z"
   },
   {
    "duration": 19,
    "start_time": "2022-06-12T11:47:12.591Z"
   },
   {
    "duration": 33,
    "start_time": "2022-06-12T11:47:12.947Z"
   },
   {
    "duration": 57,
    "start_time": "2022-06-12T11:47:13.329Z"
   },
   {
    "duration": 107,
    "start_time": "2022-06-12T11:47:13.801Z"
   },
   {
    "duration": 4,
    "start_time": "2022-06-12T11:47:14.523Z"
   },
   {
    "duration": 19,
    "start_time": "2022-06-12T11:47:14.740Z"
   },
   {
    "duration": 2,
    "start_time": "2022-06-12T11:47:15.384Z"
   },
   {
    "duration": 2,
    "start_time": "2022-06-12T11:47:16.298Z"
   },
   {
    "duration": 41,
    "start_time": "2022-06-12T11:47:16.969Z"
   },
   {
    "duration": 17,
    "start_time": "2022-06-12T11:47:17.831Z"
   },
   {
    "duration": 7,
    "start_time": "2022-06-12T11:47:18.036Z"
   },
   {
    "duration": 12,
    "start_time": "2022-06-12T11:47:18.235Z"
   },
   {
    "duration": 2,
    "start_time": "2022-06-12T11:47:19.500Z"
   },
   {
    "duration": 66,
    "start_time": "2022-06-12T11:47:19.817Z"
   },
   {
    "duration": 3,
    "start_time": "2022-06-12T11:47:20.300Z"
   },
   {
    "duration": 9683,
    "start_time": "2022-06-12T11:47:21.307Z"
   },
   {
    "duration": 3745,
    "start_time": "2022-06-12T11:47:30.992Z"
   },
   {
    "duration": 3,
    "start_time": "2022-06-12T11:47:40.966Z"
   },
   {
    "duration": 3,
    "start_time": "2022-06-12T11:47:41.274Z"
   },
   {
    "duration": 2,
    "start_time": "2022-06-12T11:47:41.479Z"
   },
   {
    "duration": 2,
    "start_time": "2022-06-12T11:47:42.009Z"
   },
   {
    "duration": 4,
    "start_time": "2022-06-12T11:47:42.214Z"
   },
   {
    "duration": 2,
    "start_time": "2022-06-12T11:47:42.413Z"
   },
   {
    "duration": 2,
    "start_time": "2022-06-12T11:47:42.600Z"
   },
   {
    "duration": 18,
    "start_time": "2022-06-12T11:47:45.470Z"
   },
   {
    "duration": 41,
    "start_time": "2022-06-12T11:47:45.982Z"
   },
   {
    "duration": 3627,
    "start_time": "2022-06-12T11:47:46.394Z"
   },
   {
    "duration": 26,
    "start_time": "2022-06-12T11:47:50.025Z"
   },
   {
    "duration": 40,
    "start_time": "2022-06-12T11:47:50.052Z"
   },
   {
    "duration": 37,
    "start_time": "2022-06-12T11:48:06.770Z"
   },
   {
    "duration": 17,
    "start_time": "2022-06-12T11:48:08.831Z"
   },
   {
    "duration": 19,
    "start_time": "2022-06-12T11:50:18.253Z"
   },
   {
    "duration": 6,
    "start_time": "2022-06-12T11:50:32.201Z"
   },
   {
    "duration": 6,
    "start_time": "2022-06-12T11:50:42.011Z"
   },
   {
    "duration": 149,
    "start_time": "2022-06-12T11:50:55.118Z"
   },
   {
    "duration": 19,
    "start_time": "2022-06-12T11:51:07.099Z"
   },
   {
    "duration": 6,
    "start_time": "2022-06-12T11:51:28.296Z"
   },
   {
    "duration": 8,
    "start_time": "2022-06-12T11:52:04.955Z"
   },
   {
    "duration": 26,
    "start_time": "2022-06-12T11:53:44.591Z"
   },
   {
    "duration": 10,
    "start_time": "2022-06-12T11:54:36.612Z"
   },
   {
    "duration": 9,
    "start_time": "2022-06-12T11:54:43.984Z"
   },
   {
    "duration": 10,
    "start_time": "2022-06-12T11:56:03.038Z"
   },
   {
    "duration": 15,
    "start_time": "2022-06-12T11:56:48.299Z"
   },
   {
    "duration": 14,
    "start_time": "2022-06-12T11:57:24.857Z"
   },
   {
    "duration": 9,
    "start_time": "2022-06-12T11:57:40.522Z"
   },
   {
    "duration": 22,
    "start_time": "2022-06-12T11:58:18.718Z"
   },
   {
    "duration": 489,
    "start_time": "2022-06-12T11:58:49.234Z"
   },
   {
    "duration": 17,
    "start_time": "2022-06-12T11:59:06.027Z"
   },
   {
    "duration": 19,
    "start_time": "2022-06-12T11:59:20.579Z"
   },
   {
    "duration": 20,
    "start_time": "2022-06-12T11:59:30.707Z"
   },
   {
    "duration": 23,
    "start_time": "2022-06-12T11:59:45.555Z"
   },
   {
    "duration": 134,
    "start_time": "2022-06-12T12:00:16.378Z"
   },
   {
    "duration": 15,
    "start_time": "2022-06-12T12:00:49.657Z"
   },
   {
    "duration": 23,
    "start_time": "2022-06-12T12:01:10.241Z"
   },
   {
    "duration": 26,
    "start_time": "2022-06-12T12:02:18.647Z"
   },
   {
    "duration": 11,
    "start_time": "2022-06-12T12:04:44.462Z"
   },
   {
    "duration": 5,
    "start_time": "2022-06-12T12:05:40.578Z"
   },
   {
    "duration": 5,
    "start_time": "2022-06-12T12:05:49.284Z"
   },
   {
    "duration": 10,
    "start_time": "2022-06-12T12:07:37.932Z"
   },
   {
    "duration": 11,
    "start_time": "2022-06-12T12:08:06.297Z"
   },
   {
    "duration": 9,
    "start_time": "2022-06-12T12:08:18.072Z"
   },
   {
    "duration": 4,
    "start_time": "2022-06-12T12:08:44.082Z"
   },
   {
    "duration": 19,
    "start_time": "2022-06-12T12:09:17.672Z"
   },
   {
    "duration": 3,
    "start_time": "2022-06-12T12:09:53.100Z"
   },
   {
    "duration": 5,
    "start_time": "2022-06-12T12:12:21.889Z"
   },
   {
    "duration": 30,
    "start_time": "2022-06-12T12:13:06.843Z"
   },
   {
    "duration": 26,
    "start_time": "2022-06-12T12:13:44.526Z"
   },
   {
    "duration": 22,
    "start_time": "2022-06-12T12:14:06.031Z"
   },
   {
    "duration": 19,
    "start_time": "2022-06-12T12:14:15.157Z"
   },
   {
    "duration": 20,
    "start_time": "2022-06-12T12:14:43.306Z"
   },
   {
    "duration": 21,
    "start_time": "2022-06-12T12:14:59.894Z"
   },
   {
    "duration": 20,
    "start_time": "2022-06-12T12:15:03.890Z"
   },
   {
    "duration": 448,
    "start_time": "2022-06-12T12:15:11.362Z"
   },
   {
    "duration": 1124,
    "start_time": "2022-06-12T12:15:37.371Z"
   },
   {
    "duration": 380,
    "start_time": "2022-06-12T12:15:39.113Z"
   },
   {
    "duration": 3,
    "start_time": "2022-06-12T12:15:39.495Z"
   },
   {
    "duration": 39,
    "start_time": "2022-06-12T12:15:39.500Z"
   },
   {
    "duration": 8,
    "start_time": "2022-06-12T12:15:39.730Z"
   },
   {
    "duration": 150,
    "start_time": "2022-06-12T12:15:39.830Z"
   },
   {
    "duration": 63,
    "start_time": "2022-06-12T12:15:39.982Z"
   },
   {
    "duration": 8,
    "start_time": "2022-06-12T12:15:41.885Z"
   },
   {
    "duration": 39,
    "start_time": "2022-06-12T12:15:42.252Z"
   },
   {
    "duration": 16,
    "start_time": "2022-06-12T12:15:42.540Z"
   },
   {
    "duration": 9,
    "start_time": "2022-06-12T12:15:42.939Z"
   },
   {
    "duration": 27,
    "start_time": "2022-06-12T12:15:43.312Z"
   },
   {
    "duration": 31,
    "start_time": "2022-06-12T12:15:43.617Z"
   },
   {
    "duration": 25,
    "start_time": "2022-06-12T12:15:43.723Z"
   },
   {
    "duration": 14,
    "start_time": "2022-06-12T12:15:43.926Z"
   },
   {
    "duration": 37,
    "start_time": "2022-06-12T12:15:44.027Z"
   },
   {
    "duration": 25,
    "start_time": "2022-06-12T12:15:44.163Z"
   },
   {
    "duration": 26,
    "start_time": "2022-06-12T12:15:44.335Z"
   },
   {
    "duration": 11,
    "start_time": "2022-06-12T12:15:45.129Z"
   },
   {
    "duration": 44,
    "start_time": "2022-06-12T12:15:45.301Z"
   },
   {
    "duration": 5,
    "start_time": "2022-06-12T12:15:46.291Z"
   },
   {
    "duration": 5,
    "start_time": "2022-06-12T12:15:46.801Z"
   },
   {
    "duration": 3,
    "start_time": "2022-06-12T12:15:47.288Z"
   },
   {
    "duration": 2271,
    "start_time": "2022-06-12T12:15:47.510Z"
   },
   {
    "duration": 4,
    "start_time": "2022-06-12T12:15:49.785Z"
   },
   {
    "duration": 4087,
    "start_time": "2022-06-12T12:15:49.790Z"
   },
   {
    "duration": 991,
    "start_time": "2022-06-12T12:15:53.879Z"
   },
   {
    "duration": 2088,
    "start_time": "2022-06-12T12:15:54.872Z"
   },
   {
    "duration": 19,
    "start_time": "2022-06-12T12:15:56.962Z"
   },
   {
    "duration": 14,
    "start_time": "2022-06-12T12:15:56.983Z"
   },
   {
    "duration": 85,
    "start_time": "2022-06-12T12:15:56.999Z"
   },
   {
    "duration": 38,
    "start_time": "2022-06-12T12:16:21.097Z"
   },
   {
    "duration": 194,
    "start_time": "2022-06-12T12:16:22.019Z"
   },
   {
    "duration": 37,
    "start_time": "2022-06-12T12:16:22.339Z"
   },
   {
    "duration": 22,
    "start_time": "2022-06-12T12:16:22.941Z"
   },
   {
    "duration": 19,
    "start_time": "2022-06-12T12:16:23.067Z"
   },
   {
    "duration": 4,
    "start_time": "2022-06-12T12:16:23.752Z"
   },
   {
    "duration": 4,
    "start_time": "2022-06-12T12:16:23.912Z"
   },
   {
    "duration": 2,
    "start_time": "2022-06-12T12:16:24.248Z"
   },
   {
    "duration": 23,
    "start_time": "2022-06-12T12:16:25.180Z"
   },
   {
    "duration": 33,
    "start_time": "2022-06-12T12:16:25.860Z"
   },
   {
    "duration": 26,
    "start_time": "2022-06-12T12:16:26.643Z"
   },
   {
    "duration": 55,
    "start_time": "2022-06-12T12:16:26.863Z"
   },
   {
    "duration": 21,
    "start_time": "2022-06-12T12:16:27.917Z"
   },
   {
    "duration": 37,
    "start_time": "2022-06-12T12:16:28.107Z"
   },
   {
    "duration": 38,
    "start_time": "2022-06-12T12:16:28.290Z"
   },
   {
    "duration": 64,
    "start_time": "2022-06-12T12:16:28.686Z"
   },
   {
    "duration": 11,
    "start_time": "2022-06-12T12:16:29.440Z"
   },
   {
    "duration": 19,
    "start_time": "2022-06-12T12:16:29.616Z"
   },
   {
    "duration": 39,
    "start_time": "2022-06-12T12:16:30.030Z"
   },
   {
    "duration": 66,
    "start_time": "2022-06-12T12:16:31.560Z"
   },
   {
    "duration": 118,
    "start_time": "2022-06-12T12:16:31.629Z"
   },
   {
    "duration": 6,
    "start_time": "2022-06-12T12:16:31.749Z"
   },
   {
    "duration": 32,
    "start_time": "2022-06-12T12:16:31.757Z"
   },
   {
    "duration": 3,
    "start_time": "2022-06-12T12:16:32.179Z"
   },
   {
    "duration": 3,
    "start_time": "2022-06-12T12:16:32.584Z"
   },
   {
    "duration": 45,
    "start_time": "2022-06-12T12:16:33.185Z"
   },
   {
    "duration": 24,
    "start_time": "2022-06-12T12:16:33.960Z"
   },
   {
    "duration": 8,
    "start_time": "2022-06-12T12:16:34.167Z"
   },
   {
    "duration": 14,
    "start_time": "2022-06-12T12:16:34.356Z"
   },
   {
    "duration": 2,
    "start_time": "2022-06-12T12:16:35.409Z"
   },
   {
    "duration": 78,
    "start_time": "2022-06-12T12:16:35.640Z"
   },
   {
    "duration": 6,
    "start_time": "2022-06-12T12:16:35.873Z"
   },
   {
    "duration": 10411,
    "start_time": "2022-06-12T12:16:36.151Z"
   },
   {
    "duration": 4204,
    "start_time": "2022-06-12T12:16:46.564Z"
   },
   {
    "duration": 5,
    "start_time": "2022-06-12T12:16:50.770Z"
   },
   {
    "duration": 25,
    "start_time": "2022-06-12T12:16:50.777Z"
   },
   {
    "duration": 9,
    "start_time": "2022-06-12T12:16:50.804Z"
   },
   {
    "duration": 17,
    "start_time": "2022-06-12T12:16:50.814Z"
   },
   {
    "duration": 7,
    "start_time": "2022-06-12T12:16:50.833Z"
   },
   {
    "duration": 8,
    "start_time": "2022-06-12T12:16:50.842Z"
   },
   {
    "duration": 6,
    "start_time": "2022-06-12T12:16:50.852Z"
   },
   {
    "duration": 32,
    "start_time": "2022-06-12T12:16:50.860Z"
   },
   {
    "duration": 53,
    "start_time": "2022-06-12T12:16:50.894Z"
   },
   {
    "duration": 3540,
    "start_time": "2022-06-12T12:16:50.948Z"
   },
   {
    "duration": 39,
    "start_time": "2022-06-12T12:16:54.489Z"
   },
   {
    "duration": 54,
    "start_time": "2022-06-12T12:17:08.203Z"
   },
   {
    "duration": 28,
    "start_time": "2022-06-12T12:17:34.929Z"
   },
   {
    "duration": 24,
    "start_time": "2022-06-12T12:17:38.103Z"
   },
   {
    "duration": 5,
    "start_time": "2022-06-12T12:17:42.607Z"
   },
   {
    "duration": 5,
    "start_time": "2022-06-12T12:17:50.394Z"
   },
   {
    "duration": 10,
    "start_time": "2022-06-12T12:18:35.549Z"
   },
   {
    "duration": 7,
    "start_time": "2022-06-12T12:18:40.261Z"
   },
   {
    "duration": 12,
    "start_time": "2022-06-12T12:19:21.835Z"
   },
   {
    "duration": 7,
    "start_time": "2022-06-12T12:21:33.115Z"
   },
   {
    "duration": 11,
    "start_time": "2022-06-12T12:21:43.968Z"
   },
   {
    "duration": 9,
    "start_time": "2022-06-12T12:23:59.958Z"
   },
   {
    "duration": 20,
    "start_time": "2022-06-12T12:26:15.400Z"
   },
   {
    "duration": 7,
    "start_time": "2022-06-12T12:27:02.331Z"
   },
   {
    "duration": 23,
    "start_time": "2022-06-12T12:27:46.057Z"
   },
   {
    "duration": 5,
    "start_time": "2022-06-12T12:28:18.007Z"
   },
   {
    "duration": 17,
    "start_time": "2022-06-12T12:28:39.626Z"
   },
   {
    "duration": 25,
    "start_time": "2022-06-12T12:28:49.751Z"
   },
   {
    "duration": 1123,
    "start_time": "2022-06-12T12:29:19.037Z"
   },
   {
    "duration": 243,
    "start_time": "2022-06-12T12:29:20.162Z"
   },
   {
    "duration": 3,
    "start_time": "2022-06-12T12:29:20.407Z"
   },
   {
    "duration": 19,
    "start_time": "2022-06-12T12:29:20.412Z"
   },
   {
    "duration": 6,
    "start_time": "2022-06-12T12:29:20.433Z"
   },
   {
    "duration": 77,
    "start_time": "2022-06-12T12:29:20.471Z"
   },
   {
    "duration": 30,
    "start_time": "2022-06-12T12:29:20.675Z"
   },
   {
    "duration": 6,
    "start_time": "2022-06-12T12:29:21.802Z"
   },
   {
    "duration": 34,
    "start_time": "2022-06-12T12:29:22.210Z"
   },
   {
    "duration": 16,
    "start_time": "2022-06-12T12:29:22.459Z"
   },
   {
    "duration": 9,
    "start_time": "2022-06-12T12:29:22.967Z"
   },
   {
    "duration": 19,
    "start_time": "2022-06-12T12:29:23.292Z"
   },
   {
    "duration": 31,
    "start_time": "2022-06-12T12:29:23.603Z"
   },
   {
    "duration": 18,
    "start_time": "2022-06-12T12:29:23.774Z"
   },
   {
    "duration": 12,
    "start_time": "2022-06-12T12:29:23.957Z"
   },
   {
    "duration": 31,
    "start_time": "2022-06-12T12:29:24.091Z"
   },
   {
    "duration": 18,
    "start_time": "2022-06-12T12:29:24.276Z"
   },
   {
    "duration": 18,
    "start_time": "2022-06-12T12:29:24.419Z"
   },
   {
    "duration": 8,
    "start_time": "2022-06-12T12:29:24.868Z"
   },
   {
    "duration": 34,
    "start_time": "2022-06-12T12:29:25.161Z"
   },
   {
    "duration": 4,
    "start_time": "2022-06-12T12:29:26.270Z"
   },
   {
    "duration": 6,
    "start_time": "2022-06-12T12:29:26.591Z"
   },
   {
    "duration": 3,
    "start_time": "2022-06-12T12:29:27.331Z"
   },
   {
    "duration": 2039,
    "start_time": "2022-06-12T12:29:27.434Z"
   },
   {
    "duration": 3,
    "start_time": "2022-06-12T12:29:29.475Z"
   },
   {
    "duration": 3800,
    "start_time": "2022-06-12T12:29:29.480Z"
   },
   {
    "duration": 970,
    "start_time": "2022-06-12T12:29:33.282Z"
   },
   {
    "duration": 1898,
    "start_time": "2022-06-12T12:29:34.254Z"
   },
   {
    "duration": 12,
    "start_time": "2022-06-12T12:29:36.154Z"
   },
   {
    "duration": 14,
    "start_time": "2022-06-12T12:29:36.167Z"
   },
   {
    "duration": 81,
    "start_time": "2022-06-12T12:29:36.182Z"
   },
   {
    "duration": 4,
    "start_time": "2022-06-12T12:29:36.264Z"
   },
   {
    "duration": 72,
    "start_time": "2022-06-12T12:29:36.270Z"
   },
   {
    "duration": 51,
    "start_time": "2022-06-12T12:29:36.343Z"
   },
   {
    "duration": 74,
    "start_time": "2022-06-12T12:29:36.396Z"
   },
   {
    "duration": 24,
    "start_time": "2022-06-12T12:29:36.471Z"
   },
   {
    "duration": 246,
    "start_time": "2022-06-12T12:29:36.496Z"
   },
   {
    "duration": 33,
    "start_time": "2022-06-12T12:29:36.744Z"
   },
   {
    "duration": 92,
    "start_time": "2022-06-12T12:29:36.779Z"
   },
   {
    "duration": 37,
    "start_time": "2022-06-12T12:29:36.872Z"
   },
   {
    "duration": 20,
    "start_time": "2022-06-12T12:29:36.926Z"
   },
   {
    "duration": 16,
    "start_time": "2022-06-12T12:29:36.948Z"
   },
   {
    "duration": 3,
    "start_time": "2022-06-12T12:29:36.965Z"
   },
   {
    "duration": 4,
    "start_time": "2022-06-12T12:29:37.284Z"
   },
   {
    "duration": 3,
    "start_time": "2022-06-12T12:29:37.835Z"
   },
   {
    "duration": 26,
    "start_time": "2022-06-12T12:29:38.568Z"
   },
   {
    "duration": 29,
    "start_time": "2022-06-12T12:29:39.171Z"
   },
   {
    "duration": 16,
    "start_time": "2022-06-12T12:29:39.856Z"
   },
   {
    "duration": 47,
    "start_time": "2022-06-12T12:29:40.030Z"
   },
   {
    "duration": 21,
    "start_time": "2022-06-12T12:29:42.793Z"
   },
   {
    "duration": 34,
    "start_time": "2022-06-12T12:29:43.101Z"
   },
   {
    "duration": 25,
    "start_time": "2022-06-12T12:29:43.408Z"
   },
   {
    "duration": 64,
    "start_time": "2022-06-12T12:29:43.922Z"
   },
   {
    "duration": 10,
    "start_time": "2022-06-12T12:29:44.499Z"
   },
   {
    "duration": 18,
    "start_time": "2022-06-12T12:29:44.828Z"
   },
   {
    "duration": 32,
    "start_time": "2022-06-12T12:29:45.240Z"
   },
   {
    "duration": 50,
    "start_time": "2022-06-12T12:29:45.644Z"
   },
   {
    "duration": 87,
    "start_time": "2022-06-12T12:29:45.852Z"
   },
   {
    "duration": 5,
    "start_time": "2022-06-12T12:29:46.443Z"
   },
   {
    "duration": 21,
    "start_time": "2022-06-12T12:29:46.663Z"
   },
   {
    "duration": 2,
    "start_time": "2022-06-12T12:29:47.678Z"
   },
   {
    "duration": 2,
    "start_time": "2022-06-12T12:29:48.176Z"
   },
   {
    "duration": 43,
    "start_time": "2022-06-12T12:29:48.909Z"
   },
   {
    "duration": 19,
    "start_time": "2022-06-12T12:29:49.812Z"
   },
   {
    "duration": 8,
    "start_time": "2022-06-12T12:29:50.017Z"
   },
   {
    "duration": 11,
    "start_time": "2022-06-12T12:29:50.266Z"
   },
   {
    "duration": 2,
    "start_time": "2022-06-12T12:29:54.775Z"
   },
   {
    "duration": 100,
    "start_time": "2022-06-12T12:29:54.982Z"
   },
   {
    "duration": 4,
    "start_time": "2022-06-12T12:29:55.189Z"
   },
   {
    "duration": 9944,
    "start_time": "2022-06-12T12:29:56.004Z"
   },
   {
    "duration": 4215,
    "start_time": "2022-06-12T12:30:05.950Z"
   },
   {
    "duration": 3,
    "start_time": "2022-06-12T12:30:10.168Z"
   },
   {
    "duration": 7,
    "start_time": "2022-06-12T12:30:10.174Z"
   },
   {
    "duration": 19,
    "start_time": "2022-06-12T12:30:10.183Z"
   },
   {
    "duration": 30,
    "start_time": "2022-06-12T12:30:10.203Z"
   },
   {
    "duration": 26,
    "start_time": "2022-06-12T12:30:10.236Z"
   },
   {
    "duration": 22,
    "start_time": "2022-06-12T12:30:10.264Z"
   },
   {
    "duration": 10,
    "start_time": "2022-06-12T12:30:10.287Z"
   },
   {
    "duration": 24,
    "start_time": "2022-06-12T12:30:10.299Z"
   },
   {
    "duration": 58,
    "start_time": "2022-06-12T12:30:10.325Z"
   },
   {
    "duration": 4131,
    "start_time": "2022-06-12T12:30:10.385Z"
   },
   {
    "duration": 32,
    "start_time": "2022-06-12T12:30:14.525Z"
   },
   {
    "duration": 27,
    "start_time": "2022-06-12T12:30:25.598Z"
   },
   {
    "duration": 8,
    "start_time": "2022-06-12T12:30:33.881Z"
   },
   {
    "duration": 10,
    "start_time": "2022-06-12T12:30:56.932Z"
   },
   {
    "duration": 6,
    "start_time": "2022-06-12T12:31:15.978Z"
   },
   {
    "duration": 7,
    "start_time": "2022-06-12T12:31:24.887Z"
   },
   {
    "duration": 13,
    "start_time": "2022-06-12T12:31:44.549Z"
   },
   {
    "duration": 9,
    "start_time": "2022-06-12T12:31:59.092Z"
   },
   {
    "duration": 225,
    "start_time": "2022-06-12T12:33:44.050Z"
   },
   {
    "duration": 8,
    "start_time": "2022-06-12T12:33:49.990Z"
   },
   {
    "duration": 10,
    "start_time": "2022-06-12T12:34:45.900Z"
   },
   {
    "duration": 26,
    "start_time": "2022-06-12T12:35:48.469Z"
   },
   {
    "duration": 19,
    "start_time": "2022-06-12T12:36:44.790Z"
   },
   {
    "duration": 8,
    "start_time": "2022-06-12T12:39:32.936Z"
   },
   {
    "duration": 9,
    "start_time": "2022-06-12T12:39:41.737Z"
   },
   {
    "duration": 19,
    "start_time": "2022-06-12T12:40:23.723Z"
   },
   {
    "duration": 37,
    "start_time": "2022-06-12T12:40:40.002Z"
   },
   {
    "duration": 16,
    "start_time": "2022-06-12T12:40:55.773Z"
   },
   {
    "duration": 17,
    "start_time": "2022-06-12T12:41:03.964Z"
   },
   {
    "duration": 22,
    "start_time": "2022-06-12T12:41:13.591Z"
   },
   {
    "duration": 15,
    "start_time": "2022-06-12T12:41:22.397Z"
   },
   {
    "duration": 30,
    "start_time": "2022-06-12T12:41:35.197Z"
   },
   {
    "duration": 7,
    "start_time": "2022-06-12T12:43:35.928Z"
   },
   {
    "duration": 8,
    "start_time": "2022-06-12T12:43:44.954Z"
   },
   {
    "duration": 18,
    "start_time": "2022-06-12T12:43:52.312Z"
   },
   {
    "duration": 20,
    "start_time": "2022-06-12T12:43:59.377Z"
   },
   {
    "duration": 14,
    "start_time": "2022-06-12T12:44:03.687Z"
   },
   {
    "duration": 1055,
    "start_time": "2022-06-12T12:44:29.686Z"
   },
   {
    "duration": 474,
    "start_time": "2022-06-12T12:44:30.743Z"
   },
   {
    "duration": 3,
    "start_time": "2022-06-12T12:44:31.218Z"
   },
   {
    "duration": 27,
    "start_time": "2022-06-12T12:44:31.222Z"
   },
   {
    "duration": 13,
    "start_time": "2022-06-12T12:44:31.250Z"
   },
   {
    "duration": 79,
    "start_time": "2022-06-12T12:44:31.265Z"
   },
   {
    "duration": 24,
    "start_time": "2022-06-12T12:44:31.345Z"
   },
   {
    "duration": 7,
    "start_time": "2022-06-12T12:44:31.528Z"
   },
   {
    "duration": 34,
    "start_time": "2022-06-12T12:44:31.836Z"
   },
   {
    "duration": 16,
    "start_time": "2022-06-12T12:44:32.079Z"
   },
   {
    "duration": 8,
    "start_time": "2022-06-12T12:44:32.525Z"
   },
   {
    "duration": 18,
    "start_time": "2022-06-12T12:44:32.842Z"
   },
   {
    "duration": 28,
    "start_time": "2022-06-12T12:44:33.196Z"
   },
   {
    "duration": 17,
    "start_time": "2022-06-12T12:44:33.365Z"
   },
   {
    "duration": 11,
    "start_time": "2022-06-12T12:44:33.565Z"
   },
   {
    "duration": 29,
    "start_time": "2022-06-12T12:44:34.253Z"
   },
   {
    "duration": 17,
    "start_time": "2022-06-12T12:44:34.660Z"
   },
   {
    "duration": 17,
    "start_time": "2022-06-12T12:44:35.135Z"
   },
   {
    "duration": 11,
    "start_time": "2022-06-12T12:44:36.649Z"
   },
   {
    "duration": 30,
    "start_time": "2022-06-12T12:44:37.466Z"
   },
   {
    "duration": 35,
    "start_time": "2022-06-12T12:44:54.773Z"
   },
   {
    "duration": 33,
    "start_time": "2022-06-12T12:44:59.177Z"
   },
   {
    "duration": 3,
    "start_time": "2022-06-12T12:45:04.604Z"
   },
   {
    "duration": 48,
    "start_time": "2022-06-12T12:45:10.338Z"
   },
   {
    "duration": 19,
    "start_time": "2022-06-12T12:45:12.079Z"
   },
   {
    "duration": 26,
    "start_time": "2022-06-12T12:45:16.597Z"
   },
   {
    "duration": 11,
    "start_time": "2022-06-12T12:45:22.934Z"
   },
   {
    "duration": 51,
    "start_time": "2022-06-12T12:45:23.548Z"
   },
   {
    "duration": 25,
    "start_time": "2022-06-12T12:47:57.150Z"
   },
   {
    "duration": 11,
    "start_time": "2022-06-12T12:49:40.165Z"
   },
   {
    "duration": 103,
    "start_time": "2022-06-12T12:50:33.823Z"
   },
   {
    "duration": 8,
    "start_time": "2022-06-12T12:51:03.929Z"
   },
   {
    "duration": 10,
    "start_time": "2022-06-12T12:51:43.660Z"
   },
   {
    "duration": 3,
    "start_time": "2022-06-12T12:52:12.946Z"
   },
   {
    "duration": 5,
    "start_time": "2022-06-12T12:52:20.831Z"
   },
   {
    "duration": 5,
    "start_time": "2022-06-12T12:52:31.138Z"
   },
   {
    "duration": 18,
    "start_time": "2022-06-12T12:53:29.255Z"
   },
   {
    "duration": 21,
    "start_time": "2022-06-12T12:53:33.332Z"
   },
   {
    "duration": 19,
    "start_time": "2022-06-12T12:54:15.726Z"
   },
   {
    "duration": 17,
    "start_time": "2022-06-12T12:54:44.398Z"
   },
   {
    "duration": 9,
    "start_time": "2022-06-12T12:55:15.528Z"
   },
   {
    "duration": 7,
    "start_time": "2022-06-12T12:55:42.152Z"
   },
   {
    "duration": 54,
    "start_time": "2022-06-12T12:57:43.191Z"
   },
   {
    "duration": 25,
    "start_time": "2022-06-12T12:57:54.045Z"
   },
   {
    "duration": 7,
    "start_time": "2022-06-12T12:58:51.185Z"
   },
   {
    "duration": 9,
    "start_time": "2022-06-12T12:59:11.665Z"
   },
   {
    "duration": 8,
    "start_time": "2022-06-12T12:59:24.875Z"
   },
   {
    "duration": 1057,
    "start_time": "2022-06-12T13:00:16.889Z"
   },
   {
    "duration": 394,
    "start_time": "2022-06-12T13:00:17.948Z"
   },
   {
    "duration": 4,
    "start_time": "2022-06-12T13:00:18.344Z"
   },
   {
    "duration": 84,
    "start_time": "2022-06-12T13:00:18.350Z"
   },
   {
    "duration": 9,
    "start_time": "2022-06-12T13:00:18.436Z"
   },
   {
    "duration": 229,
    "start_time": "2022-06-12T13:00:18.446Z"
   },
   {
    "duration": 40,
    "start_time": "2022-06-12T13:00:19.705Z"
   },
   {
    "duration": 8,
    "start_time": "2022-06-12T13:00:19.747Z"
   },
   {
    "duration": 98,
    "start_time": "2022-06-12T13:00:19.758Z"
   },
   {
    "duration": 76,
    "start_time": "2022-06-12T13:00:19.858Z"
   },
   {
    "duration": 8,
    "start_time": "2022-06-12T13:00:26.195Z"
   },
   {
    "duration": 35,
    "start_time": "2022-06-12T13:00:26.205Z"
   },
   {
    "duration": 38,
    "start_time": "2022-06-12T13:00:26.244Z"
   },
   {
    "duration": 53,
    "start_time": "2022-06-12T13:00:26.284Z"
   },
   {
    "duration": 17,
    "start_time": "2022-06-12T13:00:26.342Z"
   },
   {
    "duration": 34,
    "start_time": "2022-06-12T13:00:26.360Z"
   },
   {
    "duration": 35,
    "start_time": "2022-06-12T13:00:26.396Z"
   },
   {
    "duration": 38,
    "start_time": "2022-06-12T13:00:26.433Z"
   },
   {
    "duration": 28,
    "start_time": "2022-06-12T13:00:26.473Z"
   },
   {
    "duration": 63,
    "start_time": "2022-06-12T13:00:26.503Z"
   },
   {
    "duration": 11,
    "start_time": "2022-06-12T13:00:26.568Z"
   },
   {
    "duration": 57,
    "start_time": "2022-06-12T13:00:26.581Z"
   },
   {
    "duration": 49,
    "start_time": "2022-06-12T13:00:26.640Z"
   },
   {
    "duration": 2302,
    "start_time": "2022-06-12T13:00:26.694Z"
   },
   {
    "duration": 3,
    "start_time": "2022-06-12T13:00:28.998Z"
   },
   {
    "duration": 3888,
    "start_time": "2022-06-12T13:00:29.003Z"
   },
   {
    "duration": 961,
    "start_time": "2022-06-12T13:00:32.892Z"
   },
   {
    "duration": 2081,
    "start_time": "2022-06-12T13:00:33.855Z"
   },
   {
    "duration": 18,
    "start_time": "2022-06-12T13:00:35.941Z"
   },
   {
    "duration": 14,
    "start_time": "2022-06-12T13:00:35.961Z"
   },
   {
    "duration": 106,
    "start_time": "2022-06-12T13:00:35.976Z"
   },
   {
    "duration": 4,
    "start_time": "2022-06-12T13:00:36.084Z"
   },
   {
    "duration": 88,
    "start_time": "2022-06-12T13:00:36.090Z"
   },
   {
    "duration": 75,
    "start_time": "2022-06-12T13:00:36.180Z"
   },
   {
    "duration": 79,
    "start_time": "2022-06-12T13:00:36.257Z"
   },
   {
    "duration": 26,
    "start_time": "2022-06-12T13:00:36.338Z"
   },
   {
    "duration": 234,
    "start_time": "2022-06-12T13:00:36.367Z"
   },
   {
    "duration": 50,
    "start_time": "2022-06-12T13:00:36.603Z"
   },
   {
    "duration": 107,
    "start_time": "2022-06-12T13:00:36.655Z"
   },
   {
    "duration": 39,
    "start_time": "2022-06-12T13:00:36.764Z"
   },
   {
    "duration": 36,
    "start_time": "2022-06-12T13:00:36.804Z"
   },
   {
    "duration": 22,
    "start_time": "2022-06-12T13:00:36.844Z"
   },
   {
    "duration": 7,
    "start_time": "2022-06-12T13:00:36.868Z"
   },
   {
    "duration": 4,
    "start_time": "2022-06-12T13:00:37.049Z"
   },
   {
    "duration": 4,
    "start_time": "2022-06-12T13:00:37.525Z"
   },
   {
    "duration": 20,
    "start_time": "2022-06-12T13:00:38.396Z"
   },
   {
    "duration": 32,
    "start_time": "2022-06-12T13:00:38.877Z"
   },
   {
    "duration": 17,
    "start_time": "2022-06-12T13:00:39.328Z"
   },
   {
    "duration": 51,
    "start_time": "2022-06-12T13:00:39.546Z"
   },
   {
    "duration": 19,
    "start_time": "2022-06-12T13:00:41.565Z"
   },
   {
    "duration": 36,
    "start_time": "2022-06-12T13:00:41.959Z"
   },
   {
    "duration": 25,
    "start_time": "2022-06-12T13:00:42.497Z"
   },
   {
    "duration": 70,
    "start_time": "2022-06-12T13:00:43.317Z"
   },
   {
    "duration": 10,
    "start_time": "2022-06-12T13:00:44.517Z"
   },
   {
    "duration": 26,
    "start_time": "2022-06-12T13:00:44.829Z"
   },
   {
    "duration": 35,
    "start_time": "2022-06-12T13:00:45.319Z"
   },
   {
    "duration": 50,
    "start_time": "2022-06-12T13:00:45.740Z"
   },
   {
    "duration": 98,
    "start_time": "2022-06-12T13:00:45.960Z"
   },
   {
    "duration": 4,
    "start_time": "2022-06-12T13:00:46.800Z"
   },
   {
    "duration": 16,
    "start_time": "2022-06-12T13:00:47.105Z"
   },
   {
    "duration": 2,
    "start_time": "2022-06-12T13:00:48.608Z"
   },
   {
    "duration": 3,
    "start_time": "2022-06-12T13:00:49.549Z"
   },
   {
    "duration": 54,
    "start_time": "2022-06-12T13:00:50.996Z"
   },
   {
    "duration": 21,
    "start_time": "2022-06-12T13:00:52.944Z"
   },
   {
    "duration": 6,
    "start_time": "2022-06-12T13:00:53.455Z"
   },
   {
    "duration": 13,
    "start_time": "2022-06-12T13:01:02.772Z"
   },
   {
    "duration": 35,
    "start_time": "2022-06-12T13:01:43.119Z"
   },
   {
    "duration": 17,
    "start_time": "2022-06-12T13:02:24.283Z"
   },
   {
    "duration": 11,
    "start_time": "2022-06-12T13:23:53.000Z"
   },
   {
    "duration": 12,
    "start_time": "2022-06-12T13:24:38.773Z"
   },
   {
    "duration": 10,
    "start_time": "2022-06-12T13:25:22.293Z"
   },
   {
    "duration": 27,
    "start_time": "2022-06-12T13:25:47.484Z"
   },
   {
    "duration": 12,
    "start_time": "2022-06-12T13:25:56.803Z"
   },
   {
    "duration": 9,
    "start_time": "2022-06-12T13:27:23.127Z"
   },
   {
    "duration": 33,
    "start_time": "2022-06-12T13:28:54.057Z"
   },
   {
    "duration": 18,
    "start_time": "2022-06-12T13:30:02.360Z"
   },
   {
    "duration": 157,
    "start_time": "2022-06-12T13:31:23.769Z"
   },
   {
    "duration": 32,
    "start_time": "2022-06-12T13:35:29.471Z"
   },
   {
    "duration": 39,
    "start_time": "2022-06-12T13:35:54.416Z"
   },
   {
    "duration": 33,
    "start_time": "2022-06-12T13:37:29.751Z"
   },
   {
    "duration": 11,
    "start_time": "2022-06-12T13:38:00.265Z"
   },
   {
    "duration": 19,
    "start_time": "2022-06-12T13:38:29.962Z"
   },
   {
    "duration": 19,
    "start_time": "2022-06-12T13:38:44.298Z"
   },
   {
    "duration": 6,
    "start_time": "2022-06-12T13:39:00.171Z"
   },
   {
    "duration": 15,
    "start_time": "2022-06-12T13:39:11.332Z"
   },
   {
    "duration": 33,
    "start_time": "2022-06-12T13:39:43.793Z"
   },
   {
    "duration": 14,
    "start_time": "2022-06-12T13:39:45.125Z"
   },
   {
    "duration": 36,
    "start_time": "2022-06-12T13:44:40.039Z"
   },
   {
    "duration": 42,
    "start_time": "2022-06-12T13:46:10.049Z"
   },
   {
    "duration": 19,
    "start_time": "2022-06-12T13:48:21.430Z"
   },
   {
    "duration": 5,
    "start_time": "2022-06-12T13:48:46.723Z"
   },
   {
    "duration": 17,
    "start_time": "2022-06-12T13:49:09.750Z"
   },
   {
    "duration": 20,
    "start_time": "2022-06-12T13:49:30.869Z"
   },
   {
    "duration": 25,
    "start_time": "2022-06-12T13:49:40.995Z"
   },
   {
    "duration": 14,
    "start_time": "2022-06-12T13:51:40.190Z"
   },
   {
    "duration": 6,
    "start_time": "2022-06-12T13:51:47.357Z"
   },
   {
    "duration": 5,
    "start_time": "2022-06-12T13:51:53.707Z"
   },
   {
    "duration": 5,
    "start_time": "2022-06-12T14:09:30.643Z"
   }
  ],
  "kernelspec": {
   "display_name": "Python 3 (ipykernel)",
   "language": "python",
   "name": "python3"
  },
  "language_info": {
   "codemirror_mode": {
    "name": "ipython",
    "version": 3
   },
   "file_extension": ".py",
   "mimetype": "text/x-python",
   "name": "python",
   "nbconvert_exporter": "python",
   "pygments_lexer": "ipython3",
   "version": "3.9.7"
  },
  "toc": {
   "base_numbering": 1,
   "nav_menu": {},
   "number_sections": true,
   "sideBar": true,
   "skip_h1_title": true,
   "title_cell": "Table of Contents",
   "title_sidebar": "Contents",
   "toc_cell": true,
   "toc_position": {
    "height": "calc(100% - 180px)",
    "left": "10px",
    "top": "150px",
    "width": "349.394px"
   },
   "toc_section_display": true,
   "toc_window_display": false
  }
 },
 "nbformat": 4,
 "nbformat_minor": 2
}
